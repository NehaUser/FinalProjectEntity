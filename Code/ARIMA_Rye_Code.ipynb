{
 "cells": [
  {
   "cell_type": "markdown",
   "id": "f31d12aa",
   "metadata": {},
   "source": [
    "### ARIMA Forecasting on Rye Production till 2025, and Honey Production Prediction for 2023\n"
   ]
  },
  {
   "cell_type": "code",
   "execution_count": 37,
   "id": "717d1bbe-5d16-4c70-9ffa-9c399c3c032c",
   "metadata": {
    "tags": []
   },
   "outputs": [],
   "source": [
    "# Load Libraries\n",
    "\n",
    "import pandas as pd\n",
    "import numpy as np\n",
    "import pmdarima as pm\n",
    "from pmdarima.arima import auto_arima\n",
    "from pmdarima.arima import ADFTest\n",
    "import matplotlib.pyplot as plt\n",
    "from matplotlib import pyplot\n",
    "from math import sqrt\n",
    "from numpy import split\n",
    "from numpy import array\n",
    "import statsmodels\n",
    "from statsmodels.tsa.arima.model import ARIMA\n",
    "from statsmodels.tsa.seasonal import seasonal_decompose\n",
    "from statsmodels.tsa.stattools import adfuller\n",
    "from statsmodels.graphics.tsaplots import plot_acf, plot_pacf\n",
    "from sklearn.metrics import mean_squared_error\n",
    "from sklearn.metrics import r2_score\n",
    "from sympy.solvers import solve\n",
    "from sympy import Symbol\n",
    "from pandas import DataFrame\n",
    "from scipy.stats import boxcox\n",
    "from pandas.plotting import autocorrelation_plot"
   ]
  },
  {
   "cell_type": "code",
   "execution_count": 38,
   "id": "b72e2176-d2d4-4c41-894b-9a3cdc5335f5",
   "metadata": {
    "tags": []
   },
   "outputs": [
    {
     "data": {
      "text/html": [
       "<div>\n",
       "<style scoped>\n",
       "    .dataframe tbody tr th:only-of-type {\n",
       "        vertical-align: middle;\n",
       "    }\n",
       "\n",
       "    .dataframe tbody tr th {\n",
       "        vertical-align: top;\n",
       "    }\n",
       "\n",
       "    .dataframe thead th {\n",
       "        text-align: right;\n",
       "    }\n",
       "</style>\n",
       "<table border=\"1\" class=\"dataframe\">\n",
       "  <thead>\n",
       "    <tr style=\"text-align: right;\">\n",
       "      <th></th>\n",
       "      <th>Year</th>\n",
       "      <th>RyeProd</th>\n",
       "    </tr>\n",
       "  </thead>\n",
       "  <tbody>\n",
       "    <tr>\n",
       "      <th>0</th>\n",
       "      <td>1998</td>\n",
       "      <td>8758000</td>\n",
       "    </tr>\n",
       "    <tr>\n",
       "      <th>1</th>\n",
       "      <td>1999</td>\n",
       "      <td>8596000</td>\n",
       "    </tr>\n",
       "    <tr>\n",
       "      <th>2</th>\n",
       "      <td>2000</td>\n",
       "      <td>8691000</td>\n",
       "    </tr>\n",
       "    <tr>\n",
       "      <th>3</th>\n",
       "      <td>2001</td>\n",
       "      <td>8929000</td>\n",
       "    </tr>\n",
       "    <tr>\n",
       "      <th>4</th>\n",
       "      <td>2002</td>\n",
       "      <td>9056000</td>\n",
       "    </tr>\n",
       "    <tr>\n",
       "      <th>5</th>\n",
       "      <td>2003</td>\n",
       "      <td>11001000</td>\n",
       "    </tr>\n",
       "    <tr>\n",
       "      <th>6</th>\n",
       "      <td>2004</td>\n",
       "      <td>9392000</td>\n",
       "    </tr>\n",
       "    <tr>\n",
       "      <th>7</th>\n",
       "      <td>2005</td>\n",
       "      <td>496684000</td>\n",
       "    </tr>\n",
       "    <tr>\n",
       "      <th>8</th>\n",
       "      <td>2006</td>\n",
       "      <td>3797778000</td>\n",
       "    </tr>\n",
       "    <tr>\n",
       "      <th>9</th>\n",
       "      <td>2007</td>\n",
       "      <td>4408118000</td>\n",
       "    </tr>\n",
       "    <tr>\n",
       "      <th>10</th>\n",
       "      <td>2008</td>\n",
       "      <td>313949000</td>\n",
       "    </tr>\n",
       "    <tr>\n",
       "      <th>11</th>\n",
       "      <td>2009</td>\n",
       "      <td>4780600000</td>\n",
       "    </tr>\n",
       "    <tr>\n",
       "      <th>12</th>\n",
       "      <td>2010</td>\n",
       "      <td>4686927000</td>\n",
       "    </tr>\n",
       "    <tr>\n",
       "      <th>13</th>\n",
       "      <td>2011</td>\n",
       "      <td>4413590000</td>\n",
       "    </tr>\n",
       "    <tr>\n",
       "      <th>14</th>\n",
       "      <td>2012</td>\n",
       "      <td>4287898000</td>\n",
       "    </tr>\n",
       "    <tr>\n",
       "      <th>15</th>\n",
       "      <td>2013</td>\n",
       "      <td>4183525000</td>\n",
       "    </tr>\n",
       "    <tr>\n",
       "      <th>16</th>\n",
       "      <td>2014</td>\n",
       "      <td>743900000</td>\n",
       "    </tr>\n",
       "    <tr>\n",
       "      <th>17</th>\n",
       "      <td>2015</td>\n",
       "      <td>4327136000</td>\n",
       "    </tr>\n",
       "    <tr>\n",
       "      <th>18</th>\n",
       "      <td>2016</td>\n",
       "      <td>4287885000</td>\n",
       "    </tr>\n",
       "    <tr>\n",
       "      <th>19</th>\n",
       "      <td>2017</td>\n",
       "      <td>418212000</td>\n",
       "    </tr>\n",
       "    <tr>\n",
       "      <th>20</th>\n",
       "      <td>2018</td>\n",
       "      <td>929860000</td>\n",
       "    </tr>\n",
       "    <tr>\n",
       "      <th>21</th>\n",
       "      <td>2019</td>\n",
       "      <td>743891000</td>\n",
       "    </tr>\n",
       "    <tr>\n",
       "      <th>22</th>\n",
       "      <td>2020</td>\n",
       "      <td>4649323000</td>\n",
       "    </tr>\n",
       "    <tr>\n",
       "      <th>23</th>\n",
       "      <td>2021</td>\n",
       "      <td>97840000</td>\n",
       "    </tr>\n",
       "  </tbody>\n",
       "</table>\n",
       "</div>"
      ],
      "text/plain": [
       "    Year     RyeProd\n",
       "0   1998     8758000\n",
       "1   1999     8596000\n",
       "2   2000     8691000\n",
       "3   2001     8929000\n",
       "4   2002     9056000\n",
       "5   2003    11001000\n",
       "6   2004     9392000\n",
       "7   2005   496684000\n",
       "8   2006  3797778000\n",
       "9   2007  4408118000\n",
       "10  2008   313949000\n",
       "11  2009  4780600000\n",
       "12  2010  4686927000\n",
       "13  2011  4413590000\n",
       "14  2012  4287898000\n",
       "15  2013  4183525000\n",
       "16  2014   743900000\n",
       "17  2015  4327136000\n",
       "18  2016  4287885000\n",
       "19  2017   418212000\n",
       "20  2018   929860000\n",
       "21  2019   743891000\n",
       "22  2020  4649323000\n",
       "23  2021    97840000"
      ]
     },
     "execution_count": 38,
     "metadata": {},
     "output_type": "execute_result"
    }
   ],
   "source": [
    "# Importing dataframe\n",
    "\n",
    "Rye_Prod = pd.read_csv('../Data/RyeArima.csv')\n",
    "\n",
    "Rye_Prod"
   ]
  },
  {
   "cell_type": "code",
   "execution_count": 39,
   "id": "6738a84f-f895-479e-a897-2df2342b8712",
   "metadata": {
    "jupyter": {
     "outputs_hidden": true
    },
    "tags": []
   },
   "outputs": [
    {
     "data": {
      "text/html": [
       "<div>\n",
       "<style scoped>\n",
       "    .dataframe tbody tr th:only-of-type {\n",
       "        vertical-align: middle;\n",
       "    }\n",
       "\n",
       "    .dataframe tbody tr th {\n",
       "        vertical-align: top;\n",
       "    }\n",
       "\n",
       "    .dataframe thead th {\n",
       "        text-align: right;\n",
       "    }\n",
       "</style>\n",
       "<table border=\"1\" class=\"dataframe\">\n",
       "  <thead>\n",
       "    <tr style=\"text-align: right;\">\n",
       "      <th></th>\n",
       "      <th>Year</th>\n",
       "      <th>RyeProd</th>\n",
       "    </tr>\n",
       "  </thead>\n",
       "  <tbody>\n",
       "    <tr>\n",
       "      <th>0</th>\n",
       "      <td>1998-01-01</td>\n",
       "      <td>8758000</td>\n",
       "    </tr>\n",
       "    <tr>\n",
       "      <th>1</th>\n",
       "      <td>1999-01-01</td>\n",
       "      <td>8596000</td>\n",
       "    </tr>\n",
       "    <tr>\n",
       "      <th>2</th>\n",
       "      <td>2000-01-01</td>\n",
       "      <td>8691000</td>\n",
       "    </tr>\n",
       "    <tr>\n",
       "      <th>3</th>\n",
       "      <td>2001-01-01</td>\n",
       "      <td>8929000</td>\n",
       "    </tr>\n",
       "    <tr>\n",
       "      <th>4</th>\n",
       "      <td>2002-01-01</td>\n",
       "      <td>9056000</td>\n",
       "    </tr>\n",
       "    <tr>\n",
       "      <th>5</th>\n",
       "      <td>2003-01-01</td>\n",
       "      <td>11001000</td>\n",
       "    </tr>\n",
       "    <tr>\n",
       "      <th>6</th>\n",
       "      <td>2004-01-01</td>\n",
       "      <td>9392000</td>\n",
       "    </tr>\n",
       "    <tr>\n",
       "      <th>7</th>\n",
       "      <td>2005-01-01</td>\n",
       "      <td>496684000</td>\n",
       "    </tr>\n",
       "    <tr>\n",
       "      <th>8</th>\n",
       "      <td>2006-01-01</td>\n",
       "      <td>3797778000</td>\n",
       "    </tr>\n",
       "    <tr>\n",
       "      <th>9</th>\n",
       "      <td>2007-01-01</td>\n",
       "      <td>4408118000</td>\n",
       "    </tr>\n",
       "    <tr>\n",
       "      <th>10</th>\n",
       "      <td>2008-01-01</td>\n",
       "      <td>313949000</td>\n",
       "    </tr>\n",
       "    <tr>\n",
       "      <th>11</th>\n",
       "      <td>2009-01-01</td>\n",
       "      <td>4780600000</td>\n",
       "    </tr>\n",
       "    <tr>\n",
       "      <th>12</th>\n",
       "      <td>2010-01-01</td>\n",
       "      <td>4686927000</td>\n",
       "    </tr>\n",
       "    <tr>\n",
       "      <th>13</th>\n",
       "      <td>2011-01-01</td>\n",
       "      <td>4413590000</td>\n",
       "    </tr>\n",
       "    <tr>\n",
       "      <th>14</th>\n",
       "      <td>2012-01-01</td>\n",
       "      <td>4287898000</td>\n",
       "    </tr>\n",
       "    <tr>\n",
       "      <th>15</th>\n",
       "      <td>2013-01-01</td>\n",
       "      <td>4183525000</td>\n",
       "    </tr>\n",
       "    <tr>\n",
       "      <th>16</th>\n",
       "      <td>2014-01-01</td>\n",
       "      <td>743900000</td>\n",
       "    </tr>\n",
       "    <tr>\n",
       "      <th>17</th>\n",
       "      <td>2015-01-01</td>\n",
       "      <td>4327136000</td>\n",
       "    </tr>\n",
       "    <tr>\n",
       "      <th>18</th>\n",
       "      <td>2016-01-01</td>\n",
       "      <td>4287885000</td>\n",
       "    </tr>\n",
       "    <tr>\n",
       "      <th>19</th>\n",
       "      <td>2017-01-01</td>\n",
       "      <td>418212000</td>\n",
       "    </tr>\n",
       "    <tr>\n",
       "      <th>20</th>\n",
       "      <td>2018-01-01</td>\n",
       "      <td>929860000</td>\n",
       "    </tr>\n",
       "    <tr>\n",
       "      <th>21</th>\n",
       "      <td>2019-01-01</td>\n",
       "      <td>743891000</td>\n",
       "    </tr>\n",
       "    <tr>\n",
       "      <th>22</th>\n",
       "      <td>2020-01-01</td>\n",
       "      <td>4649323000</td>\n",
       "    </tr>\n",
       "    <tr>\n",
       "      <th>23</th>\n",
       "      <td>2021-01-01</td>\n",
       "      <td>97840000</td>\n",
       "    </tr>\n",
       "  </tbody>\n",
       "</table>\n",
       "</div>"
      ],
      "text/plain": [
       "         Year     RyeProd\n",
       "0  1998-01-01     8758000\n",
       "1  1999-01-01     8596000\n",
       "2  2000-01-01     8691000\n",
       "3  2001-01-01     8929000\n",
       "4  2002-01-01     9056000\n",
       "5  2003-01-01    11001000\n",
       "6  2004-01-01     9392000\n",
       "7  2005-01-01   496684000\n",
       "8  2006-01-01  3797778000\n",
       "9  2007-01-01  4408118000\n",
       "10 2008-01-01   313949000\n",
       "11 2009-01-01  4780600000\n",
       "12 2010-01-01  4686927000\n",
       "13 2011-01-01  4413590000\n",
       "14 2012-01-01  4287898000\n",
       "15 2013-01-01  4183525000\n",
       "16 2014-01-01   743900000\n",
       "17 2015-01-01  4327136000\n",
       "18 2016-01-01  4287885000\n",
       "19 2017-01-01   418212000\n",
       "20 2018-01-01   929860000\n",
       "21 2019-01-01   743891000\n",
       "22 2020-01-01  4649323000\n",
       "23 2021-01-01    97840000"
      ]
     },
     "execution_count": 39,
     "metadata": {},
     "output_type": "execute_result"
    }
   ],
   "source": [
    "# Formatting Year to date datatype \n",
    "\n",
    "Rye_Prod['Year'] = pd.to_datetime(Rye_Prod['Year'], format='%Y')\n",
    "Rye_Prod"
   ]
  },
  {
   "cell_type": "code",
   "execution_count": 40,
   "id": "308f1ee1-9454-4758-8375-6e1d41aa1a32",
   "metadata": {
    "jupyter": {
     "outputs_hidden": true
    },
    "tags": []
   },
   "outputs": [],
   "source": [
    "## Setting Year as index\n",
    "\n",
    "Rye_Prod.set_index('Year', inplace=True)\n"
   ]
  },
  {
   "cell_type": "code",
   "execution_count": 41,
   "id": "fc2df5d3",
   "metadata": {},
   "outputs": [],
   "source": [
    "# Power Transforms\n",
    "\n",
    "# Box-Cox Transform\n",
    "\n",
    "# It can be thought of as a power tool to iron out power-based change in your time series. \n",
    "# The resulting series may be more linear and the resulting distribution more Gaussian or Uniform, \n",
    "# depending on the underlying process that generated it. The scipy.stats library provides an implementation \n",
    "# of the Box-Cox transform. The boxcox() function3 takes an argument, called lambda, \n",
    "# that controls the type of transform to perform.\n",
    "# Below are some common values for lambda:\n",
    "# 􏰀 lambda = -1. is a reciprocal transform.\n",
    "# 􏰀 lambda = -0.5 is a reciprocal square root transform.\n",
    "# 􏰀 lambda = 0.0 is a log transform.\n",
    "# 􏰀 lambda = 0.5 is a square root transform.\n",
    "# 􏰀 lambda = 1.0 is no transform.\n",
    "\n",
    "#  We can set the lambda parameter to None (the default) and let the function find a statistically tuned value.\n",
    "# The following example demonstrates this usage, returning both the transformed dataset and the \n",
    "# chosen lambda value."
   ]
  },
  {
   "cell_type": "code",
   "execution_count": 42,
   "id": "31456ecc",
   "metadata": {},
   "outputs": [
    {
     "name": "stdout",
     "output_type": "stream",
     "text": [
      "Lambda: 0.176578\n"
     ]
    }
   ],
   "source": [
    "# Box Cox for Rye\n",
    "\n",
    "X = Rye_Prod.values\n",
    "\n",
    "dataframeB = DataFrame(X)\n",
    "dataframeB.columns = ['RyeProd']\n",
    "dataframeB['RyeProd'], lam = boxcox(dataframeB['RyeProd'])\n",
    "print('Lambda: %f' % lam)"
   ]
  },
  {
   "cell_type": "code",
   "execution_count": 43,
   "id": "28fa2b62",
   "metadata": {},
   "outputs": [],
   "source": [
    "# Running the example discovers the lambda value of .17. \n",
    "# We can see that this is very close to a lambda value of 0; So we need log transform ideally."
   ]
  },
  {
   "cell_type": "code",
   "execution_count": 44,
   "id": "bec22d63-aec8-42b7-ae53-b36877b3072b",
   "metadata": {
    "tags": []
   },
   "outputs": [
    {
     "data": {
      "image/png": "[encoded data removed]",
      "text/plain": [
       "<Figure size 432x288 with 1 Axes>"
      ]
     },
     "metadata": {
      "needs_background": "light"
     },
     "output_type": "display_data"
    }
   ],
   "source": [
    "# Line Plot\n",
    "\n",
    "Rye_Prod.plot()\n",
    "pyplot.show()"
   ]
  },
  {
   "cell_type": "code",
   "execution_count": 45,
   "id": "9c165c79",
   "metadata": {},
   "outputs": [
    {
     "data": {
      "text/plain": [
       "{'adf': -3.255683722779796,\n",
       " 'pvalue': 0.01697942300897568,\n",
       " 'usedlag': 9,\n",
       " 'nobs': 14,\n",
       " 'criticalvalues': {'1%': -4.01203360058309,\n",
       "  '5%': -3.1041838775510207,\n",
       "  '10%': -2.6909873469387753},\n",
       " 'icbest': 620.1809492433262}"
      ]
     },
     "execution_count": 45,
     "metadata": {},
     "output_type": "execute_result"
    }
   ],
   "source": [
    "# Stationary Time Series and Forecasting\n",
    "\n",
    "# If we fit a stationary model to data, we assume our data are a realization of a stationary process. \n",
    "# So our first step in an analysis should be to check whether there is any evidence of a trend or seasonal \n",
    "# effects and, if there is, remove them.\n",
    "\n",
    "# The null hypothesis of the ADF test is that the time series is non-stationary. \n",
    "# So, if the p-value of the test is less than the significance level (0.05) then you reject \n",
    "# the null hypothesis and infer that the time series is indeed stationary.\n",
    "\n",
    "# Augmented Dickey-Fuller test Rye\n",
    "\n",
    "X = Rye_Prod.values\n",
    "\n",
    "### ---- \n",
    "result = adfuller(X)\n",
    "\n",
    "dict(zip(['adf', 'pvalue', 'usedlag', 'nobs', 'critical' 'values', 'icbest'],result))"
   ]
  },
  {
   "cell_type": "code",
   "execution_count": 46,
   "id": "2847330f",
   "metadata": {},
   "outputs": [],
   "source": [
    "# As part of the output, we get a look-up table to help determine the ADF statistic. \n",
    "# We can see that our statistic value of -3.25 is larger than the 1% critical valueand smaller than others.\n",
    "# Meaning that we can say we fail to accept the null hypothesis and in turn that the time series is stationary."
   ]
  },
  {
   "cell_type": "code",
   "execution_count": 47,
   "id": "fe97cf24",
   "metadata": {},
   "outputs": [
    {
     "data": {
      "image/png": "[encoded data removed]",
      "text/plain": [
       "<Figure size 432x288 with 1 Axes>"
      ]
     },
     "metadata": {
      "needs_background": "light"
     },
     "output_type": "display_data"
    }
   ],
   "source": [
    "# create an autocorrelation plot Rye\n",
    "\n",
    "autocorrelation_plot(X)\n",
    "pyplot.show()"
   ]
  },
  {
   "cell_type": "code",
   "execution_count": 48,
   "id": "59a734c6",
   "metadata": {},
   "outputs": [],
   "source": [
    "# Model Evaluation\n",
    "# Train-Test Split\n",
    "\n",
    "# Depending on the amount of data we have available and the amount of data required, \n",
    "# we can use splits of 50-50, 70-30 and 90-10. It is straightforward to split data in Python."
   ]
  },
  {
   "cell_type": "code",
   "execution_count": 49,
   "id": "4476270d",
   "metadata": {},
   "outputs": [],
   "source": [
    "# Train-Test Split for Rye, 85-15(24 - 4 years)\n",
    "\n",
    "train = Rye_Prod[:20]\n",
    "test = Rye_Prod[-4:]\n"
   ]
  },
  {
   "cell_type": "code",
   "execution_count": 50,
   "id": "938632cd",
   "metadata": {},
   "outputs": [
    {
     "data": {
      "text/plain": [
       "[<matplotlib.lines.Line2D at 0x178c77a60>,\n",
       " <matplotlib.lines.Line2D at 0x178d67490>]"
      ]
     },
     "execution_count": 50,
     "metadata": {},
     "output_type": "execute_result"
    },
    {
     "data": {
      "image/png": "[encoded data removed]",
      "text/plain": [
       "<Figure size 432x288 with 1 Axes>"
      ]
     },
     "metadata": {
      "needs_background": "light"
     },
     "output_type": "display_data"
    }
   ],
   "source": [
    "# Plot the Training and Testing data\n",
    "\n",
    "pyplot.plot(train) + pyplot.plot(test)"
   ]
  },
  {
   "cell_type": "code",
   "execution_count": 51,
   "id": "457d4e18-7801-4446-b434-68206685dd72",
   "metadata": {},
   "outputs": [
    {
     "data": {
      "text/plain": [
       "ARIMA(order=(3, 0, 0), scoring_args={}, suppress_warnings=True,\n",
       "      with_intercept=False)"
      ]
     },
     "execution_count": 51,
     "metadata": {},
     "output_type": "execute_result"
    }
   ],
   "source": [
    "# Get p,d,q values \n",
    "\n",
    "modelRye = pm.auto_arima(Rye_Prod['RyeProd'], seasonal = False)\n",
    "\n",
    "modelRye"
   ]
  },
  {
   "cell_type": "code",
   "execution_count": 52,
   "id": "2695bcc1",
   "metadata": {},
   "outputs": [
    {
     "name": "stdout",
     "output_type": "stream",
     "text": [
      "                               SARIMAX Results                                \n",
      "==============================================================================\n",
      "Dep. Variable:                RyeProd   No. Observations:                   24\n",
      "Model:                 ARIMA(3, 0, 0)   Log Likelihood                -545.782\n",
      "Date:                Tue, 19 Jul 2022   AIC                           1101.564\n",
      "Time:                        22:14:01   BIC                           1107.454\n",
      "Sample:                    01-01-1998   HQIC                          1103.126\n",
      "                         - 01-01-2021                                         \n",
      "Covariance Type:                  opg                                         \n",
      "==============================================================================\n",
      "                 coef    std err          z      P>|z|      [0.025      0.975]\n",
      "------------------------------------------------------------------------------\n",
      "const       1.985e+09   1.52e-11    1.3e+20      0.000    1.98e+09    1.98e+09\n",
      "ar.L1          0.2549      0.216      1.182      0.237      -0.168       0.678\n",
      "ar.L2          0.0714      0.253      0.282      0.778      -0.424       0.567\n",
      "ar.L3          0.2887      0.248      1.165      0.244      -0.197       0.774\n",
      "sigma2      3.425e+18   2.79e-20   1.23e+38      0.000    3.42e+18    3.42e+18\n",
      "===================================================================================\n",
      "Ljung-Box (L1) (Q):                   0.06   Jarque-Bera (JB):                 1.97\n",
      "Prob(Q):                              0.80   Prob(JB):                         0.37\n",
      "Heteroskedasticity (H):               4.71   Skew:                             0.41\n",
      "Prob(H) (two-sided):                  0.04   Kurtosis:                         1.86\n",
      "===================================================================================\n",
      "\n",
      "Warnings:\n",
      "[1] Covariance matrix calculated using the outer product of gradients (complex-step).\n",
      "[2] Covariance matrix is singular or near-singular, with condition number 5.61e+55. Standard errors may be unstable.\n"
     ]
    },
    {
     "name": "stderr",
     "output_type": "stream",
     "text": [
      "/opt/homebrew/lib/python3.9/site-packages/statsmodels/tsa/base/tsa_model.py:471: ValueWarning: No frequency information was provided, so inferred frequency AS-JAN will be used.\n",
      "  self._init_dates(dates, freq)\n",
      "/opt/homebrew/lib/python3.9/site-packages/statsmodels/tsa/base/tsa_model.py:471: ValueWarning: No frequency information was provided, so inferred frequency AS-JAN will be used.\n",
      "  self._init_dates(dates, freq)\n",
      "/opt/homebrew/lib/python3.9/site-packages/statsmodels/tsa/base/tsa_model.py:471: ValueWarning: No frequency information was provided, so inferred frequency AS-JAN will be used.\n",
      "  self._init_dates(dates, freq)\n"
     ]
    }
   ],
   "source": [
    "# 3,0,0 ARIMA Model\n",
    "\n",
    "model1 = ARIMA(Rye_Prod['RyeProd'], order=(3,0,0))\n",
    "\n",
    "model_fit = model1.fit()\n",
    "\n",
    "print(model_fit.summary())"
   ]
  },
  {
   "cell_type": "code",
   "execution_count": 53,
   "id": "290f5957",
   "metadata": {},
   "outputs": [],
   "source": [
    "# the pvalue is greater than .05 for all three ar.L1, ar.L2 and ar.L3. So let's try we can try 0,1,1 fit model."
   ]
  },
  {
   "cell_type": "code",
   "execution_count": 54,
   "id": "e52e26fb",
   "metadata": {},
   "outputs": [
    {
     "name": "stdout",
     "output_type": "stream",
     "text": [
      "                               SARIMAX Results                                \n",
      "==============================================================================\n",
      "Dep. Variable:                RyeProd   No. Observations:                   24\n",
      "Model:                 ARIMA(0, 1, 1)   Log Likelihood                -524.576\n",
      "Date:                Tue, 19 Jul 2022   AIC                           1053.151\n",
      "Time:                        22:14:03   BIC                           1055.422\n",
      "Sample:                    01-01-1998   HQIC                          1053.722\n",
      "                         - 01-01-2021                                         \n",
      "Covariance Type:                  opg                                         \n",
      "==============================================================================\n",
      "                 coef    std err          z      P>|z|      [0.025      0.975]\n",
      "------------------------------------------------------------------------------\n",
      "ma.L1         -0.6217      0.183     -3.393      0.001      -0.981      -0.263\n",
      "sigma2      4.253e+18   4.68e-21   9.09e+38      0.000    4.25e+18    4.25e+18\n",
      "===================================================================================\n",
      "Ljung-Box (L1) (Q):                   0.22   Jarque-Bera (JB):                 0.36\n",
      "Prob(Q):                              0.64   Prob(JB):                         0.84\n",
      "Heteroskedasticity (H):               3.46   Skew:                            -0.11\n",
      "Prob(H) (two-sided):                  0.10   Kurtosis:                         2.43\n",
      "===================================================================================\n",
      "\n",
      "Warnings:\n",
      "[1] Covariance matrix calculated using the outer product of gradients (complex-step).\n",
      "[2] Covariance matrix is singular or near-singular, with condition number 5.37e+55. Standard errors may be unstable.\n"
     ]
    },
    {
     "name": "stderr",
     "output_type": "stream",
     "text": [
      "/opt/homebrew/lib/python3.9/site-packages/statsmodels/tsa/base/tsa_model.py:471: ValueWarning: No frequency information was provided, so inferred frequency AS-JAN will be used.\n",
      "  self._init_dates(dates, freq)\n",
      "/opt/homebrew/lib/python3.9/site-packages/statsmodels/tsa/base/tsa_model.py:471: ValueWarning: No frequency information was provided, so inferred frequency AS-JAN will be used.\n",
      "  self._init_dates(dates, freq)\n",
      "/opt/homebrew/lib/python3.9/site-packages/statsmodels/tsa/base/tsa_model.py:471: ValueWarning: No frequency information was provided, so inferred frequency AS-JAN will be used.\n",
      "  self._init_dates(dates, freq)\n"
     ]
    }
   ],
   "source": [
    "# 0,1,1 ARIMA Model\n",
    "\n",
    "model1 = ARIMA(Rye_Prod['RyeProd'], order=(0,1,1))\n",
    "\n",
    "model_fit = model1.fit()\n",
    "\n",
    "print(model_fit.summary())"
   ]
  },
  {
   "cell_type": "code",
   "execution_count": 55,
   "id": "304506dc",
   "metadata": {},
   "outputs": [],
   "source": [
    "# p-value <.05 for L1 so let's go with thi model."
   ]
  },
  {
   "cell_type": "code",
   "execution_count": 56,
   "id": "b104cebc",
   "metadata": {},
   "outputs": [
    {
     "name": "stdout",
     "output_type": "stream",
     "text": [
      "Performing stepwise search to minimize aic\n",
      " ARIMA(1,1,1)(0,0,0)[0] intercept   : AIC=873.543, Time=0.02 sec\n",
      " ARIMA(0,1,0)(0,0,0)[0] intercept   : AIC=874.522, Time=0.00 sec\n",
      " ARIMA(1,1,0)(0,0,0)[0] intercept   : AIC=873.731, Time=0.00 sec\n",
      " ARIMA(0,1,1)(0,0,0)[0] intercept   : AIC=871.992, Time=0.01 sec\n",
      " ARIMA(0,1,0)(0,0,0)[0]             : AIC=872.549, Time=0.00 sec\n",
      " ARIMA(0,1,2)(0,0,0)[0] intercept   : AIC=875.122, Time=0.01 sec\n",
      " ARIMA(1,1,2)(0,0,0)[0] intercept   : AIC=875.613, Time=0.02 sec\n",
      " ARIMA(0,1,1)(0,0,0)[0]             : AIC=869.841, Time=0.00 sec\n",
      " ARIMA(1,1,1)(0,0,0)[0]             : AIC=871.742, Time=0.01 sec\n",
      " ARIMA(0,1,2)(0,0,0)[0]             : AIC=871.783, Time=0.01 sec\n",
      " ARIMA(1,1,0)(0,0,0)[0]             : AIC=871.792, Time=0.00 sec\n",
      " ARIMA(1,1,2)(0,0,0)[0]             : AIC=873.625, Time=0.01 sec\n",
      "\n",
      "Best model:  ARIMA(0,1,1)(0,0,0)[0]          \n",
      "Total fit time: 0.099 seconds\n"
     ]
    },
    {
     "name": "stderr",
     "output_type": "stream",
     "text": [
      "/opt/homebrew/lib/python3.9/site-packages/pmdarima/arima/_validation.py:62: UserWarning: m (12) set for non-seasonal fit. Setting to 0\n",
      "  warnings.warn(\"m (%i) set for non-seasonal fit. Setting to 0\" % m)\n"
     ]
    }
   ],
   "source": [
    "# Manually Build Auto ARIMA model \n",
    "\n",
    "# 0,1,1 ARIMA Model\n",
    "\n",
    "\n",
    "Arima_Model =  auto_arima(train,start_p=1, d=1, start_q=1, \n",
    "                          max_p=5, max_d=5, max_q=5, start_P=0, \n",
    "                          D=1, start_Q = 1, max_P=5, max_D=5,\n",
    "                          max_Q=5, m = 12, seasonal = False, \n",
    "                          error_action='warn',trace = True,\n",
    "                          supress_warnings=True,stepwise = True,\n",
    "                          random_state=20,n_fits = 50 )\n"
   ]
  },
  {
   "cell_type": "code",
   "execution_count": 57,
   "id": "4e295ea9",
   "metadata": {},
   "outputs": [],
   "source": [
    "# Since it gave Best model as ARIMA(0,1,1), let's keep it ."
   ]
  },
  {
   "cell_type": "code",
   "execution_count": 58,
   "id": "7e725cd8",
   "metadata": {},
   "outputs": [
    {
     "data": {
      "text/html": [
       "<table class=\"simpletable\">\n",
       "<caption>SARIMAX Results</caption>\n",
       "<tr>\n",
       "  <th>Dep. Variable:</th>           <td>y</td>        <th>  No. Observations:  </th>    <td>20</td>   \n",
       "</tr>\n",
       "<tr>\n",
       "  <th>Model:</th>           <td>SARIMAX(0, 1, 1)</td> <th>  Log Likelihood     </th> <td>-432.920</td>\n",
       "</tr>\n",
       "<tr>\n",
       "  <th>Date:</th>            <td>Tue, 19 Jul 2022</td> <th>  AIC                </th>  <td>869.841</td>\n",
       "</tr>\n",
       "<tr>\n",
       "  <th>Time:</th>                <td>22:14:06</td>     <th>  BIC                </th>  <td>871.730</td>\n",
       "</tr>\n",
       "<tr>\n",
       "  <th>Sample:</th>                  <td>0</td>        <th>  HQIC               </th>  <td>870.160</td>\n",
       "</tr>\n",
       "<tr>\n",
       "  <th></th>                       <td> - 20</td>      <th>                     </th>     <td> </td>   \n",
       "</tr>\n",
       "<tr>\n",
       "  <th>Covariance Type:</th>        <td>opg</td>       <th>                     </th>     <td> </td>   \n",
       "</tr>\n",
       "</table>\n",
       "<table class=\"simpletable\">\n",
       "<tr>\n",
       "     <td></td>       <th>coef</th>     <th>std err</th>      <th>z</th>      <th>P>|z|</th>  <th>[0.025</th>    <th>0.975]</th>  \n",
       "</tr>\n",
       "<tr>\n",
       "  <th>ma.L1</th>  <td>   -0.5809</td> <td>    0.254</td> <td>   -2.284</td> <td> 0.022</td> <td>   -1.079</td> <td>   -0.082</td>\n",
       "</tr>\n",
       "<tr>\n",
       "  <th>sigma2</th> <td> 4.739e+18</td> <td> 3.66e-21</td> <td>  1.3e+39</td> <td> 0.000</td> <td> 4.74e+18</td> <td> 4.74e+18</td>\n",
       "</tr>\n",
       "</table>\n",
       "<table class=\"simpletable\">\n",
       "<tr>\n",
       "  <th>Ljung-Box (L1) (Q):</th>        <td>0.25</td>    <th>  Jarque-Bera (JB):  </th> <td>0.55</td> \n",
       "</tr>\n",
       "<tr>\n",
       "  <th>Prob(Q):</th>                   <td>0.62</td>    <th>  Prob(JB):          </th> <td>0.76</td> \n",
       "</tr>\n",
       "<tr>\n",
       "  <th>Heteroskedasticity (H):</th> <td>1040045.38</td> <th>  Skew:              </th> <td>-0.41</td>\n",
       "</tr>\n",
       "<tr>\n",
       "  <th>Prob(H) (two-sided):</th>       <td>0.00</td>    <th>  Kurtosis:          </th> <td>3.01</td> \n",
       "</tr>\n",
       "</table><br/><br/>Warnings:<br/>[1] Covariance matrix calculated using the outer product of gradients (complex-step).<br/>[2] Covariance matrix is singular or near-singular, with condition number 7.07e+56. Standard errors may be unstable."
      ],
      "text/plain": [
       "<class 'statsmodels.iolib.summary.Summary'>\n",
       "\"\"\"\n",
       "                               SARIMAX Results                                \n",
       "==============================================================================\n",
       "Dep. Variable:                      y   No. Observations:                   20\n",
       "Model:               SARIMAX(0, 1, 1)   Log Likelihood                -432.920\n",
       "Date:                Tue, 19 Jul 2022   AIC                            869.841\n",
       "Time:                        22:14:06   BIC                            871.730\n",
       "Sample:                             0   HQIC                           870.160\n",
       "                                 - 20                                         \n",
       "Covariance Type:                  opg                                         \n",
       "==============================================================================\n",
       "                 coef    std err          z      P>|z|      [0.025      0.975]\n",
       "------------------------------------------------------------------------------\n",
       "ma.L1         -0.5809      0.254     -2.284      0.022      -1.079      -0.082\n",
       "sigma2      4.739e+18   3.66e-21    1.3e+39      0.000    4.74e+18    4.74e+18\n",
       "===================================================================================\n",
       "Ljung-Box (L1) (Q):                   0.25   Jarque-Bera (JB):                 0.55\n",
       "Prob(Q):                              0.62   Prob(JB):                         0.76\n",
       "Heteroskedasticity (H):         1040045.38   Skew:                            -0.41\n",
       "Prob(H) (two-sided):                  0.00   Kurtosis:                         3.01\n",
       "===================================================================================\n",
       "\n",
       "Warnings:\n",
       "[1] Covariance matrix calculated using the outer product of gradients (complex-step).\n",
       "[2] Covariance matrix is singular or near-singular, with condition number 7.07e+56. Standard errors may be unstable.\n",
       "\"\"\""
      ]
     },
     "execution_count": 58,
     "metadata": {},
     "output_type": "execute_result"
    }
   ],
   "source": [
    "Arima_Model.summary()"
   ]
  },
  {
   "cell_type": "code",
   "execution_count": 59,
   "id": "55d53b06",
   "metadata": {},
   "outputs": [
    {
     "data": {
      "text/html": [
       "<div>\n",
       "<style scoped>\n",
       "    .dataframe tbody tr th:only-of-type {\n",
       "        vertical-align: middle;\n",
       "    }\n",
       "\n",
       "    .dataframe tbody tr th {\n",
       "        vertical-align: top;\n",
       "    }\n",
       "\n",
       "    .dataframe thead th {\n",
       "        text-align: right;\n",
       "    }\n",
       "</style>\n",
       "<table border=\"1\" class=\"dataframe\">\n",
       "  <thead>\n",
       "    <tr style=\"text-align: right;\">\n",
       "      <th></th>\n",
       "      <th>predicted_values</th>\n",
       "    </tr>\n",
       "    <tr>\n",
       "      <th>Year</th>\n",
       "      <th></th>\n",
       "    </tr>\n",
       "  </thead>\n",
       "  <tbody>\n",
       "    <tr>\n",
       "      <th>2018-01-01</th>\n",
       "      <td>2.365160e+09</td>\n",
       "    </tr>\n",
       "    <tr>\n",
       "      <th>2019-01-01</th>\n",
       "      <td>2.365160e+09</td>\n",
       "    </tr>\n",
       "    <tr>\n",
       "      <th>2020-01-01</th>\n",
       "      <td>2.365160e+09</td>\n",
       "    </tr>\n",
       "    <tr>\n",
       "      <th>2021-01-01</th>\n",
       "      <td>2.365160e+09</td>\n",
       "    </tr>\n",
       "  </tbody>\n",
       "</table>\n",
       "</div>"
      ],
      "text/plain": [
       "            predicted_values\n",
       "Year                        \n",
       "2018-01-01      2.365160e+09\n",
       "2019-01-01      2.365160e+09\n",
       "2020-01-01      2.365160e+09\n",
       "2021-01-01      2.365160e+09"
      ]
     },
     "execution_count": 59,
     "metadata": {},
     "output_type": "execute_result"
    }
   ],
   "source": [
    "# Forecasting on the test data\n",
    "\n",
    "Test_Prediction = pd.DataFrame(Arima_Model.predict(n_periods = 4), index = test.index)\n",
    "Test_Prediction.columns = ['predicted_values']\n",
    "Test_Prediction\n"
   ]
  },
  {
   "cell_type": "code",
   "execution_count": 60,
   "id": "623c6fc0",
   "metadata": {},
   "outputs": [
    {
     "data": {
      "image/png": "[encoded data removed]",
      "text/plain": [
       "<Figure size 576x360 with 1 Axes>"
      ]
     },
     "metadata": {
      "needs_background": "light"
     },
     "output_type": "display_data"
    }
   ],
   "source": [
    "# Plotting against actual values\n",
    "\n",
    "plt.figure(figsize=(8,5))\n",
    "plt.plot(train,label=\"Training\")\n",
    "plt.plot(test,label=\"Test\")\n",
    "plt.plot(Test_Prediction,label=\"Predicted\")\n",
    "plt.legend(loc = 'best')\n",
    "plt.show()"
   ]
  },
  {
   "cell_type": "code",
   "execution_count": 61,
   "id": "c1e2b0cf",
   "metadata": {},
   "outputs": [
    {
     "name": "stderr",
     "output_type": "stream",
     "text": [
      "/var/folders/w0/t7zkm9d12h11l_wy7wwcclsm0000gn/T/ipykernel_10098/1232547855.py:3: SettingWithCopyWarning: \n",
      "A value is trying to be set on a copy of a slice from a DataFrame.\n",
      "Try using .loc[row_indexer,col_indexer] = value instead\n",
      "\n",
      "See the caveats in the documentation: https://pandas.pydata.org/pandas-docs/stable/user_guide/indexing.html#returning-a-view-versus-a-copy\n",
      "  test['predicted_values'] = Test_Prediction\n"
     ]
    },
    {
     "data": {
      "text/plain": [
       "-0.18136345555902622"
      ]
     },
     "execution_count": 61,
     "metadata": {},
     "output_type": "execute_result"
    }
   ],
   "source": [
    "# Looking at R2 score\n",
    "\n",
    "test['predicted_values'] = Test_Prediction\n",
    "r2_score(test['RyeProd'], test['predicted_values'])\n"
   ]
  },
  {
   "cell_type": "code",
   "execution_count": 62,
   "id": "97a80423",
   "metadata": {},
   "outputs": [],
   "source": [
    "# The R2 score of the model trained here is -0.18 which is bad.\n",
    "# If the value of the r squared score is 1, it means that the model is perfect and if its value is 0,\n",
    "# it means that the model will perform badly on an unseen dataset."
   ]
  },
  {
   "cell_type": "code",
   "execution_count": 63,
   "id": "17b5fd56",
   "metadata": {},
   "outputs": [
    {
     "data": {
      "image/png": "[encoded data removed]",
      "text/plain": [
       "<Figure size 648x504 with 4 Axes>"
      ]
     },
     "metadata": {
      "needs_background": "light"
     },
     "output_type": "display_data"
    }
   ],
   "source": [
    "# Interpreting residual plots\n",
    "\n",
    "Arima_Model.plot_diagnostics(figsize=(9,7))\n",
    "plt.show()"
   ]
  },
  {
   "cell_type": "code",
   "execution_count": 64,
   "id": "a7317e49",
   "metadata": {},
   "outputs": [],
   "source": [
    "# We can see in\n",
    "# 1. Standardized residual Plot on top left corner, the mean is centered at 0, and the variance looks pretty equal.\n",
    "# 2. Histogram and Density Plot on top right, the assumption is normally distributed and so is our actual density line\n",
    "# 3. Sample quartiles on bottom left, the points are lying pretty much on the line except for a few.\n",
    "# 4. In Coreelogram, at bottom right, all the point sfall in 95% confidence limit except for one; which a good sign.\n",
    "# So we can say ARIMA model with p=0,d=1,q=1 is a good model for prediction."
   ]
  },
  {
   "cell_type": "code",
   "execution_count": 65,
   "id": "dbe29c5b",
   "metadata": {},
   "outputs": [
    {
     "name": "stdout",
     "output_type": "stream",
     "text": [
      "   Year predicted_values\n",
      "0  2022              NaN\n",
      "1  2023              NaN\n",
      "2  2024              NaN\n",
      "3  2025              NaN\n"
     ]
    }
   ],
   "source": [
    "# Creating new dataframe for future forecasting\n",
    "\n",
    "Future_Forecast_Data = {'Year':  [2022, 2023, 2024, 2025],\n",
    "        'predicted_values': ['NaN', 'NaN', 'NaN', 'NaN']}\n",
    "\n",
    "Future_Forecast_Data = pd.DataFrame(Future_Forecast_Data)\n",
    "\n",
    "print (Future_Forecast_Data)"
   ]
  },
  {
   "cell_type": "code",
   "execution_count": 66,
   "id": "6987bf98",
   "metadata": {},
   "outputs": [],
   "source": [
    "# Setting Year to date datatype \n",
    "\n",
    "Future_Forecast_Data['Year'] = pd.to_datetime(Future_Forecast_Data['Year'], format='%Y')"
   ]
  },
  {
   "cell_type": "code",
   "execution_count": 67,
   "id": "914b1f35",
   "metadata": {},
   "outputs": [],
   "source": [
    "## Setting Year as index\n",
    "Future_Forecast_Data.set_index('Year', inplace=True)"
   ]
  },
  {
   "cell_type": "code",
   "execution_count": 69,
   "id": "b636afcf",
   "metadata": {},
   "outputs": [
    {
     "name": "stderr",
     "output_type": "stream",
     "text": [
      "/var/folders/w0/t7zkm9d12h11l_wy7wwcclsm0000gn/T/ipykernel_10098/1865163033.py:3: FutureWarning: The frame.append method is deprecated and will be removed from pandas in a future version. Use pandas.concat instead.\n",
      "  FuturePredictionDS = Rye_Prod.append(Future_Forecast_Data)\n"
     ]
    },
    {
     "data": {
      "text/html": [
       "<div>\n",
       "<style scoped>\n",
       "    .dataframe tbody tr th:only-of-type {\n",
       "        vertical-align: middle;\n",
       "    }\n",
       "\n",
       "    .dataframe tbody tr th {\n",
       "        vertical-align: top;\n",
       "    }\n",
       "\n",
       "    .dataframe thead th {\n",
       "        text-align: right;\n",
       "    }\n",
       "</style>\n",
       "<table border=\"1\" class=\"dataframe\">\n",
       "  <thead>\n",
       "    <tr style=\"text-align: right;\">\n",
       "      <th></th>\n",
       "      <th>RyeProd</th>\n",
       "      <th>predicted_values</th>\n",
       "    </tr>\n",
       "    <tr>\n",
       "      <th>Year</th>\n",
       "      <th></th>\n",
       "      <th></th>\n",
       "    </tr>\n",
       "  </thead>\n",
       "  <tbody>\n",
       "    <tr>\n",
       "      <th>1998-01-01</th>\n",
       "      <td>8.758000e+06</td>\n",
       "      <td>NaN</td>\n",
       "    </tr>\n",
       "    <tr>\n",
       "      <th>1999-01-01</th>\n",
       "      <td>8.596000e+06</td>\n",
       "      <td>NaN</td>\n",
       "    </tr>\n",
       "    <tr>\n",
       "      <th>2000-01-01</th>\n",
       "      <td>8.691000e+06</td>\n",
       "      <td>NaN</td>\n",
       "    </tr>\n",
       "    <tr>\n",
       "      <th>2001-01-01</th>\n",
       "      <td>8.929000e+06</td>\n",
       "      <td>NaN</td>\n",
       "    </tr>\n",
       "    <tr>\n",
       "      <th>2002-01-01</th>\n",
       "      <td>9.056000e+06</td>\n",
       "      <td>NaN</td>\n",
       "    </tr>\n",
       "    <tr>\n",
       "      <th>2003-01-01</th>\n",
       "      <td>1.100100e+07</td>\n",
       "      <td>NaN</td>\n",
       "    </tr>\n",
       "    <tr>\n",
       "      <th>2004-01-01</th>\n",
       "      <td>9.392000e+06</td>\n",
       "      <td>NaN</td>\n",
       "    </tr>\n",
       "    <tr>\n",
       "      <th>2005-01-01</th>\n",
       "      <td>4.966840e+08</td>\n",
       "      <td>NaN</td>\n",
       "    </tr>\n",
       "    <tr>\n",
       "      <th>2006-01-01</th>\n",
       "      <td>3.797778e+09</td>\n",
       "      <td>NaN</td>\n",
       "    </tr>\n",
       "    <tr>\n",
       "      <th>2007-01-01</th>\n",
       "      <td>4.408118e+09</td>\n",
       "      <td>NaN</td>\n",
       "    </tr>\n",
       "    <tr>\n",
       "      <th>2008-01-01</th>\n",
       "      <td>3.139490e+08</td>\n",
       "      <td>NaN</td>\n",
       "    </tr>\n",
       "    <tr>\n",
       "      <th>2009-01-01</th>\n",
       "      <td>4.780600e+09</td>\n",
       "      <td>NaN</td>\n",
       "    </tr>\n",
       "    <tr>\n",
       "      <th>2010-01-01</th>\n",
       "      <td>4.686927e+09</td>\n",
       "      <td>NaN</td>\n",
       "    </tr>\n",
       "    <tr>\n",
       "      <th>2011-01-01</th>\n",
       "      <td>4.413590e+09</td>\n",
       "      <td>NaN</td>\n",
       "    </tr>\n",
       "    <tr>\n",
       "      <th>2012-01-01</th>\n",
       "      <td>4.287898e+09</td>\n",
       "      <td>NaN</td>\n",
       "    </tr>\n",
       "    <tr>\n",
       "      <th>2013-01-01</th>\n",
       "      <td>4.183525e+09</td>\n",
       "      <td>NaN</td>\n",
       "    </tr>\n",
       "    <tr>\n",
       "      <th>2014-01-01</th>\n",
       "      <td>7.439000e+08</td>\n",
       "      <td>NaN</td>\n",
       "    </tr>\n",
       "    <tr>\n",
       "      <th>2015-01-01</th>\n",
       "      <td>4.327136e+09</td>\n",
       "      <td>NaN</td>\n",
       "    </tr>\n",
       "    <tr>\n",
       "      <th>2016-01-01</th>\n",
       "      <td>4.287885e+09</td>\n",
       "      <td>NaN</td>\n",
       "    </tr>\n",
       "    <tr>\n",
       "      <th>2017-01-01</th>\n",
       "      <td>4.182120e+08</td>\n",
       "      <td>NaN</td>\n",
       "    </tr>\n",
       "    <tr>\n",
       "      <th>2018-01-01</th>\n",
       "      <td>9.298600e+08</td>\n",
       "      <td>NaN</td>\n",
       "    </tr>\n",
       "    <tr>\n",
       "      <th>2019-01-01</th>\n",
       "      <td>7.438910e+08</td>\n",
       "      <td>NaN</td>\n",
       "    </tr>\n",
       "    <tr>\n",
       "      <th>2020-01-01</th>\n",
       "      <td>4.649323e+09</td>\n",
       "      <td>NaN</td>\n",
       "    </tr>\n",
       "    <tr>\n",
       "      <th>2021-01-01</th>\n",
       "      <td>9.784000e+07</td>\n",
       "      <td>NaN</td>\n",
       "    </tr>\n",
       "    <tr>\n",
       "      <th>2022-01-01</th>\n",
       "      <td>NaN</td>\n",
       "      <td>NaN</td>\n",
       "    </tr>\n",
       "    <tr>\n",
       "      <th>2023-01-01</th>\n",
       "      <td>NaN</td>\n",
       "      <td>NaN</td>\n",
       "    </tr>\n",
       "    <tr>\n",
       "      <th>2024-01-01</th>\n",
       "      <td>NaN</td>\n",
       "      <td>NaN</td>\n",
       "    </tr>\n",
       "    <tr>\n",
       "      <th>2025-01-01</th>\n",
       "      <td>NaN</td>\n",
       "      <td>NaN</td>\n",
       "    </tr>\n",
       "  </tbody>\n",
       "</table>\n",
       "</div>"
      ],
      "text/plain": [
       "                 RyeProd predicted_values\n",
       "Year                                     \n",
       "1998-01-01  8.758000e+06              NaN\n",
       "1999-01-01  8.596000e+06              NaN\n",
       "2000-01-01  8.691000e+06              NaN\n",
       "2001-01-01  8.929000e+06              NaN\n",
       "2002-01-01  9.056000e+06              NaN\n",
       "2003-01-01  1.100100e+07              NaN\n",
       "2004-01-01  9.392000e+06              NaN\n",
       "2005-01-01  4.966840e+08              NaN\n",
       "2006-01-01  3.797778e+09              NaN\n",
       "2007-01-01  4.408118e+09              NaN\n",
       "2008-01-01  3.139490e+08              NaN\n",
       "2009-01-01  4.780600e+09              NaN\n",
       "2010-01-01  4.686927e+09              NaN\n",
       "2011-01-01  4.413590e+09              NaN\n",
       "2012-01-01  4.287898e+09              NaN\n",
       "2013-01-01  4.183525e+09              NaN\n",
       "2014-01-01  7.439000e+08              NaN\n",
       "2015-01-01  4.327136e+09              NaN\n",
       "2016-01-01  4.287885e+09              NaN\n",
       "2017-01-01  4.182120e+08              NaN\n",
       "2018-01-01  9.298600e+08              NaN\n",
       "2019-01-01  7.438910e+08              NaN\n",
       "2020-01-01  4.649323e+09              NaN\n",
       "2021-01-01  9.784000e+07              NaN\n",
       "2022-01-01           NaN              NaN\n",
       "2023-01-01           NaN              NaN\n",
       "2024-01-01           NaN              NaN\n",
       "2025-01-01           NaN              NaN"
      ]
     },
     "execution_count": 69,
     "metadata": {},
     "output_type": "execute_result"
    }
   ],
   "source": [
    "# Appending Future DF to Rye DF\n",
    "\n",
    "FuturePredictionDS = Rye_Prod.append(Future_Forecast_Data)\n",
    "FuturePredictionDS"
   ]
  },
  {
   "cell_type": "code",
   "execution_count": 70,
   "id": "deba2c4a",
   "metadata": {},
   "outputs": [
    {
     "data": {
      "text/html": [
       "<div>\n",
       "<style scoped>\n",
       "    .dataframe tbody tr th:only-of-type {\n",
       "        vertical-align: middle;\n",
       "    }\n",
       "\n",
       "    .dataframe tbody tr th {\n",
       "        vertical-align: top;\n",
       "    }\n",
       "\n",
       "    .dataframe thead th {\n",
       "        text-align: right;\n",
       "    }\n",
       "</style>\n",
       "<table border=\"1\" class=\"dataframe\">\n",
       "  <thead>\n",
       "    <tr style=\"text-align: right;\">\n",
       "      <th></th>\n",
       "      <th>predicted_values</th>\n",
       "    </tr>\n",
       "    <tr>\n",
       "      <th>Year</th>\n",
       "      <th></th>\n",
       "    </tr>\n",
       "  </thead>\n",
       "  <tbody>\n",
       "    <tr>\n",
       "      <th>1998-01-01</th>\n",
       "      <td>2.365160e+09</td>\n",
       "    </tr>\n",
       "    <tr>\n",
       "      <th>1999-01-01</th>\n",
       "      <td>2.365160e+09</td>\n",
       "    </tr>\n",
       "    <tr>\n",
       "      <th>2000-01-01</th>\n",
       "      <td>2.365160e+09</td>\n",
       "    </tr>\n",
       "    <tr>\n",
       "      <th>2001-01-01</th>\n",
       "      <td>2.365160e+09</td>\n",
       "    </tr>\n",
       "    <tr>\n",
       "      <th>2002-01-01</th>\n",
       "      <td>2.365160e+09</td>\n",
       "    </tr>\n",
       "    <tr>\n",
       "      <th>2003-01-01</th>\n",
       "      <td>2.365160e+09</td>\n",
       "    </tr>\n",
       "    <tr>\n",
       "      <th>2004-01-01</th>\n",
       "      <td>2.365160e+09</td>\n",
       "    </tr>\n",
       "    <tr>\n",
       "      <th>2005-01-01</th>\n",
       "      <td>2.365160e+09</td>\n",
       "    </tr>\n",
       "    <tr>\n",
       "      <th>2006-01-01</th>\n",
       "      <td>2.365160e+09</td>\n",
       "    </tr>\n",
       "    <tr>\n",
       "      <th>2007-01-01</th>\n",
       "      <td>2.365160e+09</td>\n",
       "    </tr>\n",
       "    <tr>\n",
       "      <th>2008-01-01</th>\n",
       "      <td>2.365160e+09</td>\n",
       "    </tr>\n",
       "    <tr>\n",
       "      <th>2009-01-01</th>\n",
       "      <td>2.365160e+09</td>\n",
       "    </tr>\n",
       "    <tr>\n",
       "      <th>2010-01-01</th>\n",
       "      <td>2.365160e+09</td>\n",
       "    </tr>\n",
       "    <tr>\n",
       "      <th>2011-01-01</th>\n",
       "      <td>2.365160e+09</td>\n",
       "    </tr>\n",
       "    <tr>\n",
       "      <th>2012-01-01</th>\n",
       "      <td>2.365160e+09</td>\n",
       "    </tr>\n",
       "    <tr>\n",
       "      <th>2013-01-01</th>\n",
       "      <td>2.365160e+09</td>\n",
       "    </tr>\n",
       "    <tr>\n",
       "      <th>2014-01-01</th>\n",
       "      <td>2.365160e+09</td>\n",
       "    </tr>\n",
       "    <tr>\n",
       "      <th>2015-01-01</th>\n",
       "      <td>2.365160e+09</td>\n",
       "    </tr>\n",
       "    <tr>\n",
       "      <th>2016-01-01</th>\n",
       "      <td>2.365160e+09</td>\n",
       "    </tr>\n",
       "    <tr>\n",
       "      <th>2017-01-01</th>\n",
       "      <td>2.365160e+09</td>\n",
       "    </tr>\n",
       "    <tr>\n",
       "      <th>2018-01-01</th>\n",
       "      <td>2.365160e+09</td>\n",
       "    </tr>\n",
       "    <tr>\n",
       "      <th>2019-01-01</th>\n",
       "      <td>2.365160e+09</td>\n",
       "    </tr>\n",
       "    <tr>\n",
       "      <th>2020-01-01</th>\n",
       "      <td>2.365160e+09</td>\n",
       "    </tr>\n",
       "    <tr>\n",
       "      <th>2021-01-01</th>\n",
       "      <td>2.365160e+09</td>\n",
       "    </tr>\n",
       "    <tr>\n",
       "      <th>2022-01-01</th>\n",
       "      <td>2.365160e+09</td>\n",
       "    </tr>\n",
       "    <tr>\n",
       "      <th>2023-01-01</th>\n",
       "      <td>2.365160e+09</td>\n",
       "    </tr>\n",
       "    <tr>\n",
       "      <th>2024-01-01</th>\n",
       "      <td>2.365160e+09</td>\n",
       "    </tr>\n",
       "    <tr>\n",
       "      <th>2025-01-01</th>\n",
       "      <td>2.365160e+09</td>\n",
       "    </tr>\n",
       "  </tbody>\n",
       "</table>\n",
       "</div>"
      ],
      "text/plain": [
       "            predicted_values\n",
       "Year                        \n",
       "1998-01-01      2.365160e+09\n",
       "1999-01-01      2.365160e+09\n",
       "2000-01-01      2.365160e+09\n",
       "2001-01-01      2.365160e+09\n",
       "2002-01-01      2.365160e+09\n",
       "2003-01-01      2.365160e+09\n",
       "2004-01-01      2.365160e+09\n",
       "2005-01-01      2.365160e+09\n",
       "2006-01-01      2.365160e+09\n",
       "2007-01-01      2.365160e+09\n",
       "2008-01-01      2.365160e+09\n",
       "2009-01-01      2.365160e+09\n",
       "2010-01-01      2.365160e+09\n",
       "2011-01-01      2.365160e+09\n",
       "2012-01-01      2.365160e+09\n",
       "2013-01-01      2.365160e+09\n",
       "2014-01-01      2.365160e+09\n",
       "2015-01-01      2.365160e+09\n",
       "2016-01-01      2.365160e+09\n",
       "2017-01-01      2.365160e+09\n",
       "2018-01-01      2.365160e+09\n",
       "2019-01-01      2.365160e+09\n",
       "2020-01-01      2.365160e+09\n",
       "2021-01-01      2.365160e+09\n",
       "2022-01-01      2.365160e+09\n",
       "2023-01-01      2.365160e+09\n",
       "2024-01-01      2.365160e+09\n",
       "2025-01-01      2.365160e+09"
      ]
     },
     "execution_count": 70,
     "metadata": {},
     "output_type": "execute_result"
    }
   ],
   "source": [
    "# Setting number of points to forecast\n",
    "\n",
    "no_of_years = 28\n",
    "\n",
    "# Generating forecast\n",
    "\n",
    "Forecast2 = pd.DataFrame(Arima_Model.predict(no_of_years), index = FuturePredictionDS.index)\n",
    "Forecast2.columns = ['predicted_values']\n",
    "Forecast2"
   ]
  },
  {
   "cell_type": "code",
   "execution_count": 71,
   "id": "6a322dc1",
   "metadata": {},
   "outputs": [
    {
     "data": {
      "image/png": "[encoded data removed]",
      "text/plain": [
       "<Figure size 432x288 with 1 Axes>"
      ]
     },
     "metadata": {
      "needs_background": "light"
     },
     "output_type": "display_data"
    }
   ],
   "source": [
    "# Plot the Forcasted Data on graph\n",
    "\n",
    "\n",
    "F_P_agn = Forecast2[-6:] # Picking the last 6 years of data from Predicted Values Dataframe(Forecast 2).\n",
    "\n",
    "Test_Prediction1 = pd.DataFrame(Arima_Model.predict(n_periods = 6), index = F_P_agn.index)\n",
    "Test_Prediction1.columns = ['predicted_values']\n",
    "\n",
    "\n",
    "F2_train = Rye_Prod[:24] # Picking data for first 24 years from our original train model.\n",
    "\n",
    "\n",
    "plt.plot(F2_train)\n",
    "plt.plot(Test_Prediction1)  # Picking the last 6 years of data from Predicted Values Dataframe(Test_Prediction1).\n",
    "\n",
    "\n",
    "# Set axis labels\n",
    "\n",
    "plt.xlabel('Time in years')\n",
    "plt.ylabel('Rye Production')\n",
    "\n",
    "plt.show()"
   ]
  },
  {
   "cell_type": "code",
   "execution_count": 72,
   "id": "d7b44970",
   "metadata": {},
   "outputs": [],
   "source": [
    "# So here we can see, in original data the production of Rye is a little higher \n",
    "# than the predicted values for the same year."
   ]
  },
  {
   "cell_type": "code",
   "execution_count": 73,
   "id": "23c34270",
   "metadata": {},
   "outputs": [],
   "source": [
    "# 2023 Honey Prediction Values based on Rye Commodity Forecasting, \n",
    "\n",
    "## Using Rye ~ Honey linear regression equation performed in DataExploration_GrainsvsHoneyTime :\n",
    "# y = 2.238(honey) + 30357.011\n",
    "\n",
    "# US Rye production for 2023 is forecasted at 2.365160e+07, or 2365160 Metric Tons\n",
    "\n",
    "# 2365160 = 2.238(Honey) + 30357.011\n",
    "\n",
    "# 1,042,322.76 = 2023 MT Honey Prediction based on Rye Forecasting\n",
    "\n",
    "# Based on ARIMA forecasting of highly correlated commodity Rye(with honey) and their linear relationship;\n",
    "# The production of Honey looks promising."
   ]
  },
  {
   "cell_type": "code",
   "execution_count": null,
   "id": "45c9af07",
   "metadata": {},
   "outputs": [],
   "source": []
  }
 ],
 "metadata": {
  "kernelspec": {
   "display_name": "Python 3 (ipykernel)",
   "language": "python",
   "name": "python3"
  },
  "language_info": {
   "codemirror_mode": {
    "name": "ipython",
    "version": 3
   },
   "file_extension": ".py",
   "mimetype": "text/x-python",
   "name": "python",
   "nbconvert_exporter": "python",
   "pygments_lexer": "ipython3",
   "version": "3.9.9"
  }
 },
 "nbformat": 4,
 "nbformat_minor": 5
}
