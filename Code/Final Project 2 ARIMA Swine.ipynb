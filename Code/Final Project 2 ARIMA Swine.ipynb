{
 "cells": [
  {
   "cell_type": "code",
   "execution_count": 2,
   "id": "1315ccef-1545-461b-ae0f-47ad5d17913a",
   "metadata": {},
   "outputs": [],
   "source": [
    "import pandas as pd\n",
    "import numpy as np\n",
    "import pmdarima as pm\n",
    "from pmdarima.arima import auto_arima\n",
    "from pmdarima.arima import ADFTest\n",
    "import matplotlib.pyplot as plt\n",
    "from matplotlib import pyplot\n",
    "from math import sqrt\n",
    "from numpy import split\n",
    "from numpy import array\n",
    "import statsmodels\n",
    "from statsmodels.tsa.arima.model import ARIMA\n",
    "from statsmodels.tsa.seasonal import seasonal_decompose\n",
    "from statsmodels.tsa.stattools import adfuller\n",
    "from statsmodels.graphics.tsaplots import plot_acf, plot_pacf\n",
    "from sklearn.metrics import mean_squared_error\n",
    "from sklearn.metrics import r2_score\n",
    "from sympy.solvers import solve\n",
    "from sympy import Symbol"
   ]
  },
  {
   "cell_type": "code",
   "execution_count": 3,
   "id": "2cef8f3f-09b6-40b3-a84c-583fb9a722c3",
   "metadata": {},
   "outputs": [
    {
     "data": {
      "text/html": [
       "<div>\n",
       "<style scoped>\n",
       "    .dataframe tbody tr th:only-of-type {\n",
       "        vertical-align: middle;\n",
       "    }\n",
       "\n",
       "    .dataframe tbody tr th {\n",
       "        vertical-align: top;\n",
       "    }\n",
       "\n",
       "    .dataframe thead th {\n",
       "        text-align: right;\n",
       "    }\n",
       "</style>\n",
       "<table border=\"1\" class=\"dataframe\">\n",
       "  <thead>\n",
       "    <tr style=\"text-align: right;\">\n",
       "      <th></th>\n",
       "      <th>Unnamed: 0</th>\n",
       "      <th>Year</th>\n",
       "      <th>Almonds, Shelled Basis</th>\n",
       "      <th>Apples, Fresh</th>\n",
       "      <th>Barley</th>\n",
       "      <th>Coffee, Green</th>\n",
       "      <th>Corn</th>\n",
       "      <th>Dairy, Milk, Fluid</th>\n",
       "      <th>Grapefruit, Fresh</th>\n",
       "      <th>Meat, Swine</th>\n",
       "      <th>Oats</th>\n",
       "      <th>Oil, Soybean</th>\n",
       "      <th>Oilseed, Rapeseed</th>\n",
       "      <th>Rye</th>\n",
       "      <th>Walnuts, Inshell Basis</th>\n",
       "    </tr>\n",
       "  </thead>\n",
       "  <tbody>\n",
       "    <tr>\n",
       "      <th>0</th>\n",
       "      <td>0</td>\n",
       "      <td>1998</td>\n",
       "      <td>235884.0</td>\n",
       "      <td>5282724.0</td>\n",
       "      <td>235884000.0</td>\n",
       "      <td>1.415304e+07</td>\n",
       "      <td>4.822010e+09</td>\n",
       "      <td>326151000.0</td>\n",
       "      <td>185000.0</td>\n",
       "      <td>4.740312e+12</td>\n",
       "      <td>247882000.0</td>\n",
       "      <td>4.176508e+09</td>\n",
       "      <td>5214000.0</td>\n",
       "      <td>2114000.0</td>\n",
       "      <td>205931.0</td>\n",
       "    </tr>\n",
       "    <tr>\n",
       "      <th>1</th>\n",
       "      <td>1</td>\n",
       "      <td>1999</td>\n",
       "      <td>377800.0</td>\n",
       "      <td>5746060.0</td>\n",
       "      <td>361362000.0</td>\n",
       "      <td>2.168172e+07</td>\n",
       "      <td>4.800686e+09</td>\n",
       "      <td>77534000.0</td>\n",
       "      <td>183000.0</td>\n",
       "      <td>4.476775e+12</td>\n",
       "      <td>239549000.0</td>\n",
       "      <td>3.797778e+09</td>\n",
       "      <td>662250000.0</td>\n",
       "      <td>2165000.0</td>\n",
       "      <td>256734.0</td>\n",
       "    </tr>\n",
       "    <tr>\n",
       "      <th>2</th>\n",
       "      <td>2</td>\n",
       "      <td>2000</td>\n",
       "      <td>318900.0</td>\n",
       "      <td>5675890.0</td>\n",
       "      <td>303700000.0</td>\n",
       "      <td>1.822200e+07</td>\n",
       "      <td>4.274204e+09</td>\n",
       "      <td>332092000.0</td>\n",
       "      <td>163000.0</td>\n",
       "      <td>2.395490e+11</td>\n",
       "      <td>251854000.0</td>\n",
       "      <td>3.946939e+09</td>\n",
       "      <td>307386000.0</td>\n",
       "      <td>1707000.0</td>\n",
       "      <td>216816.0</td>\n",
       "    </tr>\n",
       "    <tr>\n",
       "      <th>3</th>\n",
       "      <td>3</td>\n",
       "      <td>2001</td>\n",
       "      <td>376500.0</td>\n",
       "      <td>5065060.0</td>\n",
       "      <td>376488000.0</td>\n",
       "      <td>2.258928e+07</td>\n",
       "      <td>3.866379e+09</td>\n",
       "      <td>305319000.0</td>\n",
       "      <td>163000.0</td>\n",
       "      <td>2.518540e+11</td>\n",
       "      <td>241377000.0</td>\n",
       "      <td>4.354875e+09</td>\n",
       "      <td>312180000.0</td>\n",
       "      <td>1684000.0</td>\n",
       "      <td>276700.0</td>\n",
       "    </tr>\n",
       "    <tr>\n",
       "      <th>4</th>\n",
       "      <td>4</td>\n",
       "      <td>2002</td>\n",
       "      <td>494416.0</td>\n",
       "      <td>4605810.0</td>\n",
       "      <td>494416000.0</td>\n",
       "      <td>2.686065e+11</td>\n",
       "      <td>3.988483e+09</td>\n",
       "      <td>83581000.0</td>\n",
       "      <td>186000.0</td>\n",
       "      <td>3.871860e+11</td>\n",
       "      <td>227767000.0</td>\n",
       "      <td>4.433333e+09</td>\n",
       "      <td>332092000.0</td>\n",
       "      <td>2096000.0</td>\n",
       "      <td>255825.0</td>\n",
       "    </tr>\n",
       "  </tbody>\n",
       "</table>\n",
       "</div>"
      ],
      "text/plain": [
       "   Unnamed: 0  Year  Almonds, Shelled Basis  Apples, Fresh       Barley  \\\n",
       "0           0  1998                235884.0      5282724.0  235884000.0   \n",
       "1           1  1999                377800.0      5746060.0  361362000.0   \n",
       "2           2  2000                318900.0      5675890.0  303700000.0   \n",
       "3           3  2001                376500.0      5065060.0  376488000.0   \n",
       "4           4  2002                494416.0      4605810.0  494416000.0   \n",
       "\n",
       "   Coffee, Green          Corn  Dairy, Milk, Fluid  Grapefruit, Fresh  \\\n",
       "0   1.415304e+07  4.822010e+09         326151000.0           185000.0   \n",
       "1   2.168172e+07  4.800686e+09          77534000.0           183000.0   \n",
       "2   1.822200e+07  4.274204e+09         332092000.0           163000.0   \n",
       "3   2.258928e+07  3.866379e+09         305319000.0           163000.0   \n",
       "4   2.686065e+11  3.988483e+09          83581000.0           186000.0   \n",
       "\n",
       "    Meat, Swine         Oats  Oil, Soybean  Oilseed, Rapeseed        Rye  \\\n",
       "0  4.740312e+12  247882000.0  4.176508e+09          5214000.0  2114000.0   \n",
       "1  4.476775e+12  239549000.0  3.797778e+09        662250000.0  2165000.0   \n",
       "2  2.395490e+11  251854000.0  3.946939e+09        307386000.0  1707000.0   \n",
       "3  2.518540e+11  241377000.0  4.354875e+09        312180000.0  1684000.0   \n",
       "4  3.871860e+11  227767000.0  4.433333e+09        332092000.0  2096000.0   \n",
       "\n",
       "   Walnuts, Inshell Basis  \n",
       "0                205931.0  \n",
       "1                256734.0  \n",
       "2                216816.0  \n",
       "3                276700.0  \n",
       "4                255825.0  "
      ]
     },
     "execution_count": 3,
     "metadata": {},
     "output_type": "execute_result"
    }
   ],
   "source": [
    "# Importing dataframe\n",
    "Global = pd.read_csv(\"C:/Users/airos/Documents/GitHub/FinalProjectEntity/Data/pivotedGlobal.csv\")\n",
    "\n",
    "Global.head()"
   ]
  },
  {
   "cell_type": "code",
   "execution_count": 5,
   "id": "815af11b-25ba-401d-ae92-7384e44c35e3",
   "metadata": {},
   "outputs": [
    {
     "data": {
      "text/html": [
       "<div>\n",
       "<style scoped>\n",
       "    .dataframe tbody tr th:only-of-type {\n",
       "        vertical-align: middle;\n",
       "    }\n",
       "\n",
       "    .dataframe tbody tr th {\n",
       "        vertical-align: top;\n",
       "    }\n",
       "\n",
       "    .dataframe thead th {\n",
       "        text-align: right;\n",
       "    }\n",
       "</style>\n",
       "<table border=\"1\" class=\"dataframe\">\n",
       "  <thead>\n",
       "    <tr style=\"text-align: right;\">\n",
       "      <th></th>\n",
       "      <th>Meat, Swine</th>\n",
       "      <th>Year</th>\n",
       "    </tr>\n",
       "  </thead>\n",
       "  <tbody>\n",
       "    <tr>\n",
       "      <th>0</th>\n",
       "      <td>4.740312e+12</td>\n",
       "      <td>1998</td>\n",
       "    </tr>\n",
       "    <tr>\n",
       "      <th>1</th>\n",
       "      <td>4.476775e+12</td>\n",
       "      <td>1999</td>\n",
       "    </tr>\n",
       "    <tr>\n",
       "      <th>2</th>\n",
       "      <td>2.395490e+11</td>\n",
       "      <td>2000</td>\n",
       "    </tr>\n",
       "    <tr>\n",
       "      <th>3</th>\n",
       "      <td>2.518540e+11</td>\n",
       "      <td>2001</td>\n",
       "    </tr>\n",
       "    <tr>\n",
       "      <th>4</th>\n",
       "      <td>3.871860e+11</td>\n",
       "      <td>2002</td>\n",
       "    </tr>\n",
       "  </tbody>\n",
       "</table>\n",
       "</div>"
      ],
      "text/plain": [
       "    Meat, Swine  Year\n",
       "0  4.740312e+12  1998\n",
       "1  4.476775e+12  1999\n",
       "2  2.395490e+11  2000\n",
       "3  2.518540e+11  2001\n",
       "4  3.871860e+11  2002"
      ]
     },
     "execution_count": 5,
     "metadata": {},
     "output_type": "execute_result"
    }
   ],
   "source": [
    "# Isolating 'Dairy, Milk, Fluid' first for ARIMA THEN 'Meat, Swine'\n",
    "Swine = Global[['Meat, Swine', 'Year']]\n",
    "Swine.head()"
   ]
  },
  {
   "cell_type": "code",
   "execution_count": 6,
   "id": "e4057140-189e-49ae-9a36-b90102665ec1",
   "metadata": {},
   "outputs": [
    {
     "name": "stderr",
     "output_type": "stream",
     "text": [
      "C:\\Users\\airos\\AppData\\Local\\Temp/ipykernel_6652/3598456331.py:2: SettingWithCopyWarning: \n",
      "A value is trying to be set on a copy of a slice from a DataFrame.\n",
      "Try using .loc[row_indexer,col_indexer] = value instead\n",
      "\n",
      "See the caveats in the documentation: https://pandas.pydata.org/pandas-docs/stable/user_guide/indexing.html#returning-a-view-versus-a-copy\n",
      "  Swine['Year'] = pd.to_datetime(Swine['Year'], format='%Y')\n"
     ]
    }
   ],
   "source": [
    "# Formatting Year to date datatype \n",
    "Swine['Year'] = pd.to_datetime(Swine['Year'], format='%Y')"
   ]
  },
  {
   "cell_type": "code",
   "execution_count": 7,
   "id": "92c2654d-7d88-48be-add0-b51b13e85f7d",
   "metadata": {},
   "outputs": [
    {
     "data": {
      "text/plain": [
       "pandas.core.frame.DataFrame"
      ]
     },
     "execution_count": 7,
     "metadata": {},
     "output_type": "execute_result"
    }
   ],
   "source": [
    "## Setting Year as index\n",
    "Swine.set_index('Year', inplace=True)\n",
    "type(Swine)"
   ]
  },
  {
   "cell_type": "code",
   "execution_count": 8,
   "id": "d0ecb2d2-2276-41ee-b097-b2ed25e0e48c",
   "metadata": {},
   "outputs": [
    {
     "data": {
      "text/plain": [
       "<AxesSubplot:xlabel='Year'>"
      ]
     },
     "execution_count": 8,
     "metadata": {},
     "output_type": "execute_result"
    },
    {
     "data": {
      "image/png": "[encoded data removed]",
      "text/plain": [
       "<Figure size 432x288 with 1 Axes>"
      ]
     },
     "metadata": {
      "needs_background": "light"
     },
     "output_type": "display_data"
    }
   ],
   "source": [
    "## Looking at linear plot of d,m,f, production\n",
    "Swine.plot()"
   ]
  },
  {
   "cell_type": "markdown",
   "id": "629373a4-0881-41c1-b165-8bb0a88ae50a",
   "metadata": {},
   "source": [
    "### Plot does look stationary, there is an obvious stationary portion to the plot with large spikes every three years."
   ]
  },
  {
   "cell_type": "code",
   "execution_count": 11,
   "id": "39b306d7-53ee-41fb-97d8-3dc237373564",
   "metadata": {},
   "outputs": [
    {
     "name": "stdout",
     "output_type": "stream",
     "text": [
      "ADF Statistic: -2.5058424843763576\n",
      "n_lags: 0.1140592492365079\n",
      "p-value: 0.1140592492365079\n",
      "Critial Values:\n",
      "   1%, -4.01203360058309\n",
      "Critial Values:\n",
      "   5%, -3.1041838775510207\n",
      "Critial Values:\n",
      "   10%, -2.6909873469387753\n"
     ]
    }
   ],
   "source": [
    "## Testing our finding against Augmented Dickey Fuller test\n",
    "result=adfuller(Swine['Meat, Swine'], autolag='AIC')\n",
    "print(f'ADF Statistic: {result[0]}')\n",
    "print(f'n_lags: {result[1]}')\n",
    "print(f'p-value: {result[1]}')\n",
    "for key, value in result[4].items():\n",
    "    print('Critial Values:')\n",
    "    print(f'   {key}, {value}')"
   ]
  },
  {
   "cell_type": "markdown",
   "id": "88aab07c-20a4-4b55-aa76-8d5c292bab71",
   "metadata": {},
   "source": [
    "## P value is providing non-significant finding. We are going to reject the null hypothesis.\n",
    "## The ADF Statistic is lower than all our critical value cuttoffs, indicating that Swine production may have a time \n",
    "## dependent structure since it does not have a constant variance over time."
   ]
  },
  {
   "cell_type": "code",
   "execution_count": 13,
   "id": "6f30d63c-ba8a-44cd-8777-d41b52881811",
   "metadata": {},
   "outputs": [
    {
     "data": {
      "text/html": [
       "<div>\n",
       "<style scoped>\n",
       "    .dataframe tbody tr th:only-of-type {\n",
       "        vertical-align: middle;\n",
       "    }\n",
       "\n",
       "    .dataframe tbody tr th {\n",
       "        vertical-align: top;\n",
       "    }\n",
       "\n",
       "    .dataframe thead th {\n",
       "        text-align: right;\n",
       "    }\n",
       "</style>\n",
       "<table border=\"1\" class=\"dataframe\">\n",
       "  <thead>\n",
       "    <tr style=\"text-align: right;\">\n",
       "      <th></th>\n",
       "      <th>Meat, Swine</th>\n",
       "    </tr>\n",
       "    <tr>\n",
       "      <th>Year</th>\n",
       "      <th></th>\n",
       "    </tr>\n",
       "  </thead>\n",
       "  <tbody>\n",
       "    <tr>\n",
       "      <th>1998-01-01</th>\n",
       "      <td>4.740312e+12</td>\n",
       "    </tr>\n",
       "    <tr>\n",
       "      <th>1999-01-01</th>\n",
       "      <td>4.476775e+12</td>\n",
       "    </tr>\n",
       "    <tr>\n",
       "      <th>2000-01-01</th>\n",
       "      <td>2.395490e+11</td>\n",
       "    </tr>\n",
       "    <tr>\n",
       "      <th>2001-01-01</th>\n",
       "      <td>2.518540e+11</td>\n",
       "    </tr>\n",
       "    <tr>\n",
       "      <th>2002-01-01</th>\n",
       "      <td>3.871860e+11</td>\n",
       "    </tr>\n",
       "    <tr>\n",
       "      <th>2003-01-01</th>\n",
       "      <td>5.282724e+12</td>\n",
       "    </tr>\n",
       "    <tr>\n",
       "      <th>2004-01-01</th>\n",
       "      <td>3.037000e+11</td>\n",
       "    </tr>\n",
       "    <tr>\n",
       "      <th>2005-01-01</th>\n",
       "      <td>4.822010e+12</td>\n",
       "    </tr>\n",
       "    <tr>\n",
       "      <th>2006-01-01</th>\n",
       "      <td>4.800686e+12</td>\n",
       "    </tr>\n",
       "    <tr>\n",
       "      <th>2007-01-01</th>\n",
       "      <td>4.274204e+12</td>\n",
       "    </tr>\n",
       "    <tr>\n",
       "      <th>2008-01-01</th>\n",
       "      <td>3.866379e+12</td>\n",
       "    </tr>\n",
       "    <tr>\n",
       "      <th>2009-01-01</th>\n",
       "      <td>3.988483e+12</td>\n",
       "    </tr>\n",
       "    <tr>\n",
       "      <th>2010-01-01</th>\n",
       "      <td>2.168160e+11</td>\n",
       "    </tr>\n",
       "    <tr>\n",
       "      <th>2011-01-01</th>\n",
       "      <td>2.766900e+11</td>\n",
       "    </tr>\n",
       "    <tr>\n",
       "      <th>2012-01-01</th>\n",
       "      <td>2.880412e+11</td>\n",
       "    </tr>\n",
       "    <tr>\n",
       "      <th>2013-01-01</th>\n",
       "      <td>4.463810e+12</td>\n",
       "    </tr>\n",
       "    <tr>\n",
       "      <th>2014-01-01</th>\n",
       "      <td>2.948340e+11</td>\n",
       "    </tr>\n",
       "    <tr>\n",
       "      <th>2015-01-01</th>\n",
       "      <td>3.084400e+11</td>\n",
       "    </tr>\n",
       "    <tr>\n",
       "      <th>2016-01-01</th>\n",
       "      <td>2.770050e+11</td>\n",
       "    </tr>\n",
       "    <tr>\n",
       "      <th>2017-01-01</th>\n",
       "      <td>9.250000e+09</td>\n",
       "    </tr>\n",
       "    <tr>\n",
       "      <th>2018-01-01</th>\n",
       "      <td>4.734966e+12</td>\n",
       "    </tr>\n",
       "    <tr>\n",
       "      <th>2019-01-01</th>\n",
       "      <td>4.473878e+12</td>\n",
       "    </tr>\n",
       "    <tr>\n",
       "      <th>2020-01-01</th>\n",
       "      <td>2.822600e+11</td>\n",
       "    </tr>\n",
       "    <tr>\n",
       "      <th>2021-01-01</th>\n",
       "      <td>9.147000e+09</td>\n",
       "    </tr>\n",
       "  </tbody>\n",
       "</table>\n",
       "</div>"
      ],
      "text/plain": [
       "             Meat, Swine\n",
       "Year                    \n",
       "1998-01-01  4.740312e+12\n",
       "1999-01-01  4.476775e+12\n",
       "2000-01-01  2.395490e+11\n",
       "2001-01-01  2.518540e+11\n",
       "2002-01-01  3.871860e+11\n",
       "2003-01-01  5.282724e+12\n",
       "2004-01-01  3.037000e+11\n",
       "2005-01-01  4.822010e+12\n",
       "2006-01-01  4.800686e+12\n",
       "2007-01-01  4.274204e+12\n",
       "2008-01-01  3.866379e+12\n",
       "2009-01-01  3.988483e+12\n",
       "2010-01-01  2.168160e+11\n",
       "2011-01-01  2.766900e+11\n",
       "2012-01-01  2.880412e+11\n",
       "2013-01-01  4.463810e+12\n",
       "2014-01-01  2.948340e+11\n",
       "2015-01-01  3.084400e+11\n",
       "2016-01-01  2.770050e+11\n",
       "2017-01-01  9.250000e+09\n",
       "2018-01-01  4.734966e+12\n",
       "2019-01-01  4.473878e+12\n",
       "2020-01-01  2.822600e+11\n",
       "2021-01-01  9.147000e+09"
      ]
     },
     "execution_count": 13,
     "metadata": {},
     "output_type": "execute_result"
    }
   ],
   "source": [
    "Swine"
   ]
  },
  {
   "cell_type": "code",
   "execution_count": 14,
   "id": "d8cec904-007a-4773-91bc-1cc0ba1f0f08",
   "metadata": {},
   "outputs": [
    {
     "data": {
      "text/html": [
       "<div>\n",
       "<style scoped>\n",
       "    .dataframe tbody tr th:only-of-type {\n",
       "        vertical-align: middle;\n",
       "    }\n",
       "\n",
       "    .dataframe tbody tr th {\n",
       "        vertical-align: top;\n",
       "    }\n",
       "\n",
       "    .dataframe thead th {\n",
       "        text-align: right;\n",
       "    }\n",
       "</style>\n",
       "<table border=\"1\" class=\"dataframe\">\n",
       "  <thead>\n",
       "    <tr style=\"text-align: right;\">\n",
       "      <th></th>\n",
       "      <th>Meat, Swine</th>\n",
       "    </tr>\n",
       "    <tr>\n",
       "      <th>Year</th>\n",
       "      <th></th>\n",
       "    </tr>\n",
       "  </thead>\n",
       "  <tbody>\n",
       "    <tr>\n",
       "      <th>2018-01-01</th>\n",
       "      <td>4.734966e+12</td>\n",
       "    </tr>\n",
       "    <tr>\n",
       "      <th>2019-01-01</th>\n",
       "      <td>4.473878e+12</td>\n",
       "    </tr>\n",
       "    <tr>\n",
       "      <th>2020-01-01</th>\n",
       "      <td>2.822600e+11</td>\n",
       "    </tr>\n",
       "    <tr>\n",
       "      <th>2021-01-01</th>\n",
       "      <td>9.147000e+09</td>\n",
       "    </tr>\n",
       "  </tbody>\n",
       "</table>\n",
       "</div>"
      ],
      "text/plain": [
       "             Meat, Swine\n",
       "Year                    \n",
       "2018-01-01  4.734966e+12\n",
       "2019-01-01  4.473878e+12\n",
       "2020-01-01  2.822600e+11\n",
       "2021-01-01  9.147000e+09"
      ]
     },
     "execution_count": 14,
     "metadata": {},
     "output_type": "execute_result"
    }
   ],
   "source": [
    "# Splitting the data for training and testing\n",
    "train = Swine[:20]\n",
    "test =  Swine[-4:]\n",
    "train\n",
    "test"
   ]
  },
  {
   "cell_type": "code",
   "execution_count": 15,
   "id": "e503ff79-176f-4e80-a30d-85a1e7dd5672",
   "metadata": {},
   "outputs": [
    {
     "data": {
      "text/plain": [
       "[<matplotlib.lines.Line2D at 0x144d85fcbe0>]"
      ]
     },
     "execution_count": 15,
     "metadata": {},
     "output_type": "execute_result"
    },
    {
     "data": {
      "image/png": "[encoded data removed]",
      "text/plain": [
       "<Figure size 432x288 with 1 Axes>"
      ]
     },
     "metadata": {
      "needs_background": "light"
     },
     "output_type": "display_data"
    }
   ],
   "source": [
    "plt.plot(train)\n",
    "plt.plot(test)"
   ]
  },
  {
   "cell_type": "code",
   "execution_count": 16,
   "id": "84526c5a-64dd-43ac-a787-82de50627a3a",
   "metadata": {},
   "outputs": [
    {
     "data": {
      "text/plain": [
       "ARIMA(order=(0, 0, 0), scoring_args={}, suppress_warnings=True)"
      ]
     },
     "execution_count": 16,
     "metadata": {},
     "output_type": "execute_result"
    }
   ],
   "source": [
    "## Running auto_arima to obtain p, d, q variables\n",
    "model = pm.auto_arima(Swine['Meat, Swine'], seasonal=False)\n",
    "model"
   ]
  },
  {
   "cell_type": "markdown",
   "id": "1e1690d3-faf1-4517-ac0d-7c245122a543",
   "metadata": {},
   "source": [
    "# ARIMA(order=(p=0, d=0, q=0)"
   ]
  },
  {
   "cell_type": "code",
   "execution_count": 17,
   "id": "8c7d0203-a2a2-4c5b-bc82-3f947292c40e",
   "metadata": {},
   "outputs": [
    {
     "name": "stdout",
     "output_type": "stream",
     "text": [
      "Performing stepwise search to minimize aic\n",
      " ARIMA(0,0,0)(0,0,0)[12] intercept   : AIC=1196.451, Time=0.01 sec\n",
      " ARIMA(1,0,0)(1,0,0)[12] intercept   : AIC=1199.385, Time=0.10 sec\n",
      " ARIMA(0,0,1)(0,0,1)[12] intercept   : AIC=1199.045, Time=0.05 sec\n",
      " ARIMA(0,0,0)(0,0,0)[12]             : AIC=1208.663, Time=0.01 sec\n",
      " ARIMA(0,0,0)(1,0,0)[12] intercept   : AIC=1197.853, Time=0.04 sec\n",
      " ARIMA(0,0,0)(0,0,1)[12] intercept   : AIC=1197.338, Time=0.07 sec\n",
      " ARIMA(0,0,0)(1,0,1)[12] intercept   : AIC=1199.210, Time=0.06 sec\n",
      " ARIMA(1,0,0)(0,0,0)[12] intercept   : AIC=1197.700, Time=0.02 sec\n",
      " ARIMA(0,0,1)(0,0,0)[12] intercept   : AIC=1198.024, Time=0.02 sec\n",
      " ARIMA(1,0,1)(0,0,0)[12] intercept   : AIC=1199.598, Time=0.03 sec\n",
      "\n",
      "Best model:  ARIMA(0,0,0)(0,0,0)[12] intercept\n",
      "Total fit time: 0.422 seconds\n"
     ]
    }
   ],
   "source": [
    "# Manually Building Auto ARIMA model\n",
    "arima_model =  auto_arima(train,start_p=0, d=0, start_q=0, \n",
    "                          max_p=5, max_d=5, max_q=5, start_P=0, \n",
    "                          D=0, start_Q=0, max_P=5, max_D=5,\n",
    "                          max_Q=5, m=12, seasonal=True, \n",
    "                          error_action='warn',trace = True,\n",
    "                          supress_warnings=True,stepwise = True,\n",
    "                          random_state=20,n_fits = 50 )"
   ]
  },
  {
   "cell_type": "markdown",
   "id": "4b8dd81a-8558-487d-9f11-e7a50af51e5e",
   "metadata": {},
   "source": [
    "# Best model confirmed p=0 d=0 q=0.\n",
    "# model result  - ARIMA(0,0,0)(0,0,0)[12] intercept: AIC=1196.451"
   ]
  },
  {
   "cell_type": "code",
   "execution_count": 19,
   "id": "83ba203d-51f0-48c6-9c1f-2086a7f01c30",
   "metadata": {},
   "outputs": [
    {
     "data": {
      "text/html": [
       "<table class=\"simpletable\">\n",
       "<caption>SARIMAX Results</caption>\n",
       "<tr>\n",
       "  <th>Dep. Variable:</th>           <td>y</td>        <th>  No. Observations:  </th>    <td>20</td>   \n",
       "</tr>\n",
       "<tr>\n",
       "  <th>Model:</th>                <td>SARIMAX</td>     <th>  Log Likelihood     </th> <td>-596.226</td>\n",
       "</tr>\n",
       "<tr>\n",
       "  <th>Date:</th>            <td>Tue, 19 Jul 2022</td> <th>  AIC                </th> <td>1196.451</td>\n",
       "</tr>\n",
       "<tr>\n",
       "  <th>Time:</th>                <td>23:59:54</td>     <th>  BIC                </th> <td>1198.442</td>\n",
       "</tr>\n",
       "<tr>\n",
       "  <th>Sample:</th>                  <td>0</td>        <th>  HQIC               </th> <td>1196.840</td>\n",
       "</tr>\n",
       "<tr>\n",
       "  <th></th>                       <td> - 20</td>      <th>                     </th>     <td> </td>   \n",
       "</tr>\n",
       "<tr>\n",
       "  <th>Covariance Type:</th>        <td>opg</td>       <th>                     </th>     <td> </td>   \n",
       "</tr>\n",
       "</table>\n",
       "<table class=\"simpletable\">\n",
       "<tr>\n",
       "      <td></td>         <th>coef</th>     <th>std err</th>      <th>z</th>      <th>P>|z|</th>  <th>[0.025</th>    <th>0.975]</th>  \n",
       "</tr>\n",
       "<tr>\n",
       "  <th>intercept</th> <td> 2.178e+12</td> <td> 4.79e+11</td> <td>    4.550</td> <td> 0.000</td> <td> 1.24e+12</td> <td> 3.12e+12</td>\n",
       "</tr>\n",
       "<tr>\n",
       "  <th>sigma2</th>    <td> 4.584e+24</td> <td>    0.028</td> <td> 1.64e+26</td> <td> 0.000</td> <td> 4.58e+24</td> <td> 4.58e+24</td>\n",
       "</tr>\n",
       "</table>\n",
       "<table class=\"simpletable\">\n",
       "<tr>\n",
       "  <th>Ljung-Box (L1) (Q):</th>     <td>0.86</td> <th>  Jarque-Bera (JB):  </th> <td>3.11</td>\n",
       "</tr>\n",
       "<tr>\n",
       "  <th>Prob(Q):</th>                <td>0.35</td> <th>  Prob(JB):          </th> <td>0.21</td>\n",
       "</tr>\n",
       "<tr>\n",
       "  <th>Heteroskedasticity (H):</th> <td>0.78</td> <th>  Skew:              </th> <td>0.25</td>\n",
       "</tr>\n",
       "<tr>\n",
       "  <th>Prob(H) (two-sided):</th>    <td>0.75</td> <th>  Kurtosis:          </th> <td>1.13</td>\n",
       "</tr>\n",
       "</table><br/><br/>Warnings:<br/>[1] Covariance matrix calculated using the outer product of gradients (complex-step).<br/>[2] Covariance matrix is singular or near-singular, with condition number    inf. Standard errors may be unstable."
      ],
      "text/plain": [
       "<class 'statsmodels.iolib.summary.Summary'>\n",
       "\"\"\"\n",
       "                               SARIMAX Results                                \n",
       "==============================================================================\n",
       "Dep. Variable:                      y   No. Observations:                   20\n",
       "Model:                        SARIMAX   Log Likelihood                -596.226\n",
       "Date:                Tue, 19 Jul 2022   AIC                           1196.451\n",
       "Time:                        23:59:54   BIC                           1198.442\n",
       "Sample:                             0   HQIC                          1196.840\n",
       "                                 - 20                                         \n",
       "Covariance Type:                  opg                                         \n",
       "==============================================================================\n",
       "                 coef    std err          z      P>|z|      [0.025      0.975]\n",
       "------------------------------------------------------------------------------\n",
       "intercept   2.178e+12   4.79e+11      4.550      0.000    1.24e+12    3.12e+12\n",
       "sigma2      4.584e+24      0.028   1.64e+26      0.000    4.58e+24    4.58e+24\n",
       "===================================================================================\n",
       "Ljung-Box (L1) (Q):                   0.86   Jarque-Bera (JB):                 3.11\n",
       "Prob(Q):                              0.35   Prob(JB):                         0.21\n",
       "Heteroskedasticity (H):               0.78   Skew:                             0.25\n",
       "Prob(H) (two-sided):                  0.75   Kurtosis:                         1.13\n",
       "===================================================================================\n",
       "\n",
       "Warnings:\n",
       "[1] Covariance matrix calculated using the outer product of gradients (complex-step).\n",
       "[2] Covariance matrix is singular or near-singular, with condition number    inf. Standard errors may be unstable.\n",
       "\"\"\""
      ]
     },
     "execution_count": 19,
     "metadata": {},
     "output_type": "execute_result"
    }
   ],
   "source": [
    "#Summary of the model\n",
    "arima_model.summary()"
   ]
  },
  {
   "cell_type": "code",
   "execution_count": 20,
   "id": "6f11efb9-21e3-4162-8206-fbb4a17156a4",
   "metadata": {},
   "outputs": [
    {
     "data": {
      "text/html": [
       "<div>\n",
       "<style scoped>\n",
       "    .dataframe tbody tr th:only-of-type {\n",
       "        vertical-align: middle;\n",
       "    }\n",
       "\n",
       "    .dataframe tbody tr th {\n",
       "        vertical-align: top;\n",
       "    }\n",
       "\n",
       "    .dataframe thead th {\n",
       "        text-align: right;\n",
       "    }\n",
       "</style>\n",
       "<table border=\"1\" class=\"dataframe\">\n",
       "  <thead>\n",
       "    <tr style=\"text-align: right;\">\n",
       "      <th></th>\n",
       "      <th>predicted_values</th>\n",
       "    </tr>\n",
       "    <tr>\n",
       "      <th>Year</th>\n",
       "      <th></th>\n",
       "    </tr>\n",
       "  </thead>\n",
       "  <tbody>\n",
       "    <tr>\n",
       "      <th>2018-01-01</th>\n",
       "      <td>2.178437e+12</td>\n",
       "    </tr>\n",
       "    <tr>\n",
       "      <th>2019-01-01</th>\n",
       "      <td>2.178437e+12</td>\n",
       "    </tr>\n",
       "    <tr>\n",
       "      <th>2020-01-01</th>\n",
       "      <td>2.178437e+12</td>\n",
       "    </tr>\n",
       "    <tr>\n",
       "      <th>2021-01-01</th>\n",
       "      <td>2.178437e+12</td>\n",
       "    </tr>\n",
       "  </tbody>\n",
       "</table>\n",
       "</div>"
      ],
      "text/plain": [
       "            predicted_values\n",
       "Year                        \n",
       "2018-01-01      2.178437e+12\n",
       "2019-01-01      2.178437e+12\n",
       "2020-01-01      2.178437e+12\n",
       "2021-01-01      2.178437e+12"
      ]
     },
     "execution_count": 20,
     "metadata": {},
     "output_type": "execute_result"
    }
   ],
   "source": [
    "# Forecasting on the test data\n",
    "prediction = pd.DataFrame(arima_model.predict(n_periods = 4),index=test.index)\n",
    "prediction.columns = ['predicted_values']\n",
    "prediction"
   ]
  },
  {
   "cell_type": "code",
   "execution_count": 21,
   "id": "71af418f-65de-4ec7-8477-c437394c889b",
   "metadata": {},
   "outputs": [
    {
     "data": {
      "image/png": "[encoded data removed]",
      "text/plain": [
       "<Figure size 576x360 with 1 Axes>"
      ]
     },
     "metadata": {
      "needs_background": "light"
     },
     "output_type": "display_data"
    }
   ],
   "source": [
    "# Plotting against actual values\n",
    "plt.figure(figsize=(8,5))\n",
    "plt.plot(train,label=\"Training\")\n",
    "plt.plot(test,label=\"Test\")\n",
    "plt.plot(prediction,label=\"Predicted\")\n",
    "plt.legend(loc = 'best')\n",
    "plt.show()"
   ]
  },
  {
   "cell_type": "code",
   "execution_count": 24,
   "id": "745e7ec5-22f5-4bbf-ac73-01fcd42cbf67",
   "metadata": {},
   "outputs": [
    {
     "name": "stderr",
     "output_type": "stream",
     "text": [
      "C:\\Users\\airos\\AppData\\Local\\Temp/ipykernel_6652/940659276.py:2: SettingWithCopyWarning: \n",
      "A value is trying to be set on a copy of a slice from a DataFrame.\n",
      "Try using .loc[row_indexer,col_indexer] = value instead\n",
      "\n",
      "See the caveats in the documentation: https://pandas.pydata.org/pandas-docs/stable/user_guide/indexing.html#returning-a-view-versus-a-copy\n",
      "  test['predicted_values'] = prediction\n"
     ]
    },
    {
     "data": {
      "text/plain": [
       "-0.007751082217843264"
      ]
     },
     "execution_count": 24,
     "metadata": {},
     "output_type": "execute_result"
    }
   ],
   "source": [
    "# Looking at R2 score\n",
    "test['predicted_values'] = prediction\n",
    "r2_score(test['Meat, Swine'], test['predicted_values'])"
   ]
  },
  {
   "cell_type": "markdown",
   "id": "ede66d0a-7c30-4189-a1f8-7c9c23165be4",
   "metadata": {},
   "source": [
    "### INDICATES less error than Dairy ARIMA but still something to correct."
   ]
  },
  {
   "cell_type": "code",
   "execution_count": 25,
   "id": "46f06725-06ed-4c91-bd71-4fe0333bf02f",
   "metadata": {},
   "outputs": [
    {
     "data": {
      "image/png": "[encoded data removed]",
      "text/plain": [
       "<Figure size 648x504 with 4 Axes>"
      ]
     },
     "metadata": {
      "needs_background": "light"
     },
     "output_type": "display_data"
    }
   ],
   "source": [
    "# Interpreting residual plots\n",
    "arima_model.plot_diagnostics(figsize=(9,7))\n",
    "plt.show()"
   ]
  },
  {
   "cell_type": "markdown",
   "id": "a228a437-1d06-4a0f-a33c-e7e72aabfb34",
   "metadata": {},
   "source": [
    "### Upper left plot reveals pretty close variance on both sides of 0, Upper right plot reveals almost no normality \n",
    "### (I'd like to correct for this), Lower left reveals a high deviation of the points from the trend line (I'd like to correct for this),\n",
    "### and the lower right reveals hardly any deviation from the projected range we are looking at. "
   ]
  },
  {
   "cell_type": "code",
   "execution_count": 26,
   "id": "fe77369b-7e23-4e0e-8dcb-4609e2256604",
   "metadata": {},
   "outputs": [
    {
     "name": "stdout",
     "output_type": "stream",
     "text": [
      "   Year predicted_values\n",
      "0  2022              NaN\n",
      "1  2023              NaN\n",
      "2  2024              NaN\n",
      "3  2025              NaN\n"
     ]
    }
   ],
   "source": [
    "# Creating new dataframe for future forecasting\n",
    "future = {'Year':  [2022, 2023, 2024, 2025],\n",
    "        'predicted_values': ['NaN', 'NaN', 'NaN', 'NaN']}\n",
    "\n",
    "future = pd.DataFrame(future)\n",
    "print (future)"
   ]
  },
  {
   "cell_type": "code",
   "execution_count": 27,
   "id": "747779cd-ea8d-4bf6-b19d-a9fe75c40401",
   "metadata": {},
   "outputs": [],
   "source": [
    "# Formatting Year to date datatype \n",
    "future['Year'] = pd.to_datetime(future['Year'], format='%Y')"
   ]
  },
  {
   "cell_type": "code",
   "execution_count": 28,
   "id": "1e331249-3d67-4a64-be75-52010fb8fbd4",
   "metadata": {},
   "outputs": [
    {
     "data": {
      "text/html": [
       "<div>\n",
       "<style scoped>\n",
       "    .dataframe tbody tr th:only-of-type {\n",
       "        vertical-align: middle;\n",
       "    }\n",
       "\n",
       "    .dataframe tbody tr th {\n",
       "        vertical-align: top;\n",
       "    }\n",
       "\n",
       "    .dataframe thead th {\n",
       "        text-align: right;\n",
       "    }\n",
       "</style>\n",
       "<table border=\"1\" class=\"dataframe\">\n",
       "  <thead>\n",
       "    <tr style=\"text-align: right;\">\n",
       "      <th></th>\n",
       "      <th>predicted_values</th>\n",
       "    </tr>\n",
       "    <tr>\n",
       "      <th>Year</th>\n",
       "      <th></th>\n",
       "    </tr>\n",
       "  </thead>\n",
       "  <tbody>\n",
       "    <tr>\n",
       "      <th>2022-01-01</th>\n",
       "      <td>NaN</td>\n",
       "    </tr>\n",
       "    <tr>\n",
       "      <th>2023-01-01</th>\n",
       "      <td>NaN</td>\n",
       "    </tr>\n",
       "    <tr>\n",
       "      <th>2024-01-01</th>\n",
       "      <td>NaN</td>\n",
       "    </tr>\n",
       "    <tr>\n",
       "      <th>2025-01-01</th>\n",
       "      <td>NaN</td>\n",
       "    </tr>\n",
       "  </tbody>\n",
       "</table>\n",
       "</div>"
      ],
      "text/plain": [
       "           predicted_values\n",
       "Year                       \n",
       "2022-01-01              NaN\n",
       "2023-01-01              NaN\n",
       "2024-01-01              NaN\n",
       "2025-01-01              NaN"
      ]
     },
     "execution_count": 28,
     "metadata": {},
     "output_type": "execute_result"
    }
   ],
   "source": [
    "## Setting Year as index\n",
    "future.set_index('Year', inplace=True)\n",
    "type(future)\n",
    "future"
   ]
  },
  {
   "cell_type": "code",
   "execution_count": 30,
   "id": "0499adb7-267e-43de-aa64-01f5e10c661e",
   "metadata": {},
   "outputs": [
    {
     "name": "stderr",
     "output_type": "stream",
     "text": [
      "C:\\Users\\airos\\AppData\\Local\\Temp/ipykernel_6652/1984544370.py:2: FutureWarning: The frame.append method is deprecated and will be removed from pandas in a future version. Use pandas.concat instead.\n",
      "  futureprediction = Swine.append(future)\n"
     ]
    },
    {
     "data": {
      "text/html": [
       "<div>\n",
       "<style scoped>\n",
       "    .dataframe tbody tr th:only-of-type {\n",
       "        vertical-align: middle;\n",
       "    }\n",
       "\n",
       "    .dataframe tbody tr th {\n",
       "        vertical-align: top;\n",
       "    }\n",
       "\n",
       "    .dataframe thead th {\n",
       "        text-align: right;\n",
       "    }\n",
       "</style>\n",
       "<table border=\"1\" class=\"dataframe\">\n",
       "  <thead>\n",
       "    <tr style=\"text-align: right;\">\n",
       "      <th></th>\n",
       "      <th>Meat, Swine</th>\n",
       "      <th>predicted_values</th>\n",
       "    </tr>\n",
       "    <tr>\n",
       "      <th>Year</th>\n",
       "      <th></th>\n",
       "      <th></th>\n",
       "    </tr>\n",
       "  </thead>\n",
       "  <tbody>\n",
       "    <tr>\n",
       "      <th>1998-01-01</th>\n",
       "      <td>4.740312e+12</td>\n",
       "      <td>NaN</td>\n",
       "    </tr>\n",
       "    <tr>\n",
       "      <th>1999-01-01</th>\n",
       "      <td>4.476775e+12</td>\n",
       "      <td>NaN</td>\n",
       "    </tr>\n",
       "    <tr>\n",
       "      <th>2000-01-01</th>\n",
       "      <td>2.395490e+11</td>\n",
       "      <td>NaN</td>\n",
       "    </tr>\n",
       "    <tr>\n",
       "      <th>2001-01-01</th>\n",
       "      <td>2.518540e+11</td>\n",
       "      <td>NaN</td>\n",
       "    </tr>\n",
       "    <tr>\n",
       "      <th>2002-01-01</th>\n",
       "      <td>3.871860e+11</td>\n",
       "      <td>NaN</td>\n",
       "    </tr>\n",
       "    <tr>\n",
       "      <th>2003-01-01</th>\n",
       "      <td>5.282724e+12</td>\n",
       "      <td>NaN</td>\n",
       "    </tr>\n",
       "    <tr>\n",
       "      <th>2004-01-01</th>\n",
       "      <td>3.037000e+11</td>\n",
       "      <td>NaN</td>\n",
       "    </tr>\n",
       "    <tr>\n",
       "      <th>2005-01-01</th>\n",
       "      <td>4.822010e+12</td>\n",
       "      <td>NaN</td>\n",
       "    </tr>\n",
       "    <tr>\n",
       "      <th>2006-01-01</th>\n",
       "      <td>4.800686e+12</td>\n",
       "      <td>NaN</td>\n",
       "    </tr>\n",
       "    <tr>\n",
       "      <th>2007-01-01</th>\n",
       "      <td>4.274204e+12</td>\n",
       "      <td>NaN</td>\n",
       "    </tr>\n",
       "    <tr>\n",
       "      <th>2008-01-01</th>\n",
       "      <td>3.866379e+12</td>\n",
       "      <td>NaN</td>\n",
       "    </tr>\n",
       "    <tr>\n",
       "      <th>2009-01-01</th>\n",
       "      <td>3.988483e+12</td>\n",
       "      <td>NaN</td>\n",
       "    </tr>\n",
       "    <tr>\n",
       "      <th>2010-01-01</th>\n",
       "      <td>2.168160e+11</td>\n",
       "      <td>NaN</td>\n",
       "    </tr>\n",
       "    <tr>\n",
       "      <th>2011-01-01</th>\n",
       "      <td>2.766900e+11</td>\n",
       "      <td>NaN</td>\n",
       "    </tr>\n",
       "    <tr>\n",
       "      <th>2012-01-01</th>\n",
       "      <td>2.880412e+11</td>\n",
       "      <td>NaN</td>\n",
       "    </tr>\n",
       "    <tr>\n",
       "      <th>2013-01-01</th>\n",
       "      <td>4.463810e+12</td>\n",
       "      <td>NaN</td>\n",
       "    </tr>\n",
       "    <tr>\n",
       "      <th>2014-01-01</th>\n",
       "      <td>2.948340e+11</td>\n",
       "      <td>NaN</td>\n",
       "    </tr>\n",
       "    <tr>\n",
       "      <th>2015-01-01</th>\n",
       "      <td>3.084400e+11</td>\n",
       "      <td>NaN</td>\n",
       "    </tr>\n",
       "    <tr>\n",
       "      <th>2016-01-01</th>\n",
       "      <td>2.770050e+11</td>\n",
       "      <td>NaN</td>\n",
       "    </tr>\n",
       "    <tr>\n",
       "      <th>2017-01-01</th>\n",
       "      <td>9.250000e+09</td>\n",
       "      <td>NaN</td>\n",
       "    </tr>\n",
       "    <tr>\n",
       "      <th>2018-01-01</th>\n",
       "      <td>4.734966e+12</td>\n",
       "      <td>NaN</td>\n",
       "    </tr>\n",
       "    <tr>\n",
       "      <th>2019-01-01</th>\n",
       "      <td>4.473878e+12</td>\n",
       "      <td>NaN</td>\n",
       "    </tr>\n",
       "    <tr>\n",
       "      <th>2020-01-01</th>\n",
       "      <td>2.822600e+11</td>\n",
       "      <td>NaN</td>\n",
       "    </tr>\n",
       "    <tr>\n",
       "      <th>2021-01-01</th>\n",
       "      <td>9.147000e+09</td>\n",
       "      <td>NaN</td>\n",
       "    </tr>\n",
       "    <tr>\n",
       "      <th>2022-01-01</th>\n",
       "      <td>NaN</td>\n",
       "      <td>NaN</td>\n",
       "    </tr>\n",
       "    <tr>\n",
       "      <th>2023-01-01</th>\n",
       "      <td>NaN</td>\n",
       "      <td>NaN</td>\n",
       "    </tr>\n",
       "    <tr>\n",
       "      <th>2024-01-01</th>\n",
       "      <td>NaN</td>\n",
       "      <td>NaN</td>\n",
       "    </tr>\n",
       "    <tr>\n",
       "      <th>2025-01-01</th>\n",
       "      <td>NaN</td>\n",
       "      <td>NaN</td>\n",
       "    </tr>\n",
       "  </tbody>\n",
       "</table>\n",
       "</div>"
      ],
      "text/plain": [
       "             Meat, Swine predicted_values\n",
       "Year                                     \n",
       "1998-01-01  4.740312e+12              NaN\n",
       "1999-01-01  4.476775e+12              NaN\n",
       "2000-01-01  2.395490e+11              NaN\n",
       "2001-01-01  2.518540e+11              NaN\n",
       "2002-01-01  3.871860e+11              NaN\n",
       "2003-01-01  5.282724e+12              NaN\n",
       "2004-01-01  3.037000e+11              NaN\n",
       "2005-01-01  4.822010e+12              NaN\n",
       "2006-01-01  4.800686e+12              NaN\n",
       "2007-01-01  4.274204e+12              NaN\n",
       "2008-01-01  3.866379e+12              NaN\n",
       "2009-01-01  3.988483e+12              NaN\n",
       "2010-01-01  2.168160e+11              NaN\n",
       "2011-01-01  2.766900e+11              NaN\n",
       "2012-01-01  2.880412e+11              NaN\n",
       "2013-01-01  4.463810e+12              NaN\n",
       "2014-01-01  2.948340e+11              NaN\n",
       "2015-01-01  3.084400e+11              NaN\n",
       "2016-01-01  2.770050e+11              NaN\n",
       "2017-01-01  9.250000e+09              NaN\n",
       "2018-01-01  4.734966e+12              NaN\n",
       "2019-01-01  4.473878e+12              NaN\n",
       "2020-01-01  2.822600e+11              NaN\n",
       "2021-01-01  9.147000e+09              NaN\n",
       "2022-01-01           NaN              NaN\n",
       "2023-01-01           NaN              NaN\n",
       "2024-01-01           NaN              NaN\n",
       "2025-01-01           NaN              NaN"
      ]
     },
     "execution_count": 30,
     "metadata": {},
     "output_type": "execute_result"
    }
   ],
   "source": [
    "# Appending Future DF to justSwine DF\n",
    "futureprediction = Swine.append(future)\n",
    "futureprediction"
   ]
  },
  {
   "cell_type": "code",
   "execution_count": 31,
   "id": "75050fb2-3e81-4111-824c-510645201805",
   "metadata": {},
   "outputs": [
    {
     "data": {
      "text/html": [
       "<div>\n",
       "<style scoped>\n",
       "    .dataframe tbody tr th:only-of-type {\n",
       "        vertical-align: middle;\n",
       "    }\n",
       "\n",
       "    .dataframe tbody tr th {\n",
       "        vertical-align: top;\n",
       "    }\n",
       "\n",
       "    .dataframe thead th {\n",
       "        text-align: right;\n",
       "    }\n",
       "</style>\n",
       "<table border=\"1\" class=\"dataframe\">\n",
       "  <thead>\n",
       "    <tr style=\"text-align: right;\">\n",
       "      <th></th>\n",
       "      <th>predicted_values</th>\n",
       "    </tr>\n",
       "    <tr>\n",
       "      <th>Year</th>\n",
       "      <th></th>\n",
       "    </tr>\n",
       "  </thead>\n",
       "  <tbody>\n",
       "    <tr>\n",
       "      <th>1998-01-01</th>\n",
       "      <td>2.178437e+12</td>\n",
       "    </tr>\n",
       "    <tr>\n",
       "      <th>1999-01-01</th>\n",
       "      <td>2.178437e+12</td>\n",
       "    </tr>\n",
       "    <tr>\n",
       "      <th>2000-01-01</th>\n",
       "      <td>2.178437e+12</td>\n",
       "    </tr>\n",
       "    <tr>\n",
       "      <th>2001-01-01</th>\n",
       "      <td>2.178437e+12</td>\n",
       "    </tr>\n",
       "    <tr>\n",
       "      <th>2002-01-01</th>\n",
       "      <td>2.178437e+12</td>\n",
       "    </tr>\n",
       "    <tr>\n",
       "      <th>2003-01-01</th>\n",
       "      <td>2.178437e+12</td>\n",
       "    </tr>\n",
       "    <tr>\n",
       "      <th>2004-01-01</th>\n",
       "      <td>2.178437e+12</td>\n",
       "    </tr>\n",
       "    <tr>\n",
       "      <th>2005-01-01</th>\n",
       "      <td>2.178437e+12</td>\n",
       "    </tr>\n",
       "    <tr>\n",
       "      <th>2006-01-01</th>\n",
       "      <td>2.178437e+12</td>\n",
       "    </tr>\n",
       "    <tr>\n",
       "      <th>2007-01-01</th>\n",
       "      <td>2.178437e+12</td>\n",
       "    </tr>\n",
       "    <tr>\n",
       "      <th>2008-01-01</th>\n",
       "      <td>2.178437e+12</td>\n",
       "    </tr>\n",
       "    <tr>\n",
       "      <th>2009-01-01</th>\n",
       "      <td>2.178437e+12</td>\n",
       "    </tr>\n",
       "    <tr>\n",
       "      <th>2010-01-01</th>\n",
       "      <td>2.178437e+12</td>\n",
       "    </tr>\n",
       "    <tr>\n",
       "      <th>2011-01-01</th>\n",
       "      <td>2.178437e+12</td>\n",
       "    </tr>\n",
       "    <tr>\n",
       "      <th>2012-01-01</th>\n",
       "      <td>2.178437e+12</td>\n",
       "    </tr>\n",
       "    <tr>\n",
       "      <th>2013-01-01</th>\n",
       "      <td>2.178437e+12</td>\n",
       "    </tr>\n",
       "    <tr>\n",
       "      <th>2014-01-01</th>\n",
       "      <td>2.178437e+12</td>\n",
       "    </tr>\n",
       "    <tr>\n",
       "      <th>2015-01-01</th>\n",
       "      <td>2.178437e+12</td>\n",
       "    </tr>\n",
       "    <tr>\n",
       "      <th>2016-01-01</th>\n",
       "      <td>2.178437e+12</td>\n",
       "    </tr>\n",
       "    <tr>\n",
       "      <th>2017-01-01</th>\n",
       "      <td>2.178437e+12</td>\n",
       "    </tr>\n",
       "    <tr>\n",
       "      <th>2018-01-01</th>\n",
       "      <td>2.178437e+12</td>\n",
       "    </tr>\n",
       "    <tr>\n",
       "      <th>2019-01-01</th>\n",
       "      <td>2.178437e+12</td>\n",
       "    </tr>\n",
       "    <tr>\n",
       "      <th>2020-01-01</th>\n",
       "      <td>2.178437e+12</td>\n",
       "    </tr>\n",
       "    <tr>\n",
       "      <th>2021-01-01</th>\n",
       "      <td>2.178437e+12</td>\n",
       "    </tr>\n",
       "    <tr>\n",
       "      <th>2022-01-01</th>\n",
       "      <td>2.178437e+12</td>\n",
       "    </tr>\n",
       "    <tr>\n",
       "      <th>2023-01-01</th>\n",
       "      <td>2.178437e+12</td>\n",
       "    </tr>\n",
       "    <tr>\n",
       "      <th>2024-01-01</th>\n",
       "      <td>2.178437e+12</td>\n",
       "    </tr>\n",
       "    <tr>\n",
       "      <th>2025-01-01</th>\n",
       "      <td>2.178437e+12</td>\n",
       "    </tr>\n",
       "  </tbody>\n",
       "</table>\n",
       "</div>"
      ],
      "text/plain": [
       "            predicted_values\n",
       "Year                        \n",
       "1998-01-01      2.178437e+12\n",
       "1999-01-01      2.178437e+12\n",
       "2000-01-01      2.178437e+12\n",
       "2001-01-01      2.178437e+12\n",
       "2002-01-01      2.178437e+12\n",
       "2003-01-01      2.178437e+12\n",
       "2004-01-01      2.178437e+12\n",
       "2005-01-01      2.178437e+12\n",
       "2006-01-01      2.178437e+12\n",
       "2007-01-01      2.178437e+12\n",
       "2008-01-01      2.178437e+12\n",
       "2009-01-01      2.178437e+12\n",
       "2010-01-01      2.178437e+12\n",
       "2011-01-01      2.178437e+12\n",
       "2012-01-01      2.178437e+12\n",
       "2013-01-01      2.178437e+12\n",
       "2014-01-01      2.178437e+12\n",
       "2015-01-01      2.178437e+12\n",
       "2016-01-01      2.178437e+12\n",
       "2017-01-01      2.178437e+12\n",
       "2018-01-01      2.178437e+12\n",
       "2019-01-01      2.178437e+12\n",
       "2020-01-01      2.178437e+12\n",
       "2021-01-01      2.178437e+12\n",
       "2022-01-01      2.178437e+12\n",
       "2023-01-01      2.178437e+12\n",
       "2024-01-01      2.178437e+12\n",
       "2025-01-01      2.178437e+12"
      ]
     },
     "execution_count": 31,
     "metadata": {},
     "output_type": "execute_result"
    }
   ],
   "source": [
    "# Setting number of points to forecast\n",
    "h=28\n",
    "# Generating forecast\n",
    "forecast2 = pd.DataFrame(arima_model.predict(h), index=futureprediction.index)\n",
    "forecast2.columns = ['predicted_values']\n",
    "forecast2"
   ]
  },
  {
   "cell_type": "code",
   "execution_count": null,
   "id": "1838af99-737f-4c03-9630-a78795899f86",
   "metadata": {},
   "outputs": [],
   "source": [
    "# 2023 Honey Prediction Values based off of Swine Commodity Forecasting\n",
    "\n",
    "\n",
    "# ******Using Swine+Honey linear regression equation performed in Cat1Pivot; (Seq) = -55.5376(Honey)+13930000.0) we can solve for Honey.\n",
    "\n",
    "### US Swine production for 2023 is forecasted at 2.178437e+12, or 2178437000000.0 Metric Tons.\n",
    "\n",
    "\n",
    "### if we plug our values into the Linear regression formula Honey Production = \n",
    "### 2178437000000.0 = -55.5376(Honey)+13930000.0 (solving below)\n",
    "### So Honey production is predicted to produce -39224292551.3526 metric tons in 2023."
   ]
  },
  {
   "cell_type": "code",
   "execution_count": 32,
   "id": "2e84f303-3cf0-426d-b4f3-78b1431c4903",
   "metadata": {},
   "outputs": [
    {
     "data": {
      "text/plain": [
       "2178423070000.0"
      ]
     },
     "execution_count": 32,
     "metadata": {},
     "output_type": "execute_result"
    }
   ],
   "source": [
    "2178437000000.0 - 13930000.0"
   ]
  },
  {
   "cell_type": "code",
   "execution_count": 33,
   "id": "07a90392-efa7-4696-b976-9cf5b5d8f5fd",
   "metadata": {},
   "outputs": [
    {
     "data": {
      "text/plain": [
       "-39224292551.3526"
      ]
     },
     "execution_count": 33,
     "metadata": {},
     "output_type": "execute_result"
    }
   ],
   "source": [
    "2178423070000.0 /-55.5376"
   ]
  },
  {
   "cell_type": "markdown",
   "id": "ad3fa0e9-7a00-4569-9b1e-b81de570d5dd",
   "metadata": {},
   "source": [
    "### Honey = -39,224,292,551.3526"
   ]
  }
 ],
 "metadata": {
  "kernelspec": {
   "display_name": "Python 3 (ipykernel)",
   "language": "python",
   "name": "python3"
  },
  "language_info": {
   "codemirror_mode": {
    "name": "ipython",
    "version": 3
   },
   "file_extension": ".py",
   "mimetype": "text/x-python",
   "name": "python",
   "nbconvert_exporter": "python",
   "pygments_lexer": "ipython3",
   "version": "3.9.7"
  }
 },
 "nbformat": 4,
 "nbformat_minor": 5
}
