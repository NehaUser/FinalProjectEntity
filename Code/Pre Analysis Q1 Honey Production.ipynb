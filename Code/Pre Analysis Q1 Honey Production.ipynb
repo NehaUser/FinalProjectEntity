{
 "cells": [
  {
   "cell_type": "markdown",
   "id": "2e6043d2-3bcc-4aaa-b944-82a7fadde04f",
   "metadata": {
    "tags": []
   },
   "source": [
    "# Pre-Analsis Honey Production Data"
   ]
  },
  {
   "cell_type": "markdown",
   "id": "bb4b27c6-ca9a-4c73-b7a6-5eb5356c6729",
   "metadata": {},
   "source": [
    "## 1. What states have the highest production value (price per lb)?"
   ]
  },
  {
   "cell_type": "markdown",
   "id": "10f13657-cb23-4bc6-b355-028e53b40d42",
   "metadata": {},
   "source": [
    "## Import Packages"
   ]
  },
  {
   "cell_type": "code",
   "execution_count": 2,
   "id": "064c88e0-2392-4e58-84fc-b95a826300e4",
   "metadata": {},
   "outputs": [],
   "source": [
    "import numpy as np\n",
    "import pandas as pd\n",
    "import matplotlib.pyplot as plt\n",
    "import seaborn as sns\n",
    "import matplotlib.pyplot as plt\n",
    "import matplotlib.mlab as mlab\n",
    "from pylab import *\n",
    "%matplotlib inline\n",
    "import statsmodels.api as sm\n",
    "import statsmodels.stats.api as sms\n",
    "from scipy.stats import boxcox\n",
    "import warnings\n",
    "warnings.filterwarnings('ignore')"
   ]
  },
  {
   "cell_type": "markdown",
   "id": "587145de-d987-4399-9776-99c126b9409c",
   "metadata": {},
   "source": [
    "## Read in Data"
   ]
  },
  {
   "cell_type": "code",
   "execution_count": 28,
   "id": "69fda07b-4305-4be6-b92b-65eb2fb9721e",
   "metadata": {},
   "outputs": [],
   "source": [
    "honey_production = pd.read_csv(r\"C:\\Users\\sdstc\\Documents\\GitHub\\FinalProjectEntity\\Data\\honeyproduction.csv\")"
   ]
  },
  {
   "cell_type": "code",
   "execution_count": 22,
   "id": "3d7db158-1258-476b-a0c9-d4e148c2c53d",
   "metadata": {},
   "outputs": [
    {
     "name": "stdout",
     "output_type": "stream",
     "text": [
      "<class 'pandas.core.frame.DataFrame'>\n",
      "RangeIndex: 626 entries, 0 to 625\n",
      "Data columns (total 8 columns):\n",
      " #   Column       Non-Null Count  Dtype  \n",
      "---  ------       --------------  -----  \n",
      " 0   state        626 non-null    object \n",
      " 1   numcol       626 non-null    float64\n",
      " 2   yieldpercol  626 non-null    int64  \n",
      " 3   totalprod    626 non-null    float64\n",
      " 4   stocks       626 non-null    float64\n",
      " 5   priceperlb   626 non-null    float64\n",
      " 6   prodvalue    626 non-null    float64\n",
      " 7   year         626 non-null    int64  \n",
      "dtypes: float64(5), int64(2), object(1)\n",
      "memory usage: 39.2+ KB\n"
     ]
    }
   ],
   "source": [
    "honey_production.info()"
   ]
  },
  {
   "cell_type": "code",
   "execution_count": 23,
   "id": "1420b4ba-82d6-4730-ad81-dc11b2242607",
   "metadata": {},
   "outputs": [
    {
     "data": {
      "text/html": [
       "<div>\n",
       "<style scoped>\n",
       "    .dataframe tbody tr th:only-of-type {\n",
       "        vertical-align: middle;\n",
       "    }\n",
       "\n",
       "    .dataframe tbody tr th {\n",
       "        vertical-align: top;\n",
       "    }\n",
       "\n",
       "    .dataframe thead th {\n",
       "        text-align: right;\n",
       "    }\n",
       "</style>\n",
       "<table border=\"1\" class=\"dataframe\">\n",
       "  <thead>\n",
       "    <tr style=\"text-align: right;\">\n",
       "      <th></th>\n",
       "      <th>state</th>\n",
       "      <th>numcol</th>\n",
       "      <th>yieldpercol</th>\n",
       "      <th>totalprod</th>\n",
       "      <th>stocks</th>\n",
       "      <th>priceperlb</th>\n",
       "      <th>prodvalue</th>\n",
       "      <th>year</th>\n",
       "    </tr>\n",
       "  </thead>\n",
       "  <tbody>\n",
       "    <tr>\n",
       "      <th>0</th>\n",
       "      <td>AL</td>\n",
       "      <td>16000.0</td>\n",
       "      <td>71</td>\n",
       "      <td>1136000.0</td>\n",
       "      <td>159000.0</td>\n",
       "      <td>0.72</td>\n",
       "      <td>818000.0</td>\n",
       "      <td>1998</td>\n",
       "    </tr>\n",
       "    <tr>\n",
       "      <th>1</th>\n",
       "      <td>AZ</td>\n",
       "      <td>55000.0</td>\n",
       "      <td>60</td>\n",
       "      <td>3300000.0</td>\n",
       "      <td>1485000.0</td>\n",
       "      <td>0.64</td>\n",
       "      <td>2112000.0</td>\n",
       "      <td>1998</td>\n",
       "    </tr>\n",
       "    <tr>\n",
       "      <th>2</th>\n",
       "      <td>AR</td>\n",
       "      <td>53000.0</td>\n",
       "      <td>65</td>\n",
       "      <td>3445000.0</td>\n",
       "      <td>1688000.0</td>\n",
       "      <td>0.59</td>\n",
       "      <td>2033000.0</td>\n",
       "      <td>1998</td>\n",
       "    </tr>\n",
       "    <tr>\n",
       "      <th>3</th>\n",
       "      <td>CA</td>\n",
       "      <td>450000.0</td>\n",
       "      <td>83</td>\n",
       "      <td>37350000.0</td>\n",
       "      <td>12326000.0</td>\n",
       "      <td>0.62</td>\n",
       "      <td>23157000.0</td>\n",
       "      <td>1998</td>\n",
       "    </tr>\n",
       "    <tr>\n",
       "      <th>4</th>\n",
       "      <td>CO</td>\n",
       "      <td>27000.0</td>\n",
       "      <td>72</td>\n",
       "      <td>1944000.0</td>\n",
       "      <td>1594000.0</td>\n",
       "      <td>0.70</td>\n",
       "      <td>1361000.0</td>\n",
       "      <td>1998</td>\n",
       "    </tr>\n",
       "  </tbody>\n",
       "</table>\n",
       "</div>"
      ],
      "text/plain": [
       "  state    numcol  yieldpercol   totalprod      stocks  priceperlb  \\\n",
       "0    AL   16000.0           71   1136000.0    159000.0        0.72   \n",
       "1    AZ   55000.0           60   3300000.0   1485000.0        0.64   \n",
       "2    AR   53000.0           65   3445000.0   1688000.0        0.59   \n",
       "3    CA  450000.0           83  37350000.0  12326000.0        0.62   \n",
       "4    CO   27000.0           72   1944000.0   1594000.0        0.70   \n",
       "\n",
       "    prodvalue  year  \n",
       "0    818000.0  1998  \n",
       "1   2112000.0  1998  \n",
       "2   2033000.0  1998  \n",
       "3  23157000.0  1998  \n",
       "4   1361000.0  1998  "
      ]
     },
     "execution_count": 23,
     "metadata": {},
     "output_type": "execute_result"
    }
   ],
   "source": [
    "honey_production.head()"
   ]
  },
  {
   "cell_type": "markdown",
   "id": "c7adedcd-5d62-4569-a86c-597e90906a0e",
   "metadata": {},
   "source": [
    "## Display the mean or average of production value of honey for each state"
   ]
  },
  {
   "cell_type": "code",
   "execution_count": 38,
   "id": "72594054-e98e-4489-89f0-9e5987cbd182",
   "metadata": {},
   "outputs": [
    {
     "data": {
      "text/html": [
       "<div>\n",
       "<style scoped>\n",
       "    .dataframe tbody tr th:only-of-type {\n",
       "        vertical-align: middle;\n",
       "    }\n",
       "\n",
       "    .dataframe tbody tr th {\n",
       "        vertical-align: top;\n",
       "    }\n",
       "\n",
       "    .dataframe thead th {\n",
       "        text-align: right;\n",
       "    }\n",
       "</style>\n",
       "<table border=\"1\" class=\"dataframe\">\n",
       "  <thead>\n",
       "    <tr style=\"text-align: right;\">\n",
       "      <th></th>\n",
       "      <th>prodvalue</th>\n",
       "      <th>priceperlb</th>\n",
       "    </tr>\n",
       "    <tr>\n",
       "      <th>state</th>\n",
       "      <th></th>\n",
       "      <th></th>\n",
       "    </tr>\n",
       "  </thead>\n",
       "  <tbody>\n",
       "    <tr>\n",
       "      <th>AL</th>\n",
       "      <td>1001933.0</td>\n",
       "      <td>1.0</td>\n",
       "    </tr>\n",
       "    <tr>\n",
       "      <th>AR</th>\n",
       "      <td>2684400.0</td>\n",
       "      <td>1.0</td>\n",
       "    </tr>\n",
       "    <tr>\n",
       "      <th>AZ</th>\n",
       "      <td>2111800.0</td>\n",
       "      <td>1.0</td>\n",
       "    </tr>\n",
       "    <tr>\n",
       "      <th>CA</th>\n",
       "      <td>24359333.0</td>\n",
       "      <td>1.0</td>\n",
       "    </tr>\n",
       "    <tr>\n",
       "      <th>CO</th>\n",
       "      <td>2090267.0</td>\n",
       "      <td>1.0</td>\n",
       "    </tr>\n",
       "    <tr>\n",
       "      <th>FL</th>\n",
       "      <td>16615267.0</td>\n",
       "      <td>1.0</td>\n",
       "    </tr>\n",
       "    <tr>\n",
       "      <th>GA</th>\n",
       "      <td>3867533.0</td>\n",
       "      <td>1.0</td>\n",
       "    </tr>\n",
       "    <tr>\n",
       "      <th>HI</th>\n",
       "      <td>1404200.0</td>\n",
       "      <td>2.0</td>\n",
       "    </tr>\n",
       "    <tr>\n",
       "      <th>IA</th>\n",
       "      <td>2588333.0</td>\n",
       "      <td>1.0</td>\n",
       "    </tr>\n",
       "    <tr>\n",
       "      <th>ID</th>\n",
       "      <td>4762067.0</td>\n",
       "      <td>1.0</td>\n",
       "    </tr>\n",
       "    <tr>\n",
       "      <th>IL</th>\n",
       "      <td>1007533.0</td>\n",
       "      <td>2.0</td>\n",
       "    </tr>\n",
       "    <tr>\n",
       "      <th>IN</th>\n",
       "      <td>690533.0</td>\n",
       "      <td>2.0</td>\n",
       "    </tr>\n",
       "    <tr>\n",
       "      <th>KS</th>\n",
       "      <td>924067.0</td>\n",
       "      <td>1.0</td>\n",
       "    </tr>\n",
       "    <tr>\n",
       "      <th>KY</th>\n",
       "      <td>479933.0</td>\n",
       "      <td>2.0</td>\n",
       "    </tr>\n",
       "    <tr>\n",
       "      <th>LA</th>\n",
       "      <td>3620200.0</td>\n",
       "      <td>1.0</td>\n",
       "    </tr>\n",
       "    <tr>\n",
       "      <th>MD</th>\n",
       "      <td>305500.0</td>\n",
       "      <td>2.0</td>\n",
       "    </tr>\n",
       "    <tr>\n",
       "      <th>ME</th>\n",
       "      <td>337800.0</td>\n",
       "      <td>1.0</td>\n",
       "    </tr>\n",
       "    <tr>\n",
       "      <th>MI</th>\n",
       "      <td>5786933.0</td>\n",
       "      <td>1.0</td>\n",
       "    </tr>\n",
       "    <tr>\n",
       "      <th>MN</th>\n",
       "      <td>10523333.0</td>\n",
       "      <td>1.0</td>\n",
       "    </tr>\n",
       "    <tr>\n",
       "      <th>MO</th>\n",
       "      <td>984533.0</td>\n",
       "      <td>1.0</td>\n",
       "    </tr>\n",
       "    <tr>\n",
       "      <th>MS</th>\n",
       "      <td>1616800.0</td>\n",
       "      <td>1.0</td>\n",
       "    </tr>\n",
       "    <tr>\n",
       "      <th>MT</th>\n",
       "      <td>11793533.0</td>\n",
       "      <td>1.0</td>\n",
       "    </tr>\n",
       "    <tr>\n",
       "      <th>NC</th>\n",
       "      <td>1143867.0</td>\n",
       "      <td>2.0</td>\n",
       "    </tr>\n",
       "    <tr>\n",
       "      <th>ND</th>\n",
       "      <td>36376133.0</td>\n",
       "      <td>1.0</td>\n",
       "    </tr>\n",
       "    <tr>\n",
       "      <th>NE</th>\n",
       "      <td>3526333.0</td>\n",
       "      <td>1.0</td>\n",
       "    </tr>\n",
       "    <tr>\n",
       "      <th>NJ</th>\n",
       "      <td>607000.0</td>\n",
       "      <td>2.0</td>\n",
       "    </tr>\n",
       "    <tr>\n",
       "      <th>NM</th>\n",
       "      <td>547200.0</td>\n",
       "      <td>1.0</td>\n",
       "    </tr>\n",
       "    <tr>\n",
       "      <th>NV</th>\n",
       "      <td>969909.0</td>\n",
       "      <td>2.0</td>\n",
       "    </tr>\n",
       "    <tr>\n",
       "      <th>NY</th>\n",
       "      <td>5004200.0</td>\n",
       "      <td>1.0</td>\n",
       "    </tr>\n",
       "    <tr>\n",
       "      <th>OH</th>\n",
       "      <td>1552133.0</td>\n",
       "      <td>2.0</td>\n",
       "    </tr>\n",
       "    <tr>\n",
       "      <th>OK</th>\n",
       "      <td>285167.0</td>\n",
       "      <td>1.0</td>\n",
       "    </tr>\n",
       "    <tr>\n",
       "      <th>OR</th>\n",
       "      <td>2623267.0</td>\n",
       "      <td>1.0</td>\n",
       "    </tr>\n",
       "    <tr>\n",
       "      <th>PA</th>\n",
       "      <td>1849667.0</td>\n",
       "      <td>2.0</td>\n",
       "    </tr>\n",
       "    <tr>\n",
       "      <th>SC</th>\n",
       "      <td>446000.0</td>\n",
       "      <td>1.0</td>\n",
       "    </tr>\n",
       "    <tr>\n",
       "      <th>SD</th>\n",
       "      <td>19376733.0</td>\n",
       "      <td>1.0</td>\n",
       "    </tr>\n",
       "    <tr>\n",
       "      <th>TN</th>\n",
       "      <td>759933.0</td>\n",
       "      <td>2.0</td>\n",
       "    </tr>\n",
       "    <tr>\n",
       "      <th>TX</th>\n",
       "      <td>7429200.0</td>\n",
       "      <td>1.0</td>\n",
       "    </tr>\n",
       "    <tr>\n",
       "      <th>UT</th>\n",
       "      <td>1344333.0</td>\n",
       "      <td>1.0</td>\n",
       "    </tr>\n",
       "    <tr>\n",
       "      <th>VA</th>\n",
       "      <td>572200.0</td>\n",
       "      <td>2.0</td>\n",
       "    </tr>\n",
       "    <tr>\n",
       "      <th>VT</th>\n",
       "      <td>562333.0</td>\n",
       "      <td>2.0</td>\n",
       "    </tr>\n",
       "    <tr>\n",
       "      <th>WA</th>\n",
       "      <td>3319133.0</td>\n",
       "      <td>1.0</td>\n",
       "    </tr>\n",
       "    <tr>\n",
       "      <th>WI</th>\n",
       "      <td>6513733.0</td>\n",
       "      <td>1.0</td>\n",
       "    </tr>\n",
       "    <tr>\n",
       "      <th>WV</th>\n",
       "      <td>552600.0</td>\n",
       "      <td>2.0</td>\n",
       "    </tr>\n",
       "    <tr>\n",
       "      <th>WY</th>\n",
       "      <td>2856533.0</td>\n",
       "      <td>1.0</td>\n",
       "    </tr>\n",
       "  </tbody>\n",
       "</table>\n",
       "</div>"
      ],
      "text/plain": [
       "        prodvalue  priceperlb\n",
       "state                        \n",
       "AL      1001933.0         1.0\n",
       "AR      2684400.0         1.0\n",
       "AZ      2111800.0         1.0\n",
       "CA     24359333.0         1.0\n",
       "CO      2090267.0         1.0\n",
       "FL     16615267.0         1.0\n",
       "GA      3867533.0         1.0\n",
       "HI      1404200.0         2.0\n",
       "IA      2588333.0         1.0\n",
       "ID      4762067.0         1.0\n",
       "IL      1007533.0         2.0\n",
       "IN       690533.0         2.0\n",
       "KS       924067.0         1.0\n",
       "KY       479933.0         2.0\n",
       "LA      3620200.0         1.0\n",
       "MD       305500.0         2.0\n",
       "ME       337800.0         1.0\n",
       "MI      5786933.0         1.0\n",
       "MN     10523333.0         1.0\n",
       "MO       984533.0         1.0\n",
       "MS      1616800.0         1.0\n",
       "MT     11793533.0         1.0\n",
       "NC      1143867.0         2.0\n",
       "ND     36376133.0         1.0\n",
       "NE      3526333.0         1.0\n",
       "NJ       607000.0         2.0\n",
       "NM       547200.0         1.0\n",
       "NV       969909.0         2.0\n",
       "NY      5004200.0         1.0\n",
       "OH      1552133.0         2.0\n",
       "OK       285167.0         1.0\n",
       "OR      2623267.0         1.0\n",
       "PA      1849667.0         2.0\n",
       "SC       446000.0         1.0\n",
       "SD     19376733.0         1.0\n",
       "TN       759933.0         2.0\n",
       "TX      7429200.0         1.0\n",
       "UT      1344333.0         1.0\n",
       "VA       572200.0         2.0\n",
       "VT       562333.0         2.0\n",
       "WA      3319133.0         1.0\n",
       "WI      6513733.0         1.0\n",
       "WV       552600.0         2.0\n",
       "WY      2856533.0         1.0"
      ]
     },
     "execution_count": 38,
     "metadata": {},
     "output_type": "execute_result"
    }
   ],
   "source": [
    "honey_production[['state', 'prodvalue', 'priceperlb']].groupby('state').mean().round()"
   ]
  },
  {
   "cell_type": "markdown",
   "id": "b63e6ecb-617d-4941-8af4-89eb4a02a980",
   "metadata": {},
   "source": [
    "## Display which state holds the highest production value"
   ]
  },
  {
   "cell_type": "code",
   "execution_count": 39,
   "id": "3851d584-d419-45b0-a280-f998c3048ac0",
   "metadata": {},
   "outputs": [
    {
     "data": {
      "text/html": [
       "<div>\n",
       "<style scoped>\n",
       "    .dataframe tbody tr th:only-of-type {\n",
       "        vertical-align: middle;\n",
       "    }\n",
       "\n",
       "    .dataframe tbody tr th {\n",
       "        vertical-align: top;\n",
       "    }\n",
       "\n",
       "    .dataframe thead th {\n",
       "        text-align: right;\n",
       "    }\n",
       "</style>\n",
       "<table border=\"1\" class=\"dataframe\">\n",
       "  <thead>\n",
       "    <tr style=\"text-align: right;\">\n",
       "      <th></th>\n",
       "      <th>state</th>\n",
       "      <th>numcol</th>\n",
       "      <th>yieldpercol</th>\n",
       "      <th>totalprod</th>\n",
       "      <th>stocks</th>\n",
       "      <th>priceperlb</th>\n",
       "      <th>prodvalue</th>\n",
       "      <th>year</th>\n",
       "    </tr>\n",
       "  </thead>\n",
       "  <tbody>\n",
       "    <tr>\n",
       "      <th>532</th>\n",
       "      <td>ND</td>\n",
       "      <td>510000.0</td>\n",
       "      <td>91</td>\n",
       "      <td>46410000.0</td>\n",
       "      <td>12995000.0</td>\n",
       "      <td>1.5</td>\n",
       "      <td>69615000.0</td>\n",
       "      <td>2010</td>\n",
       "    </tr>\n",
       "  </tbody>\n",
       "</table>\n",
       "</div>"
      ],
      "text/plain": [
       "    state    numcol  yieldpercol   totalprod      stocks  priceperlb  \\\n",
       "532    ND  510000.0           91  46410000.0  12995000.0         1.5   \n",
       "\n",
       "      prodvalue  year  \n",
       "532  69615000.0  2010  "
      ]
     },
     "execution_count": 39,
     "metadata": {},
     "output_type": "execute_result"
    }
   ],
   "source": [
    "honey_production[honey_production['prodvalue'] == honey_production['prodvalue'].max()]"
   ]
  },
  {
   "cell_type": "markdown",
   "id": "2b403c3e-d0c4-4371-8393-df36b0f69b50",
   "metadata": {},
   "source": [
    "### According to results, North Dakota boasts the highest production value as of 2010."
   ]
  },
  {
   "cell_type": "markdown",
   "id": "b945d499-571c-4119-8791-b61480feea84",
   "metadata": {
    "tags": []
   },
   "source": [
    "## Display which state holds the highest price per lb"
   ]
  },
  {
   "cell_type": "code",
   "execution_count": 61,
   "id": "7de1d421-bd5f-465e-a209-caeaa7f10e85",
   "metadata": {},
   "outputs": [
    {
     "data": {
      "text/html": [
       "<div>\n",
       "<style scoped>\n",
       "    .dataframe tbody tr th:only-of-type {\n",
       "        vertical-align: middle;\n",
       "    }\n",
       "\n",
       "    .dataframe tbody tr th {\n",
       "        vertical-align: top;\n",
       "    }\n",
       "\n",
       "    .dataframe thead th {\n",
       "        text-align: right;\n",
       "    }\n",
       "</style>\n",
       "<table border=\"1\" class=\"dataframe\">\n",
       "  <thead>\n",
       "    <tr style=\"text-align: right;\">\n",
       "      <th></th>\n",
       "      <th>state</th>\n",
       "      <th>numcol</th>\n",
       "      <th>yieldpercol</th>\n",
       "      <th>totalprod</th>\n",
       "      <th>stocks</th>\n",
       "      <th>priceperlb</th>\n",
       "      <th>prodvalue</th>\n",
       "      <th>year</th>\n",
       "    </tr>\n",
       "  </thead>\n",
       "  <tbody>\n",
       "    <tr>\n",
       "      <th>593</th>\n",
       "      <td>HI</td>\n",
       "      <td>10000.0</td>\n",
       "      <td>75</td>\n",
       "      <td>750000.0</td>\n",
       "      <td>263000.0</td>\n",
       "      <td>4.15</td>\n",
       "      <td>3113000.0</td>\n",
       "      <td>2012</td>\n",
       "    </tr>\n",
       "  </tbody>\n",
       "</table>\n",
       "</div>"
      ],
      "text/plain": [
       "    state   numcol  yieldpercol  totalprod    stocks  priceperlb  prodvalue  \\\n",
       "593    HI  10000.0           75   750000.0  263000.0        4.15  3113000.0   \n",
       "\n",
       "     year  \n",
       "593  2012  "
      ]
     },
     "execution_count": 61,
     "metadata": {},
     "output_type": "execute_result"
    }
   ],
   "source": [
    "honey_production[honey_production['priceperlb'] == honey_production['priceperlb'].max()]"
   ]
  },
  {
   "cell_type": "markdown",
   "id": "da3fdc06-4730-4bea-bd3b-7fd50edfc087",
   "metadata": {},
   "source": [
    "### According to these results, Hawaii holds the highest priceperlb in the year 2012."
   ]
  },
  {
   "cell_type": "markdown",
   "id": "cbc2391d-0a80-4a48-a944-9954d3af71e5",
   "metadata": {},
   "source": [
    "## Display which states hold the highest production value"
   ]
  },
  {
   "cell_type": "code",
   "execution_count": 48,
   "id": "6085eb51-1d4d-435b-9bce-709aa8c119bc",
   "metadata": {
    "tags": []
   },
   "outputs": [
    {
     "data": {
      "text/plain": [
       "state\n",
       "ND    545642000.0\n",
       "CA    365390000.0\n",
       "SD    290651000.0\n",
       "FL    249229000.0\n",
       "MT    176903000.0\n",
       "Name: prodvalue, dtype: float64"
      ]
     },
     "execution_count": 48,
     "metadata": {},
     "output_type": "execute_result"
    }
   ],
   "source": [
    "states = honey_production['prodvalue'].groupby(by=honey_production['state'], axis=0, sort=False).sum().sort_values(ascending=False)\n",
    "states.head()"
   ]
  },
  {
   "cell_type": "markdown",
   "id": "7ba4edcd-99d0-482b-af09-9e6ba535fa23",
   "metadata": {},
   "source": [
    "### North Dakota, California, South Dakota, Florida, and Montana hold the highest production values"
   ]
  },
  {
   "cell_type": "markdown",
   "id": "abd9d8d7-4a98-4a65-9679-38f48f39099a",
   "metadata": {
    "tags": []
   },
   "source": [
    "## Display which states hold the highest price per lb"
   ]
  },
  {
   "cell_type": "code",
   "execution_count": 58,
   "id": "34cb816a-6962-4a42-ba4c-0c9dca918657",
   "metadata": {},
   "outputs": [
    {
     "data": {
      "text/plain": [
       "state\n",
       "VA    34.80\n",
       "IL    32.09\n",
       "KY    31.24\n",
       "NC    31.11\n",
       "TN    28.41\n",
       "Name: priceperlb, dtype: float64"
      ]
     },
     "execution_count": 58,
     "metadata": {},
     "output_type": "execute_result"
    }
   ],
   "source": [
    "states1 = honey_production['priceperlb'].groupby(by=honey_production['state'], axis=0, sort=False).sum().sort_values(ascending=False)\n",
    "states1.head()"
   ]
  },
  {
   "cell_type": "markdown",
   "id": "94456ce8-f641-4fe3-aa32-b2f2887cc8e6",
   "metadata": {},
   "source": [
    "### Virginia, Illinois, Kentucky, North Carolina, and Tennessee hold the highest price per lb"
   ]
  },
  {
   "cell_type": "markdown",
   "id": "eeb8e405-4eef-4d7f-9041-5bdb55af21a2",
   "metadata": {},
   "source": [
    "## Create a heatmaps displaying the Price Per Pound and Production Value of the top"
   ]
  },
  {
   "cell_type": "code",
   "execution_count": 59,
   "id": "af099ffe-bfc2-4376-882d-e4564bdda2b0",
   "metadata": {},
   "outputs": [
    {
     "data": {
      "text/html": [
       "<div>\n",
       "<style scoped>\n",
       "    .dataframe tbody tr th:only-of-type {\n",
       "        vertical-align: middle;\n",
       "    }\n",
       "\n",
       "    .dataframe tbody tr th {\n",
       "        vertical-align: top;\n",
       "    }\n",
       "\n",
       "    .dataframe thead th {\n",
       "        text-align: right;\n",
       "    }\n",
       "</style>\n",
       "<table border=\"1\" class=\"dataframe\">\n",
       "  <thead>\n",
       "    <tr style=\"text-align: right;\">\n",
       "      <th></th>\n",
       "      <th>priceperlb</th>\n",
       "      <th>prodvalue</th>\n",
       "    </tr>\n",
       "  </thead>\n",
       "  <tbody>\n",
       "    <tr>\n",
       "      <th>priceperlb</th>\n",
       "      <td>1.000000</td>\n",
       "      <td>-0.089567</td>\n",
       "    </tr>\n",
       "    <tr>\n",
       "      <th>prodvalue</th>\n",
       "      <td>-0.089567</td>\n",
       "      <td>1.000000</td>\n",
       "    </tr>\n",
       "  </tbody>\n",
       "</table>\n",
       "</div>"
      ],
      "text/plain": [
       "            priceperlb  prodvalue\n",
       "priceperlb    1.000000  -0.089567\n",
       "prodvalue    -0.089567   1.000000"
      ]
     },
     "execution_count": 59,
     "metadata": {},
     "output_type": "execute_result"
    }
   ],
   "source": [
    "cor = honey_production[['priceperlb','prodvalue']].corr()\n",
    "cor"
   ]
  },
  {
   "cell_type": "code",
   "execution_count": null,
   "id": "0725a3c9-acda-4a3d-bee3-d3a42612afbc",
   "metadata": {},
   "outputs": [],
   "source": []
  },
  {
   "cell_type": "code",
   "execution_count": 65,
   "id": "650fd005-ec91-47b2-a0f4-127fcd4c0929",
   "metadata": {},
   "outputs": [
    {
     "data": {
      "text/html": [
       "<div>\n",
       "<style scoped>\n",
       "    .dataframe tbody tr th:only-of-type {\n",
       "        vertical-align: middle;\n",
       "    }\n",
       "\n",
       "    .dataframe tbody tr th {\n",
       "        vertical-align: top;\n",
       "    }\n",
       "\n",
       "    .dataframe thead th {\n",
       "        text-align: right;\n",
       "    }\n",
       "</style>\n",
       "<table border=\"1\" class=\"dataframe\">\n",
       "  <thead>\n",
       "    <tr style=\"text-align: right;\">\n",
       "      <th></th>\n",
       "      <th>numcol</th>\n",
       "      <th>yieldpercol</th>\n",
       "      <th>totalprod</th>\n",
       "      <th>stocks</th>\n",
       "      <th>priceperlb</th>\n",
       "      <th>prodvalue</th>\n",
       "      <th>year</th>\n",
       "    </tr>\n",
       "  </thead>\n",
       "  <tbody>\n",
       "    <tr>\n",
       "      <th>numcol</th>\n",
       "      <td>1.000000</td>\n",
       "      <td>0.243515</td>\n",
       "      <td>0.953594</td>\n",
       "      <td>0.825929</td>\n",
       "      <td>-0.232701</td>\n",
       "      <td>0.912796</td>\n",
       "      <td>0.008709</td>\n",
       "    </tr>\n",
       "    <tr>\n",
       "      <th>yieldpercol</th>\n",
       "      <td>0.243515</td>\n",
       "      <td>1.000000</td>\n",
       "      <td>0.396252</td>\n",
       "      <td>0.367812</td>\n",
       "      <td>-0.358646</td>\n",
       "      <td>0.278977</td>\n",
       "      <td>-0.232092</td>\n",
       "    </tr>\n",
       "    <tr>\n",
       "      <th>totalprod</th>\n",
       "      <td>0.953594</td>\n",
       "      <td>0.396252</td>\n",
       "      <td>1.000000</td>\n",
       "      <td>0.878830</td>\n",
       "      <td>-0.264499</td>\n",
       "      <td>0.907236</td>\n",
       "      <td>-0.055556</td>\n",
       "    </tr>\n",
       "    <tr>\n",
       "      <th>stocks</th>\n",
       "      <td>0.825929</td>\n",
       "      <td>0.367812</td>\n",
       "      <td>0.878830</td>\n",
       "      <td>1.000000</td>\n",
       "      <td>-0.305867</td>\n",
       "      <td>0.728560</td>\n",
       "      <td>-0.119602</td>\n",
       "    </tr>\n",
       "    <tr>\n",
       "      <th>priceperlb</th>\n",
       "      <td>-0.232701</td>\n",
       "      <td>-0.358646</td>\n",
       "      <td>-0.264499</td>\n",
       "      <td>-0.305867</td>\n",
       "      <td>1.000000</td>\n",
       "      <td>-0.089567</td>\n",
       "      <td>0.693984</td>\n",
       "    </tr>\n",
       "    <tr>\n",
       "      <th>prodvalue</th>\n",
       "      <td>0.912796</td>\n",
       "      <td>0.278977</td>\n",
       "      <td>0.907236</td>\n",
       "      <td>0.728560</td>\n",
       "      <td>-0.089567</td>\n",
       "      <td>1.000000</td>\n",
       "      <td>0.139451</td>\n",
       "    </tr>\n",
       "    <tr>\n",
       "      <th>year</th>\n",
       "      <td>0.008709</td>\n",
       "      <td>-0.232092</td>\n",
       "      <td>-0.055556</td>\n",
       "      <td>-0.119602</td>\n",
       "      <td>0.693984</td>\n",
       "      <td>0.139451</td>\n",
       "      <td>1.000000</td>\n",
       "    </tr>\n",
       "  </tbody>\n",
       "</table>\n",
       "</div>"
      ],
      "text/plain": [
       "               numcol  yieldpercol  totalprod    stocks  priceperlb  \\\n",
       "numcol       1.000000     0.243515   0.953594  0.825929   -0.232701   \n",
       "yieldpercol  0.243515     1.000000   0.396252  0.367812   -0.358646   \n",
       "totalprod    0.953594     0.396252   1.000000  0.878830   -0.264499   \n",
       "stocks       0.825929     0.367812   0.878830  1.000000   -0.305867   \n",
       "priceperlb  -0.232701    -0.358646  -0.264499 -0.305867    1.000000   \n",
       "prodvalue    0.912796     0.278977   0.907236  0.728560   -0.089567   \n",
       "year         0.008709    -0.232092  -0.055556 -0.119602    0.693984   \n",
       "\n",
       "             prodvalue      year  \n",
       "numcol        0.912796  0.008709  \n",
       "yieldpercol   0.278977 -0.232092  \n",
       "totalprod     0.907236 -0.055556  \n",
       "stocks        0.728560 -0.119602  \n",
       "priceperlb   -0.089567  0.693984  \n",
       "prodvalue     1.000000  0.139451  \n",
       "year          0.139451  1.000000  "
      ]
     },
     "execution_count": 65,
     "metadata": {},
     "output_type": "execute_result"
    }
   ],
   "source": [
    "corr = honey_production.corr()\n",
    "corr"
   ]
  },
  {
   "cell_type": "code",
   "execution_count": 67,
   "id": "4a1fe07d-5967-4ef4-bf5a-431f65b1169d",
   "metadata": {},
   "outputs": [
    {
     "data": {
      "text/plain": [
       "<AxesSubplot:>"
      ]
     },
     "execution_count": 67,
     "metadata": {},
     "output_type": "execute_result"
    },
    {
     "data": {
      "image/png": "[encoded data removed]",
      "text/plain": [
       "<Figure size 432x288 with 2 Axes>"
      ]
     },
     "metadata": {
      "needs_background": "light"
     },
     "output_type": "display_data"
    }
   ],
   "source": [
    "sns.heatmap(corr,annot = True, cmap='viridis',vmin=-1,vmax=1, linewidth = 1)"
   ]
  },
  {
   "cell_type": "markdown",
   "id": "b72d1225-1cb1-4113-a9c0-f46c4c0d5dc0",
   "metadata": {},
   "source": [
    "### This heat map displays how correlated each variable is with one another using numbers between -1 and 1, as well as a color scheme--the darker it is, the less correlation there is between variables, whereas the lighter it is, the more correlation there is between variables."
   ]
  },
  {
   "cell_type": "code",
   "execution_count": 60,
   "id": "1292e200-0445-4498-9af6-6ca95724b1a8",
   "metadata": {},
   "outputs": [
    {
     "data": {
      "text/plain": [
       "<AxesSubplot:>"
      ]
     },
     "execution_count": 60,
     "metadata": {},
     "output_type": "execute_result"
    },
    {
     "data": {
      "image/png": "[encoded data removed]",
      "text/plain": [
       "<Figure size 432x288 with 2 Axes>"
      ]
     },
     "metadata": {
      "needs_background": "light"
     },
     "output_type": "display_data"
    }
   ],
   "source": [
    "sns.heatmap(cor,annot = True,cmap='viridis',vmin=-1,vmax=1,linewidth =1)"
   ]
  },
  {
   "cell_type": "markdown",
   "id": "eadcebb8-586f-453c-b842-65d34094b508",
   "metadata": {},
   "source": [
    "### According to this heatmap of two variables, production value and pricer per lb--pricerperlb has a direct correlation with itself, but none, if not, a negative correlation with production value."
   ]
  }
 ],
 "metadata": {
  "kernelspec": {
   "display_name": "Python 3 (ipykernel)",
   "language": "python",
   "name": "python3"
  },
  "language_info": {
   "codemirror_mode": {
    "name": "ipython",
    "version": 3
   },
   "file_extension": ".py",
   "mimetype": "text/x-python",
   "name": "python",
   "nbconvert_exporter": "python",
   "pygments_lexer": "ipython3",
   "version": "3.10.2"
  }
 },
 "nbformat": 4,
 "nbformat_minor": 5
}
