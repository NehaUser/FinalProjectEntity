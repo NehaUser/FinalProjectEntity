{
 "cells": [
  {
   "cell_type": "code",
   "execution_count": 2,
   "id": "9b3c93e5-ef86-4964-834d-056bf3b63777",
   "metadata": {},
   "outputs": [],
   "source": [
    "library(\"readr\")"
   ]
  },
  {
   "cell_type": "code",
   "execution_count": 3,
   "id": "943ef98a-cf42-4027-9fe6-50fa51d273e6",
   "metadata": {},
   "outputs": [
    {
     "name": "stderr",
     "output_type": "stream",
     "text": [
      "\u001b[1mRows: \u001b[22m\u001b[34m5323\u001b[39m \u001b[1mColumns: \u001b[22m\u001b[34m7\u001b[39m\n",
      "\n",
      "\u001b[36m──\u001b[39m \u001b[1mColumn specification\u001b[22m \u001b[36m────────────────────────────────────────────────────────\u001b[39m\n",
      "\u001b[1mDelimiter:\u001b[22m \",\"\n",
      "\u001b[31mchr\u001b[39m  (6): Open, High, Low, Close, Adj Close, Volume\n",
      "\u001b[34mdate\u001b[39m (1): Date\n",
      "\n",
      "\n",
      "\u001b[36mℹ\u001b[39m Use \u001b[30m\u001b[47m\u001b[30m\u001b[47m`spec()`\u001b[47m\u001b[30m\u001b[49m\u001b[39m to retrieve the full column specification for this data.\n",
      "\u001b[36mℹ\u001b[39m Specify the column types or set \u001b[30m\u001b[47m\u001b[30m\u001b[47m`show_col_types = FALSE`\u001b[47m\u001b[30m\u001b[49m\u001b[39m to quiet this message.\n",
      "\n"
     ]
    }
   ],
   "source": [
    "corn_Ds <- read_csv(\"../Data/corn.csv\")"
   ]
  },
  {
   "cell_type": "code",
   "execution_count": 6,
   "id": "9f50d009-32c2-4911-9173-36ecfd3f6af7",
   "metadata": {},
   "outputs": [
    {
     "data": {
      "text/html": [
       "<table class=\"dataframe\">\n",
       "<caption>A tibble: 6 × 7</caption>\n",
       "<thead>\n",
       "\t<tr><th scope=col>Date</th><th scope=col>Open</th><th scope=col>High</th><th scope=col>Low</th><th scope=col>Close</th><th scope=col>Adj Close</th><th scope=col>Volume</th></tr>\n",
       "\t<tr><th scope=col>&lt;date&gt;</th><th scope=col>&lt;chr&gt;</th><th scope=col>&lt;chr&gt;</th><th scope=col>&lt;chr&gt;</th><th scope=col>&lt;chr&gt;</th><th scope=col>&lt;chr&gt;</th><th scope=col>&lt;chr&gt;</th></tr>\n",
       "</thead>\n",
       "<tbody>\n",
       "\t<tr><td>2000-07-17</td><td>182.250000</td><td>182.250000</td><td>178.250000</td><td>179.250000</td><td>179.250000</td><td>19385</td></tr>\n",
       "\t<tr><td>2000-07-18</td><td>179.000000</td><td>183.250000</td><td>179.000000</td><td>180.750000</td><td>180.750000</td><td>25205</td></tr>\n",
       "\t<tr><td>2000-07-19</td><td>180.000000</td><td>182.750000</td><td>178.750000</td><td>182.000000</td><td>182.000000</td><td>17126</td></tr>\n",
       "\t<tr><td>2000-07-20</td><td>181.500000</td><td>187.000000</td><td>181.000000</td><td>186.000000</td><td>186.000000</td><td>18742</td></tr>\n",
       "\t<tr><td>2000-07-21</td><td>185.500000</td><td>188.000000</td><td>185.000000</td><td>187.750000</td><td>187.750000</td><td>16814</td></tr>\n",
       "\t<tr><td>2000-07-24</td><td>187.750000</td><td>189.500000</td><td>183.750000</td><td>184.500000</td><td>184.500000</td><td>14615</td></tr>\n",
       "</tbody>\n",
       "</table>\n"
      ],
      "text/latex": [
       "A tibble: 6 × 7\n",
       "\\begin{tabular}{lllllll}\n",
       " Date & Open & High & Low & Close & Adj Close & Volume\\\\\n",
       " <date> & <chr> & <chr> & <chr> & <chr> & <chr> & <chr>\\\\\n",
       "\\hline\n",
       "\t 2000-07-17 & 182.250000 & 182.250000 & 178.250000 & 179.250000 & 179.250000 & 19385\\\\\n",
       "\t 2000-07-18 & 179.000000 & 183.250000 & 179.000000 & 180.750000 & 180.750000 & 25205\\\\\n",
       "\t 2000-07-19 & 180.000000 & 182.750000 & 178.750000 & 182.000000 & 182.000000 & 17126\\\\\n",
       "\t 2000-07-20 & 181.500000 & 187.000000 & 181.000000 & 186.000000 & 186.000000 & 18742\\\\\n",
       "\t 2000-07-21 & 185.500000 & 188.000000 & 185.000000 & 187.750000 & 187.750000 & 16814\\\\\n",
       "\t 2000-07-24 & 187.750000 & 189.500000 & 183.750000 & 184.500000 & 184.500000 & 14615\\\\\n",
       "\\end{tabular}\n"
      ],
      "text/markdown": [
       "\n",
       "A tibble: 6 × 7\n",
       "\n",
       "| Date &lt;date&gt; | Open &lt;chr&gt; | High &lt;chr&gt; | Low &lt;chr&gt; | Close &lt;chr&gt; | Adj Close &lt;chr&gt; | Volume &lt;chr&gt; |\n",
       "|---|---|---|---|---|---|---|\n",
       "| 2000-07-17 | 182.250000 | 182.250000 | 178.250000 | 179.250000 | 179.250000 | 19385 |\n",
       "| 2000-07-18 | 179.000000 | 183.250000 | 179.000000 | 180.750000 | 180.750000 | 25205 |\n",
       "| 2000-07-19 | 180.000000 | 182.750000 | 178.750000 | 182.000000 | 182.000000 | 17126 |\n",
       "| 2000-07-20 | 181.500000 | 187.000000 | 181.000000 | 186.000000 | 186.000000 | 18742 |\n",
       "| 2000-07-21 | 185.500000 | 188.000000 | 185.000000 | 187.750000 | 187.750000 | 16814 |\n",
       "| 2000-07-24 | 187.750000 | 189.500000 | 183.750000 | 184.500000 | 184.500000 | 14615 |\n",
       "\n"
      ],
      "text/plain": [
       "  Date       Open       High       Low        Close      Adj Close  Volume\n",
       "1 2000-07-17 182.250000 182.250000 178.250000 179.250000 179.250000 19385 \n",
       "2 2000-07-18 179.000000 183.250000 179.000000 180.750000 180.750000 25205 \n",
       "3 2000-07-19 180.000000 182.750000 178.750000 182.000000 182.000000 17126 \n",
       "4 2000-07-20 181.500000 187.000000 181.000000 186.000000 186.000000 18742 \n",
       "5 2000-07-21 185.500000 188.000000 185.000000 187.750000 187.750000 16814 \n",
       "6 2000-07-24 187.750000 189.500000 183.750000 184.500000 184.500000 14615 "
      ]
     },
     "metadata": {},
     "output_type": "display_data"
    }
   ],
   "source": [
    "head(corn_Ds)"
   ]
  },
  {
   "cell_type": "code",
   "execution_count": 4,
   "id": "4485b802-bc5e-42e2-90e6-a001d9b7116d",
   "metadata": {},
   "outputs": [],
   "source": [
    "write.csv(corn_Ds, \"../Data/testwritecorn.csv\")"
   ]
  },
  {
   "cell_type": "code",
   "execution_count": null,
   "id": "9a3fe86f-f242-4a71-88d7-6f20cbefd60d",
   "metadata": {},
   "outputs": [],
   "source": []
  }
 ],
 "metadata": {
  "kernelspec": {
   "display_name": "R",
   "language": "R",
   "name": "ir"
  },
  "language_info": {
   "codemirror_mode": "r",
   "file_extension": ".r",
   "mimetype": "text/x-r-source",
   "name": "R",
   "pygments_lexer": "r",
   "version": "4.1.2"
  }
 },
 "nbformat": 4,
 "nbformat_minor": 5
}
