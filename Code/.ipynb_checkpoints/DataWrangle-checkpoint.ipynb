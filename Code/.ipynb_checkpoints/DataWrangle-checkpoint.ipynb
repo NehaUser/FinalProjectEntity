{
 "cells": [
  {
   "cell_type": "code",
   "execution_count": 1,
   "id": "e6641888-73f7-4126-91b5-b465123201d0",
   "metadata": {},
   "outputs": [],
   "source": [
    "# Wrangling And Writing a New CSV file for USDA Production Data"
   ]
  },
  {
   "cell_type": "code",
   "execution_count": 2,
   "id": "696901b2-5cb4-49af-9461-84bd51d64c58",
   "metadata": {},
   "outputs": [
    {
     "name": "stderr",
     "output_type": "stream",
     "text": [
      "\n",
      "Attaching package: ‘dplyr’\n",
      "\n",
      "\n",
      "The following objects are masked from ‘package:stats’:\n",
      "\n",
      "    filter, lag\n",
      "\n",
      "\n",
      "The following objects are masked from ‘package:base’:\n",
      "\n",
      "    intersect, setdiff, setequal, union\n",
      "\n",
      "\n"
     ]
    }
   ],
   "source": [
    "# Load Packages\n",
    "library(readr)\n",
    "library(dplyr)\n",
    "library(ggplot2)"
   ]
  },
  {
   "cell_type": "code",
   "execution_count": 3,
   "id": "a4a5825b-e9d1-453c-833c-017c71df8169",
   "metadata": {},
   "outputs": [
    {
     "name": "stderr",
     "output_type": "stream",
     "text": [
      "New names:\n",
      "* `` -> ...1\n",
      "\n",
      "\u001b[1mRows: \u001b[22m\u001b[34m9402563\u001b[39m \u001b[1mColumns: \u001b[22m\u001b[34m9\u001b[39m\n",
      "\n",
      "\u001b[36m──\u001b[39m \u001b[1mColumn specification\u001b[22m \u001b[36m────────────────────────────────────────────────────────\u001b[39m\n",
      "\u001b[1mDelimiter:\u001b[22m \",\"\n",
      "\u001b[31mchr\u001b[39m (5): Commodity_Description, Country_Code, Country_Name, Attribute_Descri...\n",
      "\u001b[32mdbl\u001b[39m (4): ...1, Year, Value, Seen_On\n",
      "\n",
      "\n",
      "\u001b[36mℹ\u001b[39m Use \u001b[30m\u001b[47m\u001b[30m\u001b[47m`spec()`\u001b[47m\u001b[30m\u001b[49m\u001b[39m to retrieve the full column specification for this data.\n",
      "\u001b[36mℹ\u001b[39m Specify the column types or set \u001b[30m\u001b[47m\u001b[30m\u001b[47m`show_col_types = FALSE`\u001b[47m\u001b[30m\u001b[49m\u001b[39m to quiet this message.\n",
      "\n"
     ]
    }
   ],
   "source": [
    "# Load Data\n",
    "\n",
    "# Reading USDA_Production_Supply_And_Distribution File\n",
    "\n",
    "USDA_Production_Supply_And_Distribution <- read_csv(\"../Data/USDA_Production_Supply_And_Distribution.csv\")"
   ]
  },
  {
   "cell_type": "code",
   "execution_count": 4,
   "id": "a0d30d72-ac4f-43b9-97b1-fbdf1a1a87be",
   "metadata": {},
   "outputs": [],
   "source": [
    "# Filtering USDA data set for the following:\n",
    "# Year >= 1998 & Year <= 2012\n",
    "# Attribute_Description == 'Production'\n",
    "# Country_Code == 'US'\n",
    "\n",
    "Filtered_USDA_DataSet <- filter(USDA_Production_Supply_And_Distribution, Year >= 1998 & Year <= 2012 & Attribute_Description == 'Production' & Country_Code == 'US')\n"
   ]
  },
  {
   "cell_type": "code",
   "execution_count": 5,
   "id": "bf037e4d-d42b-4a8d-98c6-9fb818a75143",
   "metadata": {},
   "outputs": [],
   "source": [
    "# Exporting the FilteredDataSet to a CSV to share with the team.\n",
    "\n",
    "write.csv(Filtered_USDA_DataSet, \"../Data/Test_Filtered_USDA_DataSet.csv\")\n"
   ]
  },
  {
   "cell_type": "code",
   "execution_count": 6,
   "id": "91cbfaff-4856-4fc0-8475-d7f8344215e8",
   "metadata": {},
   "outputs": [],
   "source": [
    "\n",
    "# Appending HoneyProduction Data to Filtered USDA Data Set\n"
   ]
  },
  {
   "cell_type": "code",
   "execution_count": 7,
   "id": "f91efe6a-11fe-45d5-bbee-55a18438d2e7",
   "metadata": {},
   "outputs": [
    {
     "name": "stderr",
     "output_type": "stream",
     "text": [
      "\u001b[1mRows: \u001b[22m\u001b[34m626\u001b[39m \u001b[1mColumns: \u001b[22m\u001b[34m8\u001b[39m\n",
      "\n",
      "\u001b[36m──\u001b[39m \u001b[1mColumn specification\u001b[22m \u001b[36m────────────────────────────────────────────────────────\u001b[39m\n",
      "\u001b[1mDelimiter:\u001b[22m \",\"\n",
      "\u001b[31mchr\u001b[39m (1): state\n",
      "\u001b[32mdbl\u001b[39m (7): numcol, yieldpercol, totalprod, stocks, priceperlb, prodvalue, year\n",
      "\n",
      "\n",
      "\u001b[36mℹ\u001b[39m Use \u001b[30m\u001b[47m\u001b[30m\u001b[47m`spec()`\u001b[47m\u001b[30m\u001b[49m\u001b[39m to retrieve the full column specification for this data.\n",
      "\u001b[36mℹ\u001b[39m Specify the column types or set \u001b[30m\u001b[47m\u001b[30m\u001b[47m`show_col_types = FALSE`\u001b[47m\u001b[30m\u001b[49m\u001b[39m to quiet this message.\n",
      "\n"
     ]
    }
   ],
   "source": [
    "# Loading data\n",
    "\n",
    "# Reading honeyproduction CSV file\n",
    "\n",
    "honeyproduction <- read_csv(\"../Data/honeyproduction.csv\")"
   ]
  },
  {
   "cell_type": "code",
   "execution_count": 8,
   "id": "cc9bcc6c-1900-4f22-9ec7-0317c64c9ff0",
   "metadata": {},
   "outputs": [],
   "source": [
    "# Assigning to a new dataset \n",
    "\n",
    "honeyproductionDS <- honeyproduction"
   ]
  },
  {
   "cell_type": "code",
   "execution_count": 9,
   "id": "13f3de79-caba-422f-a65c-9317819992fb",
   "metadata": {},
   "outputs": [],
   "source": [
    "# Grouping the Honey Production by year and adding new columns to match the USDA Production DataFrame\n",
    "\n",
    "Grouped_Honey_DS = honeyproductionDS %>% group_by(year)  %>%\n",
    "  summarise(Value = sum(totalprod), Country_Name = \"United States\",Commodity_Description = \"Honey\", Country_Code = \"US\",\n",
    "            Attribute_Description = \"Production\", Unit_Description = \"(LBS)\", Seen_On = \"1\",\n",
    "            .groups = 'drop')\n"
   ]
  },
  {
   "cell_type": "code",
   "execution_count": 10,
   "id": "d79f6328-1c07-4d22-8600-b23817fd92a8",
   "metadata": {},
   "outputs": [],
   "source": [
    "# Changing year to Year\n",
    "colnames(Grouped_Honey_DS)[1] <- \"Year\"\n"
   ]
  },
  {
   "cell_type": "code",
   "execution_count": 11,
   "id": "fc8f0074-edf0-45aa-b3f5-241186615e3f",
   "metadata": {},
   "outputs": [],
   "source": [
    "# Subsetting the USDA Dataframe to drop Index column.\n",
    "Filtered_USDA_DF <- subset(Filtered_USDA_DataSet, select=c(2:9))\n"
   ]
  },
  {
   "cell_type": "code",
   "execution_count": 12,
   "id": "10520f49-be55-49fd-9615-f0e841b70130",
   "metadata": {},
   "outputs": [],
   "source": [
    "# Appending the Honey( grouped by year) dataset to USDA Dataset\n",
    "\n",
    "Appended_Data_USDAHoney = rbind(Filtered_USDA_DF, Grouped_Honey_DS)\n"
   ]
  },
  {
   "cell_type": "code",
   "execution_count": 13,
   "id": "683f4d56-d9d5-4f63-a416-dc78a039f5b6",
   "metadata": {},
   "outputs": [
    {
     "data": {
      "text/html": [
       "<table class=\"dataframe\">\n",
       "<caption>A tibble: 20 × 8</caption>\n",
       "<thead>\n",
       "\t<tr><th scope=col>Commodity_Description</th><th scope=col>Country_Code</th><th scope=col>Country_Name</th><th scope=col>Year</th><th scope=col>Attribute_Description</th><th scope=col>Unit_Description</th><th scope=col>Value</th><th scope=col>Seen_On</th></tr>\n",
       "\t<tr><th scope=col>&lt;chr&gt;</th><th scope=col>&lt;chr&gt;</th><th scope=col>&lt;chr&gt;</th><th scope=col>&lt;dbl&gt;</th><th scope=col>&lt;chr&gt;</th><th scope=col>&lt;chr&gt;</th><th scope=col>&lt;dbl&gt;</th><th scope=col>&lt;chr&gt;</th></tr>\n",
       "</thead>\n",
       "<tbody>\n",
       "\t<tr><td>Walnuts, Inshell Basis</td><td>US</td><td>United States</td><td>2008</td><td>Production</td><td>(MT) </td><td>   395533</td><td>202110</td></tr>\n",
       "\t<tr><td>Walnuts, Inshell Basis</td><td>US</td><td>United States</td><td>2009</td><td>Production</td><td>(MT) </td><td>   396440</td><td>202110</td></tr>\n",
       "\t<tr><td>Walnuts, Inshell Basis</td><td>US</td><td>United States</td><td>2010</td><td>Production</td><td>(MT) </td><td>   457221</td><td>202110</td></tr>\n",
       "\t<tr><td>Walnuts, Inshell Basis</td><td>US</td><td>United States</td><td>2011</td><td>Production</td><td>(MT) </td><td>   418212</td><td>202110</td></tr>\n",
       "\t<tr><td>Walnuts, Inshell Basis</td><td>US</td><td>United States</td><td>2012</td><td>Production</td><td>(MT) </td><td>   450871</td><td>202110</td></tr>\n",
       "\t<tr><td>Honey                 </td><td>US</td><td>United States</td><td>1998</td><td>Production</td><td>(LBS)</td><td>219519000</td><td>1     </td></tr>\n",
       "\t<tr><td>Honey                 </td><td>US</td><td>United States</td><td>1999</td><td>Production</td><td>(LBS)</td><td>202387000</td><td>1     </td></tr>\n",
       "\t<tr><td>Honey                 </td><td>US</td><td>United States</td><td>2000</td><td>Production</td><td>(LBS)</td><td>219558000</td><td>1     </td></tr>\n",
       "\t<tr><td>Honey                 </td><td>US</td><td>United States</td><td>2001</td><td>Production</td><td>(LBS)</td><td>185748000</td><td>1     </td></tr>\n",
       "\t<tr><td>Honey                 </td><td>US</td><td>United States</td><td>2002</td><td>Production</td><td>(LBS)</td><td>171265000</td><td>1     </td></tr>\n",
       "\t<tr><td>Honey                 </td><td>US</td><td>United States</td><td>2003</td><td>Production</td><td>(LBS)</td><td>181372000</td><td>1     </td></tr>\n",
       "\t<tr><td>Honey                 </td><td>US</td><td>United States</td><td>2004</td><td>Production</td><td>(LBS)</td><td>182729000</td><td>1     </td></tr>\n",
       "\t<tr><td>Honey                 </td><td>US</td><td>United States</td><td>2005</td><td>Production</td><td>(LBS)</td><td>173969000</td><td>1     </td></tr>\n",
       "\t<tr><td>Honey                 </td><td>US</td><td>United States</td><td>2006</td><td>Production</td><td>(LBS)</td><td>154238000</td><td>1     </td></tr>\n",
       "\t<tr><td>Honey                 </td><td>US</td><td>United States</td><td>2007</td><td>Production</td><td>(LBS)</td><td>147621000</td><td>1     </td></tr>\n",
       "\t<tr><td>Honey                 </td><td>US</td><td>United States</td><td>2008</td><td>Production</td><td>(LBS)</td><td>162972000</td><td>1     </td></tr>\n",
       "\t<tr><td>Honey                 </td><td>US</td><td>United States</td><td>2009</td><td>Production</td><td>(LBS)</td><td>145068000</td><td>1     </td></tr>\n",
       "\t<tr><td>Honey                 </td><td>US</td><td>United States</td><td>2010</td><td>Production</td><td>(LBS)</td><td>175294000</td><td>1     </td></tr>\n",
       "\t<tr><td>Honey                 </td><td>US</td><td>United States</td><td>2011</td><td>Production</td><td>(LBS)</td><td>147201000</td><td>1     </td></tr>\n",
       "\t<tr><td>Honey                 </td><td>US</td><td>United States</td><td>2012</td><td>Production</td><td>(LBS)</td><td>140907000</td><td>1     </td></tr>\n",
       "</tbody>\n",
       "</table>\n"
      ],
      "text/latex": [
       "A tibble: 20 × 8\n",
       "\\begin{tabular}{llllllll}\n",
       " Commodity\\_Description & Country\\_Code & Country\\_Name & Year & Attribute\\_Description & Unit\\_Description & Value & Seen\\_On\\\\\n",
       " <chr> & <chr> & <chr> & <dbl> & <chr> & <chr> & <dbl> & <chr>\\\\\n",
       "\\hline\n",
       "\t Walnuts, Inshell Basis & US & United States & 2008 & Production & (MT)  &    395533 & 202110\\\\\n",
       "\t Walnuts, Inshell Basis & US & United States & 2009 & Production & (MT)  &    396440 & 202110\\\\\n",
       "\t Walnuts, Inshell Basis & US & United States & 2010 & Production & (MT)  &    457221 & 202110\\\\\n",
       "\t Walnuts, Inshell Basis & US & United States & 2011 & Production & (MT)  &    418212 & 202110\\\\\n",
       "\t Walnuts, Inshell Basis & US & United States & 2012 & Production & (MT)  &    450871 & 202110\\\\\n",
       "\t Honey                  & US & United States & 1998 & Production & (LBS) & 219519000 & 1     \\\\\n",
       "\t Honey                  & US & United States & 1999 & Production & (LBS) & 202387000 & 1     \\\\\n",
       "\t Honey                  & US & United States & 2000 & Production & (LBS) & 219558000 & 1     \\\\\n",
       "\t Honey                  & US & United States & 2001 & Production & (LBS) & 185748000 & 1     \\\\\n",
       "\t Honey                  & US & United States & 2002 & Production & (LBS) & 171265000 & 1     \\\\\n",
       "\t Honey                  & US & United States & 2003 & Production & (LBS) & 181372000 & 1     \\\\\n",
       "\t Honey                  & US & United States & 2004 & Production & (LBS) & 182729000 & 1     \\\\\n",
       "\t Honey                  & US & United States & 2005 & Production & (LBS) & 173969000 & 1     \\\\\n",
       "\t Honey                  & US & United States & 2006 & Production & (LBS) & 154238000 & 1     \\\\\n",
       "\t Honey                  & US & United States & 2007 & Production & (LBS) & 147621000 & 1     \\\\\n",
       "\t Honey                  & US & United States & 2008 & Production & (LBS) & 162972000 & 1     \\\\\n",
       "\t Honey                  & US & United States & 2009 & Production & (LBS) & 145068000 & 1     \\\\\n",
       "\t Honey                  & US & United States & 2010 & Production & (LBS) & 175294000 & 1     \\\\\n",
       "\t Honey                  & US & United States & 2011 & Production & (LBS) & 147201000 & 1     \\\\\n",
       "\t Honey                  & US & United States & 2012 & Production & (LBS) & 140907000 & 1     \\\\\n",
       "\\end{tabular}\n"
      ],
      "text/markdown": [
       "\n",
       "A tibble: 20 × 8\n",
       "\n",
       "| Commodity_Description &lt;chr&gt; | Country_Code &lt;chr&gt; | Country_Name &lt;chr&gt; | Year &lt;dbl&gt; | Attribute_Description &lt;chr&gt; | Unit_Description &lt;chr&gt; | Value &lt;dbl&gt; | Seen_On &lt;chr&gt; |\n",
       "|---|---|---|---|---|---|---|---|\n",
       "| Walnuts, Inshell Basis | US | United States | 2008 | Production | (MT)  |    395533 | 202110 |\n",
       "| Walnuts, Inshell Basis | US | United States | 2009 | Production | (MT)  |    396440 | 202110 |\n",
       "| Walnuts, Inshell Basis | US | United States | 2010 | Production | (MT)  |    457221 | 202110 |\n",
       "| Walnuts, Inshell Basis | US | United States | 2011 | Production | (MT)  |    418212 | 202110 |\n",
       "| Walnuts, Inshell Basis | US | United States | 2012 | Production | (MT)  |    450871 | 202110 |\n",
       "| Honey                  | US | United States | 1998 | Production | (LBS) | 219519000 | 1      |\n",
       "| Honey                  | US | United States | 1999 | Production | (LBS) | 202387000 | 1      |\n",
       "| Honey                  | US | United States | 2000 | Production | (LBS) | 219558000 | 1      |\n",
       "| Honey                  | US | United States | 2001 | Production | (LBS) | 185748000 | 1      |\n",
       "| Honey                  | US | United States | 2002 | Production | (LBS) | 171265000 | 1      |\n",
       "| Honey                  | US | United States | 2003 | Production | (LBS) | 181372000 | 1      |\n",
       "| Honey                  | US | United States | 2004 | Production | (LBS) | 182729000 | 1      |\n",
       "| Honey                  | US | United States | 2005 | Production | (LBS) | 173969000 | 1      |\n",
       "| Honey                  | US | United States | 2006 | Production | (LBS) | 154238000 | 1      |\n",
       "| Honey                  | US | United States | 2007 | Production | (LBS) | 147621000 | 1      |\n",
       "| Honey                  | US | United States | 2008 | Production | (LBS) | 162972000 | 1      |\n",
       "| Honey                  | US | United States | 2009 | Production | (LBS) | 145068000 | 1      |\n",
       "| Honey                  | US | United States | 2010 | Production | (LBS) | 175294000 | 1      |\n",
       "| Honey                  | US | United States | 2011 | Production | (LBS) | 147201000 | 1      |\n",
       "| Honey                  | US | United States | 2012 | Production | (LBS) | 140907000 | 1      |\n",
       "\n"
      ],
      "text/plain": [
       "   Commodity_Description  Country_Code Country_Name  Year Attribute_Description\n",
       "1  Walnuts, Inshell Basis US           United States 2008 Production           \n",
       "2  Walnuts, Inshell Basis US           United States 2009 Production           \n",
       "3  Walnuts, Inshell Basis US           United States 2010 Production           \n",
       "4  Walnuts, Inshell Basis US           United States 2011 Production           \n",
       "5  Walnuts, Inshell Basis US           United States 2012 Production           \n",
       "6  Honey                  US           United States 1998 Production           \n",
       "7  Honey                  US           United States 1999 Production           \n",
       "8  Honey                  US           United States 2000 Production           \n",
       "9  Honey                  US           United States 2001 Production           \n",
       "10 Honey                  US           United States 2002 Production           \n",
       "11 Honey                  US           United States 2003 Production           \n",
       "12 Honey                  US           United States 2004 Production           \n",
       "13 Honey                  US           United States 2005 Production           \n",
       "14 Honey                  US           United States 2006 Production           \n",
       "15 Honey                  US           United States 2007 Production           \n",
       "16 Honey                  US           United States 2008 Production           \n",
       "17 Honey                  US           United States 2009 Production           \n",
       "18 Honey                  US           United States 2010 Production           \n",
       "19 Honey                  US           United States 2011 Production           \n",
       "20 Honey                  US           United States 2012 Production           \n",
       "   Unit_Description Value     Seen_On\n",
       "1  (MT)                395533 202110 \n",
       "2  (MT)                396440 202110 \n",
       "3  (MT)                457221 202110 \n",
       "4  (MT)                418212 202110 \n",
       "5  (MT)                450871 202110 \n",
       "6  (LBS)            219519000 1      \n",
       "7  (LBS)            202387000 1      \n",
       "8  (LBS)            219558000 1      \n",
       "9  (LBS)            185748000 1      \n",
       "10 (LBS)            171265000 1      \n",
       "11 (LBS)            181372000 1      \n",
       "12 (LBS)            182729000 1      \n",
       "13 (LBS)            173969000 1      \n",
       "14 (LBS)            154238000 1      \n",
       "15 (LBS)            147621000 1      \n",
       "16 (LBS)            162972000 1      \n",
       "17 (LBS)            145068000 1      \n",
       "18 (LBS)            175294000 1      \n",
       "19 (LBS)            147201000 1      \n",
       "20 (LBS)            140907000 1      "
      ]
     },
     "metadata": {},
     "output_type": "display_data"
    }
   ],
   "source": [
    "# See if it worked, checking last 20 rows.\n",
    "View(tail(Appended_Data_USDAHoney, n = 20))\n"
   ]
  },
  {
   "cell_type": "code",
   "execution_count": 14,
   "id": "ce6ea885-c153-425e-ade1-27b2eaa2d6dd",
   "metadata": {},
   "outputs": [],
   "source": [
    "# Exporting the AppendedDataSet to a CSV to share with the team.\n",
    "write.csv(Appended_Data_USDAHoney, \"../Data/Test_Appended_Data_USDAHoney.csv\")"
   ]
  },
  {
   "cell_type": "code",
   "execution_count": null,
   "id": "18a52362-48f8-4ab9-8aa4-667b37530b66",
   "metadata": {},
   "outputs": [],
   "source": []
  }
 ],
 "metadata": {
  "kernelspec": {
   "display_name": "R",
   "language": "R",
   "name": "ir"
  },
  "language_info": {
   "codemirror_mode": "r",
   "file_extension": ".r",
   "mimetype": "text/x-r-source",
   "name": "R",
   "pygments_lexer": "r",
   "version": "4.1.2"
  }
 },
 "nbformat": 4,
 "nbformat_minor": 5
}
