{
 "cells": [
  {
   "cell_type": "code",
   "execution_count": 1,
   "id": "58990535-8eac-4371-b302-f92b8593cfcf",
   "metadata": {},
   "outputs": [],
   "source": [
    "#import packages"
   ]
  },
  {
   "cell_type": "code",
   "execution_count": 51,
   "id": "0b2655d8-38e6-4a33-b044-61d1ba7e5710",
   "metadata": {},
   "outputs": [
    {
     "name": "stdout",
     "output_type": "stream",
     "text": [
      "Requirement already satisfied: statsmodels in c:\\python3\\lib\\site-packages (0.13.2)\n",
      "Requirement already satisfied: packaging>=21.3 in c:\\python3\\lib\\site-packages (from statsmodels) (21.3)\n",
      "Requirement already satisfied: patsy>=0.5.2 in c:\\python3\\lib\\site-packages (from statsmodels) (0.5.2)\n",
      "Requirement already satisfied: pandas>=0.25 in c:\\python3\\lib\\site-packages (from statsmodels) (1.4.2)\n",
      "Requirement already satisfied: numpy>=1.17 in c:\\python3\\lib\\site-packages (from statsmodels) (1.22.4)\n",
      "Requirement already satisfied: scipy>=1.3 in c:\\python3\\lib\\site-packages (from statsmodels) (1.8.1)\n",
      "Requirement already satisfied: pyparsing!=3.0.5,>=2.0.2 in c:\\python3\\lib\\site-packages (from packaging>=21.3->statsmodels) (3.0.9)\n",
      "Requirement already satisfied: python-dateutil>=2.8.1 in c:\\python3\\lib\\site-packages (from pandas>=0.25->statsmodels) (2.8.2)\n",
      "Requirement already satisfied: pytz>=2020.1 in c:\\python3\\lib\\site-packages (from pandas>=0.25->statsmodels) (2022.1)\n",
      "Requirement already satisfied: six in c:\\python3\\lib\\site-packages (from patsy>=0.5.2->statsmodels) (1.16.0)\n",
      "Note: you may need to restart the kernel to use updated packages.\n"
     ]
    },
    {
     "name": "stderr",
     "output_type": "stream",
     "text": [
      "WARNING: You are using pip version 22.0.4; however, version 22.1.2 is available.\n",
      "You should consider upgrading via the 'C:\\Python3\\python.exe -m pip install --upgrade pip' command.\n"
     ]
    }
   ],
   "source": [
    "pip install statsmodels"
   ]
  },
  {
   "cell_type": "code",
   "execution_count": 50,
   "id": "2f55fb69-49e0-432a-a0ac-4aaf4e001470",
   "metadata": {},
   "outputs": [],
   "source": [
    "import pandas as pd\n",
    "import numpy as np\n",
    "import matplotlib.pyplot as plt\n",
    "import seaborn as sns\n",
    "%matplotlib inline\n",
    "from sklearn.model_selection import train_test_split\n",
    "from sklearn.tree import DecisionTreeClassifier\n",
    "from sklearn.metrics import classification_report, confusion_matrix, accuracy_score\n",
    "from sklearn.ensemble import RandomForestClassifier\n",
    "import math\n",
    "from numpy import nan\n",
    "import matplotlib.pyplot as plt\n",
    "import matplotlib.mlab as mlab\n",
    "from pylab import *\n",
    "%matplotlib inline\n",
    "import statsmodels.api as sm\n",
    "import statsmodels.stats.api as sms\n",
    "from scipy.stats import boxcox\n",
    "import warnings\n",
    "warnings.filterwarnings('ignore')"
   ]
  },
  {
   "cell_type": "code",
   "execution_count": 3,
   "id": "bbc7da09-d432-4740-81bd-f1f1a2e862a5",
   "metadata": {},
   "outputs": [],
   "source": [
    "#import dataset"
   ]
  },
  {
   "cell_type": "code",
   "execution_count": 4,
   "id": "6dd58940-06cc-4592-bf88-e07d0465c28f",
   "metadata": {},
   "outputs": [],
   "source": [
    "usdaHoney = pd.read_csv(\"C:/Users/srjoh/OneDrive/Documents/WOZ-U/Final Project/datasets/FinalusdaHoney3.csv\")"
   ]
  },
  {
   "cell_type": "code",
   "execution_count": 19,
   "id": "86789e7e-e3a6-4959-8b99-993e33f92bca",
   "metadata": {},
   "outputs": [
    {
     "data": {
      "text/html": [
       "<div>\n",
       "<style scoped>\n",
       "    .dataframe tbody tr th:only-of-type {\n",
       "        vertical-align: middle;\n",
       "    }\n",
       "\n",
       "    .dataframe tbody tr th {\n",
       "        vertical-align: top;\n",
       "    }\n",
       "\n",
       "    .dataframe thead th {\n",
       "        text-align: right;\n",
       "    }\n",
       "</style>\n",
       "<table border=\"1\" class=\"dataframe\">\n",
       "  <thead>\n",
       "    <tr style=\"text-align: right;\">\n",
       "      <th></th>\n",
       "      <th>Commodity_Description</th>\n",
       "      <th>Year</th>\n",
       "      <th>Production_MT</th>\n",
       "    </tr>\n",
       "  </thead>\n",
       "  <tbody>\n",
       "    <tr>\n",
       "      <th>0</th>\n",
       "      <td>Almonds, Shelled Basis</td>\n",
       "      <td>1998</td>\n",
       "      <td>235884.0</td>\n",
       "    </tr>\n",
       "    <tr>\n",
       "      <th>1</th>\n",
       "      <td>Almonds, Shelled Basis</td>\n",
       "      <td>1999</td>\n",
       "      <td>377800.0</td>\n",
       "    </tr>\n",
       "    <tr>\n",
       "      <th>2</th>\n",
       "      <td>Almonds, Shelled Basis</td>\n",
       "      <td>2000</td>\n",
       "      <td>318900.0</td>\n",
       "    </tr>\n",
       "    <tr>\n",
       "      <th>3</th>\n",
       "      <td>Almonds, Shelled Basis</td>\n",
       "      <td>2001</td>\n",
       "      <td>376500.0</td>\n",
       "    </tr>\n",
       "    <tr>\n",
       "      <th>4</th>\n",
       "      <td>Almonds, Shelled Basis</td>\n",
       "      <td>2002</td>\n",
       "      <td>494416.0</td>\n",
       "    </tr>\n",
       "  </tbody>\n",
       "</table>\n",
       "</div>"
      ],
      "text/plain": [
       "    Commodity_Description  Year  Production_MT\n",
       "0  Almonds, Shelled Basis  1998       235884.0\n",
       "1  Almonds, Shelled Basis  1999       377800.0\n",
       "2  Almonds, Shelled Basis  2000       318900.0\n",
       "3  Almonds, Shelled Basis  2001       376500.0\n",
       "4  Almonds, Shelled Basis  2002       494416.0"
      ]
     },
     "execution_count": 19,
     "metadata": {},
     "output_type": "execute_result"
    }
   ],
   "source": [
    "usdaHoney.head()"
   ]
  },
  {
   "cell_type": "code",
   "execution_count": 6,
   "id": "538e9f05-afe2-40d7-ba8a-95beb29fbe68",
   "metadata": {},
   "outputs": [],
   "source": [
    "#Pivot data to index by year with commodity name as columns and values by row"
   ]
  },
  {
   "cell_type": "code",
   "execution_count": 20,
   "id": "ca50ca41-742a-47f6-8194-2c86ab5089ab",
   "metadata": {},
   "outputs": [
    {
     "name": "stdout",
     "output_type": "stream",
     "text": [
      "    Year  Almonds, Shelled Basis  Apples, Fresh     Barley  Coffee, Green  \\\n",
      "0   1998                235884.0      5282724.0  7655000.0        13920.0   \n",
      "1   1999                377800.0      5746060.0  5922000.0         9780.0   \n",
      "2   2000                318900.0      5675890.0  6919000.0        11100.0   \n",
      "3   2001                376500.0      5065060.0  5407000.0        10980.0   \n",
      "4   2002                494416.0      4605810.0  4940000.0         9780.0   \n",
      "5   2003                471740.0      4780600.0  6059000.0         9780.0   \n",
      "6   2004                462664.0      5683040.0  6091000.0        11160.0   \n",
      "7   2005                415040.0      5261960.0  4613000.0         8760.0   \n",
      "8   2006                508023.0      5351610.0  3984000.0        10320.0   \n",
      "9   2007                630500.0      4154195.0  5030000.0        10320.0   \n",
      "10  2008                739400.0      4508344.0  5230000.0        10260.0   \n",
      "11  2009                639600.0      4505000.0  4951000.0        10200.0   \n",
      "12  2010                748430.0      4219541.0  4137000.0         9600.0   \n",
      "13  2011                920800.0      4231474.0  3810000.0         6600.0   \n",
      "14  2012                952500.0      4200000.0  4812000.0         6300.0   \n",
      "\n",
      "           Corn     Cotton  Dairy, Milk, Fluid  Filberts, Inshell Basis  \\\n",
      "0   247882000.0  3006288.0          71334000.0                  14061.0   \n",
      "1   239549000.0  3665088.0          73750000.0                  34500.0   \n",
      "2   251854000.0  3712608.0          75929000.0                  20471.0   \n",
      "3   241377000.0  4385448.0          74994000.0                  44906.0   \n",
      "4   227767000.0  3717144.0          77140000.0                  17700.0   \n",
      "5   256278000.0  3943080.0          77290000.0                  34400.0   \n",
      "6   299914000.0  5022216.0          77535000.0                  48502.0   \n",
      "7   282311000.0  5160240.0          80286000.0                  33566.0   \n",
      "8   282303000.0  4693464.0          82582000.0                  39010.0   \n",
      "9   338295000.0  4190400.0          84211000.0                  33600.0   \n",
      "10  312126000.0  3132000.0          86410000.0                  30800.0   \n",
      "11  334052000.0  2902608.0          86817000.0                  42640.0   \n",
      "12  339614000.0  4076568.0          87488000.0                  25400.0   \n",
      "13  343043000.0  3888000.0          89020000.0                  37200.0   \n",
      "14  375683000.0  3812616.0          91010000.0                  36300.0   \n",
      "\n",
      "    Fresh Cherries,(Sweet&Sour)  ...  Pears, Fresh  Pistachios, Inshell Basis  \\\n",
      "0                      336521.0  ...      880061.0                    85275.0   \n",
      "1                      312226.0  ...      921247.0                    56056.0   \n",
      "2                      318195.0  ...      884750.0                   110179.0   \n",
      "3                      339359.0  ...      931631.0                    73240.0   \n",
      "4                      192320.0  ...      807413.0                   137562.0   \n",
      "5                      325670.0  ...      847356.0                    53970.0   \n",
      "6                      353800.0  ...      795837.0                   157400.0   \n",
      "7                      350170.0  ...      745446.0                   128400.0   \n",
      "8                      386510.0  ...      754000.0                   107955.0   \n",
      "9                      407880.0  ...      798200.0                   188694.0   \n",
      "10                     321315.0  ...      789200.0                   126100.0   \n",
      "11                     495346.0  ...      867120.0                   175000.0   \n",
      "12                     367000.0  ...      774477.0                   236775.0   \n",
      "13                     404660.0  ...      875533.0                   203150.0   \n",
      "14                     418135.0  ...      796338.0                   249929.0   \n",
      "\n",
      "    Poultry, Meat, Turkey  Rice, Milled       Rye     Sorghum  \\\n",
      "0               2365000.0     5798000.0  309000.0  13207000.0   \n",
      "1               2372000.0     6502000.0  280000.0  15118000.0   \n",
      "2               2419000.0     5941000.0  213000.0  11952000.0   \n",
      "3               2490000.0     6714000.0  175000.0  13057000.0   \n",
      "4               2557000.0     6602000.0  165000.0   9163000.0   \n",
      "5               2529000.0     6420000.0  219000.0  10446000.0   \n",
      "6               2441000.0     7462000.0  210000.0  11523000.0   \n",
      "7               2464000.0     7113000.0  191000.0  10005000.0   \n",
      "8               2545000.0     6267000.0  183000.0   7738000.0   \n",
      "9               2667000.0     6344000.0  206000.0  13073000.0   \n",
      "10              2801000.0     6617000.0  211000.0  12087000.0   \n",
      "11              2733000.0     7163000.0  191000.0   9896000.0   \n",
      "12              2607000.0     7975000.0  190000.0   9740000.0   \n",
      "13              2593000.0     6771000.0  170000.0   8128000.0   \n",
      "14              2675000.0     6356000.0  192000.0   8636000.0   \n",
      "\n",
      "    Sugar, Centrifugal  Tangerines/Mandarins, Fresh  Walnuts, Inshell Basis  \\\n",
      "0            7277000.0                     401000.0                205931.0   \n",
      "1            7597000.0                     505000.0                256734.0   \n",
      "2            8203000.0                     425000.0                216816.0   \n",
      "3            7956000.0                     469000.0                276700.0   \n",
      "4            7167000.0                     443000.0                255825.0   \n",
      "5            7644000.0                     419000.0                295741.0   \n",
      "6            7847000.0                     367000.0                294834.0   \n",
      "7            7146000.0                     435000.0                322100.0   \n",
      "8            6741000.0                     378000.0                317515.0   \n",
      "9            7727000.0                     540000.0                297600.0   \n",
      "10           7665000.0                     520000.0                395533.0   \n",
      "11           7362000.0                     583000.0                396440.0   \n",
      "12           7326000.0                     643000.0                462660.0   \n",
      "13           7607000.0                     635000.0                440000.0   \n",
      "14           7700000.0                     664000.0                450871.0   \n",
      "\n",
      "         Wheat  \n",
      "0   69327000.0  \n",
      "1   62475000.0  \n",
      "2   60641000.0  \n",
      "3   53001000.0  \n",
      "4   43705000.0  \n",
      "5   63814000.0  \n",
      "6   58738000.0  \n",
      "7   57280000.0  \n",
      "8   49316000.0  \n",
      "9   59156000.0  \n",
      "10  68363000.0  \n",
      "11  60423000.0  \n",
      "12  61641000.0  \n",
      "13  57319000.0  \n",
      "14  61755000.0  \n",
      "\n",
      "[15 rows x 35 columns]\n"
     ]
    }
   ],
   "source": [
    "pivoted = usdaHoney.pivot(index='Year', columns='Commodity_Description', values='Production_MT')\\\n",
    "            .reset_index()\n",
    "pivoted.columns.name=None\n",
    "print(pivoted)"
   ]
  },
  {
   "cell_type": "code",
   "execution_count": 8,
   "id": "67bc1b3b-3f14-4478-9373-d11c965b863a",
   "metadata": {},
   "outputs": [],
   "source": [
    "#remove unwanted columns"
   ]
  },
  {
   "cell_type": "code",
   "execution_count": 21,
   "id": "083ba51c-828e-4ab8-8e3a-1f79f7b89a3e",
   "metadata": {},
   "outputs": [
    {
     "name": "stdout",
     "output_type": "stream",
     "text": [
      "<class 'pandas.core.frame.DataFrame'>\n",
      "RangeIndex: 15 entries, 0 to 14\n",
      "Data columns (total 35 columns):\n",
      " #   Column                       Non-Null Count  Dtype  \n",
      "---  ------                       --------------  -----  \n",
      " 0   Year                         15 non-null     int64  \n",
      " 1   Almonds, Shelled Basis       15 non-null     float64\n",
      " 2   Apples, Fresh                15 non-null     float64\n",
      " 3   Barley                       15 non-null     float64\n",
      " 4   Coffee, Green                15 non-null     float64\n",
      " 5   Corn                         15 non-null     float64\n",
      " 6   Cotton                       15 non-null     float64\n",
      " 7   Dairy, Milk, Fluid           15 non-null     float64\n",
      " 8   Filberts, Inshell Basis      15 non-null     float64\n",
      " 9   Fresh Cherries,(Sweet&Sour)  15 non-null     float64\n",
      " 10  Fresh Peaches & Nectarines   15 non-null     float64\n",
      " 11  Grapefruit, Fresh            15 non-null     float64\n",
      " 12  Grapes, Fresh                15 non-null     float64\n",
      " 13  Honey                        15 non-null     float64\n",
      " 14  Lemons/Limes, Fresh          15 non-null     float64\n",
      " 15  Meat, Beef and Veal          15 non-null     float64\n",
      " 16  Meat, Swine                  15 non-null     float64\n",
      " 17  Oats                         15 non-null     float64\n",
      " 18  Oil, Cottonseed              15 non-null     float64\n",
      " 19  Oil, Olive                   15 non-null     float64\n",
      " 20  Oil, Peanut                  15 non-null     float64\n",
      " 21  Oil, Rapeseed                15 non-null     float64\n",
      " 22  Oil, Soybean                 15 non-null     float64\n",
      " 23  Oil, Sunflowerseed           15 non-null     float64\n",
      " 24  Oranges, Fresh               15 non-null     float64\n",
      " 25  Pears, Fresh                 15 non-null     float64\n",
      " 26  Pistachios, Inshell Basis    15 non-null     float64\n",
      " 27  Poultry, Meat, Turkey        15 non-null     float64\n",
      " 28  Rice, Milled                 15 non-null     float64\n",
      " 29  Rye                          15 non-null     float64\n",
      " 30  Sorghum                      15 non-null     float64\n",
      " 31  Sugar, Centrifugal           15 non-null     float64\n",
      " 32  Tangerines/Mandarins, Fresh  15 non-null     float64\n",
      " 33  Walnuts, Inshell Basis       15 non-null     float64\n",
      " 34  Wheat                        15 non-null     float64\n",
      "dtypes: float64(34), int64(1)\n",
      "memory usage: 4.2 KB\n"
     ]
    }
   ],
   "source": [
    "pivoted.info()"
   ]
  },
  {
   "cell_type": "code",
   "execution_count": 22,
   "id": "a83894d0-81a1-401f-9d8c-606cd8583856",
   "metadata": {},
   "outputs": [],
   "source": [
    "usdaHoneyMisc=pivoted[['Year', 'Coffee, Green', 'Cotton', 'Honey', 'Sugar, Centrifugal']]"
   ]
  },
  {
   "cell_type": "code",
   "execution_count": 11,
   "id": "c08e6662-fb19-4653-9bfa-c63330a61310",
   "metadata": {},
   "outputs": [
    {
     "name": "stdout",
     "output_type": "stream",
     "text": [
      "<class 'pandas.core.frame.DataFrame'>\n",
      "RangeIndex: 15 entries, 0 to 14\n",
      "Data columns (total 5 columns):\n",
      " #   Column              Non-Null Count  Dtype  \n",
      "---  ------              --------------  -----  \n",
      " 0   Year                15 non-null     int64  \n",
      " 1   Coffee, Green       15 non-null     float64\n",
      " 2   Cotton              15 non-null     float64\n",
      " 3   Honey               15 non-null     float64\n",
      " 4   Sugar, Centrifugal  15 non-null     float64\n",
      "dtypes: float64(4), int64(1)\n",
      "memory usage: 728.0 bytes\n"
     ]
    }
   ],
   "source": [
    "usdaHoneyMisc.info()"
   ]
  },
  {
   "cell_type": "code",
   "execution_count": 13,
   "id": "27029e96-5d0a-4e8f-948b-49d84778bb03",
   "metadata": {},
   "outputs": [],
   "source": [
    "#Correlation Matrix"
   ]
  },
  {
   "cell_type": "code",
   "execution_count": 24,
   "id": "d22c8a87-538a-4a3d-bda3-d317a9b4e15a",
   "metadata": {},
   "outputs": [
    {
     "name": "stdout",
     "output_type": "stream",
     "text": [
      "                        Year  Coffee, Green    Cotton     Honey  \\\n",
      "Year                1.000000      -0.715330  0.030488 -0.868987   \n",
      "Coffee, Green      -0.715330       1.000000 -0.182250  0.667521   \n",
      "Cotton              0.030488      -0.182250  1.000000 -0.092651   \n",
      "Honey              -0.868987       0.667521 -0.092651  1.000000   \n",
      "Sugar, Centrifugal -0.138870       0.005788 -0.093965  0.279058   \n",
      "\n",
      "                    Sugar, Centrifugal  \n",
      "Year                         -0.138870  \n",
      "Coffee, Green                 0.005788  \n",
      "Cotton                       -0.093965  \n",
      "Honey                         0.279058  \n",
      "Sugar, Centrifugal            1.000000  \n"
     ]
    }
   ],
   "source": [
    "Matrix = usdaHoneyMisc.corr()\n",
    "print (Matrix)"
   ]
  },
  {
   "cell_type": "code",
   "execution_count": 15,
   "id": "bf089620-81ac-4eb3-8db9-b2271e154948",
   "metadata": {},
   "outputs": [],
   "source": [
    "#heatmap visual"
   ]
  },
  {
   "cell_type": "code",
   "execution_count": 25,
   "id": "cc18f27b-86fb-45aa-a976-56e63cb72a89",
   "metadata": {},
   "outputs": [
    {
     "data": {
      "text/plain": [
       "<AxesSubplot:>"
      ]
     },
     "execution_count": 25,
     "metadata": {},
     "output_type": "execute_result"
    },
    {
     "data": {
      "image/png": "[encoded data removed]",
      "text/plain": [
       "<Figure size 432x288 with 2 Axes>"
      ]
     },
     "metadata": {
      "needs_background": "light"
     },
     "output_type": "display_data"
    }
   ],
   "source": [
    "sns.heatmap(Matrix, annot = True, cmap='viridis',vmin=-1,vmax=1, linewidth = 1)"
   ]
  },
  {
   "cell_type": "code",
   "execution_count": 17,
   "id": "fcc6ba58-da2d-4357-9535-aaab6046cca6",
   "metadata": {},
   "outputs": [],
   "source": [
    "#how has production of coffee changed over time (1998-2012) within current USDA dataset for US production only"
   ]
  },
  {
   "cell_type": "code",
   "execution_count": null,
   "id": "c54cdb83-dea1-4ab5-8f12-a54dd9332292",
   "metadata": {},
   "outputs": [],
   "source": []
  },
  {
   "cell_type": "code",
   "execution_count": 28,
   "id": "88adf183-17af-4ce7-9bf2-754547bc33d6",
   "metadata": {},
   "outputs": [
    {
     "data": {
      "text/html": [
       "<div>\n",
       "<style scoped>\n",
       "    .dataframe tbody tr th:only-of-type {\n",
       "        vertical-align: middle;\n",
       "    }\n",
       "\n",
       "    .dataframe tbody tr th {\n",
       "        vertical-align: top;\n",
       "    }\n",
       "\n",
       "    .dataframe thead th {\n",
       "        text-align: right;\n",
       "    }\n",
       "</style>\n",
       "<table border=\"1\" class=\"dataframe\">\n",
       "  <thead>\n",
       "    <tr style=\"text-align: right;\">\n",
       "      <th></th>\n",
       "      <th>Year</th>\n",
       "      <th>Coffee, Green</th>\n",
       "    </tr>\n",
       "  </thead>\n",
       "  <tbody>\n",
       "    <tr>\n",
       "      <th>0</th>\n",
       "      <td>1998</td>\n",
       "      <td>13920.0</td>\n",
       "    </tr>\n",
       "    <tr>\n",
       "      <th>1</th>\n",
       "      <td>1999</td>\n",
       "      <td>9780.0</td>\n",
       "    </tr>\n",
       "    <tr>\n",
       "      <th>2</th>\n",
       "      <td>2000</td>\n",
       "      <td>11100.0</td>\n",
       "    </tr>\n",
       "    <tr>\n",
       "      <th>3</th>\n",
       "      <td>2001</td>\n",
       "      <td>10980.0</td>\n",
       "    </tr>\n",
       "    <tr>\n",
       "      <th>4</th>\n",
       "      <td>2002</td>\n",
       "      <td>9780.0</td>\n",
       "    </tr>\n",
       "    <tr>\n",
       "      <th>5</th>\n",
       "      <td>2003</td>\n",
       "      <td>9780.0</td>\n",
       "    </tr>\n",
       "    <tr>\n",
       "      <th>6</th>\n",
       "      <td>2004</td>\n",
       "      <td>11160.0</td>\n",
       "    </tr>\n",
       "    <tr>\n",
       "      <th>7</th>\n",
       "      <td>2005</td>\n",
       "      <td>8760.0</td>\n",
       "    </tr>\n",
       "    <tr>\n",
       "      <th>8</th>\n",
       "      <td>2006</td>\n",
       "      <td>10320.0</td>\n",
       "    </tr>\n",
       "    <tr>\n",
       "      <th>9</th>\n",
       "      <td>2007</td>\n",
       "      <td>10320.0</td>\n",
       "    </tr>\n",
       "    <tr>\n",
       "      <th>10</th>\n",
       "      <td>2008</td>\n",
       "      <td>10260.0</td>\n",
       "    </tr>\n",
       "    <tr>\n",
       "      <th>11</th>\n",
       "      <td>2009</td>\n",
       "      <td>10200.0</td>\n",
       "    </tr>\n",
       "    <tr>\n",
       "      <th>12</th>\n",
       "      <td>2010</td>\n",
       "      <td>9600.0</td>\n",
       "    </tr>\n",
       "    <tr>\n",
       "      <th>13</th>\n",
       "      <td>2011</td>\n",
       "      <td>6600.0</td>\n",
       "    </tr>\n",
       "    <tr>\n",
       "      <th>14</th>\n",
       "      <td>2012</td>\n",
       "      <td>6300.0</td>\n",
       "    </tr>\n",
       "  </tbody>\n",
       "</table>\n",
       "</div>"
      ],
      "text/plain": [
       "    Year  Coffee, Green\n",
       "0   1998        13920.0\n",
       "1   1999         9780.0\n",
       "2   2000        11100.0\n",
       "3   2001        10980.0\n",
       "4   2002         9780.0\n",
       "5   2003         9780.0\n",
       "6   2004        11160.0\n",
       "7   2005         8760.0\n",
       "8   2006        10320.0\n",
       "9   2007        10320.0\n",
       "10  2008        10260.0\n",
       "11  2009        10200.0\n",
       "12  2010         9600.0\n",
       "13  2011         6600.0\n",
       "14  2012         6300.0"
      ]
     },
     "execution_count": 28,
     "metadata": {},
     "output_type": "execute_result"
    }
   ],
   "source": [
    "Coffee= usdaHoneyMisc[['Year','Coffee, Green',]]\n",
    "Coffee"
   ]
  },
  {
   "cell_type": "code",
   "execution_count": 29,
   "id": "b6d8df81-df81-4f00-86a7-8ae19e741619",
   "metadata": {},
   "outputs": [
    {
     "data": {
      "text/plain": [
       "<seaborn.axisgrid.PairGrid at 0x1d39f68d540>"
      ]
     },
     "execution_count": 29,
     "metadata": {},
     "output_type": "execute_result"
    },
    {
     "data": {
      "image/png": "[encoded data removed]",
      "text/plain": [
       "<Figure size 360x360 with 6 Axes>"
      ]
     },
     "metadata": {
      "needs_background": "light"
     },
     "output_type": "display_data"
    }
   ],
   "source": [
    "sns.pairplot(Coffee)"
   ]
  },
  {
   "cell_type": "code",
   "execution_count": 30,
   "id": "5fc28b3f-7c04-4205-b42b-a21a647d37b4",
   "metadata": {},
   "outputs": [
    {
     "name": "stderr",
     "output_type": "stream",
     "text": [
      "C:\\Python3\\lib\\site-packages\\seaborn\\distributions.py:2619: FutureWarning: `distplot` is a deprecated function and will be removed in a future version. Please adapt your code to use either `displot` (a figure-level function with similar flexibility) or `histplot` (an axes-level function for histograms).\n",
      "  warnings.warn(msg, FutureWarning)\n"
     ]
    },
    {
     "data": {
      "text/plain": [
       "<AxesSubplot:xlabel='Year', ylabel='Density'>"
      ]
     },
     "execution_count": 30,
     "metadata": {},
     "output_type": "execute_result"
    },
    {
     "data": {
      "image/png": "[encoded data removed]",
      "text/plain": [
       "<Figure size 432x288 with 1 Axes>"
      ]
     },
     "metadata": {
      "needs_background": "light"
     },
     "output_type": "display_data"
    }
   ],
   "source": [
    "sns.distplot(Coffee['Year'])"
   ]
  },
  {
   "cell_type": "code",
   "execution_count": null,
   "id": "0cd890d8-5114-487b-b311-9c5ad9aab953",
   "metadata": {},
   "outputs": [],
   "source": [
    "#distribution appears normal, however histogram and scatterplots indicate little variance from year to year"
   ]
  },
  {
   "cell_type": "code",
   "execution_count": 62,
   "id": "f247c886-628c-4fa6-9985-4e18331e83b5",
   "metadata": {},
   "outputs": [
    {
     "data": {
      "text/plain": [
       "<AxesSubplot:xlabel='Coffee, Green', ylabel='Density'>"
      ]
     },
     "execution_count": 62,
     "metadata": {},
     "output_type": "execute_result"
    },
    {
     "data": {
      "image/png": "[encoded data removed]",
      "text/plain": [
       "<Figure size 432x288 with 1 Axes>"
      ]
     },
     "metadata": {
      "needs_background": "light"
     },
     "output_type": "display_data"
    }
   ],
   "source": [
    "sns.distplot(Coffee['Coffee, Green'])"
   ]
  },
  {
   "cell_type": "code",
   "execution_count": null,
   "id": "4192ccc3-196d-4e71-abdf-eaa0fc9037c1",
   "metadata": {},
   "outputs": [],
   "source": [
    "#distribution appears mostly normal"
   ]
  },
  {
   "cell_type": "code",
   "execution_count": 55,
   "id": "d8f3f5b8-7edd-4cb3-9389-007c46a4400f",
   "metadata": {},
   "outputs": [],
   "source": [
    "x1 = Coffee['Year']\n",
    "y = Coffee['Coffee, Green']"
   ]
  },
  {
   "cell_type": "code",
   "execution_count": 56,
   "id": "21786da9-b47a-4925-889b-06167dfcc07d",
   "metadata": {},
   "outputs": [
    {
     "data": {
      "image/png": "[encoded data removed]",
      "text/plain": [
       "<Figure size 432x288 with 1 Axes>"
      ]
     },
     "metadata": {
      "needs_background": "light"
     },
     "output_type": "display_data"
    }
   ],
   "source": [
    "plt.scatter(x1,y)\n",
    " \n",
    "plt.xlabel('Year', fontsize = 12)\n",
    " \n",
    "plt.ylabel('Coffee Production Value', fontsize = 12)\n",
    " \n",
    "plt.show()"
   ]
  },
  {
   "cell_type": "code",
   "execution_count": 57,
   "id": "5a2ddeca-8d31-44db-b9bc-313fa0d19e01",
   "metadata": {},
   "outputs": [
    {
     "data": {
      "text/html": [
       "<table class=\"simpletable\">\n",
       "<caption>OLS Regression Results</caption>\n",
       "<tr>\n",
       "  <th>Dep. Variable:</th>      <td>Coffee, Green</td>  <th>  R-squared:         </th> <td>   0.512</td>\n",
       "</tr>\n",
       "<tr>\n",
       "  <th>Model:</th>                   <td>OLS</td>       <th>  Adj. R-squared:    </th> <td>   0.474</td>\n",
       "</tr>\n",
       "<tr>\n",
       "  <th>Method:</th>             <td>Least Squares</td>  <th>  F-statistic:       </th> <td>   13.62</td>\n",
       "</tr>\n",
       "<tr>\n",
       "  <th>Date:</th>             <td>Fri, 15 Jul 2022</td> <th>  Prob (F-statistic):</th>  <td>0.00272</td>\n",
       "</tr>\n",
       "<tr>\n",
       "  <th>Time:</th>                 <td>20:14:36</td>     <th>  Log-Likelihood:    </th> <td> -127.96</td>\n",
       "</tr>\n",
       "<tr>\n",
       "  <th>No. Observations:</th>      <td>    15</td>      <th>  AIC:               </th> <td>   259.9</td>\n",
       "</tr>\n",
       "<tr>\n",
       "  <th>Df Residuals:</th>          <td>    13</td>      <th>  BIC:               </th> <td>   261.3</td>\n",
       "</tr>\n",
       "<tr>\n",
       "  <th>Df Model:</th>              <td>     1</td>      <th>                     </th>     <td> </td>   \n",
       "</tr>\n",
       "<tr>\n",
       "  <th>Covariance Type:</th>      <td>nonrobust</td>    <th>                     </th>     <td> </td>   \n",
       "</tr>\n",
       "</table>\n",
       "<table class=\"simpletable\">\n",
       "<tr>\n",
       "    <td></td>       <th>coef</th>     <th>std err</th>      <th>t</th>      <th>P>|t|</th>  <th>[0.025</th>    <th>0.975]</th>  \n",
       "</tr>\n",
       "<tr>\n",
       "  <th>const</th> <td> 5.925e+05</td> <td> 1.58e+05</td> <td>    3.754</td> <td> 0.002</td> <td> 2.52e+05</td> <td> 9.34e+05</td>\n",
       "</tr>\n",
       "<tr>\n",
       "  <th>Year</th>  <td> -290.5714</td> <td>   78.726</td> <td>   -3.691</td> <td> 0.003</td> <td> -460.649</td> <td> -120.494</td>\n",
       "</tr>\n",
       "</table>\n",
       "<table class=\"simpletable\">\n",
       "<tr>\n",
       "  <th>Omnibus:</th>       <td> 4.100</td> <th>  Durbin-Watson:     </th> <td>   1.624</td>\n",
       "</tr>\n",
       "<tr>\n",
       "  <th>Prob(Omnibus):</th> <td> 0.129</td> <th>  Jarque-Bera (JB):  </th> <td>   1.289</td>\n",
       "</tr>\n",
       "<tr>\n",
       "  <th>Skew:</th>          <td>-0.068</td> <th>  Prob(JB):          </th> <td>   0.525</td>\n",
       "</tr>\n",
       "<tr>\n",
       "  <th>Kurtosis:</th>      <td> 1.570</td> <th>  Cond. No.          </th> <td>9.30e+05</td>\n",
       "</tr>\n",
       "</table><br/><br/>Notes:<br/>[1] Standard Errors assume that the covariance matrix of the errors is correctly specified.<br/>[2] The condition number is large, 9.3e+05. This might indicate that there are<br/>strong multicollinearity or other numerical problems."
      ],
      "text/plain": [
       "<class 'statsmodels.iolib.summary.Summary'>\n",
       "\"\"\"\n",
       "                            OLS Regression Results                            \n",
       "==============================================================================\n",
       "Dep. Variable:          Coffee, Green   R-squared:                       0.512\n",
       "Model:                            OLS   Adj. R-squared:                  0.474\n",
       "Method:                 Least Squares   F-statistic:                     13.62\n",
       "Date:                Fri, 15 Jul 2022   Prob (F-statistic):            0.00272\n",
       "Time:                        20:14:36   Log-Likelihood:                -127.96\n",
       "No. Observations:                  15   AIC:                             259.9\n",
       "Df Residuals:                      13   BIC:                             261.3\n",
       "Df Model:                           1                                         \n",
       "Covariance Type:            nonrobust                                         \n",
       "==============================================================================\n",
       "                 coef    std err          t      P>|t|      [0.025      0.975]\n",
       "------------------------------------------------------------------------------\n",
       "const       5.925e+05   1.58e+05      3.754      0.002    2.52e+05    9.34e+05\n",
       "Year        -290.5714     78.726     -3.691      0.003    -460.649    -120.494\n",
       "==============================================================================\n",
       "Omnibus:                        4.100   Durbin-Watson:                   1.624\n",
       "Prob(Omnibus):                  0.129   Jarque-Bera (JB):                1.289\n",
       "Skew:                          -0.068   Prob(JB):                        0.525\n",
       "Kurtosis:                       1.570   Cond. No.                     9.30e+05\n",
       "==============================================================================\n",
       "\n",
       "Notes:\n",
       "[1] Standard Errors assume that the covariance matrix of the errors is correctly specified.\n",
       "[2] The condition number is large, 9.3e+05. This might indicate that there are\n",
       "strong multicollinearity or other numerical problems.\n",
       "\"\"\""
      ]
     },
     "execution_count": 57,
     "metadata": {},
     "output_type": "execute_result"
    }
   ],
   "source": [
    "x = sm.add_constant(x1)\n",
    "model = sm.OLS(y,x).fit()\n",
    "model\n",
    "model.summary()"
   ]
  },
  {
   "cell_type": "code",
   "execution_count": null,
   "id": "115fdd2c-c845-4bb8-924b-9cead896a564",
   "metadata": {},
   "outputs": [],
   "source": [
    "#test for homoscedasticity"
   ]
  },
  {
   "cell_type": "code",
   "execution_count": 63,
   "id": "3519ea4c-7684-4dde-b49a-57297fe77fcc",
   "metadata": {},
   "outputs": [
    {
     "data": {
      "image/png": "[encoded data removed]",
      "text/plain": [
       "<Figure size 432x180 with 1 Axes>"
      ]
     },
     "metadata": {
      "needs_background": "light"
     },
     "output_type": "display_data"
    }
   ],
   "source": [
    "pred_val=model.fittedvalues.copy()\n",
    "true_val=Coffee['Coffee, Green'].values.copy()\n",
    "residual=true_val-pred_val\n",
    "\n",
    "fig, ax=plt.subplots(figsize=(6,2.5))\n",
    "_=ax.scatter(residual, pred_val)"
   ]
  },
  {
   "cell_type": "code",
   "execution_count": 64,
   "id": "c75e0c5e-9f68-491a-9382-ddafdadc1252",
   "metadata": {},
   "outputs": [
    {
     "data": {
      "text/plain": [
       "(9.55127424923668, nan, 24.541121283371776, 0.0002119046034772082)"
      ]
     },
     "execution_count": 64,
     "metadata": {},
     "output_type": "execute_result"
    }
   ],
   "source": [
    "sms.diagnostic.het_breuschpagan(residual, Coffee[['Year']])"
   ]
  },
  {
   "cell_type": "code",
   "execution_count": null,
   "id": "585cf5aa-0e96-4a72-ba2d-c713d80c15bc",
   "metadata": {},
   "outputs": [],
   "source": [
    "#p value significant - data is heteroscedastic"
   ]
  },
  {
   "cell_type": "code",
   "execution_count": 65,
   "id": "44177e81-86fb-4f60-b6f8-25f56f6789d0",
   "metadata": {},
   "outputs": [],
   "source": [
    "#test for homoscedasticity with Harvey Collier "
   ]
  },
  {
   "cell_type": "code",
   "execution_count": 66,
   "id": "b69e3e13-05c3-4cee-87f8-f4fdf3599205",
   "metadata": {},
   "outputs": [
    {
     "data": {
      "text/plain": [
       "Ttest_1sampResult(statistic=0.6102597680015467, pvalue=0.5540881852176911)"
      ]
     },
     "execution_count": 66,
     "metadata": {},
     "output_type": "execute_result"
    }
   ],
   "source": [
    "sms.linear_harvey_collier(model)"
   ]
  },
  {
   "cell_type": "code",
   "execution_count": null,
   "id": "7d0db2cb-467d-4f09-80c2-c6a240a89723",
   "metadata": {},
   "outputs": [],
   "source": [
    "#p value not significant, met assumption for homoscedasticity"
   ]
  },
  {
   "cell_type": "code",
   "execution_count": 67,
   "id": "92b5fbcf-b8a3-41dd-90e5-4fafc040ddc3",
   "metadata": {},
   "outputs": [],
   "source": [
    "#screening for outliers"
   ]
  },
  {
   "cell_type": "code",
   "execution_count": 68,
   "id": "96a728a2-f956-464f-8431-c852f036dca8",
   "metadata": {},
   "outputs": [
    {
     "data": {
      "image/png": "[encoded data removed]",
      "text/plain": [
       "<Figure size 864x576 with 1 Axes>"
      ]
     },
     "metadata": {
      "needs_background": "light"
     },
     "output_type": "display_data"
    }
   ],
   "source": [
    "fig, ax = plt.subplots(figsize=(12,8))\n",
    "fig = sm.graphics.influence_plot(model, alpha = .05, ax = ax, criterion=\"cooks\")"
   ]
  },
  {
   "cell_type": "code",
   "execution_count": null,
   "id": "c47999b5-3528-460e-bc30-c07918ecd832",
   "metadata": {},
   "outputs": [],
   "source": [
    "#there are no row numbers next to any points and all points fit within range so there are no outliers"
   ]
  },
  {
   "cell_type": "code",
   "execution_count": 69,
   "id": "7655b4f0-fe60-4b9b-a799-b074738d48f4",
   "metadata": {},
   "outputs": [
    {
     "data": {
      "text/html": [
       "<table class=\"simpletable\">\n",
       "<caption>OLS Regression Results</caption>\n",
       "<tr>\n",
       "  <th>Dep. Variable:</th>      <td>Coffee, Green</td>  <th>  R-squared:         </th> <td>   0.512</td>\n",
       "</tr>\n",
       "<tr>\n",
       "  <th>Model:</th>                   <td>OLS</td>       <th>  Adj. R-squared:    </th> <td>   0.474</td>\n",
       "</tr>\n",
       "<tr>\n",
       "  <th>Method:</th>             <td>Least Squares</td>  <th>  F-statistic:       </th> <td>   13.62</td>\n",
       "</tr>\n",
       "<tr>\n",
       "  <th>Date:</th>             <td>Fri, 15 Jul 2022</td> <th>  Prob (F-statistic):</th>  <td>0.00272</td>\n",
       "</tr>\n",
       "<tr>\n",
       "  <th>Time:</th>                 <td>22:56:34</td>     <th>  Log-Likelihood:    </th> <td> -127.96</td>\n",
       "</tr>\n",
       "<tr>\n",
       "  <th>No. Observations:</th>      <td>    15</td>      <th>  AIC:               </th> <td>   259.9</td>\n",
       "</tr>\n",
       "<tr>\n",
       "  <th>Df Residuals:</th>          <td>    13</td>      <th>  BIC:               </th> <td>   261.3</td>\n",
       "</tr>\n",
       "<tr>\n",
       "  <th>Df Model:</th>              <td>     1</td>      <th>                     </th>     <td> </td>   \n",
       "</tr>\n",
       "<tr>\n",
       "  <th>Covariance Type:</th>      <td>nonrobust</td>    <th>                     </th>     <td> </td>   \n",
       "</tr>\n",
       "</table>\n",
       "<table class=\"simpletable\">\n",
       "<tr>\n",
       "    <td></td>       <th>coef</th>     <th>std err</th>      <th>t</th>      <th>P>|t|</th>  <th>[0.025</th>    <th>0.975]</th>  \n",
       "</tr>\n",
       "<tr>\n",
       "  <th>const</th> <td> 5.925e+05</td> <td> 1.58e+05</td> <td>    3.754</td> <td> 0.002</td> <td> 2.52e+05</td> <td> 9.34e+05</td>\n",
       "</tr>\n",
       "<tr>\n",
       "  <th>Year</th>  <td> -290.5714</td> <td>   78.726</td> <td>   -3.691</td> <td> 0.003</td> <td> -460.649</td> <td> -120.494</td>\n",
       "</tr>\n",
       "</table>\n",
       "<table class=\"simpletable\">\n",
       "<tr>\n",
       "  <th>Omnibus:</th>       <td> 4.100</td> <th>  Durbin-Watson:     </th> <td>   1.624</td>\n",
       "</tr>\n",
       "<tr>\n",
       "  <th>Prob(Omnibus):</th> <td> 0.129</td> <th>  Jarque-Bera (JB):  </th> <td>   1.289</td>\n",
       "</tr>\n",
       "<tr>\n",
       "  <th>Skew:</th>          <td>-0.068</td> <th>  Prob(JB):          </th> <td>   0.525</td>\n",
       "</tr>\n",
       "<tr>\n",
       "  <th>Kurtosis:</th>      <td> 1.570</td> <th>  Cond. No.          </th> <td>9.30e+05</td>\n",
       "</tr>\n",
       "</table><br/><br/>Notes:<br/>[1] Standard Errors assume that the covariance matrix of the errors is correctly specified.<br/>[2] The condition number is large, 9.3e+05. This might indicate that there are<br/>strong multicollinearity or other numerical problems."
      ],
      "text/plain": [
       "<class 'statsmodels.iolib.summary.Summary'>\n",
       "\"\"\"\n",
       "                            OLS Regression Results                            \n",
       "==============================================================================\n",
       "Dep. Variable:          Coffee, Green   R-squared:                       0.512\n",
       "Model:                            OLS   Adj. R-squared:                  0.474\n",
       "Method:                 Least Squares   F-statistic:                     13.62\n",
       "Date:                Fri, 15 Jul 2022   Prob (F-statistic):            0.00272\n",
       "Time:                        22:56:34   Log-Likelihood:                -127.96\n",
       "No. Observations:                  15   AIC:                             259.9\n",
       "Df Residuals:                      13   BIC:                             261.3\n",
       "Df Model:                           1                                         \n",
       "Covariance Type:            nonrobust                                         \n",
       "==============================================================================\n",
       "                 coef    std err          t      P>|t|      [0.025      0.975]\n",
       "------------------------------------------------------------------------------\n",
       "const       5.925e+05   1.58e+05      3.754      0.002    2.52e+05    9.34e+05\n",
       "Year        -290.5714     78.726     -3.691      0.003    -460.649    -120.494\n",
       "==============================================================================\n",
       "Omnibus:                        4.100   Durbin-Watson:                   1.624\n",
       "Prob(Omnibus):                  0.129   Jarque-Bera (JB):                1.289\n",
       "Skew:                          -0.068   Prob(JB):                        0.525\n",
       "Kurtosis:                       1.570   Cond. No.                     9.30e+05\n",
       "==============================================================================\n",
       "\n",
       "Notes:\n",
       "[1] Standard Errors assume that the covariance matrix of the errors is correctly specified.\n",
       "[2] The condition number is large, 9.3e+05. This might indicate that there are\n",
       "strong multicollinearity or other numerical problems.\n",
       "\"\"\""
      ]
     },
     "execution_count": 69,
     "metadata": {},
     "output_type": "execute_result"
    }
   ],
   "source": [
    "model.summary()"
   ]
  },
  {
   "cell_type": "code",
   "execution_count": null,
   "id": "4d3e2d91-eaa3-430b-b2a2-bb1f83570a84",
   "metadata": {},
   "outputs": [],
   "source": [
    "#p value - Prob(F-statistic) under .05 so there is a significant change in coffee production over time. Time accounts for 47% of the change in coffee production (adj R-squared)"
   ]
  },
  {
   "cell_type": "code",
   "execution_count": 61,
   "id": "cb533263-cb72-49dd-8b28-cbdcdb3515cc",
   "metadata": {},
   "outputs": [
    {
     "data": {
      "image/png": "[encoded data removed]",
      "text/plain": [
       "<Figure size 432x288 with 1 Axes>"
      ]
     },
     "metadata": {
      "needs_background": "light"
     },
     "output_type": "display_data"
    }
   ],
   "source": [
    "plt.scatter(x1,y)\n",
    " \n",
    "y = -290.5714*x1 + 592500\n",
    " \n",
    "fig = plt.plot(x1,y, c='red', label = 'regression')\n",
    " \n",
    "plt.xlabel('Year', fontsize = 12)\n",
    " \n",
    "plt.ylabel('Coffee Production Value', fontsize = 12)\n",
    " \n",
    "plt.show()"
   ]
  },
  {
   "cell_type": "code",
   "execution_count": 70,
   "id": "b73cea57-fc71-47bc-bdb9-d78eb6de3dcd",
   "metadata": {},
   "outputs": [],
   "source": [
    "#what is the linear relationship between Honey and Coffee within current USDA dataset for US production only"
   ]
  },
  {
   "cell_type": "code",
   "execution_count": 78,
   "id": "7c3b412f-9d3a-41ee-ba13-48ed3803445a",
   "metadata": {},
   "outputs": [
    {
     "data": {
      "text/html": [
       "<div>\n",
       "<style scoped>\n",
       "    .dataframe tbody tr th:only-of-type {\n",
       "        vertical-align: middle;\n",
       "    }\n",
       "\n",
       "    .dataframe tbody tr th {\n",
       "        vertical-align: top;\n",
       "    }\n",
       "\n",
       "    .dataframe thead th {\n",
       "        text-align: right;\n",
       "    }\n",
       "</style>\n",
       "<table border=\"1\" class=\"dataframe\">\n",
       "  <thead>\n",
       "    <tr style=\"text-align: right;\">\n",
       "      <th></th>\n",
       "      <th>Year</th>\n",
       "      <th>Honey</th>\n",
       "      <th>Coffee, Green</th>\n",
       "    </tr>\n",
       "  </thead>\n",
       "  <tbody>\n",
       "    <tr>\n",
       "      <th>0</th>\n",
       "      <td>1998</td>\n",
       "      <td>99571.62321</td>\n",
       "      <td>13920.0</td>\n",
       "    </tr>\n",
       "    <tr>\n",
       "      <th>1</th>\n",
       "      <td>1999</td>\n",
       "      <td>91800.71933</td>\n",
       "      <td>9780.0</td>\n",
       "    </tr>\n",
       "    <tr>\n",
       "      <th>2</th>\n",
       "      <td>2000</td>\n",
       "      <td>99589.31322</td>\n",
       "      <td>11100.0</td>\n",
       "    </tr>\n",
       "    <tr>\n",
       "      <th>3</th>\n",
       "      <td>2001</td>\n",
       "      <td>84253.43532</td>\n",
       "      <td>10980.0</td>\n",
       "    </tr>\n",
       "    <tr>\n",
       "      <th>4</th>\n",
       "      <td>2002</td>\n",
       "      <td>77684.09135</td>\n",
       "      <td>9780.0</td>\n",
       "    </tr>\n",
       "    <tr>\n",
       "      <th>5</th>\n",
       "      <td>2003</td>\n",
       "      <td>82268.52548</td>\n",
       "      <td>9780.0</td>\n",
       "    </tr>\n",
       "    <tr>\n",
       "      <th>6</th>\n",
       "      <td>2004</td>\n",
       "      <td>82884.04711</td>\n",
       "      <td>11160.0</td>\n",
       "    </tr>\n",
       "    <tr>\n",
       "      <th>7</th>\n",
       "      <td>2005</td>\n",
       "      <td>78910.59871</td>\n",
       "      <td>8760.0</td>\n",
       "    </tr>\n",
       "    <tr>\n",
       "      <th>8</th>\n",
       "      <td>2006</td>\n",
       "      <td>69960.81442</td>\n",
       "      <td>10320.0</td>\n",
       "    </tr>\n",
       "    <tr>\n",
       "      <th>9</th>\n",
       "      <td>2007</td>\n",
       "      <td>66959.40939</td>\n",
       "      <td>10320.0</td>\n",
       "    </tr>\n",
       "    <tr>\n",
       "      <th>10</th>\n",
       "      <td>2008</td>\n",
       "      <td>73922.46948</td>\n",
       "      <td>10260.0</td>\n",
       "    </tr>\n",
       "    <tr>\n",
       "      <th>11</th>\n",
       "      <td>2009</td>\n",
       "      <td>65801.39412</td>\n",
       "      <td>10200.0</td>\n",
       "    </tr>\n",
       "    <tr>\n",
       "      <th>12</th>\n",
       "      <td>2010</td>\n",
       "      <td>79511.60546</td>\n",
       "      <td>9600.0</td>\n",
       "    </tr>\n",
       "    <tr>\n",
       "      <th>13</th>\n",
       "      <td>2011</td>\n",
       "      <td>66768.90159</td>\n",
       "      <td>6600.0</td>\n",
       "    </tr>\n",
       "    <tr>\n",
       "      <th>14</th>\n",
       "      <td>2012</td>\n",
       "      <td>63914.00613</td>\n",
       "      <td>6300.0</td>\n",
       "    </tr>\n",
       "  </tbody>\n",
       "</table>\n",
       "</div>"
      ],
      "text/plain": [
       "    Year        Honey  Coffee, Green\n",
       "0   1998  99571.62321        13920.0\n",
       "1   1999  91800.71933         9780.0\n",
       "2   2000  99589.31322        11100.0\n",
       "3   2001  84253.43532        10980.0\n",
       "4   2002  77684.09135         9780.0\n",
       "5   2003  82268.52548         9780.0\n",
       "6   2004  82884.04711        11160.0\n",
       "7   2005  78910.59871         8760.0\n",
       "8   2006  69960.81442        10320.0\n",
       "9   2007  66959.40939        10320.0\n",
       "10  2008  73922.46948        10260.0\n",
       "11  2009  65801.39412        10200.0\n",
       "12  2010  79511.60546         9600.0\n",
       "13  2011  66768.90159         6600.0\n",
       "14  2012  63914.00613         6300.0"
      ]
     },
     "execution_count": 78,
     "metadata": {},
     "output_type": "execute_result"
    }
   ],
   "source": [
    "CoffeeHoney= usdaHoneyMisc[['Year','Honey','Coffee, Green',]]\n",
    "CoffeeHoney"
   ]
  },
  {
   "cell_type": "code",
   "execution_count": 79,
   "id": "5e2dcf0f-cfc1-43d5-a420-3788261359d2",
   "metadata": {},
   "outputs": [
    {
     "data": {
      "text/plain": [
       "<seaborn.axisgrid.PairGrid at 0x1d3a548ffd0>"
      ]
     },
     "execution_count": 79,
     "metadata": {},
     "output_type": "execute_result"
    },
    {
     "data": {
      "image/png": "[encoded data removed]",
      "text/plain": [
       "<Figure size 540x540 with 12 Axes>"
      ]
     },
     "metadata": {
      "needs_background": "light"
     },
     "output_type": "display_data"
    }
   ],
   "source": [
    "sns.pairplot(CoffeeHoney)"
   ]
  },
  {
   "cell_type": "code",
   "execution_count": 80,
   "id": "51613ec6-ef5f-447b-80a1-6fd361236176",
   "metadata": {},
   "outputs": [
    {
     "data": {
      "text/plain": [
       "<AxesSubplot:xlabel='Honey', ylabel='Density'>"
      ]
     },
     "execution_count": 80,
     "metadata": {},
     "output_type": "execute_result"
    },
    {
     "data": {
      "image/png": "[encoded data removed]",
      "text/plain": [
       "<Figure size 432x288 with 1 Axes>"
      ]
     },
     "metadata": {
      "needs_background": "light"
     },
     "output_type": "display_data"
    }
   ],
   "source": [
    "sns.distplot(CoffeeHoney['Honey'])"
   ]
  },
  {
   "cell_type": "code",
   "execution_count": 81,
   "id": "c1ecb487-c219-4b7c-83b3-65859ebbcd98",
   "metadata": {},
   "outputs": [],
   "source": [
    "#curve for honey production has a mostly normal distribution"
   ]
  },
  {
   "cell_type": "code",
   "execution_count": 91,
   "id": "87a38448-861b-40d2-88e0-928e51565487",
   "metadata": {},
   "outputs": [],
   "source": [
    "x1 = CoffeeHoney['Honey']\n",
    "yy = CoffeeHoney['Coffee, Green']"
   ]
  },
  {
   "cell_type": "code",
   "execution_count": 92,
   "id": "ecbf7aaf-8493-42ec-9042-1cc1cd077a6f",
   "metadata": {},
   "outputs": [
    {
     "data": {
      "image/png": "[encoded data removed]",
      "text/plain": [
       "<Figure size 432x288 with 1 Axes>"
      ]
     },
     "metadata": {
      "needs_background": "light"
     },
     "output_type": "display_data"
    }
   ],
   "source": [
    "plt.scatter(x1,y)\n",
    " \n",
    "plt.xlabel('Honey', fontsize = 12)\n",
    " \n",
    "plt.ylabel('Coffee Production Value', fontsize = 12)\n",
    " \n",
    "plt.show()"
   ]
  },
  {
   "cell_type": "code",
   "execution_count": 93,
   "id": "fb8eddef-093f-4c78-a59b-164dfd7df4e5",
   "metadata": {},
   "outputs": [
    {
     "data": {
      "text/html": [
       "<table class=\"simpletable\">\n",
       "<caption>OLS Regression Results</caption>\n",
       "<tr>\n",
       "  <th>Dep. Variable:</th>          <td>Year</td>       <th>  R-squared:         </th> <td>   0.755</td>\n",
       "</tr>\n",
       "<tr>\n",
       "  <th>Model:</th>                   <td>OLS</td>       <th>  Adj. R-squared:    </th> <td>   0.736</td>\n",
       "</tr>\n",
       "<tr>\n",
       "  <th>Method:</th>             <td>Least Squares</td>  <th>  F-statistic:       </th> <td>   40.09</td>\n",
       "</tr>\n",
       "<tr>\n",
       "  <th>Date:</th>             <td>Sat, 16 Jul 2022</td> <th>  Prob (F-statistic):</th> <td>2.61e-05</td>\n",
       "</tr>\n",
       "<tr>\n",
       "  <th>Time:</th>                 <td>09:05:33</td>     <th>  Log-Likelihood:    </th> <td> -117.76</td>\n",
       "</tr>\n",
       "<tr>\n",
       "  <th>No. Observations:</th>      <td>    15</td>      <th>  AIC:               </th> <td>   239.5</td>\n",
       "</tr>\n",
       "<tr>\n",
       "  <th>Df Residuals:</th>          <td>    13</td>      <th>  BIC:               </th> <td>   240.9</td>\n",
       "</tr>\n",
       "<tr>\n",
       "  <th>Df Model:</th>              <td>     1</td>      <th>                     </th>     <td> </td>   \n",
       "</tr>\n",
       "<tr>\n",
       "  <th>Covariance Type:</th>      <td>nonrobust</td>    <th>                     </th>     <td> </td>   \n",
       "</tr>\n",
       "</table>\n",
       "<table class=\"simpletable\">\n",
       "<tr>\n",
       "    <td></td>       <th>coef</th>     <th>std err</th>      <th>t</th>      <th>P>|t|</th>  <th>[0.025</th>    <th>0.975]</th>  \n",
       "</tr>\n",
       "<tr>\n",
       "  <th>const</th> <td> 2193.5233</td> <td> 1229.927</td> <td>    1.783</td> <td> 0.098</td> <td> -463.573</td> <td> 4850.619</td>\n",
       "</tr>\n",
       "<tr>\n",
       "  <th>Honey</th> <td>    0.0977</td> <td>    0.015</td> <td>    6.332</td> <td> 0.000</td> <td>    0.064</td> <td>    0.131</td>\n",
       "</tr>\n",
       "</table>\n",
       "<table class=\"simpletable\">\n",
       "<tr>\n",
       "  <th>Omnibus:</th>       <td> 2.226</td> <th>  Durbin-Watson:     </th> <td>   1.501</td>\n",
       "</tr>\n",
       "<tr>\n",
       "  <th>Prob(Omnibus):</th> <td> 0.329</td> <th>  Jarque-Bera (JB):  </th> <td>   1.001</td>\n",
       "</tr>\n",
       "<tr>\n",
       "  <th>Skew:</th>          <td>-0.630</td> <th>  Prob(JB):          </th> <td>   0.606</td>\n",
       "</tr>\n",
       "<tr>\n",
       "  <th>Kurtosis:</th>      <td> 3.119</td> <th>  Cond. No.          </th> <td>5.69e+05</td>\n",
       "</tr>\n",
       "</table><br/><br/>Notes:<br/>[1] Standard Errors assume that the covariance matrix of the errors is correctly specified.<br/>[2] The condition number is large, 5.69e+05. This might indicate that there are<br/>strong multicollinearity or other numerical problems."
      ],
      "text/plain": [
       "<class 'statsmodels.iolib.summary.Summary'>\n",
       "\"\"\"\n",
       "                            OLS Regression Results                            \n",
       "==============================================================================\n",
       "Dep. Variable:                   Year   R-squared:                       0.755\n",
       "Model:                            OLS   Adj. R-squared:                  0.736\n",
       "Method:                 Least Squares   F-statistic:                     40.09\n",
       "Date:                Sat, 16 Jul 2022   Prob (F-statistic):           2.61e-05\n",
       "Time:                        09:05:33   Log-Likelihood:                -117.76\n",
       "No. Observations:                  15   AIC:                             239.5\n",
       "Df Residuals:                      13   BIC:                             240.9\n",
       "Df Model:                           1                                         \n",
       "Covariance Type:            nonrobust                                         \n",
       "==============================================================================\n",
       "                 coef    std err          t      P>|t|      [0.025      0.975]\n",
       "------------------------------------------------------------------------------\n",
       "const       2193.5233   1229.927      1.783      0.098    -463.573    4850.619\n",
       "Honey          0.0977      0.015      6.332      0.000       0.064       0.131\n",
       "==============================================================================\n",
       "Omnibus:                        2.226   Durbin-Watson:                   1.501\n",
       "Prob(Omnibus):                  0.329   Jarque-Bera (JB):                1.001\n",
       "Skew:                          -0.630   Prob(JB):                        0.606\n",
       "Kurtosis:                       3.119   Cond. No.                     5.69e+05\n",
       "==============================================================================\n",
       "\n",
       "Notes:\n",
       "[1] Standard Errors assume that the covariance matrix of the errors is correctly specified.\n",
       "[2] The condition number is large, 5.69e+05. This might indicate that there are\n",
       "strong multicollinearity or other numerical problems.\n",
       "\"\"\""
      ]
     },
     "execution_count": 93,
     "metadata": {},
     "output_type": "execute_result"
    }
   ],
   "source": [
    "x = sm.add_constant(x1)\n",
    "model = sm.OLS(y,x).fit()\n",
    "model\n",
    "model.summary()"
   ]
  },
  {
   "cell_type": "code",
   "execution_count": null,
   "id": "c050b202-0d90-42e6-af81-72096d613bca",
   "metadata": {},
   "outputs": [],
   "source": [
    "#test for hmoscedasticity"
   ]
  },
  {
   "cell_type": "code",
   "execution_count": 95,
   "id": "5e81094f-051f-4f4f-8750-929eac5fd114",
   "metadata": {},
   "outputs": [
    {
     "data": {
      "image/png": "[encoded data removed]",
      "text/plain": [
       "<Figure size 432x180 with 1 Axes>"
      ]
     },
     "metadata": {
      "needs_background": "light"
     },
     "output_type": "display_data"
    }
   ],
   "source": [
    "pred_val=model.fittedvalues.copy()\n",
    "true_val=CoffeeHoney['Honey'].values.copy()\n",
    "residual=true_val-pred_val\n",
    "\n",
    "fig, ax=plt.subplots(figsize=(6,2.5))\n",
    "_=ax.scatter(residual, pred_val)"
   ]
  },
  {
   "cell_type": "code",
   "execution_count": 96,
   "id": "433d8753-a3d7-47f2-b0f5-c5aa0c9d00c9",
   "metadata": {},
   "outputs": [
    {
     "data": {
      "text/plain": [
       "(14.67165274701326, nan, 625.5667942697279, 5.093575135158116e-13)"
      ]
     },
     "execution_count": 96,
     "metadata": {},
     "output_type": "execute_result"
    }
   ],
   "source": [
    "sms.diagnostic.het_breuschpagan(residual, CoffeeHoney[['Honey']])"
   ]
  },
  {
   "cell_type": "code",
   "execution_count": 98,
   "id": "7f9e0727-2942-42c9-9af0-207e3b2e5325",
   "metadata": {},
   "outputs": [],
   "source": [
    "#p value significant - data is heteroscedastic"
   ]
  },
  {
   "cell_type": "code",
   "execution_count": 99,
   "id": "a5fbcac2-2ee2-4188-a125-c7e70401f011",
   "metadata": {},
   "outputs": [],
   "source": [
    "#test for homoscedasticity with Harvey Collier "
   ]
  },
  {
   "cell_type": "code",
   "execution_count": 100,
   "id": "608a656f-384a-484a-8845-e25bede41e9d",
   "metadata": {},
   "outputs": [
    {
     "data": {
      "text/plain": [
       "Ttest_1sampResult(statistic=-4.304244160860178, pvalue=0.0012470776568363467)"
      ]
     },
     "execution_count": 100,
     "metadata": {},
     "output_type": "execute_result"
    }
   ],
   "source": [
    "sms.linear_harvey_collier(model)"
   ]
  },
  {
   "cell_type": "code",
   "execution_count": 101,
   "id": "4ab9a1e8-cf6e-4fef-b652-44851f5a7b6b",
   "metadata": {},
   "outputs": [],
   "source": [
    "#p value significant - data is heteroscedastic"
   ]
  },
  {
   "cell_type": "code",
   "execution_count": 102,
   "id": "14ce0871-d01b-494f-812a-ceb975631a10",
   "metadata": {},
   "outputs": [],
   "source": [
    "#Testing for Multicolinearity"
   ]
  },
  {
   "cell_type": "code",
   "execution_count": 105,
   "id": "7e74b363-e31b-4774-8d83-b7e5745a8692",
   "metadata": {},
   "outputs": [
    {
     "data": {
      "text/html": [
       "<div>\n",
       "<style scoped>\n",
       "    .dataframe tbody tr th:only-of-type {\n",
       "        vertical-align: middle;\n",
       "    }\n",
       "\n",
       "    .dataframe tbody tr th {\n",
       "        vertical-align: top;\n",
       "    }\n",
       "\n",
       "    .dataframe thead th {\n",
       "        text-align: right;\n",
       "    }\n",
       "</style>\n",
       "<table border=\"1\" class=\"dataframe\">\n",
       "  <thead>\n",
       "    <tr style=\"text-align: right;\">\n",
       "      <th></th>\n",
       "      <th>Coffee, Green</th>\n",
       "      <th>Honey</th>\n",
       "    </tr>\n",
       "  </thead>\n",
       "  <tbody>\n",
       "    <tr>\n",
       "      <th>0</th>\n",
       "      <td>13920.0</td>\n",
       "      <td>99571.62321</td>\n",
       "    </tr>\n",
       "    <tr>\n",
       "      <th>1</th>\n",
       "      <td>9780.0</td>\n",
       "      <td>91800.71933</td>\n",
       "    </tr>\n",
       "    <tr>\n",
       "      <th>2</th>\n",
       "      <td>11100.0</td>\n",
       "      <td>99589.31322</td>\n",
       "    </tr>\n",
       "    <tr>\n",
       "      <th>3</th>\n",
       "      <td>10980.0</td>\n",
       "      <td>84253.43532</td>\n",
       "    </tr>\n",
       "    <tr>\n",
       "      <th>4</th>\n",
       "      <td>9780.0</td>\n",
       "      <td>77684.09135</td>\n",
       "    </tr>\n",
       "    <tr>\n",
       "      <th>5</th>\n",
       "      <td>9780.0</td>\n",
       "      <td>82268.52548</td>\n",
       "    </tr>\n",
       "    <tr>\n",
       "      <th>6</th>\n",
       "      <td>11160.0</td>\n",
       "      <td>82884.04711</td>\n",
       "    </tr>\n",
       "    <tr>\n",
       "      <th>7</th>\n",
       "      <td>8760.0</td>\n",
       "      <td>78910.59871</td>\n",
       "    </tr>\n",
       "    <tr>\n",
       "      <th>8</th>\n",
       "      <td>10320.0</td>\n",
       "      <td>69960.81442</td>\n",
       "    </tr>\n",
       "    <tr>\n",
       "      <th>9</th>\n",
       "      <td>10320.0</td>\n",
       "      <td>66959.40939</td>\n",
       "    </tr>\n",
       "    <tr>\n",
       "      <th>10</th>\n",
       "      <td>10260.0</td>\n",
       "      <td>73922.46948</td>\n",
       "    </tr>\n",
       "    <tr>\n",
       "      <th>11</th>\n",
       "      <td>10200.0</td>\n",
       "      <td>65801.39412</td>\n",
       "    </tr>\n",
       "    <tr>\n",
       "      <th>12</th>\n",
       "      <td>9600.0</td>\n",
       "      <td>79511.60546</td>\n",
       "    </tr>\n",
       "    <tr>\n",
       "      <th>13</th>\n",
       "      <td>6600.0</td>\n",
       "      <td>66768.90159</td>\n",
       "    </tr>\n",
       "    <tr>\n",
       "      <th>14</th>\n",
       "      <td>6300.0</td>\n",
       "      <td>63914.00613</td>\n",
       "    </tr>\n",
       "  </tbody>\n",
       "</table>\n",
       "</div>"
      ],
      "text/plain": [
       "    Coffee, Green        Honey\n",
       "0         13920.0  99571.62321\n",
       "1          9780.0  91800.71933\n",
       "2         11100.0  99589.31322\n",
       "3         10980.0  84253.43532\n",
       "4          9780.0  77684.09135\n",
       "5          9780.0  82268.52548\n",
       "6         11160.0  82884.04711\n",
       "7          8760.0  78910.59871\n",
       "8         10320.0  69960.81442\n",
       "9         10320.0  66959.40939\n",
       "10        10260.0  73922.46948\n",
       "11        10200.0  65801.39412\n",
       "12         9600.0  79511.60546\n",
       "13         6600.0  66768.90159\n",
       "14         6300.0  63914.00613"
      ]
     },
     "execution_count": 105,
     "metadata": {},
     "output_type": "execute_result"
    }
   ],
   "source": [
    "CoffeeHoneycorr= pivoted[['Coffee, Green','Honey',]]\n",
    "CoffeeHoneycorr"
   ]
  },
  {
   "cell_type": "code",
   "execution_count": 106,
   "id": "2dd68450-d5a9-4e83-b69d-a48ef294eae0",
   "metadata": {},
   "outputs": [
    {
     "data": {
      "text/html": [
       "<div>\n",
       "<style scoped>\n",
       "    .dataframe tbody tr th:only-of-type {\n",
       "        vertical-align: middle;\n",
       "    }\n",
       "\n",
       "    .dataframe tbody tr th {\n",
       "        vertical-align: top;\n",
       "    }\n",
       "\n",
       "    .dataframe thead th {\n",
       "        text-align: right;\n",
       "    }\n",
       "</style>\n",
       "<table border=\"1\" class=\"dataframe\">\n",
       "  <thead>\n",
       "    <tr style=\"text-align: right;\">\n",
       "      <th></th>\n",
       "      <th>Coffee, Green</th>\n",
       "      <th>Honey</th>\n",
       "    </tr>\n",
       "  </thead>\n",
       "  <tbody>\n",
       "    <tr>\n",
       "      <th>Coffee, Green</th>\n",
       "      <td>1.000000</td>\n",
       "      <td>0.667521</td>\n",
       "    </tr>\n",
       "    <tr>\n",
       "      <th>Honey</th>\n",
       "      <td>0.667521</td>\n",
       "      <td>1.000000</td>\n",
       "    </tr>\n",
       "  </tbody>\n",
       "</table>\n",
       "</div>"
      ],
      "text/plain": [
       "               Coffee, Green     Honey\n",
       "Coffee, Green       1.000000  0.667521\n",
       "Honey               0.667521  1.000000"
      ]
     },
     "execution_count": 106,
     "metadata": {},
     "output_type": "execute_result"
    }
   ],
   "source": [
    "CoffeeHoneycorr.corr()"
   ]
  },
  {
   "cell_type": "code",
   "execution_count": 107,
   "id": "83cfc140-d57c-4836-b81c-d0da6bab409d",
   "metadata": {},
   "outputs": [
    {
     "data": {
      "text/plain": [
       "<AxesSubplot:>"
      ]
     },
     "execution_count": 107,
     "metadata": {},
     "output_type": "execute_result"
    },
    {
     "data": {
      "image/png": "[encoded data removed]",
      "text/plain": [
       "<Figure size 432x288 with 2 Axes>"
      ]
     },
     "metadata": {
      "needs_background": "light"
     },
     "output_type": "display_data"
    }
   ],
   "source": [
    "sns.heatmap(CoffeeHoneycorr.corr(), annot=True)"
   ]
  },
  {
   "cell_type": "code",
   "execution_count": 108,
   "id": "8401f596-20ca-43fe-89aa-af2736729144",
   "metadata": {},
   "outputs": [],
   "source": [
    "#there is no multicollinearity"
   ]
  },
  {
   "cell_type": "code",
   "execution_count": 109,
   "id": "88b96a49-a876-4f0f-8bc8-541869be3546",
   "metadata": {},
   "outputs": [],
   "source": [
    "#test for outliers"
   ]
  },
  {
   "cell_type": "code",
   "execution_count": 110,
   "id": "fcc6b816-721b-4d2f-8fb6-862f11a870d2",
   "metadata": {},
   "outputs": [
    {
     "data": {
      "image/png": "[encoded data removed]",
      "text/plain": [
       "<Figure size 864x576 with 1 Axes>"
      ]
     },
     "metadata": {
      "needs_background": "light"
     },
     "output_type": "display_data"
    }
   ],
   "source": [
    "fig, ax = plt.subplots(figsize=(12,8))\n",
    "fig = sm.graphics.influence_plot(model, alpha = .05, ax = ax, criterion=\"cooks\")"
   ]
  },
  {
   "cell_type": "code",
   "execution_count": 111,
   "id": "aeb40ff3-b845-4e08-ae9f-60f9e477477a",
   "metadata": {},
   "outputs": [],
   "source": [
    "#there appear to be some residuals greater at -3"
   ]
  },
  {
   "cell_type": "code",
   "execution_count": 112,
   "id": "bfe38ab3-c861-4c0a-91db-514ae363c401",
   "metadata": {},
   "outputs": [
    {
     "name": "stdout",
     "output_type": "stream",
     "text": [
      "    dfb_const     dfb_Honey       cooks_d  standard_resid  hat_diag  \\\n",
      "0   -0.014492  1.584866e-02  1.758171e-04        0.029008  0.294723   \n",
      "1   -0.219232  2.523669e-01  5.751562e-02        0.790739  0.155385   \n",
      "2    0.527013 -5.763087e-01  2.141195e-01       -1.011365  0.295114   \n",
      "3   -0.089967  1.291038e-01  4.484015e-02        1.002808  0.081877   \n",
      "4    0.109260 -4.843805e-02  8.583260e-02        1.540176  0.067484   \n",
      "5   -0.016066  3.071890e-02  6.120330e-03        0.395246  0.072662   \n",
      "6    0.008227 -1.381381e-02  9.218509e-04       -0.150720  0.075069   \n",
      "7    0.000052 -3.122310e-07  7.348931e-08        0.001434  0.066667   \n",
      "8    0.236142 -2.027451e-01  5.307684e-02        0.928710  0.109589   \n",
      "9    0.317276 -2.830509e-01  7.556634e-02        0.951067  0.143164   \n",
      "10  -0.091643  7.032557e-02  1.560820e-02       -0.599067  0.080022   \n",
      "11   0.068905 -6.211171e-02  3.592931e-03        0.195181  0.158694   \n",
      "12  -0.069396 -4.195461e-02  1.967367e-01       -2.343525  0.066854   \n",
      "13  -0.304351  2.720181e-01  6.929870e-02       -0.901763  0.145620   \n",
      "14  -0.395726  3.615998e-01  1.024981e-01       -0.943812  0.187078   \n",
      "\n",
      "    dffits_internal  student_resid    dffits  \n",
      "0          0.018752       0.027871  0.018017  \n",
      "1          0.339163       0.778675  0.333988  \n",
      "2         -0.654400      -1.012330 -0.655024  \n",
      "3          0.299467       1.003043  0.299537  \n",
      "4          0.414325       1.636584  0.440260  \n",
      "5          0.110638       0.382042  0.106942  \n",
      "6         -0.042938      -0.144933 -0.041290  \n",
      "7          0.000383       0.001378  0.000368  \n",
      "8          0.325812       0.923435  0.323962  \n",
      "9          0.388758       0.947307  0.387221  \n",
      "10        -0.176682      -0.583678 -0.172143  \n",
      "11         0.084769       0.187799  0.081563  \n",
      "12        -0.627275      -2.962792 -0.793029  \n",
      "13        -0.372287      -0.894824 -0.369422  \n",
      "14        -0.452765      -0.939546 -0.450719  \n"
     ]
    }
   ],
   "source": [
    "infl = model.get_influence()\n",
    "print(infl.summary_frame())"
   ]
  },
  {
   "cell_type": "code",
   "execution_count": 113,
   "id": "ed6347a9-3aac-4dbc-81f0-e91bcbf628c0",
   "metadata": {},
   "outputs": [],
   "source": [
    "#there are no student residuals over +/-3.0 (3x the mean of all the distances)"
   ]
  },
  {
   "cell_type": "code",
   "execution_count": 114,
   "id": "9312b2ca-3ee7-4811-bae8-a920b7fb1755",
   "metadata": {},
   "outputs": [
    {
     "data": {
      "text/html": [
       "<table class=\"simpletable\">\n",
       "<caption>OLS Regression Results</caption>\n",
       "<tr>\n",
       "  <th>Dep. Variable:</th>          <td>Year</td>       <th>  R-squared:         </th> <td>   0.755</td>\n",
       "</tr>\n",
       "<tr>\n",
       "  <th>Model:</th>                   <td>OLS</td>       <th>  Adj. R-squared:    </th> <td>   0.736</td>\n",
       "</tr>\n",
       "<tr>\n",
       "  <th>Method:</th>             <td>Least Squares</td>  <th>  F-statistic:       </th> <td>   40.09</td>\n",
       "</tr>\n",
       "<tr>\n",
       "  <th>Date:</th>             <td>Sat, 16 Jul 2022</td> <th>  Prob (F-statistic):</th> <td>2.61e-05</td>\n",
       "</tr>\n",
       "<tr>\n",
       "  <th>Time:</th>                 <td>09:32:16</td>     <th>  Log-Likelihood:    </th> <td> -117.76</td>\n",
       "</tr>\n",
       "<tr>\n",
       "  <th>No. Observations:</th>      <td>    15</td>      <th>  AIC:               </th> <td>   239.5</td>\n",
       "</tr>\n",
       "<tr>\n",
       "  <th>Df Residuals:</th>          <td>    13</td>      <th>  BIC:               </th> <td>   240.9</td>\n",
       "</tr>\n",
       "<tr>\n",
       "  <th>Df Model:</th>              <td>     1</td>      <th>                     </th>     <td> </td>   \n",
       "</tr>\n",
       "<tr>\n",
       "  <th>Covariance Type:</th>      <td>nonrobust</td>    <th>                     </th>     <td> </td>   \n",
       "</tr>\n",
       "</table>\n",
       "<table class=\"simpletable\">\n",
       "<tr>\n",
       "    <td></td>       <th>coef</th>     <th>std err</th>      <th>t</th>      <th>P>|t|</th>  <th>[0.025</th>    <th>0.975]</th>  \n",
       "</tr>\n",
       "<tr>\n",
       "  <th>const</th> <td> 2193.5233</td> <td> 1229.927</td> <td>    1.783</td> <td> 0.098</td> <td> -463.573</td> <td> 4850.619</td>\n",
       "</tr>\n",
       "<tr>\n",
       "  <th>Honey</th> <td>    0.0977</td> <td>    0.015</td> <td>    6.332</td> <td> 0.000</td> <td>    0.064</td> <td>    0.131</td>\n",
       "</tr>\n",
       "</table>\n",
       "<table class=\"simpletable\">\n",
       "<tr>\n",
       "  <th>Omnibus:</th>       <td> 2.226</td> <th>  Durbin-Watson:     </th> <td>   1.501</td>\n",
       "</tr>\n",
       "<tr>\n",
       "  <th>Prob(Omnibus):</th> <td> 0.329</td> <th>  Jarque-Bera (JB):  </th> <td>   1.001</td>\n",
       "</tr>\n",
       "<tr>\n",
       "  <th>Skew:</th>          <td>-0.630</td> <th>  Prob(JB):          </th> <td>   0.606</td>\n",
       "</tr>\n",
       "<tr>\n",
       "  <th>Kurtosis:</th>      <td> 3.119</td> <th>  Cond. No.          </th> <td>5.69e+05</td>\n",
       "</tr>\n",
       "</table><br/><br/>Notes:<br/>[1] Standard Errors assume that the covariance matrix of the errors is correctly specified.<br/>[2] The condition number is large, 5.69e+05. This might indicate that there are<br/>strong multicollinearity or other numerical problems."
      ],
      "text/plain": [
       "<class 'statsmodels.iolib.summary.Summary'>\n",
       "\"\"\"\n",
       "                            OLS Regression Results                            \n",
       "==============================================================================\n",
       "Dep. Variable:                   Year   R-squared:                       0.755\n",
       "Model:                            OLS   Adj. R-squared:                  0.736\n",
       "Method:                 Least Squares   F-statistic:                     40.09\n",
       "Date:                Sat, 16 Jul 2022   Prob (F-statistic):           2.61e-05\n",
       "Time:                        09:32:16   Log-Likelihood:                -117.76\n",
       "No. Observations:                  15   AIC:                             239.5\n",
       "Df Residuals:                      13   BIC:                             240.9\n",
       "Df Model:                           1                                         \n",
       "Covariance Type:            nonrobust                                         \n",
       "==============================================================================\n",
       "                 coef    std err          t      P>|t|      [0.025      0.975]\n",
       "------------------------------------------------------------------------------\n",
       "const       2193.5233   1229.927      1.783      0.098    -463.573    4850.619\n",
       "Honey          0.0977      0.015      6.332      0.000       0.064       0.131\n",
       "==============================================================================\n",
       "Omnibus:                        2.226   Durbin-Watson:                   1.501\n",
       "Prob(Omnibus):                  0.329   Jarque-Bera (JB):                1.001\n",
       "Skew:                          -0.630   Prob(JB):                        0.606\n",
       "Kurtosis:                       3.119   Cond. No.                     5.69e+05\n",
       "==============================================================================\n",
       "\n",
       "Notes:\n",
       "[1] Standard Errors assume that the covariance matrix of the errors is correctly specified.\n",
       "[2] The condition number is large, 5.69e+05. This might indicate that there are\n",
       "strong multicollinearity or other numerical problems.\n",
       "\"\"\""
      ]
     },
     "execution_count": 114,
     "metadata": {},
     "output_type": "execute_result"
    }
   ],
   "source": [
    "model.summary()"
   ]
  },
  {
   "cell_type": "code",
   "execution_count": 115,
   "id": "7f89784a-1e8c-4e98-b1eb-32e27b836eb8",
   "metadata": {},
   "outputs": [],
   "source": [
    "#p value - Prob(F-statistic) under .05 so there is a significant relationship between honey production and coffee production. Honey accounts for 73.6% of the change in coffee production (adj R-squared)"
   ]
  },
  {
   "cell_type": "code",
   "execution_count": 116,
   "id": "58a6c879-097c-4ba2-bd9c-044e8586fbdd",
   "metadata": {},
   "outputs": [
    {
     "data": {
      "image/png": "[encoded data removed]",
      "text/plain": [
       "<Figure size 432x288 with 1 Axes>"
      ]
     },
     "metadata": {
      "needs_background": "light"
     },
     "output_type": "display_data"
    }
   ],
   "source": [
    "plt.scatter(x1,y)\n",
    " \n",
    "y = 0.0977*x1 + 2193.5233\n",
    " \n",
    "fig = plt.plot(x1,y, c='red', label = 'regression')\n",
    " \n",
    "plt.xlabel('Honey', fontsize = 12)\n",
    " \n",
    "plt.ylabel('Coffee Production Value', fontsize = 12)\n",
    " \n",
    "plt.show()"
   ]
  },
  {
   "cell_type": "code",
   "execution_count": 117,
   "id": "fb874ddd-f59b-4b07-ba8c-385034207643",
   "metadata": {},
   "outputs": [],
   "source": [
    "#FORMULA y = 0.0977*x1 + 2193.5233 For linear relationship between Honey Production and Coffee Production"
   ]
  },
  {
   "cell_type": "code",
   "execution_count": null,
   "id": "fe4457bf-49ed-4bc7-9096-53529d20d9c0",
   "metadata": {},
   "outputs": [],
   "source": []
  }
 ],
 "metadata": {
  "kernelspec": {
   "display_name": "Python 3 (ipykernel)",
   "language": "python",
   "name": "python3"
  },
  "language_info": {
   "codemirror_mode": {
    "name": "ipython",
    "version": 3
   },
   "file_extension": ".py",
   "mimetype": "text/x-python",
   "name": "python",
   "nbconvert_exporter": "python",
   "pygments_lexer": "ipython3",
   "version": "3.10.4"
  }
 },
 "nbformat": 4,
 "nbformat_minor": 5
}
