{
 "cells": [
  {
   "cell_type": "code",
   "execution_count": 74,
   "id": "a98612fc-a377-4ea5-b5e7-e6a743ac8535",
   "metadata": {
    "tags": []
   },
   "outputs": [],
   "source": [
    "# Final Project - Queen Bees - Exploratory Analysis - Category 4 - Nuts & Oils\n",
    "## Sara Slocum"
   ]
  },
  {
   "cell_type": "code",
   "execution_count": 208,
   "id": "5fbedf55-8bc4-42c4-8912-f8a6f5fd2ceb",
   "metadata": {
    "tags": []
   },
   "outputs": [],
   "source": [
    "library(dplyr)\n",
    "library(tidyr)\n",
    "library(ggplot2)\n",
    "library(PerformanceAnalytics)\n",
    "library(lattice)\n",
    "library(mvnormtest)\n",
    "library(car)\n",
    "library(fastR2)\n",
    "library(caret)\n",
    "library(gvlma)\n",
    "library(predictmeans)\n",
    "library(e1071)\n",
    "library(lmtest)\n",
    "library(rcompanion)\n",
    "library(corrplot)\n",
    "library(reshape2)"
   ]
  },
  {
   "cell_type": "code",
   "execution_count": 76,
   "id": "caf16bec-ebc8-4a41-9d04-1380c990600c",
   "metadata": {},
   "outputs": [],
   "source": [
    "Nuts_Oils <- read.csv(\"C:/Users/saslo/Data_Science/DS_Portfolio/Queen_Bees/Datasets/Wrangled_Data/usdaNuts_Oils.csv\")"
   ]
  },
  {
   "cell_type": "code",
   "execution_count": 77,
   "id": "fb9cbb73-c4bf-45c9-b175-1ca3e1c289e9",
   "metadata": {
    "tags": []
   },
   "outputs": [
    {
     "data": {
      "text/plain": [
       "      X.1                X          Commodity_Description Country_Code      \n",
       " Min.   :   1.00   Min.   :   1.0   Length:186            Length:186        \n",
       " 1st Qu.:  47.25   1st Qu.: 385.8   Class :character      Class :character  \n",
       " Median :  93.50   Median :2485.0   Mode  :character      Mode  :character  \n",
       " Mean   : 748.90   Mean   :3367.0                                           \n",
       " 3rd Qu.: 139.75   3rd Qu.:6237.2                                           \n",
       " Max.   :8313.00   Max.   :8313.0                                           \n",
       " Country_Name            Year      Attribute_Description Unit_Description  \n",
       " Length:186         Min.   :1998   Length:186            Length:186        \n",
       " Class :character   1st Qu.:2001   Class :character      Class :character  \n",
       " Mode  :character   Median :2005   Mode  :character      Mode  :character  \n",
       "                    Mean   :2005                                           \n",
       "                    3rd Qu.:2008                                           \n",
       "                    Max.   :2012                                           \n",
       "     Value            Category    \n",
       " Min.   :   1000   Min.   :4.000  \n",
       " 1st Qu.:  66542   1st Qu.:4.000  \n",
       " Median : 195922   Median :4.000  \n",
       " Mean   : 904616   Mean   :4.161  \n",
       " 3rd Qu.: 395875   3rd Qu.:4.000  \n",
       " Max.   :9682000   Max.   :6.000  "
      ]
     },
     "metadata": {},
     "output_type": "display_data"
    }
   ],
   "source": [
    "summary(Nuts_Oils)"
   ]
  },
  {
   "cell_type": "code",
   "execution_count": 78,
   "id": "c5c56175-4569-48e3-bb21-269dd398f22e",
   "metadata": {},
   "outputs": [
    {
     "data": {
      "text/html": [
       "<style>\n",
       ".list-inline {list-style: none; margin:0; padding: 0}\n",
       ".list-inline>li {display: inline-block}\n",
       ".list-inline>li:not(:last-child)::after {content: \"\\00b7\"; padding: 0 .5ex}\n",
       "</style>\n",
       "<ol class=list-inline><li>'Walnuts, Inshell Basis'</li><li>'Pistachios, Inshell Basis'</li><li>'Pecans, Inshell Basis'</li><li>'Macadamia, Inshell Basis'</li><li>'Filberts, Inshell Basis'</li><li>'Almonds, Shelled Basis'</li><li>'Oil, Sunflowerseed'</li><li>'Oil, Soybean'</li><li>'Oil, Rapeseed'</li><li>'Oil, Peanut'</li><li>'Oil, Olive'</li><li>'Oil, Cottonseed'</li><li>'Honey'</li></ol>\n"
      ],
      "text/latex": [
       "\\begin{enumerate*}\n",
       "\\item 'Walnuts, Inshell Basis'\n",
       "\\item 'Pistachios, Inshell Basis'\n",
       "\\item 'Pecans, Inshell Basis'\n",
       "\\item 'Macadamia, Inshell Basis'\n",
       "\\item 'Filberts, Inshell Basis'\n",
       "\\item 'Almonds, Shelled Basis'\n",
       "\\item 'Oil, Sunflowerseed'\n",
       "\\item 'Oil, Soybean'\n",
       "\\item 'Oil, Rapeseed'\n",
       "\\item 'Oil, Peanut'\n",
       "\\item 'Oil, Olive'\n",
       "\\item 'Oil, Cottonseed'\n",
       "\\item 'Honey'\n",
       "\\end{enumerate*}\n"
      ],
      "text/markdown": [
       "1. 'Walnuts, Inshell Basis'\n",
       "2. 'Pistachios, Inshell Basis'\n",
       "3. 'Pecans, Inshell Basis'\n",
       "4. 'Macadamia, Inshell Basis'\n",
       "5. 'Filberts, Inshell Basis'\n",
       "6. 'Almonds, Shelled Basis'\n",
       "7. 'Oil, Sunflowerseed'\n",
       "8. 'Oil, Soybean'\n",
       "9. 'Oil, Rapeseed'\n",
       "10. 'Oil, Peanut'\n",
       "11. 'Oil, Olive'\n",
       "12. 'Oil, Cottonseed'\n",
       "13. 'Honey'\n",
       "\n",
       "\n"
      ],
      "text/plain": [
       " [1] \"Walnuts, Inshell Basis\"    \"Pistachios, Inshell Basis\"\n",
       " [3] \"Pecans, Inshell Basis\"     \"Macadamia, Inshell Basis\" \n",
       " [5] \"Filberts, Inshell Basis\"   \"Almonds, Shelled Basis\"   \n",
       " [7] \"Oil, Sunflowerseed\"        \"Oil, Soybean\"             \n",
       " [9] \"Oil, Rapeseed\"             \"Oil, Peanut\"              \n",
       "[11] \"Oil, Olive\"                \"Oil, Cottonseed\"          \n",
       "[13] \"Honey\"                    "
      ]
     },
     "metadata": {},
     "output_type": "display_data"
    }
   ],
   "source": [
    "unique(Nuts_Oils$Commodity_Description)"
   ]
  },
  {
   "cell_type": "code",
   "execution_count": 79,
   "id": "f8150d45-35ad-4d1c-9953-f5e54a48f89a",
   "metadata": {},
   "outputs": [
    {
     "data": {
      "text/html": [
       "<table class=\"dataframe\">\n",
       "<caption>A data.frame: 13 × 2</caption>\n",
       "<thead>\n",
       "\t<tr><th scope=col>Commodity_Description</th><th scope=col>ave.val</th></tr>\n",
       "\t<tr><th scope=col>&lt;chr&gt;</th><th scope=col>&lt;dbl&gt;</th></tr>\n",
       "</thead>\n",
       "<tbody>\n",
       "\t<tr><td>Almonds, Shelled Basis   </td><td> 552810.667</td></tr>\n",
       "\t<tr><td>Filberts, Inshell Basis  </td><td>  32870.400</td></tr>\n",
       "\t<tr><td>Honey                    </td><td>  78920.064</td></tr>\n",
       "\t<tr><td>Macadamia, Inshell Basis </td><td>  24243.800</td></tr>\n",
       "\t<tr><td>Oil, Cottonseed          </td><td> 392200.000</td></tr>\n",
       "\t<tr><td>Oil, Olive               </td><td>   2733.333</td></tr>\n",
       "\t<tr><td>Oil, Peanut              </td><td>  88200.000</td></tr>\n",
       "\t<tr><td>Oil, Rapeseed            </td><td> 419666.667</td></tr>\n",
       "\t<tr><td>Oil, Soybean             </td><td>8757933.333</td></tr>\n",
       "\t<tr><td>Oil, Sunflowerseed       </td><td> 303733.333</td></tr>\n",
       "\t<tr><td>Pecans, Inshell Basis    </td><td> 147192.273</td></tr>\n",
       "\t<tr><td>Pistachios, Inshell Basis</td><td> 138380.667</td></tr>\n",
       "\t<tr><td>Walnuts, Inshell Basis   </td><td> 325681.800</td></tr>\n",
       "</tbody>\n",
       "</table>\n"
      ],
      "text/latex": [
       "A data.frame: 13 × 2\n",
       "\\begin{tabular}{ll}\n",
       " Commodity\\_Description & ave.val\\\\\n",
       " <chr> & <dbl>\\\\\n",
       "\\hline\n",
       "\t Almonds, Shelled Basis    &  552810.667\\\\\n",
       "\t Filberts, Inshell Basis   &   32870.400\\\\\n",
       "\t Honey                     &   78920.064\\\\\n",
       "\t Macadamia, Inshell Basis  &   24243.800\\\\\n",
       "\t Oil, Cottonseed           &  392200.000\\\\\n",
       "\t Oil, Olive                &    2733.333\\\\\n",
       "\t Oil, Peanut               &   88200.000\\\\\n",
       "\t Oil, Rapeseed             &  419666.667\\\\\n",
       "\t Oil, Soybean              & 8757933.333\\\\\n",
       "\t Oil, Sunflowerseed        &  303733.333\\\\\n",
       "\t Pecans, Inshell Basis     &  147192.273\\\\\n",
       "\t Pistachios, Inshell Basis &  138380.667\\\\\n",
       "\t Walnuts, Inshell Basis    &  325681.800\\\\\n",
       "\\end{tabular}\n"
      ],
      "text/markdown": [
       "\n",
       "A data.frame: 13 × 2\n",
       "\n",
       "| Commodity_Description &lt;chr&gt; | ave.val &lt;dbl&gt; |\n",
       "|---|---|\n",
       "| Almonds, Shelled Basis    |  552810.667 |\n",
       "| Filberts, Inshell Basis   |   32870.400 |\n",
       "| Honey                     |   78920.064 |\n",
       "| Macadamia, Inshell Basis  |   24243.800 |\n",
       "| Oil, Cottonseed           |  392200.000 |\n",
       "| Oil, Olive                |    2733.333 |\n",
       "| Oil, Peanut               |   88200.000 |\n",
       "| Oil, Rapeseed             |  419666.667 |\n",
       "| Oil, Soybean              | 8757933.333 |\n",
       "| Oil, Sunflowerseed        |  303733.333 |\n",
       "| Pecans, Inshell Basis     |  147192.273 |\n",
       "| Pistachios, Inshell Basis |  138380.667 |\n",
       "| Walnuts, Inshell Basis    |  325681.800 |\n",
       "\n"
      ],
      "text/plain": [
       "   Commodity_Description     ave.val    \n",
       "1  Almonds, Shelled Basis     552810.667\n",
       "2  Filberts, Inshell Basis     32870.400\n",
       "3  Honey                       78920.064\n",
       "4  Macadamia, Inshell Basis    24243.800\n",
       "5  Oil, Cottonseed            392200.000\n",
       "6  Oil, Olive                   2733.333\n",
       "7  Oil, Peanut                 88200.000\n",
       "8  Oil, Rapeseed              419666.667\n",
       "9  Oil, Soybean              8757933.333\n",
       "10 Oil, Sunflowerseed         303733.333\n",
       "11 Pecans, Inshell Basis      147192.273\n",
       "12 Pistachios, Inshell Basis  138380.667\n",
       "13 Walnuts, Inshell Basis     325681.800"
      ]
     },
     "metadata": {},
     "output_type": "display_data"
    }
   ],
   "source": [
    "AveVals <- Nuts_Oils %>% group_by(Commodity_Description) %>% summarize(ave.val = mean(Value));\n",
    "AveVals <- as.data.frame(AveVals)\n",
    "AveVals"
   ]
  },
  {
   "cell_type": "code",
   "execution_count": 80,
   "id": "34395779-6361-4a7e-93cf-e4b764fc8d5c",
   "metadata": {},
   "outputs": [
    {
     "data": {
      "image/png": "[encoded data removed]",
      "text/plain": [
       "plot without title"
      ]
     },
     "metadata": {
      "image/png": {
       "height": 420,
       "width": 420
      }
     },
     "output_type": "display_data"
    }
   ],
   "source": [
    "AveBAR <- ggplot(data = AveVals, aes(x = Commodity_Description, y = ave.val , fill = Commodity_Description)) +\n",
    "  geom_bar(stat = \"identity\", position = position_dodge(), alpha = 1)+\n",
    "  scale_y_log10()\n",
    "AveBAR"
   ]
  },
  {
   "cell_type": "code",
   "execution_count": 81,
   "id": "3e3c0859-9646-4efa-b433-d1df9c79ec66",
   "metadata": {
    "tags": []
   },
   "outputs": [],
   "source": [
    "## We know that some of our data is missing for some of the nuts, but it looks like on Average from 1998-2012, the biggest Nut & Oil commodities produced by the US were\n",
    "### 1 - Soybean Oil (by a long shot)\n",
    "### 2 - Almonds\n",
    "### 3 - Rapeseed Oil\n",
    "### 4 - Cottonseed Oil\n",
    "### 5 - Walnuts"
   ]
  },
  {
   "cell_type": "code",
   "execution_count": 82,
   "id": "82f4bf0c-1fb7-4a34-9677-914f9b511c9d",
   "metadata": {
    "tags": []
   },
   "outputs": [],
   "source": [
    "# ----------------------------------------------------------------------------------------\n",
    "# Does honey production correlate with the production of any other USDA commodities in this category? Which are more highly correlated?"
   ]
  },
  {
   "cell_type": "code",
   "execution_count": 83,
   "id": "cc4562fd-d08a-403d-a860-576fa7a272e6",
   "metadata": {
    "tags": []
   },
   "outputs": [
    {
     "data": {
      "text/html": [
       "<style>\n",
       ".list-inline {list-style: none; margin:0; padding: 0}\n",
       ".list-inline>li {display: inline-block}\n",
       ".list-inline>li:not(:last-child)::after {content: \"\\00b7\"; padding: 0 .5ex}\n",
       "</style>\n",
       "<ol class=list-inline><li>'X.1'</li><li>'X'</li><li>'Commodity_Description'</li><li>'Country_Code'</li><li>'Country_Name'</li><li>'Year'</li><li>'Attribute_Description'</li><li>'Unit_Description'</li><li>'Value'</li><li>'Category'</li></ol>\n"
      ],
      "text/latex": [
       "\\begin{enumerate*}\n",
       "\\item 'X.1'\n",
       "\\item 'X'\n",
       "\\item 'Commodity\\_Description'\n",
       "\\item 'Country\\_Code'\n",
       "\\item 'Country\\_Name'\n",
       "\\item 'Year'\n",
       "\\item 'Attribute\\_Description'\n",
       "\\item 'Unit\\_Description'\n",
       "\\item 'Value'\n",
       "\\item 'Category'\n",
       "\\end{enumerate*}\n"
      ],
      "text/markdown": [
       "1. 'X.1'\n",
       "2. 'X'\n",
       "3. 'Commodity_Description'\n",
       "4. 'Country_Code'\n",
       "5. 'Country_Name'\n",
       "6. 'Year'\n",
       "7. 'Attribute_Description'\n",
       "8. 'Unit_Description'\n",
       "9. 'Value'\n",
       "10. 'Category'\n",
       "\n",
       "\n"
      ],
      "text/plain": [
       " [1] \"X.1\"                   \"X\"                     \"Commodity_Description\"\n",
       " [4] \"Country_Code\"          \"Country_Name\"          \"Year\"                 \n",
       " [7] \"Attribute_Description\" \"Unit_Description\"      \"Value\"                \n",
       "[10] \"Category\"             "
      ]
     },
     "metadata": {},
     "output_type": "display_data"
    }
   ],
   "source": [
    "## Transposing & Reshaping Data\n",
    "testTranspose <- Nuts_Oils\n",
    "colnames(testTranspose)"
   ]
  },
  {
   "cell_type": "code",
   "execution_count": 84,
   "id": "aada3df0-f938-4d16-a9b6-41011f8700cb",
   "metadata": {
    "tags": []
   },
   "outputs": [
    {
     "data": {
      "text/html": [
       "<table class=\"dataframe\">\n",
       "<caption>A data.frame: 186 × 3</caption>\n",
       "<thead>\n",
       "\t<tr><th scope=col>Commodity_Description</th><th scope=col>Year</th><th scope=col>Value</th></tr>\n",
       "\t<tr><th scope=col>&lt;chr&gt;</th><th scope=col>&lt;int&gt;</th><th scope=col>&lt;dbl&gt;</th></tr>\n",
       "</thead>\n",
       "<tbody>\n",
       "\t<tr><td>Walnuts, Inshell Basis   </td><td>1998</td><td>205931</td></tr>\n",
       "\t<tr><td>Walnuts, Inshell Basis   </td><td>1999</td><td>256734</td></tr>\n",
       "\t<tr><td>Walnuts, Inshell Basis   </td><td>2000</td><td>216816</td></tr>\n",
       "\t<tr><td>Walnuts, Inshell Basis   </td><td>2001</td><td>276700</td></tr>\n",
       "\t<tr><td>Walnuts, Inshell Basis   </td><td>2002</td><td>255825</td></tr>\n",
       "\t<tr><td>Walnuts, Inshell Basis   </td><td>2003</td><td>295741</td></tr>\n",
       "\t<tr><td>Walnuts, Inshell Basis   </td><td>2004</td><td>294834</td></tr>\n",
       "\t<tr><td>Walnuts, Inshell Basis   </td><td>2005</td><td>322100</td></tr>\n",
       "\t<tr><td>Walnuts, Inshell Basis   </td><td>2006</td><td>317515</td></tr>\n",
       "\t<tr><td>Walnuts, Inshell Basis   </td><td>2007</td><td>297600</td></tr>\n",
       "\t<tr><td>Walnuts, Inshell Basis   </td><td>2008</td><td>395500</td></tr>\n",
       "\t<tr><td>Walnuts, Inshell Basis   </td><td>2009</td><td>396400</td></tr>\n",
       "\t<tr><td>Walnuts, Inshell Basis   </td><td>2010</td><td>462660</td></tr>\n",
       "\t<tr><td>Walnuts, Inshell Basis   </td><td>2011</td><td>440000</td></tr>\n",
       "\t<tr><td>Walnuts, Inshell Basis   </td><td>2012</td><td>450871</td></tr>\n",
       "\t<tr><td>Pistachios, Inshell Basis</td><td>1998</td><td> 85275</td></tr>\n",
       "\t<tr><td>Pistachios, Inshell Basis</td><td>1999</td><td> 56056</td></tr>\n",
       "\t<tr><td>Pistachios, Inshell Basis</td><td>2000</td><td>110179</td></tr>\n",
       "\t<tr><td>Pistachios, Inshell Basis</td><td>2001</td><td> 73240</td></tr>\n",
       "\t<tr><td>Pistachios, Inshell Basis</td><td>2002</td><td>137562</td></tr>\n",
       "\t<tr><td>Pistachios, Inshell Basis</td><td>2003</td><td> 53970</td></tr>\n",
       "\t<tr><td>Pistachios, Inshell Basis</td><td>2004</td><td>157400</td></tr>\n",
       "\t<tr><td>Pistachios, Inshell Basis</td><td>2005</td><td>128400</td></tr>\n",
       "\t<tr><td>Pistachios, Inshell Basis</td><td>2006</td><td>107955</td></tr>\n",
       "\t<tr><td>Pistachios, Inshell Basis</td><td>2007</td><td>188694</td></tr>\n",
       "\t<tr><td>Pistachios, Inshell Basis</td><td>2008</td><td>126100</td></tr>\n",
       "\t<tr><td>Pistachios, Inshell Basis</td><td>2009</td><td>161025</td></tr>\n",
       "\t<tr><td>Pistachios, Inshell Basis</td><td>2010</td><td>236775</td></tr>\n",
       "\t<tr><td>Pistachios, Inshell Basis</td><td>2011</td><td>203150</td></tr>\n",
       "\t<tr><td>Pistachios, Inshell Basis</td><td>2012</td><td>249929</td></tr>\n",
       "\t<tr><td>...</td><td>...</td><td>...</td></tr>\n",
       "\t<tr><td>Oil, Cottonseed</td><td>1998</td><td>377000.00</td></tr>\n",
       "\t<tr><td>Oil, Cottonseed</td><td>1999</td><td>426000.00</td></tr>\n",
       "\t<tr><td>Oil, Cottonseed</td><td>2000</td><td>384000.00</td></tr>\n",
       "\t<tr><td>Oil, Cottonseed</td><td>2001</td><td>398000.00</td></tr>\n",
       "\t<tr><td>Oil, Cottonseed</td><td>2002</td><td>329000.00</td></tr>\n",
       "\t<tr><td>Oil, Cottonseed</td><td>2003</td><td>396000.00</td></tr>\n",
       "\t<tr><td>Oil, Cottonseed</td><td>2004</td><td>434000.00</td></tr>\n",
       "\t<tr><td>Oil, Cottonseed</td><td>2005</td><td>435000.00</td></tr>\n",
       "\t<tr><td>Oil, Cottonseed</td><td>2006</td><td>408000.00</td></tr>\n",
       "\t<tr><td>Oil, Cottonseed</td><td>2007</td><td>392000.00</td></tr>\n",
       "\t<tr><td>Oil, Cottonseed</td><td>2008</td><td>386000.00</td></tr>\n",
       "\t<tr><td>Oil, Cottonseed</td><td>2009</td><td>383000.00</td></tr>\n",
       "\t<tr><td>Oil, Cottonseed</td><td>2010</td><td>379000.00</td></tr>\n",
       "\t<tr><td>Oil, Cottonseed</td><td>2011</td><td>379000.00</td></tr>\n",
       "\t<tr><td>Oil, Cottonseed</td><td>2012</td><td>377000.00</td></tr>\n",
       "\t<tr><td>Honey          </td><td>1998</td><td> 99571.62</td></tr>\n",
       "\t<tr><td>Honey          </td><td>1999</td><td> 91800.72</td></tr>\n",
       "\t<tr><td>Honey          </td><td>2000</td><td> 99589.31</td></tr>\n",
       "\t<tr><td>Honey          </td><td>2001</td><td> 84253.44</td></tr>\n",
       "\t<tr><td>Honey          </td><td>2002</td><td> 77684.09</td></tr>\n",
       "\t<tr><td>Honey          </td><td>2003</td><td> 82268.53</td></tr>\n",
       "\t<tr><td>Honey          </td><td>2004</td><td> 82884.05</td></tr>\n",
       "\t<tr><td>Honey          </td><td>2005</td><td> 78910.60</td></tr>\n",
       "\t<tr><td>Honey          </td><td>2006</td><td> 69960.81</td></tr>\n",
       "\t<tr><td>Honey          </td><td>2007</td><td> 66959.41</td></tr>\n",
       "\t<tr><td>Honey          </td><td>2008</td><td> 73922.47</td></tr>\n",
       "\t<tr><td>Honey          </td><td>2009</td><td> 65801.39</td></tr>\n",
       "\t<tr><td>Honey          </td><td>2010</td><td> 79511.61</td></tr>\n",
       "\t<tr><td>Honey          </td><td>2011</td><td> 66768.90</td></tr>\n",
       "\t<tr><td>Honey          </td><td>2012</td><td> 63914.01</td></tr>\n",
       "</tbody>\n",
       "</table>\n"
      ],
      "text/latex": [
       "A data.frame: 186 × 3\n",
       "\\begin{tabular}{lll}\n",
       " Commodity\\_Description & Year & Value\\\\\n",
       " <chr> & <int> & <dbl>\\\\\n",
       "\\hline\n",
       "\t Walnuts, Inshell Basis    & 1998 & 205931\\\\\n",
       "\t Walnuts, Inshell Basis    & 1999 & 256734\\\\\n",
       "\t Walnuts, Inshell Basis    & 2000 & 216816\\\\\n",
       "\t Walnuts, Inshell Basis    & 2001 & 276700\\\\\n",
       "\t Walnuts, Inshell Basis    & 2002 & 255825\\\\\n",
       "\t Walnuts, Inshell Basis    & 2003 & 295741\\\\\n",
       "\t Walnuts, Inshell Basis    & 2004 & 294834\\\\\n",
       "\t Walnuts, Inshell Basis    & 2005 & 322100\\\\\n",
       "\t Walnuts, Inshell Basis    & 2006 & 317515\\\\\n",
       "\t Walnuts, Inshell Basis    & 2007 & 297600\\\\\n",
       "\t Walnuts, Inshell Basis    & 2008 & 395500\\\\\n",
       "\t Walnuts, Inshell Basis    & 2009 & 396400\\\\\n",
       "\t Walnuts, Inshell Basis    & 2010 & 462660\\\\\n",
       "\t Walnuts, Inshell Basis    & 2011 & 440000\\\\\n",
       "\t Walnuts, Inshell Basis    & 2012 & 450871\\\\\n",
       "\t Pistachios, Inshell Basis & 1998 &  85275\\\\\n",
       "\t Pistachios, Inshell Basis & 1999 &  56056\\\\\n",
       "\t Pistachios, Inshell Basis & 2000 & 110179\\\\\n",
       "\t Pistachios, Inshell Basis & 2001 &  73240\\\\\n",
       "\t Pistachios, Inshell Basis & 2002 & 137562\\\\\n",
       "\t Pistachios, Inshell Basis & 2003 &  53970\\\\\n",
       "\t Pistachios, Inshell Basis & 2004 & 157400\\\\\n",
       "\t Pistachios, Inshell Basis & 2005 & 128400\\\\\n",
       "\t Pistachios, Inshell Basis & 2006 & 107955\\\\\n",
       "\t Pistachios, Inshell Basis & 2007 & 188694\\\\\n",
       "\t Pistachios, Inshell Basis & 2008 & 126100\\\\\n",
       "\t Pistachios, Inshell Basis & 2009 & 161025\\\\\n",
       "\t Pistachios, Inshell Basis & 2010 & 236775\\\\\n",
       "\t Pistachios, Inshell Basis & 2011 & 203150\\\\\n",
       "\t Pistachios, Inshell Basis & 2012 & 249929\\\\\n",
       "\t ... & ... & ...\\\\\n",
       "\t Oil, Cottonseed & 1998 & 377000.00\\\\\n",
       "\t Oil, Cottonseed & 1999 & 426000.00\\\\\n",
       "\t Oil, Cottonseed & 2000 & 384000.00\\\\\n",
       "\t Oil, Cottonseed & 2001 & 398000.00\\\\\n",
       "\t Oil, Cottonseed & 2002 & 329000.00\\\\\n",
       "\t Oil, Cottonseed & 2003 & 396000.00\\\\\n",
       "\t Oil, Cottonseed & 2004 & 434000.00\\\\\n",
       "\t Oil, Cottonseed & 2005 & 435000.00\\\\\n",
       "\t Oil, Cottonseed & 2006 & 408000.00\\\\\n",
       "\t Oil, Cottonseed & 2007 & 392000.00\\\\\n",
       "\t Oil, Cottonseed & 2008 & 386000.00\\\\\n",
       "\t Oil, Cottonseed & 2009 & 383000.00\\\\\n",
       "\t Oil, Cottonseed & 2010 & 379000.00\\\\\n",
       "\t Oil, Cottonseed & 2011 & 379000.00\\\\\n",
       "\t Oil, Cottonseed & 2012 & 377000.00\\\\\n",
       "\t Honey           & 1998 &  99571.62\\\\\n",
       "\t Honey           & 1999 &  91800.72\\\\\n",
       "\t Honey           & 2000 &  99589.31\\\\\n",
       "\t Honey           & 2001 &  84253.44\\\\\n",
       "\t Honey           & 2002 &  77684.09\\\\\n",
       "\t Honey           & 2003 &  82268.53\\\\\n",
       "\t Honey           & 2004 &  82884.05\\\\\n",
       "\t Honey           & 2005 &  78910.60\\\\\n",
       "\t Honey           & 2006 &  69960.81\\\\\n",
       "\t Honey           & 2007 &  66959.41\\\\\n",
       "\t Honey           & 2008 &  73922.47\\\\\n",
       "\t Honey           & 2009 &  65801.39\\\\\n",
       "\t Honey           & 2010 &  79511.61\\\\\n",
       "\t Honey           & 2011 &  66768.90\\\\\n",
       "\t Honey           & 2012 &  63914.01\\\\\n",
       "\\end{tabular}\n"
      ],
      "text/markdown": [
       "\n",
       "A data.frame: 186 × 3\n",
       "\n",
       "| Commodity_Description &lt;chr&gt; | Year &lt;int&gt; | Value &lt;dbl&gt; |\n",
       "|---|---|---|\n",
       "| Walnuts, Inshell Basis    | 1998 | 205931 |\n",
       "| Walnuts, Inshell Basis    | 1999 | 256734 |\n",
       "| Walnuts, Inshell Basis    | 2000 | 216816 |\n",
       "| Walnuts, Inshell Basis    | 2001 | 276700 |\n",
       "| Walnuts, Inshell Basis    | 2002 | 255825 |\n",
       "| Walnuts, Inshell Basis    | 2003 | 295741 |\n",
       "| Walnuts, Inshell Basis    | 2004 | 294834 |\n",
       "| Walnuts, Inshell Basis    | 2005 | 322100 |\n",
       "| Walnuts, Inshell Basis    | 2006 | 317515 |\n",
       "| Walnuts, Inshell Basis    | 2007 | 297600 |\n",
       "| Walnuts, Inshell Basis    | 2008 | 395500 |\n",
       "| Walnuts, Inshell Basis    | 2009 | 396400 |\n",
       "| Walnuts, Inshell Basis    | 2010 | 462660 |\n",
       "| Walnuts, Inshell Basis    | 2011 | 440000 |\n",
       "| Walnuts, Inshell Basis    | 2012 | 450871 |\n",
       "| Pistachios, Inshell Basis | 1998 |  85275 |\n",
       "| Pistachios, Inshell Basis | 1999 |  56056 |\n",
       "| Pistachios, Inshell Basis | 2000 | 110179 |\n",
       "| Pistachios, Inshell Basis | 2001 |  73240 |\n",
       "| Pistachios, Inshell Basis | 2002 | 137562 |\n",
       "| Pistachios, Inshell Basis | 2003 |  53970 |\n",
       "| Pistachios, Inshell Basis | 2004 | 157400 |\n",
       "| Pistachios, Inshell Basis | 2005 | 128400 |\n",
       "| Pistachios, Inshell Basis | 2006 | 107955 |\n",
       "| Pistachios, Inshell Basis | 2007 | 188694 |\n",
       "| Pistachios, Inshell Basis | 2008 | 126100 |\n",
       "| Pistachios, Inshell Basis | 2009 | 161025 |\n",
       "| Pistachios, Inshell Basis | 2010 | 236775 |\n",
       "| Pistachios, Inshell Basis | 2011 | 203150 |\n",
       "| Pistachios, Inshell Basis | 2012 | 249929 |\n",
       "| ... | ... | ... |\n",
       "| Oil, Cottonseed | 1998 | 377000.00 |\n",
       "| Oil, Cottonseed | 1999 | 426000.00 |\n",
       "| Oil, Cottonseed | 2000 | 384000.00 |\n",
       "| Oil, Cottonseed | 2001 | 398000.00 |\n",
       "| Oil, Cottonseed | 2002 | 329000.00 |\n",
       "| Oil, Cottonseed | 2003 | 396000.00 |\n",
       "| Oil, Cottonseed | 2004 | 434000.00 |\n",
       "| Oil, Cottonseed | 2005 | 435000.00 |\n",
       "| Oil, Cottonseed | 2006 | 408000.00 |\n",
       "| Oil, Cottonseed | 2007 | 392000.00 |\n",
       "| Oil, Cottonseed | 2008 | 386000.00 |\n",
       "| Oil, Cottonseed | 2009 | 383000.00 |\n",
       "| Oil, Cottonseed | 2010 | 379000.00 |\n",
       "| Oil, Cottonseed | 2011 | 379000.00 |\n",
       "| Oil, Cottonseed | 2012 | 377000.00 |\n",
       "| Honey           | 1998 |  99571.62 |\n",
       "| Honey           | 1999 |  91800.72 |\n",
       "| Honey           | 2000 |  99589.31 |\n",
       "| Honey           | 2001 |  84253.44 |\n",
       "| Honey           | 2002 |  77684.09 |\n",
       "| Honey           | 2003 |  82268.53 |\n",
       "| Honey           | 2004 |  82884.05 |\n",
       "| Honey           | 2005 |  78910.60 |\n",
       "| Honey           | 2006 |  69960.81 |\n",
       "| Honey           | 2007 |  66959.41 |\n",
       "| Honey           | 2008 |  73922.47 |\n",
       "| Honey           | 2009 |  65801.39 |\n",
       "| Honey           | 2010 |  79511.61 |\n",
       "| Honey           | 2011 |  66768.90 |\n",
       "| Honey           | 2012 |  63914.01 |\n",
       "\n"
      ],
      "text/plain": [
       "    Commodity_Description     Year Value    \n",
       "1   Walnuts, Inshell Basis    1998 205931   \n",
       "2   Walnuts, Inshell Basis    1999 256734   \n",
       "3   Walnuts, Inshell Basis    2000 216816   \n",
       "4   Walnuts, Inshell Basis    2001 276700   \n",
       "5   Walnuts, Inshell Basis    2002 255825   \n",
       "6   Walnuts, Inshell Basis    2003 295741   \n",
       "7   Walnuts, Inshell Basis    2004 294834   \n",
       "8   Walnuts, Inshell Basis    2005 322100   \n",
       "9   Walnuts, Inshell Basis    2006 317515   \n",
       "10  Walnuts, Inshell Basis    2007 297600   \n",
       "11  Walnuts, Inshell Basis    2008 395500   \n",
       "12  Walnuts, Inshell Basis    2009 396400   \n",
       "13  Walnuts, Inshell Basis    2010 462660   \n",
       "14  Walnuts, Inshell Basis    2011 440000   \n",
       "15  Walnuts, Inshell Basis    2012 450871   \n",
       "16  Pistachios, Inshell Basis 1998  85275   \n",
       "17  Pistachios, Inshell Basis 1999  56056   \n",
       "18  Pistachios, Inshell Basis 2000 110179   \n",
       "19  Pistachios, Inshell Basis 2001  73240   \n",
       "20  Pistachios, Inshell Basis 2002 137562   \n",
       "21  Pistachios, Inshell Basis 2003  53970   \n",
       "22  Pistachios, Inshell Basis 2004 157400   \n",
       "23  Pistachios, Inshell Basis 2005 128400   \n",
       "24  Pistachios, Inshell Basis 2006 107955   \n",
       "25  Pistachios, Inshell Basis 2007 188694   \n",
       "26  Pistachios, Inshell Basis 2008 126100   \n",
       "27  Pistachios, Inshell Basis 2009 161025   \n",
       "28  Pistachios, Inshell Basis 2010 236775   \n",
       "29  Pistachios, Inshell Basis 2011 203150   \n",
       "30  Pistachios, Inshell Basis 2012 249929   \n",
       "... ...                       ...  ...      \n",
       "157 Oil, Cottonseed           1998 377000.00\n",
       "158 Oil, Cottonseed           1999 426000.00\n",
       "159 Oil, Cottonseed           2000 384000.00\n",
       "160 Oil, Cottonseed           2001 398000.00\n",
       "161 Oil, Cottonseed           2002 329000.00\n",
       "162 Oil, Cottonseed           2003 396000.00\n",
       "163 Oil, Cottonseed           2004 434000.00\n",
       "164 Oil, Cottonseed           2005 435000.00\n",
       "165 Oil, Cottonseed           2006 408000.00\n",
       "166 Oil, Cottonseed           2007 392000.00\n",
       "167 Oil, Cottonseed           2008 386000.00\n",
       "168 Oil, Cottonseed           2009 383000.00\n",
       "169 Oil, Cottonseed           2010 379000.00\n",
       "170 Oil, Cottonseed           2011 379000.00\n",
       "171 Oil, Cottonseed           2012 377000.00\n",
       "172 Honey                     1998  99571.62\n",
       "173 Honey                     1999  91800.72\n",
       "174 Honey                     2000  99589.31\n",
       "175 Honey                     2001  84253.44\n",
       "176 Honey                     2002  77684.09\n",
       "177 Honey                     2003  82268.53\n",
       "178 Honey                     2004  82884.05\n",
       "179 Honey                     2005  78910.60\n",
       "180 Honey                     2006  69960.81\n",
       "181 Honey                     2007  66959.41\n",
       "182 Honey                     2008  73922.47\n",
       "183 Honey                     2009  65801.39\n",
       "184 Honey                     2010  79511.61\n",
       "185 Honey                     2011  66768.90\n",
       "186 Honey                     2012  63914.01"
      ]
     },
     "metadata": {},
     "output_type": "display_data"
    }
   ],
   "source": [
    "### Deleting non-essential columns\n",
    "Nuts_Oils2 <- testTranspose[, c('Commodity_Description', 'Year', 'Value')];\n",
    "Nuts_Oils2 "
   ]
  },
  {
   "cell_type": "code",
   "execution_count": 85,
   "id": "d87a14ce-3fa5-464b-9b40-47087f16d0f7",
   "metadata": {
    "tags": []
   },
   "outputs": [],
   "source": [
    "### Isolating Year column\n",
    "Nuts_OilsYear <- testTranspose[, c('Year')]\n",
    "Nuts_OilsYear <- as.data.frame(Nuts_OilsYear)"
   ]
  },
  {
   "cell_type": "code",
   "execution_count": 86,
   "id": "6f9b745d-53bd-4431-9233-ae1270c30e0e",
   "metadata": {
    "tags": []
   },
   "outputs": [
    {
     "data": {
      "text/html": [
       "<table class=\"dataframe\">\n",
       "<caption>A data.frame: 15 × 1</caption>\n",
       "<thead>\n",
       "\t<tr><th scope=col>Nuts_OilsYear</th></tr>\n",
       "\t<tr><th scope=col>&lt;int&gt;</th></tr>\n",
       "</thead>\n",
       "<tbody>\n",
       "\t<tr><td>1998</td></tr>\n",
       "\t<tr><td>1999</td></tr>\n",
       "\t<tr><td>2000</td></tr>\n",
       "\t<tr><td>2001</td></tr>\n",
       "\t<tr><td>2002</td></tr>\n",
       "\t<tr><td>2003</td></tr>\n",
       "\t<tr><td>2004</td></tr>\n",
       "\t<tr><td>2005</td></tr>\n",
       "\t<tr><td>2006</td></tr>\n",
       "\t<tr><td>2007</td></tr>\n",
       "\t<tr><td>2008</td></tr>\n",
       "\t<tr><td>2009</td></tr>\n",
       "\t<tr><td>2010</td></tr>\n",
       "\t<tr><td>2011</td></tr>\n",
       "\t<tr><td>2012</td></tr>\n",
       "</tbody>\n",
       "</table>\n"
      ],
      "text/latex": [
       "A data.frame: 15 × 1\n",
       "\\begin{tabular}{l}\n",
       " Nuts\\_OilsYear\\\\\n",
       " <int>\\\\\n",
       "\\hline\n",
       "\t 1998\\\\\n",
       "\t 1999\\\\\n",
       "\t 2000\\\\\n",
       "\t 2001\\\\\n",
       "\t 2002\\\\\n",
       "\t 2003\\\\\n",
       "\t 2004\\\\\n",
       "\t 2005\\\\\n",
       "\t 2006\\\\\n",
       "\t 2007\\\\\n",
       "\t 2008\\\\\n",
       "\t 2009\\\\\n",
       "\t 2010\\\\\n",
       "\t 2011\\\\\n",
       "\t 2012\\\\\n",
       "\\end{tabular}\n"
      ],
      "text/markdown": [
       "\n",
       "A data.frame: 15 × 1\n",
       "\n",
       "| Nuts_OilsYear &lt;int&gt; |\n",
       "|---|\n",
       "| 1998 |\n",
       "| 1999 |\n",
       "| 2000 |\n",
       "| 2001 |\n",
       "| 2002 |\n",
       "| 2003 |\n",
       "| 2004 |\n",
       "| 2005 |\n",
       "| 2006 |\n",
       "| 2007 |\n",
       "| 2008 |\n",
       "| 2009 |\n",
       "| 2010 |\n",
       "| 2011 |\n",
       "| 2012 |\n",
       "\n"
      ],
      "text/plain": [
       "   Nuts_OilsYear\n",
       "1  1998         \n",
       "2  1999         \n",
       "3  2000         \n",
       "4  2001         \n",
       "5  2002         \n",
       "6  2003         \n",
       "7  2004         \n",
       "8  2005         \n",
       "9  2006         \n",
       "10 2007         \n",
       "11 2008         \n",
       "12 2009         \n",
       "13 2010         \n",
       "14 2011         \n",
       "15 2012         "
      ]
     },
     "metadata": {},
     "output_type": "display_data"
    }
   ],
   "source": [
    "###  Creating one row per year\n",
    "Nuts_OilsYear <- Nuts_OilsYear[1:15,]\n",
    "Nuts_OilsYear <- as.data.frame(Nuts_OilsYear)\n",
    "Nuts_OilsYear"
   ]
  },
  {
   "cell_type": "code",
   "execution_count": 87,
   "id": "877b0bdf-d347-49d3-9474-bce15b3e1a2f",
   "metadata": {
    "tags": []
   },
   "outputs": [],
   "source": [
    "### Creating subset of only commodity and value\n",
    "ComVal <- testTranspose[, c('Commodity_Description', 'Value')]"
   ]
  },
  {
   "cell_type": "code",
   "execution_count": 88,
   "id": "69441be5-651f-43b2-802a-7dd86aac5d35",
   "metadata": {
    "tags": []
   },
   "outputs": [],
   "source": [
    "### Isolating Commodities\n",
    "AlmondsTR <- subset(ComVal, Commodity_Description=='Almonds, Shelled Basis')\n",
    "FilbertsTR <- subset(ComVal, Commodity_Description=='Filberts, Inshell Basis')\n",
    "HoneyTR <- subset(ComVal, Commodity_Description=='Honey')\n",
    "MacadamiaTR <- subset(ComVal, Commodity_Description=='Macadamia, Inshell Basis')\n",
    "CottonseedOilTR <- subset(ComVal, Commodity_Description=='Oil, Cottonseed')\n",
    "OliveOilTR <- subset(ComVal, Commodity_Description=='Oil, Olive')\n",
    "PeanutOilTR <- subset(ComVal, Commodity_Description=='Oil, Peanut')\n",
    "RapeseedOilTR <- subset(ComVal, Commodity_Description=='Oil, Rapeseed')\n",
    "SoybeanOilTR <- subset(ComVal, Commodity_Description=='Oil, Soybean')\n",
    "SunflowerseedOilTR <- subset(ComVal, Commodity_Description=='Oil, Sunflowerseed')\n",
    "PecansTR <- subset(ComVal, Commodity_Description=='Pecans, Inshell Basis')\n",
    "PistachiosTR <- subset(ComVal, Commodity_Description=='Pistachios, Inshell Basis')\n",
    "WalnutsTR <- subset(ComVal, Commodity_Description=='Walnuts, Inshell Basis')"
   ]
  },
  {
   "cell_type": "code",
   "execution_count": 89,
   "id": "a4ced969-5e13-4725-afb1-f86c9cd45f5d",
   "metadata": {
    "tags": []
   },
   "outputs": [],
   "source": [
    "### Had to drop Commodity Columns with missing data - Macadamias & Pecans"
   ]
  },
  {
   "cell_type": "code",
   "execution_count": 90,
   "id": "870eea93-e0cd-4a58-919a-a09795178a36",
   "metadata": {
    "tags": []
   },
   "outputs": [
    {
     "data": {
      "text/html": [
       "<table class=\"dataframe\">\n",
       "<caption>A data.frame: 15 × 12</caption>\n",
       "<thead>\n",
       "\t<tr><th scope=col>Nuts_OilsYear</th><th scope=col>Almonds</th><th scope=col>Filberts</th><th scope=col>Honey</th><th scope=col>CottonseedOil</th><th scope=col>OliveOil</th><th scope=col>PeanutOil</th><th scope=col>RapeseedOil</th><th scope=col>SoybeanOil</th><th scope=col>SunflowerseedOil</th><th scope=col>Pistachios</th><th scope=col>Walnuts</th></tr>\n",
       "\t<tr><th scope=col>&lt;int&gt;</th><th scope=col>&lt;dbl&gt;</th><th scope=col>&lt;dbl&gt;</th><th scope=col>&lt;dbl&gt;</th><th scope=col>&lt;dbl&gt;</th><th scope=col>&lt;dbl&gt;</th><th scope=col>&lt;dbl&gt;</th><th scope=col>&lt;dbl&gt;</th><th scope=col>&lt;dbl&gt;</th><th scope=col>&lt;dbl&gt;</th><th scope=col>&lt;dbl&gt;</th><th scope=col>&lt;dbl&gt;</th></tr>\n",
       "</thead>\n",
       "<tbody>\n",
       "\t<tr><td>1998</td><td>235884</td><td>14061</td><td>99571.62</td><td>377000</td><td> 1000</td><td> 66000</td><td>290000</td><td>8202000</td><td>534000</td><td> 85275</td><td>205931</td></tr>\n",
       "\t<tr><td>1999</td><td>377800</td><td>34500</td><td>91800.72</td><td>426000</td><td> 1000</td><td>104000</td><td>319000</td><td>8085000</td><td>478000</td><td> 56056</td><td>256734</td></tr>\n",
       "\t<tr><td>2000</td><td>318900</td><td>20471</td><td>99589.31</td><td>384000</td><td> 1000</td><td> 81000</td><td>345000</td><td>8355000</td><td>396000</td><td>110179</td><td>216816</td></tr>\n",
       "\t<tr><td>2001</td><td>376500</td><td>44906</td><td>84253.44</td><td>398000</td><td> 1000</td><td>104000</td><td>287000</td><td>8572000</td><td>319000</td><td> 73240</td><td>276700</td></tr>\n",
       "\t<tr><td>2002</td><td>494416</td><td>17700</td><td>77684.09</td><td>329000</td><td> 1000</td><td>130000</td><td>243000</td><td>8360000</td><td>145000</td><td>137562</td><td>255825</td></tr>\n",
       "\t<tr><td>2003</td><td>471740</td><td>34400</td><td>82268.53</td><td>396000</td><td> 2000</td><td> 79000</td><td>291000</td><td>7748000</td><td>270000</td><td> 53970</td><td>295741</td></tr>\n",
       "\t<tr><td>2004</td><td>462664</td><td>48502</td><td>82884.05</td><td>434000</td><td> 2000</td><td> 57000</td><td>378000</td><td>8782000</td><td>120000</td><td>157400</td><td>294834</td></tr>\n",
       "\t<tr><td>2005</td><td>415040</td><td>33566</td><td>78910.60</td><td>435000</td><td> 3000</td><td> 82000</td><td>421000</td><td>9250000</td><td>251000</td><td>128400</td><td>322100</td></tr>\n",
       "\t<tr><td>2006</td><td>508023</td><td>39010</td><td>69960.81</td><td>408000</td><td> 1000</td><td> 97000</td><td>461000</td><td>9294000</td><td>294000</td><td>107955</td><td>317515</td></tr>\n",
       "\t<tr><td>2007</td><td>630493</td><td>33600</td><td>66959.41</td><td>392000</td><td> 2000</td><td> 78000</td><td>507000</td><td>9682000</td><td>299000</td><td>188694</td><td>297600</td></tr>\n",
       "\t<tr><td>2008</td><td>739400</td><td>30800</td><td>73922.47</td><td>386000</td><td> 2000</td><td> 94000</td><td>505000</td><td>9514000</td><td>297000</td><td>126100</td><td>395500</td></tr>\n",
       "\t<tr><td>2009</td><td>639570</td><td>42640</td><td>65801.39</td><td>383000</td><td> 3000</td><td> 71000</td><td>498000</td><td>8897000</td><td>332000</td><td>161025</td><td>396400</td></tr>\n",
       "\t<tr><td>2010</td><td>748430</td><td>25400</td><td>79511.61</td><td>379000</td><td> 5000</td><td> 86000</td><td>546000</td><td>8659000</td><td>306000</td><td>236775</td><td>462660</td></tr>\n",
       "\t<tr><td>2011</td><td>920800</td><td>37200</td><td>66768.90</td><td>379000</td><td> 6000</td><td> 86000</td><td>578000</td><td>8979000</td><td>267000</td><td>203150</td><td>440000</td></tr>\n",
       "\t<tr><td>2012</td><td>952500</td><td>36300</td><td>63914.01</td><td>377000</td><td>10000</td><td>108000</td><td>626000</td><td>8990000</td><td>248000</td><td>249929</td><td>450871</td></tr>\n",
       "</tbody>\n",
       "</table>\n"
      ],
      "text/latex": [
       "A data.frame: 15 × 12\n",
       "\\begin{tabular}{llllllllllll}\n",
       " Nuts\\_OilsYear & Almonds & Filberts & Honey & CottonseedOil & OliveOil & PeanutOil & RapeseedOil & SoybeanOil & SunflowerseedOil & Pistachios & Walnuts\\\\\n",
       " <int> & <dbl> & <dbl> & <dbl> & <dbl> & <dbl> & <dbl> & <dbl> & <dbl> & <dbl> & <dbl> & <dbl>\\\\\n",
       "\\hline\n",
       "\t 1998 & 235884 & 14061 & 99571.62 & 377000 &  1000 &  66000 & 290000 & 8202000 & 534000 &  85275 & 205931\\\\\n",
       "\t 1999 & 377800 & 34500 & 91800.72 & 426000 &  1000 & 104000 & 319000 & 8085000 & 478000 &  56056 & 256734\\\\\n",
       "\t 2000 & 318900 & 20471 & 99589.31 & 384000 &  1000 &  81000 & 345000 & 8355000 & 396000 & 110179 & 216816\\\\\n",
       "\t 2001 & 376500 & 44906 & 84253.44 & 398000 &  1000 & 104000 & 287000 & 8572000 & 319000 &  73240 & 276700\\\\\n",
       "\t 2002 & 494416 & 17700 & 77684.09 & 329000 &  1000 & 130000 & 243000 & 8360000 & 145000 & 137562 & 255825\\\\\n",
       "\t 2003 & 471740 & 34400 & 82268.53 & 396000 &  2000 &  79000 & 291000 & 7748000 & 270000 &  53970 & 295741\\\\\n",
       "\t 2004 & 462664 & 48502 & 82884.05 & 434000 &  2000 &  57000 & 378000 & 8782000 & 120000 & 157400 & 294834\\\\\n",
       "\t 2005 & 415040 & 33566 & 78910.60 & 435000 &  3000 &  82000 & 421000 & 9250000 & 251000 & 128400 & 322100\\\\\n",
       "\t 2006 & 508023 & 39010 & 69960.81 & 408000 &  1000 &  97000 & 461000 & 9294000 & 294000 & 107955 & 317515\\\\\n",
       "\t 2007 & 630493 & 33600 & 66959.41 & 392000 &  2000 &  78000 & 507000 & 9682000 & 299000 & 188694 & 297600\\\\\n",
       "\t 2008 & 739400 & 30800 & 73922.47 & 386000 &  2000 &  94000 & 505000 & 9514000 & 297000 & 126100 & 395500\\\\\n",
       "\t 2009 & 639570 & 42640 & 65801.39 & 383000 &  3000 &  71000 & 498000 & 8897000 & 332000 & 161025 & 396400\\\\\n",
       "\t 2010 & 748430 & 25400 & 79511.61 & 379000 &  5000 &  86000 & 546000 & 8659000 & 306000 & 236775 & 462660\\\\\n",
       "\t 2011 & 920800 & 37200 & 66768.90 & 379000 &  6000 &  86000 & 578000 & 8979000 & 267000 & 203150 & 440000\\\\\n",
       "\t 2012 & 952500 & 36300 & 63914.01 & 377000 & 10000 & 108000 & 626000 & 8990000 & 248000 & 249929 & 450871\\\\\n",
       "\\end{tabular}\n"
      ],
      "text/markdown": [
       "\n",
       "A data.frame: 15 × 12\n",
       "\n",
       "| Nuts_OilsYear &lt;int&gt; | Almonds &lt;dbl&gt; | Filberts &lt;dbl&gt; | Honey &lt;dbl&gt; | CottonseedOil &lt;dbl&gt; | OliveOil &lt;dbl&gt; | PeanutOil &lt;dbl&gt; | RapeseedOil &lt;dbl&gt; | SoybeanOil &lt;dbl&gt; | SunflowerseedOil &lt;dbl&gt; | Pistachios &lt;dbl&gt; | Walnuts &lt;dbl&gt; |\n",
       "|---|---|---|---|---|---|---|---|---|---|---|---|\n",
       "| 1998 | 235884 | 14061 | 99571.62 | 377000 |  1000 |  66000 | 290000 | 8202000 | 534000 |  85275 | 205931 |\n",
       "| 1999 | 377800 | 34500 | 91800.72 | 426000 |  1000 | 104000 | 319000 | 8085000 | 478000 |  56056 | 256734 |\n",
       "| 2000 | 318900 | 20471 | 99589.31 | 384000 |  1000 |  81000 | 345000 | 8355000 | 396000 | 110179 | 216816 |\n",
       "| 2001 | 376500 | 44906 | 84253.44 | 398000 |  1000 | 104000 | 287000 | 8572000 | 319000 |  73240 | 276700 |\n",
       "| 2002 | 494416 | 17700 | 77684.09 | 329000 |  1000 | 130000 | 243000 | 8360000 | 145000 | 137562 | 255825 |\n",
       "| 2003 | 471740 | 34400 | 82268.53 | 396000 |  2000 |  79000 | 291000 | 7748000 | 270000 |  53970 | 295741 |\n",
       "| 2004 | 462664 | 48502 | 82884.05 | 434000 |  2000 |  57000 | 378000 | 8782000 | 120000 | 157400 | 294834 |\n",
       "| 2005 | 415040 | 33566 | 78910.60 | 435000 |  3000 |  82000 | 421000 | 9250000 | 251000 | 128400 | 322100 |\n",
       "| 2006 | 508023 | 39010 | 69960.81 | 408000 |  1000 |  97000 | 461000 | 9294000 | 294000 | 107955 | 317515 |\n",
       "| 2007 | 630493 | 33600 | 66959.41 | 392000 |  2000 |  78000 | 507000 | 9682000 | 299000 | 188694 | 297600 |\n",
       "| 2008 | 739400 | 30800 | 73922.47 | 386000 |  2000 |  94000 | 505000 | 9514000 | 297000 | 126100 | 395500 |\n",
       "| 2009 | 639570 | 42640 | 65801.39 | 383000 |  3000 |  71000 | 498000 | 8897000 | 332000 | 161025 | 396400 |\n",
       "| 2010 | 748430 | 25400 | 79511.61 | 379000 |  5000 |  86000 | 546000 | 8659000 | 306000 | 236775 | 462660 |\n",
       "| 2011 | 920800 | 37200 | 66768.90 | 379000 |  6000 |  86000 | 578000 | 8979000 | 267000 | 203150 | 440000 |\n",
       "| 2012 | 952500 | 36300 | 63914.01 | 377000 | 10000 | 108000 | 626000 | 8990000 | 248000 | 249929 | 450871 |\n",
       "\n"
      ],
      "text/plain": [
       "   Nuts_OilsYear Almonds Filberts Honey    CottonseedOil OliveOil PeanutOil\n",
       "1  1998          235884  14061    99571.62 377000         1000     66000   \n",
       "2  1999          377800  34500    91800.72 426000         1000    104000   \n",
       "3  2000          318900  20471    99589.31 384000         1000     81000   \n",
       "4  2001          376500  44906    84253.44 398000         1000    104000   \n",
       "5  2002          494416  17700    77684.09 329000         1000    130000   \n",
       "6  2003          471740  34400    82268.53 396000         2000     79000   \n",
       "7  2004          462664  48502    82884.05 434000         2000     57000   \n",
       "8  2005          415040  33566    78910.60 435000         3000     82000   \n",
       "9  2006          508023  39010    69960.81 408000         1000     97000   \n",
       "10 2007          630493  33600    66959.41 392000         2000     78000   \n",
       "11 2008          739400  30800    73922.47 386000         2000     94000   \n",
       "12 2009          639570  42640    65801.39 383000         3000     71000   \n",
       "13 2010          748430  25400    79511.61 379000         5000     86000   \n",
       "14 2011          920800  37200    66768.90 379000         6000     86000   \n",
       "15 2012          952500  36300    63914.01 377000        10000    108000   \n",
       "   RapeseedOil SoybeanOil SunflowerseedOil Pistachios Walnuts\n",
       "1  290000      8202000    534000            85275     205931 \n",
       "2  319000      8085000    478000            56056     256734 \n",
       "3  345000      8355000    396000           110179     216816 \n",
       "4  287000      8572000    319000            73240     276700 \n",
       "5  243000      8360000    145000           137562     255825 \n",
       "6  291000      7748000    270000            53970     295741 \n",
       "7  378000      8782000    120000           157400     294834 \n",
       "8  421000      9250000    251000           128400     322100 \n",
       "9  461000      9294000    294000           107955     317515 \n",
       "10 507000      9682000    299000           188694     297600 \n",
       "11 505000      9514000    297000           126100     395500 \n",
       "12 498000      8897000    332000           161025     396400 \n",
       "13 546000      8659000    306000           236775     462660 \n",
       "14 578000      8979000    267000           203150     440000 \n",
       "15 626000      8990000    248000           249929     450871 "
      ]
     },
     "metadata": {},
     "output_type": "display_data"
    }
   ],
   "source": [
    "### Creating new columns in new dataframe for each commodity production value\n",
    "Nuts_OilsYear$Almonds <- AlmondsTR$Value\n",
    "Nuts_OilsYear$Filberts <- FilbertsTR$Value\n",
    "Nuts_OilsYear$Honey <- HoneyTR$Value\n",
    "Nuts_OilsYear$CottonseedOil <- CottonseedOilTR$Value\n",
    "Nuts_OilsYear$OliveOil <- OliveOilTR$Value\n",
    "Nuts_OilsYear$PeanutOil <- PeanutOilTR$Value\n",
    "Nuts_OilsYear$RapeseedOil <- RapeseedOilTR$Value\n",
    "Nuts_OilsYear$SoybeanOil <- SoybeanOilTR$Value\n",
    "Nuts_OilsYear$SunflowerseedOil <- SunflowerseedOilTR$Value\n",
    "Nuts_OilsYear$Pistachios <- PistachiosTR$Value\n",
    "Nuts_OilsYear$Walnuts <- WalnutsTR$Value\n",
    "\n",
    "Nuts_OilsYear"
   ]
  },
  {
   "cell_type": "code",
   "execution_count": 91,
   "id": "40bc7942-64a5-4377-8493-08570813785a",
   "metadata": {
    "tags": []
   },
   "outputs": [
    {
     "data": {
      "text/html": [
       "<table class=\"dataframe\">\n",
       "<caption>A matrix: 12 × 12 of type dbl</caption>\n",
       "<thead>\n",
       "\t<tr><th></th><th scope=col>Nuts_OilsYear</th><th scope=col>Almonds</th><th scope=col>Filberts</th><th scope=col>Honey</th><th scope=col>CottonseedOil</th><th scope=col>OliveOil</th><th scope=col>PeanutOil</th><th scope=col>RapeseedOil</th><th scope=col>SoybeanOil</th><th scope=col>SunflowerseedOil</th><th scope=col>Pistachios</th><th scope=col>Walnuts</th></tr>\n",
       "</thead>\n",
       "<tbody>\n",
       "\t<tr><th scope=row>Nuts_OilsYear</th><td> 1.000000000</td><td> 0.9407896</td><td> 0.34991550</td><td>-0.8689871</td><td>-0.137352432</td><td> 0.7794600</td><td> 0.007762914</td><td> 0.929102258</td><td> 0.62634519</td><td>-0.44432312</td><td> 0.834597560</td><td> 0.94677464</td></tr>\n",
       "\t<tr><th scope=row>Almonds</th><td> 0.940789607</td><td> 1.0000000</td><td> 0.25350819</td><td>-0.8131253</td><td>-0.283763867</td><td> 0.8246517</td><td> 0.184670719</td><td> 0.874562584</td><td> 0.49456802</td><td>-0.39391457</td><td> 0.810187708</td><td> 0.91907188</td></tr>\n",
       "\t<tr><th scope=row>Filberts</th><td> 0.349915501</td><td> 0.2535082</td><td> 1.00000000</td><td>-0.4795075</td><td> 0.588556948</td><td> 0.1709633</td><td>-0.186564945</td><td> 0.286686065</td><td> 0.31146897</td><td>-0.38636485</td><td> 0.074365482</td><td> 0.32958140</td></tr>\n",
       "\t<tr><th scope=row>Honey</th><td>-0.868987121</td><td>-0.8131253</td><td>-0.47950753</td><td> 1.0000000</td><td> 0.146092704</td><td>-0.5623766</td><td>-0.186057369</td><td>-0.734580395</td><td>-0.67450636</td><td> 0.54468612</td><td>-0.630911946</td><td>-0.74211601</td></tr>\n",
       "\t<tr><th scope=row>CottonseedOil</th><td>-0.137352432</td><td>-0.2837639</td><td> 0.58855695</td><td> 0.1460927</td><td> 1.000000000</td><td>-0.1580972</td><td>-0.462048010</td><td>-0.002311856</td><td> 0.13849817</td><td> 0.06535953</td><td>-0.282837498</td><td>-0.11058675</td></tr>\n",
       "\t<tr><th scope=row>OliveOil</th><td> 0.779459959</td><td> 0.8246517</td><td> 0.17096327</td><td>-0.5623766</td><td>-0.158097161</td><td> 1.0000000</td><td> 0.102236380</td><td> 0.774680345</td><td> 0.24530174</td><td>-0.25258042</td><td> 0.794457841</td><td> 0.79858204</td></tr>\n",
       "\t<tr><th scope=row>PeanutOil</th><td> 0.007762914</td><td> 0.1846707</td><td>-0.18656494</td><td>-0.1860574</td><td>-0.462048010</td><td> 0.1022364</td><td> 1.000000000</td><td>-0.098584114</td><td>-0.05519243</td><td>-0.16709765</td><td>-0.008117979</td><td> 0.05745279</td></tr>\n",
       "\t<tr><th scope=row>RapeseedOil</th><td> 0.929102258</td><td> 0.8745626</td><td> 0.28668607</td><td>-0.7345804</td><td>-0.002311856</td><td> 0.7746803</td><td>-0.098584114</td><td> 1.000000000</td><td> 0.68943710</td><td>-0.17906855</td><td> 0.822682987</td><td> 0.87493529</td></tr>\n",
       "\t<tr><th scope=row>SoybeanOil</th><td> 0.626345194</td><td> 0.4945680</td><td> 0.31146897</td><td>-0.6745064</td><td> 0.138498172</td><td> 0.2453017</td><td>-0.055192431</td><td> 0.689437097</td><td> 1.00000000</td><td>-0.30423382</td><td> 0.517375064</td><td> 0.45701620</td></tr>\n",
       "\t<tr><th scope=row>SunflowerseedOil</th><td>-0.444323124</td><td>-0.3939146</td><td>-0.38636485</td><td> 0.5446861</td><td> 0.065359528</td><td>-0.2525804</td><td>-0.167097654</td><td>-0.179068552</td><td>-0.30423382</td><td> 1.00000000</td><td>-0.410740540</td><td>-0.33084246</td></tr>\n",
       "\t<tr><th scope=row>Pistachios</th><td> 0.834597560</td><td> 0.8101877</td><td> 0.07436548</td><td>-0.6309119</td><td>-0.282837498</td><td> 0.7944578</td><td>-0.008117979</td><td> 0.822682987</td><td> 0.51737506</td><td>-0.41074054</td><td> 1.000000000</td><td> 0.76095083</td></tr>\n",
       "\t<tr><th scope=row>Walnuts</th><td> 0.946774638</td><td> 0.9190719</td><td> 0.32958140</td><td>-0.7421160</td><td>-0.110586747</td><td> 0.7985820</td><td> 0.057452788</td><td> 0.874935291</td><td> 0.45701620</td><td>-0.33084246</td><td> 0.760950827</td><td> 1.00000000</td></tr>\n",
       "</tbody>\n",
       "</table>\n"
      ],
      "text/latex": [
       "A matrix: 12 × 12 of type dbl\n",
       "\\begin{tabular}{r|llllllllllll}\n",
       "  & Nuts\\_OilsYear & Almonds & Filberts & Honey & CottonseedOil & OliveOil & PeanutOil & RapeseedOil & SoybeanOil & SunflowerseedOil & Pistachios & Walnuts\\\\\n",
       "\\hline\n",
       "\tNuts\\_OilsYear &  1.000000000 &  0.9407896 &  0.34991550 & -0.8689871 & -0.137352432 &  0.7794600 &  0.007762914 &  0.929102258 &  0.62634519 & -0.44432312 &  0.834597560 &  0.94677464\\\\\n",
       "\tAlmonds &  0.940789607 &  1.0000000 &  0.25350819 & -0.8131253 & -0.283763867 &  0.8246517 &  0.184670719 &  0.874562584 &  0.49456802 & -0.39391457 &  0.810187708 &  0.91907188\\\\\n",
       "\tFilberts &  0.349915501 &  0.2535082 &  1.00000000 & -0.4795075 &  0.588556948 &  0.1709633 & -0.186564945 &  0.286686065 &  0.31146897 & -0.38636485 &  0.074365482 &  0.32958140\\\\\n",
       "\tHoney & -0.868987121 & -0.8131253 & -0.47950753 &  1.0000000 &  0.146092704 & -0.5623766 & -0.186057369 & -0.734580395 & -0.67450636 &  0.54468612 & -0.630911946 & -0.74211601\\\\\n",
       "\tCottonseedOil & -0.137352432 & -0.2837639 &  0.58855695 &  0.1460927 &  1.000000000 & -0.1580972 & -0.462048010 & -0.002311856 &  0.13849817 &  0.06535953 & -0.282837498 & -0.11058675\\\\\n",
       "\tOliveOil &  0.779459959 &  0.8246517 &  0.17096327 & -0.5623766 & -0.158097161 &  1.0000000 &  0.102236380 &  0.774680345 &  0.24530174 & -0.25258042 &  0.794457841 &  0.79858204\\\\\n",
       "\tPeanutOil &  0.007762914 &  0.1846707 & -0.18656494 & -0.1860574 & -0.462048010 &  0.1022364 &  1.000000000 & -0.098584114 & -0.05519243 & -0.16709765 & -0.008117979 &  0.05745279\\\\\n",
       "\tRapeseedOil &  0.929102258 &  0.8745626 &  0.28668607 & -0.7345804 & -0.002311856 &  0.7746803 & -0.098584114 &  1.000000000 &  0.68943710 & -0.17906855 &  0.822682987 &  0.87493529\\\\\n",
       "\tSoybeanOil &  0.626345194 &  0.4945680 &  0.31146897 & -0.6745064 &  0.138498172 &  0.2453017 & -0.055192431 &  0.689437097 &  1.00000000 & -0.30423382 &  0.517375064 &  0.45701620\\\\\n",
       "\tSunflowerseedOil & -0.444323124 & -0.3939146 & -0.38636485 &  0.5446861 &  0.065359528 & -0.2525804 & -0.167097654 & -0.179068552 & -0.30423382 &  1.00000000 & -0.410740540 & -0.33084246\\\\\n",
       "\tPistachios &  0.834597560 &  0.8101877 &  0.07436548 & -0.6309119 & -0.282837498 &  0.7944578 & -0.008117979 &  0.822682987 &  0.51737506 & -0.41074054 &  1.000000000 &  0.76095083\\\\\n",
       "\tWalnuts &  0.946774638 &  0.9190719 &  0.32958140 & -0.7421160 & -0.110586747 &  0.7985820 &  0.057452788 &  0.874935291 &  0.45701620 & -0.33084246 &  0.760950827 &  1.00000000\\\\\n",
       "\\end{tabular}\n"
      ],
      "text/markdown": [
       "\n",
       "A matrix: 12 × 12 of type dbl\n",
       "\n",
       "| <!--/--> | Nuts_OilsYear | Almonds | Filberts | Honey | CottonseedOil | OliveOil | PeanutOil | RapeseedOil | SoybeanOil | SunflowerseedOil | Pistachios | Walnuts |\n",
       "|---|---|---|---|---|---|---|---|---|---|---|---|---|\n",
       "| Nuts_OilsYear |  1.000000000 |  0.9407896 |  0.34991550 | -0.8689871 | -0.137352432 |  0.7794600 |  0.007762914 |  0.929102258 |  0.62634519 | -0.44432312 |  0.834597560 |  0.94677464 |\n",
       "| Almonds |  0.940789607 |  1.0000000 |  0.25350819 | -0.8131253 | -0.283763867 |  0.8246517 |  0.184670719 |  0.874562584 |  0.49456802 | -0.39391457 |  0.810187708 |  0.91907188 |\n",
       "| Filberts |  0.349915501 |  0.2535082 |  1.00000000 | -0.4795075 |  0.588556948 |  0.1709633 | -0.186564945 |  0.286686065 |  0.31146897 | -0.38636485 |  0.074365482 |  0.32958140 |\n",
       "| Honey | -0.868987121 | -0.8131253 | -0.47950753 |  1.0000000 |  0.146092704 | -0.5623766 | -0.186057369 | -0.734580395 | -0.67450636 |  0.54468612 | -0.630911946 | -0.74211601 |\n",
       "| CottonseedOil | -0.137352432 | -0.2837639 |  0.58855695 |  0.1460927 |  1.000000000 | -0.1580972 | -0.462048010 | -0.002311856 |  0.13849817 |  0.06535953 | -0.282837498 | -0.11058675 |\n",
       "| OliveOil |  0.779459959 |  0.8246517 |  0.17096327 | -0.5623766 | -0.158097161 |  1.0000000 |  0.102236380 |  0.774680345 |  0.24530174 | -0.25258042 |  0.794457841 |  0.79858204 |\n",
       "| PeanutOil |  0.007762914 |  0.1846707 | -0.18656494 | -0.1860574 | -0.462048010 |  0.1022364 |  1.000000000 | -0.098584114 | -0.05519243 | -0.16709765 | -0.008117979 |  0.05745279 |\n",
       "| RapeseedOil |  0.929102258 |  0.8745626 |  0.28668607 | -0.7345804 | -0.002311856 |  0.7746803 | -0.098584114 |  1.000000000 |  0.68943710 | -0.17906855 |  0.822682987 |  0.87493529 |\n",
       "| SoybeanOil |  0.626345194 |  0.4945680 |  0.31146897 | -0.6745064 |  0.138498172 |  0.2453017 | -0.055192431 |  0.689437097 |  1.00000000 | -0.30423382 |  0.517375064 |  0.45701620 |\n",
       "| SunflowerseedOil | -0.444323124 | -0.3939146 | -0.38636485 |  0.5446861 |  0.065359528 | -0.2525804 | -0.167097654 | -0.179068552 | -0.30423382 |  1.00000000 | -0.410740540 | -0.33084246 |\n",
       "| Pistachios |  0.834597560 |  0.8101877 |  0.07436548 | -0.6309119 | -0.282837498 |  0.7944578 | -0.008117979 |  0.822682987 |  0.51737506 | -0.41074054 |  1.000000000 |  0.76095083 |\n",
       "| Walnuts |  0.946774638 |  0.9190719 |  0.32958140 | -0.7421160 | -0.110586747 |  0.7985820 |  0.057452788 |  0.874935291 |  0.45701620 | -0.33084246 |  0.760950827 |  1.00000000 |\n",
       "\n"
      ],
      "text/plain": [
       "                 Nuts_OilsYear Almonds    Filberts    Honey      CottonseedOil\n",
       "Nuts_OilsYear     1.000000000   0.9407896  0.34991550 -0.8689871 -0.137352432 \n",
       "Almonds           0.940789607   1.0000000  0.25350819 -0.8131253 -0.283763867 \n",
       "Filberts          0.349915501   0.2535082  1.00000000 -0.4795075  0.588556948 \n",
       "Honey            -0.868987121  -0.8131253 -0.47950753  1.0000000  0.146092704 \n",
       "CottonseedOil    -0.137352432  -0.2837639  0.58855695  0.1460927  1.000000000 \n",
       "OliveOil          0.779459959   0.8246517  0.17096327 -0.5623766 -0.158097161 \n",
       "PeanutOil         0.007762914   0.1846707 -0.18656494 -0.1860574 -0.462048010 \n",
       "RapeseedOil       0.929102258   0.8745626  0.28668607 -0.7345804 -0.002311856 \n",
       "SoybeanOil        0.626345194   0.4945680  0.31146897 -0.6745064  0.138498172 \n",
       "SunflowerseedOil -0.444323124  -0.3939146 -0.38636485  0.5446861  0.065359528 \n",
       "Pistachios        0.834597560   0.8101877  0.07436548 -0.6309119 -0.282837498 \n",
       "Walnuts           0.946774638   0.9190719  0.32958140 -0.7421160 -0.110586747 \n",
       "                 OliveOil   PeanutOil    RapeseedOil  SoybeanOil \n",
       "Nuts_OilsYear     0.7794600  0.007762914  0.929102258  0.62634519\n",
       "Almonds           0.8246517  0.184670719  0.874562584  0.49456802\n",
       "Filberts          0.1709633 -0.186564945  0.286686065  0.31146897\n",
       "Honey            -0.5623766 -0.186057369 -0.734580395 -0.67450636\n",
       "CottonseedOil    -0.1580972 -0.462048010 -0.002311856  0.13849817\n",
       "OliveOil          1.0000000  0.102236380  0.774680345  0.24530174\n",
       "PeanutOil         0.1022364  1.000000000 -0.098584114 -0.05519243\n",
       "RapeseedOil       0.7746803 -0.098584114  1.000000000  0.68943710\n",
       "SoybeanOil        0.2453017 -0.055192431  0.689437097  1.00000000\n",
       "SunflowerseedOil -0.2525804 -0.167097654 -0.179068552 -0.30423382\n",
       "Pistachios        0.7944578 -0.008117979  0.822682987  0.51737506\n",
       "Walnuts           0.7985820  0.057452788  0.874935291  0.45701620\n",
       "                 SunflowerseedOil Pistachios   Walnuts    \n",
       "Nuts_OilsYear    -0.44432312       0.834597560  0.94677464\n",
       "Almonds          -0.39391457       0.810187708  0.91907188\n",
       "Filberts         -0.38636485       0.074365482  0.32958140\n",
       "Honey             0.54468612      -0.630911946 -0.74211601\n",
       "CottonseedOil     0.06535953      -0.282837498 -0.11058675\n",
       "OliveOil         -0.25258042       0.794457841  0.79858204\n",
       "PeanutOil        -0.16709765      -0.008117979  0.05745279\n",
       "RapeseedOil      -0.17906855       0.822682987  0.87493529\n",
       "SoybeanOil       -0.30423382       0.517375064  0.45701620\n",
       "SunflowerseedOil  1.00000000      -0.410740540 -0.33084246\n",
       "Pistachios       -0.41074054       1.000000000  0.76095083\n",
       "Walnuts          -0.33084246       0.760950827  1.00000000"
      ]
     },
     "metadata": {},
     "output_type": "display_data"
    }
   ],
   "source": [
    "## Running Correlation Matrix\n",
    "\n",
    "Nuts_OilsCoR <- cor(Nuts_OilsYear)\n",
    "Nuts_OilsCoR"
   ]
  },
  {
   "cell_type": "code",
   "execution_count": 92,
   "id": "b6cf61f2-0925-4b36-9a87-06bd1ceccbbe",
   "metadata": {},
   "outputs": [],
   "source": [
    "### Looks like honey is significantly negatively correlated with Almonds at -81%! "
   ]
  },
  {
   "cell_type": "code",
   "execution_count": 93,
   "id": "5f26090a-c1ad-486d-8612-b1ec8fe010a0",
   "metadata": {},
   "outputs": [
    {
     "data": {
      "image/png": "[encoded data removed]",
      "text/plain": [
       "Plot with title \"\""
      ]
     },
     "metadata": {
      "image/png": {
       "height": 420,
       "width": 420
      }
     },
     "output_type": "display_data"
    }
   ],
   "source": [
    "## Visualizing Matrix\n",
    "corrplot(Nuts_OilsCoR, type=\"upper\", method=\"circle\")"
   ]
  },
  {
   "cell_type": "code",
   "execution_count": 94,
   "id": "8e6159cc-12d3-4a86-afa2-17b87804cf9e",
   "metadata": {},
   "outputs": [],
   "source": [
    "### Looks like overall, Honey production plays a large influence in the pollenization of nut-producing plants!"
   ]
  },
  {
   "cell_type": "code",
   "execution_count": 95,
   "id": "002c40d7-18ea-47ca-bcf9-4763fe828668",
   "metadata": {
    "tags": []
   },
   "outputs": [],
   "source": [
    "# -----------------------------------------------------------------------------------------------------------------\n",
    "# Running Linear Regressions on Highly Correlated Commodity - Almonds \n",
    "## 1 - How do Almond production values change from 2008-2012?\n",
    "## 2 - What is the equation of the linear relationship between Almonds and honey from 1998-2012?"
   ]
  },
  {
   "cell_type": "code",
   "execution_count": 96,
   "id": "46e1e741-6acf-47b7-8bee-d32ff6ba32ed",
   "metadata": {
    "tags": []
   },
   "outputs": [
    {
     "data": {
      "text/html": [
       "<table class=\"dataframe\">\n",
       "<caption>A data.frame: 15 × 10</caption>\n",
       "<thead>\n",
       "\t<tr><th></th><th scope=col>X.1</th><th scope=col>X</th><th scope=col>Commodity_Description</th><th scope=col>Country_Code</th><th scope=col>Country_Name</th><th scope=col>Year</th><th scope=col>Attribute_Description</th><th scope=col>Unit_Description</th><th scope=col>Value</th><th scope=col>Category</th></tr>\n",
       "\t<tr><th></th><th scope=col>&lt;int&gt;</th><th scope=col>&lt;int&gt;</th><th scope=col>&lt;chr&gt;</th><th scope=col>&lt;chr&gt;</th><th scope=col>&lt;chr&gt;</th><th scope=col>&lt;int&gt;</th><th scope=col>&lt;chr&gt;</th><th scope=col>&lt;chr&gt;</th><th scope=col>&lt;dbl&gt;</th><th scope=col>&lt;int&gt;</th></tr>\n",
       "</thead>\n",
       "<tbody>\n",
       "\t<tr><th scope=row>67</th><td>67</td><td>   1</td><td>Almonds, Shelled Basis</td><td>US</td><td>United States</td><td>1998</td><td>Production</td><td>(MT)</td><td>235884</td><td>4</td></tr>\n",
       "\t<tr><th scope=row>68</th><td>68</td><td>6883</td><td>Almonds, Shelled Basis</td><td>US</td><td>United States</td><td>1999</td><td>Production</td><td>(MT)</td><td>377800</td><td>4</td></tr>\n",
       "\t<tr><th scope=row>69</th><td>69</td><td>6884</td><td>Almonds, Shelled Basis</td><td>US</td><td>United States</td><td>2000</td><td>Production</td><td>(MT)</td><td>318900</td><td>4</td></tr>\n",
       "\t<tr><th scope=row>70</th><td>70</td><td>6228</td><td>Almonds, Shelled Basis</td><td>US</td><td>United States</td><td>2001</td><td>Production</td><td>(MT)</td><td>376500</td><td>4</td></tr>\n",
       "\t<tr><th scope=row>71</th><td>71</td><td>   5</td><td>Almonds, Shelled Basis</td><td>US</td><td>United States</td><td>2002</td><td>Production</td><td>(MT)</td><td>494416</td><td>4</td></tr>\n",
       "\t<tr><th scope=row>72</th><td>72</td><td>5347</td><td>Almonds, Shelled Basis</td><td>US</td><td>United States</td><td>2003</td><td>Production</td><td>(MT)</td><td>471740</td><td>4</td></tr>\n",
       "\t<tr><th scope=row>73</th><td>73</td><td>   7</td><td>Almonds, Shelled Basis</td><td>US</td><td>United States</td><td>2004</td><td>Production</td><td>(MT)</td><td>462664</td><td>4</td></tr>\n",
       "\t<tr><th scope=row>74</th><td>74</td><td>3214</td><td>Almonds, Shelled Basis</td><td>US</td><td>United States</td><td>2005</td><td>Production</td><td>(MT)</td><td>415040</td><td>4</td></tr>\n",
       "\t<tr><th scope=row>75</th><td>75</td><td>6890</td><td>Almonds, Shelled Basis</td><td>US</td><td>United States</td><td>2006</td><td>Production</td><td>(MT)</td><td>508023</td><td>4</td></tr>\n",
       "\t<tr><th scope=row>76</th><td>76</td><td>6891</td><td>Almonds, Shelled Basis</td><td>US</td><td>United States</td><td>2007</td><td>Production</td><td>(MT)</td><td>630493</td><td>4</td></tr>\n",
       "\t<tr><th scope=row>77</th><td>77</td><td>6235</td><td>Almonds, Shelled Basis</td><td>US</td><td>United States</td><td>2008</td><td>Production</td><td>(MT)</td><td>739400</td><td>4</td></tr>\n",
       "\t<tr><th scope=row>78</th><td>78</td><td>4494</td><td>Almonds, Shelled Basis</td><td>US</td><td>United States</td><td>2009</td><td>Production</td><td>(MT)</td><td>639570</td><td>4</td></tr>\n",
       "\t<tr><th scope=row>79</th><td>79</td><td>4495</td><td>Almonds, Shelled Basis</td><td>US</td><td>United States</td><td>2010</td><td>Production</td><td>(MT)</td><td>748430</td><td>4</td></tr>\n",
       "\t<tr><th scope=row>80</th><td>80</td><td>6238</td><td>Almonds, Shelled Basis</td><td>US</td><td>United States</td><td>2011</td><td>Production</td><td>(MT)</td><td>920800</td><td>4</td></tr>\n",
       "\t<tr><th scope=row>81</th><td>81</td><td>6239</td><td>Almonds, Shelled Basis</td><td>US</td><td>United States</td><td>2012</td><td>Production</td><td>(MT)</td><td>952500</td><td>4</td></tr>\n",
       "</tbody>\n",
       "</table>\n"
      ],
      "text/latex": [
       "A data.frame: 15 × 10\n",
       "\\begin{tabular}{r|llllllllll}\n",
       "  & X.1 & X & Commodity\\_Description & Country\\_Code & Country\\_Name & Year & Attribute\\_Description & Unit\\_Description & Value & Category\\\\\n",
       "  & <int> & <int> & <chr> & <chr> & <chr> & <int> & <chr> & <chr> & <dbl> & <int>\\\\\n",
       "\\hline\n",
       "\t67 & 67 &    1 & Almonds, Shelled Basis & US & United States & 1998 & Production & (MT) & 235884 & 4\\\\\n",
       "\t68 & 68 & 6883 & Almonds, Shelled Basis & US & United States & 1999 & Production & (MT) & 377800 & 4\\\\\n",
       "\t69 & 69 & 6884 & Almonds, Shelled Basis & US & United States & 2000 & Production & (MT) & 318900 & 4\\\\\n",
       "\t70 & 70 & 6228 & Almonds, Shelled Basis & US & United States & 2001 & Production & (MT) & 376500 & 4\\\\\n",
       "\t71 & 71 &    5 & Almonds, Shelled Basis & US & United States & 2002 & Production & (MT) & 494416 & 4\\\\\n",
       "\t72 & 72 & 5347 & Almonds, Shelled Basis & US & United States & 2003 & Production & (MT) & 471740 & 4\\\\\n",
       "\t73 & 73 &    7 & Almonds, Shelled Basis & US & United States & 2004 & Production & (MT) & 462664 & 4\\\\\n",
       "\t74 & 74 & 3214 & Almonds, Shelled Basis & US & United States & 2005 & Production & (MT) & 415040 & 4\\\\\n",
       "\t75 & 75 & 6890 & Almonds, Shelled Basis & US & United States & 2006 & Production & (MT) & 508023 & 4\\\\\n",
       "\t76 & 76 & 6891 & Almonds, Shelled Basis & US & United States & 2007 & Production & (MT) & 630493 & 4\\\\\n",
       "\t77 & 77 & 6235 & Almonds, Shelled Basis & US & United States & 2008 & Production & (MT) & 739400 & 4\\\\\n",
       "\t78 & 78 & 4494 & Almonds, Shelled Basis & US & United States & 2009 & Production & (MT) & 639570 & 4\\\\\n",
       "\t79 & 79 & 4495 & Almonds, Shelled Basis & US & United States & 2010 & Production & (MT) & 748430 & 4\\\\\n",
       "\t80 & 80 & 6238 & Almonds, Shelled Basis & US & United States & 2011 & Production & (MT) & 920800 & 4\\\\\n",
       "\t81 & 81 & 6239 & Almonds, Shelled Basis & US & United States & 2012 & Production & (MT) & 952500 & 4\\\\\n",
       "\\end{tabular}\n"
      ],
      "text/markdown": [
       "\n",
       "A data.frame: 15 × 10\n",
       "\n",
       "| <!--/--> | X.1 &lt;int&gt; | X &lt;int&gt; | Commodity_Description &lt;chr&gt; | Country_Code &lt;chr&gt; | Country_Name &lt;chr&gt; | Year &lt;int&gt; | Attribute_Description &lt;chr&gt; | Unit_Description &lt;chr&gt; | Value &lt;dbl&gt; | Category &lt;int&gt; |\n",
       "|---|---|---|---|---|---|---|---|---|---|---|\n",
       "| 67 | 67 |    1 | Almonds, Shelled Basis | US | United States | 1998 | Production | (MT) | 235884 | 4 |\n",
       "| 68 | 68 | 6883 | Almonds, Shelled Basis | US | United States | 1999 | Production | (MT) | 377800 | 4 |\n",
       "| 69 | 69 | 6884 | Almonds, Shelled Basis | US | United States | 2000 | Production | (MT) | 318900 | 4 |\n",
       "| 70 | 70 | 6228 | Almonds, Shelled Basis | US | United States | 2001 | Production | (MT) | 376500 | 4 |\n",
       "| 71 | 71 |    5 | Almonds, Shelled Basis | US | United States | 2002 | Production | (MT) | 494416 | 4 |\n",
       "| 72 | 72 | 5347 | Almonds, Shelled Basis | US | United States | 2003 | Production | (MT) | 471740 | 4 |\n",
       "| 73 | 73 |    7 | Almonds, Shelled Basis | US | United States | 2004 | Production | (MT) | 462664 | 4 |\n",
       "| 74 | 74 | 3214 | Almonds, Shelled Basis | US | United States | 2005 | Production | (MT) | 415040 | 4 |\n",
       "| 75 | 75 | 6890 | Almonds, Shelled Basis | US | United States | 2006 | Production | (MT) | 508023 | 4 |\n",
       "| 76 | 76 | 6891 | Almonds, Shelled Basis | US | United States | 2007 | Production | (MT) | 630493 | 4 |\n",
       "| 77 | 77 | 6235 | Almonds, Shelled Basis | US | United States | 2008 | Production | (MT) | 739400 | 4 |\n",
       "| 78 | 78 | 4494 | Almonds, Shelled Basis | US | United States | 2009 | Production | (MT) | 639570 | 4 |\n",
       "| 79 | 79 | 4495 | Almonds, Shelled Basis | US | United States | 2010 | Production | (MT) | 748430 | 4 |\n",
       "| 80 | 80 | 6238 | Almonds, Shelled Basis | US | United States | 2011 | Production | (MT) | 920800 | 4 |\n",
       "| 81 | 81 | 6239 | Almonds, Shelled Basis | US | United States | 2012 | Production | (MT) | 952500 | 4 |\n",
       "\n"
      ],
      "text/plain": [
       "   X.1 X    Commodity_Description  Country_Code Country_Name  Year\n",
       "67 67     1 Almonds, Shelled Basis US           United States 1998\n",
       "68 68  6883 Almonds, Shelled Basis US           United States 1999\n",
       "69 69  6884 Almonds, Shelled Basis US           United States 2000\n",
       "70 70  6228 Almonds, Shelled Basis US           United States 2001\n",
       "71 71     5 Almonds, Shelled Basis US           United States 2002\n",
       "72 72  5347 Almonds, Shelled Basis US           United States 2003\n",
       "73 73     7 Almonds, Shelled Basis US           United States 2004\n",
       "74 74  3214 Almonds, Shelled Basis US           United States 2005\n",
       "75 75  6890 Almonds, Shelled Basis US           United States 2006\n",
       "76 76  6891 Almonds, Shelled Basis US           United States 2007\n",
       "77 77  6235 Almonds, Shelled Basis US           United States 2008\n",
       "78 78  4494 Almonds, Shelled Basis US           United States 2009\n",
       "79 79  4495 Almonds, Shelled Basis US           United States 2010\n",
       "80 80  6238 Almonds, Shelled Basis US           United States 2011\n",
       "81 81  6239 Almonds, Shelled Basis US           United States 2012\n",
       "   Attribute_Description Unit_Description Value  Category\n",
       "67 Production            (MT)             235884 4       \n",
       "68 Production            (MT)             377800 4       \n",
       "69 Production            (MT)             318900 4       \n",
       "70 Production            (MT)             376500 4       \n",
       "71 Production            (MT)             494416 4       \n",
       "72 Production            (MT)             471740 4       \n",
       "73 Production            (MT)             462664 4       \n",
       "74 Production            (MT)             415040 4       \n",
       "75 Production            (MT)             508023 4       \n",
       "76 Production            (MT)             630493 4       \n",
       "77 Production            (MT)             739400 4       \n",
       "78 Production            (MT)             639570 4       \n",
       "79 Production            (MT)             748430 4       \n",
       "80 Production            (MT)             920800 4       \n",
       "81 Production            (MT)             952500 4       "
      ]
     },
     "metadata": {},
     "output_type": "display_data"
    }
   ],
   "source": [
    "## 1 - How do Almond production values change from 2008-2012?\n",
    "## Filtering out only almonds\n",
    "AlmondsTimeLR <- subset(Nuts_Oils, Commodity_Description=='Almonds, Shelled Basis')\n",
    "AlmondsTimeLR"
   ]
  },
  {
   "cell_type": "code",
   "execution_count": 97,
   "id": "f75cbd43-defb-4ae5-b620-96d79ab47325",
   "metadata": {
    "tags": []
   },
   "outputs": [
    {
     "name": "stderr",
     "output_type": "stream",
     "text": [
      "`geom_smooth()` using formula 'y ~ x'\n",
      "\n"
     ]
    },
    {
     "data": {
      "image/png": "[encoded data removed]",
      "text/plain": [
       "plot without title"
      ]
     },
     "metadata": {
      "image/png": {
       "height": 420,
       "width": 420
      }
     },
     "output_type": "display_data"
    }
   ],
   "source": [
    "## Creating a scatterplot with best line fit\n",
    "AlmondsTimeSCAT <- ggplot(AlmondsTimeLR, aes(x = Year, y = Value))+ \n",
    "                geom_point() + geom_smooth(method=lm, se=FALSE)+\n",
    "                ggtitle('US Production Value of Almonds from 1998-2012')+\n",
    "                xlab('Year')+\n",
    "                ylab('Production in Metric Tons')\n",
    "AlmondsTimeSCAT"
   ]
  },
  {
   "cell_type": "code",
   "execution_count": 98,
   "id": "1772a0bd-38f9-4552-ab08-a4d3b763a47e",
   "metadata": {},
   "outputs": [],
   "source": [
    "### As we can see, there is a positive linear relationship between Almond production and time"
   ]
  },
  {
   "cell_type": "code",
   "execution_count": 99,
   "id": "e20cf03a-d22a-4e7b-aa16-b93cc5fab54a",
   "metadata": {
    "tags": []
   },
   "outputs": [
    {
     "data": {
      "image/png": "[encoded data removed]",
      "text/plain": [
       "Plot with title \"\""
      ]
     },
     "metadata": {
      "image/png": {
       "height": 420,
       "width": 420
      }
     },
     "output_type": "display_data"
    },
    {
     "data": {
      "image/png": "[encoded data removed]",
      "text/plain": [
       "Plot with title \"\""
      ]
     },
     "metadata": {
      "image/png": {
       "height": 420,
       "width": 420
      }
     },
     "output_type": "display_data"
    }
   ],
   "source": [
    "## Testing for Normality\n",
    "plotNormalHistogram(AlmondsTimeLR$Value)\n",
    "plotNormalHistogram(AlmondsTimeLR$Year)"
   ]
  },
  {
   "cell_type": "code",
   "execution_count": 100,
   "id": "29bc952c-8c32-4324-ad05-e1608313d9d7",
   "metadata": {
    "tags": []
   },
   "outputs": [],
   "source": [
    "### They both look decently distributed!"
   ]
  },
  {
   "cell_type": "code",
   "execution_count": 101,
   "id": "4a8c50c9-02b6-4cd7-adcc-53d29dce12e2",
   "metadata": {
    "tags": []
   },
   "outputs": [
    {
     "data": {
      "text/plain": [
       "\n",
       "\tPearson's product-moment correlation\n",
       "\n",
       "data:  x and y\n",
       "t = 10.006, df = 13, p-value = 1.786e-07\n",
       "alternative hypothesis: true correlation is not equal to 0\n",
       "95 percent confidence interval:\n",
       " 0.8271625 0.9805125\n",
       "sample estimates:\n",
       "      cor \n",
       "0.9407896 \n"
      ]
     },
     "metadata": {},
     "output_type": "display_data"
    }
   ],
   "source": [
    "## Looking at Pearson's correlation\n",
    "cor.test(AlmondsTimeLR$Year, AlmondsTimeLR$Value, method=\"pearson\", use = \"complete.obs\")"
   ]
  },
  {
   "cell_type": "code",
   "execution_count": 102,
   "id": "7720517f-def5-4383-ad6d-0874e0e8bffb",
   "metadata": {
    "tags": []
   },
   "outputs": [],
   "source": [
    "### We see here there is a significant correlation between almonds production and time from 1998 - 2012. At 98% we can be fairly confident of this correlation!"
   ]
  },
  {
   "cell_type": "code",
   "execution_count": 103,
   "id": "33ae276b-577d-42ac-b824-0b90cb4a3aef",
   "metadata": {
    "tags": []
   },
   "outputs": [
    {
     "name": "stdout",
     "output_type": "stream",
     "text": [
      "\n",
      "Call:\n",
      "lm(formula = Value ~ Year, data = AlmondsTimeLR)\n",
      "\n",
      "Coefficients:\n",
      "(Intercept)         Year  \n",
      "  -89472112        44900  \n",
      "\n"
     ]
    }
   ],
   "source": [
    "## Running linear regression model\n",
    "lin_reg1 <- lm(Value ~ Year, AlmondsTimeLR)\n",
    "print(lin_reg1)"
   ]
  },
  {
   "cell_type": "code",
   "execution_count": 104,
   "id": "d2e82f42-6e98-4cf6-9d86-72a4d55afaed",
   "metadata": {
    "tags": []
   },
   "outputs": [],
   "source": [
    "### Our equation for Almonds looks like: y = 44900(Year) - 89472112. "
   ]
  },
  {
   "cell_type": "code",
   "execution_count": 206,
   "id": "29821ef9-1e6a-456a-9199-a22212b91b81",
   "metadata": {},
   "outputs": [
    {
     "data": {
      "image/png": "[encoded data removed]",
      "text/plain": [
       "Plot with title \"\""
      ]
     },
     "metadata": {
      "image/png": {
       "height": 420,
       "width": 420
      }
     },
     "output_type": "display_data"
    }
   ],
   "source": [
    "## Testing for Homoscedasticity & Homogeneity of Variance\n",
    "par(mfrow=c(2,2))\n",
    "plot(lin_reg1)"
   ]
  },
  {
   "cell_type": "code",
   "execution_count": 193,
   "id": "2241950e-76ed-48d5-bd65-68ebd82a509a",
   "metadata": {},
   "outputs": [
    {
     "data": {
      "text/plain": [
       "\n",
       "\tstudentized Breusch-Pagan test\n",
       "\n",
       "data:  lin_reg1\n",
       "BP = 1.0652, df = 1, p-value = 0.302\n"
      ]
     },
     "metadata": {},
     "output_type": "display_data"
    }
   ],
   "source": [
    "### Luckily we see no cone shapes, so we have passe the test for Homogeneity of Variance\n",
    "### However, This data looks heteroscedastic, let's confirm...\n",
    "lmtest::bptest(lin_reg1)"
   ]
  },
  {
   "cell_type": "code",
   "execution_count": 194,
   "id": "782e02e1-5db5-458e-91fe-bef8d0ae3852",
   "metadata": {},
   "outputs": [
    {
     "data": {
      "text/plain": [
       "Non-constant Variance Score Test \n",
       "Variance formula: ~ fitted.values \n",
       "Chisquare = 0.6161554, Df = 1, p = 0.43248"
      ]
     },
     "metadata": {},
     "output_type": "display_data"
    }
   ],
   "source": [
    "### Fortunately, it looks like our Breusch-Pagan test is not significant and we have passed the assumption for homoscedasticity!\n",
    "### Let's triple check\n",
    "car::ncvTest(lin_reg1)"
   ]
  },
  {
   "cell_type": "code",
   "execution_count": 210,
   "id": "ba9bba81-6f91-4f70-8656-68024e6650c5",
   "metadata": {},
   "outputs": [],
   "source": [
    "### Not significant! Moving forward..."
   ]
  },
  {
   "cell_type": "code",
   "execution_count": 200,
   "id": "77d52140-02d2-447d-bfc2-8384ed3bbe4f",
   "metadata": {
    "tags": []
   },
   "outputs": [
    {
     "data": {
      "image/png": "[encoded data removed]",
      "text/plain": [
       "plot without title"
      ]
     },
     "metadata": {
      "image/png": {
       "height": 420,
       "width": 420
      }
     },
     "output_type": "display_data"
    }
   ],
   "source": [
    "## Screening for outliers\n",
    "lev = hat(model.matrix(lin_reg1))\n",
    "plot(lev)"
   ]
  },
  {
   "cell_type": "code",
   "execution_count": 204,
   "id": "807d8b50-da23-4d9b-8b1b-8f2012a9e5ca",
   "metadata": {},
   "outputs": [
    {
     "name": "stdout",
     "output_type": "stream",
     "text": [
      "Potentially influential observations of\n",
      "\t lm(formula = Value ~ Year, data = AlmondsTimeLR) :\n",
      "\n",
      "   dfb.1_ dfb.Year dffit cov.r   cook.d hat  \n",
      "67 -0.02   0.02    -0.02  1.55_*  0.00   0.24\n"
     ]
    }
   ],
   "source": [
    "### Looks like we may have two points that are a problem. \n",
    "summary(influence.measures(lin_reg1))"
   ]
  },
  {
   "cell_type": "code",
   "execution_count": 205,
   "id": "528e8037-26f5-467d-82fe-a0aba11fb6fb",
   "metadata": {},
   "outputs": [],
   "source": [
    "### DFFITS and DFBETAS values under 1... Luckily no significant influential outliers here!"
   ]
  },
  {
   "cell_type": "code",
   "execution_count": 105,
   "id": "dc12bf82-5353-4555-a502-b31903aed1c2",
   "metadata": {
    "tags": []
   },
   "outputs": [
    {
     "data": {
      "text/plain": [
       "\n",
       "Call:\n",
       "lm(formula = Value ~ Year, data = AlmondsTimeLR)\n",
       "\n",
       "Residuals:\n",
       "    Min      1Q  Median      3Q     Max \n",
       "-137771  -37064   -2625   64097   98588 \n",
       "\n",
       "Coefficients:\n",
       "             Estimate Std. Error t value Pr(>|t|)    \n",
       "(Intercept) -89472112    8996794  -9.945 1.92e-07 ***\n",
       "Year            44900       4487  10.006 1.79e-07 ***\n",
       "---\n",
       "Signif. codes:  0 '***' 0.001 '**' 0.01 '*' 0.05 '.' 0.1 ' ' 1\n",
       "\n",
       "Residual standard error: 75080 on 13 degrees of freedom\n",
       "Multiple R-squared:  0.8851,\tAdjusted R-squared:  0.8762 \n",
       "F-statistic: 100.1 on 1 and 13 DF,  p-value: 1.786e-07\n"
      ]
     },
     "metadata": {},
     "output_type": "display_data"
    }
   ],
   "source": [
    "## Model Summary\n",
    "summary(lin_reg1)"
   ]
  },
  {
   "cell_type": "code",
   "execution_count": 106,
   "id": "0e615457-d0b1-4af1-87f9-334ee5a0b898",
   "metadata": {
    "tags": []
   },
   "outputs": [],
   "source": [
    "### We can see here that year is a significant predictor of production value, after looking at adjusted R-squared we see that year accounts for 87% of production value. "
   ]
  },
  {
   "cell_type": "code",
   "execution_count": 107,
   "id": "e31288c6-4d6d-4d37-9f84-69f23fa09db7",
   "metadata": {
    "tags": []
   },
   "outputs": [],
   "source": [
    "## - 2 What is the equation of the linear relationship between Almonds and honey from 1998-2012?"
   ]
  },
  {
   "cell_type": "code",
   "execution_count": 108,
   "id": "b24a29bd-b21d-4e4f-a003-a46039c4ecad",
   "metadata": {
    "tags": []
   },
   "outputs": [
    {
     "name": "stderr",
     "output_type": "stream",
     "text": [
      "`geom_smooth()` using formula 'y ~ x'\n",
      "\n"
     ]
    },
    {
     "data": {
      "image/png": "[encoded data removed]",
      "text/plain": [
       "plot without title"
      ]
     },
     "metadata": {
      "image/png": {
       "height": 420,
       "width": 420
      }
     },
     "output_type": "display_data"
    }
   ],
   "source": [
    "## Creating a scatterplot with best line fit\n",
    "AlmondsHoneySCAT <- ggplot(Nuts_OilsYear, aes(x = Honey, y = Almonds))+ \n",
    "                geom_point() + geom_smooth(method=lm, se=FALSE)+\n",
    "                ggtitle('US Production Value of Almonds ~ Honey, 1998-2012')+\n",
    "                xlab('Honey Production in MT)')+\n",
    "                ylab('Almond Production in MT')\n",
    "AlmondsHoneySCAT"
   ]
  },
  {
   "cell_type": "code",
   "execution_count": 109,
   "id": "ffc86dc2-9f0a-4a3d-88b5-5b2d33d715d3",
   "metadata": {
    "tags": []
   },
   "outputs": [],
   "source": [
    "### Looks like a direct negative correlation, matching the data we found in our correlation matrix"
   ]
  },
  {
   "cell_type": "code",
   "execution_count": 110,
   "id": "4a0c092b-9321-441b-a8c9-2f08d7740847",
   "metadata": {
    "tags": []
   },
   "outputs": [
    {
     "data": {
      "image/png": "[encoded data removed]",
      "text/plain": [
       "Plot with title \"\""
      ]
     },
     "metadata": {
      "image/png": {
       "height": 420,
       "width": 420
      }
     },
     "output_type": "display_data"
    }
   ],
   "source": [
    "## Looking at distribution of Honey production data\n",
    "plotNormalHistogram(Nuts_OilsYear$Honey)"
   ]
  },
  {
   "cell_type": "code",
   "execution_count": 111,
   "id": "3069e1dd-862f-46c8-b0d5-910e54160b76",
   "metadata": {
    "tags": []
   },
   "outputs": [],
   "source": [
    "### Not too bad, we'll go with it!"
   ]
  },
  {
   "cell_type": "code",
   "execution_count": 112,
   "id": "72d28d1b-ca56-4c45-a76a-dd02fc6ec81c",
   "metadata": {
    "tags": []
   },
   "outputs": [
    {
     "data": {
      "text/plain": [
       "\n",
       "\tPearson's product-moment correlation\n",
       "\n",
       "data:  x and y\n",
       "t = -5.0366, df = 13, p-value = 0.0002277\n",
       "alternative hypothesis: true correlation is not equal to 0\n",
       "95 percent confidence interval:\n",
       " -0.9356558 -0.5156468\n",
       "sample estimates:\n",
       "       cor \n",
       "-0.8131253 \n"
      ]
     },
     "metadata": {},
     "output_type": "display_data"
    }
   ],
   "source": [
    "## Running Pearson's correlation\n",
    "cor.test(Nuts_OilsYear$Honey, Nuts_OilsYear$Almonds, method=\"pearson\", use = \"complete.obs\")"
   ]
  },
  {
   "cell_type": "code",
   "execution_count": 113,
   "id": "8a9b6d5a-cae0-48fc-9a21-673089f4c9f5",
   "metadata": {
    "tags": []
   },
   "outputs": [],
   "source": [
    "### There is a significant negative correlation between the production of Honey and Almonds. We expected a high correlation, but a positive one. At 52% adjusted confidence interval, there could be other major \n",
    "### factors coming in to play. This could possibly explain the negative correlation. We will have to expand our research to discover why this is the case."
   ]
  },
  {
   "cell_type": "code",
   "execution_count": 114,
   "id": "4dff5926-f500-4f39-b34b-68ad48348ea3",
   "metadata": {
    "tags": []
   },
   "outputs": [
    {
     "name": "stdout",
     "output_type": "stream",
     "text": [
      "\n",
      "Call:\n",
      "lm(formula = Almonds ~ Honey, data = Nuts_OilsYear)\n",
      "\n",
      "Coefficients:\n",
      "(Intercept)        Honey  \n",
      " 1737890.72       -15.02  \n",
      "\n"
     ]
    }
   ],
   "source": [
    "## Running linear regression model\n",
    "lin_reg2 <- lm(Almonds ~ Honey, Nuts_OilsYear)\n",
    "print(lin_reg2)"
   ]
  },
  {
   "cell_type": "code",
   "execution_count": 115,
   "id": "32959e18-f8a7-42cc-b4af-47efd513b4f4",
   "metadata": {
    "tags": []
   },
   "outputs": [],
   "source": [
    "### Our equation for Almonds ~ Honey production is: y = -15.02(Honey) + 1737890.72. We will use this equation for predictive modeling later on!"
   ]
  },
  {
   "cell_type": "code",
   "execution_count": 207,
   "id": "47228973-7549-4270-9b3e-9647de1f9401",
   "metadata": {},
   "outputs": [
    {
     "data": {
      "image/png": "[encoded data removed]",
      "text/plain": [
       "Plot with title \"\""
      ]
     },
     "metadata": {
      "image/png": {
       "height": 420,
       "width": 420
      }
     },
     "output_type": "display_data"
    }
   ],
   "source": [
    "## Testing for Homoscedasticity & Homogeneity of Variance\n",
    "par(mfrow=c(2,2))\n",
    "plot(lin_reg2)"
   ]
  },
  {
   "cell_type": "code",
   "execution_count": 214,
   "id": "2f66ead9-3c73-487b-aace-7ace90b58cb0",
   "metadata": {},
   "outputs": [
    {
     "data": {
      "text/plain": [
       "\n",
       "\tstudentized Breusch-Pagan test\n",
       "\n",
       "data:  lin_reg2\n",
       "BP = 5.0732, df = 1, p-value = 0.0243\n"
      ]
     },
     "metadata": {},
     "output_type": "display_data"
    }
   ],
   "source": [
    "### There could be a slight cone shape, but we will ignore and move forward.\n",
    "### Red lines are not flat, so we will have to further investigate our assumption of homoscedasticity.\n",
    "lmtest::bptest(lin_reg2)"
   ]
  },
  {
   "cell_type": "code",
   "execution_count": 216,
   "id": "5ebc9db6-913c-4810-8581-1ea9bb2ffa7a",
   "metadata": {},
   "outputs": [
    {
     "data": {
      "text/plain": [
       "Non-constant Variance Score Test \n",
       "Variance formula: ~ fitted.values \n",
       "Chisquare = 2.206234, Df = 1, p = 0.13745"
      ]
     },
     "metadata": {},
     "output_type": "display_data"
    }
   ],
   "source": [
    "### Unfortunately, this our Breusch-Pagan test is significant, we may have to transform our data. Let's run it through one more test!\n",
    "car::ncvTest(lin_reg2)"
   ]
  },
  {
   "cell_type": "code",
   "execution_count": 217,
   "id": "4ceaebb7-88eb-46d5-a8cd-3be5684a495e",
   "metadata": {},
   "outputs": [],
   "source": [
    "### Not significant! Moving forward..."
   ]
  },
  {
   "cell_type": "code",
   "execution_count": 218,
   "id": "ae2b3a91-d875-40b2-ba15-0cdcddbd5125",
   "metadata": {},
   "outputs": [
    {
     "data": {
      "image/png": "[encoded data removed]",
      "text/plain": [
       "plot without title"
      ]
     },
     "metadata": {
      "image/png": {
       "height": 420,
       "width": 420
      }
     },
     "output_type": "display_data"
    }
   ],
   "source": [
    "## Screening for outliers\n",
    "lev = hat(model.matrix(lin_reg2))\n",
    "plot(lev)"
   ]
  },
  {
   "cell_type": "code",
   "execution_count": 220,
   "id": "eafafaa7-6cca-4f26-a0bf-f0f47e14252e",
   "metadata": {},
   "outputs": [
    {
     "name": "stdout",
     "output_type": "stream",
     "text": [
      "Potentially influential observations of\n",
      "\t lm(formula = Almonds ~ Honey, data = Nuts_OilsYear) :\n",
      "\n",
      "  dfb.1_ dfb.Hony dffit cov.r   cook.d hat  \n",
      "1  0.03  -0.03    -0.04  1.66_*  0.00   0.29\n",
      "3 -0.36   0.39     0.45  1.54_*  0.10   0.30\n"
     ]
    }
   ],
   "source": [
    "### Looks like we may have two points that are a problem. \n",
    "summary(influence.measures(lin_reg2))"
   ]
  },
  {
   "cell_type": "code",
   "execution_count": 221,
   "id": "ec5be78c-821a-401a-a8ee-439274eb4776",
   "metadata": {},
   "outputs": [],
   "source": [
    "### Neither are over 1, so we can leave them in there!"
   ]
  },
  {
   "cell_type": "code",
   "execution_count": 116,
   "id": "002fc44c-bbcc-42bd-a51b-d43843ba7fc8",
   "metadata": {
    "tags": []
   },
   "outputs": [
    {
     "data": {
      "text/plain": [
       "\n",
       "Call:\n",
       "lm(formula = Almonds ~ Honey, data = Nuts_OilsYear)\n",
       "\n",
       "Residuals:\n",
       "    Min      1Q  Median      3Q     Max \n",
       "-179322  -99072  -30623   94004  204502 \n",
       "\n",
       "Coefficients:\n",
       "              Estimate Std. Error t value Pr(>|t|)    \n",
       "(Intercept)  1.738e+06  2.376e+05   7.313 5.89e-06 ***\n",
       "Honey       -1.502e+01  2.981e+00  -5.037 0.000228 ***\n",
       "---\n",
       "Signif. codes:  0 '***' 0.001 '**' 0.01 '*' 0.05 '.' 0.1 ' ' 1\n",
       "\n",
       "Residual standard error: 128900 on 13 degrees of freedom\n",
       "Multiple R-squared:  0.6612,\tAdjusted R-squared:  0.6351 \n",
       "F-statistic: 25.37 on 1 and 13 DF,  p-value: 0.0002277\n"
      ]
     },
     "metadata": {},
     "output_type": "display_data"
    }
   ],
   "source": [
    "## Model Summary\n",
    "summary(lin_reg2)"
   ]
  },
  {
   "cell_type": "code",
   "execution_count": 117,
   "id": "faa286db-617f-45b0-8fd9-48d41be9e20b",
   "metadata": {
    "jupyter": {
     "source_hidden": true
    },
    "tags": []
   },
   "outputs": [],
   "source": [
    "### Our p-value is signifcant, meaning there is a significant influence of Honey to Almond production. Our adjusted R-squared value tells us that Honey production accounts for 63% of Almond production value."
   ]
  },
  {
   "cell_type": "code",
   "execution_count": 118,
   "id": "cb3a4b62-fa42-4123-a72b-8f8899c735f2",
   "metadata": {},
   "outputs": [],
   "source": [
    "# -----------------------------------------------------------------------------------------------------------------\n",
    "# Running Linear Regressions on Highly Correlated Commodity - Walnuts \n",
    "## 1 - How does Walnut production values change from 2008-2012?\n",
    "## 2 - What is the equation of the linear relationship between Walnuts and honey from 1998-2012?"
   ]
  },
  {
   "cell_type": "code",
   "execution_count": 119,
   "id": "bdc34ef7-9d08-47c4-be33-daee4d4436d0",
   "metadata": {
    "tags": []
   },
   "outputs": [
    {
     "data": {
      "text/html": [
       "<table class=\"dataframe\">\n",
       "<caption>A data.frame: 15 × 10</caption>\n",
       "<thead>\n",
       "\t<tr><th></th><th scope=col>X.1</th><th scope=col>X</th><th scope=col>Commodity_Description</th><th scope=col>Country_Code</th><th scope=col>Country_Name</th><th scope=col>Year</th><th scope=col>Attribute_Description</th><th scope=col>Unit_Description</th><th scope=col>Value</th><th scope=col>Category</th></tr>\n",
       "\t<tr><th></th><th scope=col>&lt;int&gt;</th><th scope=col>&lt;int&gt;</th><th scope=col>&lt;chr&gt;</th><th scope=col>&lt;chr&gt;</th><th scope=col>&lt;chr&gt;</th><th scope=col>&lt;int&gt;</th><th scope=col>&lt;chr&gt;</th><th scope=col>&lt;chr&gt;</th><th scope=col>&lt;dbl&gt;</th><th scope=col>&lt;int&gt;</th></tr>\n",
       "</thead>\n",
       "<tbody>\n",
       "\t<tr><th scope=row>1</th><td> 1</td><td> 602</td><td>Walnuts, Inshell Basis</td><td>US</td><td>United States</td><td>1998</td><td>Production</td><td>(MT)</td><td>205931</td><td>4</td></tr>\n",
       "\t<tr><th scope=row>2</th><td> 2</td><td> 603</td><td>Walnuts, Inshell Basis</td><td>US</td><td>United States</td><td>1999</td><td>Production</td><td>(MT)</td><td>256734</td><td>4</td></tr>\n",
       "\t<tr><th scope=row>3</th><td> 3</td><td> 604</td><td>Walnuts, Inshell Basis</td><td>US</td><td>United States</td><td>2000</td><td>Production</td><td>(MT)</td><td>216816</td><td>4</td></tr>\n",
       "\t<tr><th scope=row>4</th><td> 4</td><td>6357</td><td>Walnuts, Inshell Basis</td><td>US</td><td>United States</td><td>2001</td><td>Production</td><td>(MT)</td><td>276700</td><td>4</td></tr>\n",
       "\t<tr><th scope=row>5</th><td> 5</td><td> 606</td><td>Walnuts, Inshell Basis</td><td>US</td><td>United States</td><td>2002</td><td>Production</td><td>(MT)</td><td>255825</td><td>4</td></tr>\n",
       "\t<tr><th scope=row>6</th><td> 6</td><td> 607</td><td>Walnuts, Inshell Basis</td><td>US</td><td>United States</td><td>2003</td><td>Production</td><td>(MT)</td><td>295741</td><td>4</td></tr>\n",
       "\t<tr><th scope=row>7</th><td> 7</td><td> 608</td><td>Walnuts, Inshell Basis</td><td>US</td><td>United States</td><td>2004</td><td>Production</td><td>(MT)</td><td>294834</td><td>4</td></tr>\n",
       "\t<tr><th scope=row>8</th><td> 8</td><td>6361</td><td>Walnuts, Inshell Basis</td><td>US</td><td>United States</td><td>2005</td><td>Production</td><td>(MT)</td><td>322100</td><td>4</td></tr>\n",
       "\t<tr><th scope=row>9</th><td> 9</td><td>1249</td><td>Walnuts, Inshell Basis</td><td>US</td><td>United States</td><td>2006</td><td>Production</td><td>(MT)</td><td>317515</td><td>4</td></tr>\n",
       "\t<tr><th scope=row>10</th><td>10</td><td>6363</td><td>Walnuts, Inshell Basis</td><td>US</td><td>United States</td><td>2007</td><td>Production</td><td>(MT)</td><td>297600</td><td>4</td></tr>\n",
       "\t<tr><th scope=row>11</th><td>11</td><td>6364</td><td>Walnuts, Inshell Basis</td><td>US</td><td>United States</td><td>2008</td><td>Production</td><td>(MT)</td><td>395500</td><td>4</td></tr>\n",
       "\t<tr><th scope=row>12</th><td>12</td><td>6365</td><td>Walnuts, Inshell Basis</td><td>US</td><td>United States</td><td>2009</td><td>Production</td><td>(MT)</td><td>396400</td><td>4</td></tr>\n",
       "\t<tr><th scope=row>13</th><td>13</td><td>4611</td><td>Walnuts, Inshell Basis</td><td>US</td><td>United States</td><td>2010</td><td>Production</td><td>(MT)</td><td>462660</td><td>4</td></tr>\n",
       "\t<tr><th scope=row>14</th><td>14</td><td>5479</td><td>Walnuts, Inshell Basis</td><td>US</td><td>United States</td><td>2011</td><td>Production</td><td>(MT)</td><td>440000</td><td>4</td></tr>\n",
       "\t<tr><th scope=row>15</th><td>15</td><td>8005</td><td>Walnuts, Inshell Basis</td><td>US</td><td>United States</td><td>2012</td><td>Production</td><td>(MT)</td><td>450871</td><td>4</td></tr>\n",
       "</tbody>\n",
       "</table>\n"
      ],
      "text/latex": [
       "A data.frame: 15 × 10\n",
       "\\begin{tabular}{r|llllllllll}\n",
       "  & X.1 & X & Commodity\\_Description & Country\\_Code & Country\\_Name & Year & Attribute\\_Description & Unit\\_Description & Value & Category\\\\\n",
       "  & <int> & <int> & <chr> & <chr> & <chr> & <int> & <chr> & <chr> & <dbl> & <int>\\\\\n",
       "\\hline\n",
       "\t1 &  1 &  602 & Walnuts, Inshell Basis & US & United States & 1998 & Production & (MT) & 205931 & 4\\\\\n",
       "\t2 &  2 &  603 & Walnuts, Inshell Basis & US & United States & 1999 & Production & (MT) & 256734 & 4\\\\\n",
       "\t3 &  3 &  604 & Walnuts, Inshell Basis & US & United States & 2000 & Production & (MT) & 216816 & 4\\\\\n",
       "\t4 &  4 & 6357 & Walnuts, Inshell Basis & US & United States & 2001 & Production & (MT) & 276700 & 4\\\\\n",
       "\t5 &  5 &  606 & Walnuts, Inshell Basis & US & United States & 2002 & Production & (MT) & 255825 & 4\\\\\n",
       "\t6 &  6 &  607 & Walnuts, Inshell Basis & US & United States & 2003 & Production & (MT) & 295741 & 4\\\\\n",
       "\t7 &  7 &  608 & Walnuts, Inshell Basis & US & United States & 2004 & Production & (MT) & 294834 & 4\\\\\n",
       "\t8 &  8 & 6361 & Walnuts, Inshell Basis & US & United States & 2005 & Production & (MT) & 322100 & 4\\\\\n",
       "\t9 &  9 & 1249 & Walnuts, Inshell Basis & US & United States & 2006 & Production & (MT) & 317515 & 4\\\\\n",
       "\t10 & 10 & 6363 & Walnuts, Inshell Basis & US & United States & 2007 & Production & (MT) & 297600 & 4\\\\\n",
       "\t11 & 11 & 6364 & Walnuts, Inshell Basis & US & United States & 2008 & Production & (MT) & 395500 & 4\\\\\n",
       "\t12 & 12 & 6365 & Walnuts, Inshell Basis & US & United States & 2009 & Production & (MT) & 396400 & 4\\\\\n",
       "\t13 & 13 & 4611 & Walnuts, Inshell Basis & US & United States & 2010 & Production & (MT) & 462660 & 4\\\\\n",
       "\t14 & 14 & 5479 & Walnuts, Inshell Basis & US & United States & 2011 & Production & (MT) & 440000 & 4\\\\\n",
       "\t15 & 15 & 8005 & Walnuts, Inshell Basis & US & United States & 2012 & Production & (MT) & 450871 & 4\\\\\n",
       "\\end{tabular}\n"
      ],
      "text/markdown": [
       "\n",
       "A data.frame: 15 × 10\n",
       "\n",
       "| <!--/--> | X.1 &lt;int&gt; | X &lt;int&gt; | Commodity_Description &lt;chr&gt; | Country_Code &lt;chr&gt; | Country_Name &lt;chr&gt; | Year &lt;int&gt; | Attribute_Description &lt;chr&gt; | Unit_Description &lt;chr&gt; | Value &lt;dbl&gt; | Category &lt;int&gt; |\n",
       "|---|---|---|---|---|---|---|---|---|---|---|\n",
       "| 1 |  1 |  602 | Walnuts, Inshell Basis | US | United States | 1998 | Production | (MT) | 205931 | 4 |\n",
       "| 2 |  2 |  603 | Walnuts, Inshell Basis | US | United States | 1999 | Production | (MT) | 256734 | 4 |\n",
       "| 3 |  3 |  604 | Walnuts, Inshell Basis | US | United States | 2000 | Production | (MT) | 216816 | 4 |\n",
       "| 4 |  4 | 6357 | Walnuts, Inshell Basis | US | United States | 2001 | Production | (MT) | 276700 | 4 |\n",
       "| 5 |  5 |  606 | Walnuts, Inshell Basis | US | United States | 2002 | Production | (MT) | 255825 | 4 |\n",
       "| 6 |  6 |  607 | Walnuts, Inshell Basis | US | United States | 2003 | Production | (MT) | 295741 | 4 |\n",
       "| 7 |  7 |  608 | Walnuts, Inshell Basis | US | United States | 2004 | Production | (MT) | 294834 | 4 |\n",
       "| 8 |  8 | 6361 | Walnuts, Inshell Basis | US | United States | 2005 | Production | (MT) | 322100 | 4 |\n",
       "| 9 |  9 | 1249 | Walnuts, Inshell Basis | US | United States | 2006 | Production | (MT) | 317515 | 4 |\n",
       "| 10 | 10 | 6363 | Walnuts, Inshell Basis | US | United States | 2007 | Production | (MT) | 297600 | 4 |\n",
       "| 11 | 11 | 6364 | Walnuts, Inshell Basis | US | United States | 2008 | Production | (MT) | 395500 | 4 |\n",
       "| 12 | 12 | 6365 | Walnuts, Inshell Basis | US | United States | 2009 | Production | (MT) | 396400 | 4 |\n",
       "| 13 | 13 | 4611 | Walnuts, Inshell Basis | US | United States | 2010 | Production | (MT) | 462660 | 4 |\n",
       "| 14 | 14 | 5479 | Walnuts, Inshell Basis | US | United States | 2011 | Production | (MT) | 440000 | 4 |\n",
       "| 15 | 15 | 8005 | Walnuts, Inshell Basis | US | United States | 2012 | Production | (MT) | 450871 | 4 |\n",
       "\n"
      ],
      "text/plain": [
       "   X.1 X    Commodity_Description  Country_Code Country_Name  Year\n",
       "1   1   602 Walnuts, Inshell Basis US           United States 1998\n",
       "2   2   603 Walnuts, Inshell Basis US           United States 1999\n",
       "3   3   604 Walnuts, Inshell Basis US           United States 2000\n",
       "4   4  6357 Walnuts, Inshell Basis US           United States 2001\n",
       "5   5   606 Walnuts, Inshell Basis US           United States 2002\n",
       "6   6   607 Walnuts, Inshell Basis US           United States 2003\n",
       "7   7   608 Walnuts, Inshell Basis US           United States 2004\n",
       "8   8  6361 Walnuts, Inshell Basis US           United States 2005\n",
       "9   9  1249 Walnuts, Inshell Basis US           United States 2006\n",
       "10 10  6363 Walnuts, Inshell Basis US           United States 2007\n",
       "11 11  6364 Walnuts, Inshell Basis US           United States 2008\n",
       "12 12  6365 Walnuts, Inshell Basis US           United States 2009\n",
       "13 13  4611 Walnuts, Inshell Basis US           United States 2010\n",
       "14 14  5479 Walnuts, Inshell Basis US           United States 2011\n",
       "15 15  8005 Walnuts, Inshell Basis US           United States 2012\n",
       "   Attribute_Description Unit_Description Value  Category\n",
       "1  Production            (MT)             205931 4       \n",
       "2  Production            (MT)             256734 4       \n",
       "3  Production            (MT)             216816 4       \n",
       "4  Production            (MT)             276700 4       \n",
       "5  Production            (MT)             255825 4       \n",
       "6  Production            (MT)             295741 4       \n",
       "7  Production            (MT)             294834 4       \n",
       "8  Production            (MT)             322100 4       \n",
       "9  Production            (MT)             317515 4       \n",
       "10 Production            (MT)             297600 4       \n",
       "11 Production            (MT)             395500 4       \n",
       "12 Production            (MT)             396400 4       \n",
       "13 Production            (MT)             462660 4       \n",
       "14 Production            (MT)             440000 4       \n",
       "15 Production            (MT)             450871 4       "
      ]
     },
     "metadata": {},
     "output_type": "display_data"
    }
   ],
   "source": [
    "## 1 - How does Walnut production values change from 2008-2012?\n",
    "## Filtering out only walnuts\n",
    "WalnutsTimeLR <- subset(Nuts_Oils, Commodity_Description=='Walnuts, Inshell Basis')\n",
    "WalnutsTimeLR"
   ]
  },
  {
   "cell_type": "code",
   "execution_count": 120,
   "id": "7c5725c7-3ae7-4ddf-90ef-5782aa41353a",
   "metadata": {
    "tags": []
   },
   "outputs": [
    {
     "name": "stderr",
     "output_type": "stream",
     "text": [
      "`geom_smooth()` using formula 'y ~ x'\n",
      "\n"
     ]
    },
    {
     "data": {
      "image/png": "[encoded data removed]",
      "text/plain": [
       "plot without title"
      ]
     },
     "metadata": {
      "image/png": {
       "height": 420,
       "width": 420
      }
     },
     "output_type": "display_data"
    }
   ],
   "source": [
    "## Creating a scatterplot with best line fit\n",
    "WalnutsTimeSCAT <- ggplot(WalnutsTimeLR, aes(x = Year, y = Value))+ \n",
    "                geom_point() + geom_smooth(method=lm, se=FALSE)+\n",
    "                ggtitle('US Production Value of Walnuts from 1998-2012')+\n",
    "                xlab('Year')+\n",
    "                ylab('Production in Metric Tons')\n",
    "WalnutsTimeSCAT"
   ]
  },
  {
   "cell_type": "code",
   "execution_count": 121,
   "id": "511d9dea-ec4b-408a-a2d0-3657fb7b0b60",
   "metadata": {
    "tags": []
   },
   "outputs": [],
   "source": [
    "### We see a positive linear relationship, with Walnut production increasing over time"
   ]
  },
  {
   "cell_type": "code",
   "execution_count": 122,
   "id": "4ddf89f1-7f25-49cd-a475-8a46ed4f6897",
   "metadata": {
    "tags": []
   },
   "outputs": [
    {
     "data": {
      "image/png": "[encoded data removed]",
      "text/plain": [
       "Plot with title \"\""
      ]
     },
     "metadata": {
      "image/png": {
       "height": 420,
       "width": 420
      }
     },
     "output_type": "display_data"
    }
   ],
   "source": [
    "## Testing for Normality\n",
    "plotNormalHistogram(WalnutsTimeLR$Value)"
   ]
  },
  {
   "cell_type": "code",
   "execution_count": 123,
   "id": "862ce9d2-7df5-4ecc-8cc0-61a0d2548f8f",
   "metadata": {
    "tags": []
   },
   "outputs": [],
   "source": [
    "### Looks skewed to the left a bit but the line is telling us its not too bad"
   ]
  },
  {
   "cell_type": "code",
   "execution_count": 124,
   "id": "69fa23ca-6d6d-45d0-83ca-5196d2203bf0",
   "metadata": {
    "tags": []
   },
   "outputs": [
    {
     "data": {
      "text/plain": [
       "\n",
       "\tPearson's product-moment correlation\n",
       "\n",
       "data:  x and y\n",
       "t = 10.605, df = 13, p-value = 9.066e-08\n",
       "alternative hypothesis: true correlation is not equal to 0\n",
       "95 percent confidence interval:\n",
       " 0.8437081 0.9825185\n",
       "sample estimates:\n",
       "      cor \n",
       "0.9467746 \n"
      ]
     },
     "metadata": {},
     "output_type": "display_data"
    }
   ],
   "source": [
    "## Looking at Pearson's correlation\n",
    "cor.test(WalnutsTimeLR$Year, WalnutsTimeLR$Value, method=\"pearson\", use = \"complete.obs\")"
   ]
  },
  {
   "cell_type": "code",
   "execution_count": 125,
   "id": "5ded3ebf-bf6c-4a26-875f-b5d9511d4021",
   "metadata": {
    "tags": []
   },
   "outputs": [],
   "source": [
    "### Another very significant correlation with a high confidence interval of 98%"
   ]
  },
  {
   "cell_type": "code",
   "execution_count": 127,
   "id": "2eabf3eb-c394-4296-bf14-098adbc138a1",
   "metadata": {
    "tags": []
   },
   "outputs": [
    {
     "name": "stdout",
     "output_type": "stream",
     "text": [
      "\n",
      "Call:\n",
      "lm(formula = Value ~ Year, data = WalnutsTimeLR)\n",
      "\n",
      "Coefficients:\n",
      "(Intercept)         Year  \n",
      "  -35246026        17741  \n",
      "\n"
     ]
    }
   ],
   "source": [
    "## Running linear regression model\n",
    "lin_reg3 <- lm(Value ~ Year, WalnutsTimeLR)\n",
    "print(lin_reg3)"
   ]
  },
  {
   "cell_type": "code",
   "execution_count": 128,
   "id": "e82028e4-906d-48cf-92ad-3b8b6fcb7787",
   "metadata": {
    "tags": []
   },
   "outputs": [],
   "source": [
    "### Our equation for Walnuts over time looks like: y = 17741(Year) - 35246026. "
   ]
  },
  {
   "cell_type": "code",
   "execution_count": 222,
   "id": "a91a82c2-8648-4e59-82ba-a618d7a1bed3",
   "metadata": {},
   "outputs": [
    {
     "data": {
      "image/png": "[encoded data removed]",
      "text/plain": [
       "Plot with title \"\""
      ]
     },
     "metadata": {
      "image/png": {
       "height": 420,
       "width": 420
      }
     },
     "output_type": "display_data"
    }
   ],
   "source": [
    "## Testing for Homoscedasticity & Homogeneity of Variance\n",
    "par(mfrow=c(2,2))\n",
    "plot(lin_reg3)"
   ]
  },
  {
   "cell_type": "code",
   "execution_count": 225,
   "id": "6550fb3e-0c96-4525-abcd-1199fc9bb25e",
   "metadata": {},
   "outputs": [
    {
     "data": {
      "text/plain": [
       "\n",
       "\tstudentized Breusch-Pagan test\n",
       "\n",
       "data:  lin_reg3\n",
       "BP = 0.19224, df = 1, p-value = 0.6611\n"
      ]
     },
     "metadata": {},
     "output_type": "display_data"
    }
   ],
   "source": [
    "### Homogeneity looks alright. We will have to run some further testing to observe Homoscedasticity or Heteroscedasticity\n",
    "lmtest::bptest(lin_reg3)"
   ]
  },
  {
   "cell_type": "code",
   "execution_count": 226,
   "id": "ae9bd267-a50d-4a66-a26d-048def21c99a",
   "metadata": {},
   "outputs": [
    {
     "data": {
      "text/plain": [
       "Non-constant Variance Score Test \n",
       "Variance formula: ~ fitted.values \n",
       "Chisquare = 0.2479494, Df = 1, p = 0.61852"
      ]
     },
     "metadata": {},
     "output_type": "display_data"
    }
   ],
   "source": [
    "### Not significant! Our data seems to pass the assumption for Homoscedasticity, but let's run one more test just to make sure\n",
    "car::ncvTest(lin_reg3)"
   ]
  },
  {
   "cell_type": "code",
   "execution_count": null,
   "id": "07b30aea-19d5-4372-9ed6-baf2354af7e5",
   "metadata": {},
   "outputs": [],
   "source": [
    "### Also not significant! We are good to go. "
   ]
  },
  {
   "cell_type": "code",
   "execution_count": 233,
   "id": "87b98677-4022-498b-8ddd-c1034bf93d97",
   "metadata": {},
   "outputs": [
    {
     "data": {
      "image/png": "[encoded data removed]",
      "text/plain": [
       "plot without title"
      ]
     },
     "metadata": {
      "image/png": {
       "height": 420,
       "width": 420
      }
     },
     "output_type": "display_data"
    }
   ],
   "source": [
    "## Testing for Outliers\n",
    "lev = hat(model.matrix(lin_reg3))\n",
    "plot(lev)"
   ]
  },
  {
   "cell_type": "code",
   "execution_count": 228,
   "id": "972f08bc-7909-42f3-a0e3-0f5c58b3846e",
   "metadata": {},
   "outputs": [
    {
     "name": "stdout",
     "output_type": "stream",
     "text": [
      "Potentially influential observations of\n",
      "\t lm(formula = Value ~ Year, data = WalnutsTimeLR) :\n",
      "\n",
      "   dfb.1_ dfb.Year dffit cov.r   cook.d hat  \n",
      "1   0.08  -0.08     0.10  1.54_*  0.01   0.24\n",
      "10  0.37  -0.38    -0.90  0.41_*  0.25   0.08\n",
      "15 -0.02   0.02     0.02  1.55_*  0.00   0.24\n"
     ]
    }
   ],
   "source": [
    "### Some look high so let's dig further\n",
    "summary(influence.measures(lin_reg3))"
   ]
  },
  {
   "cell_type": "code",
   "execution_count": 229,
   "id": "e4f67a47-ab9a-4cfd-8a6f-fdb508ee396a",
   "metadata": {},
   "outputs": [],
   "source": [
    "### Close, but there are no 1s in our DFFITS or DFBETAS columnds so we are good to go with the data!"
   ]
  },
  {
   "cell_type": "code",
   "execution_count": 129,
   "id": "0f198834-2830-4094-935d-ae488e222df0",
   "metadata": {
    "tags": []
   },
   "outputs": [
    {
     "data": {
      "text/plain": [
       "\n",
       "Call:\n",
       "lm(formula = Value ~ Year, data = WalnutsTimeLR)\n",
       "\n",
       "Residuals:\n",
       "   Min     1Q Median     3Q    Max \n",
       "-63565 -14869    999  12231  48271 \n",
       "\n",
       "Coefficients:\n",
       "             Estimate Std. Error t value Pr(>|t|)    \n",
       "(Intercept) -35246026    3354321  -10.51 1.01e-07 ***\n",
       "Year            17742       1673   10.61 9.07e-08 ***\n",
       "---\n",
       "Signif. codes:  0 '***' 0.001 '**' 0.01 '*' 0.05 '.' 0.1 ' ' 1\n",
       "\n",
       "Residual standard error: 27990 on 13 degrees of freedom\n",
       "Multiple R-squared:  0.8964,\tAdjusted R-squared:  0.8884 \n",
       "F-statistic: 112.5 on 1 and 13 DF,  p-value: 9.066e-08\n"
      ]
     },
     "metadata": {},
     "output_type": "display_data"
    }
   ],
   "source": [
    "## Model Summary\n",
    "summary(lin_reg3)"
   ]
  },
  {
   "cell_type": "code",
   "execution_count": 130,
   "id": "ba73a429-7a7a-4485-af94-f0d958b8a257",
   "metadata": {
    "tags": []
   },
   "outputs": [],
   "source": [
    "### The results of this analysis show that year is a significant predictor of Walnut production in the US, accounting for 89% of production value!"
   ]
  },
  {
   "cell_type": "code",
   "execution_count": 131,
   "id": "b16ff149-a615-4920-86d9-5a8c2d2168e9",
   "metadata": {},
   "outputs": [],
   "source": [
    "## - 2 What is the equation of the linear relationship between Walnuts and honey from 1998-2012?"
   ]
  },
  {
   "cell_type": "code",
   "execution_count": 132,
   "id": "21b38c13-ddb7-4caf-8211-e07c729a46f0",
   "metadata": {},
   "outputs": [
    {
     "name": "stderr",
     "output_type": "stream",
     "text": [
      "`geom_smooth()` using formula 'y ~ x'\n",
      "\n"
     ]
    },
    {
     "data": {
      "image/png": "[encoded data removed]",
      "text/plain": [
       "plot without title"
      ]
     },
     "metadata": {
      "image/png": {
       "height": 420,
       "width": 420
      }
     },
     "output_type": "display_data"
    }
   ],
   "source": [
    "## Creating a scatterplot with best line fit\n",
    "WalnutsHoneySCAT <- ggplot(Nuts_OilsYear, aes(x = Honey, y = Walnuts))+ \n",
    "                geom_point() + geom_smooth(method=lm, se=FALSE)+\n",
    "                ggtitle('US Production Value of Walnuts ~ Honey, 1998-2012')+\n",
    "                xlab('Honey Production in MT)')+\n",
    "                ylab('Walnut Production in MT')\n",
    "WalnutsHoneySCAT"
   ]
  },
  {
   "cell_type": "code",
   "execution_count": 133,
   "id": "904c3a37-d22d-449b-bfa6-5efbf28fcc98",
   "metadata": {},
   "outputs": [],
   "source": [
    "### Looks like a clear negative correlation, with a lot of variance in the beginning. We already know honey is normally distributed, so we will proceed to the next assumption."
   ]
  },
  {
   "cell_type": "code",
   "execution_count": 134,
   "id": "78930d48-d0e9-4f57-ba1d-31e5bf6611ef",
   "metadata": {},
   "outputs": [
    {
     "data": {
      "text/plain": [
       "\n",
       "\tPearson's product-moment correlation\n",
       "\n",
       "data:  x and y\n",
       "t = -3.992, df = 13, p-value = 0.001535\n",
       "alternative hypothesis: true correlation is not equal to 0\n",
       "95 percent confidence interval:\n",
       " -0.9088658 -0.3708257\n",
       "sample estimates:\n",
       "      cor \n",
       "-0.742116 \n"
      ]
     },
     "metadata": {},
     "output_type": "display_data"
    }
   ],
   "source": [
    "## Running Pearson's correlation\n",
    "cor.test(Nuts_OilsYear$Honey, Nuts_OilsYear$Walnuts, method=\"pearson\", use = \"complete.obs\")"
   ]
  },
  {
   "cell_type": "code",
   "execution_count": 149,
   "id": "5760a421-5728-4ad0-8998-152ef587f3e6",
   "metadata": {},
   "outputs": [],
   "source": [
    "### We can see there is a significant negative correlation between Honey and Walnut production in the US. However, the 37% adjusted confidence interval if fairly low, there are clearly other major \n",
    "### factors coming in to play. "
   ]
  },
  {
   "cell_type": "code",
   "execution_count": 136,
   "id": "40fec075-a20f-453b-8049-94e6f41a0ba7",
   "metadata": {},
   "outputs": [
    {
     "name": "stdout",
     "output_type": "stream",
     "text": [
      "\n",
      "Call:\n",
      "lm(formula = Walnuts ~ Honey, data = Nuts_OilsYear)\n",
      "\n",
      "Coefficients:\n",
      "(Intercept)        Honey  \n",
      " 750350.122       -5.381  \n",
      "\n"
     ]
    }
   ],
   "source": [
    "## Running linear regression model\n",
    "lin_reg4 <- lm(Walnuts ~ Honey, Nuts_OilsYear)\n",
    "print(lin_reg4)"
   ]
  },
  {
   "cell_type": "code",
   "execution_count": 1,
   "id": "acda5294-c315-4770-9c39-f15df8c54d27",
   "metadata": {},
   "outputs": [],
   "source": [
    "### Our linear equation for Walnuts ~ Honey is Walnuts = -5.381(Honey) + 750350.122"
   ]
  },
  {
   "cell_type": "code",
   "execution_count": 230,
   "id": "ec7f14c2-5190-403f-bea5-390b9ae7735d",
   "metadata": {},
   "outputs": [
    {
     "data": {
      "image/png": "[encoded data removed]",
      "text/plain": [
       "Plot with title \"\""
      ]
     },
     "metadata": {
      "image/png": {
       "height": 420,
       "width": 420
      }
     },
     "output_type": "display_data"
    }
   ],
   "source": [
    "## Testing for Homoscedasticity & Homogeneity of Variance\n",
    "par(mfrow=c(2,2))\n",
    "plot(lin_reg4)"
   ]
  },
  {
   "cell_type": "code",
   "execution_count": 231,
   "id": "54e7de23-e977-4b83-8b8f-90fb444586e7",
   "metadata": {},
   "outputs": [
    {
     "data": {
      "text/plain": [
       "\n",
       "\tstudentized Breusch-Pagan test\n",
       "\n",
       "data:  lin_reg4\n",
       "BP = 0.74575, df = 1, p-value = 0.3878\n"
      ]
     },
     "metadata": {},
     "output_type": "display_data"
    }
   ],
   "source": [
    "### There are some cone-shapes in our residuals plots, which leads me to assume we have not passed the assumption of Homogeneity. For the purpose of this project, we will move forward with the analysis, but note that it is something to be adjusted in a higher-stake setting. \n",
    "### Heteroscedasticity is unclear, so we will run a Breusch-Pagan test. \n",
    "lmtest::bptest(lin_reg4)"
   ]
  },
  {
   "cell_type": "code",
   "execution_count": 232,
   "id": "0725a7ef-5f86-41b9-8c9e-3159b36b86e3",
   "metadata": {},
   "outputs": [
    {
     "data": {
      "text/plain": [
       "Non-constant Variance Score Test \n",
       "Variance formula: ~ fitted.values \n",
       "Chisquare = 1.10786, Df = 1, p = 0.29255"
      ]
     },
     "metadata": {},
     "output_type": "display_data"
    }
   ],
   "source": [
    "### Not significant! Let's double check\n",
    "car::ncvTest(lin_reg4)"
   ]
  },
  {
   "cell_type": "code",
   "execution_count": null,
   "id": "8f472eca-4537-406b-9db2-63147161f008",
   "metadata": {},
   "outputs": [],
   "source": [
    "### Also not significant! Great!"
   ]
  },
  {
   "cell_type": "code",
   "execution_count": 236,
   "id": "9922170d-e4fc-46e0-b360-762e99340f9f",
   "metadata": {},
   "outputs": [
    {
     "data": {
      "image/png": "[encoded data removed]",
      "text/plain": [
       "plot without title"
      ]
     },
     "metadata": {
      "image/png": {
       "height": 420,
       "width": 420
      }
     },
     "output_type": "display_data"
    }
   ],
   "source": [
    "## Screening for Outliers\n",
    "lev = hat(model.matrix(lin_reg4))\n",
    "plot(lev)"
   ]
  },
  {
   "cell_type": "code",
   "execution_count": 235,
   "id": "7352a1d8-08d3-4d24-af27-8f974dad4392",
   "metadata": {},
   "outputs": [
    {
     "name": "stdout",
     "output_type": "stream",
     "text": [
      "Potentially influential observations of\n",
      "\t lm(formula = Walnuts ~ Honey, data = Nuts_OilsYear) :\n",
      "\n",
      "   dfb.1_ dfb.Hony dffit cov.r   cook.d hat  \n",
      "1   0.09  -0.10    -0.11  1.66_*  0.01   0.29\n",
      "3  -0.02   0.03     0.03  1.66_*  0.00   0.30\n",
      "13  0.08   0.05     0.88  0.34_*  0.22   0.07\n"
     ]
    }
   ],
   "source": [
    "### Some outliers coming really close to 3...\n",
    "summary(influence.measures(lin_reg4))"
   ]
  },
  {
   "cell_type": "code",
   "execution_count": 237,
   "id": "1fd7a43f-19ce-4d4f-8242-05a4d2a93a7c",
   "metadata": {
    "tags": []
   },
   "outputs": [],
   "source": [
    "### Again, nothing over 1! We're getting lucky here..."
   ]
  },
  {
   "cell_type": "code",
   "execution_count": 138,
   "id": "de39b344-8d7f-4546-a139-1030e6116559",
   "metadata": {},
   "outputs": [
    {
     "data": {
      "text/plain": [
       "\n",
       "Call:\n",
       "lm(formula = Walnuts ~ Honey, data = Nuts_OilsYear)\n",
       "\n",
       "Residuals:\n",
       "   Min     1Q Median     3Q    Max \n",
       "-92442 -16103  -3633  22641 140161 \n",
       "\n",
       "Coefficients:\n",
       "              Estimate Std. Error t value Pr(>|t|)    \n",
       "(Intercept) 750350.122 107438.716   6.984 9.57e-06 ***\n",
       "Honey           -5.381      1.348  -3.992  0.00153 ** \n",
       "---\n",
       "Signif. codes:  0 '***' 0.001 '**' 0.01 '*' 0.05 '.' 0.1 ' ' 1\n",
       "\n",
       "Residual standard error: 58290 on 13 degrees of freedom\n",
       "Multiple R-squared:  0.5507,\tAdjusted R-squared:  0.5162 \n",
       "F-statistic: 15.94 on 1 and 13 DF,  p-value: 0.001535\n"
      ]
     },
     "metadata": {},
     "output_type": "display_data"
    }
   ],
   "source": [
    "summary(lin_reg4)"
   ]
  },
  {
   "cell_type": "code",
   "execution_count": 139,
   "id": "5debea13-f19c-4afe-b5cc-ad774081afea",
   "metadata": {},
   "outputs": [],
   "source": [
    "### Based on our summary, we can conclude the significant negative correlation of Honey production on Walnut production, where Honey production can account for 51.6% of walnut production values in any given year between 1998-2012."
   ]
  },
  {
   "cell_type": "code",
   "execution_count": 140,
   "id": "840993b3-1d5b-481c-869e-0dc669a8068c",
   "metadata": {},
   "outputs": [],
   "source": [
    "# -----------------------------------------------------------------------------------------------------------------\n",
    "# Running Linear Regressions on Highly Correlated Commodity - Rapeseed Oil\n",
    "## 1 - How does rapeseed Oil production values change from 2008-2012?\n",
    "## 2 - What is the equation of the linear relationship between rapeseed oil and honey from 1998-2012?"
   ]
  },
  {
   "cell_type": "code",
   "execution_count": 141,
   "id": "2db17b96-b084-495e-b027-d40a72fc26fe",
   "metadata": {},
   "outputs": [
    {
     "data": {
      "text/html": [
       "<table class=\"dataframe\">\n",
       "<caption>A data.frame: 15 × 10</caption>\n",
       "<thead>\n",
       "\t<tr><th></th><th scope=col>X.1</th><th scope=col>X</th><th scope=col>Commodity_Description</th><th scope=col>Country_Code</th><th scope=col>Country_Name</th><th scope=col>Year</th><th scope=col>Attribute_Description</th><th scope=col>Unit_Description</th><th scope=col>Value</th><th scope=col>Category</th></tr>\n",
       "\t<tr><th></th><th scope=col>&lt;int&gt;</th><th scope=col>&lt;int&gt;</th><th scope=col>&lt;chr&gt;</th><th scope=col>&lt;chr&gt;</th><th scope=col>&lt;chr&gt;</th><th scope=col>&lt;int&gt;</th><th scope=col>&lt;chr&gt;</th><th scope=col>&lt;chr&gt;</th><th scope=col>&lt;dbl&gt;</th><th scope=col>&lt;int&gt;</th></tr>\n",
       "</thead>\n",
       "<tbody>\n",
       "\t<tr><th scope=row>112</th><td>112</td><td>4104</td><td>Oil, Rapeseed</td><td>US</td><td>United States</td><td>1998</td><td>Production</td><td>(MT)</td><td>290000</td><td>4</td></tr>\n",
       "\t<tr><th scope=row>113</th><td>113</td><td>4105</td><td>Oil, Rapeseed</td><td>US</td><td>United States</td><td>1999</td><td>Production</td><td>(MT)</td><td>319000</td><td>4</td></tr>\n",
       "\t<tr><th scope=row>114</th><td>114</td><td>4106</td><td>Oil, Rapeseed</td><td>US</td><td>United States</td><td>2000</td><td>Production</td><td>(MT)</td><td>345000</td><td>4</td></tr>\n",
       "\t<tr><th scope=row>115</th><td>115</td><td>4107</td><td>Oil, Rapeseed</td><td>US</td><td>United States</td><td>2001</td><td>Production</td><td>(MT)</td><td>287000</td><td>4</td></tr>\n",
       "\t<tr><th scope=row>116</th><td>116</td><td>4108</td><td>Oil, Rapeseed</td><td>US</td><td>United States</td><td>2002</td><td>Production</td><td>(MT)</td><td>243000</td><td>4</td></tr>\n",
       "\t<tr><th scope=row>117</th><td>117</td><td>4109</td><td>Oil, Rapeseed</td><td>US</td><td>United States</td><td>2003</td><td>Production</td><td>(MT)</td><td>291000</td><td>4</td></tr>\n",
       "\t<tr><th scope=row>118</th><td>118</td><td>4110</td><td>Oil, Rapeseed</td><td>US</td><td>United States</td><td>2004</td><td>Production</td><td>(MT)</td><td>378000</td><td>4</td></tr>\n",
       "\t<tr><th scope=row>119</th><td>119</td><td>4111</td><td>Oil, Rapeseed</td><td>US</td><td>United States</td><td>2005</td><td>Production</td><td>(MT)</td><td>421000</td><td>4</td></tr>\n",
       "\t<tr><th scope=row>120</th><td>120</td><td> 988</td><td>Oil, Rapeseed</td><td>US</td><td>United States</td><td>2006</td><td>Production</td><td>(MT)</td><td>461000</td><td>4</td></tr>\n",
       "\t<tr><th scope=row>121</th><td>121</td><td>1430</td><td>Oil, Rapeseed</td><td>US</td><td>United States</td><td>2007</td><td>Production</td><td>(MT)</td><td>507000</td><td>4</td></tr>\n",
       "\t<tr><th scope=row>122</th><td>122</td><td>4114</td><td>Oil, Rapeseed</td><td>US</td><td>United States</td><td>2008</td><td>Production</td><td>(MT)</td><td>505000</td><td>4</td></tr>\n",
       "\t<tr><th scope=row>123</th><td>123</td><td>3624</td><td>Oil, Rapeseed</td><td>US</td><td>United States</td><td>2009</td><td>Production</td><td>(MT)</td><td>498000</td><td>4</td></tr>\n",
       "\t<tr><th scope=row>124</th><td>124</td><td>5317</td><td>Oil, Rapeseed</td><td>US</td><td>United States</td><td>2010</td><td>Production</td><td>(MT)</td><td>546000</td><td>4</td></tr>\n",
       "\t<tr><th scope=row>125</th><td>125</td><td>5834</td><td>Oil, Rapeseed</td><td>US</td><td>United States</td><td>2011</td><td>Production</td><td>(MT)</td><td>578000</td><td>4</td></tr>\n",
       "\t<tr><th scope=row>126</th><td>126</td><td>6032</td><td>Oil, Rapeseed</td><td>US</td><td>United States</td><td>2012</td><td>Production</td><td>(MT)</td><td>626000</td><td>4</td></tr>\n",
       "</tbody>\n",
       "</table>\n"
      ],
      "text/latex": [
       "A data.frame: 15 × 10\n",
       "\\begin{tabular}{r|llllllllll}\n",
       "  & X.1 & X & Commodity\\_Description & Country\\_Code & Country\\_Name & Year & Attribute\\_Description & Unit\\_Description & Value & Category\\\\\n",
       "  & <int> & <int> & <chr> & <chr> & <chr> & <int> & <chr> & <chr> & <dbl> & <int>\\\\\n",
       "\\hline\n",
       "\t112 & 112 & 4104 & Oil, Rapeseed & US & United States & 1998 & Production & (MT) & 290000 & 4\\\\\n",
       "\t113 & 113 & 4105 & Oil, Rapeseed & US & United States & 1999 & Production & (MT) & 319000 & 4\\\\\n",
       "\t114 & 114 & 4106 & Oil, Rapeseed & US & United States & 2000 & Production & (MT) & 345000 & 4\\\\\n",
       "\t115 & 115 & 4107 & Oil, Rapeseed & US & United States & 2001 & Production & (MT) & 287000 & 4\\\\\n",
       "\t116 & 116 & 4108 & Oil, Rapeseed & US & United States & 2002 & Production & (MT) & 243000 & 4\\\\\n",
       "\t117 & 117 & 4109 & Oil, Rapeseed & US & United States & 2003 & Production & (MT) & 291000 & 4\\\\\n",
       "\t118 & 118 & 4110 & Oil, Rapeseed & US & United States & 2004 & Production & (MT) & 378000 & 4\\\\\n",
       "\t119 & 119 & 4111 & Oil, Rapeseed & US & United States & 2005 & Production & (MT) & 421000 & 4\\\\\n",
       "\t120 & 120 &  988 & Oil, Rapeseed & US & United States & 2006 & Production & (MT) & 461000 & 4\\\\\n",
       "\t121 & 121 & 1430 & Oil, Rapeseed & US & United States & 2007 & Production & (MT) & 507000 & 4\\\\\n",
       "\t122 & 122 & 4114 & Oil, Rapeseed & US & United States & 2008 & Production & (MT) & 505000 & 4\\\\\n",
       "\t123 & 123 & 3624 & Oil, Rapeseed & US & United States & 2009 & Production & (MT) & 498000 & 4\\\\\n",
       "\t124 & 124 & 5317 & Oil, Rapeseed & US & United States & 2010 & Production & (MT) & 546000 & 4\\\\\n",
       "\t125 & 125 & 5834 & Oil, Rapeseed & US & United States & 2011 & Production & (MT) & 578000 & 4\\\\\n",
       "\t126 & 126 & 6032 & Oil, Rapeseed & US & United States & 2012 & Production & (MT) & 626000 & 4\\\\\n",
       "\\end{tabular}\n"
      ],
      "text/markdown": [
       "\n",
       "A data.frame: 15 × 10\n",
       "\n",
       "| <!--/--> | X.1 &lt;int&gt; | X &lt;int&gt; | Commodity_Description &lt;chr&gt; | Country_Code &lt;chr&gt; | Country_Name &lt;chr&gt; | Year &lt;int&gt; | Attribute_Description &lt;chr&gt; | Unit_Description &lt;chr&gt; | Value &lt;dbl&gt; | Category &lt;int&gt; |\n",
       "|---|---|---|---|---|---|---|---|---|---|---|\n",
       "| 112 | 112 | 4104 | Oil, Rapeseed | US | United States | 1998 | Production | (MT) | 290000 | 4 |\n",
       "| 113 | 113 | 4105 | Oil, Rapeseed | US | United States | 1999 | Production | (MT) | 319000 | 4 |\n",
       "| 114 | 114 | 4106 | Oil, Rapeseed | US | United States | 2000 | Production | (MT) | 345000 | 4 |\n",
       "| 115 | 115 | 4107 | Oil, Rapeseed | US | United States | 2001 | Production | (MT) | 287000 | 4 |\n",
       "| 116 | 116 | 4108 | Oil, Rapeseed | US | United States | 2002 | Production | (MT) | 243000 | 4 |\n",
       "| 117 | 117 | 4109 | Oil, Rapeseed | US | United States | 2003 | Production | (MT) | 291000 | 4 |\n",
       "| 118 | 118 | 4110 | Oil, Rapeseed | US | United States | 2004 | Production | (MT) | 378000 | 4 |\n",
       "| 119 | 119 | 4111 | Oil, Rapeseed | US | United States | 2005 | Production | (MT) | 421000 | 4 |\n",
       "| 120 | 120 |  988 | Oil, Rapeseed | US | United States | 2006 | Production | (MT) | 461000 | 4 |\n",
       "| 121 | 121 | 1430 | Oil, Rapeseed | US | United States | 2007 | Production | (MT) | 507000 | 4 |\n",
       "| 122 | 122 | 4114 | Oil, Rapeseed | US | United States | 2008 | Production | (MT) | 505000 | 4 |\n",
       "| 123 | 123 | 3624 | Oil, Rapeseed | US | United States | 2009 | Production | (MT) | 498000 | 4 |\n",
       "| 124 | 124 | 5317 | Oil, Rapeseed | US | United States | 2010 | Production | (MT) | 546000 | 4 |\n",
       "| 125 | 125 | 5834 | Oil, Rapeseed | US | United States | 2011 | Production | (MT) | 578000 | 4 |\n",
       "| 126 | 126 | 6032 | Oil, Rapeseed | US | United States | 2012 | Production | (MT) | 626000 | 4 |\n",
       "\n"
      ],
      "text/plain": [
       "    X.1 X    Commodity_Description Country_Code Country_Name  Year\n",
       "112 112 4104 Oil, Rapeseed         US           United States 1998\n",
       "113 113 4105 Oil, Rapeseed         US           United States 1999\n",
       "114 114 4106 Oil, Rapeseed         US           United States 2000\n",
       "115 115 4107 Oil, Rapeseed         US           United States 2001\n",
       "116 116 4108 Oil, Rapeseed         US           United States 2002\n",
       "117 117 4109 Oil, Rapeseed         US           United States 2003\n",
       "118 118 4110 Oil, Rapeseed         US           United States 2004\n",
       "119 119 4111 Oil, Rapeseed         US           United States 2005\n",
       "120 120  988 Oil, Rapeseed         US           United States 2006\n",
       "121 121 1430 Oil, Rapeseed         US           United States 2007\n",
       "122 122 4114 Oil, Rapeseed         US           United States 2008\n",
       "123 123 3624 Oil, Rapeseed         US           United States 2009\n",
       "124 124 5317 Oil, Rapeseed         US           United States 2010\n",
       "125 125 5834 Oil, Rapeseed         US           United States 2011\n",
       "126 126 6032 Oil, Rapeseed         US           United States 2012\n",
       "    Attribute_Description Unit_Description Value  Category\n",
       "112 Production            (MT)             290000 4       \n",
       "113 Production            (MT)             319000 4       \n",
       "114 Production            (MT)             345000 4       \n",
       "115 Production            (MT)             287000 4       \n",
       "116 Production            (MT)             243000 4       \n",
       "117 Production            (MT)             291000 4       \n",
       "118 Production            (MT)             378000 4       \n",
       "119 Production            (MT)             421000 4       \n",
       "120 Production            (MT)             461000 4       \n",
       "121 Production            (MT)             507000 4       \n",
       "122 Production            (MT)             505000 4       \n",
       "123 Production            (MT)             498000 4       \n",
       "124 Production            (MT)             546000 4       \n",
       "125 Production            (MT)             578000 4       \n",
       "126 Production            (MT)             626000 4       "
      ]
     },
     "metadata": {},
     "output_type": "display_data"
    }
   ],
   "source": [
    "## 1 - How does rapeseed oil production values change from 2008-2012?\n",
    "## Filtering out only rapeseed oil\n",
    "RapeseedOilTimeLR <- subset(Nuts_Oils, Commodity_Description=='Oil, Rapeseed')\n",
    "RapeseedOilTimeLR"
   ]
  },
  {
   "cell_type": "code",
   "execution_count": 142,
   "id": "2c7cacd0-cdd4-45c7-898e-d4f8a6b9311e",
   "metadata": {},
   "outputs": [
    {
     "name": "stderr",
     "output_type": "stream",
     "text": [
      "`geom_smooth()` using formula 'y ~ x'\n",
      "\n"
     ]
    },
    {
     "data": {
      "image/png": "[encoded data removed]",
      "text/plain": [
       "plot without title"
      ]
     },
     "metadata": {
      "image/png": {
       "height": 420,
       "width": 420
      }
     },
     "output_type": "display_data"
    }
   ],
   "source": [
    "## Creating a scatterplot with best line fit\n",
    "RapeseedOilTimeSCAT <- ggplot(RapeseedOilTimeLR, aes(x = Year, y = Value))+ \n",
    "                geom_point() + geom_smooth(method=lm, se=FALSE)+\n",
    "                ggtitle('US Production Value of Rapeseed Oil from 1998-2012')+\n",
    "                xlab('Year')+\n",
    "                ylab('Production in Metric Tons')\n",
    "RapeseedOilTimeSCAT"
   ]
  },
  {
   "cell_type": "code",
   "execution_count": 143,
   "id": "d29c8b91-ea07-4df2-bda7-38086a913ccc",
   "metadata": {},
   "outputs": [],
   "source": [
    "### We see a positive linear relationship, with Rapeseed Oil production increasing over time"
   ]
  },
  {
   "cell_type": "code",
   "execution_count": 144,
   "id": "f948170f-8081-46f4-ac4f-25145eb86bec",
   "metadata": {},
   "outputs": [
    {
     "data": {
      "image/png": "[encoded data removed]",
      "text/plain": [
       "Plot with title \"\""
      ]
     },
     "metadata": {
      "image/png": {
       "height": 420,
       "width": 420
      }
     },
     "output_type": "display_data"
    }
   ],
   "source": [
    "## Testing for Normality\n",
    "plotNormalHistogram(RapeseedOilTimeLR$Value)"
   ]
  },
  {
   "cell_type": "code",
   "execution_count": 145,
   "id": "4a85a4cd-5cd0-4bbf-9a78-85ab2bfbf355",
   "metadata": {},
   "outputs": [],
   "source": [
    "### Looks pretty normal! Great!!"
   ]
  },
  {
   "cell_type": "code",
   "execution_count": 146,
   "id": "c07502d0-de73-4ed3-b49e-2d16fa9e6917",
   "metadata": {},
   "outputs": [
    {
     "data": {
      "text/plain": [
       "\n",
       "\tPearson's product-moment correlation\n",
       "\n",
       "data:  x and y\n",
       "t = 9.0582, df = 13, p-value = 5.597e-07\n",
       "alternative hypothesis: true correlation is not equal to 0\n",
       "95 percent confidence interval:\n",
       " 0.7954109 0.9765713\n",
       "sample estimates:\n",
       "      cor \n",
       "0.9291023 \n"
      ]
     },
     "metadata": {},
     "output_type": "display_data"
    }
   ],
   "source": [
    "## Looking at Pearson's correlation\n",
    "cor.test(RapeseedOilTimeLR$Year, RapeseedOilTimeLR$Value, method=\"pearson\", use = \"complete.obs\")"
   ]
  },
  {
   "cell_type": "code",
   "execution_count": 147,
   "id": "daac2649-b128-4eaf-a947-21cbef5608a1",
   "metadata": {},
   "outputs": [],
   "source": [
    "### Our correlation here is significant, and we can say so with 97.6% confidence!"
   ]
  },
  {
   "cell_type": "code",
   "execution_count": 150,
   "id": "280a98d9-c62f-43cd-a108-a05381ca8baf",
   "metadata": {},
   "outputs": [
    {
     "name": "stdout",
     "output_type": "stream",
     "text": [
      "\n",
      "Call:\n",
      "lm(formula = Value ~ Year, data = RapeseedOilTimeLR)\n",
      "\n",
      "Coefficients:\n",
      "(Intercept)         Year  \n",
      "  -50106333        25200  \n",
      "\n"
     ]
    }
   ],
   "source": [
    "## Running linear regression model\n",
    "lin_reg5 <- lm(Value ~ Year, RapeseedOilTimeLR)\n",
    "print(lin_reg5)"
   ]
  },
  {
   "cell_type": "code",
   "execution_count": 151,
   "id": "7c0deed0-dc5d-4eb8-bc07-e71a8903fd3d",
   "metadata": {},
   "outputs": [],
   "source": [
    "### Our linear equation for Rapeseed Oil ~ Time is Rapeseed Oil =  25200(Year) - 50106333"
   ]
  },
  {
   "cell_type": "code",
   "execution_count": 238,
   "id": "e92dfac1-2dc0-4736-8f33-55ddfaa46dff",
   "metadata": {},
   "outputs": [
    {
     "data": {
      "image/png": "[encoded data removed]",
      "text/plain": [
       "Plot with title \"\""
      ]
     },
     "metadata": {
      "image/png": {
       "height": 420,
       "width": 420
      }
     },
     "output_type": "display_data"
    }
   ],
   "source": [
    "## Testing for Homoscedasticity & Homogeneity of Variance\n",
    "par(mfrow=c(2,2))\n",
    "plot(lin_reg5)"
   ]
  },
  {
   "cell_type": "code",
   "execution_count": 239,
   "id": "f858469b-3bee-4475-ac82-7ac391a1bc08",
   "metadata": {},
   "outputs": [],
   "source": [
    "### Homogeneity is not looking great, neither is Homoscedasticity"
   ]
  },
  {
   "cell_type": "code",
   "execution_count": 240,
   "id": "d01dd42d-e7d4-4821-b22e-f424b1121271",
   "metadata": {},
   "outputs": [
    {
     "data": {
      "text/plain": [
       "\n",
       "\tstudentized Breusch-Pagan test\n",
       "\n",
       "data:  lin_reg5\n",
       "BP = 3.0153, df = 1, p-value = 0.08248\n"
      ]
     },
     "metadata": {},
     "output_type": "display_data"
    }
   ],
   "source": [
    "## Running Breusch-Pagan Test \n",
    "lmtest::bptest(lin_reg5)"
   ]
  },
  {
   "cell_type": "code",
   "execution_count": 241,
   "id": "690c38de-6345-40b6-9f43-bf62c33a3481",
   "metadata": {},
   "outputs": [
    {
     "data": {
      "text/plain": [
       "Non-constant Variance Score Test \n",
       "Variance formula: ~ fitted.values \n",
       "Chisquare = 3.17093, Df = 1, p = 0.07496"
      ]
     },
     "metadata": {},
     "output_type": "display_data"
    }
   ],
   "source": [
    "### Not significant!\n",
    "## Running NCV Test\n",
    "car::ncvTest(lin_reg5)"
   ]
  },
  {
   "cell_type": "code",
   "execution_count": 242,
   "id": "1ed4fd85-ca22-4123-976d-41b8af494010",
   "metadata": {},
   "outputs": [],
   "source": [
    "### Close call, but neither were significant! Moving onward..."
   ]
  },
  {
   "cell_type": "code",
   "execution_count": 243,
   "id": "789279a2-9cb6-4034-b8a9-9bded6167bc2",
   "metadata": {},
   "outputs": [
    {
     "data": {
      "image/png": "[encoded data removed]",
      "text/plain": [
       "plot without title"
      ]
     },
     "metadata": {
      "image/png": {
       "height": 420,
       "width": 420
      }
     },
     "output_type": "display_data"
    }
   ],
   "source": [
    "## Screening for Outliers\n",
    "lev = hat(model.matrix(lin_reg5))\n",
    "plot(lev)"
   ]
  },
  {
   "cell_type": "code",
   "execution_count": 244,
   "id": "2eabf803-a891-4140-a4db-6024f0512726",
   "metadata": {},
   "outputs": [
    {
     "name": "stdout",
     "output_type": "stream",
     "text": [
      "Potentially influential observations of\n",
      "\t lm(formula = Value ~ Year, data = RapeseedOilTimeLR) :\n",
      "\n",
      "    dfb.1_ dfb.Year dffit cov.r   cook.d hat  \n",
      "116 -0.54   0.54    -0.94  0.47_*  0.29   0.10\n"
     ]
    }
   ],
   "source": [
    "### Our commodity ~ time regressions are all looking fairly the same with the data spread. Something to look further into?\n",
    "### Two points are still fairly high, so we will analyze further\n",
    "summary(influence.measures(lin_reg5))"
   ]
  },
  {
   "cell_type": "code",
   "execution_count": 245,
   "id": "630fe6b1-938e-4f4f-93f5-4078b6434202",
   "metadata": {},
   "outputs": [],
   "source": [
    "### We're making some close calls with these assumptions, but we have passed them!"
   ]
  },
  {
   "cell_type": "code",
   "execution_count": 152,
   "id": "e75dd5ee-56d8-49ec-99e9-a50ca88dba9d",
   "metadata": {},
   "outputs": [
    {
     "data": {
      "text/plain": [
       "\n",
       "Call:\n",
       "lm(formula = Value ~ Year, data = RapeseedOilTimeLR)\n",
       "\n",
       "Residuals:\n",
       "    Min      1Q  Median      3Q     Max \n",
       "-101067  -19467    7133   33433   51333 \n",
       "\n",
       "Coefficients:\n",
       "             Estimate Std. Error t value Pr(>|t|)    \n",
       "(Intercept) -50106333    5577949  -8.983 6.15e-07 ***\n",
       "Year            25200       2782   9.058 5.60e-07 ***\n",
       "---\n",
       "Signif. codes:  0 '***' 0.001 '**' 0.01 '*' 0.05 '.' 0.1 ' ' 1\n",
       "\n",
       "Residual standard error: 46550 on 13 degrees of freedom\n",
       "Multiple R-squared:  0.8632,\tAdjusted R-squared:  0.8527 \n",
       "F-statistic: 82.05 on 1 and 13 DF,  p-value: 5.597e-07\n"
      ]
     },
     "metadata": {},
     "output_type": "display_data"
    }
   ],
   "source": [
    "summary(lin_reg5)"
   ]
  },
  {
   "cell_type": "code",
   "execution_count": 153,
   "id": "0feb1d0f-1bd3-4737-9f10-30358a917a35",
   "metadata": {},
   "outputs": [],
   "source": [
    "### Our summary tells us that the correlation between the Production of Rapeseed Oil and Year is very significant, where year accounts for 85% impact on the production values. "
   ]
  },
  {
   "cell_type": "code",
   "execution_count": 154,
   "id": "d3eac568-0995-4428-9ea0-0988d2a150ed",
   "metadata": {},
   "outputs": [],
   "source": [
    "## - 2 What is the equation of the linear relationship between Rapeseed Oil and honey from 1998-2012?"
   ]
  },
  {
   "cell_type": "code",
   "execution_count": 155,
   "id": "e3c42ca0-df28-4d59-91e8-839bdcb70ad4",
   "metadata": {},
   "outputs": [
    {
     "name": "stderr",
     "output_type": "stream",
     "text": [
      "`geom_smooth()` using formula 'y ~ x'\n",
      "\n"
     ]
    },
    {
     "data": {
      "image/png": "[encoded data removed]",
      "text/plain": [
       "plot without title"
      ]
     },
     "metadata": {
      "image/png": {
       "height": 420,
       "width": 420
      }
     },
     "output_type": "display_data"
    }
   ],
   "source": [
    "## Creating a scatterplot with best line fit\n",
    "RapeseedOilHoneySCAT <- ggplot(Nuts_OilsYear, aes(x = Honey, y = RapeseedOil))+ \n",
    "                geom_point() + geom_smooth(method=lm, se=FALSE)+\n",
    "                ggtitle('US Production Value of Rapeseed Oil ~ Honey, 1998-2012')+\n",
    "                xlab('Honey Production in MT)')+\n",
    "                ylab('Rapeseed Oil Production in MT')\n",
    "RapeseedOilHoneySCAT"
   ]
  },
  {
   "cell_type": "code",
   "execution_count": 159,
   "id": "fc3876f4-e310-4091-b391-8e9733447433",
   "metadata": {},
   "outputs": [],
   "source": [
    "### We can see a negative correlation here between Rapeseed Oil and Honey, there is a lot ov variance here, so we will have to see how confident we can be about our accuracy."
   ]
  },
  {
   "cell_type": "code",
   "execution_count": 160,
   "id": "12ceb407-8bc0-4322-a7e1-438389050b8f",
   "metadata": {},
   "outputs": [
    {
     "data": {
      "text/plain": [
       "\n",
       "\tPearson's product-moment correlation\n",
       "\n",
       "data:  x and y\n",
       "t = -3.9034, df = 13, p-value = 0.001814\n",
       "alternative hypothesis: true correlation is not equal to 0\n",
       "95 percent confidence interval:\n",
       " -0.9059397 -0.3564485\n",
       "sample estimates:\n",
       "       cor \n",
       "-0.7345804 \n"
      ]
     },
     "metadata": {},
     "output_type": "display_data"
    }
   ],
   "source": [
    "## Running Pearson's correlation\n",
    "cor.test(Nuts_OilsYear$Honey, Nuts_OilsYear$RapeseedOil, method=\"pearson\", use = \"complete.obs\")"
   ]
  },
  {
   "cell_type": "code",
   "execution_count": 161,
   "id": "feb472a9-e902-4305-9763-62a4d006c197",
   "metadata": {},
   "outputs": [],
   "source": [
    "### Just like Walnuts, our correlation is significant, but our confidence interval is low, at 35.6%"
   ]
  },
  {
   "cell_type": "code",
   "execution_count": 162,
   "id": "3368263b-00bd-4d59-9254-b31d4eef22f9",
   "metadata": {},
   "outputs": [
    {
     "name": "stdout",
     "output_type": "stream",
     "text": [
      "\n",
      "Call:\n",
      "lm(formula = RapeseedOil ~ Honey, data = Nuts_OilsYear)\n",
      "\n",
      "Coefficients:\n",
      "(Intercept)        Honey  \n",
      "  1.028e+06   -7.709e+00  \n",
      "\n"
     ]
    }
   ],
   "source": [
    "## Running linear regression model\n",
    "lin_reg6 <- lm(RapeseedOil ~ Honey, Nuts_OilsYear)\n",
    "print(lin_reg6)"
   ]
  },
  {
   "cell_type": "code",
   "execution_count": 163,
   "id": "15121867-e2e9-4a04-8eaf-58728c0f7083",
   "metadata": {},
   "outputs": [],
   "source": [
    "### Our linear equation for RapeseedOil ~ Honey is Rapeseed Oil = -7.709(Honey) + 1,028,000"
   ]
  },
  {
   "cell_type": "code",
   "execution_count": 246,
   "id": "9edf3ffe-16e4-4ab0-bced-c4a8829193b3",
   "metadata": {},
   "outputs": [
    {
     "data": {
      "image/png": "[encoded data removed]",
      "text/plain": [
       "Plot with title \"\""
      ]
     },
     "metadata": {
      "image/png": {
       "height": 420,
       "width": 420
      }
     },
     "output_type": "display_data"
    }
   ],
   "source": [
    "## Testing for Homoscedasticity & Homogeneity of Variance\n",
    "par(mfrow=c(2,2))\n",
    "plot(lin_reg6)"
   ]
  },
  {
   "cell_type": "code",
   "execution_count": null,
   "id": "2c142153-a1dd-4fb6-92a4-415d40d0523f",
   "metadata": {},
   "outputs": [],
   "source": [
    "### Homogeneity not the best. Heteroscedasticity is looking better than some of the other models. "
   ]
  },
  {
   "cell_type": "code",
   "execution_count": 247,
   "id": "4f09ec11-2017-485b-b586-70cdb0fea9b9",
   "metadata": {},
   "outputs": [
    {
     "data": {
      "text/plain": [
       "\n",
       "\tstudentized Breusch-Pagan test\n",
       "\n",
       "data:  lin_reg6\n",
       "BP = 0.0015035, df = 1, p-value = 0.9691\n"
      ]
     },
     "metadata": {},
     "output_type": "display_data"
    }
   ],
   "source": [
    "## Breusch-Pagan Test\n",
    "lmtest::bptest(lin_reg6)"
   ]
  },
  {
   "cell_type": "code",
   "execution_count": 248,
   "id": "b98645c1-9c6a-493d-bd82-5b601d4e6b26",
   "metadata": {},
   "outputs": [
    {
     "data": {
      "text/plain": [
       "Non-constant Variance Score Test \n",
       "Variance formula: ~ fitted.values \n",
       "Chisquare = 0.001530842, Df = 1, p = 0.96879"
      ]
     },
     "metadata": {},
     "output_type": "display_data"
    }
   ],
   "source": [
    "### Not significant!\n",
    "## Running NCV Test\n",
    "car::ncvTest(lin_reg6)"
   ]
  },
  {
   "cell_type": "code",
   "execution_count": null,
   "id": "b7b9c569-8ddf-4153-88ce-34bcc058b3fb",
   "metadata": {},
   "outputs": [],
   "source": [
    "### Also not significant!"
   ]
  },
  {
   "cell_type": "code",
   "execution_count": 249,
   "id": "5c31a3cf-774e-4b6a-9d7e-d4c90bbd3da4",
   "metadata": {},
   "outputs": [
    {
     "data": {
      "image/png": "[encoded data removed]",
      "text/plain": [
       "plot without title"
      ]
     },
     "metadata": {
      "image/png": {
       "height": 420,
       "width": 420
      }
     },
     "output_type": "display_data"
    }
   ],
   "source": [
    "## Screening for Outliers\n",
    "lev = hat(model.matrix(lin_reg6))\n",
    "plot(lev)"
   ]
  },
  {
   "cell_type": "code",
   "execution_count": 250,
   "id": "3ad5dd12-9d81-4888-900d-fd7cb5f023b1",
   "metadata": {},
   "outputs": [
    {
     "name": "stdout",
     "output_type": "stream",
     "text": [
      "Potentially influential observations of\n",
      "\t lm(formula = RapeseedOil ~ Honey, data = Nuts_OilsYear) :\n",
      "\n",
      "  dfb.1_ dfb.Hony dffit cov.r   cook.d hat  \n",
      "1 -0.21   0.23     0.26  1.62_*  0.04   0.29\n",
      "5 -0.19   0.08    -0.75  0.47_*  0.18   0.07\n"
     ]
    }
   ],
   "source": [
    "### Again two high plot points, we'll have to check our DFFITS and DFBETAS scores\n",
    "summary(influence.measures(lin_reg6))"
   ]
  },
  {
   "cell_type": "code",
   "execution_count": 251,
   "id": "56c01d35-012d-4b64-839a-04a424fc2f5e",
   "metadata": {},
   "outputs": [],
   "source": [
    "### Nothing over 1! We are good to go."
   ]
  },
  {
   "cell_type": "code",
   "execution_count": 165,
   "id": "985c8c3c-aa39-4237-ba36-35ee47b4714a",
   "metadata": {},
   "outputs": [
    {
     "data": {
      "text/plain": [
       "\n",
       "Call:\n",
       "lm(formula = RapeseedOil ~ Honey, data = Nuts_OilsYear)\n",
       "\n",
       "Residuals:\n",
       "    Min      1Q  Median      3Q     Max \n",
       "-186195  -25271   -1364   55730  130894 \n",
       "\n",
       "Coefficients:\n",
       "              Estimate Std. Error t value Pr(>|t|)    \n",
       "(Intercept)  1.028e+06  1.574e+05   6.531 1.91e-05 ***\n",
       "Honey       -7.709e+00  1.975e+00  -3.903  0.00181 ** \n",
       "---\n",
       "Signif. codes:  0 '***' 0.001 '**' 0.01 '*' 0.05 '.' 0.1 ' ' 1\n",
       "\n",
       "Residual standard error: 85410 on 13 degrees of freedom\n",
       "Multiple R-squared:  0.5396,\tAdjusted R-squared:  0.5042 \n",
       "F-statistic: 15.24 on 1 and 13 DF,  p-value: 0.001814\n"
      ]
     },
     "metadata": {},
     "output_type": "display_data"
    }
   ],
   "source": [
    "## Model Summary\n",
    "summary(lin_reg6)"
   ]
  },
  {
   "cell_type": "code",
   "execution_count": 166,
   "id": "75fc5332-da44-4bc5-a1fa-08f5c4f6e4d5",
   "metadata": {},
   "outputs": [],
   "source": [
    "### Although we say this with fairly low confidence, there is a significant correlation between the production of Rapeseed Oil and Honey, where Honey can account for 50% of the production value of Rapeseed Oil on any given year!"
   ]
  },
  {
   "cell_type": "code",
   "execution_count": 167,
   "id": "364dca06-8fd5-4296-af10-acb95de96678",
   "metadata": {},
   "outputs": [],
   "source": [
    "# -----------------------------------------------------------------------------------------------------------------\n",
    "# Running Linear Regressions on Highly Correlated Commodity - Soybean Oil \n",
    "## 1 - How do Soybean Oil production values change from 2008-2012?\n",
    "## 2 - What is the equation of the linear relationship between Soybean Oil and honey from 1998-2012?"
   ]
  },
  {
   "cell_type": "code",
   "execution_count": 168,
   "id": "77bf8479-f1ce-4a96-9faf-8ad7c67d01ab",
   "metadata": {
    "collapsed": true,
    "jupyter": {
     "outputs_hidden": true
    },
    "tags": []
   },
   "outputs": [
    {
     "data": {
      "text/html": [
       "<table class=\"dataframe\">\n",
       "<caption>A data.frame: 15 × 10</caption>\n",
       "<thead>\n",
       "\t<tr><th></th><th scope=col>X.1</th><th scope=col>X</th><th scope=col>Commodity_Description</th><th scope=col>Country_Code</th><th scope=col>Country_Name</th><th scope=col>Year</th><th scope=col>Attribute_Description</th><th scope=col>Unit_Description</th><th scope=col>Value</th><th scope=col>Category</th></tr>\n",
       "\t<tr><th></th><th scope=col>&lt;int&gt;</th><th scope=col>&lt;int&gt;</th><th scope=col>&lt;chr&gt;</th><th scope=col>&lt;chr&gt;</th><th scope=col>&lt;chr&gt;</th><th scope=col>&lt;int&gt;</th><th scope=col>&lt;chr&gt;</th><th scope=col>&lt;chr&gt;</th><th scope=col>&lt;dbl&gt;</th><th scope=col>&lt;int&gt;</th></tr>\n",
       "</thead>\n",
       "<tbody>\n",
       "\t<tr><th scope=row>97</th><td> 97</td><td> 374</td><td>Oil, Soybean</td><td>US</td><td>United States</td><td>1998</td><td>Production</td><td>(MT)</td><td>8202000</td><td>4</td></tr>\n",
       "\t<tr><th scope=row>98</th><td> 98</td><td> 375</td><td>Oil, Soybean</td><td>US</td><td>United States</td><td>1999</td><td>Production</td><td>(MT)</td><td>8085000</td><td>4</td></tr>\n",
       "\t<tr><th scope=row>99</th><td> 99</td><td> 376</td><td>Oil, Soybean</td><td>US</td><td>United States</td><td>2000</td><td>Production</td><td>(MT)</td><td>8355000</td><td>4</td></tr>\n",
       "\t<tr><th scope=row>100</th><td>100</td><td> 377</td><td>Oil, Soybean</td><td>US</td><td>United States</td><td>2001</td><td>Production</td><td>(MT)</td><td>8572000</td><td>4</td></tr>\n",
       "\t<tr><th scope=row>101</th><td>101</td><td> 378</td><td>Oil, Soybean</td><td>US</td><td>United States</td><td>2002</td><td>Production</td><td>(MT)</td><td>8360000</td><td>4</td></tr>\n",
       "\t<tr><th scope=row>102</th><td>102</td><td> 379</td><td>Oil, Soybean</td><td>US</td><td>United States</td><td>2003</td><td>Production</td><td>(MT)</td><td>7748000</td><td>4</td></tr>\n",
       "\t<tr><th scope=row>103</th><td>103</td><td>1431</td><td>Oil, Soybean</td><td>US</td><td>United States</td><td>2004</td><td>Production</td><td>(MT)</td><td>8782000</td><td>4</td></tr>\n",
       "\t<tr><th scope=row>104</th><td>104</td><td> 684</td><td>Oil, Soybean</td><td>US</td><td>United States</td><td>2005</td><td>Production</td><td>(MT)</td><td>9250000</td><td>4</td></tr>\n",
       "\t<tr><th scope=row>105</th><td>105</td><td>7071</td><td>Oil, Soybean</td><td>US</td><td>United States</td><td>2006</td><td>Production</td><td>(MT)</td><td>9294000</td><td>4</td></tr>\n",
       "\t<tr><th scope=row>106</th><td>106</td><td>2225</td><td>Oil, Soybean</td><td>US</td><td>United States</td><td>2007</td><td>Production</td><td>(MT)</td><td>9682000</td><td>4</td></tr>\n",
       "\t<tr><th scope=row>107</th><td>107</td><td>2110</td><td>Oil, Soybean</td><td>US</td><td>United States</td><td>2008</td><td>Production</td><td>(MT)</td><td>9514000</td><td>4</td></tr>\n",
       "\t<tr><th scope=row>108</th><td>108</td><td>7394</td><td>Oil, Soybean</td><td>US</td><td>United States</td><td>2009</td><td>Production</td><td>(MT)</td><td>8897000</td><td>4</td></tr>\n",
       "\t<tr><th scope=row>109</th><td>109</td><td>5082</td><td>Oil, Soybean</td><td>US</td><td>United States</td><td>2010</td><td>Production</td><td>(MT)</td><td>8659000</td><td>4</td></tr>\n",
       "\t<tr><th scope=row>110</th><td>110</td><td>6308</td><td>Oil, Soybean</td><td>US</td><td>United States</td><td>2011</td><td>Production</td><td>(MT)</td><td>8979000</td><td>4</td></tr>\n",
       "\t<tr><th scope=row>111</th><td>111</td><td>8084</td><td>Oil, Soybean</td><td>US</td><td>United States</td><td>2012</td><td>Production</td><td>(MT)</td><td>8990000</td><td>4</td></tr>\n",
       "</tbody>\n",
       "</table>\n"
      ],
      "text/latex": [
       "A data.frame: 15 × 10\n",
       "\\begin{tabular}{r|llllllllll}\n",
       "  & X.1 & X & Commodity\\_Description & Country\\_Code & Country\\_Name & Year & Attribute\\_Description & Unit\\_Description & Value & Category\\\\\n",
       "  & <int> & <int> & <chr> & <chr> & <chr> & <int> & <chr> & <chr> & <dbl> & <int>\\\\\n",
       "\\hline\n",
       "\t97 &  97 &  374 & Oil, Soybean & US & United States & 1998 & Production & (MT) & 8202000 & 4\\\\\n",
       "\t98 &  98 &  375 & Oil, Soybean & US & United States & 1999 & Production & (MT) & 8085000 & 4\\\\\n",
       "\t99 &  99 &  376 & Oil, Soybean & US & United States & 2000 & Production & (MT) & 8355000 & 4\\\\\n",
       "\t100 & 100 &  377 & Oil, Soybean & US & United States & 2001 & Production & (MT) & 8572000 & 4\\\\\n",
       "\t101 & 101 &  378 & Oil, Soybean & US & United States & 2002 & Production & (MT) & 8360000 & 4\\\\\n",
       "\t102 & 102 &  379 & Oil, Soybean & US & United States & 2003 & Production & (MT) & 7748000 & 4\\\\\n",
       "\t103 & 103 & 1431 & Oil, Soybean & US & United States & 2004 & Production & (MT) & 8782000 & 4\\\\\n",
       "\t104 & 104 &  684 & Oil, Soybean & US & United States & 2005 & Production & (MT) & 9250000 & 4\\\\\n",
       "\t105 & 105 & 7071 & Oil, Soybean & US & United States & 2006 & Production & (MT) & 9294000 & 4\\\\\n",
       "\t106 & 106 & 2225 & Oil, Soybean & US & United States & 2007 & Production & (MT) & 9682000 & 4\\\\\n",
       "\t107 & 107 & 2110 & Oil, Soybean & US & United States & 2008 & Production & (MT) & 9514000 & 4\\\\\n",
       "\t108 & 108 & 7394 & Oil, Soybean & US & United States & 2009 & Production & (MT) & 8897000 & 4\\\\\n",
       "\t109 & 109 & 5082 & Oil, Soybean & US & United States & 2010 & Production & (MT) & 8659000 & 4\\\\\n",
       "\t110 & 110 & 6308 & Oil, Soybean & US & United States & 2011 & Production & (MT) & 8979000 & 4\\\\\n",
       "\t111 & 111 & 8084 & Oil, Soybean & US & United States & 2012 & Production & (MT) & 8990000 & 4\\\\\n",
       "\\end{tabular}\n"
      ],
      "text/markdown": [
       "\n",
       "A data.frame: 15 × 10\n",
       "\n",
       "| <!--/--> | X.1 &lt;int&gt; | X &lt;int&gt; | Commodity_Description &lt;chr&gt; | Country_Code &lt;chr&gt; | Country_Name &lt;chr&gt; | Year &lt;int&gt; | Attribute_Description &lt;chr&gt; | Unit_Description &lt;chr&gt; | Value &lt;dbl&gt; | Category &lt;int&gt; |\n",
       "|---|---|---|---|---|---|---|---|---|---|---|\n",
       "| 97 |  97 |  374 | Oil, Soybean | US | United States | 1998 | Production | (MT) | 8202000 | 4 |\n",
       "| 98 |  98 |  375 | Oil, Soybean | US | United States | 1999 | Production | (MT) | 8085000 | 4 |\n",
       "| 99 |  99 |  376 | Oil, Soybean | US | United States | 2000 | Production | (MT) | 8355000 | 4 |\n",
       "| 100 | 100 |  377 | Oil, Soybean | US | United States | 2001 | Production | (MT) | 8572000 | 4 |\n",
       "| 101 | 101 |  378 | Oil, Soybean | US | United States | 2002 | Production | (MT) | 8360000 | 4 |\n",
       "| 102 | 102 |  379 | Oil, Soybean | US | United States | 2003 | Production | (MT) | 7748000 | 4 |\n",
       "| 103 | 103 | 1431 | Oil, Soybean | US | United States | 2004 | Production | (MT) | 8782000 | 4 |\n",
       "| 104 | 104 |  684 | Oil, Soybean | US | United States | 2005 | Production | (MT) | 9250000 | 4 |\n",
       "| 105 | 105 | 7071 | Oil, Soybean | US | United States | 2006 | Production | (MT) | 9294000 | 4 |\n",
       "| 106 | 106 | 2225 | Oil, Soybean | US | United States | 2007 | Production | (MT) | 9682000 | 4 |\n",
       "| 107 | 107 | 2110 | Oil, Soybean | US | United States | 2008 | Production | (MT) | 9514000 | 4 |\n",
       "| 108 | 108 | 7394 | Oil, Soybean | US | United States | 2009 | Production | (MT) | 8897000 | 4 |\n",
       "| 109 | 109 | 5082 | Oil, Soybean | US | United States | 2010 | Production | (MT) | 8659000 | 4 |\n",
       "| 110 | 110 | 6308 | Oil, Soybean | US | United States | 2011 | Production | (MT) | 8979000 | 4 |\n",
       "| 111 | 111 | 8084 | Oil, Soybean | US | United States | 2012 | Production | (MT) | 8990000 | 4 |\n",
       "\n"
      ],
      "text/plain": [
       "    X.1 X    Commodity_Description Country_Code Country_Name  Year\n",
       "97   97  374 Oil, Soybean          US           United States 1998\n",
       "98   98  375 Oil, Soybean          US           United States 1999\n",
       "99   99  376 Oil, Soybean          US           United States 2000\n",
       "100 100  377 Oil, Soybean          US           United States 2001\n",
       "101 101  378 Oil, Soybean          US           United States 2002\n",
       "102 102  379 Oil, Soybean          US           United States 2003\n",
       "103 103 1431 Oil, Soybean          US           United States 2004\n",
       "104 104  684 Oil, Soybean          US           United States 2005\n",
       "105 105 7071 Oil, Soybean          US           United States 2006\n",
       "106 106 2225 Oil, Soybean          US           United States 2007\n",
       "107 107 2110 Oil, Soybean          US           United States 2008\n",
       "108 108 7394 Oil, Soybean          US           United States 2009\n",
       "109 109 5082 Oil, Soybean          US           United States 2010\n",
       "110 110 6308 Oil, Soybean          US           United States 2011\n",
       "111 111 8084 Oil, Soybean          US           United States 2012\n",
       "    Attribute_Description Unit_Description Value   Category\n",
       "97  Production            (MT)             8202000 4       \n",
       "98  Production            (MT)             8085000 4       \n",
       "99  Production            (MT)             8355000 4       \n",
       "100 Production            (MT)             8572000 4       \n",
       "101 Production            (MT)             8360000 4       \n",
       "102 Production            (MT)             7748000 4       \n",
       "103 Production            (MT)             8782000 4       \n",
       "104 Production            (MT)             9250000 4       \n",
       "105 Production            (MT)             9294000 4       \n",
       "106 Production            (MT)             9682000 4       \n",
       "107 Production            (MT)             9514000 4       \n",
       "108 Production            (MT)             8897000 4       \n",
       "109 Production            (MT)             8659000 4       \n",
       "110 Production            (MT)             8979000 4       \n",
       "111 Production            (MT)             8990000 4       "
      ]
     },
     "metadata": {},
     "output_type": "display_data"
    }
   ],
   "source": [
    "## 1 - How do Soybean Oil production values change from 2008-2012?\n",
    "## Filtering out only Soybean Oil\n",
    "SoybeanOilTimeLR <- subset(Nuts_Oils, Commodity_Description=='Oil, Soybean')\n",
    "SoybeanOilTimeLR"
   ]
  },
  {
   "cell_type": "code",
   "execution_count": 169,
   "id": "3557faae-2496-4735-9a2d-abf3b1e52c6c",
   "metadata": {},
   "outputs": [
    {
     "name": "stderr",
     "output_type": "stream",
     "text": [
      "`geom_smooth()` using formula 'y ~ x'\n",
      "\n"
     ]
    },
    {
     "data": {
      "image/png": "[encoded data removed]",
      "text/plain": [
       "plot without title"
      ]
     },
     "metadata": {
      "image/png": {
       "height": 420,
       "width": 420
      }
     },
     "output_type": "display_data"
    }
   ],
   "source": [
    "## Creating a scatterplot with best line fit\n",
    "SoybeanOilTimeSCAT <- ggplot(SoybeanOilTimeLR, aes(x = Year, y = Value))+ \n",
    "                geom_point() + geom_smooth(method=lm, se=FALSE)+\n",
    "                ggtitle('US Production Value of Soybean Oil from 1998-2012')+\n",
    "                xlab('Year')+\n",
    "                ylab('Production in Metric Tons')\n",
    "SoybeanOilTimeSCAT"
   ]
  },
  {
   "cell_type": "code",
   "execution_count": 170,
   "id": "115eb99f-d10a-473e-83d4-d70a7846fefe",
   "metadata": {},
   "outputs": [],
   "source": [
    "### There is a definite trend of increased production over time, but the variance in our scatterplot looks like a cone pattern that we do not want to see. Some adjustment may be needed for this model."
   ]
  },
  {
   "cell_type": "code",
   "execution_count": 171,
   "id": "d6209382-618a-4dcc-b728-4b178cbd49d8",
   "metadata": {},
   "outputs": [
    {
     "data": {
      "image/png": "[encoded data removed]",
      "text/plain": [
       "Plot with title \"\""
      ]
     },
     "metadata": {
      "image/png": {
       "height": 420,
       "width": 420
      }
     },
     "output_type": "display_data"
    }
   ],
   "source": [
    "## Testing for Normality\n",
    "plotNormalHistogram(SoybeanOilTimeLR$Value)"
   ]
  },
  {
   "cell_type": "code",
   "execution_count": 172,
   "id": "a4a38f8c-cef4-415c-a1e1-8998985edbfe",
   "metadata": {},
   "outputs": [],
   "source": [
    "### Our data here looke very normal, great news!"
   ]
  },
  {
   "cell_type": "code",
   "execution_count": 173,
   "id": "5e867b9c-0dbf-4b16-af20-a20ae0f99c66",
   "metadata": {},
   "outputs": [
    {
     "data": {
      "text/plain": [
       "\n",
       "\tPearson's product-moment correlation\n",
       "\n",
       "data:  x and y\n",
       "t = 2.897, df = 13, p-value = 0.01248\n",
       "alternative hypothesis: true correlation is not equal to 0\n",
       "95 percent confidence interval:\n",
       " 0.1679790 0.8620246\n",
       "sample estimates:\n",
       "      cor \n",
       "0.6263452 \n"
      ]
     },
     "metadata": {},
     "output_type": "display_data"
    }
   ],
   "source": [
    "## Looking at Pearson's correlation\n",
    "cor.test(SoybeanOilTimeLR$Year, SoybeanOilTimeLR$Value, method=\"pearson\", use = \"complete.obs\")"
   ]
  },
  {
   "cell_type": "code",
   "execution_count": 174,
   "id": "5e42b1a5-6d16-4b1a-a189-2dc0a6718df7",
   "metadata": {},
   "outputs": [],
   "source": [
    "### Our correlation is significant! We can be 86% confident that year impacts the production value of Soybean oil!"
   ]
  },
  {
   "cell_type": "code",
   "execution_count": 175,
   "id": "be04c2b9-9061-4089-bf2e-62dbe7eaea06",
   "metadata": {},
   "outputs": [
    {
     "name": "stdout",
     "output_type": "stream",
     "text": [
      "\n",
      "Call:\n",
      "lm(formula = Value ~ Year, data = SoybeanOilTimeLR)\n",
      "\n",
      "Coefficients:\n",
      "(Intercept)         Year  \n",
      " -145498174        76936  \n",
      "\n"
     ]
    }
   ],
   "source": [
    "## Running linear regression model\n",
    "lin_reg7 <- lm(Value ~ Year, SoybeanOilTimeLR)\n",
    "print(lin_reg7)"
   ]
  },
  {
   "cell_type": "code",
   "execution_count": 177,
   "id": "23356577-6fe9-45ac-ac0e-21d3b6fd97c7",
   "metadata": {},
   "outputs": [],
   "source": [
    "### Our Soybean Oil ~ Time equation is: Soybean Oil = 76,936(Year) - 145,498,174"
   ]
  },
  {
   "cell_type": "code",
   "execution_count": 252,
   "id": "6137386e-86ce-4924-8460-8f83a6d1a3e8",
   "metadata": {},
   "outputs": [
    {
     "data": {
      "image/png": "[encoded data removed]",
      "text/plain": [
       "Plot with title \"\""
      ]
     },
     "metadata": {
      "image/png": {
       "height": 420,
       "width": 420
      }
     },
     "output_type": "display_data"
    }
   ],
   "source": [
    "## Testing for Homoscedasticity & Homogeneity of Variance\n",
    "par(mfrow=c(2,2))\n",
    "plot(lin_reg7)"
   ]
  },
  {
   "cell_type": "code",
   "execution_count": 253,
   "id": "5a98d2af-ef1f-4487-a6c4-ba5e20907966",
   "metadata": {},
   "outputs": [],
   "source": [
    "### Again Homogeneity not great. Looks like something we would have to definitely adjust if this were a high-stakes project. \n",
    "### Heteroscedasticity is not great either, but hopefully we will pass our tests, like with the others. "
   ]
  },
  {
   "cell_type": "code",
   "execution_count": 254,
   "id": "8764076a-fb45-4073-9ed4-83ec8bc7c289",
   "metadata": {},
   "outputs": [
    {
     "data": {
      "text/plain": [
       "\n",
       "\tstudentized Breusch-Pagan test\n",
       "\n",
       "data:  lin_reg7\n",
       "BP = 0.52653, df = 1, p-value = 0.4681\n"
      ]
     },
     "metadata": {},
     "output_type": "display_data"
    }
   ],
   "source": [
    "## Breusch-Pagan Test\n",
    "lmtest::bptest(lin_reg7)"
   ]
  },
  {
   "cell_type": "code",
   "execution_count": 255,
   "id": "20d84ed6-e7a6-48f4-941b-79a2b97e2d46",
   "metadata": {},
   "outputs": [
    {
     "data": {
      "text/plain": [
       "Non-constant Variance Score Test \n",
       "Variance formula: ~ fitted.values \n",
       "Chisquare = 0.4191224, Df = 1, p = 0.51738"
      ]
     },
     "metadata": {},
     "output_type": "display_data"
    }
   ],
   "source": [
    "### Not significant!\n",
    "## Running NCV Test\n",
    "car::ncvTest(lin_reg7)"
   ]
  },
  {
   "cell_type": "code",
   "execution_count": null,
   "id": "d6060671-9939-4bb6-8b4e-08a295f9e870",
   "metadata": {},
   "outputs": [],
   "source": [
    "### Also not significant!"
   ]
  },
  {
   "cell_type": "code",
   "execution_count": 256,
   "id": "909a5d37-cca6-40d0-82b0-2d973cf00044",
   "metadata": {},
   "outputs": [
    {
     "data": {
      "image/png": "[encoded data removed]",
      "text/plain": [
       "plot without title"
      ]
     },
     "metadata": {
      "image/png": {
       "height": 420,
       "width": 420
      }
     },
     "output_type": "display_data"
    }
   ],
   "source": [
    "## Screening for Outliers\n",
    "lev = hat(model.matrix(lin_reg7))\n",
    "plot(lev)"
   ]
  },
  {
   "cell_type": "code",
   "execution_count": 257,
   "id": "bd0df874-9dab-45a4-b25c-88dcc99829dd",
   "metadata": {},
   "outputs": [
    {
     "name": "stdout",
     "output_type": "stream",
     "text": [
      "Potentially influential observations of\n",
      "\t lm(formula = Value ~ Year, data = SoybeanOilTimeLR) :\n",
      "\n",
      "   dfb.1_ dfb.Year dffit cov.r   cook.d hat  \n",
      "97 -0.02   0.02    -0.02  1.55_*  0.00   0.24\n"
     ]
    }
   ],
   "source": [
    "### Again, the sime time regression spread as all the others, with two outliers at either end of the u pattern\n",
    "summary(influence.measures(lin_reg7))"
   ]
  },
  {
   "cell_type": "code",
   "execution_count": 258,
   "id": "da44de3a-0d20-4c8e-bde3-93ae29773738",
   "metadata": {},
   "outputs": [],
   "source": [
    "### Nothing over one, moving forward!"
   ]
  },
  {
   "cell_type": "code",
   "execution_count": 178,
   "id": "41f229d0-22cb-4227-b2a3-144f7c7c8b6d",
   "metadata": {},
   "outputs": [
    {
     "data": {
      "text/plain": [
       "\n",
       "Call:\n",
       "lm(formula = Value ~ Year, data = SoybeanOilTimeLR)\n",
       "\n",
       "Residuals:\n",
       "    Min      1Q  Median      3Q     Max \n",
       "-856062 -225933  -18255  290470  770195 \n",
       "\n",
       "Coefficients:\n",
       "              Estimate Std. Error t value Pr(>|t|)  \n",
       "(Intercept) -145498174   53247547  -2.732   0.0171 *\n",
       "Year             76936      26557   2.897   0.0125 *\n",
       "---\n",
       "Signif. codes:  0 '***' 0.001 '**' 0.01 '*' 0.05 '.' 0.1 ' ' 1\n",
       "\n",
       "Residual standard error: 444400 on 13 degrees of freedom\n",
       "Multiple R-squared:  0.3923,\tAdjusted R-squared:  0.3456 \n",
       "F-statistic: 8.392 on 1 and 13 DF,  p-value: 0.01248\n"
      ]
     },
     "metadata": {},
     "output_type": "display_data"
    }
   ],
   "source": [
    "## Model Summary\n",
    "summary(lin_reg7)"
   ]
  },
  {
   "cell_type": "code",
   "execution_count": 179,
   "id": "34cb1fca-d76f-4e7c-8e2c-2677199eed8a",
   "metadata": {},
   "outputs": [],
   "source": [
    "### Our values are significant, the summary tells us that year can account for 35% of the production value of Soybean Oil."
   ]
  },
  {
   "cell_type": "code",
   "execution_count": 180,
   "id": "b43246ed-fada-488c-be8c-33fb746d18f1",
   "metadata": {},
   "outputs": [],
   "source": [
    "## - 2 What is the equation of the linear relationship between Rapeseed Oil and honey from 1998-2012?"
   ]
  },
  {
   "cell_type": "code",
   "execution_count": 181,
   "id": "af042d9a-9fea-4c71-9679-20ca67da204a",
   "metadata": {},
   "outputs": [
    {
     "name": "stderr",
     "output_type": "stream",
     "text": [
      "`geom_smooth()` using formula 'y ~ x'\n",
      "\n"
     ]
    },
    {
     "data": {
      "image/png": "[encoded data removed]",
      "text/plain": [
       "plot without title"
      ]
     },
     "metadata": {
      "image/png": {
       "height": 420,
       "width": 420
      }
     },
     "output_type": "display_data"
    }
   ],
   "source": [
    "## Creating a scatterplot with best line fit\n",
    "SoybeanOilHoneySCAT <- ggplot(Nuts_OilsYear, aes(x = Honey, y = SoybeanOil))+ \n",
    "                geom_point() + geom_smooth(method=lm, se=FALSE)+\n",
    "                ggtitle('US Production Value of Soybean Oil ~ Honey, 1998-2012')+\n",
    "                xlab('Honey Production in MT)')+\n",
    "                ylab('Soybean Oil Production in MT')\n",
    "SoybeanOilHoneySCAT"
   ]
  },
  {
   "cell_type": "code",
   "execution_count": 182,
   "id": "1b44b5fd-8020-4bb9-9981-00fbdb3a41f2",
   "metadata": {},
   "outputs": [],
   "source": [
    "### We are getting a negative correlation between the production values of Honey and Soybean Oil, with a lot of variance between individual plots."
   ]
  },
  {
   "cell_type": "code",
   "execution_count": 183,
   "id": "f375d521-b261-4579-b366-0200bd906e10",
   "metadata": {},
   "outputs": [
    {
     "data": {
      "text/plain": [
       "\n",
       "\tPearson's product-moment correlation\n",
       "\n",
       "data:  x and y\n",
       "t = -3.2941, df = 13, p-value = 0.005813\n",
       "alternative hypothesis: true correlation is not equal to 0\n",
       "95 percent confidence interval:\n",
       " -0.8820123 -0.2478986\n",
       "sample estimates:\n",
       "       cor \n",
       "-0.6745064 \n"
      ]
     },
     "metadata": {},
     "output_type": "display_data"
    }
   ],
   "source": [
    "## Running Pearson's correlation\n",
    "cor.test(Nuts_OilsYear$Honey, Nuts_OilsYear$SoybeanOil, method=\"pearson\", use = \"complete.obs\")"
   ]
  },
  {
   "cell_type": "code",
   "execution_count": 184,
   "id": "c6a0c86e-1571-4032-84ad-7d10b7d7c47a",
   "metadata": {},
   "outputs": [],
   "source": [
    "### P-value is significant, but our confidence interval is very low. "
   ]
  },
  {
   "cell_type": "code",
   "execution_count": 185,
   "id": "c7cd7c77-b6b9-4332-bf6e-311fbfb57a79",
   "metadata": {},
   "outputs": [
    {
     "name": "stdout",
     "output_type": "stream",
     "text": [
      "\n",
      "Call:\n",
      "lm(formula = SoybeanOil ~ Honey, data = Nuts_OilsYear)\n",
      "\n",
      "Coefficients:\n",
      "(Intercept)        Honey  \n",
      "  1.129e+07   -3.206e+01  \n",
      "\n"
     ]
    }
   ],
   "source": [
    "## Running linear regression model\n",
    "lin_reg8 <- lm(SoybeanOil ~ Honey, Nuts_OilsYear)\n",
    "print(lin_reg8)"
   ]
  },
  {
   "cell_type": "code",
   "execution_count": 186,
   "id": "25ea7a19-039a-4fd7-bb1d-a341855f976a",
   "metadata": {},
   "outputs": [],
   "source": [
    "### Our Soybean Oil ~ Honey equation is: Soybean Oil = -32.06(Honey) + 11,290,000"
   ]
  },
  {
   "cell_type": "code",
   "execution_count": 259,
   "id": "33743525-0729-4973-b4fe-fa3a28451274",
   "metadata": {},
   "outputs": [
    {
     "data": {
      "image/png": "[encoded data removed]",
      "text/plain": [
       "Plot with title \"\""
      ]
     },
     "metadata": {
      "image/png": {
       "height": 420,
       "width": 420
      }
     },
     "output_type": "display_data"
    }
   ],
   "source": [
    "## Testing for Homoscedasticity & Homogeneity of Variance\n",
    "par(mfrow=c(2,2))\n",
    "plot(lin_reg8)"
   ]
  },
  {
   "cell_type": "code",
   "execution_count": 260,
   "id": "0121b2c1-4e84-49a9-bf26-b5620bcd0b97",
   "metadata": {},
   "outputs": [],
   "source": [
    "### Another issue with homogeneity here!\n",
    "### Looking further into Heteroscedasticity"
   ]
  },
  {
   "cell_type": "code",
   "execution_count": 261,
   "id": "aa77ebc0-c8ec-4872-939f-f5c5b5d389fc",
   "metadata": {},
   "outputs": [
    {
     "data": {
      "text/plain": [
       "\n",
       "\tstudentized Breusch-Pagan test\n",
       "\n",
       "data:  lin_reg8\n",
       "BP = 0.11695, df = 1, p-value = 0.7324\n"
      ]
     },
     "metadata": {},
     "output_type": "display_data"
    }
   ],
   "source": [
    "## Breusch-Pagan Test\n",
    "lmtest::bptest(lin_reg8)"
   ]
  },
  {
   "cell_type": "code",
   "execution_count": 262,
   "id": "78d1098a-a2ac-41d8-bee0-93c6880d7241",
   "metadata": {},
   "outputs": [
    {
     "data": {
      "text/plain": [
       "Non-constant Variance Score Test \n",
       "Variance formula: ~ fitted.values \n",
       "Chisquare = 0.1061092, Df = 1, p = 0.74462"
      ]
     },
     "metadata": {},
     "output_type": "display_data"
    }
   ],
   "source": [
    "### Not significant!\n",
    "## Running NCV Test\n",
    "car::ncvTest(lin_reg8)"
   ]
  },
  {
   "cell_type": "code",
   "execution_count": 263,
   "id": "29f5e85f-d43b-4aa8-a2d4-566cdbab4469",
   "metadata": {},
   "outputs": [],
   "source": [
    "### Not significant either!"
   ]
  },
  {
   "cell_type": "code",
   "execution_count": 264,
   "id": "fee723dd-17ad-489b-b48d-b48fd9eb7bcc",
   "metadata": {},
   "outputs": [
    {
     "data": {
      "image/png": "[encoded data removed]",
      "text/plain": [
       "plot without title"
      ]
     },
     "metadata": {
      "image/png": {
       "height": 420,
       "width": 420
      }
     },
     "output_type": "display_data"
    }
   ],
   "source": [
    "## Screening for Outliers\n",
    "lev = hat(model.matrix(lin_reg8))\n",
    "plot(lev)"
   ]
  },
  {
   "cell_type": "code",
   "execution_count": 265,
   "id": "34241037-b25c-4116-873f-12400fcc9cbb",
   "metadata": {},
   "outputs": [
    {
     "name": "stdout",
     "output_type": "stream",
     "text": [
      "Potentially influential observations of\n",
      "\t lm(formula = SoybeanOil ~ Honey, data = Nuts_OilsYear) :\n",
      "\n",
      "  dfb.1_ dfb.Hony dffit cov.r   cook.d hat  \n",
      "1 -0.15   0.16     0.19  1.64_*  0.02   0.29\n",
      "3 -0.38   0.41     0.47  1.53_*  0.11   0.30\n",
      "6  0.11  -0.22    -0.76  0.48_*  0.19   0.07\n"
     ]
    }
   ],
   "source": [
    "### Two high outliers, all the honey regressions look similar. Let's look further into it...\n",
    "summary(influence.measures(lin_reg8))"
   ]
  },
  {
   "cell_type": "code",
   "execution_count": 266,
   "id": "2b04ffa8-19a8-44cc-9188-1a32de53a251",
   "metadata": {},
   "outputs": [],
   "source": [
    "### Nothing over one so we can get to the summary!"
   ]
  },
  {
   "cell_type": "code",
   "execution_count": 187,
   "id": "08957e0a-db71-40a1-b49d-a29d518b2b7e",
   "metadata": {},
   "outputs": [
    {
     "data": {
      "text/plain": [
       "\n",
       "Call:\n",
       "lm(formula = SoybeanOil ~ Honey, data = Nuts_OilsYear)\n",
       "\n",
       "Residuals:\n",
       "    Min      1Q  Median      3Q     Max \n",
       "-902586 -254502  -14952  254271  595850 \n",
       "\n",
       "Coefficients:\n",
       "              Estimate Std. Error t value Pr(>|t|)    \n",
       "(Intercept)  1.129e+07  7.757e+05  14.552 2.01e-09 ***\n",
       "Honey       -3.206e+01  9.732e+00  -3.294  0.00581 ** \n",
       "---\n",
       "Signif. codes:  0 '***' 0.001 '**' 0.01 '*' 0.05 '.' 0.1 ' ' 1\n",
       "\n",
       "Residual standard error: 420900 on 13 degrees of freedom\n",
       "Multiple R-squared:  0.455,\tAdjusted R-squared:  0.413 \n",
       "F-statistic: 10.85 on 1 and 13 DF,  p-value: 0.005813\n"
      ]
     },
     "metadata": {},
     "output_type": "display_data"
    }
   ],
   "source": [
    "## Model Summary\n",
    "summary(lin_reg8)"
   ]
  },
  {
   "cell_type": "code",
   "execution_count": 188,
   "id": "b3ef07af-22aa-43f9-83b5-22a17ece7524",
   "metadata": {},
   "outputs": [],
   "source": [
    "### To summarize the analysis, with low confidence, we can conclude that honey production significantly impacts the production of Soybean oil by 41%"
   ]
  },
  {
   "cell_type": "code",
   "execution_count": 45,
   "id": "6482563a-1cf7-4607-bf11-6cce8dac3f39",
   "metadata": {},
   "outputs": [],
   "source": [
    "### Analysis To Be Continued..."
   ]
  },
  {
   "cell_type": "code",
   "execution_count": 82,
   "id": "60bc04ed-a838-4eb5-a424-0f81b716c11d",
   "metadata": {
    "tags": []
   },
   "outputs": [
    {
     "data": {
      "text/html": [
       "<table class=\"dataframe\">\n",
       "<caption>A data.frame: 186 × 3</caption>\n",
       "<thead>\n",
       "\t<tr><th scope=col>Commodity_Description</th><th scope=col>Year</th><th scope=col>Value</th></tr>\n",
       "\t<tr><th scope=col>&lt;chr&gt;</th><th scope=col>&lt;int&gt;</th><th scope=col>&lt;dbl&gt;</th></tr>\n",
       "</thead>\n",
       "<tbody>\n",
       "\t<tr><td>Walnuts, Inshell Basis   </td><td>1998</td><td>205.931</td></tr>\n",
       "\t<tr><td>Walnuts, Inshell Basis   </td><td>1999</td><td>256.734</td></tr>\n",
       "\t<tr><td>Walnuts, Inshell Basis   </td><td>2000</td><td>216.816</td></tr>\n",
       "\t<tr><td>Walnuts, Inshell Basis   </td><td>2001</td><td>276.700</td></tr>\n",
       "\t<tr><td>Walnuts, Inshell Basis   </td><td>2002</td><td>255.825</td></tr>\n",
       "\t<tr><td>Walnuts, Inshell Basis   </td><td>2003</td><td>295.741</td></tr>\n",
       "\t<tr><td>Walnuts, Inshell Basis   </td><td>2004</td><td>294.834</td></tr>\n",
       "\t<tr><td>Walnuts, Inshell Basis   </td><td>2005</td><td>322.100</td></tr>\n",
       "\t<tr><td>Walnuts, Inshell Basis   </td><td>2006</td><td>317.515</td></tr>\n",
       "\t<tr><td>Walnuts, Inshell Basis   </td><td>2007</td><td>297.600</td></tr>\n",
       "\t<tr><td>Walnuts, Inshell Basis   </td><td>2008</td><td>395.500</td></tr>\n",
       "\t<tr><td>Walnuts, Inshell Basis   </td><td>2009</td><td>396.400</td></tr>\n",
       "\t<tr><td>Walnuts, Inshell Basis   </td><td>2010</td><td>462.660</td></tr>\n",
       "\t<tr><td>Walnuts, Inshell Basis   </td><td>2011</td><td>440.000</td></tr>\n",
       "\t<tr><td>Walnuts, Inshell Basis   </td><td>2012</td><td>450.871</td></tr>\n",
       "\t<tr><td>Pistachios, Inshell Basis</td><td>1998</td><td> 85.275</td></tr>\n",
       "\t<tr><td>Pistachios, Inshell Basis</td><td>1999</td><td> 56.056</td></tr>\n",
       "\t<tr><td>Pistachios, Inshell Basis</td><td>2000</td><td>110.179</td></tr>\n",
       "\t<tr><td>Pistachios, Inshell Basis</td><td>2001</td><td> 73.240</td></tr>\n",
       "\t<tr><td>Pistachios, Inshell Basis</td><td>2002</td><td>137.562</td></tr>\n",
       "\t<tr><td>Pistachios, Inshell Basis</td><td>2003</td><td> 53.970</td></tr>\n",
       "\t<tr><td>Pistachios, Inshell Basis</td><td>2004</td><td>157.400</td></tr>\n",
       "\t<tr><td>Pistachios, Inshell Basis</td><td>2005</td><td>128.400</td></tr>\n",
       "\t<tr><td>Pistachios, Inshell Basis</td><td>2006</td><td>107.955</td></tr>\n",
       "\t<tr><td>Pistachios, Inshell Basis</td><td>2007</td><td>188.694</td></tr>\n",
       "\t<tr><td>Pistachios, Inshell Basis</td><td>2008</td><td>126.100</td></tr>\n",
       "\t<tr><td>Pistachios, Inshell Basis</td><td>2009</td><td>161.025</td></tr>\n",
       "\t<tr><td>Pistachios, Inshell Basis</td><td>2010</td><td>236.775</td></tr>\n",
       "\t<tr><td>Pistachios, Inshell Basis</td><td>2011</td><td>203.150</td></tr>\n",
       "\t<tr><td>Pistachios, Inshell Basis</td><td>2012</td><td>249.929</td></tr>\n",
       "\t<tr><td>...</td><td>...</td><td>...</td></tr>\n",
       "\t<tr><td>Oil, Cottonseed</td><td>1998</td><td>377.00000</td></tr>\n",
       "\t<tr><td>Oil, Cottonseed</td><td>1999</td><td>426.00000</td></tr>\n",
       "\t<tr><td>Oil, Cottonseed</td><td>2000</td><td>384.00000</td></tr>\n",
       "\t<tr><td>Oil, Cottonseed</td><td>2001</td><td>398.00000</td></tr>\n",
       "\t<tr><td>Oil, Cottonseed</td><td>2002</td><td>329.00000</td></tr>\n",
       "\t<tr><td>Oil, Cottonseed</td><td>2003</td><td>396.00000</td></tr>\n",
       "\t<tr><td>Oil, Cottonseed</td><td>2004</td><td>434.00000</td></tr>\n",
       "\t<tr><td>Oil, Cottonseed</td><td>2005</td><td>435.00000</td></tr>\n",
       "\t<tr><td>Oil, Cottonseed</td><td>2006</td><td>408.00000</td></tr>\n",
       "\t<tr><td>Oil, Cottonseed</td><td>2007</td><td>392.00000</td></tr>\n",
       "\t<tr><td>Oil, Cottonseed</td><td>2008</td><td>386.00000</td></tr>\n",
       "\t<tr><td>Oil, Cottonseed</td><td>2009</td><td>383.00000</td></tr>\n",
       "\t<tr><td>Oil, Cottonseed</td><td>2010</td><td>379.00000</td></tr>\n",
       "\t<tr><td>Oil, Cottonseed</td><td>2011</td><td>379.00000</td></tr>\n",
       "\t<tr><td>Oil, Cottonseed</td><td>2012</td><td>377.00000</td></tr>\n",
       "\t<tr><td>Honey          </td><td>1998</td><td> 99.57162</td></tr>\n",
       "\t<tr><td>Honey          </td><td>1999</td><td> 91.80072</td></tr>\n",
       "\t<tr><td>Honey          </td><td>2000</td><td> 99.58931</td></tr>\n",
       "\t<tr><td>Honey          </td><td>2001</td><td> 84.25344</td></tr>\n",
       "\t<tr><td>Honey          </td><td>2002</td><td> 77.68409</td></tr>\n",
       "\t<tr><td>Honey          </td><td>2003</td><td> 82.26853</td></tr>\n",
       "\t<tr><td>Honey          </td><td>2004</td><td> 82.88405</td></tr>\n",
       "\t<tr><td>Honey          </td><td>2005</td><td> 78.91060</td></tr>\n",
       "\t<tr><td>Honey          </td><td>2006</td><td> 69.96081</td></tr>\n",
       "\t<tr><td>Honey          </td><td>2007</td><td> 66.95941</td></tr>\n",
       "\t<tr><td>Honey          </td><td>2008</td><td> 73.92247</td></tr>\n",
       "\t<tr><td>Honey          </td><td>2009</td><td> 65.80139</td></tr>\n",
       "\t<tr><td>Honey          </td><td>2010</td><td> 79.51161</td></tr>\n",
       "\t<tr><td>Honey          </td><td>2011</td><td> 66.76890</td></tr>\n",
       "\t<tr><td>Honey          </td><td>2012</td><td> 63.91401</td></tr>\n",
       "</tbody>\n",
       "</table>\n"
      ],
      "text/latex": [
       "A data.frame: 186 × 3\n",
       "\\begin{tabular}{lll}\n",
       " Commodity\\_Description & Year & Value\\\\\n",
       " <chr> & <int> & <dbl>\\\\\n",
       "\\hline\n",
       "\t Walnuts, Inshell Basis    & 1998 & 205.931\\\\\n",
       "\t Walnuts, Inshell Basis    & 1999 & 256.734\\\\\n",
       "\t Walnuts, Inshell Basis    & 2000 & 216.816\\\\\n",
       "\t Walnuts, Inshell Basis    & 2001 & 276.700\\\\\n",
       "\t Walnuts, Inshell Basis    & 2002 & 255.825\\\\\n",
       "\t Walnuts, Inshell Basis    & 2003 & 295.741\\\\\n",
       "\t Walnuts, Inshell Basis    & 2004 & 294.834\\\\\n",
       "\t Walnuts, Inshell Basis    & 2005 & 322.100\\\\\n",
       "\t Walnuts, Inshell Basis    & 2006 & 317.515\\\\\n",
       "\t Walnuts, Inshell Basis    & 2007 & 297.600\\\\\n",
       "\t Walnuts, Inshell Basis    & 2008 & 395.500\\\\\n",
       "\t Walnuts, Inshell Basis    & 2009 & 396.400\\\\\n",
       "\t Walnuts, Inshell Basis    & 2010 & 462.660\\\\\n",
       "\t Walnuts, Inshell Basis    & 2011 & 440.000\\\\\n",
       "\t Walnuts, Inshell Basis    & 2012 & 450.871\\\\\n",
       "\t Pistachios, Inshell Basis & 1998 &  85.275\\\\\n",
       "\t Pistachios, Inshell Basis & 1999 &  56.056\\\\\n",
       "\t Pistachios, Inshell Basis & 2000 & 110.179\\\\\n",
       "\t Pistachios, Inshell Basis & 2001 &  73.240\\\\\n",
       "\t Pistachios, Inshell Basis & 2002 & 137.562\\\\\n",
       "\t Pistachios, Inshell Basis & 2003 &  53.970\\\\\n",
       "\t Pistachios, Inshell Basis & 2004 & 157.400\\\\\n",
       "\t Pistachios, Inshell Basis & 2005 & 128.400\\\\\n",
       "\t Pistachios, Inshell Basis & 2006 & 107.955\\\\\n",
       "\t Pistachios, Inshell Basis & 2007 & 188.694\\\\\n",
       "\t Pistachios, Inshell Basis & 2008 & 126.100\\\\\n",
       "\t Pistachios, Inshell Basis & 2009 & 161.025\\\\\n",
       "\t Pistachios, Inshell Basis & 2010 & 236.775\\\\\n",
       "\t Pistachios, Inshell Basis & 2011 & 203.150\\\\\n",
       "\t Pistachios, Inshell Basis & 2012 & 249.929\\\\\n",
       "\t ... & ... & ...\\\\\n",
       "\t Oil, Cottonseed & 1998 & 377.00000\\\\\n",
       "\t Oil, Cottonseed & 1999 & 426.00000\\\\\n",
       "\t Oil, Cottonseed & 2000 & 384.00000\\\\\n",
       "\t Oil, Cottonseed & 2001 & 398.00000\\\\\n",
       "\t Oil, Cottonseed & 2002 & 329.00000\\\\\n",
       "\t Oil, Cottonseed & 2003 & 396.00000\\\\\n",
       "\t Oil, Cottonseed & 2004 & 434.00000\\\\\n",
       "\t Oil, Cottonseed & 2005 & 435.00000\\\\\n",
       "\t Oil, Cottonseed & 2006 & 408.00000\\\\\n",
       "\t Oil, Cottonseed & 2007 & 392.00000\\\\\n",
       "\t Oil, Cottonseed & 2008 & 386.00000\\\\\n",
       "\t Oil, Cottonseed & 2009 & 383.00000\\\\\n",
       "\t Oil, Cottonseed & 2010 & 379.00000\\\\\n",
       "\t Oil, Cottonseed & 2011 & 379.00000\\\\\n",
       "\t Oil, Cottonseed & 2012 & 377.00000\\\\\n",
       "\t Honey           & 1998 &  99.57162\\\\\n",
       "\t Honey           & 1999 &  91.80072\\\\\n",
       "\t Honey           & 2000 &  99.58931\\\\\n",
       "\t Honey           & 2001 &  84.25344\\\\\n",
       "\t Honey           & 2002 &  77.68409\\\\\n",
       "\t Honey           & 2003 &  82.26853\\\\\n",
       "\t Honey           & 2004 &  82.88405\\\\\n",
       "\t Honey           & 2005 &  78.91060\\\\\n",
       "\t Honey           & 2006 &  69.96081\\\\\n",
       "\t Honey           & 2007 &  66.95941\\\\\n",
       "\t Honey           & 2008 &  73.92247\\\\\n",
       "\t Honey           & 2009 &  65.80139\\\\\n",
       "\t Honey           & 2010 &  79.51161\\\\\n",
       "\t Honey           & 2011 &  66.76890\\\\\n",
       "\t Honey           & 2012 &  63.91401\\\\\n",
       "\\end{tabular}\n"
      ],
      "text/markdown": [
       "\n",
       "A data.frame: 186 × 3\n",
       "\n",
       "| Commodity_Description &lt;chr&gt; | Year &lt;int&gt; | Value &lt;dbl&gt; |\n",
       "|---|---|---|\n",
       "| Walnuts, Inshell Basis    | 1998 | 205.931 |\n",
       "| Walnuts, Inshell Basis    | 1999 | 256.734 |\n",
       "| Walnuts, Inshell Basis    | 2000 | 216.816 |\n",
       "| Walnuts, Inshell Basis    | 2001 | 276.700 |\n",
       "| Walnuts, Inshell Basis    | 2002 | 255.825 |\n",
       "| Walnuts, Inshell Basis    | 2003 | 295.741 |\n",
       "| Walnuts, Inshell Basis    | 2004 | 294.834 |\n",
       "| Walnuts, Inshell Basis    | 2005 | 322.100 |\n",
       "| Walnuts, Inshell Basis    | 2006 | 317.515 |\n",
       "| Walnuts, Inshell Basis    | 2007 | 297.600 |\n",
       "| Walnuts, Inshell Basis    | 2008 | 395.500 |\n",
       "| Walnuts, Inshell Basis    | 2009 | 396.400 |\n",
       "| Walnuts, Inshell Basis    | 2010 | 462.660 |\n",
       "| Walnuts, Inshell Basis    | 2011 | 440.000 |\n",
       "| Walnuts, Inshell Basis    | 2012 | 450.871 |\n",
       "| Pistachios, Inshell Basis | 1998 |  85.275 |\n",
       "| Pistachios, Inshell Basis | 1999 |  56.056 |\n",
       "| Pistachios, Inshell Basis | 2000 | 110.179 |\n",
       "| Pistachios, Inshell Basis | 2001 |  73.240 |\n",
       "| Pistachios, Inshell Basis | 2002 | 137.562 |\n",
       "| Pistachios, Inshell Basis | 2003 |  53.970 |\n",
       "| Pistachios, Inshell Basis | 2004 | 157.400 |\n",
       "| Pistachios, Inshell Basis | 2005 | 128.400 |\n",
       "| Pistachios, Inshell Basis | 2006 | 107.955 |\n",
       "| Pistachios, Inshell Basis | 2007 | 188.694 |\n",
       "| Pistachios, Inshell Basis | 2008 | 126.100 |\n",
       "| Pistachios, Inshell Basis | 2009 | 161.025 |\n",
       "| Pistachios, Inshell Basis | 2010 | 236.775 |\n",
       "| Pistachios, Inshell Basis | 2011 | 203.150 |\n",
       "| Pistachios, Inshell Basis | 2012 | 249.929 |\n",
       "| ... | ... | ... |\n",
       "| Oil, Cottonseed | 1998 | 377.00000 |\n",
       "| Oil, Cottonseed | 1999 | 426.00000 |\n",
       "| Oil, Cottonseed | 2000 | 384.00000 |\n",
       "| Oil, Cottonseed | 2001 | 398.00000 |\n",
       "| Oil, Cottonseed | 2002 | 329.00000 |\n",
       "| Oil, Cottonseed | 2003 | 396.00000 |\n",
       "| Oil, Cottonseed | 2004 | 434.00000 |\n",
       "| Oil, Cottonseed | 2005 | 435.00000 |\n",
       "| Oil, Cottonseed | 2006 | 408.00000 |\n",
       "| Oil, Cottonseed | 2007 | 392.00000 |\n",
       "| Oil, Cottonseed | 2008 | 386.00000 |\n",
       "| Oil, Cottonseed | 2009 | 383.00000 |\n",
       "| Oil, Cottonseed | 2010 | 379.00000 |\n",
       "| Oil, Cottonseed | 2011 | 379.00000 |\n",
       "| Oil, Cottonseed | 2012 | 377.00000 |\n",
       "| Honey           | 1998 |  99.57162 |\n",
       "| Honey           | 1999 |  91.80072 |\n",
       "| Honey           | 2000 |  99.58931 |\n",
       "| Honey           | 2001 |  84.25344 |\n",
       "| Honey           | 2002 |  77.68409 |\n",
       "| Honey           | 2003 |  82.26853 |\n",
       "| Honey           | 2004 |  82.88405 |\n",
       "| Honey           | 2005 |  78.91060 |\n",
       "| Honey           | 2006 |  69.96081 |\n",
       "| Honey           | 2007 |  66.95941 |\n",
       "| Honey           | 2008 |  73.92247 |\n",
       "| Honey           | 2009 |  65.80139 |\n",
       "| Honey           | 2010 |  79.51161 |\n",
       "| Honey           | 2011 |  66.76890 |\n",
       "| Honey           | 2012 |  63.91401 |\n",
       "\n"
      ],
      "text/plain": [
       "    Commodity_Description     Year Value    \n",
       "1   Walnuts, Inshell Basis    1998 205.931  \n",
       "2   Walnuts, Inshell Basis    1999 256.734  \n",
       "3   Walnuts, Inshell Basis    2000 216.816  \n",
       "4   Walnuts, Inshell Basis    2001 276.700  \n",
       "5   Walnuts, Inshell Basis    2002 255.825  \n",
       "6   Walnuts, Inshell Basis    2003 295.741  \n",
       "7   Walnuts, Inshell Basis    2004 294.834  \n",
       "8   Walnuts, Inshell Basis    2005 322.100  \n",
       "9   Walnuts, Inshell Basis    2006 317.515  \n",
       "10  Walnuts, Inshell Basis    2007 297.600  \n",
       "11  Walnuts, Inshell Basis    2008 395.500  \n",
       "12  Walnuts, Inshell Basis    2009 396.400  \n",
       "13  Walnuts, Inshell Basis    2010 462.660  \n",
       "14  Walnuts, Inshell Basis    2011 440.000  \n",
       "15  Walnuts, Inshell Basis    2012 450.871  \n",
       "16  Pistachios, Inshell Basis 1998  85.275  \n",
       "17  Pistachios, Inshell Basis 1999  56.056  \n",
       "18  Pistachios, Inshell Basis 2000 110.179  \n",
       "19  Pistachios, Inshell Basis 2001  73.240  \n",
       "20  Pistachios, Inshell Basis 2002 137.562  \n",
       "21  Pistachios, Inshell Basis 2003  53.970  \n",
       "22  Pistachios, Inshell Basis 2004 157.400  \n",
       "23  Pistachios, Inshell Basis 2005 128.400  \n",
       "24  Pistachios, Inshell Basis 2006 107.955  \n",
       "25  Pistachios, Inshell Basis 2007 188.694  \n",
       "26  Pistachios, Inshell Basis 2008 126.100  \n",
       "27  Pistachios, Inshell Basis 2009 161.025  \n",
       "28  Pistachios, Inshell Basis 2010 236.775  \n",
       "29  Pistachios, Inshell Basis 2011 203.150  \n",
       "30  Pistachios, Inshell Basis 2012 249.929  \n",
       "... ...                       ...  ...      \n",
       "157 Oil, Cottonseed           1998 377.00000\n",
       "158 Oil, Cottonseed           1999 426.00000\n",
       "159 Oil, Cottonseed           2000 384.00000\n",
       "160 Oil, Cottonseed           2001 398.00000\n",
       "161 Oil, Cottonseed           2002 329.00000\n",
       "162 Oil, Cottonseed           2003 396.00000\n",
       "163 Oil, Cottonseed           2004 434.00000\n",
       "164 Oil, Cottonseed           2005 435.00000\n",
       "165 Oil, Cottonseed           2006 408.00000\n",
       "166 Oil, Cottonseed           2007 392.00000\n",
       "167 Oil, Cottonseed           2008 386.00000\n",
       "168 Oil, Cottonseed           2009 383.00000\n",
       "169 Oil, Cottonseed           2010 379.00000\n",
       "170 Oil, Cottonseed           2011 379.00000\n",
       "171 Oil, Cottonseed           2012 377.00000\n",
       "172 Honey                     1998  99.57162\n",
       "173 Honey                     1999  91.80072\n",
       "174 Honey                     2000  99.58931\n",
       "175 Honey                     2001  84.25344\n",
       "176 Honey                     2002  77.68409\n",
       "177 Honey                     2003  82.26853\n",
       "178 Honey                     2004  82.88405\n",
       "179 Honey                     2005  78.91060\n",
       "180 Honey                     2006  69.96081\n",
       "181 Honey                     2007  66.95941\n",
       "182 Honey                     2008  73.92247\n",
       "183 Honey                     2009  65.80139\n",
       "184 Honey                     2010  79.51161\n",
       "185 Honey                     2011  66.76890\n",
       "186 Honey                     2012  63.91401"
      ]
     },
     "metadata": {},
     "output_type": "display_data"
    }
   ],
   "source": [
    "# ------------------------------------------------------------------------------\n",
    "## Converting MT measurements to 1000 MT measurements\n",
    "Nuts_OilsMTconv <- mutate(Nuts_Oils2, Value = Value / 1000)\n",
    "Nuts_OilsMTconv"
   ]
  },
  {
   "cell_type": "code",
   "execution_count": 60,
   "id": "24fe54ed-380d-476f-a01c-377360d60bc0",
   "metadata": {
    "collapsed": true,
    "jupyter": {
     "outputs_hidden": true
    },
    "tags": []
   },
   "outputs": [
    {
     "data": {
      "text/html": [
       "<table class=\"dataframe\">\n",
       "<caption>A tibble: 15 × 14</caption>\n",
       "<thead>\n",
       "\t<tr><th scope=col>Year</th><th scope=col>Walnuts, Inshell Basis</th><th scope=col>Pistachios, Inshell Basis</th><th scope=col>Pecans, Inshell Basis</th><th scope=col>Macadamia, Inshell Basis</th><th scope=col>Filberts, Inshell Basis</th><th scope=col>Almonds, Shelled Basis</th><th scope=col>Oil, Sunflowerseed</th><th scope=col>Oil, Soybean</th><th scope=col>Oil, Rapeseed</th><th scope=col>Oil, Peanut</th><th scope=col>Oil, Olive</th><th scope=col>Oil, Cottonseed</th><th scope=col>Honey</th></tr>\n",
       "\t<tr><th scope=col>&lt;int&gt;</th><th scope=col>&lt;dbl&gt;</th><th scope=col>&lt;dbl&gt;</th><th scope=col>&lt;dbl&gt;</th><th scope=col>&lt;dbl&gt;</th><th scope=col>&lt;dbl&gt;</th><th scope=col>&lt;dbl&gt;</th><th scope=col>&lt;dbl&gt;</th><th scope=col>&lt;dbl&gt;</th><th scope=col>&lt;dbl&gt;</th><th scope=col>&lt;dbl&gt;</th><th scope=col>&lt;dbl&gt;</th><th scope=col>&lt;dbl&gt;</th><th scope=col>&lt;dbl&gt;</th></tr>\n",
       "</thead>\n",
       "<tbody>\n",
       "\t<tr><td>1998</td><td>205.931</td><td> 85.275</td><td> 66.467</td><td>26.082</td><td>14.061</td><td>235.884</td><td>534</td><td>8202</td><td>290</td><td> 66</td><td> 1</td><td>377</td><td>99.57162</td></tr>\n",
       "\t<tr><td>1999</td><td>256.734</td><td> 56.056</td><td>184.189</td><td>25.628</td><td>34.500</td><td>377.800</td><td>478</td><td>8085</td><td>319</td><td>104</td><td> 1</td><td>426</td><td>91.80072</td></tr>\n",
       "\t<tr><td>2000</td><td>216.816</td><td>110.179</td><td> 95.076</td><td>22.680</td><td>20.471</td><td>318.900</td><td>396</td><td>8355</td><td>345</td><td> 81</td><td> 1</td><td>384</td><td>99.58931</td></tr>\n",
       "\t<tr><td>2001</td><td>276.700</td><td> 73.240</td><td>153.567</td><td>24.494</td><td>44.906</td><td>376.500</td><td>319</td><td>8572</td><td>287</td><td>104</td><td> 1</td><td>398</td><td>84.25344</td></tr>\n",
       "\t<tr><td>2002</td><td>255.825</td><td>137.562</td><td> 83.721</td><td>24.040</td><td>17.700</td><td>494.416</td><td>145</td><td>8360</td><td>243</td><td>130</td><td> 1</td><td>329</td><td>77.68409</td></tr>\n",
       "\t<tr><td>2003</td><td>295.741</td><td> 53.970</td><td>127.958</td><td>24.040</td><td>34.400</td><td>471.740</td><td>270</td><td>7748</td><td>291</td><td> 79</td><td> 2</td><td>396</td><td>82.26853</td></tr>\n",
       "\t<tr><td>2004</td><td>294.834</td><td>157.400</td><td> 84.277</td><td>25.628</td><td>48.502</td><td>462.664</td><td>120</td><td>8782</td><td>378</td><td> 57</td><td> 2</td><td>434</td><td>82.88405</td></tr>\n",
       "\t<tr><td>2005</td><td>322.100</td><td>128.400</td><td>127.110</td><td>27.216</td><td>33.566</td><td>415.040</td><td>251</td><td>9250</td><td>421</td><td> 82</td><td> 3</td><td>435</td><td>78.91060</td></tr>\n",
       "\t<tr><td>2006</td><td>317.515</td><td>107.955</td><td>313.890</td><td>26.300</td><td>39.010</td><td>508.023</td><td>294</td><td>9294</td><td>461</td><td> 97</td><td> 1</td><td>408</td><td>69.96081</td></tr>\n",
       "\t<tr><td>2007</td><td>297.600</td><td>188.694</td><td>290.300</td><td>16.330</td><td>33.600</td><td>630.493</td><td>299</td><td>9682</td><td>507</td><td> 78</td><td> 2</td><td>392</td><td>66.95941</td></tr>\n",
       "\t<tr><td>2008</td><td>395.500</td><td>126.100</td><td> 92.560</td><td>    NA</td><td>30.800</td><td>739.400</td><td>297</td><td>9514</td><td>505</td><td> 94</td><td> 2</td><td>386</td><td>73.92247</td></tr>\n",
       "\t<tr><td>2009</td><td>396.400</td><td>161.025</td><td>     NA</td><td>    NA</td><td>42.640</td><td>639.570</td><td>332</td><td>8897</td><td>498</td><td> 71</td><td> 3</td><td>383</td><td>65.80139</td></tr>\n",
       "\t<tr><td>2010</td><td>462.660</td><td>236.775</td><td>     NA</td><td>    NA</td><td>25.400</td><td>748.430</td><td>306</td><td>8659</td><td>546</td><td> 86</td><td> 5</td><td>379</td><td>79.51161</td></tr>\n",
       "\t<tr><td>2011</td><td>440.000</td><td>203.150</td><td>     NA</td><td>    NA</td><td>37.200</td><td>920.800</td><td>267</td><td>8979</td><td>578</td><td> 86</td><td> 6</td><td>379</td><td>66.76890</td></tr>\n",
       "\t<tr><td>2012</td><td>450.871</td><td>249.929</td><td>     NA</td><td>    NA</td><td>36.300</td><td>952.500</td><td>248</td><td>8990</td><td>626</td><td>108</td><td>10</td><td>377</td><td>63.91401</td></tr>\n",
       "</tbody>\n",
       "</table>\n"
      ],
      "text/latex": [
       "A tibble: 15 × 14\n",
       "\\begin{tabular}{llllllllllllll}\n",
       " Year & Walnuts, Inshell Basis & Pistachios, Inshell Basis & Pecans, Inshell Basis & Macadamia, Inshell Basis & Filberts, Inshell Basis & Almonds, Shelled Basis & Oil, Sunflowerseed & Oil, Soybean & Oil, Rapeseed & Oil, Peanut & Oil, Olive & Oil, Cottonseed & Honey\\\\\n",
       " <int> & <dbl> & <dbl> & <dbl> & <dbl> & <dbl> & <dbl> & <dbl> & <dbl> & <dbl> & <dbl> & <dbl> & <dbl> & <dbl>\\\\\n",
       "\\hline\n",
       "\t 1998 & 205.931 &  85.275 &  66.467 & 26.082 & 14.061 & 235.884 & 534 & 8202 & 290 &  66 &  1 & 377 & 99.57162\\\\\n",
       "\t 1999 & 256.734 &  56.056 & 184.189 & 25.628 & 34.500 & 377.800 & 478 & 8085 & 319 & 104 &  1 & 426 & 91.80072\\\\\n",
       "\t 2000 & 216.816 & 110.179 &  95.076 & 22.680 & 20.471 & 318.900 & 396 & 8355 & 345 &  81 &  1 & 384 & 99.58931\\\\\n",
       "\t 2001 & 276.700 &  73.240 & 153.567 & 24.494 & 44.906 & 376.500 & 319 & 8572 & 287 & 104 &  1 & 398 & 84.25344\\\\\n",
       "\t 2002 & 255.825 & 137.562 &  83.721 & 24.040 & 17.700 & 494.416 & 145 & 8360 & 243 & 130 &  1 & 329 & 77.68409\\\\\n",
       "\t 2003 & 295.741 &  53.970 & 127.958 & 24.040 & 34.400 & 471.740 & 270 & 7748 & 291 &  79 &  2 & 396 & 82.26853\\\\\n",
       "\t 2004 & 294.834 & 157.400 &  84.277 & 25.628 & 48.502 & 462.664 & 120 & 8782 & 378 &  57 &  2 & 434 & 82.88405\\\\\n",
       "\t 2005 & 322.100 & 128.400 & 127.110 & 27.216 & 33.566 & 415.040 & 251 & 9250 & 421 &  82 &  3 & 435 & 78.91060\\\\\n",
       "\t 2006 & 317.515 & 107.955 & 313.890 & 26.300 & 39.010 & 508.023 & 294 & 9294 & 461 &  97 &  1 & 408 & 69.96081\\\\\n",
       "\t 2007 & 297.600 & 188.694 & 290.300 & 16.330 & 33.600 & 630.493 & 299 & 9682 & 507 &  78 &  2 & 392 & 66.95941\\\\\n",
       "\t 2008 & 395.500 & 126.100 &  92.560 &     NA & 30.800 & 739.400 & 297 & 9514 & 505 &  94 &  2 & 386 & 73.92247\\\\\n",
       "\t 2009 & 396.400 & 161.025 &      NA &     NA & 42.640 & 639.570 & 332 & 8897 & 498 &  71 &  3 & 383 & 65.80139\\\\\n",
       "\t 2010 & 462.660 & 236.775 &      NA &     NA & 25.400 & 748.430 & 306 & 8659 & 546 &  86 &  5 & 379 & 79.51161\\\\\n",
       "\t 2011 & 440.000 & 203.150 &      NA &     NA & 37.200 & 920.800 & 267 & 8979 & 578 &  86 &  6 & 379 & 66.76890\\\\\n",
       "\t 2012 & 450.871 & 249.929 &      NA &     NA & 36.300 & 952.500 & 248 & 8990 & 626 & 108 & 10 & 377 & 63.91401\\\\\n",
       "\\end{tabular}\n"
      ],
      "text/markdown": [
       "\n",
       "A tibble: 15 × 14\n",
       "\n",
       "| Year &lt;int&gt; | Walnuts, Inshell Basis &lt;dbl&gt; | Pistachios, Inshell Basis &lt;dbl&gt; | Pecans, Inshell Basis &lt;dbl&gt; | Macadamia, Inshell Basis &lt;dbl&gt; | Filberts, Inshell Basis &lt;dbl&gt; | Almonds, Shelled Basis &lt;dbl&gt; | Oil, Sunflowerseed &lt;dbl&gt; | Oil, Soybean &lt;dbl&gt; | Oil, Rapeseed &lt;dbl&gt; | Oil, Peanut &lt;dbl&gt; | Oil, Olive &lt;dbl&gt; | Oil, Cottonseed &lt;dbl&gt; | Honey &lt;dbl&gt; |\n",
       "|---|---|---|---|---|---|---|---|---|---|---|---|---|---|\n",
       "| 1998 | 205.931 |  85.275 |  66.467 | 26.082 | 14.061 | 235.884 | 534 | 8202 | 290 |  66 |  1 | 377 | 99.57162 |\n",
       "| 1999 | 256.734 |  56.056 | 184.189 | 25.628 | 34.500 | 377.800 | 478 | 8085 | 319 | 104 |  1 | 426 | 91.80072 |\n",
       "| 2000 | 216.816 | 110.179 |  95.076 | 22.680 | 20.471 | 318.900 | 396 | 8355 | 345 |  81 |  1 | 384 | 99.58931 |\n",
       "| 2001 | 276.700 |  73.240 | 153.567 | 24.494 | 44.906 | 376.500 | 319 | 8572 | 287 | 104 |  1 | 398 | 84.25344 |\n",
       "| 2002 | 255.825 | 137.562 |  83.721 | 24.040 | 17.700 | 494.416 | 145 | 8360 | 243 | 130 |  1 | 329 | 77.68409 |\n",
       "| 2003 | 295.741 |  53.970 | 127.958 | 24.040 | 34.400 | 471.740 | 270 | 7748 | 291 |  79 |  2 | 396 | 82.26853 |\n",
       "| 2004 | 294.834 | 157.400 |  84.277 | 25.628 | 48.502 | 462.664 | 120 | 8782 | 378 |  57 |  2 | 434 | 82.88405 |\n",
       "| 2005 | 322.100 | 128.400 | 127.110 | 27.216 | 33.566 | 415.040 | 251 | 9250 | 421 |  82 |  3 | 435 | 78.91060 |\n",
       "| 2006 | 317.515 | 107.955 | 313.890 | 26.300 | 39.010 | 508.023 | 294 | 9294 | 461 |  97 |  1 | 408 | 69.96081 |\n",
       "| 2007 | 297.600 | 188.694 | 290.300 | 16.330 | 33.600 | 630.493 | 299 | 9682 | 507 |  78 |  2 | 392 | 66.95941 |\n",
       "| 2008 | 395.500 | 126.100 |  92.560 |     NA | 30.800 | 739.400 | 297 | 9514 | 505 |  94 |  2 | 386 | 73.92247 |\n",
       "| 2009 | 396.400 | 161.025 |      NA |     NA | 42.640 | 639.570 | 332 | 8897 | 498 |  71 |  3 | 383 | 65.80139 |\n",
       "| 2010 | 462.660 | 236.775 |      NA |     NA | 25.400 | 748.430 | 306 | 8659 | 546 |  86 |  5 | 379 | 79.51161 |\n",
       "| 2011 | 440.000 | 203.150 |      NA |     NA | 37.200 | 920.800 | 267 | 8979 | 578 |  86 |  6 | 379 | 66.76890 |\n",
       "| 2012 | 450.871 | 249.929 |      NA |     NA | 36.300 | 952.500 | 248 | 8990 | 626 | 108 | 10 | 377 | 63.91401 |\n",
       "\n"
      ],
      "text/plain": [
       "   Year Walnuts, Inshell Basis Pistachios, Inshell Basis Pecans, Inshell Basis\n",
       "1  1998 205.931                 85.275                    66.467              \n",
       "2  1999 256.734                 56.056                   184.189              \n",
       "3  2000 216.816                110.179                    95.076              \n",
       "4  2001 276.700                 73.240                   153.567              \n",
       "5  2002 255.825                137.562                    83.721              \n",
       "6  2003 295.741                 53.970                   127.958              \n",
       "7  2004 294.834                157.400                    84.277              \n",
       "8  2005 322.100                128.400                   127.110              \n",
       "9  2006 317.515                107.955                   313.890              \n",
       "10 2007 297.600                188.694                   290.300              \n",
       "11 2008 395.500                126.100                    92.560              \n",
       "12 2009 396.400                161.025                        NA              \n",
       "13 2010 462.660                236.775                        NA              \n",
       "14 2011 440.000                203.150                        NA              \n",
       "15 2012 450.871                249.929                        NA              \n",
       "   Macadamia, Inshell Basis Filberts, Inshell Basis Almonds, Shelled Basis\n",
       "1  26.082                   14.061                  235.884               \n",
       "2  25.628                   34.500                  377.800               \n",
       "3  22.680                   20.471                  318.900               \n",
       "4  24.494                   44.906                  376.500               \n",
       "5  24.040                   17.700                  494.416               \n",
       "6  24.040                   34.400                  471.740               \n",
       "7  25.628                   48.502                  462.664               \n",
       "8  27.216                   33.566                  415.040               \n",
       "9  26.300                   39.010                  508.023               \n",
       "10 16.330                   33.600                  630.493               \n",
       "11     NA                   30.800                  739.400               \n",
       "12     NA                   42.640                  639.570               \n",
       "13     NA                   25.400                  748.430               \n",
       "14     NA                   37.200                  920.800               \n",
       "15     NA                   36.300                  952.500               \n",
       "   Oil, Sunflowerseed Oil, Soybean Oil, Rapeseed Oil, Peanut Oil, Olive\n",
       "1  534                8202         290            66          1        \n",
       "2  478                8085         319           104          1        \n",
       "3  396                8355         345            81          1        \n",
       "4  319                8572         287           104          1        \n",
       "5  145                8360         243           130          1        \n",
       "6  270                7748         291            79          2        \n",
       "7  120                8782         378            57          2        \n",
       "8  251                9250         421            82          3        \n",
       "9  294                9294         461            97          1        \n",
       "10 299                9682         507            78          2        \n",
       "11 297                9514         505            94          2        \n",
       "12 332                8897         498            71          3        \n",
       "13 306                8659         546            86          5        \n",
       "14 267                8979         578            86          6        \n",
       "15 248                8990         626           108         10        \n",
       "   Oil, Cottonseed Honey   \n",
       "1  377             99.57162\n",
       "2  426             91.80072\n",
       "3  384             99.58931\n",
       "4  398             84.25344\n",
       "5  329             77.68409\n",
       "6  396             82.26853\n",
       "7  434             82.88405\n",
       "8  435             78.91060\n",
       "9  408             69.96081\n",
       "10 392             66.95941\n",
       "11 386             73.92247\n",
       "12 383             65.80139\n",
       "13 379             79.51161\n",
       "14 379             66.76890\n",
       "15 377             63.91401"
      ]
     },
     "metadata": {},
     "output_type": "display_data"
    }
   ],
   "source": [
    "## Pivoting df for stepwise regression\n",
    "RegReady <- Nuts_OilsMTconv %>% pivot_wider(names_from = Commodity_Description, values_from = Value)\n",
    "RegReady"
   ]
  },
  {
   "cell_type": "code",
   "execution_count": 66,
   "id": "132bdb9f-82c5-4d4a-9980-4c6b51747ace",
   "metadata": {
    "collapsed": true,
    "jupyter": {
     "outputs_hidden": true
    },
    "tags": []
   },
   "outputs": [
    {
     "data": {
      "text/html": [
       "<table class=\"dataframe\">\n",
       "<caption>A tibble: 15 × 12</caption>\n",
       "<thead>\n",
       "\t<tr><th scope=col>Year</th><th scope=col>Walnuts, Inshell Basis</th><th scope=col>Pistachios, Inshell Basis</th><th scope=col>Filberts, Inshell Basis</th><th scope=col>Almonds, Shelled Basis</th><th scope=col>Oil, Sunflowerseed</th><th scope=col>Oil, Soybean</th><th scope=col>Oil, Rapeseed</th><th scope=col>Oil, Peanut</th><th scope=col>Oil, Olive</th><th scope=col>Oil, Cottonseed</th><th scope=col>Honey</th></tr>\n",
       "\t<tr><th scope=col>&lt;int&gt;</th><th scope=col>&lt;dbl&gt;</th><th scope=col>&lt;dbl&gt;</th><th scope=col>&lt;dbl&gt;</th><th scope=col>&lt;dbl&gt;</th><th scope=col>&lt;dbl&gt;</th><th scope=col>&lt;dbl&gt;</th><th scope=col>&lt;dbl&gt;</th><th scope=col>&lt;dbl&gt;</th><th scope=col>&lt;dbl&gt;</th><th scope=col>&lt;dbl&gt;</th><th scope=col>&lt;dbl&gt;</th></tr>\n",
       "</thead>\n",
       "<tbody>\n",
       "\t<tr><td>1998</td><td>205.931</td><td> 85.275</td><td>14.061</td><td>235.884</td><td>534</td><td>8202</td><td>290</td><td> 66</td><td> 1</td><td>377</td><td>99.57162</td></tr>\n",
       "\t<tr><td>1999</td><td>256.734</td><td> 56.056</td><td>34.500</td><td>377.800</td><td>478</td><td>8085</td><td>319</td><td>104</td><td> 1</td><td>426</td><td>91.80072</td></tr>\n",
       "\t<tr><td>2000</td><td>216.816</td><td>110.179</td><td>20.471</td><td>318.900</td><td>396</td><td>8355</td><td>345</td><td> 81</td><td> 1</td><td>384</td><td>99.58931</td></tr>\n",
       "\t<tr><td>2001</td><td>276.700</td><td> 73.240</td><td>44.906</td><td>376.500</td><td>319</td><td>8572</td><td>287</td><td>104</td><td> 1</td><td>398</td><td>84.25344</td></tr>\n",
       "\t<tr><td>2002</td><td>255.825</td><td>137.562</td><td>17.700</td><td>494.416</td><td>145</td><td>8360</td><td>243</td><td>130</td><td> 1</td><td>329</td><td>77.68409</td></tr>\n",
       "\t<tr><td>2003</td><td>295.741</td><td> 53.970</td><td>34.400</td><td>471.740</td><td>270</td><td>7748</td><td>291</td><td> 79</td><td> 2</td><td>396</td><td>82.26853</td></tr>\n",
       "\t<tr><td>2004</td><td>294.834</td><td>157.400</td><td>48.502</td><td>462.664</td><td>120</td><td>8782</td><td>378</td><td> 57</td><td> 2</td><td>434</td><td>82.88405</td></tr>\n",
       "\t<tr><td>2005</td><td>322.100</td><td>128.400</td><td>33.566</td><td>415.040</td><td>251</td><td>9250</td><td>421</td><td> 82</td><td> 3</td><td>435</td><td>78.91060</td></tr>\n",
       "\t<tr><td>2006</td><td>317.515</td><td>107.955</td><td>39.010</td><td>508.023</td><td>294</td><td>9294</td><td>461</td><td> 97</td><td> 1</td><td>408</td><td>69.96081</td></tr>\n",
       "\t<tr><td>2007</td><td>297.600</td><td>188.694</td><td>33.600</td><td>630.493</td><td>299</td><td>9682</td><td>507</td><td> 78</td><td> 2</td><td>392</td><td>66.95941</td></tr>\n",
       "\t<tr><td>2008</td><td>395.500</td><td>126.100</td><td>30.800</td><td>739.400</td><td>297</td><td>9514</td><td>505</td><td> 94</td><td> 2</td><td>386</td><td>73.92247</td></tr>\n",
       "\t<tr><td>2009</td><td>396.400</td><td>161.025</td><td>42.640</td><td>639.570</td><td>332</td><td>8897</td><td>498</td><td> 71</td><td> 3</td><td>383</td><td>65.80139</td></tr>\n",
       "\t<tr><td>2010</td><td>462.660</td><td>236.775</td><td>25.400</td><td>748.430</td><td>306</td><td>8659</td><td>546</td><td> 86</td><td> 5</td><td>379</td><td>79.51161</td></tr>\n",
       "\t<tr><td>2011</td><td>440.000</td><td>203.150</td><td>37.200</td><td>920.800</td><td>267</td><td>8979</td><td>578</td><td> 86</td><td> 6</td><td>379</td><td>66.76890</td></tr>\n",
       "\t<tr><td>2012</td><td>450.871</td><td>249.929</td><td>36.300</td><td>952.500</td><td>248</td><td>8990</td><td>626</td><td>108</td><td>10</td><td>377</td><td>63.91401</td></tr>\n",
       "</tbody>\n",
       "</table>\n"
      ],
      "text/latex": [
       "A tibble: 15 × 12\n",
       "\\begin{tabular}{llllllllllll}\n",
       " Year & Walnuts, Inshell Basis & Pistachios, Inshell Basis & Filberts, Inshell Basis & Almonds, Shelled Basis & Oil, Sunflowerseed & Oil, Soybean & Oil, Rapeseed & Oil, Peanut & Oil, Olive & Oil, Cottonseed & Honey\\\\\n",
       " <int> & <dbl> & <dbl> & <dbl> & <dbl> & <dbl> & <dbl> & <dbl> & <dbl> & <dbl> & <dbl> & <dbl>\\\\\n",
       "\\hline\n",
       "\t 1998 & 205.931 &  85.275 & 14.061 & 235.884 & 534 & 8202 & 290 &  66 &  1 & 377 & 99.57162\\\\\n",
       "\t 1999 & 256.734 &  56.056 & 34.500 & 377.800 & 478 & 8085 & 319 & 104 &  1 & 426 & 91.80072\\\\\n",
       "\t 2000 & 216.816 & 110.179 & 20.471 & 318.900 & 396 & 8355 & 345 &  81 &  1 & 384 & 99.58931\\\\\n",
       "\t 2001 & 276.700 &  73.240 & 44.906 & 376.500 & 319 & 8572 & 287 & 104 &  1 & 398 & 84.25344\\\\\n",
       "\t 2002 & 255.825 & 137.562 & 17.700 & 494.416 & 145 & 8360 & 243 & 130 &  1 & 329 & 77.68409\\\\\n",
       "\t 2003 & 295.741 &  53.970 & 34.400 & 471.740 & 270 & 7748 & 291 &  79 &  2 & 396 & 82.26853\\\\\n",
       "\t 2004 & 294.834 & 157.400 & 48.502 & 462.664 & 120 & 8782 & 378 &  57 &  2 & 434 & 82.88405\\\\\n",
       "\t 2005 & 322.100 & 128.400 & 33.566 & 415.040 & 251 & 9250 & 421 &  82 &  3 & 435 & 78.91060\\\\\n",
       "\t 2006 & 317.515 & 107.955 & 39.010 & 508.023 & 294 & 9294 & 461 &  97 &  1 & 408 & 69.96081\\\\\n",
       "\t 2007 & 297.600 & 188.694 & 33.600 & 630.493 & 299 & 9682 & 507 &  78 &  2 & 392 & 66.95941\\\\\n",
       "\t 2008 & 395.500 & 126.100 & 30.800 & 739.400 & 297 & 9514 & 505 &  94 &  2 & 386 & 73.92247\\\\\n",
       "\t 2009 & 396.400 & 161.025 & 42.640 & 639.570 & 332 & 8897 & 498 &  71 &  3 & 383 & 65.80139\\\\\n",
       "\t 2010 & 462.660 & 236.775 & 25.400 & 748.430 & 306 & 8659 & 546 &  86 &  5 & 379 & 79.51161\\\\\n",
       "\t 2011 & 440.000 & 203.150 & 37.200 & 920.800 & 267 & 8979 & 578 &  86 &  6 & 379 & 66.76890\\\\\n",
       "\t 2012 & 450.871 & 249.929 & 36.300 & 952.500 & 248 & 8990 & 626 & 108 & 10 & 377 & 63.91401\\\\\n",
       "\\end{tabular}\n"
      ],
      "text/markdown": [
       "\n",
       "A tibble: 15 × 12\n",
       "\n",
       "| Year &lt;int&gt; | Walnuts, Inshell Basis &lt;dbl&gt; | Pistachios, Inshell Basis &lt;dbl&gt; | Filberts, Inshell Basis &lt;dbl&gt; | Almonds, Shelled Basis &lt;dbl&gt; | Oil, Sunflowerseed &lt;dbl&gt; | Oil, Soybean &lt;dbl&gt; | Oil, Rapeseed &lt;dbl&gt; | Oil, Peanut &lt;dbl&gt; | Oil, Olive &lt;dbl&gt; | Oil, Cottonseed &lt;dbl&gt; | Honey &lt;dbl&gt; |\n",
       "|---|---|---|---|---|---|---|---|---|---|---|---|\n",
       "| 1998 | 205.931 |  85.275 | 14.061 | 235.884 | 534 | 8202 | 290 |  66 |  1 | 377 | 99.57162 |\n",
       "| 1999 | 256.734 |  56.056 | 34.500 | 377.800 | 478 | 8085 | 319 | 104 |  1 | 426 | 91.80072 |\n",
       "| 2000 | 216.816 | 110.179 | 20.471 | 318.900 | 396 | 8355 | 345 |  81 |  1 | 384 | 99.58931 |\n",
       "| 2001 | 276.700 |  73.240 | 44.906 | 376.500 | 319 | 8572 | 287 | 104 |  1 | 398 | 84.25344 |\n",
       "| 2002 | 255.825 | 137.562 | 17.700 | 494.416 | 145 | 8360 | 243 | 130 |  1 | 329 | 77.68409 |\n",
       "| 2003 | 295.741 |  53.970 | 34.400 | 471.740 | 270 | 7748 | 291 |  79 |  2 | 396 | 82.26853 |\n",
       "| 2004 | 294.834 | 157.400 | 48.502 | 462.664 | 120 | 8782 | 378 |  57 |  2 | 434 | 82.88405 |\n",
       "| 2005 | 322.100 | 128.400 | 33.566 | 415.040 | 251 | 9250 | 421 |  82 |  3 | 435 | 78.91060 |\n",
       "| 2006 | 317.515 | 107.955 | 39.010 | 508.023 | 294 | 9294 | 461 |  97 |  1 | 408 | 69.96081 |\n",
       "| 2007 | 297.600 | 188.694 | 33.600 | 630.493 | 299 | 9682 | 507 |  78 |  2 | 392 | 66.95941 |\n",
       "| 2008 | 395.500 | 126.100 | 30.800 | 739.400 | 297 | 9514 | 505 |  94 |  2 | 386 | 73.92247 |\n",
       "| 2009 | 396.400 | 161.025 | 42.640 | 639.570 | 332 | 8897 | 498 |  71 |  3 | 383 | 65.80139 |\n",
       "| 2010 | 462.660 | 236.775 | 25.400 | 748.430 | 306 | 8659 | 546 |  86 |  5 | 379 | 79.51161 |\n",
       "| 2011 | 440.000 | 203.150 | 37.200 | 920.800 | 267 | 8979 | 578 |  86 |  6 | 379 | 66.76890 |\n",
       "| 2012 | 450.871 | 249.929 | 36.300 | 952.500 | 248 | 8990 | 626 | 108 | 10 | 377 | 63.91401 |\n",
       "\n"
      ],
      "text/plain": [
       "   Year Walnuts, Inshell Basis Pistachios, Inshell Basis\n",
       "1  1998 205.931                 85.275                  \n",
       "2  1999 256.734                 56.056                  \n",
       "3  2000 216.816                110.179                  \n",
       "4  2001 276.700                 73.240                  \n",
       "5  2002 255.825                137.562                  \n",
       "6  2003 295.741                 53.970                  \n",
       "7  2004 294.834                157.400                  \n",
       "8  2005 322.100                128.400                  \n",
       "9  2006 317.515                107.955                  \n",
       "10 2007 297.600                188.694                  \n",
       "11 2008 395.500                126.100                  \n",
       "12 2009 396.400                161.025                  \n",
       "13 2010 462.660                236.775                  \n",
       "14 2011 440.000                203.150                  \n",
       "15 2012 450.871                249.929                  \n",
       "   Filberts, Inshell Basis Almonds, Shelled Basis Oil, Sunflowerseed\n",
       "1  14.061                  235.884                534               \n",
       "2  34.500                  377.800                478               \n",
       "3  20.471                  318.900                396               \n",
       "4  44.906                  376.500                319               \n",
       "5  17.700                  494.416                145               \n",
       "6  34.400                  471.740                270               \n",
       "7  48.502                  462.664                120               \n",
       "8  33.566                  415.040                251               \n",
       "9  39.010                  508.023                294               \n",
       "10 33.600                  630.493                299               \n",
       "11 30.800                  739.400                297               \n",
       "12 42.640                  639.570                332               \n",
       "13 25.400                  748.430                306               \n",
       "14 37.200                  920.800                267               \n",
       "15 36.300                  952.500                248               \n",
       "   Oil, Soybean Oil, Rapeseed Oil, Peanut Oil, Olive Oil, Cottonseed Honey   \n",
       "1  8202         290            66          1         377             99.57162\n",
       "2  8085         319           104          1         426             91.80072\n",
       "3  8355         345            81          1         384             99.58931\n",
       "4  8572         287           104          1         398             84.25344\n",
       "5  8360         243           130          1         329             77.68409\n",
       "6  7748         291            79          2         396             82.26853\n",
       "7  8782         378            57          2         434             82.88405\n",
       "8  9250         421            82          3         435             78.91060\n",
       "9  9294         461            97          1         408             69.96081\n",
       "10 9682         507            78          2         392             66.95941\n",
       "11 9514         505            94          2         386             73.92247\n",
       "12 8897         498            71          3         383             65.80139\n",
       "13 8659         546            86          5         379             79.51161\n",
       "14 8979         578            86          6         379             66.76890\n",
       "15 8990         626           108         10         377             63.91401"
      ]
     },
     "metadata": {},
     "output_type": "display_data"
    }
   ],
   "source": [
    "## Omitting missing values\n",
    "RegReady <- select(RegReady, -c('Pecans, Inshell Basis', 'Macadamia, Inshell Basis'))\n",
    "RegReady"
   ]
  },
  {
   "cell_type": "code",
   "execution_count": 67,
   "id": "bd8acd30-9b21-4ecc-afe5-7e0e05cd15cf",
   "metadata": {
    "tags": []
   },
   "outputs": [
    {
     "data": {
      "text/plain": [
       "\n",
       "Call:\n",
       "lm(formula = Honey ~ ., data = RegReady)\n",
       "\n",
       "Residuals:\n",
       "      1       2       3       4       5       6       7       8       9      10 \n",
       "-1.9848 -1.2527  2.5934  2.5002 -1.3096  1.2593 -1.3504  0.3318 -1.8634  1.5521 \n",
       "     11      12      13      14      15 \n",
       " 0.2196 -1.3198  1.1497 -0.1064 -0.4191 \n",
       "\n",
       "Coefficients:\n",
       "                              Estimate Std. Error t value Pr(>|t|)  \n",
       "(Intercept)                  1.761e+04  4.267e+03   4.126   0.0258 *\n",
       "Year                        -8.732e+00  2.127e+00  -4.106   0.0262 *\n",
       "`Walnuts, Inshell Basis`     1.795e-01  5.487e-02   3.272   0.0467 *\n",
       "`Pistachios, Inshell Basis` -3.990e-02  5.058e-02  -0.789   0.4878  \n",
       "`Filberts, Inshell Basis`   -2.190e-01  1.666e-01  -1.314   0.2802  \n",
       "`Almonds, Shelled Basis`    -2.402e-02  2.101e-02  -1.143   0.3358  \n",
       "`Oil, Sunflowerseed`        -6.672e-02  2.863e-02  -2.330   0.1021  \n",
       "`Oil, Soybean`              -5.440e-03  4.237e-03  -1.284   0.2894  \n",
       "`Oil, Rapeseed`              1.843e-01  7.551e-02   2.441   0.0924 .\n",
       "`Oil, Peanut`               -1.539e-01  7.382e-02  -2.084   0.1285  \n",
       "`Oil, Olive`                -6.207e-02  9.446e-01  -0.066   0.9517  \n",
       "`Oil, Cottonseed`           -1.233e-01  1.041e-01  -1.184   0.3215  \n",
       "---\n",
       "Signif. codes:  0 '***' 0.001 '**' 0.01 '*' 0.05 '.' 0.1 ' ' 1\n",
       "\n",
       "Residual standard error: 3.312 on 3 degrees of freedom\n",
       "Multiple R-squared:  0.9824,\tAdjusted R-squared:  0.9179 \n",
       "F-statistic: 15.23 on 11 and 3 DF,  p-value: 0.02302\n"
      ]
     },
     "metadata": {},
     "output_type": "display_data"
    }
   ],
   "source": [
    "## Continued Analysis - Stepwise Regression\n",
    "# How do other commodities influence honey production?\n",
    "FitAll = lm(Honey ~ ., data = RegReady)\n",
    "\n",
    "summary(FitAll)"
   ]
  },
  {
   "cell_type": "code",
   "execution_count": 68,
   "id": "8720518a-d2f7-4165-9d14-4dfcef8a24ba",
   "metadata": {},
   "outputs": [],
   "source": [
    "### P-value is significant, but most of the individual commodities are not displaying as significant."
   ]
  },
  {
   "cell_type": "code",
   "execution_count": 81,
   "id": "4b1b97dc-0fcd-4384-b1b4-cce899a3aef9",
   "metadata": {
    "tags": []
   },
   "outputs": [
    {
     "name": "stdout",
     "output_type": "stream",
     "text": [
      "Start:  AIC=35.78\n",
      "Honey ~ Year + `Walnuts, Inshell Basis` + `Pistachios, Inshell Basis` + \n",
      "    `Filberts, Inshell Basis` + `Almonds, Shelled Basis` + `Oil, Sunflowerseed` + \n",
      "    `Oil, Soybean` + `Oil, Rapeseed` + `Oil, Peanut` + `Oil, Olive` + \n",
      "    `Oil, Cottonseed`\n",
      "\n",
      "                              Df Sum of Sq     RSS    AIC\n",
      "- `Oil, Olive`                 1     0.047  32.948 33.803\n",
      "<none>                                      32.900 35.781\n",
      "- `Pistachios, Inshell Basis`  1     6.825  39.726 36.609\n",
      "- `Almonds, Shelled Basis`     1    14.337  47.238 39.207\n",
      "- `Oil, Cottonseed`            1    15.385  48.285 39.536\n",
      "- `Oil, Soybean`               1    18.074  50.974 40.349\n",
      "- `Filberts, Inshell Basis`    1    18.946  51.846 40.603\n",
      "- `Oil, Peanut`                1    47.645  80.545 47.212\n",
      "- `Oil, Sunflowerseed`         1    59.556  92.456 49.280\n",
      "- `Oil, Rapeseed`              1    65.354  98.254 50.193\n",
      "- `Walnuts, Inshell Basis`     1   117.424 150.324 56.571\n",
      "- Year                         1   184.874 217.775 62.131\n",
      "\n",
      "Step:  AIC=33.8\n",
      "Honey ~ Year + `Walnuts, Inshell Basis` + `Pistachios, Inshell Basis` + \n",
      "    `Filberts, Inshell Basis` + `Almonds, Shelled Basis` + `Oil, Sunflowerseed` + \n",
      "    `Oil, Soybean` + `Oil, Rapeseed` + `Oil, Peanut` + `Oil, Cottonseed`\n",
      "\n",
      "                              Df Sum of Sq     RSS    AIC\n",
      "<none>                                      32.948 33.803\n",
      "- `Pistachios, Inshell Basis`  1     8.299  41.247 35.173\n",
      "- `Almonds, Shelled Basis`     1    14.973  47.920 37.422\n",
      "- `Oil, Cottonseed`            1    16.541  49.489 37.906\n",
      "- `Filberts, Inshell Basis`    1    18.899  51.847 38.604\n",
      "- `Oil, Soybean`               1    25.587  58.535 40.424\n",
      "- `Oil, Peanut`                1    55.302  88.249 46.582\n",
      "- `Oil, Sunflowerseed`         1    59.612  92.560 47.297\n",
      "- `Oil, Rapeseed`              1    66.110  99.057 48.315\n",
      "- `Walnuts, Inshell Basis`     1   119.915 152.862 54.822\n",
      "- Year                         1   186.032 218.980 60.214\n"
     ]
    },
    {
     "data": {
      "text/plain": [
       "\n",
       "Call:\n",
       "lm(formula = Honey ~ Year + `Walnuts, Inshell Basis` + `Pistachios, Inshell Basis` + \n",
       "    `Filberts, Inshell Basis` + `Almonds, Shelled Basis` + `Oil, Sunflowerseed` + \n",
       "    `Oil, Soybean` + `Oil, Rapeseed` + `Oil, Peanut` + `Oil, Cottonseed`, \n",
       "    data = RegReady)\n",
       "\n",
       "Coefficients:\n",
       "                (Intercept)                         Year  \n",
       "                  1.762e+04                   -8.741e+00  \n",
       "   `Walnuts, Inshell Basis`  `Pistachios, Inshell Basis`  \n",
       "                  1.800e-01                   -4.109e-02  \n",
       "  `Filberts, Inshell Basis`     `Almonds, Shelled Basis`  \n",
       "                 -2.186e-01                   -2.424e-02  \n",
       "       `Oil, Sunflowerseed`               `Oil, Soybean`  \n",
       "                 -6.674e-02                   -5.279e-03  \n",
       "            `Oil, Rapeseed`                `Oil, Peanut`  \n",
       "                  1.837e-01                   -1.555e-01  \n",
       "          `Oil, Cottonseed`  \n",
       "                 -1.248e-01  \n"
      ]
     },
     "metadata": {},
     "output_type": "display_data"
    }
   ],
   "source": [
    "## Beginning process of elimination to determine best fit\n",
    "step(FitAll, direction = 'backward')"
   ]
  },
  {
   "cell_type": "code",
   "execution_count": null,
   "id": "1808a759-f49d-4130-bad7-d5a123719512",
   "metadata": {},
   "outputs": [],
   "source": []
  },
  {
   "cell_type": "code",
   "execution_count": 79,
   "id": "27b1e6cb-b4dd-4dfb-b126-749d1181c5f3",
   "metadata": {
    "tags": []
   },
   "outputs": [
    {
     "data": {
      "text/plain": [
       "\n",
       "Call:\n",
       "lm(formula = Honey ~ Year + `Walnuts, Inshell Basis` + `Pistachios, Inshell Basis` + \n",
       "    `Filberts, Inshell Basis` + `Almonds, Shelled Basis` + `Oil, Sunflowerseed` + \n",
       "    `Oil, Soybean` + `Oil, Rapeseed` + `Oil, Peanut` + `Oil, Cottonseed`, \n",
       "    data = RegReady)\n",
       "\n",
       "Residuals:\n",
       "      1       2       3       4       5       6       7       8       9      10 \n",
       "-2.0618 -1.1834  2.6189  2.4478 -1.2876  1.2465 -1.3313  0.2482 -1.8122  1.5976 \n",
       "     11      12      13      14      15 \n",
       " 0.2240 -1.3022  1.2335 -0.1042 -0.5339 \n",
       "\n",
       "Coefficients:\n",
       "                              Estimate Std. Error t value Pr(>|t|)   \n",
       "(Intercept)                  1.762e+04  3.691e+03   4.775  0.00881 **\n",
       "Year                        -8.741e+00  1.839e+00  -4.752  0.00896 **\n",
       "`Walnuts, Inshell Basis`     1.800e-01  4.717e-02   3.816  0.01885 * \n",
       "`Pistachios, Inshell Basis` -4.109e-02  4.093e-02  -1.004  0.37229   \n",
       "`Filberts, Inshell Basis`   -2.186e-01  1.443e-01  -1.515  0.20441   \n",
       "`Almonds, Shelled Basis`    -2.424e-02  1.798e-02  -1.348  0.24887   \n",
       "`Oil, Sunflowerseed`        -6.674e-02  2.481e-02  -2.690  0.05465 . \n",
       "`Oil, Soybean`              -5.279e-03  2.995e-03  -1.762  0.15277   \n",
       "`Oil, Rapeseed`              1.837e-01  6.483e-02   2.833  0.04720 * \n",
       "`Oil, Peanut`               -1.555e-01  6.003e-02  -2.591  0.06061 . \n",
       "`Oil, Cottonseed`           -1.248e-01  8.808e-02  -1.417  0.22941   \n",
       "---\n",
       "Signif. codes:  0 '***' 0.001 '**' 0.01 '*' 0.05 '.' 0.1 ' ' 1\n",
       "\n",
       "Residual standard error: 2.87 on 4 degrees of freedom\n",
       "Multiple R-squared:  0.9824,\tAdjusted R-squared:  0.9383 \n",
       "F-statistic:  22.3 on 10 and 4 DF,  p-value: 0.004442\n"
      ]
     },
     "metadata": {},
     "output_type": "display_data"
    }
   ],
   "source": [
    "## Looking at the summary for this model\n",
    "BackElim = lm(Honey ~ Year + `Walnuts, Inshell Basis` + `Pistachios, Inshell Basis` + \n",
    "    `Filberts, Inshell Basis` + `Almonds, Shelled Basis` + `Oil, Sunflowerseed` + \n",
    "    `Oil, Soybean` + `Oil, Rapeseed` + `Oil, Peanut` + `Oil, Cottonseed`, RegReady)\n",
    "summary(BackElim)"
   ]
  },
  {
   "cell_type": "code",
   "execution_count": 84,
   "id": "1ff310df-98dc-4efd-8c50-f8a0f5ee1052",
   "metadata": {},
   "outputs": [
    {
     "data": {
      "text/html": [
       "<style>\n",
       ".dl-inline {width: auto; margin:0; padding: 0}\n",
       ".dl-inline>dt, .dl-inline>dd {float: none; width: auto; display: inline-block}\n",
       ".dl-inline>dt::after {content: \":\\0020\"; padding-right: .5ex}\n",
       ".dl-inline>dt:not(:first-of-type) {padding-left: .5ex}\n",
       "</style><dl class=dl-inline><dt>(Intercept)</dt><dd>17624.85</dd><dt>Year</dt><dd>-8.74</dd><dt>`Walnuts, Inshell Basis`</dt><dd>0.18</dd><dt>`Pistachios, Inshell Basis`</dt><dd>-0.04</dd><dt>`Filberts, Inshell Basis`</dt><dd>-0.22</dd><dt>`Almonds, Shelled Basis`</dt><dd>-0.02</dd><dt>`Oil, Sunflowerseed`</dt><dd>-0.07</dd><dt>`Oil, Soybean`</dt><dd>-0.01</dd><dt>`Oil, Rapeseed`</dt><dd>0.18</dd><dt>`Oil, Peanut`</dt><dd>-0.16</dd><dt>`Oil, Cottonseed`</dt><dd>-0.12</dd></dl>\n"
      ],
      "text/latex": [
       "\\begin{description*}\n",
       "\\item[(Intercept)] 17624.85\n",
       "\\item[Year] -8.74\n",
       "\\item[`Walnuts, Inshell Basis`] 0.18\n",
       "\\item[`Pistachios, Inshell Basis`] -0.04\n",
       "\\item[`Filberts, Inshell Basis`] -0.22\n",
       "\\item[`Almonds, Shelled Basis`] -0.02\n",
       "\\item[`Oil, Sunflowerseed`] -0.07\n",
       "\\item[`Oil, Soybean`] -0.01\n",
       "\\item[`Oil, Rapeseed`] 0.18\n",
       "\\item[`Oil, Peanut`] -0.16\n",
       "\\item[`Oil, Cottonseed`] -0.12\n",
       "\\end{description*}\n"
      ],
      "text/markdown": [
       "(Intercept)\n",
       ":   17624.85Year\n",
       ":   -8.74`Walnuts, Inshell Basis`\n",
       ":   0.18`Pistachios, Inshell Basis`\n",
       ":   -0.04`Filberts, Inshell Basis`\n",
       ":   -0.22`Almonds, Shelled Basis`\n",
       ":   -0.02`Oil, Sunflowerseed`\n",
       ":   -0.07`Oil, Soybean`\n",
       ":   -0.01`Oil, Rapeseed`\n",
       ":   0.18`Oil, Peanut`\n",
       ":   -0.16`Oil, Cottonseed`\n",
       ":   -0.12\n",
       "\n"
      ],
      "text/plain": [
       "                (Intercept)                        Year \n",
       "                   17624.85                       -8.74 \n",
       "   `Walnuts, Inshell Basis` `Pistachios, Inshell Basis` \n",
       "                       0.18                       -0.04 \n",
       "  `Filberts, Inshell Basis`    `Almonds, Shelled Basis` \n",
       "                      -0.22                       -0.02 \n",
       "       `Oil, Sunflowerseed`              `Oil, Soybean` \n",
       "                      -0.07                       -0.01 \n",
       "            `Oil, Rapeseed`               `Oil, Peanut` \n",
       "                       0.18                       -0.16 \n",
       "          `Oil, Cottonseed` \n",
       "                      -0.12 "
      ]
     },
     "metadata": {},
     "output_type": "display_data"
    }
   ],
   "source": [
    "round(BackElim$coefficients, 2)"
   ]
  },
  {
   "cell_type": "code",
   "execution_count": 70,
   "id": "b695f47a-482b-4ee9-aa34-af8dd6750dd2",
   "metadata": {},
   "outputs": [],
   "source": [
    "## Running Forward elimination"
   ]
  },
  {
   "cell_type": "code",
   "execution_count": 71,
   "id": "582c7515-7e5e-4425-8e51-ec60112638a9",
   "metadata": {
    "collapsed": true,
    "jupyter": {
     "outputs_hidden": true
    },
    "tags": []
   },
   "outputs": [
    {
     "data": {
      "text/plain": [
       "\n",
       "Call:\n",
       "lm(formula = Honey ~ 1, data = RegReady)\n",
       "\n",
       "Residuals:\n",
       "     Min       1Q   Median       3Q      Max \n",
       "-15.0061 -10.4600  -0.0095   4.6487  20.6692 \n",
       "\n",
       "Coefficients:\n",
       "            Estimate Std. Error t value Pr(>|t|)    \n",
       "(Intercept)   78.920      2.984   26.45 2.37e-13 ***\n",
       "---\n",
       "Signif. codes:  0 '***' 0.001 '**' 0.01 '*' 0.05 '.' 0.1 ' ' 1\n",
       "\n",
       "Residual standard error: 11.56 on 14 degrees of freedom\n"
      ]
     },
     "metadata": {},
     "output_type": "display_data"
    }
   ],
   "source": [
    "## Creating new baseline model\n",
    "fitstart = lm(Honey ~ 1, data = RegReady)\n",
    "\n",
    "summary(fitstart)"
   ]
  },
  {
   "cell_type": "code",
   "execution_count": 72,
   "id": "94bc1ae4-a0b2-4fa4-97f3-358d23884cd1",
   "metadata": {
    "collapsed": true,
    "jupyter": {
     "outputs_hidden": true
    },
    "tags": []
   },
   "outputs": [
    {
     "name": "stdout",
     "output_type": "stream",
     "text": [
      "Start:  AIC=74.39\n",
      "Honey ~ 1\n",
      "\n",
      "                              Df Sum of Sq     RSS    AIC\n",
      "+ Year                         1   1412.18  457.91 55.279\n",
      "+ `Almonds, Shelled Basis`     1   1236.46  633.64 60.151\n",
      "+ `Walnuts, Inshell Basis`     1   1029.93  840.17 64.383\n",
      "+ `Oil, Rapeseed`              1   1009.12  860.98 64.750\n",
      "+ `Oil, Soybean`               1    850.82 1019.28 67.282\n",
      "+ `Pistachios, Inshell Basis`  1    744.39 1125.71 68.772\n",
      "+ `Oil, Olive`                 1    591.45 1278.65 70.683\n",
      "+ `Oil, Sunflowerseed`         1    554.83 1315.27 71.106\n",
      "+ `Filberts, Inshell Basis`    1    429.99 1440.11 72.466\n",
      "<none>                                     1870.10 74.385\n",
      "+ `Oil, Peanut`                1     64.74 1805.36 75.857\n",
      "+ `Oil, Cottonseed`            1     39.91 1830.18 76.062\n",
      "\n",
      "Step:  AIC=55.28\n",
      "Honey ~ Year\n",
      "\n",
      "                              Df Sum of Sq    RSS    AIC\n",
      "+ `Walnuts, Inshell Basis`     1   117.302 340.61 52.840\n",
      "+ `Oil, Rapeseed`              1    72.462 385.45 54.696\n",
      "+ `Filberts, Inshell Basis`    1    65.588 392.33 54.961\n",
      "+ `Oil, Olive`                 1    62.981 394.93 55.060\n",
      "+ `Oil, Peanut`                1    60.132 397.78 55.168\n",
      "+ `Oil, Sunflowerseed`         1    58.593 399.32 55.226\n",
      "<none>                                     457.91 55.279\n",
      "+ `Pistachios, Inshell Basis`  1    54.853 403.06 55.366\n",
      "+ `Oil, Soybean`               1    52.184 405.73 55.465\n",
      "+ `Oil, Cottonseed`            1     1.362 456.55 57.235\n",
      "+ `Almonds, Shelled Basis`     1     0.316 457.60 57.269\n",
      "\n",
      "Step:  AIC=52.84\n",
      "Honey ~ Year + `Walnuts, Inshell Basis`\n",
      "\n",
      "                              Df Sum of Sq    RSS    AIC\n",
      "+ `Oil, Peanut`                1    91.332 249.28 50.158\n",
      "+ `Pistachios, Inshell Basis`  1    86.839 253.77 50.426\n",
      "+ `Oil, Rapeseed`              1    80.075 260.54 50.820\n",
      "+ `Filberts, Inshell Basis`    1    64.599 276.01 51.686\n",
      "<none>                                     340.61 52.840\n",
      "+ `Oil, Olive`                 1    24.086 316.53 53.740\n",
      "+ `Oil, Sunflowerseed`         1    20.295 320.32 53.919\n",
      "+ `Almonds, Shelled Basis`     1     5.439 335.17 54.599\n",
      "+ `Oil, Soybean`               1     2.597 338.02 54.726\n",
      "+ `Oil, Cottonseed`            1     0.257 340.36 54.829\n",
      "\n",
      "Step:  AIC=50.16\n",
      "Honey ~ Year + `Walnuts, Inshell Basis` + `Oil, Peanut`\n",
      "\n",
      "                              Df Sum of Sq    RSS    AIC\n",
      "+ `Filberts, Inshell Basis`    1   103.988 145.29 44.060\n",
      "+ `Pistachios, Inshell Basis`  1    86.684 162.60 45.748\n",
      "+ `Oil, Rapeseed`              1    42.319 206.96 49.367\n",
      "+ `Oil, Olive`                 1    36.355 212.93 49.793\n",
      "<none>                                     249.28 50.158\n",
      "+ `Oil, Cottonseed`            1    21.843 227.44 50.782\n",
      "+ `Almonds, Shelled Basis`     1     8.435 240.84 51.642\n",
      "+ `Oil, Sunflowerseed`         1     4.927 244.35 51.858\n",
      "+ `Oil, Soybean`               1     2.333 246.95 52.017\n",
      "\n",
      "Step:  AIC=44.06\n",
      "Honey ~ Year + `Walnuts, Inshell Basis` + `Oil, Peanut` + `Filberts, Inshell Basis`\n",
      "\n",
      "                              Df Sum of Sq    RSS    AIC\n",
      "+ `Pistachios, Inshell Basis`  1   29.0360 116.26 42.716\n",
      "+ `Oil, Rapeseed`              1   22.5385 122.75 43.532\n",
      "+ `Oil, Olive`                 1   19.7320 125.56 43.871\n",
      "<none>                                     145.29 44.060\n",
      "+ `Oil, Cottonseed`            1   10.3240 134.97 44.955\n",
      "+ `Oil, Sunflowerseed`         1    2.2791 143.01 45.823\n",
      "+ `Almonds, Shelled Basis`     1    1.4495 143.84 45.910\n",
      "+ `Oil, Soybean`               1    0.0004 145.29 46.060\n",
      "\n",
      "Step:  AIC=42.72\n",
      "Honey ~ Year + `Walnuts, Inshell Basis` + `Oil, Peanut` + `Filberts, Inshell Basis` + \n",
      "    `Pistachios, Inshell Basis`\n",
      "\n",
      "                           Df Sum of Sq    RSS    AIC\n",
      "+ `Oil, Rapeseed`           1   14.7361 101.52 42.683\n",
      "<none>                                  116.26 42.716\n",
      "+ `Oil, Cottonseed`         1   12.9178 103.34 42.949\n",
      "+ `Oil, Olive`              1    4.4104 111.85 44.136\n",
      "+ `Oil, Soybean`            1    0.1316 116.12 44.699\n",
      "+ `Almonds, Shelled Basis`  1    0.1194 116.14 44.701\n",
      "+ `Oil, Sunflowerseed`      1    0.0945 116.16 44.704\n",
      "\n",
      "Step:  AIC=42.68\n",
      "Honey ~ Year + `Walnuts, Inshell Basis` + `Oil, Peanut` + `Filberts, Inshell Basis` + \n",
      "    `Pistachios, Inshell Basis` + `Oil, Rapeseed`\n",
      "\n",
      "                           Df Sum of Sq     RSS    AIC\n",
      "+ `Oil, Sunflowerseed`      1    33.373  68.148 38.704\n",
      "<none>                                  101.520 42.683\n",
      "+ `Oil, Soybean`            1     3.236  98.285 44.197\n",
      "+ `Oil, Cottonseed`         1     3.227  98.293 44.199\n",
      "+ `Oil, Olive`              1     1.779  99.742 44.418\n",
      "+ `Almonds, Shelled Basis`  1     0.039 101.481 44.677\n",
      "\n",
      "Step:  AIC=38.7\n",
      "Honey ~ Year + `Walnuts, Inshell Basis` + `Oil, Peanut` + `Filberts, Inshell Basis` + \n",
      "    `Pistachios, Inshell Basis` + `Oil, Rapeseed` + `Oil, Sunflowerseed`\n",
      "\n",
      "                           Df Sum of Sq    RSS    AIC\n",
      "+ `Oil, Soybean`            1   15.1795 52.968 36.925\n",
      "<none>                                  68.148 38.704\n",
      "+ `Oil, Cottonseed`         1    6.6870 61.460 39.155\n",
      "+ `Oil, Olive`              1    2.6975 65.450 40.099\n",
      "+ `Almonds, Shelled Basis`  1    0.0003 68.147 40.704\n",
      "\n",
      "Step:  AIC=36.92\n",
      "Honey ~ Year + `Walnuts, Inshell Basis` + `Oil, Peanut` + `Filberts, Inshell Basis` + \n",
      "    `Pistachios, Inshell Basis` + `Oil, Rapeseed` + `Oil, Sunflowerseed` + \n",
      "    `Oil, Soybean`\n",
      "\n",
      "                           Df Sum of Sq    RSS    AIC\n",
      "<none>                                  52.968 36.925\n",
      "+ `Oil, Cottonseed`         1    5.0476 47.920 37.422\n",
      "+ `Almonds, Shelled Basis`  1    3.4789 49.489 37.906\n",
      "+ `Oil, Olive`              1    1.3606 51.607 38.534\n"
     ]
    },
    {
     "data": {
      "text/plain": [
       "\n",
       "Call:\n",
       "lm(formula = Honey ~ Year + `Walnuts, Inshell Basis` + `Oil, Peanut` + \n",
       "    `Filberts, Inshell Basis` + `Pistachios, Inshell Basis` + \n",
       "    `Oil, Rapeseed` + `Oil, Sunflowerseed` + `Oil, Soybean`, \n",
       "    data = RegReady)\n",
       "\n",
       "Coefficients:\n",
       "                (Intercept)                         Year  \n",
       "                  1.444e+04                   -7.173e+00  \n",
       "   `Walnuts, Inshell Basis`                `Oil, Peanut`  \n",
       "                  1.421e-01                   -1.519e-01  \n",
       "  `Filberts, Inshell Basis`  `Pistachios, Inshell Basis`  \n",
       "                 -3.410e-01                   -5.569e-03  \n",
       "            `Oil, Rapeseed`         `Oil, Sunflowerseed`  \n",
       "                  1.026e-01                   -4.012e-02  \n",
       "             `Oil, Soybean`  \n",
       "                 -3.584e-03  \n"
      ]
     },
     "metadata": {},
     "output_type": "display_data"
    }
   ],
   "source": [
    "## Beggining Forward Selection \n",
    "step(fitstart, direction = 'forward', scope = (formula(FitAll)))"
   ]
  },
  {
   "cell_type": "code",
   "execution_count": 73,
   "id": "7d0e9292-a6fa-4de2-af4f-16e767c2e9a3",
   "metadata": {
    "collapsed": true,
    "jupyter": {
     "outputs_hidden": true
    },
    "tags": []
   },
   "outputs": [
    {
     "data": {
      "text/plain": [
       "\n",
       "Call:\n",
       "lm(formula = Honey ~ Year + `Walnuts, Inshell Basis` + `Oil, Peanut` + \n",
       "    `Filberts, Inshell Basis` + `Pistachios, Inshell Basis` + \n",
       "    `Oil, Rapeseed` + `Oil, Sunflowerseed` + `Oil, Soybean`, \n",
       "    data = RegReady)\n",
       "\n",
       "Residuals:\n",
       "    Min      1Q  Median      3Q     Max \n",
       "-2.9488 -0.9630 -0.3666  0.2659  4.7163 \n",
       "\n",
       "Coefficients:\n",
       "                              Estimate Std. Error t value Pr(>|t|)   \n",
       "(Intercept)                  1.444e+04  2.432e+03   5.936  0.00102 **\n",
       "Year                        -7.173e+00  1.221e+00  -5.874  0.00108 **\n",
       "`Walnuts, Inshell Basis`     1.421e-01  3.973e-02   3.576  0.01169 * \n",
       "`Oil, Peanut`               -1.519e-01  4.816e-02  -3.155  0.01970 * \n",
       "`Filberts, Inshell Basis`   -3.410e-01  1.169e-01  -2.916  0.02677 * \n",
       "`Pistachios, Inshell Basis` -5.569e-03  3.368e-02  -0.165  0.87411   \n",
       "`Oil, Rapeseed`              1.026e-01  3.842e-02   2.671  0.03696 * \n",
       "`Oil, Sunflowerseed`        -4.012e-02  1.771e-02  -2.266  0.06405 . \n",
       "`Oil, Soybean`              -3.584e-03  2.733e-03  -1.311  0.23770   \n",
       "---\n",
       "Signif. codes:  0 '***' 0.001 '**' 0.01 '*' 0.05 '.' 0.1 ' ' 1\n",
       "\n",
       "Residual standard error: 2.971 on 6 degrees of freedom\n",
       "Multiple R-squared:  0.9717,\tAdjusted R-squared:  0.9339 \n",
       "F-statistic: 25.73 on 8 and 6 DF,  p-value: 0.0004261\n"
      ]
     },
     "metadata": {},
     "output_type": "display_data"
    }
   ],
   "source": [
    "## Examining Final Model for Forward Selection\n",
    "fitsome2 = lm(Honey ~ Year + `Walnuts, Inshell Basis` + `Oil, Peanut` + `Filberts, Inshell Basis` + \n",
    "    `Pistachios, Inshell Basis` + `Oil, Rapeseed` + `Oil, Sunflowerseed` + \n",
    "    `Oil, Soybean`, data = RegReady)\n",
    "summary(fitsome2)"
   ]
  },
  {
   "cell_type": "code",
   "execution_count": 75,
   "id": "4b3aca99-7382-4ea8-8d8d-bb6c01647b27",
   "metadata": {},
   "outputs": [],
   "source": [
    "### So far backward elimination makes more sense, and also seems more credible given the AIC is lower than the final model for Forward selection"
   ]
  },
  {
   "cell_type": "code",
   "execution_count": 77,
   "id": "cc60ba2e-f960-4f68-933b-36709647daf6",
   "metadata": {
    "collapsed": true,
    "jupyter": {
     "outputs_hidden": true
    },
    "tags": []
   },
   "outputs": [
    {
     "name": "stdout",
     "output_type": "stream",
     "text": [
      "Start:  AIC=74.39\n",
      "Honey ~ 1\n",
      "\n",
      "                              Df Sum of Sq     RSS    AIC\n",
      "+ Year                         1   1412.18  457.91 55.279\n",
      "+ `Almonds, Shelled Basis`     1   1236.46  633.64 60.151\n",
      "+ `Walnuts, Inshell Basis`     1   1029.93  840.17 64.383\n",
      "+ `Oil, Rapeseed`              1   1009.12  860.98 64.750\n",
      "+ `Oil, Soybean`               1    850.82 1019.28 67.282\n",
      "+ `Pistachios, Inshell Basis`  1    744.39 1125.71 68.772\n",
      "+ `Oil, Olive`                 1    591.45 1278.65 70.683\n",
      "+ `Oil, Sunflowerseed`         1    554.83 1315.27 71.106\n",
      "+ `Filberts, Inshell Basis`    1    429.99 1440.11 72.466\n",
      "<none>                                     1870.10 74.385\n",
      "+ `Oil, Peanut`                1     64.74 1805.36 75.857\n",
      "+ `Oil, Cottonseed`            1     39.91 1830.18 76.062\n",
      "\n",
      "Step:  AIC=55.28\n",
      "Honey ~ Year\n",
      "\n",
      "                              Df Sum of Sq     RSS    AIC\n",
      "+ `Walnuts, Inshell Basis`     1    117.30  340.61 52.840\n",
      "+ `Oil, Rapeseed`              1     72.46  385.45 54.696\n",
      "+ `Filberts, Inshell Basis`    1     65.59  392.33 54.961\n",
      "+ `Oil, Olive`                 1     62.98  394.93 55.060\n",
      "+ `Oil, Peanut`                1     60.13  397.78 55.168\n",
      "+ `Oil, Sunflowerseed`         1     58.59  399.32 55.226\n",
      "<none>                                      457.91 55.279\n",
      "+ `Pistachios, Inshell Basis`  1     54.85  403.06 55.366\n",
      "+ `Oil, Soybean`               1     52.18  405.73 55.465\n",
      "+ `Oil, Cottonseed`            1      1.36  456.55 57.235\n",
      "+ `Almonds, Shelled Basis`     1      0.32  457.60 57.269\n",
      "- Year                         1   1412.18 1870.10 74.385\n",
      "\n",
      "Step:  AIC=52.84\n",
      "Honey ~ Year + `Walnuts, Inshell Basis`\n",
      "\n",
      "                              Df Sum of Sq    RSS    AIC\n",
      "+ `Oil, Peanut`                1     91.33 249.28 50.158\n",
      "+ `Pistachios, Inshell Basis`  1     86.84 253.77 50.426\n",
      "+ `Oil, Rapeseed`              1     80.07 260.54 50.820\n",
      "+ `Filberts, Inshell Basis`    1     64.60 276.01 51.686\n",
      "<none>                                     340.61 52.840\n",
      "+ `Oil, Olive`                 1     24.09 316.53 53.740\n",
      "+ `Oil, Sunflowerseed`         1     20.29 320.32 53.919\n",
      "+ `Almonds, Shelled Basis`     1      5.44 335.17 54.599\n",
      "+ `Oil, Soybean`               1      2.60 338.02 54.726\n",
      "+ `Oil, Cottonseed`            1      0.26 340.36 54.829\n",
      "- `Walnuts, Inshell Basis`     1    117.30 457.91 55.279\n",
      "- Year                         1    499.55 840.17 64.383\n",
      "\n",
      "Step:  AIC=50.16\n",
      "Honey ~ Year + `Walnuts, Inshell Basis` + `Oil, Peanut`\n",
      "\n",
      "                              Df Sum of Sq    RSS    AIC\n",
      "+ `Filberts, Inshell Basis`    1    103.99 145.29 44.060\n",
      "+ `Pistachios, Inshell Basis`  1     86.68 162.60 45.748\n",
      "+ `Oil, Rapeseed`              1     42.32 206.96 49.367\n",
      "+ `Oil, Olive`                 1     36.36 212.93 49.793\n",
      "<none>                                     249.28 50.158\n",
      "+ `Oil, Cottonseed`            1     21.84 227.44 50.782\n",
      "+ `Almonds, Shelled Basis`     1      8.44 240.85 51.642\n",
      "+ `Oil, Sunflowerseed`         1      4.93 244.35 51.858\n",
      "+ `Oil, Soybean`               1      2.33 246.95 52.017\n",
      "- `Oil, Peanut`                1     91.33 340.61 52.840\n",
      "- `Walnuts, Inshell Basis`     1    148.50 397.78 55.168\n",
      "- Year                         1    552.29 801.57 65.678\n",
      "\n",
      "Step:  AIC=44.06\n",
      "Honey ~ Year + `Walnuts, Inshell Basis` + `Oil, Peanut` + `Filberts, Inshell Basis`\n",
      "\n",
      "                              Df Sum of Sq    RSS    AIC\n",
      "+ `Pistachios, Inshell Basis`  1     29.04 116.26 42.716\n",
      "+ `Oil, Rapeseed`              1     22.54 122.75 43.532\n",
      "+ `Oil, Olive`                 1     19.73 125.56 43.871\n",
      "<none>                                     145.29 44.060\n",
      "+ `Oil, Cottonseed`            1     10.32 134.97 44.955\n",
      "+ `Oil, Sunflowerseed`         1      2.28 143.01 45.823\n",
      "+ `Almonds, Shelled Basis`     1      1.45 143.84 45.910\n",
      "+ `Oil, Soybean`               1      0.00 145.29 46.060\n",
      "- `Filberts, Inshell Basis`    1    103.99 249.28 50.158\n",
      "- `Oil, Peanut`                1    130.72 276.01 51.686\n",
      "- `Walnuts, Inshell Basis`     1    155.09 300.38 52.955\n",
      "- Year                         1    502.19 647.48 64.476\n",
      "\n",
      "Step:  AIC=42.72\n",
      "Honey ~ Year + `Walnuts, Inshell Basis` + `Oil, Peanut` + `Filberts, Inshell Basis` + \n",
      "    `Pistachios, Inshell Basis`\n",
      "\n",
      "                              Df Sum of Sq    RSS    AIC\n",
      "+ `Oil, Rapeseed`              1     14.74 101.52 42.683\n",
      "<none>                                     116.26 42.716\n",
      "+ `Oil, Cottonseed`            1     12.92 103.34 42.949\n",
      "- `Pistachios, Inshell Basis`  1     29.04 145.29 44.060\n",
      "+ `Oil, Olive`                 1      4.41 111.85 44.136\n",
      "+ `Oil, Soybean`               1      0.13 116.12 44.699\n",
      "+ `Almonds, Shelled Basis`     1      0.12 116.14 44.701\n",
      "+ `Oil, Sunflowerseed`         1      0.09 116.16 44.704\n",
      "- `Filberts, Inshell Basis`    1     46.34 162.60 45.748\n",
      "- `Oil, Peanut`                1    117.49 233.75 51.193\n",
      "- `Walnuts, Inshell Basis`     1    173.76 290.02 54.428\n",
      "- Year                         1    444.86 561.12 64.328\n",
      "\n",
      "Step:  AIC=42.68\n",
      "Honey ~ Year + `Walnuts, Inshell Basis` + `Oil, Peanut` + `Filberts, Inshell Basis` + \n",
      "    `Pistachios, Inshell Basis` + `Oil, Rapeseed`\n",
      "\n",
      "                              Df Sum of Sq    RSS    AIC\n",
      "+ `Oil, Sunflowerseed`         1     33.37  68.15 38.704\n",
      "<none>                                     101.52 42.683\n",
      "- `Oil, Rapeseed`              1     14.74 116.26 42.716\n",
      "- `Pistachios, Inshell Basis`  1     21.23 122.75 43.532\n",
      "+ `Oil, Soybean`               1      3.24  98.28 44.197\n",
      "+ `Oil, Cottonseed`            1      3.23  98.29 44.199\n",
      "+ `Oil, Olive`                 1      1.78  99.74 44.418\n",
      "+ `Almonds, Shelled Basis`     1      0.04 101.48 44.677\n",
      "- `Filberts, Inshell Basis`    1     41.59 143.11 45.834\n",
      "- `Oil, Peanut`                1     84.12 185.64 49.736\n",
      "- `Walnuts, Inshell Basis`     1    169.35 270.87 55.404\n",
      "- Year                         1    406.19 507.71 64.828\n",
      "\n",
      "Step:  AIC=38.7\n",
      "Honey ~ Year + `Walnuts, Inshell Basis` + `Oil, Peanut` + `Filberts, Inshell Basis` + \n",
      "    `Pistachios, Inshell Basis` + `Oil, Rapeseed` + `Oil, Sunflowerseed`\n",
      "\n",
      "                              Df Sum of Sq    RSS    AIC\n",
      "- `Pistachios, Inshell Basis`  1     0.661  68.81 36.849\n",
      "+ `Oil, Soybean`               1    15.180  52.97 36.925\n",
      "<none>                                      68.15 38.704\n",
      "+ `Oil, Cottonseed`            1     6.687  61.46 39.155\n",
      "+ `Oil, Olive`                 1     2.698  65.45 40.099\n",
      "+ `Almonds, Shelled Basis`     1     0.000  68.15 40.704\n",
      "- `Oil, Sunflowerseed`         1    33.373 101.52 42.683\n",
      "- `Oil, Rapeseed`              1    48.015 116.16 44.704\n",
      "- `Filberts, Inshell Basis`    1    73.129 141.28 47.640\n",
      "- `Oil, Peanut`                1   101.820 169.97 50.413\n",
      "- `Walnuts, Inshell Basis`     1   200.354 268.50 57.272\n",
      "- Year                         1   316.174 384.32 62.651\n",
      "\n",
      "Step:  AIC=36.85\n",
      "Honey ~ Year + `Walnuts, Inshell Basis` + `Oil, Peanut` + `Filberts, Inshell Basis` + \n",
      "    `Oil, Rapeseed` + `Oil, Sunflowerseed`\n",
      "\n",
      "                              Df Sum of Sq    RSS    AIC\n",
      "+ `Oil, Soybean`               1     15.60  53.21 34.993\n",
      "<none>                                      68.81 36.849\n",
      "+ `Oil, Cottonseed`            1      6.74  62.07 37.302\n",
      "+ `Oil, Olive`                 1      3.36  65.45 38.099\n",
      "+ `Pistachios, Inshell Basis`  1      0.66  68.15 38.704\n",
      "+ `Almonds, Shelled Basis`     1      0.02  68.79 38.846\n",
      "- `Oil, Sunflowerseed`         1     53.95 122.75 43.532\n",
      "- `Oil, Rapeseed`              1     74.20 143.01 45.823\n",
      "- `Oil, Peanut`                1    105.85 174.66 48.822\n",
      "- `Filberts, Inshell Basis`    1    123.48 192.29 50.264\n",
      "- `Walnuts, Inshell Basis`     1    207.82 276.63 55.719\n",
      "- Year                         1    328.78 397.59 61.160\n",
      "\n",
      "Step:  AIC=34.99\n",
      "Honey ~ Year + `Walnuts, Inshell Basis` + `Oil, Peanut` + `Filberts, Inshell Basis` + \n",
      "    `Oil, Rapeseed` + `Oil, Sunflowerseed` + `Oil, Soybean`\n",
      "\n",
      "                              Df Sum of Sq    RSS    AIC\n",
      "<none>                                      53.21 34.993\n",
      "+ `Almonds, Shelled Basis`     1     3.451  49.76 35.987\n",
      "+ `Oil, Cottonseed`            1     2.743  50.47 36.199\n",
      "+ `Oil, Olive`                 1     1.585  51.62 36.539\n",
      "- `Oil, Soybean`               1    15.599  68.81 36.849\n",
      "+ `Pistachios, Inshell Basis`  1     0.241  52.97 36.925\n",
      "- `Oil, Sunflowerseed`         1    62.930 116.14 44.701\n",
      "- `Oil, Peanut`                1    87.657 140.87 47.596\n",
      "- `Oil, Rapeseed`              1    89.642 142.85 47.806\n",
      "- `Filberts, Inshell Basis`    1   102.722 155.93 49.120\n",
      "- `Walnuts, Inshell Basis`     1   113.422 166.63 50.116\n",
      "- Year                         1   307.255 360.46 61.690\n"
     ]
    },
    {
     "data": {
      "text/plain": [
       "\n",
       "Call:\n",
       "lm(formula = Honey ~ Year + `Walnuts, Inshell Basis` + `Oil, Peanut` + \n",
       "    `Filberts, Inshell Basis` + `Oil, Rapeseed` + `Oil, Sunflowerseed` + \n",
       "    `Oil, Soybean`, data = RegReady)\n",
       "\n",
       "Coefficients:\n",
       "              (Intercept)                       Year  \n",
       "                1.439e+04                 -7.147e+00  \n",
       " `Walnuts, Inshell Basis`              `Oil, Peanut`  \n",
       "                1.423e-01                 -1.514e-01  \n",
       "`Filberts, Inshell Basis`            `Oil, Rapeseed`  \n",
       "               -3.302e-01                  9.888e-02  \n",
       "     `Oil, Sunflowerseed`             `Oil, Soybean`  \n",
       "               -3.841e-02                 -3.437e-03  \n"
      ]
     },
     "metadata": {},
     "output_type": "display_data"
    }
   ],
   "source": [
    "## Trying Hybrid Selection\n",
    "step(fitstart, direction='both', scope=formula(FitAll))"
   ]
  },
  {
   "cell_type": "code",
   "execution_count": 85,
   "id": "aa61005a-0ef2-4967-914a-351e648c2fe5",
   "metadata": {},
   "outputs": [],
   "source": [
    "### Looking at hybrid, I would elect to go with our backward elimination model for our Stepwise Regression Analysis because it has the lowest AIC. "
   ]
  },
  {
   "cell_type": "code",
   "execution_count": null,
   "id": "6fef4bd0-8d70-4253-a22b-3fb8d3024a07",
   "metadata": {},
   "outputs": [],
   "source": []
  }
 ],
 "metadata": {
  "kernelspec": {
   "display_name": "R",
   "language": "R",
   "name": "ir"
  },
  "language_info": {
   "codemirror_mode": "r",
   "file_extension": ".r",
   "mimetype": "text/x-r-source",
   "name": "R",
   "pygments_lexer": "r",
   "version": "4.1.2"
  }
 },
 "nbformat": 4,
 "nbformat_minor": 5
}
