{
 "cells": [
  {
   "cell_type": "code",
   "execution_count": 2,
   "id": "a98612fc-a377-4ea5-b5e7-e6a743ac8535",
   "metadata": {
    "tags": []
   },
   "outputs": [],
   "source": [
    "# Final Project - Queen Bees - Exploratory Analysis - Category 4 - Nuts & Oils\n",
    "## Sara Slocum"
   ]
  },
  {
   "cell_type": "code",
   "execution_count": 139,
   "id": "5fbedf55-8bc4-42c4-8912-f8a6f5fd2ceb",
   "metadata": {
    "tags": []
   },
   "outputs": [
    {
     "name": "stderr",
     "output_type": "stream",
     "text": [
      "corrplot 0.92 loaded\n",
      "\n"
     ]
    }
   ],
   "source": [
    "library(dplyr)\n",
    "library(tidyr)\n",
    "library(ggplot2)\n",
    "library(PerformanceAnalytics)\n",
    "library(lattice)\n",
    "library(mvnormtest)\n",
    "library(car)\n",
    "library(fastR2)\n",
    "library(caret)\n",
    "library(gvlma)\n",
    "library(predictmeans)\n",
    "library(e1071)\n",
    "library(lmtest)\n",
    "library(rcompanion)\n",
    "library(corrplot)"
   ]
  },
  {
   "cell_type": "code",
   "execution_count": 4,
   "id": "caf16bec-ebc8-4a41-9d04-1380c990600c",
   "metadata": {},
   "outputs": [],
   "source": [
    "Nuts_Oils <- read.csv(\"C:/Users/saslo/Data_Science/DS_Portfolio/Queen_Bees/Datasets/Wrangled_Data/usdaNuts_Oils.csv\")"
   ]
  },
  {
   "cell_type": "code",
   "execution_count": 5,
   "id": "fb9cbb73-c4bf-45c9-b175-1ca3e1c289e9",
   "metadata": {
    "tags": []
   },
   "outputs": [
    {
     "data": {
      "text/plain": [
       "      X.1                X          Commodity_Description Country_Code      \n",
       " Min.   :   1.00   Min.   :   1.0   Length:186            Length:186        \n",
       " 1st Qu.:  47.25   1st Qu.: 385.8   Class :character      Class :character  \n",
       " Median :  93.50   Median :2485.0   Mode  :character      Mode  :character  \n",
       " Mean   : 748.90   Mean   :3367.0                                           \n",
       " 3rd Qu.: 139.75   3rd Qu.:6237.2                                           \n",
       " Max.   :8313.00   Max.   :8313.0                                           \n",
       " Country_Name            Year      Attribute_Description Unit_Description  \n",
       " Length:186         Min.   :1998   Length:186            Length:186        \n",
       " Class :character   1st Qu.:2001   Class :character      Class :character  \n",
       " Mode  :character   Median :2005   Mode  :character      Mode  :character  \n",
       "                    Mean   :2005                                           \n",
       "                    3rd Qu.:2008                                           \n",
       "                    Max.   :2012                                           \n",
       "     Value            Category    \n",
       " Min.   :   1000   Min.   :4.000  \n",
       " 1st Qu.:  66542   1st Qu.:4.000  \n",
       " Median : 195922   Median :4.000  \n",
       " Mean   : 904616   Mean   :4.161  \n",
       " 3rd Qu.: 395875   3rd Qu.:4.000  \n",
       " Max.   :9682000   Max.   :6.000  "
      ]
     },
     "metadata": {},
     "output_type": "display_data"
    }
   ],
   "source": [
    "summary(Nuts_Oils)"
   ]
  },
  {
   "cell_type": "code",
   "execution_count": 6,
   "id": "c5c56175-4569-48e3-bb21-269dd398f22e",
   "metadata": {},
   "outputs": [
    {
     "data": {
      "text/html": [
       "<style>\n",
       ".list-inline {list-style: none; margin:0; padding: 0}\n",
       ".list-inline>li {display: inline-block}\n",
       ".list-inline>li:not(:last-child)::after {content: \"\\00b7\"; padding: 0 .5ex}\n",
       "</style>\n",
       "<ol class=list-inline><li>'Walnuts, Inshell Basis'</li><li>'Pistachios, Inshell Basis'</li><li>'Pecans, Inshell Basis'</li><li>'Macadamia, Inshell Basis'</li><li>'Filberts, Inshell Basis'</li><li>'Almonds, Shelled Basis'</li><li>'Oil, Sunflowerseed'</li><li>'Oil, Soybean'</li><li>'Oil, Rapeseed'</li><li>'Oil, Peanut'</li><li>'Oil, Olive'</li><li>'Oil, Cottonseed'</li><li>'Honey'</li></ol>\n"
      ],
      "text/latex": [
       "\\begin{enumerate*}\n",
       "\\item 'Walnuts, Inshell Basis'\n",
       "\\item 'Pistachios, Inshell Basis'\n",
       "\\item 'Pecans, Inshell Basis'\n",
       "\\item 'Macadamia, Inshell Basis'\n",
       "\\item 'Filberts, Inshell Basis'\n",
       "\\item 'Almonds, Shelled Basis'\n",
       "\\item 'Oil, Sunflowerseed'\n",
       "\\item 'Oil, Soybean'\n",
       "\\item 'Oil, Rapeseed'\n",
       "\\item 'Oil, Peanut'\n",
       "\\item 'Oil, Olive'\n",
       "\\item 'Oil, Cottonseed'\n",
       "\\item 'Honey'\n",
       "\\end{enumerate*}\n"
      ],
      "text/markdown": [
       "1. 'Walnuts, Inshell Basis'\n",
       "2. 'Pistachios, Inshell Basis'\n",
       "3. 'Pecans, Inshell Basis'\n",
       "4. 'Macadamia, Inshell Basis'\n",
       "5. 'Filberts, Inshell Basis'\n",
       "6. 'Almonds, Shelled Basis'\n",
       "7. 'Oil, Sunflowerseed'\n",
       "8. 'Oil, Soybean'\n",
       "9. 'Oil, Rapeseed'\n",
       "10. 'Oil, Peanut'\n",
       "11. 'Oil, Olive'\n",
       "12. 'Oil, Cottonseed'\n",
       "13. 'Honey'\n",
       "\n",
       "\n"
      ],
      "text/plain": [
       " [1] \"Walnuts, Inshell Basis\"    \"Pistachios, Inshell Basis\"\n",
       " [3] \"Pecans, Inshell Basis\"     \"Macadamia, Inshell Basis\" \n",
       " [5] \"Filberts, Inshell Basis\"   \"Almonds, Shelled Basis\"   \n",
       " [7] \"Oil, Sunflowerseed\"        \"Oil, Soybean\"             \n",
       " [9] \"Oil, Rapeseed\"             \"Oil, Peanut\"              \n",
       "[11] \"Oil, Olive\"                \"Oil, Cottonseed\"          \n",
       "[13] \"Honey\"                    "
      ]
     },
     "metadata": {},
     "output_type": "display_data"
    }
   ],
   "source": [
    "unique(Nuts_Oils$Commodity_Description)"
   ]
  },
  {
   "cell_type": "code",
   "execution_count": 105,
   "id": "f8150d45-35ad-4d1c-9953-f5e54a48f89a",
   "metadata": {},
   "outputs": [
    {
     "data": {
      "text/html": [
       "<table class=\"dataframe\">\n",
       "<caption>A data.frame: 13 × 2</caption>\n",
       "<thead>\n",
       "\t<tr><th scope=col>Commodity_Description</th><th scope=col>ave.val</th></tr>\n",
       "\t<tr><th scope=col>&lt;chr&gt;</th><th scope=col>&lt;dbl&gt;</th></tr>\n",
       "</thead>\n",
       "<tbody>\n",
       "\t<tr><td>Almonds, Shelled Basis   </td><td> 552810.667</td></tr>\n",
       "\t<tr><td>Filberts, Inshell Basis  </td><td>  32870.400</td></tr>\n",
       "\t<tr><td>Honey                    </td><td>  78920.064</td></tr>\n",
       "\t<tr><td>Macadamia, Inshell Basis </td><td>  24243.800</td></tr>\n",
       "\t<tr><td>Oil, Cottonseed          </td><td> 392200.000</td></tr>\n",
       "\t<tr><td>Oil, Olive               </td><td>   2733.333</td></tr>\n",
       "\t<tr><td>Oil, Peanut              </td><td>  88200.000</td></tr>\n",
       "\t<tr><td>Oil, Rapeseed            </td><td> 419666.667</td></tr>\n",
       "\t<tr><td>Oil, Soybean             </td><td>8757933.333</td></tr>\n",
       "\t<tr><td>Oil, Sunflowerseed       </td><td> 303733.333</td></tr>\n",
       "\t<tr><td>Pecans, Inshell Basis    </td><td> 147192.273</td></tr>\n",
       "\t<tr><td>Pistachios, Inshell Basis</td><td> 138380.667</td></tr>\n",
       "\t<tr><td>Walnuts, Inshell Basis   </td><td> 325681.800</td></tr>\n",
       "</tbody>\n",
       "</table>\n"
      ],
      "text/latex": [
       "A data.frame: 13 × 2\n",
       "\\begin{tabular}{ll}\n",
       " Commodity\\_Description & ave.val\\\\\n",
       " <chr> & <dbl>\\\\\n",
       "\\hline\n",
       "\t Almonds, Shelled Basis    &  552810.667\\\\\n",
       "\t Filberts, Inshell Basis   &   32870.400\\\\\n",
       "\t Honey                     &   78920.064\\\\\n",
       "\t Macadamia, Inshell Basis  &   24243.800\\\\\n",
       "\t Oil, Cottonseed           &  392200.000\\\\\n",
       "\t Oil, Olive                &    2733.333\\\\\n",
       "\t Oil, Peanut               &   88200.000\\\\\n",
       "\t Oil, Rapeseed             &  419666.667\\\\\n",
       "\t Oil, Soybean              & 8757933.333\\\\\n",
       "\t Oil, Sunflowerseed        &  303733.333\\\\\n",
       "\t Pecans, Inshell Basis     &  147192.273\\\\\n",
       "\t Pistachios, Inshell Basis &  138380.667\\\\\n",
       "\t Walnuts, Inshell Basis    &  325681.800\\\\\n",
       "\\end{tabular}\n"
      ],
      "text/markdown": [
       "\n",
       "A data.frame: 13 × 2\n",
       "\n",
       "| Commodity_Description &lt;chr&gt; | ave.val &lt;dbl&gt; |\n",
       "|---|---|\n",
       "| Almonds, Shelled Basis    |  552810.667 |\n",
       "| Filberts, Inshell Basis   |   32870.400 |\n",
       "| Honey                     |   78920.064 |\n",
       "| Macadamia, Inshell Basis  |   24243.800 |\n",
       "| Oil, Cottonseed           |  392200.000 |\n",
       "| Oil, Olive                |    2733.333 |\n",
       "| Oil, Peanut               |   88200.000 |\n",
       "| Oil, Rapeseed             |  419666.667 |\n",
       "| Oil, Soybean              | 8757933.333 |\n",
       "| Oil, Sunflowerseed        |  303733.333 |\n",
       "| Pecans, Inshell Basis     |  147192.273 |\n",
       "| Pistachios, Inshell Basis |  138380.667 |\n",
       "| Walnuts, Inshell Basis    |  325681.800 |\n",
       "\n"
      ],
      "text/plain": [
       "   Commodity_Description     ave.val    \n",
       "1  Almonds, Shelled Basis     552810.667\n",
       "2  Filberts, Inshell Basis     32870.400\n",
       "3  Honey                       78920.064\n",
       "4  Macadamia, Inshell Basis    24243.800\n",
       "5  Oil, Cottonseed            392200.000\n",
       "6  Oil, Olive                   2733.333\n",
       "7  Oil, Peanut                 88200.000\n",
       "8  Oil, Rapeseed              419666.667\n",
       "9  Oil, Soybean              8757933.333\n",
       "10 Oil, Sunflowerseed         303733.333\n",
       "11 Pecans, Inshell Basis      147192.273\n",
       "12 Pistachios, Inshell Basis  138380.667\n",
       "13 Walnuts, Inshell Basis     325681.800"
      ]
     },
     "metadata": {},
     "output_type": "display_data"
    }
   ],
   "source": [
    "AveVals <- Nuts_Oils %>% group_by(Commodity_Description) %>% summarize(ave.val = mean(Value));\n",
    "AveVals <- as.data.frame(AveVals)\n",
    "AveVals"
   ]
  },
  {
   "cell_type": "code",
   "execution_count": 8,
   "id": "3e3c0859-9646-4efa-b433-d1df9c79ec66",
   "metadata": {
    "tags": []
   },
   "outputs": [],
   "source": [
    "## We know that some of our data is missing for some of the nuts, but it looks like on Average from 1998-2012, the biggest Nut & Oil commodities produced by the US were\n",
    "### 1 - Soybean Oil (by a long shot)\n",
    "### 2 - Almonds\n",
    "### 3 - Rapeseed Oil\n",
    "### 4 - Cottonseed Oil\n",
    "### 5 - Walnuts"
   ]
  },
  {
   "cell_type": "code",
   "execution_count": 96,
   "id": "82f4bf0c-1fb7-4a34-9677-914f9b511c9d",
   "metadata": {
    "tags": []
   },
   "outputs": [],
   "source": [
    "# ----------------------------------------------------------------------------------------\n",
    "# Does honey production correlate with the production of any other USDA commodities in this category? Which are more highly correlated?"
   ]
  },
  {
   "cell_type": "code",
   "execution_count": 30,
   "id": "cc4562fd-d08a-403d-a860-576fa7a272e6",
   "metadata": {
    "tags": []
   },
   "outputs": [
    {
     "data": {
      "text/html": [
       "<style>\n",
       ".list-inline {list-style: none; margin:0; padding: 0}\n",
       ".list-inline>li {display: inline-block}\n",
       ".list-inline>li:not(:last-child)::after {content: \"\\00b7\"; padding: 0 .5ex}\n",
       "</style>\n",
       "<ol class=list-inline><li>'X.1'</li><li>'X'</li><li>'Commodity_Description'</li><li>'Country_Code'</li><li>'Country_Name'</li><li>'Year'</li><li>'Attribute_Description'</li><li>'Unit_Description'</li><li>'Value'</li><li>'Category'</li></ol>\n"
      ],
      "text/latex": [
       "\\begin{enumerate*}\n",
       "\\item 'X.1'\n",
       "\\item 'X'\n",
       "\\item 'Commodity\\_Description'\n",
       "\\item 'Country\\_Code'\n",
       "\\item 'Country\\_Name'\n",
       "\\item 'Year'\n",
       "\\item 'Attribute\\_Description'\n",
       "\\item 'Unit\\_Description'\n",
       "\\item 'Value'\n",
       "\\item 'Category'\n",
       "\\end{enumerate*}\n"
      ],
      "text/markdown": [
       "1. 'X.1'\n",
       "2. 'X'\n",
       "3. 'Commodity_Description'\n",
       "4. 'Country_Code'\n",
       "5. 'Country_Name'\n",
       "6. 'Year'\n",
       "7. 'Attribute_Description'\n",
       "8. 'Unit_Description'\n",
       "9. 'Value'\n",
       "10. 'Category'\n",
       "\n",
       "\n"
      ],
      "text/plain": [
       " [1] \"X.1\"                   \"X\"                     \"Commodity_Description\"\n",
       " [4] \"Country_Code\"          \"Country_Name\"          \"Year\"                 \n",
       " [7] \"Attribute_Description\" \"Unit_Description\"      \"Value\"                \n",
       "[10] \"Category\"             "
      ]
     },
     "metadata": {},
     "output_type": "display_data"
    }
   ],
   "source": [
    "## Transposing & Reshaping Data\n",
    "testTranspose <- Nuts_Oils\n",
    "colnames(testTranspose)"
   ]
  },
  {
   "cell_type": "code",
   "execution_count": 23,
   "id": "aada3df0-f938-4d16-a9b6-41011f8700cb",
   "metadata": {
    "collapsed": true,
    "jupyter": {
     "outputs_hidden": true
    },
    "tags": []
   },
   "outputs": [
    {
     "data": {
      "text/html": [
       "<table class=\"dataframe\">\n",
       "<caption>A data.frame: 186 × 3</caption>\n",
       "<thead>\n",
       "\t<tr><th scope=col>Commodity_Description</th><th scope=col>Year</th><th scope=col>Value</th></tr>\n",
       "\t<tr><th scope=col>&lt;chr&gt;</th><th scope=col>&lt;int&gt;</th><th scope=col>&lt;dbl&gt;</th></tr>\n",
       "</thead>\n",
       "<tbody>\n",
       "\t<tr><td>Walnuts, Inshell Basis   </td><td>1998</td><td>205931</td></tr>\n",
       "\t<tr><td>Walnuts, Inshell Basis   </td><td>1999</td><td>256734</td></tr>\n",
       "\t<tr><td>Walnuts, Inshell Basis   </td><td>2000</td><td>216816</td></tr>\n",
       "\t<tr><td>Walnuts, Inshell Basis   </td><td>2001</td><td>276700</td></tr>\n",
       "\t<tr><td>Walnuts, Inshell Basis   </td><td>2002</td><td>255825</td></tr>\n",
       "\t<tr><td>Walnuts, Inshell Basis   </td><td>2003</td><td>295741</td></tr>\n",
       "\t<tr><td>Walnuts, Inshell Basis   </td><td>2004</td><td>294834</td></tr>\n",
       "\t<tr><td>Walnuts, Inshell Basis   </td><td>2005</td><td>322100</td></tr>\n",
       "\t<tr><td>Walnuts, Inshell Basis   </td><td>2006</td><td>317515</td></tr>\n",
       "\t<tr><td>Walnuts, Inshell Basis   </td><td>2007</td><td>297600</td></tr>\n",
       "\t<tr><td>Walnuts, Inshell Basis   </td><td>2008</td><td>395500</td></tr>\n",
       "\t<tr><td>Walnuts, Inshell Basis   </td><td>2009</td><td>396400</td></tr>\n",
       "\t<tr><td>Walnuts, Inshell Basis   </td><td>2010</td><td>462660</td></tr>\n",
       "\t<tr><td>Walnuts, Inshell Basis   </td><td>2011</td><td>440000</td></tr>\n",
       "\t<tr><td>Walnuts, Inshell Basis   </td><td>2012</td><td>450871</td></tr>\n",
       "\t<tr><td>Pistachios, Inshell Basis</td><td>1998</td><td> 85275</td></tr>\n",
       "\t<tr><td>Pistachios, Inshell Basis</td><td>1999</td><td> 56056</td></tr>\n",
       "\t<tr><td>Pistachios, Inshell Basis</td><td>2000</td><td>110179</td></tr>\n",
       "\t<tr><td>Pistachios, Inshell Basis</td><td>2001</td><td> 73240</td></tr>\n",
       "\t<tr><td>Pistachios, Inshell Basis</td><td>2002</td><td>137562</td></tr>\n",
       "\t<tr><td>Pistachios, Inshell Basis</td><td>2003</td><td> 53970</td></tr>\n",
       "\t<tr><td>Pistachios, Inshell Basis</td><td>2004</td><td>157400</td></tr>\n",
       "\t<tr><td>Pistachios, Inshell Basis</td><td>2005</td><td>128400</td></tr>\n",
       "\t<tr><td>Pistachios, Inshell Basis</td><td>2006</td><td>107955</td></tr>\n",
       "\t<tr><td>Pistachios, Inshell Basis</td><td>2007</td><td>188694</td></tr>\n",
       "\t<tr><td>Pistachios, Inshell Basis</td><td>2008</td><td>126100</td></tr>\n",
       "\t<tr><td>Pistachios, Inshell Basis</td><td>2009</td><td>161025</td></tr>\n",
       "\t<tr><td>Pistachios, Inshell Basis</td><td>2010</td><td>236775</td></tr>\n",
       "\t<tr><td>Pistachios, Inshell Basis</td><td>2011</td><td>203150</td></tr>\n",
       "\t<tr><td>Pistachios, Inshell Basis</td><td>2012</td><td>249929</td></tr>\n",
       "\t<tr><td>...</td><td>...</td><td>...</td></tr>\n",
       "\t<tr><td>Oil, Cottonseed</td><td>1998</td><td>377000.00</td></tr>\n",
       "\t<tr><td>Oil, Cottonseed</td><td>1999</td><td>426000.00</td></tr>\n",
       "\t<tr><td>Oil, Cottonseed</td><td>2000</td><td>384000.00</td></tr>\n",
       "\t<tr><td>Oil, Cottonseed</td><td>2001</td><td>398000.00</td></tr>\n",
       "\t<tr><td>Oil, Cottonseed</td><td>2002</td><td>329000.00</td></tr>\n",
       "\t<tr><td>Oil, Cottonseed</td><td>2003</td><td>396000.00</td></tr>\n",
       "\t<tr><td>Oil, Cottonseed</td><td>2004</td><td>434000.00</td></tr>\n",
       "\t<tr><td>Oil, Cottonseed</td><td>2005</td><td>435000.00</td></tr>\n",
       "\t<tr><td>Oil, Cottonseed</td><td>2006</td><td>408000.00</td></tr>\n",
       "\t<tr><td>Oil, Cottonseed</td><td>2007</td><td>392000.00</td></tr>\n",
       "\t<tr><td>Oil, Cottonseed</td><td>2008</td><td>386000.00</td></tr>\n",
       "\t<tr><td>Oil, Cottonseed</td><td>2009</td><td>383000.00</td></tr>\n",
       "\t<tr><td>Oil, Cottonseed</td><td>2010</td><td>379000.00</td></tr>\n",
       "\t<tr><td>Oil, Cottonseed</td><td>2011</td><td>379000.00</td></tr>\n",
       "\t<tr><td>Oil, Cottonseed</td><td>2012</td><td>377000.00</td></tr>\n",
       "\t<tr><td>Honey          </td><td>1998</td><td> 99571.62</td></tr>\n",
       "\t<tr><td>Honey          </td><td>1999</td><td> 91800.72</td></tr>\n",
       "\t<tr><td>Honey          </td><td>2000</td><td> 99589.31</td></tr>\n",
       "\t<tr><td>Honey          </td><td>2001</td><td> 84253.44</td></tr>\n",
       "\t<tr><td>Honey          </td><td>2002</td><td> 77684.09</td></tr>\n",
       "\t<tr><td>Honey          </td><td>2003</td><td> 82268.53</td></tr>\n",
       "\t<tr><td>Honey          </td><td>2004</td><td> 82884.05</td></tr>\n",
       "\t<tr><td>Honey          </td><td>2005</td><td> 78910.60</td></tr>\n",
       "\t<tr><td>Honey          </td><td>2006</td><td> 69960.81</td></tr>\n",
       "\t<tr><td>Honey          </td><td>2007</td><td> 66959.41</td></tr>\n",
       "\t<tr><td>Honey          </td><td>2008</td><td> 73922.47</td></tr>\n",
       "\t<tr><td>Honey          </td><td>2009</td><td> 65801.39</td></tr>\n",
       "\t<tr><td>Honey          </td><td>2010</td><td> 79511.61</td></tr>\n",
       "\t<tr><td>Honey          </td><td>2011</td><td> 66768.90</td></tr>\n",
       "\t<tr><td>Honey          </td><td>2012</td><td> 63914.01</td></tr>\n",
       "</tbody>\n",
       "</table>\n"
      ],
      "text/latex": [
       "A data.frame: 186 × 3\n",
       "\\begin{tabular}{lll}\n",
       " Commodity\\_Description & Year & Value\\\\\n",
       " <chr> & <int> & <dbl>\\\\\n",
       "\\hline\n",
       "\t Walnuts, Inshell Basis    & 1998 & 205931\\\\\n",
       "\t Walnuts, Inshell Basis    & 1999 & 256734\\\\\n",
       "\t Walnuts, Inshell Basis    & 2000 & 216816\\\\\n",
       "\t Walnuts, Inshell Basis    & 2001 & 276700\\\\\n",
       "\t Walnuts, Inshell Basis    & 2002 & 255825\\\\\n",
       "\t Walnuts, Inshell Basis    & 2003 & 295741\\\\\n",
       "\t Walnuts, Inshell Basis    & 2004 & 294834\\\\\n",
       "\t Walnuts, Inshell Basis    & 2005 & 322100\\\\\n",
       "\t Walnuts, Inshell Basis    & 2006 & 317515\\\\\n",
       "\t Walnuts, Inshell Basis    & 2007 & 297600\\\\\n",
       "\t Walnuts, Inshell Basis    & 2008 & 395500\\\\\n",
       "\t Walnuts, Inshell Basis    & 2009 & 396400\\\\\n",
       "\t Walnuts, Inshell Basis    & 2010 & 462660\\\\\n",
       "\t Walnuts, Inshell Basis    & 2011 & 440000\\\\\n",
       "\t Walnuts, Inshell Basis    & 2012 & 450871\\\\\n",
       "\t Pistachios, Inshell Basis & 1998 &  85275\\\\\n",
       "\t Pistachios, Inshell Basis & 1999 &  56056\\\\\n",
       "\t Pistachios, Inshell Basis & 2000 & 110179\\\\\n",
       "\t Pistachios, Inshell Basis & 2001 &  73240\\\\\n",
       "\t Pistachios, Inshell Basis & 2002 & 137562\\\\\n",
       "\t Pistachios, Inshell Basis & 2003 &  53970\\\\\n",
       "\t Pistachios, Inshell Basis & 2004 & 157400\\\\\n",
       "\t Pistachios, Inshell Basis & 2005 & 128400\\\\\n",
       "\t Pistachios, Inshell Basis & 2006 & 107955\\\\\n",
       "\t Pistachios, Inshell Basis & 2007 & 188694\\\\\n",
       "\t Pistachios, Inshell Basis & 2008 & 126100\\\\\n",
       "\t Pistachios, Inshell Basis & 2009 & 161025\\\\\n",
       "\t Pistachios, Inshell Basis & 2010 & 236775\\\\\n",
       "\t Pistachios, Inshell Basis & 2011 & 203150\\\\\n",
       "\t Pistachios, Inshell Basis & 2012 & 249929\\\\\n",
       "\t ... & ... & ...\\\\\n",
       "\t Oil, Cottonseed & 1998 & 377000.00\\\\\n",
       "\t Oil, Cottonseed & 1999 & 426000.00\\\\\n",
       "\t Oil, Cottonseed & 2000 & 384000.00\\\\\n",
       "\t Oil, Cottonseed & 2001 & 398000.00\\\\\n",
       "\t Oil, Cottonseed & 2002 & 329000.00\\\\\n",
       "\t Oil, Cottonseed & 2003 & 396000.00\\\\\n",
       "\t Oil, Cottonseed & 2004 & 434000.00\\\\\n",
       "\t Oil, Cottonseed & 2005 & 435000.00\\\\\n",
       "\t Oil, Cottonseed & 2006 & 408000.00\\\\\n",
       "\t Oil, Cottonseed & 2007 & 392000.00\\\\\n",
       "\t Oil, Cottonseed & 2008 & 386000.00\\\\\n",
       "\t Oil, Cottonseed & 2009 & 383000.00\\\\\n",
       "\t Oil, Cottonseed & 2010 & 379000.00\\\\\n",
       "\t Oil, Cottonseed & 2011 & 379000.00\\\\\n",
       "\t Oil, Cottonseed & 2012 & 377000.00\\\\\n",
       "\t Honey           & 1998 &  99571.62\\\\\n",
       "\t Honey           & 1999 &  91800.72\\\\\n",
       "\t Honey           & 2000 &  99589.31\\\\\n",
       "\t Honey           & 2001 &  84253.44\\\\\n",
       "\t Honey           & 2002 &  77684.09\\\\\n",
       "\t Honey           & 2003 &  82268.53\\\\\n",
       "\t Honey           & 2004 &  82884.05\\\\\n",
       "\t Honey           & 2005 &  78910.60\\\\\n",
       "\t Honey           & 2006 &  69960.81\\\\\n",
       "\t Honey           & 2007 &  66959.41\\\\\n",
       "\t Honey           & 2008 &  73922.47\\\\\n",
       "\t Honey           & 2009 &  65801.39\\\\\n",
       "\t Honey           & 2010 &  79511.61\\\\\n",
       "\t Honey           & 2011 &  66768.90\\\\\n",
       "\t Honey           & 2012 &  63914.01\\\\\n",
       "\\end{tabular}\n"
      ],
      "text/markdown": [
       "\n",
       "A data.frame: 186 × 3\n",
       "\n",
       "| Commodity_Description &lt;chr&gt; | Year &lt;int&gt; | Value &lt;dbl&gt; |\n",
       "|---|---|---|\n",
       "| Walnuts, Inshell Basis    | 1998 | 205931 |\n",
       "| Walnuts, Inshell Basis    | 1999 | 256734 |\n",
       "| Walnuts, Inshell Basis    | 2000 | 216816 |\n",
       "| Walnuts, Inshell Basis    | 2001 | 276700 |\n",
       "| Walnuts, Inshell Basis    | 2002 | 255825 |\n",
       "| Walnuts, Inshell Basis    | 2003 | 295741 |\n",
       "| Walnuts, Inshell Basis    | 2004 | 294834 |\n",
       "| Walnuts, Inshell Basis    | 2005 | 322100 |\n",
       "| Walnuts, Inshell Basis    | 2006 | 317515 |\n",
       "| Walnuts, Inshell Basis    | 2007 | 297600 |\n",
       "| Walnuts, Inshell Basis    | 2008 | 395500 |\n",
       "| Walnuts, Inshell Basis    | 2009 | 396400 |\n",
       "| Walnuts, Inshell Basis    | 2010 | 462660 |\n",
       "| Walnuts, Inshell Basis    | 2011 | 440000 |\n",
       "| Walnuts, Inshell Basis    | 2012 | 450871 |\n",
       "| Pistachios, Inshell Basis | 1998 |  85275 |\n",
       "| Pistachios, Inshell Basis | 1999 |  56056 |\n",
       "| Pistachios, Inshell Basis | 2000 | 110179 |\n",
       "| Pistachios, Inshell Basis | 2001 |  73240 |\n",
       "| Pistachios, Inshell Basis | 2002 | 137562 |\n",
       "| Pistachios, Inshell Basis | 2003 |  53970 |\n",
       "| Pistachios, Inshell Basis | 2004 | 157400 |\n",
       "| Pistachios, Inshell Basis | 2005 | 128400 |\n",
       "| Pistachios, Inshell Basis | 2006 | 107955 |\n",
       "| Pistachios, Inshell Basis | 2007 | 188694 |\n",
       "| Pistachios, Inshell Basis | 2008 | 126100 |\n",
       "| Pistachios, Inshell Basis | 2009 | 161025 |\n",
       "| Pistachios, Inshell Basis | 2010 | 236775 |\n",
       "| Pistachios, Inshell Basis | 2011 | 203150 |\n",
       "| Pistachios, Inshell Basis | 2012 | 249929 |\n",
       "| ... | ... | ... |\n",
       "| Oil, Cottonseed | 1998 | 377000.00 |\n",
       "| Oil, Cottonseed | 1999 | 426000.00 |\n",
       "| Oil, Cottonseed | 2000 | 384000.00 |\n",
       "| Oil, Cottonseed | 2001 | 398000.00 |\n",
       "| Oil, Cottonseed | 2002 | 329000.00 |\n",
       "| Oil, Cottonseed | 2003 | 396000.00 |\n",
       "| Oil, Cottonseed | 2004 | 434000.00 |\n",
       "| Oil, Cottonseed | 2005 | 435000.00 |\n",
       "| Oil, Cottonseed | 2006 | 408000.00 |\n",
       "| Oil, Cottonseed | 2007 | 392000.00 |\n",
       "| Oil, Cottonseed | 2008 | 386000.00 |\n",
       "| Oil, Cottonseed | 2009 | 383000.00 |\n",
       "| Oil, Cottonseed | 2010 | 379000.00 |\n",
       "| Oil, Cottonseed | 2011 | 379000.00 |\n",
       "| Oil, Cottonseed | 2012 | 377000.00 |\n",
       "| Honey           | 1998 |  99571.62 |\n",
       "| Honey           | 1999 |  91800.72 |\n",
       "| Honey           | 2000 |  99589.31 |\n",
       "| Honey           | 2001 |  84253.44 |\n",
       "| Honey           | 2002 |  77684.09 |\n",
       "| Honey           | 2003 |  82268.53 |\n",
       "| Honey           | 2004 |  82884.05 |\n",
       "| Honey           | 2005 |  78910.60 |\n",
       "| Honey           | 2006 |  69960.81 |\n",
       "| Honey           | 2007 |  66959.41 |\n",
       "| Honey           | 2008 |  73922.47 |\n",
       "| Honey           | 2009 |  65801.39 |\n",
       "| Honey           | 2010 |  79511.61 |\n",
       "| Honey           | 2011 |  66768.90 |\n",
       "| Honey           | 2012 |  63914.01 |\n",
       "\n"
      ],
      "text/plain": [
       "    Commodity_Description     Year Value    \n",
       "1   Walnuts, Inshell Basis    1998 205931   \n",
       "2   Walnuts, Inshell Basis    1999 256734   \n",
       "3   Walnuts, Inshell Basis    2000 216816   \n",
       "4   Walnuts, Inshell Basis    2001 276700   \n",
       "5   Walnuts, Inshell Basis    2002 255825   \n",
       "6   Walnuts, Inshell Basis    2003 295741   \n",
       "7   Walnuts, Inshell Basis    2004 294834   \n",
       "8   Walnuts, Inshell Basis    2005 322100   \n",
       "9   Walnuts, Inshell Basis    2006 317515   \n",
       "10  Walnuts, Inshell Basis    2007 297600   \n",
       "11  Walnuts, Inshell Basis    2008 395500   \n",
       "12  Walnuts, Inshell Basis    2009 396400   \n",
       "13  Walnuts, Inshell Basis    2010 462660   \n",
       "14  Walnuts, Inshell Basis    2011 440000   \n",
       "15  Walnuts, Inshell Basis    2012 450871   \n",
       "16  Pistachios, Inshell Basis 1998  85275   \n",
       "17  Pistachios, Inshell Basis 1999  56056   \n",
       "18  Pistachios, Inshell Basis 2000 110179   \n",
       "19  Pistachios, Inshell Basis 2001  73240   \n",
       "20  Pistachios, Inshell Basis 2002 137562   \n",
       "21  Pistachios, Inshell Basis 2003  53970   \n",
       "22  Pistachios, Inshell Basis 2004 157400   \n",
       "23  Pistachios, Inshell Basis 2005 128400   \n",
       "24  Pistachios, Inshell Basis 2006 107955   \n",
       "25  Pistachios, Inshell Basis 2007 188694   \n",
       "26  Pistachios, Inshell Basis 2008 126100   \n",
       "27  Pistachios, Inshell Basis 2009 161025   \n",
       "28  Pistachios, Inshell Basis 2010 236775   \n",
       "29  Pistachios, Inshell Basis 2011 203150   \n",
       "30  Pistachios, Inshell Basis 2012 249929   \n",
       "... ...                       ...  ...      \n",
       "157 Oil, Cottonseed           1998 377000.00\n",
       "158 Oil, Cottonseed           1999 426000.00\n",
       "159 Oil, Cottonseed           2000 384000.00\n",
       "160 Oil, Cottonseed           2001 398000.00\n",
       "161 Oil, Cottonseed           2002 329000.00\n",
       "162 Oil, Cottonseed           2003 396000.00\n",
       "163 Oil, Cottonseed           2004 434000.00\n",
       "164 Oil, Cottonseed           2005 435000.00\n",
       "165 Oil, Cottonseed           2006 408000.00\n",
       "166 Oil, Cottonseed           2007 392000.00\n",
       "167 Oil, Cottonseed           2008 386000.00\n",
       "168 Oil, Cottonseed           2009 383000.00\n",
       "169 Oil, Cottonseed           2010 379000.00\n",
       "170 Oil, Cottonseed           2011 379000.00\n",
       "171 Oil, Cottonseed           2012 377000.00\n",
       "172 Honey                     1998  99571.62\n",
       "173 Honey                     1999  91800.72\n",
       "174 Honey                     2000  99589.31\n",
       "175 Honey                     2001  84253.44\n",
       "176 Honey                     2002  77684.09\n",
       "177 Honey                     2003  82268.53\n",
       "178 Honey                     2004  82884.05\n",
       "179 Honey                     2005  78910.60\n",
       "180 Honey                     2006  69960.81\n",
       "181 Honey                     2007  66959.41\n",
       "182 Honey                     2008  73922.47\n",
       "183 Honey                     2009  65801.39\n",
       "184 Honey                     2010  79511.61\n",
       "185 Honey                     2011  66768.90\n",
       "186 Honey                     2012  63914.01"
      ]
     },
     "metadata": {},
     "output_type": "display_data"
    }
   ],
   "source": [
    "### Deleting non-essential columns\n",
    "Nuts_Oils2 <- testTranspose[, c('Commodity_Description', 'Year', 'Value')];\n",
    "Nuts_Oils2 "
   ]
  },
  {
   "cell_type": "code",
   "execution_count": 24,
   "id": "d87a14ce-3fa5-464b-9b40-47087f16d0f7",
   "metadata": {
    "tags": []
   },
   "outputs": [],
   "source": [
    "### Isolating Year column\n",
    "Nuts_OilsYear <- testTranspose[, c('Year')]\n",
    "Nuts_OilsYear <- as.data.frame(Nuts_OilsYear)"
   ]
  },
  {
   "cell_type": "code",
   "execution_count": 25,
   "id": "6f9b745d-53bd-4431-9233-ae1270c30e0e",
   "metadata": {
    "collapsed": true,
    "jupyter": {
     "outputs_hidden": true
    },
    "tags": []
   },
   "outputs": [
    {
     "data": {
      "text/html": [
       "<table class=\"dataframe\">\n",
       "<caption>A data.frame: 15 × 1</caption>\n",
       "<thead>\n",
       "\t<tr><th scope=col>Nuts_OilsYear</th></tr>\n",
       "\t<tr><th scope=col>&lt;int&gt;</th></tr>\n",
       "</thead>\n",
       "<tbody>\n",
       "\t<tr><td>1998</td></tr>\n",
       "\t<tr><td>1999</td></tr>\n",
       "\t<tr><td>2000</td></tr>\n",
       "\t<tr><td>2001</td></tr>\n",
       "\t<tr><td>2002</td></tr>\n",
       "\t<tr><td>2003</td></tr>\n",
       "\t<tr><td>2004</td></tr>\n",
       "\t<tr><td>2005</td></tr>\n",
       "\t<tr><td>2006</td></tr>\n",
       "\t<tr><td>2007</td></tr>\n",
       "\t<tr><td>2008</td></tr>\n",
       "\t<tr><td>2009</td></tr>\n",
       "\t<tr><td>2010</td></tr>\n",
       "\t<tr><td>2011</td></tr>\n",
       "\t<tr><td>2012</td></tr>\n",
       "</tbody>\n",
       "</table>\n"
      ],
      "text/latex": [
       "A data.frame: 15 × 1\n",
       "\\begin{tabular}{l}\n",
       " Nuts\\_OilsYear\\\\\n",
       " <int>\\\\\n",
       "\\hline\n",
       "\t 1998\\\\\n",
       "\t 1999\\\\\n",
       "\t 2000\\\\\n",
       "\t 2001\\\\\n",
       "\t 2002\\\\\n",
       "\t 2003\\\\\n",
       "\t 2004\\\\\n",
       "\t 2005\\\\\n",
       "\t 2006\\\\\n",
       "\t 2007\\\\\n",
       "\t 2008\\\\\n",
       "\t 2009\\\\\n",
       "\t 2010\\\\\n",
       "\t 2011\\\\\n",
       "\t 2012\\\\\n",
       "\\end{tabular}\n"
      ],
      "text/markdown": [
       "\n",
       "A data.frame: 15 × 1\n",
       "\n",
       "| Nuts_OilsYear &lt;int&gt; |\n",
       "|---|\n",
       "| 1998 |\n",
       "| 1999 |\n",
       "| 2000 |\n",
       "| 2001 |\n",
       "| 2002 |\n",
       "| 2003 |\n",
       "| 2004 |\n",
       "| 2005 |\n",
       "| 2006 |\n",
       "| 2007 |\n",
       "| 2008 |\n",
       "| 2009 |\n",
       "| 2010 |\n",
       "| 2011 |\n",
       "| 2012 |\n",
       "\n"
      ],
      "text/plain": [
       "   Nuts_OilsYear\n",
       "1  1998         \n",
       "2  1999         \n",
       "3  2000         \n",
       "4  2001         \n",
       "5  2002         \n",
       "6  2003         \n",
       "7  2004         \n",
       "8  2005         \n",
       "9  2006         \n",
       "10 2007         \n",
       "11 2008         \n",
       "12 2009         \n",
       "13 2010         \n",
       "14 2011         \n",
       "15 2012         "
      ]
     },
     "metadata": {},
     "output_type": "display_data"
    }
   ],
   "source": [
    "###  Creating one row per year\n",
    "Nuts_OilsYear <- Nuts_OilsYear[1:15,]\n",
    "Nuts_OilsYear <- as.data.frame(Nuts_OilsYear)\n",
    "Nuts_OilsYear"
   ]
  },
  {
   "cell_type": "code",
   "execution_count": 31,
   "id": "877b0bdf-d347-49d3-9474-bce15b3e1a2f",
   "metadata": {
    "tags": []
   },
   "outputs": [],
   "source": [
    "### Creating subset of only commodity and value\n",
    "ComVal <- testTranspose[, c('Commodity_Description', 'Value')]"
   ]
  },
  {
   "cell_type": "code",
   "execution_count": 40,
   "id": "69441be5-651f-43b2-802a-7dd86aac5d35",
   "metadata": {
    "jupyter": {
     "source_hidden": true
    },
    "tags": []
   },
   "outputs": [],
   "source": [
    "### Isolating Commodities\n",
    "AlmondsTR <- subset(ComVal, Commodity_Description=='Almonds, Shelled Basis')\n",
    "FilbertsTR <- subset(ComVal, Commodity_Description=='Filberts, Inshell Basis')\n",
    "HoneyTR <- subset(ComVal, Commodity_Description=='Honey')\n",
    "MacadamiaTR <- subset(ComVal, Commodity_Description=='Macadamia, Inshell Basis')\n",
    "CottonseedOilTR <- subset(ComVal, Commodity_Description=='Oil, Cottonseed')\n",
    "OliveOilTR <- subset(ComVal, Commodity_Description=='Oil, Olive')\n",
    "PeanutOilTR <- subset(ComVal, Commodity_Description=='Oil, Peanut')\n",
    "RapeseedOilTR <- subset(ComVal, Commodity_Description=='Oil, Rapeseed')\n",
    "SoybeanOilTR <- subset(ComVal, Commodity_Description=='Oil, Soybean')\n",
    "SunflowerseedOilTR <- subset(ComVal, Commodity_Description=='Oil, Sunflowerseed')\n",
    "PecansTR <- subset(ComVal, Commodity_Description=='Pecans, Inshell Basis')\n",
    "PistachiosTR <- subset(ComVal, Commodity_Description=='Pistachios, Inshell Basis')\n",
    "WalnutsTR <- subset(ComVal, Commodity_Description=='Walnuts, Inshell Basis')"
   ]
  },
  {
   "cell_type": "code",
   "execution_count": 107,
   "id": "a4ced969-5e13-4725-afb1-f86c9cd45f5d",
   "metadata": {
    "jupyter": {
     "source_hidden": true
    },
    "tags": []
   },
   "outputs": [],
   "source": [
    "### Had to drop Commodity Columns with missing data - Macadamias & Pecans"
   ]
  },
  {
   "cell_type": "code",
   "execution_count": 44,
   "id": "870eea93-e0cd-4a58-919a-a09795178a36",
   "metadata": {
    "collapsed": true,
    "jupyter": {
     "outputs_hidden": true,
     "source_hidden": true
    },
    "tags": []
   },
   "outputs": [
    {
     "data": {
      "text/html": [
       "<table class=\"dataframe\">\n",
       "<caption>A data.frame: 15 × 12</caption>\n",
       "<thead>\n",
       "\t<tr><th scope=col>Nuts_OilsYear</th><th scope=col>Almonds</th><th scope=col>Filberts</th><th scope=col>Honey</th><th scope=col>CottonseedOil</th><th scope=col>OliveOil</th><th scope=col>PeanutOil</th><th scope=col>RapeseedOil</th><th scope=col>SoybeanOil</th><th scope=col>SunflowerseedOil</th><th scope=col>Pistachios</th><th scope=col>Walnuts</th></tr>\n",
       "\t<tr><th scope=col>&lt;int&gt;</th><th scope=col>&lt;dbl&gt;</th><th scope=col>&lt;dbl&gt;</th><th scope=col>&lt;dbl&gt;</th><th scope=col>&lt;dbl&gt;</th><th scope=col>&lt;dbl&gt;</th><th scope=col>&lt;dbl&gt;</th><th scope=col>&lt;dbl&gt;</th><th scope=col>&lt;dbl&gt;</th><th scope=col>&lt;dbl&gt;</th><th scope=col>&lt;dbl&gt;</th><th scope=col>&lt;dbl&gt;</th></tr>\n",
       "</thead>\n",
       "<tbody>\n",
       "\t<tr><td>1998</td><td>235884</td><td>14061</td><td>99571.62</td><td>377000</td><td> 1000</td><td> 66000</td><td>290000</td><td>8202000</td><td>534000</td><td> 85275</td><td>205931</td></tr>\n",
       "\t<tr><td>1999</td><td>377800</td><td>34500</td><td>91800.72</td><td>426000</td><td> 1000</td><td>104000</td><td>319000</td><td>8085000</td><td>478000</td><td> 56056</td><td>256734</td></tr>\n",
       "\t<tr><td>2000</td><td>318900</td><td>20471</td><td>99589.31</td><td>384000</td><td> 1000</td><td> 81000</td><td>345000</td><td>8355000</td><td>396000</td><td>110179</td><td>216816</td></tr>\n",
       "\t<tr><td>2001</td><td>376500</td><td>44906</td><td>84253.44</td><td>398000</td><td> 1000</td><td>104000</td><td>287000</td><td>8572000</td><td>319000</td><td> 73240</td><td>276700</td></tr>\n",
       "\t<tr><td>2002</td><td>494416</td><td>17700</td><td>77684.09</td><td>329000</td><td> 1000</td><td>130000</td><td>243000</td><td>8360000</td><td>145000</td><td>137562</td><td>255825</td></tr>\n",
       "\t<tr><td>2003</td><td>471740</td><td>34400</td><td>82268.53</td><td>396000</td><td> 2000</td><td> 79000</td><td>291000</td><td>7748000</td><td>270000</td><td> 53970</td><td>295741</td></tr>\n",
       "\t<tr><td>2004</td><td>462664</td><td>48502</td><td>82884.05</td><td>434000</td><td> 2000</td><td> 57000</td><td>378000</td><td>8782000</td><td>120000</td><td>157400</td><td>294834</td></tr>\n",
       "\t<tr><td>2005</td><td>415040</td><td>33566</td><td>78910.60</td><td>435000</td><td> 3000</td><td> 82000</td><td>421000</td><td>9250000</td><td>251000</td><td>128400</td><td>322100</td></tr>\n",
       "\t<tr><td>2006</td><td>508023</td><td>39010</td><td>69960.81</td><td>408000</td><td> 1000</td><td> 97000</td><td>461000</td><td>9294000</td><td>294000</td><td>107955</td><td>317515</td></tr>\n",
       "\t<tr><td>2007</td><td>630493</td><td>33600</td><td>66959.41</td><td>392000</td><td> 2000</td><td> 78000</td><td>507000</td><td>9682000</td><td>299000</td><td>188694</td><td>297600</td></tr>\n",
       "\t<tr><td>2008</td><td>739400</td><td>30800</td><td>73922.47</td><td>386000</td><td> 2000</td><td> 94000</td><td>505000</td><td>9514000</td><td>297000</td><td>126100</td><td>395500</td></tr>\n",
       "\t<tr><td>2009</td><td>639570</td><td>42640</td><td>65801.39</td><td>383000</td><td> 3000</td><td> 71000</td><td>498000</td><td>8897000</td><td>332000</td><td>161025</td><td>396400</td></tr>\n",
       "\t<tr><td>2010</td><td>748430</td><td>25400</td><td>79511.61</td><td>379000</td><td> 5000</td><td> 86000</td><td>546000</td><td>8659000</td><td>306000</td><td>236775</td><td>462660</td></tr>\n",
       "\t<tr><td>2011</td><td>920800</td><td>37200</td><td>66768.90</td><td>379000</td><td> 6000</td><td> 86000</td><td>578000</td><td>8979000</td><td>267000</td><td>203150</td><td>440000</td></tr>\n",
       "\t<tr><td>2012</td><td>952500</td><td>36300</td><td>63914.01</td><td>377000</td><td>10000</td><td>108000</td><td>626000</td><td>8990000</td><td>248000</td><td>249929</td><td>450871</td></tr>\n",
       "</tbody>\n",
       "</table>\n"
      ],
      "text/latex": [
       "A data.frame: 15 × 12\n",
       "\\begin{tabular}{llllllllllll}\n",
       " Nuts\\_OilsYear & Almonds & Filberts & Honey & CottonseedOil & OliveOil & PeanutOil & RapeseedOil & SoybeanOil & SunflowerseedOil & Pistachios & Walnuts\\\\\n",
       " <int> & <dbl> & <dbl> & <dbl> & <dbl> & <dbl> & <dbl> & <dbl> & <dbl> & <dbl> & <dbl> & <dbl>\\\\\n",
       "\\hline\n",
       "\t 1998 & 235884 & 14061 & 99571.62 & 377000 &  1000 &  66000 & 290000 & 8202000 & 534000 &  85275 & 205931\\\\\n",
       "\t 1999 & 377800 & 34500 & 91800.72 & 426000 &  1000 & 104000 & 319000 & 8085000 & 478000 &  56056 & 256734\\\\\n",
       "\t 2000 & 318900 & 20471 & 99589.31 & 384000 &  1000 &  81000 & 345000 & 8355000 & 396000 & 110179 & 216816\\\\\n",
       "\t 2001 & 376500 & 44906 & 84253.44 & 398000 &  1000 & 104000 & 287000 & 8572000 & 319000 &  73240 & 276700\\\\\n",
       "\t 2002 & 494416 & 17700 & 77684.09 & 329000 &  1000 & 130000 & 243000 & 8360000 & 145000 & 137562 & 255825\\\\\n",
       "\t 2003 & 471740 & 34400 & 82268.53 & 396000 &  2000 &  79000 & 291000 & 7748000 & 270000 &  53970 & 295741\\\\\n",
       "\t 2004 & 462664 & 48502 & 82884.05 & 434000 &  2000 &  57000 & 378000 & 8782000 & 120000 & 157400 & 294834\\\\\n",
       "\t 2005 & 415040 & 33566 & 78910.60 & 435000 &  3000 &  82000 & 421000 & 9250000 & 251000 & 128400 & 322100\\\\\n",
       "\t 2006 & 508023 & 39010 & 69960.81 & 408000 &  1000 &  97000 & 461000 & 9294000 & 294000 & 107955 & 317515\\\\\n",
       "\t 2007 & 630493 & 33600 & 66959.41 & 392000 &  2000 &  78000 & 507000 & 9682000 & 299000 & 188694 & 297600\\\\\n",
       "\t 2008 & 739400 & 30800 & 73922.47 & 386000 &  2000 &  94000 & 505000 & 9514000 & 297000 & 126100 & 395500\\\\\n",
       "\t 2009 & 639570 & 42640 & 65801.39 & 383000 &  3000 &  71000 & 498000 & 8897000 & 332000 & 161025 & 396400\\\\\n",
       "\t 2010 & 748430 & 25400 & 79511.61 & 379000 &  5000 &  86000 & 546000 & 8659000 & 306000 & 236775 & 462660\\\\\n",
       "\t 2011 & 920800 & 37200 & 66768.90 & 379000 &  6000 &  86000 & 578000 & 8979000 & 267000 & 203150 & 440000\\\\\n",
       "\t 2012 & 952500 & 36300 & 63914.01 & 377000 & 10000 & 108000 & 626000 & 8990000 & 248000 & 249929 & 450871\\\\\n",
       "\\end{tabular}\n"
      ],
      "text/markdown": [
       "\n",
       "A data.frame: 15 × 12\n",
       "\n",
       "| Nuts_OilsYear &lt;int&gt; | Almonds &lt;dbl&gt; | Filberts &lt;dbl&gt; | Honey &lt;dbl&gt; | CottonseedOil &lt;dbl&gt; | OliveOil &lt;dbl&gt; | PeanutOil &lt;dbl&gt; | RapeseedOil &lt;dbl&gt; | SoybeanOil &lt;dbl&gt; | SunflowerseedOil &lt;dbl&gt; | Pistachios &lt;dbl&gt; | Walnuts &lt;dbl&gt; |\n",
       "|---|---|---|---|---|---|---|---|---|---|---|---|\n",
       "| 1998 | 235884 | 14061 | 99571.62 | 377000 |  1000 |  66000 | 290000 | 8202000 | 534000 |  85275 | 205931 |\n",
       "| 1999 | 377800 | 34500 | 91800.72 | 426000 |  1000 | 104000 | 319000 | 8085000 | 478000 |  56056 | 256734 |\n",
       "| 2000 | 318900 | 20471 | 99589.31 | 384000 |  1000 |  81000 | 345000 | 8355000 | 396000 | 110179 | 216816 |\n",
       "| 2001 | 376500 | 44906 | 84253.44 | 398000 |  1000 | 104000 | 287000 | 8572000 | 319000 |  73240 | 276700 |\n",
       "| 2002 | 494416 | 17700 | 77684.09 | 329000 |  1000 | 130000 | 243000 | 8360000 | 145000 | 137562 | 255825 |\n",
       "| 2003 | 471740 | 34400 | 82268.53 | 396000 |  2000 |  79000 | 291000 | 7748000 | 270000 |  53970 | 295741 |\n",
       "| 2004 | 462664 | 48502 | 82884.05 | 434000 |  2000 |  57000 | 378000 | 8782000 | 120000 | 157400 | 294834 |\n",
       "| 2005 | 415040 | 33566 | 78910.60 | 435000 |  3000 |  82000 | 421000 | 9250000 | 251000 | 128400 | 322100 |\n",
       "| 2006 | 508023 | 39010 | 69960.81 | 408000 |  1000 |  97000 | 461000 | 9294000 | 294000 | 107955 | 317515 |\n",
       "| 2007 | 630493 | 33600 | 66959.41 | 392000 |  2000 |  78000 | 507000 | 9682000 | 299000 | 188694 | 297600 |\n",
       "| 2008 | 739400 | 30800 | 73922.47 | 386000 |  2000 |  94000 | 505000 | 9514000 | 297000 | 126100 | 395500 |\n",
       "| 2009 | 639570 | 42640 | 65801.39 | 383000 |  3000 |  71000 | 498000 | 8897000 | 332000 | 161025 | 396400 |\n",
       "| 2010 | 748430 | 25400 | 79511.61 | 379000 |  5000 |  86000 | 546000 | 8659000 | 306000 | 236775 | 462660 |\n",
       "| 2011 | 920800 | 37200 | 66768.90 | 379000 |  6000 |  86000 | 578000 | 8979000 | 267000 | 203150 | 440000 |\n",
       "| 2012 | 952500 | 36300 | 63914.01 | 377000 | 10000 | 108000 | 626000 | 8990000 | 248000 | 249929 | 450871 |\n",
       "\n"
      ],
      "text/plain": [
       "   Nuts_OilsYear Almonds Filberts Honey    CottonseedOil OliveOil PeanutOil\n",
       "1  1998          235884  14061    99571.62 377000         1000     66000   \n",
       "2  1999          377800  34500    91800.72 426000         1000    104000   \n",
       "3  2000          318900  20471    99589.31 384000         1000     81000   \n",
       "4  2001          376500  44906    84253.44 398000         1000    104000   \n",
       "5  2002          494416  17700    77684.09 329000         1000    130000   \n",
       "6  2003          471740  34400    82268.53 396000         2000     79000   \n",
       "7  2004          462664  48502    82884.05 434000         2000     57000   \n",
       "8  2005          415040  33566    78910.60 435000         3000     82000   \n",
       "9  2006          508023  39010    69960.81 408000         1000     97000   \n",
       "10 2007          630493  33600    66959.41 392000         2000     78000   \n",
       "11 2008          739400  30800    73922.47 386000         2000     94000   \n",
       "12 2009          639570  42640    65801.39 383000         3000     71000   \n",
       "13 2010          748430  25400    79511.61 379000         5000     86000   \n",
       "14 2011          920800  37200    66768.90 379000         6000     86000   \n",
       "15 2012          952500  36300    63914.01 377000        10000    108000   \n",
       "   RapeseedOil SoybeanOil SunflowerseedOil Pistachios Walnuts\n",
       "1  290000      8202000    534000            85275     205931 \n",
       "2  319000      8085000    478000            56056     256734 \n",
       "3  345000      8355000    396000           110179     216816 \n",
       "4  287000      8572000    319000            73240     276700 \n",
       "5  243000      8360000    145000           137562     255825 \n",
       "6  291000      7748000    270000            53970     295741 \n",
       "7  378000      8782000    120000           157400     294834 \n",
       "8  421000      9250000    251000           128400     322100 \n",
       "9  461000      9294000    294000           107955     317515 \n",
       "10 507000      9682000    299000           188694     297600 \n",
       "11 505000      9514000    297000           126100     395500 \n",
       "12 498000      8897000    332000           161025     396400 \n",
       "13 546000      8659000    306000           236775     462660 \n",
       "14 578000      8979000    267000           203150     440000 \n",
       "15 626000      8990000    248000           249929     450871 "
      ]
     },
     "metadata": {},
     "output_type": "display_data"
    }
   ],
   "source": [
    "### Creating new columns in new dataframe for each commodity production value\n",
    "Nuts_OilsYear$Almonds <- AlmondsTR$Value\n",
    "Nuts_OilsYear$Filberts <- FilbertsTR$Value\n",
    "Nuts_OilsYear$Honey <- HoneyTR$Value\n",
    "Nuts_OilsYear$CottonseedOil <- CottonseedOilTR$Value\n",
    "Nuts_OilsYear$OliveOil <- OliveOilTR$Value\n",
    "Nuts_OilsYear$PeanutOil <- PeanutOilTR$Value\n",
    "Nuts_OilsYear$RapeseedOil <- RapeseedOilTR$Value\n",
    "Nuts_OilsYear$SoybeanOil <- SoybeanOilTR$Value\n",
    "Nuts_OilsYear$SunflowerseedOil <- SunflowerseedOilTR$Value\n",
    "Nuts_OilsYear$Pistachios <- PistachiosTR$Value\n",
    "Nuts_OilsYear$Walnuts <- WalnutsTR$Value\n",
    "\n",
    "Nuts_OilsYear"
   ]
  },
  {
   "cell_type": "code",
   "execution_count": 48,
   "id": "40bc7942-64a5-4377-8493-08570813785a",
   "metadata": {
    "tags": []
   },
   "outputs": [
    {
     "data": {
      "text/html": [
       "<table class=\"dataframe\">\n",
       "<caption>A matrix: 12 × 12 of type dbl</caption>\n",
       "<thead>\n",
       "\t<tr><th></th><th scope=col>Nuts_OilsYear</th><th scope=col>Almonds</th><th scope=col>Filberts</th><th scope=col>Honey</th><th scope=col>CottonseedOil</th><th scope=col>OliveOil</th><th scope=col>PeanutOil</th><th scope=col>RapeseedOil</th><th scope=col>SoybeanOil</th><th scope=col>SunflowerseedOil</th><th scope=col>Pistachios</th><th scope=col>Walnuts</th></tr>\n",
       "</thead>\n",
       "<tbody>\n",
       "\t<tr><th scope=row>Nuts_OilsYear</th><td> 1.000000000</td><td> 0.9407896</td><td> 0.34991550</td><td>-0.8689871</td><td>-0.137352432</td><td> 0.7794600</td><td> 0.007762914</td><td> 0.929102258</td><td> 0.62634519</td><td>-0.44432312</td><td> 0.834597560</td><td> 0.94677464</td></tr>\n",
       "\t<tr><th scope=row>Almonds</th><td> 0.940789607</td><td> 1.0000000</td><td> 0.25350819</td><td>-0.8131253</td><td>-0.283763867</td><td> 0.8246517</td><td> 0.184670719</td><td> 0.874562584</td><td> 0.49456802</td><td>-0.39391457</td><td> 0.810187708</td><td> 0.91907188</td></tr>\n",
       "\t<tr><th scope=row>Filberts</th><td> 0.349915501</td><td> 0.2535082</td><td> 1.00000000</td><td>-0.4795075</td><td> 0.588556948</td><td> 0.1709633</td><td>-0.186564945</td><td> 0.286686065</td><td> 0.31146897</td><td>-0.38636485</td><td> 0.074365482</td><td> 0.32958140</td></tr>\n",
       "\t<tr><th scope=row>Honey</th><td>-0.868987121</td><td>-0.8131253</td><td>-0.47950753</td><td> 1.0000000</td><td> 0.146092704</td><td>-0.5623766</td><td>-0.186057369</td><td>-0.734580395</td><td>-0.67450636</td><td> 0.54468612</td><td>-0.630911946</td><td>-0.74211601</td></tr>\n",
       "\t<tr><th scope=row>CottonseedOil</th><td>-0.137352432</td><td>-0.2837639</td><td> 0.58855695</td><td> 0.1460927</td><td> 1.000000000</td><td>-0.1580972</td><td>-0.462048010</td><td>-0.002311856</td><td> 0.13849817</td><td> 0.06535953</td><td>-0.282837498</td><td>-0.11058675</td></tr>\n",
       "\t<tr><th scope=row>OliveOil</th><td> 0.779459959</td><td> 0.8246517</td><td> 0.17096327</td><td>-0.5623766</td><td>-0.158097161</td><td> 1.0000000</td><td> 0.102236380</td><td> 0.774680345</td><td> 0.24530174</td><td>-0.25258042</td><td> 0.794457841</td><td> 0.79858204</td></tr>\n",
       "\t<tr><th scope=row>PeanutOil</th><td> 0.007762914</td><td> 0.1846707</td><td>-0.18656494</td><td>-0.1860574</td><td>-0.462048010</td><td> 0.1022364</td><td> 1.000000000</td><td>-0.098584114</td><td>-0.05519243</td><td>-0.16709765</td><td>-0.008117979</td><td> 0.05745279</td></tr>\n",
       "\t<tr><th scope=row>RapeseedOil</th><td> 0.929102258</td><td> 0.8745626</td><td> 0.28668607</td><td>-0.7345804</td><td>-0.002311856</td><td> 0.7746803</td><td>-0.098584114</td><td> 1.000000000</td><td> 0.68943710</td><td>-0.17906855</td><td> 0.822682987</td><td> 0.87493529</td></tr>\n",
       "\t<tr><th scope=row>SoybeanOil</th><td> 0.626345194</td><td> 0.4945680</td><td> 0.31146897</td><td>-0.6745064</td><td> 0.138498172</td><td> 0.2453017</td><td>-0.055192431</td><td> 0.689437097</td><td> 1.00000000</td><td>-0.30423382</td><td> 0.517375064</td><td> 0.45701620</td></tr>\n",
       "\t<tr><th scope=row>SunflowerseedOil</th><td>-0.444323124</td><td>-0.3939146</td><td>-0.38636485</td><td> 0.5446861</td><td> 0.065359528</td><td>-0.2525804</td><td>-0.167097654</td><td>-0.179068552</td><td>-0.30423382</td><td> 1.00000000</td><td>-0.410740540</td><td>-0.33084246</td></tr>\n",
       "\t<tr><th scope=row>Pistachios</th><td> 0.834597560</td><td> 0.8101877</td><td> 0.07436548</td><td>-0.6309119</td><td>-0.282837498</td><td> 0.7944578</td><td>-0.008117979</td><td> 0.822682987</td><td> 0.51737506</td><td>-0.41074054</td><td> 1.000000000</td><td> 0.76095083</td></tr>\n",
       "\t<tr><th scope=row>Walnuts</th><td> 0.946774638</td><td> 0.9190719</td><td> 0.32958140</td><td>-0.7421160</td><td>-0.110586747</td><td> 0.7985820</td><td> 0.057452788</td><td> 0.874935291</td><td> 0.45701620</td><td>-0.33084246</td><td> 0.760950827</td><td> 1.00000000</td></tr>\n",
       "</tbody>\n",
       "</table>\n"
      ],
      "text/latex": [
       "A matrix: 12 × 12 of type dbl\n",
       "\\begin{tabular}{r|llllllllllll}\n",
       "  & Nuts\\_OilsYear & Almonds & Filberts & Honey & CottonseedOil & OliveOil & PeanutOil & RapeseedOil & SoybeanOil & SunflowerseedOil & Pistachios & Walnuts\\\\\n",
       "\\hline\n",
       "\tNuts\\_OilsYear &  1.000000000 &  0.9407896 &  0.34991550 & -0.8689871 & -0.137352432 &  0.7794600 &  0.007762914 &  0.929102258 &  0.62634519 & -0.44432312 &  0.834597560 &  0.94677464\\\\\n",
       "\tAlmonds &  0.940789607 &  1.0000000 &  0.25350819 & -0.8131253 & -0.283763867 &  0.8246517 &  0.184670719 &  0.874562584 &  0.49456802 & -0.39391457 &  0.810187708 &  0.91907188\\\\\n",
       "\tFilberts &  0.349915501 &  0.2535082 &  1.00000000 & -0.4795075 &  0.588556948 &  0.1709633 & -0.186564945 &  0.286686065 &  0.31146897 & -0.38636485 &  0.074365482 &  0.32958140\\\\\n",
       "\tHoney & -0.868987121 & -0.8131253 & -0.47950753 &  1.0000000 &  0.146092704 & -0.5623766 & -0.186057369 & -0.734580395 & -0.67450636 &  0.54468612 & -0.630911946 & -0.74211601\\\\\n",
       "\tCottonseedOil & -0.137352432 & -0.2837639 &  0.58855695 &  0.1460927 &  1.000000000 & -0.1580972 & -0.462048010 & -0.002311856 &  0.13849817 &  0.06535953 & -0.282837498 & -0.11058675\\\\\n",
       "\tOliveOil &  0.779459959 &  0.8246517 &  0.17096327 & -0.5623766 & -0.158097161 &  1.0000000 &  0.102236380 &  0.774680345 &  0.24530174 & -0.25258042 &  0.794457841 &  0.79858204\\\\\n",
       "\tPeanutOil &  0.007762914 &  0.1846707 & -0.18656494 & -0.1860574 & -0.462048010 &  0.1022364 &  1.000000000 & -0.098584114 & -0.05519243 & -0.16709765 & -0.008117979 &  0.05745279\\\\\n",
       "\tRapeseedOil &  0.929102258 &  0.8745626 &  0.28668607 & -0.7345804 & -0.002311856 &  0.7746803 & -0.098584114 &  1.000000000 &  0.68943710 & -0.17906855 &  0.822682987 &  0.87493529\\\\\n",
       "\tSoybeanOil &  0.626345194 &  0.4945680 &  0.31146897 & -0.6745064 &  0.138498172 &  0.2453017 & -0.055192431 &  0.689437097 &  1.00000000 & -0.30423382 &  0.517375064 &  0.45701620\\\\\n",
       "\tSunflowerseedOil & -0.444323124 & -0.3939146 & -0.38636485 &  0.5446861 &  0.065359528 & -0.2525804 & -0.167097654 & -0.179068552 & -0.30423382 &  1.00000000 & -0.410740540 & -0.33084246\\\\\n",
       "\tPistachios &  0.834597560 &  0.8101877 &  0.07436548 & -0.6309119 & -0.282837498 &  0.7944578 & -0.008117979 &  0.822682987 &  0.51737506 & -0.41074054 &  1.000000000 &  0.76095083\\\\\n",
       "\tWalnuts &  0.946774638 &  0.9190719 &  0.32958140 & -0.7421160 & -0.110586747 &  0.7985820 &  0.057452788 &  0.874935291 &  0.45701620 & -0.33084246 &  0.760950827 &  1.00000000\\\\\n",
       "\\end{tabular}\n"
      ],
      "text/markdown": [
       "\n",
       "A matrix: 12 × 12 of type dbl\n",
       "\n",
       "| <!--/--> | Nuts_OilsYear | Almonds | Filberts | Honey | CottonseedOil | OliveOil | PeanutOil | RapeseedOil | SoybeanOil | SunflowerseedOil | Pistachios | Walnuts |\n",
       "|---|---|---|---|---|---|---|---|---|---|---|---|---|\n",
       "| Nuts_OilsYear |  1.000000000 |  0.9407896 |  0.34991550 | -0.8689871 | -0.137352432 |  0.7794600 |  0.007762914 |  0.929102258 |  0.62634519 | -0.44432312 |  0.834597560 |  0.94677464 |\n",
       "| Almonds |  0.940789607 |  1.0000000 |  0.25350819 | -0.8131253 | -0.283763867 |  0.8246517 |  0.184670719 |  0.874562584 |  0.49456802 | -0.39391457 |  0.810187708 |  0.91907188 |\n",
       "| Filberts |  0.349915501 |  0.2535082 |  1.00000000 | -0.4795075 |  0.588556948 |  0.1709633 | -0.186564945 |  0.286686065 |  0.31146897 | -0.38636485 |  0.074365482 |  0.32958140 |\n",
       "| Honey | -0.868987121 | -0.8131253 | -0.47950753 |  1.0000000 |  0.146092704 | -0.5623766 | -0.186057369 | -0.734580395 | -0.67450636 |  0.54468612 | -0.630911946 | -0.74211601 |\n",
       "| CottonseedOil | -0.137352432 | -0.2837639 |  0.58855695 |  0.1460927 |  1.000000000 | -0.1580972 | -0.462048010 | -0.002311856 |  0.13849817 |  0.06535953 | -0.282837498 | -0.11058675 |\n",
       "| OliveOil |  0.779459959 |  0.8246517 |  0.17096327 | -0.5623766 | -0.158097161 |  1.0000000 |  0.102236380 |  0.774680345 |  0.24530174 | -0.25258042 |  0.794457841 |  0.79858204 |\n",
       "| PeanutOil |  0.007762914 |  0.1846707 | -0.18656494 | -0.1860574 | -0.462048010 |  0.1022364 |  1.000000000 | -0.098584114 | -0.05519243 | -0.16709765 | -0.008117979 |  0.05745279 |\n",
       "| RapeseedOil |  0.929102258 |  0.8745626 |  0.28668607 | -0.7345804 | -0.002311856 |  0.7746803 | -0.098584114 |  1.000000000 |  0.68943710 | -0.17906855 |  0.822682987 |  0.87493529 |\n",
       "| SoybeanOil |  0.626345194 |  0.4945680 |  0.31146897 | -0.6745064 |  0.138498172 |  0.2453017 | -0.055192431 |  0.689437097 |  1.00000000 | -0.30423382 |  0.517375064 |  0.45701620 |\n",
       "| SunflowerseedOil | -0.444323124 | -0.3939146 | -0.38636485 |  0.5446861 |  0.065359528 | -0.2525804 | -0.167097654 | -0.179068552 | -0.30423382 |  1.00000000 | -0.410740540 | -0.33084246 |\n",
       "| Pistachios |  0.834597560 |  0.8101877 |  0.07436548 | -0.6309119 | -0.282837498 |  0.7944578 | -0.008117979 |  0.822682987 |  0.51737506 | -0.41074054 |  1.000000000 |  0.76095083 |\n",
       "| Walnuts |  0.946774638 |  0.9190719 |  0.32958140 | -0.7421160 | -0.110586747 |  0.7985820 |  0.057452788 |  0.874935291 |  0.45701620 | -0.33084246 |  0.760950827 |  1.00000000 |\n",
       "\n"
      ],
      "text/plain": [
       "                 Nuts_OilsYear Almonds    Filberts    Honey      CottonseedOil\n",
       "Nuts_OilsYear     1.000000000   0.9407896  0.34991550 -0.8689871 -0.137352432 \n",
       "Almonds           0.940789607   1.0000000  0.25350819 -0.8131253 -0.283763867 \n",
       "Filberts          0.349915501   0.2535082  1.00000000 -0.4795075  0.588556948 \n",
       "Honey            -0.868987121  -0.8131253 -0.47950753  1.0000000  0.146092704 \n",
       "CottonseedOil    -0.137352432  -0.2837639  0.58855695  0.1460927  1.000000000 \n",
       "OliveOil          0.779459959   0.8246517  0.17096327 -0.5623766 -0.158097161 \n",
       "PeanutOil         0.007762914   0.1846707 -0.18656494 -0.1860574 -0.462048010 \n",
       "RapeseedOil       0.929102258   0.8745626  0.28668607 -0.7345804 -0.002311856 \n",
       "SoybeanOil        0.626345194   0.4945680  0.31146897 -0.6745064  0.138498172 \n",
       "SunflowerseedOil -0.444323124  -0.3939146 -0.38636485  0.5446861  0.065359528 \n",
       "Pistachios        0.834597560   0.8101877  0.07436548 -0.6309119 -0.282837498 \n",
       "Walnuts           0.946774638   0.9190719  0.32958140 -0.7421160 -0.110586747 \n",
       "                 OliveOil   PeanutOil    RapeseedOil  SoybeanOil \n",
       "Nuts_OilsYear     0.7794600  0.007762914  0.929102258  0.62634519\n",
       "Almonds           0.8246517  0.184670719  0.874562584  0.49456802\n",
       "Filberts          0.1709633 -0.186564945  0.286686065  0.31146897\n",
       "Honey            -0.5623766 -0.186057369 -0.734580395 -0.67450636\n",
       "CottonseedOil    -0.1580972 -0.462048010 -0.002311856  0.13849817\n",
       "OliveOil          1.0000000  0.102236380  0.774680345  0.24530174\n",
       "PeanutOil         0.1022364  1.000000000 -0.098584114 -0.05519243\n",
       "RapeseedOil       0.7746803 -0.098584114  1.000000000  0.68943710\n",
       "SoybeanOil        0.2453017 -0.055192431  0.689437097  1.00000000\n",
       "SunflowerseedOil -0.2525804 -0.167097654 -0.179068552 -0.30423382\n",
       "Pistachios        0.7944578 -0.008117979  0.822682987  0.51737506\n",
       "Walnuts           0.7985820  0.057452788  0.874935291  0.45701620\n",
       "                 SunflowerseedOil Pistachios   Walnuts    \n",
       "Nuts_OilsYear    -0.44432312       0.834597560  0.94677464\n",
       "Almonds          -0.39391457       0.810187708  0.91907188\n",
       "Filberts         -0.38636485       0.074365482  0.32958140\n",
       "Honey             0.54468612      -0.630911946 -0.74211601\n",
       "CottonseedOil     0.06535953      -0.282837498 -0.11058675\n",
       "OliveOil         -0.25258042       0.794457841  0.79858204\n",
       "PeanutOil        -0.16709765      -0.008117979  0.05745279\n",
       "RapeseedOil      -0.17906855       0.822682987  0.87493529\n",
       "SoybeanOil       -0.30423382       0.517375064  0.45701620\n",
       "SunflowerseedOil  1.00000000      -0.410740540 -0.33084246\n",
       "Pistachios       -0.41074054       1.000000000  0.76095083\n",
       "Walnuts          -0.33084246       0.760950827  1.00000000"
      ]
     },
     "metadata": {},
     "output_type": "display_data"
    }
   ],
   "source": [
    "## Running Correlation Matrix\n",
    "\n",
    "Nuts_OilsCoR <- cor(Nuts_OilsYear)\n",
    "Nuts_OilsCoR"
   ]
  },
  {
   "cell_type": "code",
   "execution_count": 49,
   "id": "b6cf61f2-0925-4b36-9a87-06bd1ceccbbe",
   "metadata": {},
   "outputs": [],
   "source": [
    "### Looks like honey is significantly negatively correlated with Almonds at -81%! "
   ]
  },
  {
   "cell_type": "code",
   "execution_count": 153,
   "id": "5f26090a-c1ad-486d-8612-b1ec8fe010a0",
   "metadata": {},
   "outputs": [
    {
     "data": {
      "image/png": "[encoded data removed]",
      "text/plain": [
       "Plot with title \"\""
      ]
     },
     "metadata": {
      "image/png": {
       "height": 420,
       "width": 420
      }
     },
     "output_type": "display_data"
    }
   ],
   "source": [
    "## Visualizing Matrix\n",
    "corrplot(Nuts_OilsCoR, type=\"upper\", method=\"circle\")"
   ]
  },
  {
   "cell_type": "code",
   "execution_count": 144,
   "id": "8e6159cc-12d3-4a86-afa2-17b87804cf9e",
   "metadata": {},
   "outputs": [],
   "source": [
    "### Looks like overall, Honey production plays a large influence in the pollenization of nut-producing plants!"
   ]
  },
  {
   "cell_type": "code",
   "execution_count": 119,
   "id": "002c40d7-18ea-47ca-bcf9-4763fe828668",
   "metadata": {
    "tags": []
   },
   "outputs": [],
   "source": [
    "# -----------------------------------------------------------------------------------------------------------------\n",
    "# Running Linear Regressions on Highly Correlated Commodity - Almonds \n",
    "## 1 - How do Almond production values change from 2008-2012?\n",
    "## 2 - What is the equation of the linear relationship between Almonds and honey from 1998-2012?"
   ]
  },
  {
   "cell_type": "code",
   "execution_count": 120,
   "id": "46e1e741-6acf-47b7-8bee-d32ff6ba32ed",
   "metadata": {
    "tags": []
   },
   "outputs": [
    {
     "data": {
      "text/html": [
       "<table class=\"dataframe\">\n",
       "<caption>A data.frame: 15 × 10</caption>\n",
       "<thead>\n",
       "\t<tr><th></th><th scope=col>X.1</th><th scope=col>X</th><th scope=col>Commodity_Description</th><th scope=col>Country_Code</th><th scope=col>Country_Name</th><th scope=col>Year</th><th scope=col>Attribute_Description</th><th scope=col>Unit_Description</th><th scope=col>Value</th><th scope=col>Category</th></tr>\n",
       "\t<tr><th></th><th scope=col>&lt;int&gt;</th><th scope=col>&lt;int&gt;</th><th scope=col>&lt;chr&gt;</th><th scope=col>&lt;chr&gt;</th><th scope=col>&lt;chr&gt;</th><th scope=col>&lt;int&gt;</th><th scope=col>&lt;chr&gt;</th><th scope=col>&lt;chr&gt;</th><th scope=col>&lt;dbl&gt;</th><th scope=col>&lt;int&gt;</th></tr>\n",
       "</thead>\n",
       "<tbody>\n",
       "\t<tr><th scope=row>67</th><td>67</td><td>   1</td><td>Almonds, Shelled Basis</td><td>US</td><td>United States</td><td>1998</td><td>Production</td><td>(MT)</td><td>235884</td><td>4</td></tr>\n",
       "\t<tr><th scope=row>68</th><td>68</td><td>6883</td><td>Almonds, Shelled Basis</td><td>US</td><td>United States</td><td>1999</td><td>Production</td><td>(MT)</td><td>377800</td><td>4</td></tr>\n",
       "\t<tr><th scope=row>69</th><td>69</td><td>6884</td><td>Almonds, Shelled Basis</td><td>US</td><td>United States</td><td>2000</td><td>Production</td><td>(MT)</td><td>318900</td><td>4</td></tr>\n",
       "\t<tr><th scope=row>70</th><td>70</td><td>6228</td><td>Almonds, Shelled Basis</td><td>US</td><td>United States</td><td>2001</td><td>Production</td><td>(MT)</td><td>376500</td><td>4</td></tr>\n",
       "\t<tr><th scope=row>71</th><td>71</td><td>   5</td><td>Almonds, Shelled Basis</td><td>US</td><td>United States</td><td>2002</td><td>Production</td><td>(MT)</td><td>494416</td><td>4</td></tr>\n",
       "\t<tr><th scope=row>72</th><td>72</td><td>5347</td><td>Almonds, Shelled Basis</td><td>US</td><td>United States</td><td>2003</td><td>Production</td><td>(MT)</td><td>471740</td><td>4</td></tr>\n",
       "\t<tr><th scope=row>73</th><td>73</td><td>   7</td><td>Almonds, Shelled Basis</td><td>US</td><td>United States</td><td>2004</td><td>Production</td><td>(MT)</td><td>462664</td><td>4</td></tr>\n",
       "\t<tr><th scope=row>74</th><td>74</td><td>3214</td><td>Almonds, Shelled Basis</td><td>US</td><td>United States</td><td>2005</td><td>Production</td><td>(MT)</td><td>415040</td><td>4</td></tr>\n",
       "\t<tr><th scope=row>75</th><td>75</td><td>6890</td><td>Almonds, Shelled Basis</td><td>US</td><td>United States</td><td>2006</td><td>Production</td><td>(MT)</td><td>508023</td><td>4</td></tr>\n",
       "\t<tr><th scope=row>76</th><td>76</td><td>6891</td><td>Almonds, Shelled Basis</td><td>US</td><td>United States</td><td>2007</td><td>Production</td><td>(MT)</td><td>630493</td><td>4</td></tr>\n",
       "\t<tr><th scope=row>77</th><td>77</td><td>6235</td><td>Almonds, Shelled Basis</td><td>US</td><td>United States</td><td>2008</td><td>Production</td><td>(MT)</td><td>739400</td><td>4</td></tr>\n",
       "\t<tr><th scope=row>78</th><td>78</td><td>4494</td><td>Almonds, Shelled Basis</td><td>US</td><td>United States</td><td>2009</td><td>Production</td><td>(MT)</td><td>639570</td><td>4</td></tr>\n",
       "\t<tr><th scope=row>79</th><td>79</td><td>4495</td><td>Almonds, Shelled Basis</td><td>US</td><td>United States</td><td>2010</td><td>Production</td><td>(MT)</td><td>748430</td><td>4</td></tr>\n",
       "\t<tr><th scope=row>80</th><td>80</td><td>6238</td><td>Almonds, Shelled Basis</td><td>US</td><td>United States</td><td>2011</td><td>Production</td><td>(MT)</td><td>920800</td><td>4</td></tr>\n",
       "\t<tr><th scope=row>81</th><td>81</td><td>6239</td><td>Almonds, Shelled Basis</td><td>US</td><td>United States</td><td>2012</td><td>Production</td><td>(MT)</td><td>952500</td><td>4</td></tr>\n",
       "</tbody>\n",
       "</table>\n"
      ],
      "text/latex": [
       "A data.frame: 15 × 10\n",
       "\\begin{tabular}{r|llllllllll}\n",
       "  & X.1 & X & Commodity\\_Description & Country\\_Code & Country\\_Name & Year & Attribute\\_Description & Unit\\_Description & Value & Category\\\\\n",
       "  & <int> & <int> & <chr> & <chr> & <chr> & <int> & <chr> & <chr> & <dbl> & <int>\\\\\n",
       "\\hline\n",
       "\t67 & 67 &    1 & Almonds, Shelled Basis & US & United States & 1998 & Production & (MT) & 235884 & 4\\\\\n",
       "\t68 & 68 & 6883 & Almonds, Shelled Basis & US & United States & 1999 & Production & (MT) & 377800 & 4\\\\\n",
       "\t69 & 69 & 6884 & Almonds, Shelled Basis & US & United States & 2000 & Production & (MT) & 318900 & 4\\\\\n",
       "\t70 & 70 & 6228 & Almonds, Shelled Basis & US & United States & 2001 & Production & (MT) & 376500 & 4\\\\\n",
       "\t71 & 71 &    5 & Almonds, Shelled Basis & US & United States & 2002 & Production & (MT) & 494416 & 4\\\\\n",
       "\t72 & 72 & 5347 & Almonds, Shelled Basis & US & United States & 2003 & Production & (MT) & 471740 & 4\\\\\n",
       "\t73 & 73 &    7 & Almonds, Shelled Basis & US & United States & 2004 & Production & (MT) & 462664 & 4\\\\\n",
       "\t74 & 74 & 3214 & Almonds, Shelled Basis & US & United States & 2005 & Production & (MT) & 415040 & 4\\\\\n",
       "\t75 & 75 & 6890 & Almonds, Shelled Basis & US & United States & 2006 & Production & (MT) & 508023 & 4\\\\\n",
       "\t76 & 76 & 6891 & Almonds, Shelled Basis & US & United States & 2007 & Production & (MT) & 630493 & 4\\\\\n",
       "\t77 & 77 & 6235 & Almonds, Shelled Basis & US & United States & 2008 & Production & (MT) & 739400 & 4\\\\\n",
       "\t78 & 78 & 4494 & Almonds, Shelled Basis & US & United States & 2009 & Production & (MT) & 639570 & 4\\\\\n",
       "\t79 & 79 & 4495 & Almonds, Shelled Basis & US & United States & 2010 & Production & (MT) & 748430 & 4\\\\\n",
       "\t80 & 80 & 6238 & Almonds, Shelled Basis & US & United States & 2011 & Production & (MT) & 920800 & 4\\\\\n",
       "\t81 & 81 & 6239 & Almonds, Shelled Basis & US & United States & 2012 & Production & (MT) & 952500 & 4\\\\\n",
       "\\end{tabular}\n"
      ],
      "text/markdown": [
       "\n",
       "A data.frame: 15 × 10\n",
       "\n",
       "| <!--/--> | X.1 &lt;int&gt; | X &lt;int&gt; | Commodity_Description &lt;chr&gt; | Country_Code &lt;chr&gt; | Country_Name &lt;chr&gt; | Year &lt;int&gt; | Attribute_Description &lt;chr&gt; | Unit_Description &lt;chr&gt; | Value &lt;dbl&gt; | Category &lt;int&gt; |\n",
       "|---|---|---|---|---|---|---|---|---|---|---|\n",
       "| 67 | 67 |    1 | Almonds, Shelled Basis | US | United States | 1998 | Production | (MT) | 235884 | 4 |\n",
       "| 68 | 68 | 6883 | Almonds, Shelled Basis | US | United States | 1999 | Production | (MT) | 377800 | 4 |\n",
       "| 69 | 69 | 6884 | Almonds, Shelled Basis | US | United States | 2000 | Production | (MT) | 318900 | 4 |\n",
       "| 70 | 70 | 6228 | Almonds, Shelled Basis | US | United States | 2001 | Production | (MT) | 376500 | 4 |\n",
       "| 71 | 71 |    5 | Almonds, Shelled Basis | US | United States | 2002 | Production | (MT) | 494416 | 4 |\n",
       "| 72 | 72 | 5347 | Almonds, Shelled Basis | US | United States | 2003 | Production | (MT) | 471740 | 4 |\n",
       "| 73 | 73 |    7 | Almonds, Shelled Basis | US | United States | 2004 | Production | (MT) | 462664 | 4 |\n",
       "| 74 | 74 | 3214 | Almonds, Shelled Basis | US | United States | 2005 | Production | (MT) | 415040 | 4 |\n",
       "| 75 | 75 | 6890 | Almonds, Shelled Basis | US | United States | 2006 | Production | (MT) | 508023 | 4 |\n",
       "| 76 | 76 | 6891 | Almonds, Shelled Basis | US | United States | 2007 | Production | (MT) | 630493 | 4 |\n",
       "| 77 | 77 | 6235 | Almonds, Shelled Basis | US | United States | 2008 | Production | (MT) | 739400 | 4 |\n",
       "| 78 | 78 | 4494 | Almonds, Shelled Basis | US | United States | 2009 | Production | (MT) | 639570 | 4 |\n",
       "| 79 | 79 | 4495 | Almonds, Shelled Basis | US | United States | 2010 | Production | (MT) | 748430 | 4 |\n",
       "| 80 | 80 | 6238 | Almonds, Shelled Basis | US | United States | 2011 | Production | (MT) | 920800 | 4 |\n",
       "| 81 | 81 | 6239 | Almonds, Shelled Basis | US | United States | 2012 | Production | (MT) | 952500 | 4 |\n",
       "\n"
      ],
      "text/plain": [
       "   X.1 X    Commodity_Description  Country_Code Country_Name  Year\n",
       "67 67     1 Almonds, Shelled Basis US           United States 1998\n",
       "68 68  6883 Almonds, Shelled Basis US           United States 1999\n",
       "69 69  6884 Almonds, Shelled Basis US           United States 2000\n",
       "70 70  6228 Almonds, Shelled Basis US           United States 2001\n",
       "71 71     5 Almonds, Shelled Basis US           United States 2002\n",
       "72 72  5347 Almonds, Shelled Basis US           United States 2003\n",
       "73 73     7 Almonds, Shelled Basis US           United States 2004\n",
       "74 74  3214 Almonds, Shelled Basis US           United States 2005\n",
       "75 75  6890 Almonds, Shelled Basis US           United States 2006\n",
       "76 76  6891 Almonds, Shelled Basis US           United States 2007\n",
       "77 77  6235 Almonds, Shelled Basis US           United States 2008\n",
       "78 78  4494 Almonds, Shelled Basis US           United States 2009\n",
       "79 79  4495 Almonds, Shelled Basis US           United States 2010\n",
       "80 80  6238 Almonds, Shelled Basis US           United States 2011\n",
       "81 81  6239 Almonds, Shelled Basis US           United States 2012\n",
       "   Attribute_Description Unit_Description Value  Category\n",
       "67 Production            (MT)             235884 4       \n",
       "68 Production            (MT)             377800 4       \n",
       "69 Production            (MT)             318900 4       \n",
       "70 Production            (MT)             376500 4       \n",
       "71 Production            (MT)             494416 4       \n",
       "72 Production            (MT)             471740 4       \n",
       "73 Production            (MT)             462664 4       \n",
       "74 Production            (MT)             415040 4       \n",
       "75 Production            (MT)             508023 4       \n",
       "76 Production            (MT)             630493 4       \n",
       "77 Production            (MT)             739400 4       \n",
       "78 Production            (MT)             639570 4       \n",
       "79 Production            (MT)             748430 4       \n",
       "80 Production            (MT)             920800 4       \n",
       "81 Production            (MT)             952500 4       "
      ]
     },
     "metadata": {},
     "output_type": "display_data"
    }
   ],
   "source": [
    "## 1 - How do Almond production values change from 2008-2012?\n",
    "## Filtering out only almonds\n",
    "AlmondsTimeLR <- subset(Nuts_Oils, Commodity_Description=='Almonds, Shelled Basis')\n",
    "AlmondsTimeLR"
   ]
  },
  {
   "cell_type": "code",
   "execution_count": 112,
   "id": "f75cbd43-defb-4ae5-b620-96d79ab47325",
   "metadata": {
    "tags": []
   },
   "outputs": [
    {
     "name": "stderr",
     "output_type": "stream",
     "text": [
      "`geom_smooth()` using formula 'y ~ x'\n",
      "\n"
     ]
    },
    {
     "data": {
      "image/png": "[encoded data removed]",
      "text/plain": [
       "plot without title"
      ]
     },
     "metadata": {
      "image/png": {
       "height": 420,
       "width": 420
      }
     },
     "output_type": "display_data"
    }
   ],
   "source": [
    "## Creating a scatterplot with best line fit\n",
    "AlmondsTimeSCAT <- ggplot(AlmondsTimeLR, aes(x = Year, y = Value))+ \n",
    "                geom_point() + geom_smooth(method=lm, se=FALSE)+\n",
    "                ggtitle('US Production Value of Almonds from 1998-2012')+\n",
    "                xlab('Year')+\n",
    "                ylab('Production in Metric Tons')\n",
    "AlmondsTimeSCAT"
   ]
  },
  {
   "cell_type": "code",
   "execution_count": 115,
   "id": "1772a0bd-38f9-4552-ab08-a4d3b763a47e",
   "metadata": {},
   "outputs": [],
   "source": [
    "### As we can see, there is a positive linear relationship between Almond production and time"
   ]
  },
  {
   "cell_type": "code",
   "execution_count": 114,
   "id": "e20cf03a-d22a-4e7b-aa16-b93cc5fab54a",
   "metadata": {
    "tags": []
   },
   "outputs": [
    {
     "data": {
      "image/png": "[encoded data removed]",
      "text/plain": [
       "Plot with title \"\""
      ]
     },
     "metadata": {
      "image/png": {
       "height": 420,
       "width": 420
      }
     },
     "output_type": "display_data"
    },
    {
     "data": {
      "image/png": "[encoded data removed]",
      "text/plain": [
       "Plot with title \"\""
      ]
     },
     "metadata": {
      "image/png": {
       "height": 420,
       "width": 420
      }
     },
     "output_type": "display_data"
    }
   ],
   "source": [
    "## Testing for Normality\n",
    "plotNormalHistogram(AlmondsTimeLR$Value)\n",
    "plotNormalHistogram(AlmondsTimeLR$Year)"
   ]
  },
  {
   "cell_type": "code",
   "execution_count": null,
   "id": "29bc952c-8c32-4324-ad05-e1608313d9d7",
   "metadata": {},
   "outputs": [],
   "source": [
    "### They both look decently distributed!"
   ]
  },
  {
   "cell_type": "code",
   "execution_count": 116,
   "id": "4a8c50c9-02b6-4cd7-adcc-53d29dce12e2",
   "metadata": {},
   "outputs": [
    {
     "data": {
      "text/plain": [
       "\n",
       "\tPearson's product-moment correlation\n",
       "\n",
       "data:  x and y\n",
       "t = 10.006, df = 13, p-value = 1.786e-07\n",
       "alternative hypothesis: true correlation is not equal to 0\n",
       "95 percent confidence interval:\n",
       " 0.8271625 0.9805125\n",
       "sample estimates:\n",
       "      cor \n",
       "0.9407896 \n"
      ]
     },
     "metadata": {},
     "output_type": "display_data"
    }
   ],
   "source": [
    "## Looking at Pearson's correlation\n",
    "cor.test(AlmondsTimeLR$Year, AlmondsTimeLR$Value, method=\"pearson\", use = \"complete.obs\")"
   ]
  },
  {
   "cell_type": "code",
   "execution_count": 117,
   "id": "7720517f-def5-4383-ad6d-0874e0e8bffb",
   "metadata": {},
   "outputs": [],
   "source": [
    "### We see here there is a significant correlation between almonds production and time from 1998 - 2012. At 98% we can be fairly confident of this correlation!"
   ]
  },
  {
   "cell_type": "code",
   "execution_count": 123,
   "id": "33ae276b-577d-42ac-b824-0b90cb4a3aef",
   "metadata": {},
   "outputs": [
    {
     "name": "stdout",
     "output_type": "stream",
     "text": [
      "\n",
      "Call:\n",
      "lm(formula = Value ~ Year, data = AlmondsTimeLR)\n",
      "\n",
      "Coefficients:\n",
      "(Intercept)         Year  \n",
      "  -89472112        44900  \n",
      "\n"
     ]
    }
   ],
   "source": [
    "## Running linear regression model\n",
    "lin_reg1 <- lm(Value ~ Year, AlmondsTimeLR)\n",
    "print(lin_reg1)"
   ]
  },
  {
   "cell_type": "code",
   "execution_count": 124,
   "id": "d2e82f42-6e98-4cf6-9d86-72a4d55afaed",
   "metadata": {},
   "outputs": [],
   "source": [
    "### Our equation for Almonds looks like: y = 44900(Year) - 89472112. "
   ]
  },
  {
   "cell_type": "code",
   "execution_count": 125,
   "id": "dc12bf82-5353-4555-a502-b31903aed1c2",
   "metadata": {
    "tags": []
   },
   "outputs": [
    {
     "data": {
      "text/plain": [
       "\n",
       "Call:\n",
       "lm(formula = Value ~ Year, data = AlmondsTimeLR)\n",
       "\n",
       "Residuals:\n",
       "    Min      1Q  Median      3Q     Max \n",
       "-137771  -37064   -2625   64097   98588 \n",
       "\n",
       "Coefficients:\n",
       "             Estimate Std. Error t value Pr(>|t|)    \n",
       "(Intercept) -89472112    8996794  -9.945 1.92e-07 ***\n",
       "Year            44900       4487  10.006 1.79e-07 ***\n",
       "---\n",
       "Signif. codes:  0 '***' 0.001 '**' 0.01 '*' 0.05 '.' 0.1 ' ' 1\n",
       "\n",
       "Residual standard error: 75080 on 13 degrees of freedom\n",
       "Multiple R-squared:  0.8851,\tAdjusted R-squared:  0.8762 \n",
       "F-statistic: 100.1 on 1 and 13 DF,  p-value: 1.786e-07\n"
      ]
     },
     "metadata": {},
     "output_type": "display_data"
    }
   ],
   "source": [
    "## Model Summary\n",
    "summary(lin_reg1)"
   ]
  },
  {
   "cell_type": "code",
   "execution_count": 126,
   "id": "0e615457-d0b1-4af1-87f9-334ee5a0b898",
   "metadata": {},
   "outputs": [],
   "source": [
    "### We can see here that year is a significant predictor of production value, after looking at adjusted R-squared we see that year accounts for 87% of production value. "
   ]
  },
  {
   "cell_type": "code",
   "execution_count": null,
   "id": "e31288c6-4d6d-4d37-9f84-69f23fa09db7",
   "metadata": {},
   "outputs": [],
   "source": [
    "## - 2 What is the equation of the linear relationship between Almonds and honey from 1998-2012?"
   ]
  },
  {
   "cell_type": "code",
   "execution_count": 127,
   "id": "b24a29bd-b21d-4e4f-a003-a46039c4ecad",
   "metadata": {
    "tags": []
   },
   "outputs": [
    {
     "name": "stderr",
     "output_type": "stream",
     "text": [
      "`geom_smooth()` using formula 'y ~ x'\n",
      "\n"
     ]
    },
    {
     "data": {
      "image/png": "[encoded data removed]",
      "text/plain": [
       "plot without title"
      ]
     },
     "metadata": {
      "image/png": {
       "height": 420,
       "width": 420
      }
     },
     "output_type": "display_data"
    }
   ],
   "source": [
    "## Creating a scatterplot with best line fit\n",
    "AlmondsHoneySCAT <- ggplot(Nuts_OilsYear, aes(x = Honey, y = Almonds))+ \n",
    "                geom_point() + geom_smooth(method=lm, se=FALSE)+\n",
    "                ggtitle('US Production Value of Almonds ~ Honey, 1998-2012')+\n",
    "                xlab('Honey Production in MT)')+\n",
    "                ylab('Almond Production in MT')\n",
    "AlmondsHoneySCAT"
   ]
  },
  {
   "cell_type": "code",
   "execution_count": 128,
   "id": "ffc86dc2-9f0a-4a3d-88b5-5b2d33d715d3",
   "metadata": {},
   "outputs": [],
   "source": [
    "### Looks like a direct negative correlation, matching the data we found in our correlation matrix"
   ]
  },
  {
   "cell_type": "code",
   "execution_count": 129,
   "id": "4a0c092b-9321-441b-a8c9-2f08d7740847",
   "metadata": {
    "tags": []
   },
   "outputs": [
    {
     "data": {
      "image/png": "[encoded data removed]",
      "text/plain": [
       "Plot with title \"\""
      ]
     },
     "metadata": {
      "image/png": {
       "height": 420,
       "width": 420
      }
     },
     "output_type": "display_data"
    }
   ],
   "source": [
    "## Looking at distribution of Honey production data\n",
    "plotNormalHistogram(Nuts_OilsYear$Honey)"
   ]
  },
  {
   "cell_type": "code",
   "execution_count": 130,
   "id": "3069e1dd-862f-46c8-b0d5-910e54160b76",
   "metadata": {
    "tags": []
   },
   "outputs": [],
   "source": [
    "### Not too bad, we'll go with it!"
   ]
  },
  {
   "cell_type": "code",
   "execution_count": 131,
   "id": "72d28d1b-ca56-4c45-a76a-dd02fc6ec81c",
   "metadata": {
    "tags": []
   },
   "outputs": [
    {
     "data": {
      "text/plain": [
       "\n",
       "\tPearson's product-moment correlation\n",
       "\n",
       "data:  x and y\n",
       "t = -5.0366, df = 13, p-value = 0.0002277\n",
       "alternative hypothesis: true correlation is not equal to 0\n",
       "95 percent confidence interval:\n",
       " -0.9356558 -0.5156468\n",
       "sample estimates:\n",
       "       cor \n",
       "-0.8131253 \n"
      ]
     },
     "metadata": {},
     "output_type": "display_data"
    }
   ],
   "source": [
    "## Running Pearson's correlation\n",
    "cor.test(Nuts_OilsYear$Honey, Nuts_OilsYear$Almonds, method=\"pearson\", use = \"complete.obs\")"
   ]
  },
  {
   "cell_type": "code",
   "execution_count": 133,
   "id": "8a9b6d5a-cae0-48fc-9a21-673089f4c9f5",
   "metadata": {
    "tags": []
   },
   "outputs": [],
   "source": [
    "### There is a significant negative correlation between the production of Honey and Almonds. We expected a high correlation, but a positive one. At 52% adjusted confidence interval, there could be other major \n",
    "### factors coming in to play. This could possibly explain the negative correlation. We will have to expand our research to discover why this is the case."
   ]
  },
  {
   "cell_type": "code",
   "execution_count": 134,
   "id": "4dff5926-f500-4f39-b34b-68ad48348ea3",
   "metadata": {
    "tags": []
   },
   "outputs": [
    {
     "name": "stdout",
     "output_type": "stream",
     "text": [
      "\n",
      "Call:\n",
      "lm(formula = Almonds ~ Honey, data = Nuts_OilsYear)\n",
      "\n",
      "Coefficients:\n",
      "(Intercept)        Honey  \n",
      " 1737890.72       -15.02  \n",
      "\n"
     ]
    }
   ],
   "source": [
    "## Running linear regression model\n",
    "lin_reg2 <- lm(Almonds ~ Honey, Nuts_OilsYear)\n",
    "print(lin_reg2)"
   ]
  },
  {
   "cell_type": "code",
   "execution_count": 135,
   "id": "32959e18-f8a7-42cc-b4af-47efd513b4f4",
   "metadata": {},
   "outputs": [],
   "source": [
    "### Our equation for Almonds ~ Honey production is: y = -15.02(Honey) + 1737890.72. We will use this equation for predictive modeling later on!"
   ]
  },
  {
   "cell_type": "code",
   "execution_count": 137,
   "id": "002fc44c-bbcc-42bd-a51b-d43843ba7fc8",
   "metadata": {},
   "outputs": [
    {
     "data": {
      "text/plain": [
       "\n",
       "Call:\n",
       "lm(formula = Almonds ~ Honey, data = Nuts_OilsYear)\n",
       "\n",
       "Residuals:\n",
       "    Min      1Q  Median      3Q     Max \n",
       "-179322  -99072  -30623   94004  204502 \n",
       "\n",
       "Coefficients:\n",
       "              Estimate Std. Error t value Pr(>|t|)    \n",
       "(Intercept)  1.738e+06  2.376e+05   7.313 5.89e-06 ***\n",
       "Honey       -1.502e+01  2.981e+00  -5.037 0.000228 ***\n",
       "---\n",
       "Signif. codes:  0 '***' 0.001 '**' 0.01 '*' 0.05 '.' 0.1 ' ' 1\n",
       "\n",
       "Residual standard error: 128900 on 13 degrees of freedom\n",
       "Multiple R-squared:  0.6612,\tAdjusted R-squared:  0.6351 \n",
       "F-statistic: 25.37 on 1 and 13 DF,  p-value: 0.0002277\n"
      ]
     },
     "metadata": {},
     "output_type": "display_data"
    }
   ],
   "source": [
    "## Model Summary\n",
    "summary(lin_reg2)"
   ]
  },
  {
   "cell_type": "code",
   "execution_count": 138,
   "id": "faa286db-617f-45b0-8fd9-48d41be9e20b",
   "metadata": {},
   "outputs": [],
   "source": [
    "### Our p-value is signifcant, meaning there is a significant influence of Honey to Almond production. Our adjusted R-squared value tells us that Honey production accounts for 63% of Almond production value."
   ]
  },
  {
   "cell_type": "code",
   "execution_count": null,
   "id": "6482563a-1cf7-4607-bf11-6cce8dac3f39",
   "metadata": {},
   "outputs": [],
   "source": [
    "### Analysis To Be Continued..."
   ]
  }
 ],
 "metadata": {
  "kernelspec": {
   "display_name": "R",
   "language": "R",
   "name": "ir"
  },
  "language_info": {
   "codemirror_mode": "r",
   "file_extension": ".r",
   "mimetype": "text/x-r-source",
   "name": "R",
   "pygments_lexer": "r",
   "version": "4.1.2"
  }
 },
 "nbformat": 4,
 "nbformat_minor": 5
}
