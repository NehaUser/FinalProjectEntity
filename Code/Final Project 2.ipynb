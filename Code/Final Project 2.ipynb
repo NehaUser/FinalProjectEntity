{
 "cells": [
  {
   "cell_type": "markdown",
   "id": "2613c4a5-4178-4b0b-ac15-78962a5cc516",
   "metadata": {},
   "source": [
    "# Entity Data Science Final Project \n",
    "# Honey vs Agricultural Commodity Production \n",
    "## Nic Acosta\n",
    "7/2022"
   ]
  },
  {
   "cell_type": "code",
   "execution_count": 122,
   "id": "641e6513-2a5a-4df9-b92b-6637f60e5a6b",
   "metadata": {},
   "outputs": [],
   "source": [
    "import pandas as pd\n",
    "import numpy as np\n",
    "import matplotlib.pyplot as plt\n",
    "import seaborn as sns\n",
    "%matplotlib inline\n",
    "from sklearn.model_selection import train_test_split\n",
    "from sklearn.tree import DecisionTreeClassifier\n",
    "from sklearn.metrics import classification_report, confusion_matrix, accuracy_score\n",
    "from sklearn.ensemble import RandomForestClassifier\n",
    "from sklearn.model_selection import train_test_split\n",
    "from sklearn.metrics import classification_report, confusion_matrix\n",
    "from sklearn.model_selection import RandomizedSearchCV\n",
    "from sklearn.linear_model import LinearRegression"
   ]
  },
  {
   "cell_type": "markdown",
   "id": "619b96b9-e4db-4a7c-9a68-3b062987711b",
   "metadata": {},
   "source": [
    "1. Does honey production correlate with the production of any other USDA commodities in your category/group? Which are more highly correlated? \n",
    "2. Have the production levels of each commodity in your category changed over time? - Linear Modeling / MANCOVA\n",
    " 3. Other relevant / interesting findings about your category"
   ]
  },
  {
   "cell_type": "markdown",
   "id": "4d7f0193-b774-4b92-8a9e-52f262598c7b",
   "metadata": {},
   "source": [
    " pulling in libraries"
   ]
  },
  {
   "cell_type": "markdown",
   "id": "ec271a9d-e8e3-47e0-bd0d-7d75f0b45cdf",
   "metadata": {},
   "source": [
    " Pulling in and printing data csv"
   ]
  },
  {
   "cell_type": "code",
   "execution_count": 8,
   "id": "8dd80c5c-cd2f-457d-9df9-e9f2aac052c7",
   "metadata": {},
   "outputs": [
    {
     "name": "stdout",
     "output_type": "stream",
     "text": [
      "      Unnamed: 0   Commodity_Description Country_Code   Country_Name  Year  \\\n",
      "0              1  Almonds, Shelled Basis           US  United States  1998   \n",
      "1              2  Almonds, Shelled Basis           US  United States  1999   \n",
      "2              3  Almonds, Shelled Basis           US  United States  2000   \n",
      "3              4  Almonds, Shelled Basis           US  United States  2001   \n",
      "4              5  Almonds, Shelled Basis           US  United States  2002   \n",
      "...          ...                     ...          ...            ...   ...   \n",
      "8308        8309                   Honey           US  United States  2008   \n",
      "8309        8310                   Honey           US  United States  2009   \n",
      "8310        8311                   Honey           US  United States  2010   \n",
      "8311        8312                   Honey           US  United States  2011   \n",
      "8312        8313                   Honey           US  United States  2012   \n",
      "\n",
      "     Attribute_Description Unit_Description         Value  Category  \n",
      "0               Production             (MT)  235884.00000         4  \n",
      "1               Production             (MT)  361362.00000         4  \n",
      "2               Production             (MT)  303700.00000         4  \n",
      "3               Production             (MT)  376488.00000         4  \n",
      "4               Production             (MT)  494416.00000         4  \n",
      "...                    ...              ...           ...       ...  \n",
      "8308            Production               MT   73922.46948         6  \n",
      "8309            Production               MT   65801.39412         6  \n",
      "8310            Production               MT   79511.60546         6  \n",
      "8311            Production               MT   66768.90159         6  \n",
      "8312            Production               MT   63914.00613         6  \n",
      "\n",
      "[8313 rows x 9 columns]\n"
     ]
    }
   ],
   "source": [
    "USDAHoney2 = pd.read_csv(r'\\Users\\airos\\Downloads\\USDAHoney2.csv', low_memory=False)\n",
    "print(USDAHoney2)"
   ]
  },
  {
   "cell_type": "markdown",
   "id": "a5173abd-cfbb-497c-8a70-88b1d4a71a3f",
   "metadata": {},
   "source": [
    "."
   ]
  },
  {
   "cell_type": "markdown",
   "id": "e2c6dc88-e753-464a-a67c-59522a459a66",
   "metadata": {},
   "source": [
    "sorted the columns into rows to view"
   ]
  },
  {
   "cell_type": "markdown",
   "id": "de05bfe6-4ba5-4148-9dd2-355ae992a209",
   "metadata": {},
   "source": [
    "."
   ]
  },
  {
   "cell_type": "code",
   "execution_count": 10,
   "id": "1a3b8fb3-00cc-4046-967e-e05b250b157a",
   "metadata": {},
   "outputs": [
    {
     "name": "stdout",
     "output_type": "stream",
     "text": [
      "Unnamed: 0\n",
      "Commodity_Description\n",
      "Country_Code\n",
      "Country_Name\n",
      "Year\n",
      "Attribute_Description\n",
      "Unit_Description\n",
      "Value\n",
      "Category\n"
     ]
    }
   ],
   "source": [
    "for col_name in USDAHoney2.columns:\n",
    "    print(col_name)"
   ]
  },
  {
   "cell_type": "markdown",
   "id": "212839b3-2ef1-4fcd-bb21-e5eccb09be64",
   "metadata": {},
   "source": [
    "."
   ]
  },
  {
   "cell_type": "markdown",
   "id": "2d58376d-00c6-4658-adcb-10717b942d32",
   "metadata": {},
   "source": [
    "Going through each column to see unique input values"
   ]
  },
  {
   "cell_type": "markdown",
   "id": "1029268f-0b74-4692-ab0d-054a7cba49a7",
   "metadata": {},
   "source": [
    "."
   ]
  },
  {
   "cell_type": "code",
   "execution_count": 12,
   "id": "1735f6bd-6fd8-462a-adb9-cfb0443a1713",
   "metadata": {},
   "outputs": [
    {
     "data": {
      "text/plain": [
       "array(['US'], dtype=object)"
      ]
     },
     "execution_count": 12,
     "metadata": {},
     "output_type": "execute_result"
    }
   ],
   "source": [
    "USDAHoney2.Country_Code.unique()"
   ]
  },
  {
   "cell_type": "code",
   "execution_count": 13,
   "id": "57486aad-858b-4f68-bbb8-8564a3297d55",
   "metadata": {},
   "outputs": [
    {
     "data": {
      "text/plain": [
       "array(['Almonds, Shelled Basis', 'Animal Numbers, Cattle',\n",
       "       'Animal Numbers, Swine', 'Apple Juice, Concentrated',\n",
       "       'Apples, Fresh', 'Asparagus, Fresh', 'Avocados, Fresh', 'Barley',\n",
       "       'Citrus, Other, Fresh', 'Coffee, Green', 'Corn', 'Cotton',\n",
       "       'Dairy, Butter', 'Dairy, Cheese', 'Dairy, Dry Whole Milk Powder',\n",
       "       'Dairy, Milk, Fluid', 'Dairy, Milk, Nonfat Dry',\n",
       "       'Filberts, Inshell Basis', 'Fresh Apricots',\n",
       "       'Fresh Cherries,(Sweet&Sour)', 'Fresh Peaches & Nectarines',\n",
       "       'Fresh Plums & Prunes', 'Grapefruit, Fresh',\n",
       "       'Grapes, Table, Fresh', 'Kiwifruit', 'Lemons, Fresh',\n",
       "       'Macadamia, Inshell Basis', 'Meal, Cottonseed', 'Meal, Fish',\n",
       "       'Meal, Peanut', 'Meal, Rapeseed', 'Meal, Soybean',\n",
       "       'Meal, Sunflowerseed', 'Meat, Beef and Veal', 'Meat, Swine',\n",
       "       'Oats', 'Oil, Coconut', 'Oil, Cottonseed', 'Oil, Olive',\n",
       "       'Oil, Palm', 'Oil, Palm Kernel', 'Oil, Peanut', 'Oil, Rapeseed',\n",
       "       'Oil, Soybean', 'Oil, Sunflowerseed', 'Oilseed, Cottonseed',\n",
       "       'Oilseed, Peanut', 'Oilseed, Rapeseed', 'Oilseed, Soybean',\n",
       "       'Oilseed, Sunflowerseed', 'Orange Juice', 'Oranges, Fresh',\n",
       "       'Peaches, Canned', 'Pears, Fresh', 'Pecans, Inshell Basis',\n",
       "       'Pistachios, Inshell Basis', 'Potato Products, Frozen',\n",
       "       'Poultry, Meat, Broiler', 'Poultry, Meat, Turkey',\n",
       "       'Prunes (Plums, Dried)', 'Raisins', 'Rice, Milled', 'Rye',\n",
       "       'Sorghum', 'Strawberries, Fresh', 'Strawberries, Frozen',\n",
       "       'Sugar, Centrifugal', 'Tangerines, Fresh',\n",
       "       'Tobacco, Mfg., Cigarettes', 'Tobacco, Unmfg., Total',\n",
       "       'Walnuts, Inshell Basis', 'Wheat', 'Tangerines/Mandarins, Fresh',\n",
       "       'Macadamia, Wet -Inshell Basis', 'Grapes, Fresh',\n",
       "       'Lemons/Limes, Fresh', 'Grapes', 'Cherries (Sweet&Sour), Fresh',\n",
       "       'Grapes, Fresh Table', 'Peaches & Nectarines, Fresh',\n",
       "       'Meat, Chicken', 'Honey'], dtype=object)"
      ]
     },
     "execution_count": 13,
     "metadata": {},
     "output_type": "execute_result"
    }
   ],
   "source": [
    "USDAHoney2.Commodity_Description.unique()"
   ]
  },
  {
   "cell_type": "code",
   "execution_count": 14,
   "id": "713b3a90-4b49-4b2b-8826-ac18f4f9a69e",
   "metadata": {},
   "outputs": [
    {
     "data": {
      "text/plain": [
       "array(['United States'], dtype=object)"
      ]
     },
     "execution_count": 14,
     "metadata": {},
     "output_type": "execute_result"
    }
   ],
   "source": [
    "USDAHoney2.Country_Name.unique()"
   ]
  },
  {
   "cell_type": "code",
   "execution_count": 15,
   "id": "3afb1c55-aeef-450d-ad88-26b4ffa12ba0",
   "metadata": {},
   "outputs": [
    {
     "data": {
      "text/plain": [
       "array(['Production'], dtype=object)"
      ]
     },
     "execution_count": 15,
     "metadata": {},
     "output_type": "execute_result"
    }
   ],
   "source": [
    "USDAHoney2.Attribute_Description.unique()"
   ]
  },
  {
   "cell_type": "code",
   "execution_count": 16,
   "id": "99a20909-eca2-4daa-bb46-96271f6b0f8f",
   "metadata": {},
   "outputs": [
    {
     "data": {
      "text/plain": [
       "array(['(MT)', '(1000 HEAD)', '(1000 MT)', '(1000 60 KG BAGS)',\n",
       "       '1000 480 lb. Bales', '(1000 MT CWE)', '(MT, Net Weight)',\n",
       "       '(MIL PCS)', 'MT'], dtype=object)"
      ]
     },
     "execution_count": 16,
     "metadata": {},
     "output_type": "execute_result"
    }
   ],
   "source": [
    "USDAHoney2.Unit_Description.unique()"
   ]
  },
  {
   "cell_type": "code",
   "execution_count": 17,
   "id": "6d0beafb-14a5-4aa1-ba4b-a3d5fdc9a3ca",
   "metadata": {},
   "outputs": [
    {
     "data": {
      "text/plain": [
       "array([235884.     , 361362.     , 303700.     , ...,  79511.60546,\n",
       "        66768.90159,  63914.00613])"
      ]
     },
     "execution_count": 17,
     "metadata": {},
     "output_type": "execute_result"
    }
   ],
   "source": [
    "USDAHoney2.Value.unique()"
   ]
  },
  {
   "cell_type": "code",
   "execution_count": 18,
   "id": "083824ee-e6c4-4e01-a323-e821bbf3f8d7",
   "metadata": {},
   "outputs": [
    {
     "data": {
      "text/plain": [
       "array([4, 1, 2, 3, 5, 6], dtype=int64)"
      ]
     },
     "execution_count": 18,
     "metadata": {},
     "output_type": "execute_result"
    }
   ],
   "source": [
    "USDAHoney2.Category.unique()"
   ]
  },
  {
   "cell_type": "code",
   "execution_count": 19,
   "id": "c3488731-3b29-44f7-b937-1720f08106da",
   "metadata": {},
   "outputs": [],
   "source": [
    "TrimmedUSDAHoney2 = USDAHoney2.drop(['Unnamed: 0', 'Country_Name'], axis=1)"
   ]
  },
  {
   "cell_type": "code",
   "execution_count": 20,
   "id": "7eb1a89b-2ca7-4ac7-9b28-40ce797a5c96",
   "metadata": {},
   "outputs": [
    {
     "name": "stdout",
     "output_type": "stream",
     "text": [
      "Commodity_Description\n",
      "Country_Code\n",
      "Year\n",
      "Attribute_Description\n",
      "Unit_Description\n",
      "Value\n",
      "Category\n"
     ]
    }
   ],
   "source": [
    "for col_name in TrimmedUSDAHoney2.columns:\n",
    "    print(col_name)"
   ]
  },
  {
   "cell_type": "markdown",
   "id": "1e60700d-ea64-4963-8380-8445ec6747d5",
   "metadata": {},
   "source": [
    "."
   ]
  },
  {
   "cell_type": "markdown",
   "id": "0f48139e-3945-4b50-b37d-7a0338f80d07",
   "metadata": {},
   "source": [
    "Dropping anything null and printing the first couple data rows..."
   ]
  },
  {
   "cell_type": "markdown",
   "id": "0bbde22a-dd48-4c83-af13-27067ec231cd",
   "metadata": {},
   "source": [
    "."
   ]
  },
  {
   "cell_type": "markdown",
   "id": "ad285d26-68c2-46c9-8f26-fee306047c9a",
   "metadata": {},
   "source": [
    "Changed the Units to Metric Tons"
   ]
  },
  {
   "cell_type": "code",
   "execution_count": 24,
   "id": "3fe4574a-eba7-4fdd-ab26-bf50711dcca6",
   "metadata": {},
   "outputs": [],
   "source": [
    "TrimmedUSDAHoney2 = TrimmedUSDAHoney2[TrimmedUSDAHoney2.Unit_Description != '(1000 HEAD)']\n",
    "TrimmedUSDAHoney2 = TrimmedUSDAHoney2[TrimmedUSDAHoney2.Unit_Description != '(MIL PCS)']\n",
    "TrimmedUSDAHoney2.loc[TrimmedUSDAHoney2[\"Unit_Description\"] == \"(1000 60 KG BAGS)\", \"Value\"] = (TrimmedUSDAHoney2.Value * 1000 * .001 * 60)\n",
    "TrimmedUSDAHoney2.loc[TrimmedUSDAHoney2[\"Unit_Description\"] == \"(1000 60 KG BAGS)\", \"Unit_Description\"] = \"(MT)\"\n",
    "TrimmedUSDAHoney2.loc[TrimmedUSDAHoney2[\"Unit_Description\"] == \"(MT, Net Weight)\", \"Unit_Description\"] = \"(MT)\"\n",
    "TrimmedUSDAHoney2.loc[TrimmedUSDAHoney2[\"Unit_Description\"] == \"(1000 MT)\", \"Value\"] = (TrimmedUSDAHoney2.Value * 1000)\n",
    "TrimmedUSDAHoney2.loc[TrimmedUSDAHoney2[\"Unit_Description\"] == \"(1000 MT)\", \"Unit_Description\"] = \"(MT)\"\n",
    "TrimmedUSDAHoney2.loc[TrimmedUSDAHoney2[\"Unit_Description\"] == \"1000 480 lb. Bales\", \"Value\"] = (TrimmedUSDAHoney2.Value * 1000 * .00045 * 480)\n",
    "TrimmedUSDAHoney2.loc[TrimmedUSDAHoney2[\"Unit_Description\"] == \"1000 480 lb. Bales\", \"Unit_Description\"] = \"(MT)\"\n",
    "TrimmedUSDAHoney2.loc[TrimmedUSDAHoney2[\"Unit_Description\"] == \"MT\", \"Unit_Description\"] = \"(MT)\""
   ]
  },
  {
   "cell_type": "code",
   "execution_count": 25,
   "id": "28422d76-397a-4ba6-b88e-24b4d96b3fbf",
   "metadata": {},
   "outputs": [
    {
     "data": {
      "text/html": [
       "<div>\n",
       "<style scoped>\n",
       "    .dataframe tbody tr th:only-of-type {\n",
       "        vertical-align: middle;\n",
       "    }\n",
       "\n",
       "    .dataframe tbody tr th {\n",
       "        vertical-align: top;\n",
       "    }\n",
       "\n",
       "    .dataframe thead th {\n",
       "        text-align: right;\n",
       "    }\n",
       "</style>\n",
       "<table border=\"1\" class=\"dataframe\">\n",
       "  <thead>\n",
       "    <tr style=\"text-align: right;\">\n",
       "      <th></th>\n",
       "      <th>Commodity_Description</th>\n",
       "      <th>Country_Code</th>\n",
       "      <th>Year</th>\n",
       "      <th>Attribute_Description</th>\n",
       "      <th>Unit_Description</th>\n",
       "      <th>Value</th>\n",
       "      <th>Category</th>\n",
       "    </tr>\n",
       "  </thead>\n",
       "  <tbody>\n",
       "    <tr>\n",
       "      <th>0</th>\n",
       "      <td>Almonds, Shelled Basis</td>\n",
       "      <td>US</td>\n",
       "      <td>1998</td>\n",
       "      <td>Production</td>\n",
       "      <td>(MT)</td>\n",
       "      <td>235884.00000</td>\n",
       "      <td>4</td>\n",
       "    </tr>\n",
       "    <tr>\n",
       "      <th>1</th>\n",
       "      <td>Almonds, Shelled Basis</td>\n",
       "      <td>US</td>\n",
       "      <td>1999</td>\n",
       "      <td>Production</td>\n",
       "      <td>(MT)</td>\n",
       "      <td>361362.00000</td>\n",
       "      <td>4</td>\n",
       "    </tr>\n",
       "    <tr>\n",
       "      <th>2</th>\n",
       "      <td>Almonds, Shelled Basis</td>\n",
       "      <td>US</td>\n",
       "      <td>2000</td>\n",
       "      <td>Production</td>\n",
       "      <td>(MT)</td>\n",
       "      <td>303700.00000</td>\n",
       "      <td>4</td>\n",
       "    </tr>\n",
       "    <tr>\n",
       "      <th>3</th>\n",
       "      <td>Almonds, Shelled Basis</td>\n",
       "      <td>US</td>\n",
       "      <td>2001</td>\n",
       "      <td>Production</td>\n",
       "      <td>(MT)</td>\n",
       "      <td>376488.00000</td>\n",
       "      <td>4</td>\n",
       "    </tr>\n",
       "    <tr>\n",
       "      <th>4</th>\n",
       "      <td>Almonds, Shelled Basis</td>\n",
       "      <td>US</td>\n",
       "      <td>2002</td>\n",
       "      <td>Production</td>\n",
       "      <td>(MT)</td>\n",
       "      <td>494416.00000</td>\n",
       "      <td>4</td>\n",
       "    </tr>\n",
       "    <tr>\n",
       "      <th>...</th>\n",
       "      <td>...</td>\n",
       "      <td>...</td>\n",
       "      <td>...</td>\n",
       "      <td>...</td>\n",
       "      <td>...</td>\n",
       "      <td>...</td>\n",
       "      <td>...</td>\n",
       "    </tr>\n",
       "    <tr>\n",
       "      <th>8308</th>\n",
       "      <td>Honey</td>\n",
       "      <td>US</td>\n",
       "      <td>2008</td>\n",
       "      <td>Production</td>\n",
       "      <td>(MT)</td>\n",
       "      <td>73922.46948</td>\n",
       "      <td>6</td>\n",
       "    </tr>\n",
       "    <tr>\n",
       "      <th>8309</th>\n",
       "      <td>Honey</td>\n",
       "      <td>US</td>\n",
       "      <td>2009</td>\n",
       "      <td>Production</td>\n",
       "      <td>(MT)</td>\n",
       "      <td>65801.39412</td>\n",
       "      <td>6</td>\n",
       "    </tr>\n",
       "    <tr>\n",
       "      <th>8310</th>\n",
       "      <td>Honey</td>\n",
       "      <td>US</td>\n",
       "      <td>2010</td>\n",
       "      <td>Production</td>\n",
       "      <td>(MT)</td>\n",
       "      <td>79511.60546</td>\n",
       "      <td>6</td>\n",
       "    </tr>\n",
       "    <tr>\n",
       "      <th>8311</th>\n",
       "      <td>Honey</td>\n",
       "      <td>US</td>\n",
       "      <td>2011</td>\n",
       "      <td>Production</td>\n",
       "      <td>(MT)</td>\n",
       "      <td>66768.90159</td>\n",
       "      <td>6</td>\n",
       "    </tr>\n",
       "    <tr>\n",
       "      <th>8312</th>\n",
       "      <td>Honey</td>\n",
       "      <td>US</td>\n",
       "      <td>2012</td>\n",
       "      <td>Production</td>\n",
       "      <td>(MT)</td>\n",
       "      <td>63914.00613</td>\n",
       "      <td>6</td>\n",
       "    </tr>\n",
       "  </tbody>\n",
       "</table>\n",
       "<p>8125 rows × 7 columns</p>\n",
       "</div>"
      ],
      "text/plain": [
       "       Commodity_Description Country_Code  Year Attribute_Description  \\\n",
       "0     Almonds, Shelled Basis           US  1998            Production   \n",
       "1     Almonds, Shelled Basis           US  1999            Production   \n",
       "2     Almonds, Shelled Basis           US  2000            Production   \n",
       "3     Almonds, Shelled Basis           US  2001            Production   \n",
       "4     Almonds, Shelled Basis           US  2002            Production   \n",
       "...                      ...          ...   ...                   ...   \n",
       "8308                   Honey           US  2008            Production   \n",
       "8309                   Honey           US  2009            Production   \n",
       "8310                   Honey           US  2010            Production   \n",
       "8311                   Honey           US  2011            Production   \n",
       "8312                   Honey           US  2012            Production   \n",
       "\n",
       "     Unit_Description         Value  Category  \n",
       "0                (MT)  235884.00000         4  \n",
       "1                (MT)  361362.00000         4  \n",
       "2                (MT)  303700.00000         4  \n",
       "3                (MT)  376488.00000         4  \n",
       "4                (MT)  494416.00000         4  \n",
       "...               ...           ...       ...  \n",
       "8308             (MT)   73922.46948         6  \n",
       "8309             (MT)   65801.39412         6  \n",
       "8310             (MT)   79511.60546         6  \n",
       "8311             (MT)   66768.90159         6  \n",
       "8312             (MT)   63914.00613         6  \n",
       "\n",
       "[8125 rows x 7 columns]"
      ]
     },
     "execution_count": 25,
     "metadata": {},
     "output_type": "execute_result"
    }
   ],
   "source": [
    "TrimmedUSDAHoney2"
   ]
  },
  {
   "cell_type": "code",
   "execution_count": 26,
   "id": "34bb9192-3383-42e7-bf1a-ab4d3a2adb07",
   "metadata": {},
   "outputs": [
    {
     "name": "stdout",
     "output_type": "stream",
     "text": [
      "    Commodity_Description Country_Code  Year Attribute_Description  \\\n",
      "0  Almonds, Shelled Basis           US  1998            Production   \n",
      "1  Almonds, Shelled Basis           US  1999            Production   \n",
      "2  Almonds, Shelled Basis           US  2000            Production   \n",
      "3  Almonds, Shelled Basis           US  2001            Production   \n",
      "4  Almonds, Shelled Basis           US  2002            Production   \n",
      "\n",
      "  Unit_Description     Value  Category  \n",
      "0             (MT)  235884.0         4  \n",
      "1             (MT)  361362.0         4  \n",
      "2             (MT)  303700.0         4  \n",
      "3             (MT)  376488.0         4  \n",
      "4             (MT)  494416.0         4  \n"
     ]
    }
   ],
   "source": [
    "TrimmedUSDAHoney2.dropna(inplace=True)\n",
    "print(TrimmedUSDAHoney2.head())"
   ]
  },
  {
   "cell_type": "markdown",
   "id": "39fceaba-5d92-4c2b-8fb5-8d6c15a92239",
   "metadata": {},
   "source": [
    "."
   ]
  },
  {
   "cell_type": "markdown",
   "id": "a68e4d10-aa35-4edf-8d8c-e018fcbd7e18",
   "metadata": {},
   "source": [
    "Deciding to drop categories 2-5 to remain with dairy and livestock"
   ]
  },
  {
   "cell_type": "markdown",
   "id": "f87bd4c3-984f-473b-b6fd-047d9c66f4cc",
   "metadata": {},
   "source": [
    "."
   ]
  },
  {
   "cell_type": "code",
   "execution_count": 28,
   "id": "706813b3-3ca6-4351-8959-06201f7d39be",
   "metadata": {},
   "outputs": [],
   "source": [
    "TrimmedUSDAHoney2.set_index(\"Category\", inplace=True)"
   ]
  },
  {
   "cell_type": "markdown",
   "id": "49032c3d-dc90-43c3-ba44-4a9a5407e152",
   "metadata": {},
   "source": [
    "."
   ]
  },
  {
   "cell_type": "markdown",
   "id": "ada53abb-85ee-4dea-a08c-120c8c3295f1",
   "metadata": {},
   "source": [
    "Made category my index so i can drop other commodities beyond my own. livestock and dairy"
   ]
  },
  {
   "cell_type": "markdown",
   "id": "7b59fddd-a6fd-408e-86bb-a7c76e3df0d9",
   "metadata": {},
   "source": [
    "."
   ]
  },
  {
   "cell_type": "code",
   "execution_count": 30,
   "id": "68217b50-cc43-4792-a36e-05303a12fa3e",
   "metadata": {},
   "outputs": [
    {
     "data": {
      "text/html": [
       "<div>\n",
       "<style scoped>\n",
       "    .dataframe tbody tr th:only-of-type {\n",
       "        vertical-align: middle;\n",
       "    }\n",
       "\n",
       "    .dataframe tbody tr th {\n",
       "        vertical-align: top;\n",
       "    }\n",
       "\n",
       "    .dataframe thead th {\n",
       "        text-align: right;\n",
       "    }\n",
       "</style>\n",
       "<table border=\"1\" class=\"dataframe\">\n",
       "  <thead>\n",
       "    <tr style=\"text-align: right;\">\n",
       "      <th></th>\n",
       "      <th>Commodity_Description</th>\n",
       "      <th>Country_Code</th>\n",
       "      <th>Year</th>\n",
       "      <th>Attribute_Description</th>\n",
       "      <th>Unit_Description</th>\n",
       "      <th>Value</th>\n",
       "    </tr>\n",
       "    <tr>\n",
       "      <th>Category</th>\n",
       "      <th></th>\n",
       "      <th></th>\n",
       "      <th></th>\n",
       "      <th></th>\n",
       "      <th></th>\n",
       "      <th></th>\n",
       "    </tr>\n",
       "  </thead>\n",
       "  <tbody>\n",
       "    <tr>\n",
       "      <th>4</th>\n",
       "      <td>Almonds, Shelled Basis</td>\n",
       "      <td>US</td>\n",
       "      <td>1998</td>\n",
       "      <td>Production</td>\n",
       "      <td>(MT)</td>\n",
       "      <td>235884.0</td>\n",
       "    </tr>\n",
       "    <tr>\n",
       "      <th>4</th>\n",
       "      <td>Almonds, Shelled Basis</td>\n",
       "      <td>US</td>\n",
       "      <td>1999</td>\n",
       "      <td>Production</td>\n",
       "      <td>(MT)</td>\n",
       "      <td>361362.0</td>\n",
       "    </tr>\n",
       "    <tr>\n",
       "      <th>4</th>\n",
       "      <td>Almonds, Shelled Basis</td>\n",
       "      <td>US</td>\n",
       "      <td>2000</td>\n",
       "      <td>Production</td>\n",
       "      <td>(MT)</td>\n",
       "      <td>303700.0</td>\n",
       "    </tr>\n",
       "    <tr>\n",
       "      <th>4</th>\n",
       "      <td>Almonds, Shelled Basis</td>\n",
       "      <td>US</td>\n",
       "      <td>2001</td>\n",
       "      <td>Production</td>\n",
       "      <td>(MT)</td>\n",
       "      <td>376488.0</td>\n",
       "    </tr>\n",
       "    <tr>\n",
       "      <th>4</th>\n",
       "      <td>Almonds, Shelled Basis</td>\n",
       "      <td>US</td>\n",
       "      <td>2002</td>\n",
       "      <td>Production</td>\n",
       "      <td>(MT)</td>\n",
       "      <td>494416.0</td>\n",
       "    </tr>\n",
       "  </tbody>\n",
       "</table>\n",
       "</div>"
      ],
      "text/plain": [
       "           Commodity_Description Country_Code  Year Attribute_Description  \\\n",
       "Category                                                                    \n",
       "4         Almonds, Shelled Basis           US  1998            Production   \n",
       "4         Almonds, Shelled Basis           US  1999            Production   \n",
       "4         Almonds, Shelled Basis           US  2000            Production   \n",
       "4         Almonds, Shelled Basis           US  2001            Production   \n",
       "4         Almonds, Shelled Basis           US  2002            Production   \n",
       "\n",
       "         Unit_Description     Value  \n",
       "Category                             \n",
       "4                    (MT)  235884.0  \n",
       "4                    (MT)  361362.0  \n",
       "4                    (MT)  303700.0  \n",
       "4                    (MT)  376488.0  \n",
       "4                    (MT)  494416.0  "
      ]
     },
     "execution_count": 30,
     "metadata": {},
     "output_type": "execute_result"
    }
   ],
   "source": [
    "TrimmedUSDAHoney2.head()"
   ]
  },
  {
   "cell_type": "code",
   "execution_count": 31,
   "id": "cb1589c9-19de-4498-a788-f7f161573b5e",
   "metadata": {},
   "outputs": [
    {
     "data": {
      "text/html": [
       "<div>\n",
       "<style scoped>\n",
       "    .dataframe tbody tr th:only-of-type {\n",
       "        vertical-align: middle;\n",
       "    }\n",
       "\n",
       "    .dataframe tbody tr th {\n",
       "        vertical-align: top;\n",
       "    }\n",
       "\n",
       "    .dataframe thead th {\n",
       "        text-align: right;\n",
       "    }\n",
       "</style>\n",
       "<table border=\"1\" class=\"dataframe\">\n",
       "  <thead>\n",
       "    <tr style=\"text-align: right;\">\n",
       "      <th></th>\n",
       "      <th>Commodity_Description</th>\n",
       "      <th>Country_Code</th>\n",
       "      <th>Year</th>\n",
       "      <th>Attribute_Description</th>\n",
       "      <th>Unit_Description</th>\n",
       "      <th>Value</th>\n",
       "    </tr>\n",
       "    <tr>\n",
       "      <th>Category</th>\n",
       "      <th></th>\n",
       "      <th></th>\n",
       "      <th></th>\n",
       "      <th></th>\n",
       "      <th></th>\n",
       "      <th></th>\n",
       "    </tr>\n",
       "  </thead>\n",
       "  <tbody>\n",
       "    <tr>\n",
       "      <th>6</th>\n",
       "      <td>Honey</td>\n",
       "      <td>US</td>\n",
       "      <td>2008</td>\n",
       "      <td>Production</td>\n",
       "      <td>(MT)</td>\n",
       "      <td>73922.46948</td>\n",
       "    </tr>\n",
       "    <tr>\n",
       "      <th>6</th>\n",
       "      <td>Honey</td>\n",
       "      <td>US</td>\n",
       "      <td>2009</td>\n",
       "      <td>Production</td>\n",
       "      <td>(MT)</td>\n",
       "      <td>65801.39412</td>\n",
       "    </tr>\n",
       "    <tr>\n",
       "      <th>6</th>\n",
       "      <td>Honey</td>\n",
       "      <td>US</td>\n",
       "      <td>2010</td>\n",
       "      <td>Production</td>\n",
       "      <td>(MT)</td>\n",
       "      <td>79511.60546</td>\n",
       "    </tr>\n",
       "    <tr>\n",
       "      <th>6</th>\n",
       "      <td>Honey</td>\n",
       "      <td>US</td>\n",
       "      <td>2011</td>\n",
       "      <td>Production</td>\n",
       "      <td>(MT)</td>\n",
       "      <td>66768.90159</td>\n",
       "    </tr>\n",
       "    <tr>\n",
       "      <th>6</th>\n",
       "      <td>Honey</td>\n",
       "      <td>US</td>\n",
       "      <td>2012</td>\n",
       "      <td>Production</td>\n",
       "      <td>(MT)</td>\n",
       "      <td>63914.00613</td>\n",
       "    </tr>\n",
       "  </tbody>\n",
       "</table>\n",
       "</div>"
      ],
      "text/plain": [
       "         Commodity_Description Country_Code  Year Attribute_Description  \\\n",
       "Category                                                                  \n",
       "6                        Honey           US  2008            Production   \n",
       "6                        Honey           US  2009            Production   \n",
       "6                        Honey           US  2010            Production   \n",
       "6                        Honey           US  2011            Production   \n",
       "6                        Honey           US  2012            Production   \n",
       "\n",
       "         Unit_Description        Value  \n",
       "Category                                \n",
       "6                    (MT)  73922.46948  \n",
       "6                    (MT)  65801.39412  \n",
       "6                    (MT)  79511.60546  \n",
       "6                    (MT)  66768.90159  \n",
       "6                    (MT)  63914.00613  "
      ]
     },
     "execution_count": 31,
     "metadata": {},
     "output_type": "execute_result"
    }
   ],
   "source": [
    "TrimmedUSDAHoney2.tail()"
   ]
  },
  {
   "cell_type": "markdown",
   "id": "03876693-7597-4994-875e-d3dceb13fa37",
   "metadata": {},
   "source": [
    "."
   ]
  },
  {
   "cell_type": "markdown",
   "id": "712849f6-a136-4b2d-b044-6cb9e13cc510",
   "metadata": {},
   "source": [
    "Dropping other commodities"
   ]
  },
  {
   "cell_type": "markdown",
   "id": "b105db09-0783-43a7-a90a-eb6b0025762b",
   "metadata": {},
   "source": [
    "."
   ]
  },
  {
   "cell_type": "code",
   "execution_count": 33,
   "id": "00212f06-6bc8-48aa-933b-d8a2b51af02e",
   "metadata": {},
   "outputs": [],
   "source": [
    "TrimmedUSDAHoney2.drop(4, inplace=True)"
   ]
  },
  {
   "cell_type": "code",
   "execution_count": 34,
   "id": "e6c2daf4-6ee9-4415-b7be-8ea6181a4b71",
   "metadata": {},
   "outputs": [],
   "source": [
    "TrimmedUSDAHoney2.drop(2, inplace=True)"
   ]
  },
  {
   "cell_type": "code",
   "execution_count": 35,
   "id": "d94d6072-293e-449d-8f4d-729b52ccc443",
   "metadata": {},
   "outputs": [],
   "source": [
    "TrimmedUSDAHoney2.drop(3, inplace=True)"
   ]
  },
  {
   "cell_type": "code",
   "execution_count": 36,
   "id": "aa2aaa8c-9fea-4134-8fb0-f83a2babb105",
   "metadata": {},
   "outputs": [],
   "source": [
    "TrimmedUSDAHoney2.drop(5, inplace=True)"
   ]
  },
  {
   "cell_type": "markdown",
   "id": "7795c3f9-68b2-42e4-8fb5-a323e40ad8a8",
   "metadata": {},
   "source": [
    "."
   ]
  },
  {
   "cell_type": "markdown",
   "id": "762d3a37-2c4a-4015-b61a-026e3268e15f",
   "metadata": {},
   "source": [
    "Making sure it worked."
   ]
  },
  {
   "cell_type": "markdown",
   "id": "9fad476c-e6e2-4133-ac76-6f8ba5392a4f",
   "metadata": {},
   "source": [
    "."
   ]
  },
  {
   "cell_type": "code",
   "execution_count": null,
   "id": "4f6c11ec-b7be-472b-aa05-4a552ccee2c4",
   "metadata": {},
   "outputs": [],
   "source": [
    "print(TrimmedUSDAHoney2.to_string(index=True))"
   ]
  },
  {
   "cell_type": "markdown",
   "id": "64d8b843-9a7b-4eda-b797-9dbc9ca7d6a1",
   "metadata": {},
   "source": [
    "."
   ]
  },
  {
   "cell_type": "markdown",
   "id": "96e9bc36-740f-4537-8e7a-d47c57b6e19e",
   "metadata": {},
   "source": [
    "It did!"
   ]
  },
  {
   "cell_type": "markdown",
   "id": "b7f0bd6d-ea43-48ac-a5dc-114c8b9b285e",
   "metadata": {},
   "source": [
    "."
   ]
  },
  {
   "cell_type": "markdown",
   "id": "7c562550-7757-4a45-958a-4bc04054c32e",
   "metadata": {},
   "source": [
    "Pick the maximum values for each commodity 1,6, and drop te repetitive entries."
   ]
  },
  {
   "cell_type": "code",
   "execution_count": 45,
   "id": "5af24ced-837f-4736-9003-92bd0ad4cdf4",
   "metadata": {},
   "outputs": [
    {
     "data": {
      "text/html": [
       "<div>\n",
       "<style scoped>\n",
       "    .dataframe tbody tr th:only-of-type {\n",
       "        vertical-align: middle;\n",
       "    }\n",
       "\n",
       "    .dataframe tbody tr th {\n",
       "        vertical-align: top;\n",
       "    }\n",
       "\n",
       "    .dataframe thead th {\n",
       "        text-align: right;\n",
       "    }\n",
       "</style>\n",
       "<table border=\"1\" class=\"dataframe\">\n",
       "  <thead>\n",
       "    <tr style=\"text-align: right;\">\n",
       "      <th></th>\n",
       "      <th>Commodity_Description</th>\n",
       "      <th>Year</th>\n",
       "      <th>Country_Code</th>\n",
       "      <th>Attribute_Description</th>\n",
       "      <th>Unit_Description</th>\n",
       "      <th>Value</th>\n",
       "    </tr>\n",
       "  </thead>\n",
       "  <tbody>\n",
       "    <tr>\n",
       "      <th>0</th>\n",
       "      <td>Dairy, Butter</td>\n",
       "      <td>1998</td>\n",
       "      <td>US</td>\n",
       "      <td>Production</td>\n",
       "      <td>(MT)</td>\n",
       "      <td>530000.0</td>\n",
       "    </tr>\n",
       "    <tr>\n",
       "      <th>1</th>\n",
       "      <td>Dairy, Butter</td>\n",
       "      <td>1999</td>\n",
       "      <td>US</td>\n",
       "      <td>Production</td>\n",
       "      <td>(MT)</td>\n",
       "      <td>579000.0</td>\n",
       "    </tr>\n",
       "    <tr>\n",
       "      <th>2</th>\n",
       "      <td>Dairy, Butter</td>\n",
       "      <td>2000</td>\n",
       "      <td>US</td>\n",
       "      <td>Production</td>\n",
       "      <td>(MT)</td>\n",
       "      <td>570000.0</td>\n",
       "    </tr>\n",
       "    <tr>\n",
       "      <th>3</th>\n",
       "      <td>Dairy, Butter</td>\n",
       "      <td>2001</td>\n",
       "      <td>US</td>\n",
       "      <td>Production</td>\n",
       "      <td>(MT)</td>\n",
       "      <td>559000.0</td>\n",
       "    </tr>\n",
       "    <tr>\n",
       "      <th>4</th>\n",
       "      <td>Dairy, Butter</td>\n",
       "      <td>2002</td>\n",
       "      <td>US</td>\n",
       "      <td>Production</td>\n",
       "      <td>(MT)</td>\n",
       "      <td>615000.0</td>\n",
       "    </tr>\n",
       "    <tr>\n",
       "      <th>...</th>\n",
       "      <td>...</td>\n",
       "      <td>...</td>\n",
       "      <td>...</td>\n",
       "      <td>...</td>\n",
       "      <td>...</td>\n",
       "      <td>...</td>\n",
       "    </tr>\n",
       "    <tr>\n",
       "      <th>159</th>\n",
       "      <td>Poultry, Meat, Turkey</td>\n",
       "      <td>2008</td>\n",
       "      <td>US</td>\n",
       "      <td>Production</td>\n",
       "      <td>(MT)</td>\n",
       "      <td>2801000.0</td>\n",
       "    </tr>\n",
       "    <tr>\n",
       "      <th>160</th>\n",
       "      <td>Poultry, Meat, Turkey</td>\n",
       "      <td>2009</td>\n",
       "      <td>US</td>\n",
       "      <td>Production</td>\n",
       "      <td>(MT)</td>\n",
       "      <td>2733000.0</td>\n",
       "    </tr>\n",
       "    <tr>\n",
       "      <th>161</th>\n",
       "      <td>Poultry, Meat, Turkey</td>\n",
       "      <td>2010</td>\n",
       "      <td>US</td>\n",
       "      <td>Production</td>\n",
       "      <td>(MT)</td>\n",
       "      <td>2607000.0</td>\n",
       "    </tr>\n",
       "    <tr>\n",
       "      <th>162</th>\n",
       "      <td>Poultry, Meat, Turkey</td>\n",
       "      <td>2011</td>\n",
       "      <td>US</td>\n",
       "      <td>Production</td>\n",
       "      <td>(MT)</td>\n",
       "      <td>2593000.0</td>\n",
       "    </tr>\n",
       "    <tr>\n",
       "      <th>163</th>\n",
       "      <td>Poultry, Meat, Turkey</td>\n",
       "      <td>2012</td>\n",
       "      <td>US</td>\n",
       "      <td>Production</td>\n",
       "      <td>(MT)</td>\n",
       "      <td>2675000.0</td>\n",
       "    </tr>\n",
       "  </tbody>\n",
       "</table>\n",
       "<p>164 rows × 6 columns</p>\n",
       "</div>"
      ],
      "text/plain": [
       "     Commodity_Description  Year Country_Code Attribute_Description  \\\n",
       "0            Dairy, Butter  1998           US            Production   \n",
       "1            Dairy, Butter  1999           US            Production   \n",
       "2            Dairy, Butter  2000           US            Production   \n",
       "3            Dairy, Butter  2001           US            Production   \n",
       "4            Dairy, Butter  2002           US            Production   \n",
       "..                     ...   ...          ...                   ...   \n",
       "159  Poultry, Meat, Turkey  2008           US            Production   \n",
       "160  Poultry, Meat, Turkey  2009           US            Production   \n",
       "161  Poultry, Meat, Turkey  2010           US            Production   \n",
       "162  Poultry, Meat, Turkey  2011           US            Production   \n",
       "163  Poultry, Meat, Turkey  2012           US            Production   \n",
       "\n",
       "    Unit_Description      Value  \n",
       "0               (MT)   530000.0  \n",
       "1               (MT)   579000.0  \n",
       "2               (MT)   570000.0  \n",
       "3               (MT)   559000.0  \n",
       "4               (MT)   615000.0  \n",
       "..               ...        ...  \n",
       "159             (MT)  2801000.0  \n",
       "160             (MT)  2733000.0  \n",
       "161             (MT)  2607000.0  \n",
       "162             (MT)  2593000.0  \n",
       "163             (MT)  2675000.0  \n",
       "\n",
       "[164 rows x 6 columns]"
      ]
     },
     "execution_count": 45,
     "metadata": {},
     "output_type": "execute_result"
    }
   ],
   "source": [
    "Cat1 = TrimmedUSDAHoney2.groupby(['Commodity_Description','Year'], as_index=False).agg(max)\n",
    "Cat1"
   ]
  },
  {
   "cell_type": "code",
   "execution_count": 54,
   "id": "834011ac-f40f-46ea-8be4-b690200c9a58",
   "metadata": {},
   "outputs": [
    {
     "name": "stdout",
     "output_type": "stream",
     "text": [
      "Dairy, Butter\n",
      "Dairy, Cheese\n",
      "Dairy, Dry Whole Milk Powder\n",
      "Dairy, Milk, Fluid\n",
      "Dairy, Milk, Nonfat Dry\n",
      "Honey\n",
      "Meat, Beef and Veal\n",
      "Meat, Chicken\n",
      "Meat, Swine\n",
      "Poultry, Meat, Broiler\n",
      "Poultry, Meat, Turkey\n"
     ]
    }
   ],
   "source": [
    "for col_name in Cat1.Commodity_Description.unique():\n",
    "    print(col_name)"
   ]
  },
  {
   "cell_type": "markdown",
   "id": "b4c4e79f-6628-4558-bd64-760470684e42",
   "metadata": {},
   "source": [
    "."
   ]
  },
  {
   "cell_type": "markdown",
   "id": "0442c10f-15d2-4007-86b2-6bf1e90ff965",
   "metadata": {},
   "source": [
    "Dropping values for multicolinearity. (dairy butter, dairy cheese, dry whole milk powder, milk nonfat dry) "
   ]
  },
  {
   "cell_type": "markdown",
   "id": "091c29cf-2792-4381-961d-61b06a6f16dd",
   "metadata": {},
   "source": [
    "."
   ]
  },
  {
   "cell_type": "code",
   "execution_count": null,
   "id": "6a9852fd-0cfc-4726-b984-293e894fb6b7",
   "metadata": {},
   "outputs": [],
   "source": [
    "Cat1 = Cat1[Cat1[Commodity_Description] == 'Dairy, Butter','Dairy, Cheese','Dairy, Dry Whole Milk Powder','Dairy, Milk, Nonfat Dry' ]"
   ]
  },
  {
   "cell_type": "code",
   "execution_count": 72,
   "id": "1d4c1a84-01b4-4f61-ae81-1ba7216a1a52",
   "metadata": {},
   "outputs": [],
   "source": [
    "Cat1 = Cat1[Cat1.Commodity_Description != 'Dairy, Butter']"
   ]
  },
  {
   "cell_type": "code",
   "execution_count": 73,
   "id": "4db5ebfa-e126-4861-bc5f-cacb21608946",
   "metadata": {},
   "outputs": [],
   "source": [
    "Cat1 = Cat1[Cat1.Commodity_Description !='Dairy, Cheese']"
   ]
  },
  {
   "cell_type": "code",
   "execution_count": 74,
   "id": "b57964e9-2665-40a7-aa02-a0c5fdc4ef08",
   "metadata": {},
   "outputs": [],
   "source": [
    "Cat1 = Cat1[Cat1.Commodity_Description !='Dairy, Dry Whole Milk Powder']"
   ]
  },
  {
   "cell_type": "code",
   "execution_count": 78,
   "id": "46b76969-8b5f-43df-8eac-9d69021cf24d",
   "metadata": {},
   "outputs": [],
   "source": [
    "Cat1 = Cat1[Cat1.Commodity_Description !='Dairy, Milk, Nonfat Dry']"
   ]
  },
  {
   "cell_type": "code",
   "execution_count": 79,
   "id": "c67577e3-b45e-47f2-90fa-eeee276baa84",
   "metadata": {},
   "outputs": [
    {
     "name": "stdout",
     "output_type": "stream",
     "text": [
      "Dairy, Milk, Fluid\n",
      "Honey\n",
      "Meat, Beef and Veal\n",
      "Meat, Chicken\n",
      "Meat, Swine\n",
      "Poultry, Meat, Broiler\n",
      "Poultry, Meat, Turkey\n"
     ]
    }
   ],
   "source": [
    "for col_name in Cat1.Commodity_Description.unique():\n",
    "    print(col_name)"
   ]
  },
  {
   "cell_type": "markdown",
   "id": "c1fd7276-9fec-439f-9b78-ca031ab8bbd3",
   "metadata": {},
   "source": [
    "."
   ]
  },
  {
   "cell_type": "markdown",
   "id": "dcba1a02-0391-41c2-b062-f0855a96d1f7",
   "metadata": {},
   "source": [
    "Compare the numbers of poultry meat chicken vs broiler (maybe drop one)"
   ]
  },
  {
   "cell_type": "markdown",
   "id": "95d556b3-7511-484e-b8a5-69c8c0ccf2d5",
   "metadata": {},
   "source": [
    "."
   ]
  },
  {
   "cell_type": "code",
   "execution_count": null,
   "id": "d5a05ed6-8d9e-4d8c-a3b7-990f52d84edf",
   "metadata": {},
   "outputs": [],
   "source": [
    "Compare = Cat1.loc[((Cat1['Commodity_Description']=='Meat, Chicken') | (Cat1['Commodity_Description']=='Poultry, Meat, Broiler'))]\n",
    "Compare"
   ]
  },
  {
   "cell_type": "code",
   "execution_count": null,
   "id": "c9395280-e83e-4611-ba49-db6290315056",
   "metadata": {},
   "outputs": [],
   "source": [
    "abc = (usdaHoney2[usdaHoney2.Year == 2004])"
   ]
  },
  {
   "cell_type": "markdown",
   "id": "c25a93b6-081f-487b-8bde-8e95de36085d",
   "metadata": {},
   "source": [
    "."
   ]
  },
  {
   "cell_type": "markdown",
   "id": "13f35380-1dd2-411c-9dda-a338a8ee4fbf",
   "metadata": {},
   "source": [
    "Dropping Broiler"
   ]
  },
  {
   "cell_type": "markdown",
   "id": "ed7e4ada-6b95-4987-8abc-4332d8f69fec",
   "metadata": {},
   "source": [
    "."
   ]
  },
  {
   "cell_type": "code",
   "execution_count": 94,
   "id": "09a53aee-38f9-423e-8b1d-341be2b1a5a4",
   "metadata": {},
   "outputs": [
    {
     "data": {
      "text/html": [
       "<div>\n",
       "<style scoped>\n",
       "    .dataframe tbody tr th:only-of-type {\n",
       "        vertical-align: middle;\n",
       "    }\n",
       "\n",
       "    .dataframe tbody tr th {\n",
       "        vertical-align: top;\n",
       "    }\n",
       "\n",
       "    .dataframe thead th {\n",
       "        text-align: right;\n",
       "    }\n",
       "</style>\n",
       "<table border=\"1\" class=\"dataframe\">\n",
       "  <thead>\n",
       "    <tr style=\"text-align: right;\">\n",
       "      <th></th>\n",
       "      <th>Commodity_Description</th>\n",
       "      <th>Year</th>\n",
       "      <th>Country_Code</th>\n",
       "      <th>Attribute_Description</th>\n",
       "      <th>Unit_Description</th>\n",
       "      <th>Value</th>\n",
       "    </tr>\n",
       "  </thead>\n",
       "  <tbody>\n",
       "    <tr>\n",
       "      <th>45</th>\n",
       "      <td>Dairy, Milk, Fluid</td>\n",
       "      <td>1998</td>\n",
       "      <td>US</td>\n",
       "      <td>Production</td>\n",
       "      <td>(MT)</td>\n",
       "      <td>71334000.0</td>\n",
       "    </tr>\n",
       "    <tr>\n",
       "      <th>46</th>\n",
       "      <td>Dairy, Milk, Fluid</td>\n",
       "      <td>1999</td>\n",
       "      <td>US</td>\n",
       "      <td>Production</td>\n",
       "      <td>(MT)</td>\n",
       "      <td>73750000.0</td>\n",
       "    </tr>\n",
       "    <tr>\n",
       "      <th>47</th>\n",
       "      <td>Dairy, Milk, Fluid</td>\n",
       "      <td>2000</td>\n",
       "      <td>US</td>\n",
       "      <td>Production</td>\n",
       "      <td>(MT)</td>\n",
       "      <td>75929000.0</td>\n",
       "    </tr>\n",
       "    <tr>\n",
       "      <th>48</th>\n",
       "      <td>Dairy, Milk, Fluid</td>\n",
       "      <td>2001</td>\n",
       "      <td>US</td>\n",
       "      <td>Production</td>\n",
       "      <td>(MT)</td>\n",
       "      <td>74994000.0</td>\n",
       "    </tr>\n",
       "    <tr>\n",
       "      <th>49</th>\n",
       "      <td>Dairy, Milk, Fluid</td>\n",
       "      <td>2002</td>\n",
       "      <td>US</td>\n",
       "      <td>Production</td>\n",
       "      <td>(MT)</td>\n",
       "      <td>77140000.0</td>\n",
       "    </tr>\n",
       "    <tr>\n",
       "      <th>...</th>\n",
       "      <td>...</td>\n",
       "      <td>...</td>\n",
       "      <td>...</td>\n",
       "      <td>...</td>\n",
       "      <td>...</td>\n",
       "      <td>...</td>\n",
       "    </tr>\n",
       "    <tr>\n",
       "      <th>159</th>\n",
       "      <td>Poultry, Meat, Turkey</td>\n",
       "      <td>2008</td>\n",
       "      <td>US</td>\n",
       "      <td>Production</td>\n",
       "      <td>(MT)</td>\n",
       "      <td>2801000.0</td>\n",
       "    </tr>\n",
       "    <tr>\n",
       "      <th>160</th>\n",
       "      <td>Poultry, Meat, Turkey</td>\n",
       "      <td>2009</td>\n",
       "      <td>US</td>\n",
       "      <td>Production</td>\n",
       "      <td>(MT)</td>\n",
       "      <td>2733000.0</td>\n",
       "    </tr>\n",
       "    <tr>\n",
       "      <th>161</th>\n",
       "      <td>Poultry, Meat, Turkey</td>\n",
       "      <td>2010</td>\n",
       "      <td>US</td>\n",
       "      <td>Production</td>\n",
       "      <td>(MT)</td>\n",
       "      <td>2607000.0</td>\n",
       "    </tr>\n",
       "    <tr>\n",
       "      <th>162</th>\n",
       "      <td>Poultry, Meat, Turkey</td>\n",
       "      <td>2011</td>\n",
       "      <td>US</td>\n",
       "      <td>Production</td>\n",
       "      <td>(MT)</td>\n",
       "      <td>2593000.0</td>\n",
       "    </tr>\n",
       "    <tr>\n",
       "      <th>163</th>\n",
       "      <td>Poultry, Meat, Turkey</td>\n",
       "      <td>2012</td>\n",
       "      <td>US</td>\n",
       "      <td>Production</td>\n",
       "      <td>(MT)</td>\n",
       "      <td>2675000.0</td>\n",
       "    </tr>\n",
       "  </tbody>\n",
       "</table>\n",
       "<p>89 rows × 6 columns</p>\n",
       "</div>"
      ],
      "text/plain": [
       "     Commodity_Description  Year Country_Code Attribute_Description  \\\n",
       "45      Dairy, Milk, Fluid  1998           US            Production   \n",
       "46      Dairy, Milk, Fluid  1999           US            Production   \n",
       "47      Dairy, Milk, Fluid  2000           US            Production   \n",
       "48      Dairy, Milk, Fluid  2001           US            Production   \n",
       "49      Dairy, Milk, Fluid  2002           US            Production   \n",
       "..                     ...   ...          ...                   ...   \n",
       "159  Poultry, Meat, Turkey  2008           US            Production   \n",
       "160  Poultry, Meat, Turkey  2009           US            Production   \n",
       "161  Poultry, Meat, Turkey  2010           US            Production   \n",
       "162  Poultry, Meat, Turkey  2011           US            Production   \n",
       "163  Poultry, Meat, Turkey  2012           US            Production   \n",
       "\n",
       "    Unit_Description       Value  \n",
       "45              (MT)  71334000.0  \n",
       "46              (MT)  73750000.0  \n",
       "47              (MT)  75929000.0  \n",
       "48              (MT)  74994000.0  \n",
       "49              (MT)  77140000.0  \n",
       "..               ...         ...  \n",
       "159             (MT)   2801000.0  \n",
       "160             (MT)   2733000.0  \n",
       "161             (MT)   2607000.0  \n",
       "162             (MT)   2593000.0  \n",
       "163             (MT)   2675000.0  \n",
       "\n",
       "[89 rows x 6 columns]"
      ]
     },
     "execution_count": 94,
     "metadata": {},
     "output_type": "execute_result"
    }
   ],
   "source": [
    "Cat1 = Cat1[Cat1.Commodity_Description != 'Poultry, Meat, Broiler']\n",
    "Cat1"
   ]
  },
  {
   "cell_type": "code",
   "execution_count": 95,
   "id": "b75304c5-ac48-4c70-bcab-238bdccc303a",
   "metadata": {},
   "outputs": [
    {
     "name": "stdout",
     "output_type": "stream",
     "text": [
      "Dairy, Milk, Fluid\n",
      "Honey\n",
      "Meat, Beef and Veal\n",
      "Meat, Chicken\n",
      "Meat, Swine\n",
      "Poultry, Meat, Turkey\n"
     ]
    }
   ],
   "source": [
    "for col_name in Cat1.Commodity_Description.unique():\n",
    "    print(col_name)"
   ]
  },
  {
   "cell_type": "code",
   "execution_count": 98,
   "id": "a557211b-8f6e-43bb-98c5-4656346142ef",
   "metadata": {},
   "outputs": [],
   "source": [
    "Cat1.to_csv('Cat1.csv')"
   ]
  },
  {
   "cell_type": "markdown",
   "id": "5b2d2447-59fa-4e11-929d-f8df420834ff",
   "metadata": {},
   "source": [
    "."
   ]
  },
  {
   "cell_type": "markdown",
   "id": "ec629fed-8f40-4655-a1df-d39503eb721b",
   "metadata": {},
   "source": [
    "Dropping columns to leave Honey,year and other commodities"
   ]
  },
  {
   "cell_type": "markdown",
   "id": "9e9bf89e-9d48-4188-a13e-9f3801bd08ad",
   "metadata": {},
   "source": [
    "."
   ]
  },
  {
   "cell_type": "code",
   "execution_count": null,
   "id": "c54878fe-65ad-4e98-9d84-bd8cb07a1e95",
   "metadata": {},
   "outputs": [],
   "source": [
    "Cat1.drop('Attribute_Description', inplace=True, axis=1)\n",
    "Cat1.drop('Unit_Description', inplace=True, axis=1)\n",
    "Cat1"
   ]
  },
  {
   "cell_type": "markdown",
   "id": "22fd7a33-505a-4723-9214-d00112005689",
   "metadata": {},
   "source": [
    "."
   ]
  },
  {
   "cell_type": "markdown",
   "id": "a218890a-da71-4d97-ae9b-7aeadbd52eea",
   "metadata": {},
   "source": [
    "Reshaping the df for the correlation matrix"
   ]
  },
  {
   "cell_type": "markdown",
   "id": "9b7ebdb6-73cf-4a36-80db-66ebe8d92761",
   "metadata": {},
   "source": [
    "."
   ]
  },
  {
   "cell_type": "code",
   "execution_count": 107,
   "id": "5fb1888c-2583-4bcb-80fa-d2d6da27277d",
   "metadata": {},
   "outputs": [
    {
     "name": "stdout",
     "output_type": "stream",
     "text": [
      "    Year  Dairy, Milk, Fluid        Honey  Meat, Beef and Veal  Meat, Chicken  \\\n",
      "0   1998          71334000.0  99571.62321              11804.0            NaN   \n",
      "1   1999          73750000.0  91800.71933              12124.0     13618000.0   \n",
      "2   2000          75929000.0  99589.31322              12298.0     13943000.0   \n",
      "3   2001          74994000.0  84253.43532              11983.0     14267000.0   \n",
      "4   2002          77140000.0  77684.09135              12427.0     14715000.0   \n",
      "5   2003          77290000.0  82268.52548              12039.0     14924000.0   \n",
      "6   2004          77535000.0  82884.04711              11261.0     15514000.0   \n",
      "7   2005          80286000.0  78910.59871              11318.0     16104000.0   \n",
      "8   2006          82582000.0  69960.81442              11981.0     16159000.0   \n",
      "9   2007          84211000.0  66959.40939              12168.0     16452000.0   \n",
      "10  2008          86410000.0  73922.46948              12226.0     16815000.0   \n",
      "11  2009          86817000.0  65801.39412              12203.0     16162000.0   \n",
      "12  2010          87488000.0  79511.60546              12048.0     16791000.0   \n",
      "13  2011          89020000.0  66768.90159              12048.0     16931000.0   \n",
      "14  2012          91010000.0  63914.00613              11855.0     16856000.0   \n",
      "\n",
      "    Meat, Swine  Poultry, Meat, Turkey  \n",
      "0        8623.0              2365000.0  \n",
      "1        8758.0              2372000.0  \n",
      "2        8596.0              2419000.0  \n",
      "3        8691.0              2490000.0  \n",
      "4        8929.0              2557000.0  \n",
      "5        9056.0              2529000.0  \n",
      "6        9313.0              2441000.0  \n",
      "7        9392.0              2464000.0  \n",
      "8        9632.0              2545000.0  \n",
      "9        9962.0              2667000.0  \n",
      "10      10684.0              2801000.0  \n",
      "11      10507.0              2733000.0  \n",
      "12      10187.0              2607000.0  \n",
      "13      10332.0              2593000.0  \n",
      "14      10575.0              2675000.0  \n"
     ]
    }
   ],
   "source": [
    "Cat1Pivot = Cat1.pivot(index='Year', columns='Commodity_Description', values='Value')\\\n",
    "            .reset_index()\n",
    "Cat1Pivot.columns.name=None\n",
    "print(Cat1Pivot)"
   ]
  },
  {
   "cell_type": "code",
   "execution_count": 108,
   "id": "80347352-f766-40c4-acb5-14df777ad772",
   "metadata": {},
   "outputs": [],
   "source": [
    "Cat1Pivot.to_csv('Cat1Pivot.csv')"
   ]
  },
  {
   "cell_type": "markdown",
   "id": "a4057098-a095-48e8-bdf1-f38265ff2a30",
   "metadata": {},
   "source": [
    "."
   ]
  },
  {
   "cell_type": "markdown",
   "id": "66ba967f-8d24-4b42-8c4c-deaaa2b7d5f3",
   "metadata": {},
   "source": [
    "Correlation"
   ]
  },
  {
   "cell_type": "markdown",
   "id": "fbe04ddf-732f-450e-b5d2-b2bc3a381b59",
   "metadata": {},
   "source": [
    "."
   ]
  },
  {
   "cell_type": "code",
   "execution_count": 110,
   "id": "05d18acd-598b-451f-991d-e271c0d247b3",
   "metadata": {},
   "outputs": [
    {
     "name": "stdout",
     "output_type": "stream",
     "text": [
      "                           Year  Dairy, Milk, Fluid     Honey  \\\n",
      "Year                   1.000000            0.988032 -0.868987   \n",
      "Dairy, Milk, Fluid     0.988032            1.000000 -0.853603   \n",
      "Honey                 -0.868987           -0.853603  1.000000   \n",
      "Meat, Beef and Veal   -0.004616            0.107295 -0.070536   \n",
      "Meat, Chicken          0.951986            0.927079 -0.827380   \n",
      "Meat, Swine            0.948936            0.959340 -0.834067   \n",
      "Poultry, Meat, Turkey  0.799770            0.832400 -0.808096   \n",
      "\n",
      "                       Meat, Beef and Veal  Meat, Chicken  Meat, Swine  \\\n",
      "Year                             -0.004616       0.951986     0.948936   \n",
      "Dairy, Milk, Fluid                0.107295       0.927079     0.959340   \n",
      "Honey                            -0.070536      -0.827380    -0.834067   \n",
      "Meat, Beef and Veal               1.000000      -0.186852     0.071269   \n",
      "Meat, Chicken                    -0.186852       1.000000     0.921237   \n",
      "Meat, Swine                       0.071269       0.921237     1.000000   \n",
      "Poultry, Meat, Turkey             0.367574       0.746910     0.883935   \n",
      "\n",
      "                       Poultry, Meat, Turkey  \n",
      "Year                                0.799770  \n",
      "Dairy, Milk, Fluid                  0.832400  \n",
      "Honey                              -0.808096  \n",
      "Meat, Beef and Veal                 0.367574  \n",
      "Meat, Chicken                       0.746910  \n",
      "Meat, Swine                         0.883935  \n",
      "Poultry, Meat, Turkey               1.000000  \n"
     ]
    }
   ],
   "source": [
    "corrMatrix = Cat1Pivot.corr()\n",
    "print (corrMatrix)"
   ]
  },
  {
   "cell_type": "code",
   "execution_count": 111,
   "id": "b26cbade-2914-4909-8b5c-37ee13067231",
   "metadata": {},
   "outputs": [
    {
     "data": {
      "text/html": [
       "<div>\n",
       "<style scoped>\n",
       "    .dataframe tbody tr th:only-of-type {\n",
       "        vertical-align: middle;\n",
       "    }\n",
       "\n",
       "    .dataframe tbody tr th {\n",
       "        vertical-align: top;\n",
       "    }\n",
       "\n",
       "    .dataframe thead th {\n",
       "        text-align: right;\n",
       "    }\n",
       "</style>\n",
       "<table border=\"1\" class=\"dataframe\">\n",
       "  <thead>\n",
       "    <tr style=\"text-align: right;\">\n",
       "      <th></th>\n",
       "      <th>Year</th>\n",
       "      <th>Dairy, Milk, Fluid</th>\n",
       "      <th>Honey</th>\n",
       "      <th>Meat, Beef and Veal</th>\n",
       "      <th>Meat, Chicken</th>\n",
       "      <th>Meat, Swine</th>\n",
       "      <th>Poultry, Meat, Turkey</th>\n",
       "    </tr>\n",
       "  </thead>\n",
       "  <tbody>\n",
       "    <tr>\n",
       "      <th>Year</th>\n",
       "      <td>1.000000</td>\n",
       "      <td>0.988032</td>\n",
       "      <td>-0.868987</td>\n",
       "      <td>-0.004616</td>\n",
       "      <td>0.951986</td>\n",
       "      <td>0.948936</td>\n",
       "      <td>0.799770</td>\n",
       "    </tr>\n",
       "    <tr>\n",
       "      <th>Dairy, Milk, Fluid</th>\n",
       "      <td>0.988032</td>\n",
       "      <td>1.000000</td>\n",
       "      <td>-0.853603</td>\n",
       "      <td>0.107295</td>\n",
       "      <td>0.927079</td>\n",
       "      <td>0.959340</td>\n",
       "      <td>0.832400</td>\n",
       "    </tr>\n",
       "    <tr>\n",
       "      <th>Honey</th>\n",
       "      <td>-0.868987</td>\n",
       "      <td>-0.853603</td>\n",
       "      <td>1.000000</td>\n",
       "      <td>-0.070536</td>\n",
       "      <td>-0.827380</td>\n",
       "      <td>-0.834067</td>\n",
       "      <td>-0.808096</td>\n",
       "    </tr>\n",
       "    <tr>\n",
       "      <th>Meat, Beef and Veal</th>\n",
       "      <td>-0.004616</td>\n",
       "      <td>0.107295</td>\n",
       "      <td>-0.070536</td>\n",
       "      <td>1.000000</td>\n",
       "      <td>-0.186852</td>\n",
       "      <td>0.071269</td>\n",
       "      <td>0.367574</td>\n",
       "    </tr>\n",
       "    <tr>\n",
       "      <th>Meat, Chicken</th>\n",
       "      <td>0.951986</td>\n",
       "      <td>0.927079</td>\n",
       "      <td>-0.827380</td>\n",
       "      <td>-0.186852</td>\n",
       "      <td>1.000000</td>\n",
       "      <td>0.921237</td>\n",
       "      <td>0.746910</td>\n",
       "    </tr>\n",
       "    <tr>\n",
       "      <th>Meat, Swine</th>\n",
       "      <td>0.948936</td>\n",
       "      <td>0.959340</td>\n",
       "      <td>-0.834067</td>\n",
       "      <td>0.071269</td>\n",
       "      <td>0.921237</td>\n",
       "      <td>1.000000</td>\n",
       "      <td>0.883935</td>\n",
       "    </tr>\n",
       "    <tr>\n",
       "      <th>Poultry, Meat, Turkey</th>\n",
       "      <td>0.799770</td>\n",
       "      <td>0.832400</td>\n",
       "      <td>-0.808096</td>\n",
       "      <td>0.367574</td>\n",
       "      <td>0.746910</td>\n",
       "      <td>0.883935</td>\n",
       "      <td>1.000000</td>\n",
       "    </tr>\n",
       "  </tbody>\n",
       "</table>\n",
       "</div>"
      ],
      "text/plain": [
       "                           Year  Dairy, Milk, Fluid     Honey  \\\n",
       "Year                   1.000000            0.988032 -0.868987   \n",
       "Dairy, Milk, Fluid     0.988032            1.000000 -0.853603   \n",
       "Honey                 -0.868987           -0.853603  1.000000   \n",
       "Meat, Beef and Veal   -0.004616            0.107295 -0.070536   \n",
       "Meat, Chicken          0.951986            0.927079 -0.827380   \n",
       "Meat, Swine            0.948936            0.959340 -0.834067   \n",
       "Poultry, Meat, Turkey  0.799770            0.832400 -0.808096   \n",
       "\n",
       "                       Meat, Beef and Veal  Meat, Chicken  Meat, Swine  \\\n",
       "Year                             -0.004616       0.951986     0.948936   \n",
       "Dairy, Milk, Fluid                0.107295       0.927079     0.959340   \n",
       "Honey                            -0.070536      -0.827380    -0.834067   \n",
       "Meat, Beef and Veal               1.000000      -0.186852     0.071269   \n",
       "Meat, Chicken                    -0.186852       1.000000     0.921237   \n",
       "Meat, Swine                       0.071269       0.921237     1.000000   \n",
       "Poultry, Meat, Turkey             0.367574       0.746910     0.883935   \n",
       "\n",
       "                       Poultry, Meat, Turkey  \n",
       "Year                                0.799770  \n",
       "Dairy, Milk, Fluid                  0.832400  \n",
       "Honey                              -0.808096  \n",
       "Meat, Beef and Veal                 0.367574  \n",
       "Meat, Chicken                       0.746910  \n",
       "Meat, Swine                         0.883935  \n",
       "Poultry, Meat, Turkey               1.000000  "
      ]
     },
     "execution_count": 111,
     "metadata": {},
     "output_type": "execute_result"
    }
   ],
   "source": [
    "corrMatrix"
   ]
  },
  {
   "cell_type": "markdown",
   "id": "5f90f393-0695-4e7f-bae7-9043db4db11d",
   "metadata": {
    "tags": []
   },
   "source": [
    "# INTERPRETATION"
   ]
  },
  {
   "cell_type": "markdown",
   "id": "1662920a-82ff-4a4b-b6dd-b60b54f66cb1",
   "metadata": {
    "tags": []
   },
   "source": [
    "### 1. Does honey production correlate with the production of any other USDA commodities in your category/group? \n",
    "### 2. Which are more highly correlated? - Correlation"
   ]
  },
  {
   "cell_type": "markdown",
   "id": "e9f36ea7-b942-46f4-ab6c-ec4326acede7",
   "metadata": {},
   "source": [
    "."
   ]
  },
  {
   "attachments": {
    "cae48244-e257-4dcc-ac11-35b02e608252.png": {
     "image/png": "[encoded data removed]"
    }
   },
   "cell_type": "markdown",
   "id": "9eb6c651-9254-411d-9020-8b6ef709c697",
   "metadata": {},
   "source": [
    "As we can see from the correlation matrix, Honey does present a highly negative correlation with \n",
    "Year,\n",
    "Dairy,\n",
    "Chicken,\n",
    "Swine(pork),\n",
    "and Turkey.\n",
    "\n",
    "\n",
    "\n",
    "\n",
    "![image.png](attachment:cae48244-e257-4dcc-ac11-35b02e608252.png)"
   ]
  },
  {
   "cell_type": "markdown",
   "id": "3b8c4f2d-c169-412e-b4d8-f8042c52ce50",
   "metadata": {},
   "source": [
    "."
   ]
  },
  {
   "cell_type": "markdown",
   "id": "ac4e0096-d86d-4a1b-a0ac-7eb63035003a",
   "metadata": {},
   "source": [
    "### 3. Have the production levels of each commodity in your category changed over time? - Linear Modeling / MANCOVA\n",
    "### 4. Other relevant / interesting findings about your category?"
   ]
  },
  {
   "cell_type": "markdown",
   "id": "a0a78e0e-7f2b-4631-a878-b53041d7c842",
   "metadata": {},
   "source": [
    "When running a pair plot to analyze the existing relationships of the commodities with Honey we can see that most present a linear relationship to explore over time."
   ]
  },
  {
   "cell_type": "markdown",
   "id": "d0abbf77-efde-4ada-80c3-395f6d40c20b",
   "metadata": {},
   "source": [
    "."
   ]
  },
  {
   "cell_type": "code",
   "execution_count": 115,
   "id": "0cd0b203-c20f-4e6f-bac9-0febb644f7f9",
   "metadata": {},
   "outputs": [
    {
     "data": {
      "text/plain": [
       "<seaborn.axisgrid.PairGrid at 0x242ddfaaa30>"
      ]
     },
     "execution_count": 115,
     "metadata": {},
     "output_type": "execute_result"
    },
    {
     "data": {
      "image/png": "[encoded data removed]",
      "text/plain": [
       "<Figure size 1260x1260 with 56 Axes>"
      ]
     },
     "metadata": {
      "needs_background": "light"
     },
     "output_type": "display_data"
    }
   ],
   "source": [
    "sns.pairplot(Cat1Pivot)"
   ]
  },
  {
   "cell_type": "markdown",
   "id": "05b137d5-a8a7-4d26-83d8-b7bd929c5b72",
   "metadata": {},
   "source": [
    "."
   ]
  },
  {
   "cell_type": "markdown",
   "id": "bf58a045-2aff-40e1-ae0d-bac476a88cbd",
   "metadata": {},
   "source": [
    "When we plot out the distribution and density of the production of these commodities over time:"
   ]
  },
  {
   "cell_type": "markdown",
   "id": "2737b531-989e-4c5b-afdf-e7efd1686c9e",
   "metadata": {},
   "source": [
    "."
   ]
  },
  {
   "cell_type": "code",
   "execution_count": 133,
   "id": "8bd4d6fd-8817-4720-9bcd-ed72544859dd",
   "metadata": {},
   "outputs": [
    {
     "name": "stderr",
     "output_type": "stream",
     "text": [
      "C:\\Python3\\lib\\site-packages\\seaborn\\distributions.py:2619: FutureWarning: `distplot` is a deprecated function and will be removed in a future version. Please adapt your code to use either `displot` (a figure-level function with similar flexibility) or `histplot` (an axes-level function for histograms).\n",
      "  warnings.warn(msg, FutureWarning)\n"
     ]
    },
    {
     "data": {
      "text/plain": [
       "<AxesSubplot:xlabel='Value', ylabel='Density'>"
      ]
     },
     "execution_count": 133,
     "metadata": {},
     "output_type": "execute_result"
    },
    {
     "data": {
      "image/png": "[encoded data removed]",
      "text/plain": [
       "<Figure size 432x288 with 1 Axes>"
      ]
     },
     "metadata": {
      "needs_background": "light"
     },
     "output_type": "display_data"
    }
   ],
   "source": [
    "sns.distplot(Cat1['Value'])"
   ]
  },
  {
   "cell_type": "markdown",
   "id": "fc2b4cd9-fc3b-49ee-8732-f5324fdebb78",
   "metadata": {},
   "source": [
    "We see that most of the value data lives between 0 - 0.2, and 0.73 - 0.9?\n",
    "Representing very highly or low densities of commodity production in specified groupings. This will be further explored for the presence of 3rd variables that can be accounted for through research."
   ]
  },
  {
   "cell_type": "markdown",
   "id": "9adf8c6a-ebc9-4aa4-9530-9542f0fedb0d",
   "metadata": {},
   "source": [
    "."
   ]
  },
  {
   "cell_type": "markdown",
   "id": "04a8e308-a1c8-48d6-99c2-05601f65c92b",
   "metadata": {},
   "source": [
    "The distribution plot over each year in our report (specificall 1998 through 2012) presents us with value density around the same expected spikes."
   ]
  },
  {
   "cell_type": "code",
   "execution_count": 119,
   "id": "a11022e0-7bbb-4672-81d2-f411b99a092c",
   "metadata": {},
   "outputs": [
    {
     "name": "stderr",
     "output_type": "stream",
     "text": [
      "C:\\Python3\\lib\\site-packages\\seaborn\\distributions.py:2619: FutureWarning: `distplot` is a deprecated function and will be removed in a future version. Please adapt your code to use either `displot` (a figure-level function with similar flexibility) or `histplot` (an axes-level function for histograms).\n",
      "  warnings.warn(msg, FutureWarning)\n"
     ]
    },
    {
     "data": {
      "text/plain": [
       "<AxesSubplot:xlabel='Year', ylabel='Density'>"
      ]
     },
     "execution_count": 119,
     "metadata": {},
     "output_type": "execute_result"
    },
    {
     "data": {
      "image/png": "[encoded data removed]",
      "text/plain": [
       "<Figure size 432x288 with 1 Axes>"
      ]
     },
     "metadata": {
      "needs_background": "light"
     },
     "output_type": "display_data"
    }
   ],
   "source": [
    "sns.distplot(Cat1['Year'])"
   ]
  },
  {
   "cell_type": "markdown",
   "id": "0cb99a9c-65bc-4911-b691-d664a3a71148",
   "metadata": {},
   "source": [
    "."
   ]
  },
  {
   "cell_type": "markdown",
   "id": "dcdaacee-68af-4390-8627-d58eaf4b256b",
   "metadata": {},
   "source": [
    "### Linear regression"
   ]
  },
  {
   "cell_type": "markdown",
   "id": "473491c8-734b-456e-9c44-b8aecbccad50",
   "metadata": {},
   "source": [
    "Define X and Y"
   ]
  },
  {
   "cell_type": "code",
   "execution_count": 167,
   "id": "d92d34d1-38c7-403b-87f7-bb56ba7d76ed",
   "metadata": {},
   "outputs": [],
   "source": [
    "x1 = Cat1['Year']\n",
    "y = Cat1['Value']"
   ]
  },
  {
   "cell_type": "code",
   "execution_count": 168,
   "id": "8fa66263-1676-4fd7-8430-d4ea5f85e806",
   "metadata": {},
   "outputs": [
    {
     "data": {
      "image/png": "[encoded data removed]",
      "text/plain": [
       "<Figure size 432x288 with 1 Axes>"
      ]
     },
     "metadata": {
      "needs_background": "light"
     },
     "output_type": "display_data"
    }
   ],
   "source": [
    "plt.scatter(x1,y)\n",
    " \n",
    "plt.xlabel('Year', fontsize = 20)\n",
    " \n",
    "plt.ylabel('Production Value', fontsize = 20)\n",
    " \n",
    "plt.show()"
   ]
  },
  {
   "cell_type": "code",
   "execution_count": 171,
   "id": "a844771e-032a-4a35-a456-fb0d7fa305a5",
   "metadata": {},
   "outputs": [],
   "source": [
    "import statsmodels.api as sm\n",
    "import statsmodels.stats.api as sms\n",
    "from scipy.stats import boxcox\n",
    "import warnings\n",
    "warnings.filterwarnings('ignore')"
   ]
  },
  {
   "cell_type": "code",
   "execution_count": 172,
   "id": "b04e3ed4-5188-483b-bbc8-6aa9fe9322c6",
   "metadata": {},
   "outputs": [
    {
     "data": {
      "text/html": [
       "<table class=\"simpletable\">\n",
       "<caption>OLS Regression Results</caption>\n",
       "<tr>\n",
       "  <th>Dep. Variable:</th>          <td>Value</td>      <th>  R-squared:         </th> <td>   0.002</td>\n",
       "</tr>\n",
       "<tr>\n",
       "  <th>Model:</th>                   <td>OLS</td>       <th>  Adj. R-squared:    </th> <td>  -0.010</td>\n",
       "</tr>\n",
       "<tr>\n",
       "  <th>Method:</th>             <td>Least Squares</td>  <th>  F-statistic:       </th> <td>  0.1328</td>\n",
       "</tr>\n",
       "<tr>\n",
       "  <th>Date:</th>             <td>Thu, 14 Jul 2022</td> <th>  Prob (F-statistic):</th>  <td> 0.716</td> \n",
       "</tr>\n",
       "<tr>\n",
       "  <th>Time:</th>                 <td>17:48:09</td>     <th>  Log-Likelihood:    </th> <td> -1657.4</td>\n",
       "</tr>\n",
       "<tr>\n",
       "  <th>No. Observations:</th>      <td>    89</td>      <th>  AIC:               </th> <td>   3319.</td>\n",
       "</tr>\n",
       "<tr>\n",
       "  <th>Df Residuals:</th>          <td>    87</td>      <th>  BIC:               </th> <td>   3324.</td>\n",
       "</tr>\n",
       "<tr>\n",
       "  <th>Df Model:</th>              <td>     1</td>      <th>                     </th>     <td> </td>   \n",
       "</tr>\n",
       "<tr>\n",
       "  <th>Covariance Type:</th>      <td>nonrobust</td>    <th>                     </th>     <td> </td>   \n",
       "</tr>\n",
       "</table>\n",
       "<table class=\"simpletable\">\n",
       "<tr>\n",
       "    <td></td>       <th>coef</th>     <th>std err</th>      <th>t</th>      <th>P>|t|</th>  <th>[0.025</th>    <th>0.975]</th>  \n",
       "</tr>\n",
       "<tr>\n",
       "  <th>const</th> <td>-5.255e+08</td> <td> 1.49e+09</td> <td>   -0.353</td> <td> 0.725</td> <td>-3.48e+09</td> <td> 2.43e+09</td>\n",
       "</tr>\n",
       "<tr>\n",
       "  <th>Year</th>  <td> 2.703e+05</td> <td> 7.42e+05</td> <td>    0.364</td> <td> 0.716</td> <td> -1.2e+06</td> <td> 1.74e+06</td>\n",
       "</tr>\n",
       "</table>\n",
       "<table class=\"simpletable\">\n",
       "<tr>\n",
       "  <th>Omnibus:</th>       <td>29.717</td> <th>  Durbin-Watson:     </th> <td>   0.104</td>\n",
       "</tr>\n",
       "<tr>\n",
       "  <th>Prob(Omnibus):</th> <td> 0.000</td> <th>  Jarque-Bera (JB):  </th> <td>  44.574</td>\n",
       "</tr>\n",
       "<tr>\n",
       "  <th>Skew:</th>          <td> 1.663</td> <th>  Prob(JB):          </th> <td>2.09e-10</td>\n",
       "</tr>\n",
       "<tr>\n",
       "  <th>Kurtosis:</th>      <td> 3.978</td> <th>  Cond. No.          </th> <td>9.39e+05</td>\n",
       "</tr>\n",
       "</table><br/><br/>Notes:<br/>[1] Standard Errors assume that the covariance matrix of the errors is correctly specified.<br/>[2] The condition number is large, 9.39e+05. This might indicate that there are<br/>strong multicollinearity or other numerical problems."
      ],
      "text/plain": [
       "<class 'statsmodels.iolib.summary.Summary'>\n",
       "\"\"\"\n",
       "                            OLS Regression Results                            \n",
       "==============================================================================\n",
       "Dep. Variable:                  Value   R-squared:                       0.002\n",
       "Model:                            OLS   Adj. R-squared:                 -0.010\n",
       "Method:                 Least Squares   F-statistic:                    0.1328\n",
       "Date:                Thu, 14 Jul 2022   Prob (F-statistic):              0.716\n",
       "Time:                        17:48:09   Log-Likelihood:                -1657.4\n",
       "No. Observations:                  89   AIC:                             3319.\n",
       "Df Residuals:                      87   BIC:                             3324.\n",
       "Df Model:                           1                                         \n",
       "Covariance Type:            nonrobust                                         \n",
       "==============================================================================\n",
       "                 coef    std err          t      P>|t|      [0.025      0.975]\n",
       "------------------------------------------------------------------------------\n",
       "const      -5.255e+08   1.49e+09     -0.353      0.725   -3.48e+09    2.43e+09\n",
       "Year        2.703e+05   7.42e+05      0.364      0.716    -1.2e+06    1.74e+06\n",
       "==============================================================================\n",
       "Omnibus:                       29.717   Durbin-Watson:                   0.104\n",
       "Prob(Omnibus):                  0.000   Jarque-Bera (JB):               44.574\n",
       "Skew:                           1.663   Prob(JB):                     2.09e-10\n",
       "Kurtosis:                       3.978   Cond. No.                     9.39e+05\n",
       "==============================================================================\n",
       "\n",
       "Notes:\n",
       "[1] Standard Errors assume that the covariance matrix of the errors is correctly specified.\n",
       "[2] The condition number is large, 9.39e+05. This might indicate that there are\n",
       "strong multicollinearity or other numerical problems.\n",
       "\"\"\""
      ]
     },
     "execution_count": 172,
     "metadata": {},
     "output_type": "execute_result"
    }
   ],
   "source": [
    "x = sm.add_constant(x1)\n",
    "model = sm.OLS(y,x).fit()\n",
    "model\n",
    "model.summary()"
   ]
  },
  {
   "cell_type": "code",
   "execution_count": 182,
   "id": "eaaa4a3a-0de2-4b35-a483-f1c7e1a4bd39",
   "metadata": {},
   "outputs": [
    {
     "data": {
      "image/png": "[encoded data removed]",
      "text/plain": [
       "<Figure size 432x288 with 1 Axes>"
      ]
     },
     "metadata": {
      "needs_background": "light"
     },
     "output_type": "display_data"
    }
   ],
   "source": [
    "plt.scatter(x1,y)\n",
    " \n",
    "plt.xlabel('Honey Production (1000 MT)', fontsize = 20)\n",
    " \n",
    "plt.ylabel('Commodity Production (1000 MT)', fontsize = 20)\n",
    " \n",
    "plt.show()"
   ]
  },
  {
   "cell_type": "code",
   "execution_count": 183,
   "id": "765a7284-06c7-4cf2-bcae-c164274b941d",
   "metadata": {},
   "outputs": [
    {
     "data": {
      "text/html": [
       "<table class=\"simpletable\">\n",
       "<caption>OLS Regression Results</caption>\n",
       "<tr>\n",
       "  <th>Dep. Variable:</th>          <td>Value</td>      <th>  R-squared:         </th> <td>   0.002</td>\n",
       "</tr>\n",
       "<tr>\n",
       "  <th>Model:</th>                   <td>OLS</td>       <th>  Adj. R-squared:    </th> <td>  -0.010</td>\n",
       "</tr>\n",
       "<tr>\n",
       "  <th>Method:</th>             <td>Least Squares</td>  <th>  F-statistic:       </th> <td>  0.1328</td>\n",
       "</tr>\n",
       "<tr>\n",
       "  <th>Date:</th>             <td>Thu, 14 Jul 2022</td> <th>  Prob (F-statistic):</th>  <td> 0.716</td> \n",
       "</tr>\n",
       "<tr>\n",
       "  <th>Time:</th>                 <td>17:52:02</td>     <th>  Log-Likelihood:    </th> <td> -1657.4</td>\n",
       "</tr>\n",
       "<tr>\n",
       "  <th>No. Observations:</th>      <td>    89</td>      <th>  AIC:               </th> <td>   3319.</td>\n",
       "</tr>\n",
       "<tr>\n",
       "  <th>Df Residuals:</th>          <td>    87</td>      <th>  BIC:               </th> <td>   3324.</td>\n",
       "</tr>\n",
       "<tr>\n",
       "  <th>Df Model:</th>              <td>     1</td>      <th>                     </th>     <td> </td>   \n",
       "</tr>\n",
       "<tr>\n",
       "  <th>Covariance Type:</th>      <td>nonrobust</td>    <th>                     </th>     <td> </td>   \n",
       "</tr>\n",
       "</table>\n",
       "<table class=\"simpletable\">\n",
       "<tr>\n",
       "    <td></td>       <th>coef</th>     <th>std err</th>      <th>t</th>      <th>P>|t|</th>  <th>[0.025</th>    <th>0.975]</th>  \n",
       "</tr>\n",
       "<tr>\n",
       "  <th>const</th> <td>-5.255e+08</td> <td> 1.49e+09</td> <td>   -0.353</td> <td> 0.725</td> <td>-3.48e+09</td> <td> 2.43e+09</td>\n",
       "</tr>\n",
       "<tr>\n",
       "  <th>Year</th>  <td> 2.703e+05</td> <td> 7.42e+05</td> <td>    0.364</td> <td> 0.716</td> <td> -1.2e+06</td> <td> 1.74e+06</td>\n",
       "</tr>\n",
       "</table>\n",
       "<table class=\"simpletable\">\n",
       "<tr>\n",
       "  <th>Omnibus:</th>       <td>29.717</td> <th>  Durbin-Watson:     </th> <td>   0.104</td>\n",
       "</tr>\n",
       "<tr>\n",
       "  <th>Prob(Omnibus):</th> <td> 0.000</td> <th>  Jarque-Bera (JB):  </th> <td>  44.574</td>\n",
       "</tr>\n",
       "<tr>\n",
       "  <th>Skew:</th>          <td> 1.663</td> <th>  Prob(JB):          </th> <td>2.09e-10</td>\n",
       "</tr>\n",
       "<tr>\n",
       "  <th>Kurtosis:</th>      <td> 3.978</td> <th>  Cond. No.          </th> <td>9.39e+05</td>\n",
       "</tr>\n",
       "</table><br/><br/>Notes:<br/>[1] Standard Errors assume that the covariance matrix of the errors is correctly specified.<br/>[2] The condition number is large, 9.39e+05. This might indicate that there are<br/>strong multicollinearity or other numerical problems."
      ],
      "text/plain": [
       "<class 'statsmodels.iolib.summary.Summary'>\n",
       "\"\"\"\n",
       "                            OLS Regression Results                            \n",
       "==============================================================================\n",
       "Dep. Variable:                  Value   R-squared:                       0.002\n",
       "Model:                            OLS   Adj. R-squared:                 -0.010\n",
       "Method:                 Least Squares   F-statistic:                    0.1328\n",
       "Date:                Thu, 14 Jul 2022   Prob (F-statistic):              0.716\n",
       "Time:                        17:52:02   Log-Likelihood:                -1657.4\n",
       "No. Observations:                  89   AIC:                             3319.\n",
       "Df Residuals:                      87   BIC:                             3324.\n",
       "Df Model:                           1                                         \n",
       "Covariance Type:            nonrobust                                         \n",
       "==============================================================================\n",
       "                 coef    std err          t      P>|t|      [0.025      0.975]\n",
       "------------------------------------------------------------------------------\n",
       "const      -5.255e+08   1.49e+09     -0.353      0.725   -3.48e+09    2.43e+09\n",
       "Year        2.703e+05   7.42e+05      0.364      0.716    -1.2e+06    1.74e+06\n",
       "==============================================================================\n",
       "Omnibus:                       29.717   Durbin-Watson:                   0.104\n",
       "Prob(Omnibus):                  0.000   Jarque-Bera (JB):               44.574\n",
       "Skew:                           1.663   Prob(JB):                     2.09e-10\n",
       "Kurtosis:                       3.978   Cond. No.                     9.39e+05\n",
       "==============================================================================\n",
       "\n",
       "Notes:\n",
       "[1] Standard Errors assume that the covariance matrix of the errors is correctly specified.\n",
       "[2] The condition number is large, 9.39e+05. This might indicate that there are\n",
       "strong multicollinearity or other numerical problems.\n",
       "\"\"\""
      ]
     },
     "execution_count": 183,
     "metadata": {},
     "output_type": "execute_result"
    }
   ],
   "source": [
    "x = sm.add_constant(x1)\n",
    "model = sm.OLS(y,x).fit()\n",
    "model\n",
    "model.summary()"
   ]
  },
  {
   "cell_type": "code",
   "execution_count": 184,
   "id": "3e682dc5-6def-412f-a93f-9b30abe38294",
   "metadata": {},
   "outputs": [
    {
     "data": {
      "image/png": "[encoded data removed]",
      "text/plain": [
       "<Figure size 432x288 with 1 Axes>"
      ]
     },
     "metadata": {
      "needs_background": "light"
     },
     "output_type": "display_data"
    }
   ],
   "source": [
    "plt.scatter(x1,y)\n",
    " \n",
    "yhat = -3027.7330*x1 + 530400\n",
    " \n",
    "fig = plt.plot(x1,yhat, lw=4, c='blue', label = 'regression line')\n",
    " \n",
    "plt.xlabel('Honey Production Values', fontsize = 20)\n",
    " \n",
    "plt.ylabel('Commodity Production Values', fontsize = 20)\n",
    " \n",
    "plt.show()"
   ]
  },
  {
   "cell_type": "code",
   "execution_count": 178,
   "id": "f7ffc6d0-c27c-4e4e-aa34-89b22a7f135c",
   "metadata": {},
   "outputs": [
    {
     "data": {
      "text/plain": [
       "(84.44635753253385, nan, 1631.9417951576888, 1.362204289547764e-58)"
      ]
     },
     "execution_count": 178,
     "metadata": {},
     "output_type": "execute_result"
    }
   ],
   "source": [
    "sms.diagnostic.het_breuschpagan(residual, Cat1[['Value']])"
   ]
  },
  {
   "cell_type": "code",
   "execution_count": 179,
   "id": "9e8ad18c-5a26-4134-94cb-71f2e5703d48",
   "metadata": {},
   "outputs": [
    {
     "data": {
      "text/plain": [
       "Ttest_1sampResult(statistic=-11.961238714312934, pvalue=6.555444957406283e-20)"
      ]
     },
     "execution_count": 179,
     "metadata": {},
     "output_type": "execute_result"
    }
   ],
   "source": [
    "sms.linear_harvey_collier(model)"
   ]
  },
  {
   "cell_type": "code",
   "execution_count": 180,
   "id": "a50aed60-2815-4898-90c4-c35922f15492",
   "metadata": {},
   "outputs": [
    {
     "data": {
      "text/plain": [
       "<AxesSubplot:>"
      ]
     },
     "execution_count": 180,
     "metadata": {},
     "output_type": "execute_result"
    },
    {
     "data": {
      "image/png": "[encoded data removed]",
      "text/plain": [
       "<Figure size 432x288 with 2 Axes>"
      ]
     },
     "metadata": {
      "needs_background": "light"
     },
     "output_type": "display_data"
    }
   ],
   "source": [
    "sns.heatmap(Cat1.corr(), annot=True)"
   ]
  },
  {
   "cell_type": "markdown",
   "id": "0d2d2c82-88e5-4a3b-a667-a08941e704a7",
   "metadata": {},
   "source": [
    "# Further analysis inquiries"
   ]
  },
  {
   "cell_type": "markdown",
   "id": "c3817ed1-6414-46e5-93f6-224c1c5f41eb",
   "metadata": {},
   "source": [
    "### What influences bee survival - explain negative correlation 3rd variables possibly?\n",
    "### Does it have an impact how much? or not?"
   ]
  },
  {
   "cell_type": "markdown",
   "id": "f064765d-0534-4ced-bff0-e63e05eb50c2",
   "metadata": {},
   "source": [
    "The presence of grazing animals?"
   ]
  },
  {
   "cell_type": "markdown",
   "id": "eedcb02b-81b1-44b8-b1d5-fb1b75ee1c57",
   "metadata": {},
   "source": [
    "Pesticides?"
   ]
  },
  {
   "cell_type": "markdown",
   "id": "7a167597-d82b-4bd7-a93a-1e68197ac0ed",
   "metadata": {},
   "source": [
    "Habitat loss?"
   ]
  },
  {
   "cell_type": "markdown",
   "id": "c5edc876-f7bb-438a-a247-42cb4858f367",
   "metadata": {},
   "source": [
    "An increased number of predatory invaders?"
   ]
  },
  {
   "cell_type": "markdown",
   "id": "0cf2c8d4-ec3b-4ce4-8118-5cf165cd75ae",
   "metadata": {},
   "source": [
    "."
   ]
  },
  {
   "cell_type": "markdown",
   "id": "2424a3e8-ce72-416e-86f8-4973f6d7169b",
   "metadata": {},
   "source": [
    "# Visuals in Tableau\n",
    "### Distribution of honey vs Dairy&livestock stuff\n",
    "### histograms - value\n",
    "### line graph - value trend over time"
   ]
  },
  {
   "cell_type": "markdown",
   "id": "0a4c59e6-941c-4844-afa2-b57c81b3b06e",
   "metadata": {},
   "source": [
    "line graph done"
   ]
  },
  {
   "cell_type": "markdown",
   "id": "d0bf2f00-cb84-49f0-b57a-707daec904c0",
   "metadata": {},
   "source": [
    "Histogram done?, Dstribution is the only thing left"
   ]
  },
  {
   "cell_type": "markdown",
   "id": "e821e13b-dabe-4351-91e8-c1f06a5cc7cb",
   "metadata": {},
   "source": [
    "."
   ]
  },
  {
   "cell_type": "markdown",
   "id": "ef394649-a894-404c-9a98-95fb971be950",
   "metadata": {},
   "source": [
    "# Additional Notes for the project\n",
    "### tableau for visuals"
   ]
  }
 ],
 "metadata": {
  "kernelspec": {
   "display_name": "Python 3 (ipykernel)",
   "language": "python",
   "name": "python3"
  },
  "language_info": {
   "codemirror_mode": {
    "name": "ipython",
    "version": 3
   },
   "file_extension": ".py",
   "mimetype": "text/x-python",
   "name": "python",
   "nbconvert_exporter": "python",
   "pygments_lexer": "ipython3",
   "version": "3.9.7"
  }
 },
 "nbformat": 4,
 "nbformat_minor": 5
}
