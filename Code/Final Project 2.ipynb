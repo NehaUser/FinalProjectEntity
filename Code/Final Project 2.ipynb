{
 "cells": [
  {
   "cell_type": "markdown",
   "id": "2613c4a5-4178-4b0b-ac15-78962a5cc516",
   "metadata": {},
   "source": [
    "# Entity Data Science Final Project \n",
    "# Honey vs Agricultural Commodity Production \n",
    "## Nic Acosta\n",
    "7/2022"
   ]
  },
  {
   "cell_type": "code",
   "execution_count": 1,
   "id": "641e6513-2a5a-4df9-b92b-6637f60e5a6b",
   "metadata": {},
   "outputs": [],
   "source": [
    "import pandas as pd\n",
    "import numpy as np\n",
    "import matplotlib.pyplot as plt\n",
    "import seaborn as sns\n",
    "%matplotlib inline\n",
    "from sklearn.model_selection import train_test_split\n",
    "from sklearn.tree import DecisionTreeClassifier\n",
    "from sklearn.metrics import classification_report, confusion_matrix, accuracy_score\n",
    "from sklearn.ensemble import RandomForestClassifier\n",
    "from sklearn.model_selection import train_test_split\n",
    "from sklearn.metrics import classification_report, confusion_matrix\n",
    "from sklearn.model_selection import RandomizedSearchCV\n",
    "from sklearn.linear_model import LinearRegression"
   ]
  },
  {
   "cell_type": "markdown",
   "id": "619b96b9-e4db-4a7c-9a68-3b062987711b",
   "metadata": {},
   "source": [
    "1. Does honey production correlate with the production of any other USDA commodities in your category/group? Which are more highly correlated? \n",
    "2. Have the production levels of each commodity in your category changed over time? - Linear Modeling / MANCOVA\n",
    " 3. Other relevant / interesting findings about your category"
   ]
  },
  {
   "cell_type": "markdown",
   "id": "4d7f0193-b774-4b92-8a9e-52f262598c7b",
   "metadata": {},
   "source": [
    " pulling in libraries"
   ]
  },
  {
   "cell_type": "markdown",
   "id": "ec271a9d-e8e3-47e0-bd0d-7d75f0b45cdf",
   "metadata": {},
   "source": [
    " Pulling in and printing data csv"
   ]
  },
  {
   "cell_type": "code",
   "execution_count": 2,
   "id": "8dd80c5c-cd2f-457d-9df9-e9f2aac052c7",
   "metadata": {},
   "outputs": [
    {
     "name": "stdout",
     "output_type": "stream",
     "text": [
      "      Unnamed: 0   Commodity_Description Country_Code   Country_Name  Year  \\\n",
      "0              1  Almonds, Shelled Basis           US  United States  1998   \n",
      "1              2  Almonds, Shelled Basis           US  United States  1999   \n",
      "2              3  Almonds, Shelled Basis           US  United States  2000   \n",
      "3              4  Almonds, Shelled Basis           US  United States  2001   \n",
      "4              5  Almonds, Shelled Basis           US  United States  2002   \n",
      "...          ...                     ...          ...            ...   ...   \n",
      "8308        8309                   Honey           US  United States  2008   \n",
      "8309        8310                   Honey           US  United States  2009   \n",
      "8310        8311                   Honey           US  United States  2010   \n",
      "8311        8312                   Honey           US  United States  2011   \n",
      "8312        8313                   Honey           US  United States  2012   \n",
      "\n",
      "     Attribute_Description Unit_Description         Value  Category  \n",
      "0               Production             (MT)  235884.00000         4  \n",
      "1               Production             (MT)  361362.00000         4  \n",
      "2               Production             (MT)  303700.00000         4  \n",
      "3               Production             (MT)  376488.00000         4  \n",
      "4               Production             (MT)  494416.00000         4  \n",
      "...                    ...              ...           ...       ...  \n",
      "8308            Production               MT   73922.46948         6  \n",
      "8309            Production               MT   65801.39412         6  \n",
      "8310            Production               MT   79511.60546         6  \n",
      "8311            Production               MT   66768.90159         6  \n",
      "8312            Production               MT   63914.00613         6  \n",
      "\n",
      "[8313 rows x 9 columns]\n"
     ]
    }
   ],
   "source": [
    "USDAHoney2 = pd.read_csv(r'\\Users\\airos\\Downloads\\USDAHoney2.csv', low_memory=False)\n",
    "print(USDAHoney2)"
   ]
  },
  {
   "cell_type": "markdown",
   "id": "a5173abd-cfbb-497c-8a70-88b1d4a71a3f",
   "metadata": {},
   "source": [
    "."
   ]
  },
  {
   "cell_type": "markdown",
   "id": "e2c6dc88-e753-464a-a67c-59522a459a66",
   "metadata": {},
   "source": [
    "sorted the columns into rows to view"
   ]
  },
  {
   "cell_type": "markdown",
   "id": "de05bfe6-4ba5-4148-9dd2-355ae992a209",
   "metadata": {},
   "source": [
    "."
   ]
  },
  {
   "cell_type": "code",
   "execution_count": 3,
   "id": "1a3b8fb3-00cc-4046-967e-e05b250b157a",
   "metadata": {},
   "outputs": [
    {
     "name": "stdout",
     "output_type": "stream",
     "text": [
      "Unnamed: 0\n",
      "Commodity_Description\n",
      "Country_Code\n",
      "Country_Name\n",
      "Year\n",
      "Attribute_Description\n",
      "Unit_Description\n",
      "Value\n",
      "Category\n"
     ]
    }
   ],
   "source": [
    "for col_name in USDAHoney2.columns:\n",
    "    print(col_name)"
   ]
  },
  {
   "cell_type": "markdown",
   "id": "212839b3-2ef1-4fcd-bb21-e5eccb09be64",
   "metadata": {},
   "source": [
    "."
   ]
  },
  {
   "cell_type": "markdown",
   "id": "2d58376d-00c6-4658-adcb-10717b942d32",
   "metadata": {},
   "source": [
    "Going through each column to see unique input values"
   ]
  },
  {
   "cell_type": "markdown",
   "id": "1029268f-0b74-4692-ab0d-054a7cba49a7",
   "metadata": {},
   "source": [
    "."
   ]
  },
  {
   "cell_type": "code",
   "execution_count": 4,
   "id": "1735f6bd-6fd8-462a-adb9-cfb0443a1713",
   "metadata": {},
   "outputs": [
    {
     "data": {
      "text/plain": [
       "array(['US'], dtype=object)"
      ]
     },
     "execution_count": 4,
     "metadata": {},
     "output_type": "execute_result"
    }
   ],
   "source": [
    "USDAHoney2.Country_Code.unique()"
   ]
  },
  {
   "cell_type": "code",
   "execution_count": 5,
   "id": "57486aad-858b-4f68-bbb8-8564a3297d55",
   "metadata": {},
   "outputs": [
    {
     "data": {
      "text/plain": [
       "array(['Almonds, Shelled Basis', 'Animal Numbers, Cattle',\n",
       "       'Animal Numbers, Swine', 'Apple Juice, Concentrated',\n",
       "       'Apples, Fresh', 'Asparagus, Fresh', 'Avocados, Fresh', 'Barley',\n",
       "       'Citrus, Other, Fresh', 'Coffee, Green', 'Corn', 'Cotton',\n",
       "       'Dairy, Butter', 'Dairy, Cheese', 'Dairy, Dry Whole Milk Powder',\n",
       "       'Dairy, Milk, Fluid', 'Dairy, Milk, Nonfat Dry',\n",
       "       'Filberts, Inshell Basis', 'Fresh Apricots',\n",
       "       'Fresh Cherries,(Sweet&Sour)', 'Fresh Peaches & Nectarines',\n",
       "       'Fresh Plums & Prunes', 'Grapefruit, Fresh',\n",
       "       'Grapes, Table, Fresh', 'Kiwifruit', 'Lemons, Fresh',\n",
       "       'Macadamia, Inshell Basis', 'Meal, Cottonseed', 'Meal, Fish',\n",
       "       'Meal, Peanut', 'Meal, Rapeseed', 'Meal, Soybean',\n",
       "       'Meal, Sunflowerseed', 'Meat, Beef and Veal', 'Meat, Swine',\n",
       "       'Oats', 'Oil, Coconut', 'Oil, Cottonseed', 'Oil, Olive',\n",
       "       'Oil, Palm', 'Oil, Palm Kernel', 'Oil, Peanut', 'Oil, Rapeseed',\n",
       "       'Oil, Soybean', 'Oil, Sunflowerseed', 'Oilseed, Cottonseed',\n",
       "       'Oilseed, Peanut', 'Oilseed, Rapeseed', 'Oilseed, Soybean',\n",
       "       'Oilseed, Sunflowerseed', 'Orange Juice', 'Oranges, Fresh',\n",
       "       'Peaches, Canned', 'Pears, Fresh', 'Pecans, Inshell Basis',\n",
       "       'Pistachios, Inshell Basis', 'Potato Products, Frozen',\n",
       "       'Poultry, Meat, Broiler', 'Poultry, Meat, Turkey',\n",
       "       'Prunes (Plums, Dried)', 'Raisins', 'Rice, Milled', 'Rye',\n",
       "       'Sorghum', 'Strawberries, Fresh', 'Strawberries, Frozen',\n",
       "       'Sugar, Centrifugal', 'Tangerines, Fresh',\n",
       "       'Tobacco, Mfg., Cigarettes', 'Tobacco, Unmfg., Total',\n",
       "       'Walnuts, Inshell Basis', 'Wheat', 'Tangerines/Mandarins, Fresh',\n",
       "       'Macadamia, Wet -Inshell Basis', 'Grapes, Fresh',\n",
       "       'Lemons/Limes, Fresh', 'Grapes', 'Cherries (Sweet&Sour), Fresh',\n",
       "       'Grapes, Fresh Table', 'Peaches & Nectarines, Fresh',\n",
       "       'Meat, Chicken', 'Honey'], dtype=object)"
      ]
     },
     "execution_count": 5,
     "metadata": {},
     "output_type": "execute_result"
    }
   ],
   "source": [
    "USDAHoney2.Commodity_Description.unique()"
   ]
  },
  {
   "cell_type": "code",
   "execution_count": 6,
   "id": "713b3a90-4b49-4b2b-8826-ac18f4f9a69e",
   "metadata": {},
   "outputs": [
    {
     "data": {
      "text/plain": [
       "array(['United States'], dtype=object)"
      ]
     },
     "execution_count": 6,
     "metadata": {},
     "output_type": "execute_result"
    }
   ],
   "source": [
    "USDAHoney2.Country_Name.unique()"
   ]
  },
  {
   "cell_type": "code",
   "execution_count": 7,
   "id": "3afb1c55-aeef-450d-ad88-26b4ffa12ba0",
   "metadata": {},
   "outputs": [
    {
     "data": {
      "text/plain": [
       "array(['Production'], dtype=object)"
      ]
     },
     "execution_count": 7,
     "metadata": {},
     "output_type": "execute_result"
    }
   ],
   "source": [
    "USDAHoney2.Attribute_Description.unique()"
   ]
  },
  {
   "cell_type": "code",
   "execution_count": 8,
   "id": "99a20909-eca2-4daa-bb46-96271f6b0f8f",
   "metadata": {},
   "outputs": [
    {
     "data": {
      "text/plain": [
       "array(['(MT)', '(1000 HEAD)', '(1000 MT)', '(1000 60 KG BAGS)',\n",
       "       '1000 480 lb. Bales', '(1000 MT CWE)', '(MT, Net Weight)',\n",
       "       '(MIL PCS)', 'MT'], dtype=object)"
      ]
     },
     "execution_count": 8,
     "metadata": {},
     "output_type": "execute_result"
    }
   ],
   "source": [
    "USDAHoney2.Unit_Description.unique()"
   ]
  },
  {
   "cell_type": "code",
   "execution_count": 9,
   "id": "6d0beafb-14a5-4aa1-ba4b-a3d5fdc9a3ca",
   "metadata": {},
   "outputs": [
    {
     "data": {
      "text/plain": [
       "array([235884.     , 361362.     , 303700.     , ...,  79511.60546,\n",
       "        66768.90159,  63914.00613])"
      ]
     },
     "execution_count": 9,
     "metadata": {},
     "output_type": "execute_result"
    }
   ],
   "source": [
    "USDAHoney2.Value.unique()"
   ]
  },
  {
   "cell_type": "code",
   "execution_count": 10,
   "id": "083824ee-e6c4-4e01-a323-e821bbf3f8d7",
   "metadata": {},
   "outputs": [
    {
     "data": {
      "text/plain": [
       "array([4, 1, 2, 3, 5, 6], dtype=int64)"
      ]
     },
     "execution_count": 10,
     "metadata": {},
     "output_type": "execute_result"
    }
   ],
   "source": [
    "USDAHoney2.Category.unique()"
   ]
  },
  {
   "cell_type": "code",
   "execution_count": 11,
   "id": "c3488731-3b29-44f7-b937-1720f08106da",
   "metadata": {},
   "outputs": [],
   "source": [
    "TrimmedUSDAHoney2 = USDAHoney2.drop(['Unnamed: 0', 'Country_Name'], axis=1)"
   ]
  },
  {
   "cell_type": "code",
   "execution_count": 12,
   "id": "7eb1a89b-2ca7-4ac7-9b28-40ce797a5c96",
   "metadata": {},
   "outputs": [
    {
     "name": "stdout",
     "output_type": "stream",
     "text": [
      "Commodity_Description\n",
      "Country_Code\n",
      "Year\n",
      "Attribute_Description\n",
      "Unit_Description\n",
      "Value\n",
      "Category\n"
     ]
    }
   ],
   "source": [
    "for col_name in TrimmedUSDAHoney2.columns:\n",
    "    print(col_name)"
   ]
  },
  {
   "cell_type": "markdown",
   "id": "1e60700d-ea64-4963-8380-8445ec6747d5",
   "metadata": {},
   "source": [
    "."
   ]
  },
  {
   "cell_type": "markdown",
   "id": "0f48139e-3945-4b50-b37d-7a0338f80d07",
   "metadata": {},
   "source": [
    "Dropping anything null and printing the first couple data rows..."
   ]
  },
  {
   "cell_type": "markdown",
   "id": "0bbde22a-dd48-4c83-af13-27067ec231cd",
   "metadata": {},
   "source": [
    "."
   ]
  },
  {
   "cell_type": "markdown",
   "id": "ad285d26-68c2-46c9-8f26-fee306047c9a",
   "metadata": {},
   "source": [
    "Changed the Units to Metric Tons"
   ]
  },
  {
   "cell_type": "code",
   "execution_count": 13,
   "id": "3fe4574a-eba7-4fdd-ab26-bf50711dcca6",
   "metadata": {},
   "outputs": [],
   "source": [
    "TrimmedUSDAHoney2 = TrimmedUSDAHoney2[TrimmedUSDAHoney2.Unit_Description != '(1000 HEAD)']\n",
    "TrimmedUSDAHoney2 = TrimmedUSDAHoney2[TrimmedUSDAHoney2.Unit_Description != '(MIL PCS)']\n",
    "TrimmedUSDAHoney2.loc[TrimmedUSDAHoney2[\"Unit_Description\"] == \"(1000 60 KG BAGS)\", \"Value\"] = (TrimmedUSDAHoney2.Value * 1000 * .001 * 60)\n",
    "TrimmedUSDAHoney2.loc[TrimmedUSDAHoney2[\"Unit_Description\"] == \"(1000 60 KG BAGS)\", \"Unit_Description\"] = \"(MT)\"\n",
    "TrimmedUSDAHoney2.loc[TrimmedUSDAHoney2[\"Unit_Description\"] == \"(MT, Net Weight)\", \"Unit_Description\"] = \"(MT)\"\n",
    "TrimmedUSDAHoney2.loc[TrimmedUSDAHoney2[\"Unit_Description\"] == \"(1000 MT)\", \"Value\"] = (TrimmedUSDAHoney2.Value * 1000)\n",
    "TrimmedUSDAHoney2.loc[TrimmedUSDAHoney2[\"Unit_Description\"] == \"(1000 MT)\", \"Unit_Description\"] = \"(MT)\"\n",
    "TrimmedUSDAHoney2.loc[TrimmedUSDAHoney2[\"Unit_Description\"] == \"1000 480 lb. Bales\", \"Value\"] = (TrimmedUSDAHoney2.Value * 1000 * .00045 * 480)\n",
    "TrimmedUSDAHoney2.loc[TrimmedUSDAHoney2[\"Unit_Description\"] == \"1000 480 lb. Bales\", \"Unit_Description\"] = \"(MT)\"\n",
    "TrimmedUSDAHoney2.loc[TrimmedUSDAHoney2[\"Unit_Description\"] == \"MT\", \"Unit_Description\"] = \"(MT)\"\n",
    "TrimmedUSDAHoney2.loc[TrimmedUSDAHoney2[\"Unit_Description\"] == \"(1000 MT CWE)\", \"Value\"] = (TrimmedUSDAHoney2.Value * 1000)\n",
    "TrimmedUSDAHoney2.loc[TrimmedUSDAHoney2[\"Unit_Description\"] == \"(1000 MT CWE)\", \"Unit_Description\"] = \"(MT)\""
   ]
  },
  {
   "cell_type": "code",
   "execution_count": 14,
   "id": "28422d76-397a-4ba6-b88e-24b4d96b3fbf",
   "metadata": {},
   "outputs": [
    {
     "data": {
      "text/html": [
       "<div>\n",
       "<style scoped>\n",
       "    .dataframe tbody tr th:only-of-type {\n",
       "        vertical-align: middle;\n",
       "    }\n",
       "\n",
       "    .dataframe tbody tr th {\n",
       "        vertical-align: top;\n",
       "    }\n",
       "\n",
       "    .dataframe thead th {\n",
       "        text-align: right;\n",
       "    }\n",
       "</style>\n",
       "<table border=\"1\" class=\"dataframe\">\n",
       "  <thead>\n",
       "    <tr style=\"text-align: right;\">\n",
       "      <th></th>\n",
       "      <th>Commodity_Description</th>\n",
       "      <th>Country_Code</th>\n",
       "      <th>Year</th>\n",
       "      <th>Attribute_Description</th>\n",
       "      <th>Unit_Description</th>\n",
       "      <th>Value</th>\n",
       "      <th>Category</th>\n",
       "    </tr>\n",
       "  </thead>\n",
       "  <tbody>\n",
       "    <tr>\n",
       "      <th>0</th>\n",
       "      <td>Almonds, Shelled Basis</td>\n",
       "      <td>US</td>\n",
       "      <td>1998</td>\n",
       "      <td>Production</td>\n",
       "      <td>(MT)</td>\n",
       "      <td>235884.00000</td>\n",
       "      <td>4</td>\n",
       "    </tr>\n",
       "    <tr>\n",
       "      <th>1</th>\n",
       "      <td>Almonds, Shelled Basis</td>\n",
       "      <td>US</td>\n",
       "      <td>1999</td>\n",
       "      <td>Production</td>\n",
       "      <td>(MT)</td>\n",
       "      <td>361362.00000</td>\n",
       "      <td>4</td>\n",
       "    </tr>\n",
       "    <tr>\n",
       "      <th>2</th>\n",
       "      <td>Almonds, Shelled Basis</td>\n",
       "      <td>US</td>\n",
       "      <td>2000</td>\n",
       "      <td>Production</td>\n",
       "      <td>(MT)</td>\n",
       "      <td>303700.00000</td>\n",
       "      <td>4</td>\n",
       "    </tr>\n",
       "    <tr>\n",
       "      <th>3</th>\n",
       "      <td>Almonds, Shelled Basis</td>\n",
       "      <td>US</td>\n",
       "      <td>2001</td>\n",
       "      <td>Production</td>\n",
       "      <td>(MT)</td>\n",
       "      <td>376488.00000</td>\n",
       "      <td>4</td>\n",
       "    </tr>\n",
       "    <tr>\n",
       "      <th>4</th>\n",
       "      <td>Almonds, Shelled Basis</td>\n",
       "      <td>US</td>\n",
       "      <td>2002</td>\n",
       "      <td>Production</td>\n",
       "      <td>(MT)</td>\n",
       "      <td>494416.00000</td>\n",
       "      <td>4</td>\n",
       "    </tr>\n",
       "    <tr>\n",
       "      <th>...</th>\n",
       "      <td>...</td>\n",
       "      <td>...</td>\n",
       "      <td>...</td>\n",
       "      <td>...</td>\n",
       "      <td>...</td>\n",
       "      <td>...</td>\n",
       "      <td>...</td>\n",
       "    </tr>\n",
       "    <tr>\n",
       "      <th>8308</th>\n",
       "      <td>Honey</td>\n",
       "      <td>US</td>\n",
       "      <td>2008</td>\n",
       "      <td>Production</td>\n",
       "      <td>(MT)</td>\n",
       "      <td>73922.46948</td>\n",
       "      <td>6</td>\n",
       "    </tr>\n",
       "    <tr>\n",
       "      <th>8309</th>\n",
       "      <td>Honey</td>\n",
       "      <td>US</td>\n",
       "      <td>2009</td>\n",
       "      <td>Production</td>\n",
       "      <td>(MT)</td>\n",
       "      <td>65801.39412</td>\n",
       "      <td>6</td>\n",
       "    </tr>\n",
       "    <tr>\n",
       "      <th>8310</th>\n",
       "      <td>Honey</td>\n",
       "      <td>US</td>\n",
       "      <td>2010</td>\n",
       "      <td>Production</td>\n",
       "      <td>(MT)</td>\n",
       "      <td>79511.60546</td>\n",
       "      <td>6</td>\n",
       "    </tr>\n",
       "    <tr>\n",
       "      <th>8311</th>\n",
       "      <td>Honey</td>\n",
       "      <td>US</td>\n",
       "      <td>2011</td>\n",
       "      <td>Production</td>\n",
       "      <td>(MT)</td>\n",
       "      <td>66768.90159</td>\n",
       "      <td>6</td>\n",
       "    </tr>\n",
       "    <tr>\n",
       "      <th>8312</th>\n",
       "      <td>Honey</td>\n",
       "      <td>US</td>\n",
       "      <td>2012</td>\n",
       "      <td>Production</td>\n",
       "      <td>(MT)</td>\n",
       "      <td>63914.00613</td>\n",
       "      <td>6</td>\n",
       "    </tr>\n",
       "  </tbody>\n",
       "</table>\n",
       "<p>8125 rows × 7 columns</p>\n",
       "</div>"
      ],
      "text/plain": [
       "       Commodity_Description Country_Code  Year Attribute_Description  \\\n",
       "0     Almonds, Shelled Basis           US  1998            Production   \n",
       "1     Almonds, Shelled Basis           US  1999            Production   \n",
       "2     Almonds, Shelled Basis           US  2000            Production   \n",
       "3     Almonds, Shelled Basis           US  2001            Production   \n",
       "4     Almonds, Shelled Basis           US  2002            Production   \n",
       "...                      ...          ...   ...                   ...   \n",
       "8308                   Honey           US  2008            Production   \n",
       "8309                   Honey           US  2009            Production   \n",
       "8310                   Honey           US  2010            Production   \n",
       "8311                   Honey           US  2011            Production   \n",
       "8312                   Honey           US  2012            Production   \n",
       "\n",
       "     Unit_Description         Value  Category  \n",
       "0                (MT)  235884.00000         4  \n",
       "1                (MT)  361362.00000         4  \n",
       "2                (MT)  303700.00000         4  \n",
       "3                (MT)  376488.00000         4  \n",
       "4                (MT)  494416.00000         4  \n",
       "...               ...           ...       ...  \n",
       "8308             (MT)   73922.46948         6  \n",
       "8309             (MT)   65801.39412         6  \n",
       "8310             (MT)   79511.60546         6  \n",
       "8311             (MT)   66768.90159         6  \n",
       "8312             (MT)   63914.00613         6  \n",
       "\n",
       "[8125 rows x 7 columns]"
      ]
     },
     "execution_count": 14,
     "metadata": {},
     "output_type": "execute_result"
    }
   ],
   "source": [
    "TrimmedUSDAHoney2"
   ]
  },
  {
   "cell_type": "code",
   "execution_count": 15,
   "id": "34bb9192-3383-42e7-bf1a-ab4d3a2adb07",
   "metadata": {},
   "outputs": [
    {
     "name": "stdout",
     "output_type": "stream",
     "text": [
      "    Commodity_Description Country_Code  Year Attribute_Description  \\\n",
      "0  Almonds, Shelled Basis           US  1998            Production   \n",
      "1  Almonds, Shelled Basis           US  1999            Production   \n",
      "2  Almonds, Shelled Basis           US  2000            Production   \n",
      "3  Almonds, Shelled Basis           US  2001            Production   \n",
      "4  Almonds, Shelled Basis           US  2002            Production   \n",
      "\n",
      "  Unit_Description     Value  Category  \n",
      "0             (MT)  235884.0         4  \n",
      "1             (MT)  361362.0         4  \n",
      "2             (MT)  303700.0         4  \n",
      "3             (MT)  376488.0         4  \n",
      "4             (MT)  494416.0         4  \n"
     ]
    }
   ],
   "source": [
    "TrimmedUSDAHoney2.dropna(inplace=True)\n",
    "print(TrimmedUSDAHoney2.head())"
   ]
  },
  {
   "cell_type": "markdown",
   "id": "39fceaba-5d92-4c2b-8fb5-8d6c15a92239",
   "metadata": {},
   "source": [
    "."
   ]
  },
  {
   "cell_type": "markdown",
   "id": "a68e4d10-aa35-4edf-8d8c-e018fcbd7e18",
   "metadata": {},
   "source": [
    "Deciding to drop categories 2-5 to remain with dairy and livestock"
   ]
  },
  {
   "cell_type": "markdown",
   "id": "f87bd4c3-984f-473b-b6fd-047d9c66f4cc",
   "metadata": {},
   "source": [
    "."
   ]
  },
  {
   "cell_type": "code",
   "execution_count": 16,
   "id": "706813b3-3ca6-4351-8959-06201f7d39be",
   "metadata": {},
   "outputs": [],
   "source": [
    "TrimmedUSDAHoney2.set_index(\"Category\", inplace=True)"
   ]
  },
  {
   "cell_type": "markdown",
   "id": "49032c3d-dc90-43c3-ba44-4a9a5407e152",
   "metadata": {},
   "source": [
    "."
   ]
  },
  {
   "cell_type": "markdown",
   "id": "ada53abb-85ee-4dea-a08c-120c8c3295f1",
   "metadata": {},
   "source": [
    "Made category my index so i can drop other commodities beyond my own. livestock and dairy"
   ]
  },
  {
   "cell_type": "markdown",
   "id": "7b59fddd-a6fd-408e-86bb-a7c76e3df0d9",
   "metadata": {},
   "source": [
    "."
   ]
  },
  {
   "cell_type": "code",
   "execution_count": 17,
   "id": "68217b50-cc43-4792-a36e-05303a12fa3e",
   "metadata": {},
   "outputs": [
    {
     "data": {
      "text/html": [
       "<div>\n",
       "<style scoped>\n",
       "    .dataframe tbody tr th:only-of-type {\n",
       "        vertical-align: middle;\n",
       "    }\n",
       "\n",
       "    .dataframe tbody tr th {\n",
       "        vertical-align: top;\n",
       "    }\n",
       "\n",
       "    .dataframe thead th {\n",
       "        text-align: right;\n",
       "    }\n",
       "</style>\n",
       "<table border=\"1\" class=\"dataframe\">\n",
       "  <thead>\n",
       "    <tr style=\"text-align: right;\">\n",
       "      <th></th>\n",
       "      <th>Commodity_Description</th>\n",
       "      <th>Country_Code</th>\n",
       "      <th>Year</th>\n",
       "      <th>Attribute_Description</th>\n",
       "      <th>Unit_Description</th>\n",
       "      <th>Value</th>\n",
       "    </tr>\n",
       "    <tr>\n",
       "      <th>Category</th>\n",
       "      <th></th>\n",
       "      <th></th>\n",
       "      <th></th>\n",
       "      <th></th>\n",
       "      <th></th>\n",
       "      <th></th>\n",
       "    </tr>\n",
       "  </thead>\n",
       "  <tbody>\n",
       "    <tr>\n",
       "      <th>4</th>\n",
       "      <td>Almonds, Shelled Basis</td>\n",
       "      <td>US</td>\n",
       "      <td>1998</td>\n",
       "      <td>Production</td>\n",
       "      <td>(MT)</td>\n",
       "      <td>235884.0</td>\n",
       "    </tr>\n",
       "    <tr>\n",
       "      <th>4</th>\n",
       "      <td>Almonds, Shelled Basis</td>\n",
       "      <td>US</td>\n",
       "      <td>1999</td>\n",
       "      <td>Production</td>\n",
       "      <td>(MT)</td>\n",
       "      <td>361362.0</td>\n",
       "    </tr>\n",
       "    <tr>\n",
       "      <th>4</th>\n",
       "      <td>Almonds, Shelled Basis</td>\n",
       "      <td>US</td>\n",
       "      <td>2000</td>\n",
       "      <td>Production</td>\n",
       "      <td>(MT)</td>\n",
       "      <td>303700.0</td>\n",
       "    </tr>\n",
       "    <tr>\n",
       "      <th>4</th>\n",
       "      <td>Almonds, Shelled Basis</td>\n",
       "      <td>US</td>\n",
       "      <td>2001</td>\n",
       "      <td>Production</td>\n",
       "      <td>(MT)</td>\n",
       "      <td>376488.0</td>\n",
       "    </tr>\n",
       "    <tr>\n",
       "      <th>4</th>\n",
       "      <td>Almonds, Shelled Basis</td>\n",
       "      <td>US</td>\n",
       "      <td>2002</td>\n",
       "      <td>Production</td>\n",
       "      <td>(MT)</td>\n",
       "      <td>494416.0</td>\n",
       "    </tr>\n",
       "  </tbody>\n",
       "</table>\n",
       "</div>"
      ],
      "text/plain": [
       "           Commodity_Description Country_Code  Year Attribute_Description  \\\n",
       "Category                                                                    \n",
       "4         Almonds, Shelled Basis           US  1998            Production   \n",
       "4         Almonds, Shelled Basis           US  1999            Production   \n",
       "4         Almonds, Shelled Basis           US  2000            Production   \n",
       "4         Almonds, Shelled Basis           US  2001            Production   \n",
       "4         Almonds, Shelled Basis           US  2002            Production   \n",
       "\n",
       "         Unit_Description     Value  \n",
       "Category                             \n",
       "4                    (MT)  235884.0  \n",
       "4                    (MT)  361362.0  \n",
       "4                    (MT)  303700.0  \n",
       "4                    (MT)  376488.0  \n",
       "4                    (MT)  494416.0  "
      ]
     },
     "execution_count": 17,
     "metadata": {},
     "output_type": "execute_result"
    }
   ],
   "source": [
    "TrimmedUSDAHoney2.head()"
   ]
  },
  {
   "cell_type": "code",
   "execution_count": 18,
   "id": "cb1589c9-19de-4498-a788-f7f161573b5e",
   "metadata": {},
   "outputs": [
    {
     "data": {
      "text/html": [
       "<div>\n",
       "<style scoped>\n",
       "    .dataframe tbody tr th:only-of-type {\n",
       "        vertical-align: middle;\n",
       "    }\n",
       "\n",
       "    .dataframe tbody tr th {\n",
       "        vertical-align: top;\n",
       "    }\n",
       "\n",
       "    .dataframe thead th {\n",
       "        text-align: right;\n",
       "    }\n",
       "</style>\n",
       "<table border=\"1\" class=\"dataframe\">\n",
       "  <thead>\n",
       "    <tr style=\"text-align: right;\">\n",
       "      <th></th>\n",
       "      <th>Commodity_Description</th>\n",
       "      <th>Country_Code</th>\n",
       "      <th>Year</th>\n",
       "      <th>Attribute_Description</th>\n",
       "      <th>Unit_Description</th>\n",
       "      <th>Value</th>\n",
       "    </tr>\n",
       "    <tr>\n",
       "      <th>Category</th>\n",
       "      <th></th>\n",
       "      <th></th>\n",
       "      <th></th>\n",
       "      <th></th>\n",
       "      <th></th>\n",
       "      <th></th>\n",
       "    </tr>\n",
       "  </thead>\n",
       "  <tbody>\n",
       "    <tr>\n",
       "      <th>6</th>\n",
       "      <td>Honey</td>\n",
       "      <td>US</td>\n",
       "      <td>2008</td>\n",
       "      <td>Production</td>\n",
       "      <td>(MT)</td>\n",
       "      <td>73922.46948</td>\n",
       "    </tr>\n",
       "    <tr>\n",
       "      <th>6</th>\n",
       "      <td>Honey</td>\n",
       "      <td>US</td>\n",
       "      <td>2009</td>\n",
       "      <td>Production</td>\n",
       "      <td>(MT)</td>\n",
       "      <td>65801.39412</td>\n",
       "    </tr>\n",
       "    <tr>\n",
       "      <th>6</th>\n",
       "      <td>Honey</td>\n",
       "      <td>US</td>\n",
       "      <td>2010</td>\n",
       "      <td>Production</td>\n",
       "      <td>(MT)</td>\n",
       "      <td>79511.60546</td>\n",
       "    </tr>\n",
       "    <tr>\n",
       "      <th>6</th>\n",
       "      <td>Honey</td>\n",
       "      <td>US</td>\n",
       "      <td>2011</td>\n",
       "      <td>Production</td>\n",
       "      <td>(MT)</td>\n",
       "      <td>66768.90159</td>\n",
       "    </tr>\n",
       "    <tr>\n",
       "      <th>6</th>\n",
       "      <td>Honey</td>\n",
       "      <td>US</td>\n",
       "      <td>2012</td>\n",
       "      <td>Production</td>\n",
       "      <td>(MT)</td>\n",
       "      <td>63914.00613</td>\n",
       "    </tr>\n",
       "  </tbody>\n",
       "</table>\n",
       "</div>"
      ],
      "text/plain": [
       "         Commodity_Description Country_Code  Year Attribute_Description  \\\n",
       "Category                                                                  \n",
       "6                        Honey           US  2008            Production   \n",
       "6                        Honey           US  2009            Production   \n",
       "6                        Honey           US  2010            Production   \n",
       "6                        Honey           US  2011            Production   \n",
       "6                        Honey           US  2012            Production   \n",
       "\n",
       "         Unit_Description        Value  \n",
       "Category                                \n",
       "6                    (MT)  73922.46948  \n",
       "6                    (MT)  65801.39412  \n",
       "6                    (MT)  79511.60546  \n",
       "6                    (MT)  66768.90159  \n",
       "6                    (MT)  63914.00613  "
      ]
     },
     "execution_count": 18,
     "metadata": {},
     "output_type": "execute_result"
    }
   ],
   "source": [
    "TrimmedUSDAHoney2.tail()"
   ]
  },
  {
   "cell_type": "markdown",
   "id": "03876693-7597-4994-875e-d3dceb13fa37",
   "metadata": {},
   "source": [
    "."
   ]
  },
  {
   "cell_type": "markdown",
   "id": "712849f6-a136-4b2d-b044-6cb9e13cc510",
   "metadata": {},
   "source": [
    "Dropping other commodities"
   ]
  },
  {
   "cell_type": "markdown",
   "id": "b105db09-0783-43a7-a90a-eb6b0025762b",
   "metadata": {},
   "source": [
    "."
   ]
  },
  {
   "cell_type": "code",
   "execution_count": 19,
   "id": "00212f06-6bc8-48aa-933b-d8a2b51af02e",
   "metadata": {},
   "outputs": [],
   "source": [
    "TrimmedUSDAHoney2.drop(4, inplace=True)"
   ]
  },
  {
   "cell_type": "code",
   "execution_count": 20,
   "id": "e6c2daf4-6ee9-4415-b7be-8ea6181a4b71",
   "metadata": {},
   "outputs": [],
   "source": [
    "TrimmedUSDAHoney2.drop(2, inplace=True)"
   ]
  },
  {
   "cell_type": "code",
   "execution_count": 21,
   "id": "d94d6072-293e-449d-8f4d-729b52ccc443",
   "metadata": {},
   "outputs": [],
   "source": [
    "TrimmedUSDAHoney2.drop(3, inplace=True)"
   ]
  },
  {
   "cell_type": "code",
   "execution_count": 22,
   "id": "aa2aaa8c-9fea-4134-8fb0-f83a2babb105",
   "metadata": {},
   "outputs": [],
   "source": [
    "TrimmedUSDAHoney2.drop(5, inplace=True)"
   ]
  },
  {
   "cell_type": "markdown",
   "id": "7795c3f9-68b2-42e4-8fb5-a323e40ad8a8",
   "metadata": {},
   "source": [
    "."
   ]
  },
  {
   "cell_type": "markdown",
   "id": "762d3a37-2c4a-4015-b61a-026e3268e15f",
   "metadata": {},
   "source": [
    "Making sure it worked."
   ]
  },
  {
   "cell_type": "markdown",
   "id": "9fad476c-e6e2-4133-ac76-6f8ba5392a4f",
   "metadata": {},
   "source": [
    "."
   ]
  },
  {
   "cell_type": "code",
   "execution_count": 23,
   "id": "4f6c11ec-b7be-472b-aa05-4a552ccee2c4",
   "metadata": {},
   "outputs": [
    {
     "name": "stdout",
     "output_type": "stream",
     "text": [
      "                 Commodity_Description Country_Code  Year Attribute_Description Unit_Description         Value\n",
      "Category                                                                                                      \n",
      "1                        Dairy, Butter           US  1998            Production             (MT)  5.300000e+05\n",
      "1                        Dairy, Butter           US  1999            Production             (MT)  5.790000e+05\n",
      "1                        Dairy, Butter           US  2000            Production             (MT)  5.700000e+05\n",
      "1                        Dairy, Butter           US  2001            Production             (MT)  5.590000e+05\n",
      "1                        Dairy, Butter           US  2002            Production             (MT)  6.150000e+05\n",
      "1                        Dairy, Butter           US  2003            Production             (MT)  5.630000e+05\n",
      "1                        Dairy, Butter           US  2004            Production             (MT)  5.670000e+05\n",
      "1                        Dairy, Butter           US  2005            Production             (MT)  6.110000e+05\n",
      "1                        Dairy, Butter           US  2006            Production             (MT)  6.600000e+05\n",
      "1                        Dairy, Cheese           US  1998            Production             (MT)  3.398000e+06\n",
      "1                        Dairy, Cheese           US  1999            Production             (MT)  3.581000e+06\n",
      "1                        Dairy, Cheese           US  2000            Production             (MT)  3.746000e+06\n",
      "1                        Dairy, Cheese           US  2001            Production             (MT)  3.747000e+06\n",
      "1                        Dairy, Cheese           US  2002            Production             (MT)  3.877000e+06\n",
      "1                        Dairy, Cheese           US  2003            Production             (MT)  3.881000e+06\n",
      "1                        Dairy, Cheese           US  2004            Production             (MT)  4.026000e+06\n",
      "1                        Dairy, Cheese           US  2005            Production             (MT)  4.140000e+06\n",
      "1                        Dairy, Cheese           US  2006            Production             (MT)  4.240000e+06\n",
      "1         Dairy, Dry Whole Milk Powder           US  1998            Production             (MT)  6.500000e+04\n",
      "1         Dairy, Dry Whole Milk Powder           US  1999            Production             (MT)  5.400000e+04\n",
      "1         Dairy, Dry Whole Milk Powder           US  2000            Production             (MT)  5.000000e+04\n",
      "1         Dairy, Dry Whole Milk Powder           US  2001            Production             (MT)  1.900000e+04\n",
      "1         Dairy, Dry Whole Milk Powder           US  2002            Production             (MT)  2.100000e+04\n",
      "1         Dairy, Dry Whole Milk Powder           US  2003            Production             (MT)  1.800000e+04\n",
      "1         Dairy, Dry Whole Milk Powder           US  2004            Production             (MT)  1.900000e+04\n",
      "1         Dairy, Dry Whole Milk Powder           US  2005            Production             (MT)  1.500000e+04\n",
      "1         Dairy, Dry Whole Milk Powder           US  2006            Production             (MT)  1.000000e+04\n",
      "1                   Dairy, Milk, Fluid           US  1998            Production             (MT)  7.133400e+07\n",
      "1                   Dairy, Milk, Fluid           US  1999            Production             (MT)  7.375000e+07\n",
      "1                   Dairy, Milk, Fluid           US  2000            Production             (MT)  7.592900e+07\n",
      "1                   Dairy, Milk, Fluid           US  2001            Production             (MT)  7.499400e+07\n",
      "1                   Dairy, Milk, Fluid           US  2002            Production             (MT)  7.714000e+07\n",
      "1                   Dairy, Milk, Fluid           US  2003            Production             (MT)  7.729000e+07\n",
      "1                   Dairy, Milk, Fluid           US  2004            Production             (MT)  7.753500e+07\n",
      "1                   Dairy, Milk, Fluid           US  2005            Production             (MT)  8.028200e+07\n",
      "1                   Dairy, Milk, Fluid           US  2006            Production             (MT)  8.258200e+07\n",
      "1              Dairy, Milk, Nonfat Dry           US  1998            Production             (MT)  5.150000e+05\n",
      "1              Dairy, Milk, Nonfat Dry           US  1999            Production             (MT)  6.170000e+05\n",
      "1              Dairy, Milk, Nonfat Dry           US  2000            Production             (MT)  6.590000e+05\n",
      "1              Dairy, Milk, Nonfat Dry           US  2001            Production             (MT)  6.410000e+05\n",
      "1              Dairy, Milk, Nonfat Dry           US  2002            Production             (MT)  7.240000e+05\n",
      "1              Dairy, Milk, Nonfat Dry           US  2003            Production             (MT)  7.210000e+05\n",
      "1              Dairy, Milk, Nonfat Dry           US  2004            Production             (MT)  6.380000e+05\n",
      "1              Dairy, Milk, Nonfat Dry           US  2005            Production             (MT)  7.400000e+05\n",
      "1              Dairy, Milk, Nonfat Dry           US  2006            Production             (MT)  7.900000e+05\n",
      "1                  Meat, Beef and Veal           US  1998            Production             (MT)  1.180400e+07\n",
      "1                  Meat, Beef and Veal           US  1999            Production             (MT)  1.212400e+07\n",
      "1                  Meat, Beef and Veal           US  2000            Production             (MT)  1.229800e+07\n",
      "1                  Meat, Beef and Veal           US  2001            Production             (MT)  1.198300e+07\n",
      "1                  Meat, Beef and Veal           US  2002            Production             (MT)  1.242700e+07\n",
      "1                  Meat, Beef and Veal           US  2003            Production             (MT)  1.203900e+07\n",
      "1                  Meat, Beef and Veal           US  2004            Production             (MT)  1.126100e+07\n",
      "1                  Meat, Beef and Veal           US  2005            Production             (MT)  1.131700e+07\n",
      "1                  Meat, Beef and Veal           US  2006            Production             (MT)  1.189100e+07\n",
      "1                          Meat, Swine           US  1998            Production             (MT)  8.623000e+06\n",
      "1                          Meat, Swine           US  1999            Production             (MT)  8.758000e+06\n",
      "1                          Meat, Swine           US  2000            Production             (MT)  8.596000e+06\n",
      "1                          Meat, Swine           US  2001            Production             (MT)  8.691000e+06\n",
      "1                          Meat, Swine           US  2002            Production             (MT)  8.929000e+06\n",
      "1                          Meat, Swine           US  2003            Production             (MT)  9.056000e+06\n",
      "1                          Meat, Swine           US  2004            Production             (MT)  9.312000e+06\n",
      "1                          Meat, Swine           US  2005            Production             (MT)  9.392000e+06\n",
      "1                          Meat, Swine           US  2006            Production             (MT)  9.632000e+06\n",
      "1               Poultry, Meat, Broiler           US  1998            Production             (MT)  1.252500e+07\n",
      "1               Poultry, Meat, Broiler           US  1999            Production             (MT)  1.336700e+07\n",
      "1               Poultry, Meat, Broiler           US  2000            Production             (MT)  1.370300e+07\n",
      "1               Poultry, Meat, Broiler           US  2001            Production             (MT)  1.403300e+07\n",
      "1               Poultry, Meat, Broiler           US  2002            Production             (MT)  1.446700e+07\n",
      "1               Poultry, Meat, Broiler           US  2003            Production             (MT)  1.469600e+07\n",
      "1               Poultry, Meat, Broiler           US  2004            Production             (MT)  1.528600e+07\n",
      "1               Poultry, Meat, Broiler           US  2005            Production             (MT)  1.587000e+07\n",
      "1               Poultry, Meat, Broiler           US  2006            Production             (MT)  1.623300e+07\n",
      "1                Poultry, Meat, Turkey           US  1998            Production             (MT)  2.365000e+06\n",
      "1                Poultry, Meat, Turkey           US  1999            Production             (MT)  2.372000e+06\n",
      "1                Poultry, Meat, Turkey           US  2000            Production             (MT)  2.419000e+06\n",
      "1                Poultry, Meat, Turkey           US  2001            Production             (MT)  2.490000e+06\n",
      "1                Poultry, Meat, Turkey           US  2002            Production             (MT)  2.557000e+06\n",
      "1                Poultry, Meat, Turkey           US  2003            Production             (MT)  2.529000e+06\n",
      "1                Poultry, Meat, Turkey           US  2004            Production             (MT)  2.441000e+06\n",
      "1                Poultry, Meat, Turkey           US  2005            Production             (MT)  2.464000e+06\n",
      "1                Poultry, Meat, Turkey           US  2006            Production             (MT)  2.496000e+06\n",
      "1                  Meat, Beef and Veal           US  2005            Production             (MT)  1.131700e+07\n",
      "1                  Meat, Beef and Veal           US  2006            Production             (MT)  1.189700e+07\n",
      "1                  Meat, Beef and Veal           US  2007            Production             (MT)  1.216800e+07\n",
      "1                          Meat, Swine           US  2005            Production             (MT)  9.392000e+06\n",
      "1                          Meat, Swine           US  2006            Production             (MT)  9.543000e+06\n",
      "1                          Meat, Swine           US  2007            Production             (MT)  9.809000e+06\n",
      "1               Poultry, Meat, Broiler           US  2004            Production             (MT)  1.528600e+07\n",
      "1               Poultry, Meat, Broiler           US  2005            Production             (MT)  1.586900e+07\n",
      "1               Poultry, Meat, Broiler           US  2006            Production             (MT)  1.616200e+07\n",
      "1               Poultry, Meat, Broiler           US  2007            Production             (MT)  1.641300e+07\n",
      "1                Poultry, Meat, Turkey           US  2005            Production             (MT)  2.464000e+06\n",
      "1                Poultry, Meat, Turkey           US  2006            Production             (MT)  2.529000e+06\n",
      "1                Poultry, Meat, Turkey           US  2007            Production             (MT)  2.565000e+06\n",
      "1                        Dairy, Butter           US  2004            Production             (MT)  5.660000e+05\n",
      "1                        Dairy, Butter           US  2005            Production             (MT)  6.110000e+05\n",
      "1                        Dairy, Butter           US  2006            Production             (MT)  6.500000e+05\n",
      "1                        Dairy, Butter           US  2007            Production             (MT)  6.550000e+05\n",
      "1                        Dairy, Cheese           US  2005            Production             (MT)  4.140000e+06\n",
      "1                        Dairy, Cheese           US  2006            Production             (MT)  4.290000e+06\n",
      "1                        Dairy, Cheese           US  2007            Production             (MT)  4.360000e+06\n",
      "1         Dairy, Dry Whole Milk Powder           US  2006            Production             (MT)  1.300000e+04\n",
      "1         Dairy, Dry Whole Milk Powder           US  2007            Production             (MT)  1.200000e+04\n",
      "1                   Dairy, Milk, Fluid           US  2005            Production             (MT)  8.028600e+07\n",
      "1                   Dairy, Milk, Fluid           US  2006            Production             (MT)  8.250800e+07\n",
      "1                   Dairy, Milk, Fluid           US  2007            Production             (MT)  8.300700e+07\n",
      "1              Dairy, Milk, Nonfat Dry           US  2005            Production             (MT)  6.840000e+05\n",
      "1              Dairy, Milk, Nonfat Dry           US  2006            Production             (MT)  6.900000e+05\n",
      "1              Dairy, Milk, Nonfat Dry           US  2007            Production             (MT)  7.000000e+05\n",
      "1                  Meat, Beef and Veal           US  2005            Production             (MT)  1.131800e+07\n",
      "1                  Meat, Beef and Veal           US  2006            Production             (MT)  1.198100e+07\n",
      "1                  Meat, Beef and Veal           US  2007            Production             (MT)  1.206200e+07\n",
      "1                          Meat, Swine           US  2005            Production             (MT)  9.392000e+06\n",
      "1                          Meat, Swine           US  2006            Production             (MT)  9.559000e+06\n",
      "1                          Meat, Swine           US  2007            Production             (MT)  9.795000e+06\n",
      "1               Poultry, Meat, Broiler           US  2004            Production             (MT)  1.528600e+07\n",
      "1               Poultry, Meat, Broiler           US  2005            Production             (MT)  1.587000e+07\n",
      "1               Poultry, Meat, Broiler           US  2006            Production             (MT)  1.604300e+07\n",
      "1               Poultry, Meat, Broiler           US  2007            Production             (MT)  1.596400e+07\n",
      "1                        Dairy, Butter           US  2003            Production             (MT)  5.640000e+05\n",
      "1                        Dairy, Butter           US  2004            Production             (MT)  5.650000e+05\n",
      "1                        Dairy, Butter           US  2005            Production             (MT)  6.110000e+05\n",
      "1                        Dairy, Butter           US  2006            Production             (MT)  6.570000e+05\n",
      "1                        Dairy, Butter           US  2007            Production             (MT)  6.560000e+05\n",
      "1                        Dairy, Cheese           US  2003            Production             (MT)  3.882000e+06\n",
      "1                        Dairy, Cheese           US  2004            Production             (MT)  4.025000e+06\n",
      "1                        Dairy, Cheese           US  2005            Production             (MT)  4.150000e+06\n",
      "1                        Dairy, Cheese           US  2006            Production             (MT)  4.325000e+06\n",
      "1                        Dairy, Cheese           US  2007            Production             (MT)  4.412000e+06\n",
      "1         Dairy, Dry Whole Milk Powder           US  2005            Production             (MT)  1.500000e+04\n",
      "1         Dairy, Dry Whole Milk Powder           US  2006            Production             (MT)  1.400000e+04\n",
      "1         Dairy, Dry Whole Milk Powder           US  2007            Production             (MT)  1.700000e+04\n",
      "1                   Dairy, Milk, Fluid           US  2004            Production             (MT)  7.753400e+07\n",
      "1                   Dairy, Milk, Fluid           US  2005            Production             (MT)  8.025400e+07\n",
      "1                   Dairy, Milk, Fluid           US  2006            Production             (MT)  8.246200e+07\n",
      "1                   Dairy, Milk, Fluid           US  2007            Production             (MT)  8.358100e+07\n",
      "1              Dairy, Milk, Nonfat Dry           US  2004            Production             (MT)  6.410000e+05\n",
      "1              Dairy, Milk, Nonfat Dry           US  2005            Production             (MT)  6.950000e+05\n",
      "1              Dairy, Milk, Nonfat Dry           US  2006            Production             (MT)  6.860000e+05\n",
      "1              Dairy, Milk, Nonfat Dry           US  2007            Production             (MT)  6.520000e+05\n",
      "1                  Meat, Beef and Veal           US  2005            Production             (MT)  1.131800e+07\n",
      "1                  Meat, Beef and Veal           US  2006            Production             (MT)  1.198100e+07\n",
      "1                  Meat, Beef and Veal           US  2007            Production             (MT)  1.196900e+07\n",
      "1                  Meat, Beef and Veal           US  2008            Production             (MT)  1.191100e+07\n",
      "1                          Meat, Swine           US  2005            Production             (MT)  9.392000e+06\n",
      "1                          Meat, Swine           US  2007            Production             (MT)  9.877000e+06\n",
      "1                          Meat, Swine           US  2008            Production             (MT)  1.010800e+07\n",
      "1               Poultry, Meat, Broiler           US  2006            Production             (MT)  1.604300e+07\n",
      "1               Poultry, Meat, Broiler           US  2007            Production             (MT)  1.607600e+07\n",
      "1               Poultry, Meat, Broiler           US  2008            Production             (MT)  1.653600e+07\n",
      "1                Poultry, Meat, Turkey           US  2005            Production             (MT)  2.464000e+06\n",
      "1                Poultry, Meat, Turkey           US  2006            Production             (MT)  2.545000e+06\n",
      "1                Poultry, Meat, Turkey           US  2007            Production             (MT)  2.638000e+06\n",
      "1                Poultry, Meat, Turkey           US  2008            Production             (MT)  2.659000e+06\n",
      "1                        Dairy, Butter           US  2007            Production             (MT)  6.930000e+05\n",
      "1                        Dairy, Butter           US  2008            Production             (MT)  7.110000e+05\n",
      "1                        Dairy, Cheese           US  2004            Production             (MT)  4.025000e+06\n",
      "1                        Dairy, Cheese           US  2005            Production             (MT)  4.150000e+06\n",
      "1                        Dairy, Cheese           US  2006            Production             (MT)  4.325000e+06\n",
      "1                        Dairy, Cheese           US  2007            Production             (MT)  4.389000e+06\n",
      "1                        Dairy, Cheese           US  2008            Production             (MT)  4.461000e+06\n",
      "1         Dairy, Dry Whole Milk Powder           US  2005            Production             (MT)  1.400000e+04\n",
      "1         Dairy, Dry Whole Milk Powder           US  2007            Production             (MT)  1.400000e+04\n",
      "1         Dairy, Dry Whole Milk Powder           US  2008            Production             (MT)  1.600000e+04\n",
      "1                   Dairy, Milk, Fluid           US  1998            Production             (MT)  7.133400e+07\n",
      "1                   Dairy, Milk, Fluid           US  1999            Production             (MT)  7.375000e+07\n",
      "1                   Dairy, Milk, Fluid           US  2000            Production             (MT)  7.592900e+07\n",
      "1                   Dairy, Milk, Fluid           US  2001            Production             (MT)  7.499400e+07\n",
      "1                   Dairy, Milk, Fluid           US  2002            Production             (MT)  7.714000e+07\n",
      "1                   Dairy, Milk, Fluid           US  2003            Production             (MT)  7.728900e+07\n",
      "1                   Dairy, Milk, Fluid           US  2004            Production             (MT)  7.753400e+07\n",
      "1                   Dairy, Milk, Fluid           US  2005            Production             (MT)  8.025400e+07\n",
      "1                   Dairy, Milk, Fluid           US  2006            Production             (MT)  8.246200e+07\n",
      "1                   Dairy, Milk, Fluid           US  2007            Production             (MT)  8.409500e+07\n",
      "1                   Dairy, Milk, Fluid           US  2008            Production             (MT)  8.641000e+07\n",
      "1              Dairy, Milk, Nonfat Dry           US  2007            Production             (MT)  6.640000e+05\n",
      "1              Dairy, Milk, Nonfat Dry           US  2008            Production             (MT)  6.800000e+05\n",
      "1                  Meat, Beef and Veal           US  2005            Production             (MT)  1.131800e+07\n",
      "1                  Meat, Beef and Veal           US  2006            Production             (MT)  1.198100e+07\n",
      "1                  Meat, Beef and Veal           US  2007            Production             (MT)  1.209600e+07\n",
      "1                  Meat, Beef and Veal           US  2008            Production             (MT)  1.217100e+07\n",
      "1                          Meat, Swine           US  2004            Production             (MT)  9.312000e+06\n",
      "1                          Meat, Swine           US  2005            Production             (MT)  9.392000e+06\n",
      "1                          Meat, Swine           US  2006            Production             (MT)  9.559000e+06\n",
      "1                          Meat, Swine           US  2007            Production             (MT)  9.962000e+06\n",
      "1                          Meat, Swine           US  2008            Production             (MT)  1.068400e+07\n",
      "1               Poultry, Meat, Broiler           US  2006            Production             (MT)  1.593000e+07\n",
      "1               Poultry, Meat, Broiler           US  2007            Production             (MT)  1.621100e+07\n",
      "1               Poultry, Meat, Broiler           US  2008            Production             (MT)  1.655800e+07\n",
      "1                Poultry, Meat, Turkey           US  2006            Production             (MT)  2.543000e+06\n",
      "1                Poultry, Meat, Turkey           US  2007            Production             (MT)  2.667000e+06\n",
      "1                Poultry, Meat, Turkey           US  2008            Production             (MT)  2.760000e+06\n",
      "1                        Dairy, Butter           US  2007            Production             (MT)  6.950000e+05\n",
      "1                        Dairy, Butter           US  2008            Production             (MT)  7.400000e+05\n",
      "1                        Dairy, Cheese           US  2004            Production             (MT)  4.025000e+06\n",
      "1                        Dairy, Cheese           US  2005            Production             (MT)  4.150000e+06\n",
      "1                        Dairy, Cheese           US  2006            Production             (MT)  4.320000e+06\n",
      "1                        Dairy, Cheese           US  2007            Production             (MT)  4.400000e+06\n",
      "1                        Dairy, Cheese           US  2008            Production             (MT)  4.480000e+06\n",
      "1         Dairy, Dry Whole Milk Powder           US  2008            Production             (MT)  1.900000e+04\n",
      "1                   Dairy, Milk, Fluid           US  2005            Production             (MT)  8.025400e+07\n",
      "1                   Dairy, Milk, Fluid           US  2006            Production             (MT)  8.246200e+07\n",
      "1                   Dairy, Milk, Fluid           US  2007            Production             (MT)  8.418800e+07\n",
      "1                   Dairy, Milk, Fluid           US  2008            Production             (MT)  8.594700e+07\n",
      "1                   Dairy, Milk, Fluid           US  2009            Production             (MT)  8.633900e+07\n",
      "1              Dairy, Milk, Nonfat Dry           US  2006            Production             (MT)  6.560000e+05\n",
      "1              Dairy, Milk, Nonfat Dry           US  2007            Production             (MT)  6.810000e+05\n",
      "1              Dairy, Milk, Nonfat Dry           US  2008            Production             (MT)  8.100000e+05\n",
      "1                  Meat, Beef and Veal           US  2006            Production             (MT)  1.198000e+07\n",
      "1                  Meat, Beef and Veal           US  2007            Production             (MT)  1.209600e+07\n",
      "1                  Meat, Beef and Veal           US  2008            Production             (MT)  1.222600e+07\n",
      "1                  Meat, Beef and Veal           US  2009            Production             (MT)  1.220300e+07\n",
      "1                          Meat, Swine           US  2002            Production             (MT)  8.929000e+06\n",
      "1                          Meat, Swine           US  2003            Production             (MT)  9.056000e+06\n",
      "1                          Meat, Swine           US  2005            Production             (MT)  9.392000e+06\n",
      "1                          Meat, Swine           US  2006            Production             (MT)  9.559000e+06\n",
      "1                          Meat, Swine           US  2007            Production             (MT)  9.962000e+06\n",
      "1                          Meat, Swine           US  2008            Production             (MT)  1.068200e+07\n",
      "1                          Meat, Swine           US  2009            Production             (MT)  1.050700e+07\n",
      "1               Poultry, Meat, Broiler           US  2001            Production             (MT)  1.403300e+07\n",
      "1               Poultry, Meat, Broiler           US  2002            Production             (MT)  1.446700e+07\n",
      "1               Poultry, Meat, Broiler           US  2003            Production             (MT)  1.469600e+07\n",
      "1               Poultry, Meat, Broiler           US  2004            Production             (MT)  1.528600e+07\n",
      "1               Poultry, Meat, Broiler           US  2005            Production             (MT)  1.587000e+07\n",
      "1               Poultry, Meat, Broiler           US  2006            Production             (MT)  1.593000e+07\n",
      "1               Poultry, Meat, Broiler           US  2007            Production             (MT)  1.621100e+07\n",
      "1               Poultry, Meat, Broiler           US  2008            Production             (MT)  1.667700e+07\n",
      "1               Poultry, Meat, Broiler           US  2009            Production             (MT)  1.648700e+07\n",
      "1                Poultry, Meat, Turkey           US  2005            Production             (MT)  2.464000e+06\n",
      "1                Poultry, Meat, Turkey           US  2007            Production             (MT)  2.667000e+06\n",
      "1                Poultry, Meat, Turkey           US  2008            Production             (MT)  2.801000e+06\n",
      "1                Poultry, Meat, Turkey           US  2009            Production             (MT)  2.733000e+06\n",
      "1                        Dairy, Butter           US  2004            Production             (MT)  5.680000e+05\n",
      "1                        Dairy, Butter           US  2005            Production             (MT)  6.150000e+05\n",
      "1                        Dairy, Butter           US  2006            Production             (MT)  6.590000e+05\n",
      "1                        Dairy, Butter           US  2007            Production             (MT)  7.040000e+05\n",
      "1                        Dairy, Butter           US  2008            Production             (MT)  7.510000e+05\n",
      "1                        Dairy, Butter           US  2009            Production             (MT)  7.400000e+05\n",
      "1                        Dairy, Cheese           US  2008            Production             (MT)  4.465000e+06\n",
      "1                        Dairy, Cheese           US  2009            Production             (MT)  4.595000e+06\n",
      "1         Dairy, Dry Whole Milk Powder           US  2001            Production             (MT)  1.900000e+04\n",
      "1         Dairy, Dry Whole Milk Powder           US  2002            Production             (MT)  2.100000e+04\n",
      "1         Dairy, Dry Whole Milk Powder           US  2003            Production             (MT)  1.800000e+04\n",
      "1         Dairy, Dry Whole Milk Powder           US  2004            Production             (MT)  1.900000e+04\n",
      "1         Dairy, Dry Whole Milk Powder           US  2005            Production             (MT)  1.400000e+04\n",
      "1         Dairy, Dry Whole Milk Powder           US  2006            Production             (MT)  1.400000e+04\n",
      "1         Dairy, Dry Whole Milk Powder           US  2007            Production             (MT)  1.400000e+04\n",
      "1         Dairy, Dry Whole Milk Powder           US  2008            Production             (MT)  1.900000e+04\n",
      "1         Dairy, Dry Whole Milk Powder           US  2009            Production             (MT)  2.000000e+04\n",
      "1                   Dairy, Milk, Fluid           US  2007            Production             (MT)  8.418800e+07\n",
      "1                   Dairy, Milk, Fluid           US  2008            Production             (MT)  8.602600e+07\n",
      "1                   Dairy, Milk, Fluid           US  2009            Production             (MT)  8.681700e+07\n",
      "1              Dairy, Milk, Nonfat Dry           US  2008            Production             (MT)  8.400000e+05\n",
      "1              Dairy, Milk, Nonfat Dry           US  2009            Production             (MT)  7.900000e+05\n",
      "1                  Meat, Beef and Veal           US  1998            Production             (MT)  1.180400e+07\n",
      "1                  Meat, Beef and Veal           US  2008            Production             (MT)  1.216300e+07\n",
      "1                  Meat, Beef and Veal           US  2009            Production             (MT)  1.210500e+07\n",
      "1                          Meat, Swine           US  1999            Production             (MT)  8.758000e+06\n",
      "1                          Meat, Swine           US  2001            Production             (MT)  8.691000e+06\n",
      "1                          Meat, Swine           US  2002            Production             (MT)  8.929000e+06\n",
      "1                          Meat, Swine           US  2003            Production             (MT)  9.056000e+06\n",
      "1                          Meat, Swine           US  2004            Production             (MT)  9.313000e+06\n",
      "1                          Meat, Swine           US  2005            Production             (MT)  9.392000e+06\n",
      "1                          Meat, Swine           US  2006            Production             (MT)  9.559000e+06\n",
      "1                          Meat, Swine           US  2007            Production             (MT)  9.962000e+06\n",
      "1                          Meat, Swine           US  2008            Production             (MT)  1.059900e+07\n",
      "1                          Meat, Swine           US  2009            Production             (MT)  1.033900e+07\n",
      "1               Poultry, Meat, Broiler           US  2007            Production             (MT)  1.622500e+07\n",
      "1               Poultry, Meat, Broiler           US  2008            Production             (MT)  1.656100e+07\n",
      "1               Poultry, Meat, Broiler           US  2009            Production             (MT)  1.591900e+07\n",
      "1                Poultry, Meat, Turkey           US  2007            Production             (MT)  2.664000e+06\n",
      "1                Poultry, Meat, Turkey           US  2008            Production             (MT)  2.796000e+06\n",
      "1                Poultry, Meat, Turkey           US  2009            Production             (MT)  2.596000e+06\n",
      "1                        Dairy, Butter           US  2004            Production             (MT)  5.650000e+05\n",
      "1                        Dairy, Butter           US  2005            Production             (MT)  6.110000e+05\n",
      "1                        Dairy, Butter           US  2006            Production             (MT)  6.570000e+05\n",
      "1                        Dairy, Butter           US  2007            Production             (MT)  6.950000e+05\n",
      "1                        Dairy, Butter           US  2008            Production             (MT)  7.460000e+05\n",
      "1                        Dairy, Butter           US  2009            Production             (MT)  7.300000e+05\n",
      "1                        Dairy, Cheese           US  2000            Production             (MT)  3.746000e+06\n",
      "1                        Dairy, Cheese           US  2001            Production             (MT)  3.747000e+06\n",
      "1                        Dairy, Cheese           US  2002            Production             (MT)  3.877000e+06\n",
      "1                        Dairy, Cheese           US  2003            Production             (MT)  3.882000e+06\n",
      "1                        Dairy, Cheese           US  2004            Production             (MT)  4.025000e+06\n",
      "1                        Dairy, Cheese           US  2005            Production             (MT)  4.150000e+06\n",
      "1                        Dairy, Cheese           US  2007            Production             (MT)  4.435000e+06\n",
      "1                        Dairy, Cheese           US  2008            Production             (MT)  4.506000e+06\n",
      "1                        Dairy, Cheese           US  2009            Production             (MT)  4.540000e+06\n",
      "1         Dairy, Dry Whole Milk Powder           US  2005            Production             (MT)  1.500000e+04\n",
      "1         Dairy, Dry Whole Milk Powder           US  2008            Production             (MT)  2.300000e+04\n",
      "1         Dairy, Dry Whole Milk Powder           US  2009            Production             (MT)  2.000000e+04\n",
      "1                   Dairy, Milk, Fluid           US  1998            Production             (MT)  7.133300e+07\n",
      "1                   Dairy, Milk, Fluid           US  1999            Production             (MT)  7.374900e+07\n",
      "1                   Dairy, Milk, Fluid           US  2000            Production             (MT)  7.592700e+07\n",
      "1                   Dairy, Milk, Fluid           US  2001            Production             (MT)  7.499300e+07\n",
      "1                   Dairy, Milk, Fluid           US  2002            Production             (MT)  7.713900e+07\n",
      "1                   Dairy, Milk, Fluid           US  2003            Production             (MT)  7.726900e+07\n",
      "1                   Dairy, Milk, Fluid           US  2004            Production             (MT)  7.748800e+07\n",
      "1                   Dairy, Milk, Fluid           US  2005            Production             (MT)  8.025500e+07\n",
      "1                   Dairy, Milk, Fluid           US  2006            Production             (MT)  8.245500e+07\n",
      "1                   Dairy, Milk, Fluid           US  2007            Production             (MT)  8.421100e+07\n",
      "1                   Dairy, Milk, Fluid           US  2008            Production             (MT)  8.617900e+07\n",
      "1                   Dairy, Milk, Fluid           US  2009            Production             (MT)  8.536600e+07\n",
      "1              Dairy, Milk, Nonfat Dry           US  2006            Production             (MT)  6.870000e+05\n",
      "1              Dairy, Milk, Nonfat Dry           US  2007            Production             (MT)  6.800000e+05\n",
      "1              Dairy, Milk, Nonfat Dry           US  2008            Production             (MT)  8.590000e+05\n",
      "1              Dairy, Milk, Nonfat Dry           US  2009            Production             (MT)  8.360000e+05\n",
      "1                  Meat, Beef and Veal           US  2000            Production             (MT)  1.229800e+07\n",
      "1                  Meat, Beef and Veal           US  2001            Production             (MT)  1.198300e+07\n",
      "1                  Meat, Beef and Veal           US  2002            Production             (MT)  1.242700e+07\n",
      "1                  Meat, Beef and Veal           US  2003            Production             (MT)  1.203900e+07\n",
      "1                  Meat, Beef and Veal           US  2004            Production             (MT)  1.126100e+07\n",
      "1                  Meat, Beef and Veal           US  2005            Production             (MT)  1.131800e+07\n",
      "1                  Meat, Beef and Veal           US  2006            Production             (MT)  1.198000e+07\n",
      "1                  Meat, Beef and Veal           US  2007            Production             (MT)  1.209600e+07\n",
      "1                  Meat, Beef and Veal           US  2008            Production             (MT)  1.216300e+07\n",
      "1                  Meat, Beef and Veal           US  2009            Production             (MT)  1.181600e+07\n",
      "1                  Meat, Beef and Veal           US  2010            Production             (MT)  1.163100e+07\n",
      "1                          Meat, Swine           US  1998            Production             (MT)  8.623000e+06\n",
      "1                          Meat, Swine           US  1999            Production             (MT)  8.758000e+06\n",
      "1                          Meat, Swine           US  2000            Production             (MT)  8.596000e+06\n",
      "1                          Meat, Swine           US  2001            Production             (MT)  8.691000e+06\n",
      "1                          Meat, Swine           US  2002            Production             (MT)  8.929000e+06\n",
      "1                          Meat, Swine           US  2003            Production             (MT)  9.056000e+06\n",
      "1                          Meat, Swine           US  2004            Production             (MT)  9.313000e+06\n",
      "1                          Meat, Swine           US  2005            Production             (MT)  9.392000e+06\n",
      "1                          Meat, Swine           US  2006            Production             (MT)  9.559000e+06\n",
      "1                          Meat, Swine           US  2007            Production             (MT)  9.962000e+06\n",
      "1                          Meat, Swine           US  2008            Production             (MT)  1.059900e+07\n",
      "1                          Meat, Swine           US  2009            Production             (MT)  1.044600e+07\n",
      "1                          Meat, Swine           US  2010            Production             (MT)  1.018500e+07\n",
      "1               Poultry, Meat, Broiler           US  2000            Production             (MT)  1.370300e+07\n",
      "1               Poultry, Meat, Broiler           US  2001            Production             (MT)  1.403300e+07\n",
      "1               Poultry, Meat, Broiler           US  2002            Production             (MT)  1.446700e+07\n",
      "1               Poultry, Meat, Broiler           US  2003            Production             (MT)  1.469600e+07\n",
      "1               Poultry, Meat, Broiler           US  2004            Production             (MT)  1.528600e+07\n",
      "1               Poultry, Meat, Broiler           US  2005            Production             (MT)  1.587000e+07\n",
      "1               Poultry, Meat, Broiler           US  2006            Production             (MT)  1.593000e+07\n",
      "1               Poultry, Meat, Broiler           US  2007            Production             (MT)  1.622500e+07\n",
      "1               Poultry, Meat, Broiler           US  2008            Production             (MT)  1.656100e+07\n",
      "1               Poultry, Meat, Broiler           US  2009            Production             (MT)  1.598000e+07\n",
      "1               Poultry, Meat, Broiler           US  2010            Production             (MT)  1.622200e+07\n",
      "1                Poultry, Meat, Turkey           US  2000            Production             (MT)  2.419000e+06\n",
      "1                Poultry, Meat, Turkey           US  2001            Production             (MT)  2.490000e+06\n",
      "1                Poultry, Meat, Turkey           US  2002            Production             (MT)  2.557000e+06\n",
      "1                Poultry, Meat, Turkey           US  2003            Production             (MT)  2.529000e+06\n",
      "1                Poultry, Meat, Turkey           US  2004            Production             (MT)  2.441000e+06\n",
      "1                Poultry, Meat, Turkey           US  2005            Production             (MT)  2.464000e+06\n",
      "1                Poultry, Meat, Turkey           US  2006            Production             (MT)  2.543000e+06\n",
      "1                Poultry, Meat, Turkey           US  2007            Production             (MT)  2.664000e+06\n",
      "1                Poultry, Meat, Turkey           US  2008            Production             (MT)  2.796000e+06\n",
      "1                Poultry, Meat, Turkey           US  2009            Production             (MT)  2.567000e+06\n",
      "1                Poultry, Meat, Turkey           US  2010            Production             (MT)  2.607000e+06\n",
      "1                        Dairy, Butter           US  2005            Production             (MT)  6.110000e+05\n",
      "1                        Dairy, Butter           US  2006            Production             (MT)  6.570000e+05\n",
      "1                        Dairy, Butter           US  2007            Production             (MT)  6.950000e+05\n",
      "1                        Dairy, Butter           US  2008            Production             (MT)  7.460000e+05\n",
      "1                        Dairy, Butter           US  2009            Production             (MT)  7.000000e+05\n",
      "1                        Dairy, Butter           US  2010            Production             (MT)  7.080000e+05\n",
      "1                        Dairy, Cheese           US  2007            Production             (MT)  4.435000e+06\n",
      "1                        Dairy, Cheese           US  2008            Production             (MT)  4.506000e+06\n",
      "1                        Dairy, Cheese           US  2009            Production             (MT)  4.575000e+06\n",
      "1                        Dairy, Cheese           US  2010            Production             (MT)  4.574000e+06\n",
      "1         Dairy, Dry Whole Milk Powder           US  2005            Production             (MT)  1.500000e+04\n",
      "1         Dairy, Dry Whole Milk Powder           US  2006            Production             (MT)  1.400000e+04\n",
      "1         Dairy, Dry Whole Milk Powder           US  2007            Production             (MT)  1.400000e+04\n",
      "1         Dairy, Dry Whole Milk Powder           US  2008            Production             (MT)  2.300000e+04\n",
      "1         Dairy, Dry Whole Milk Powder           US  2009            Production             (MT)  2.100000e+04\n",
      "1         Dairy, Dry Whole Milk Powder           US  2010            Production             (MT)  1.900000e+04\n",
      "1                   Dairy, Milk, Fluid           US  2006            Production             (MT)  8.245500e+07\n",
      "1                   Dairy, Milk, Fluid           US  2007            Production             (MT)  8.421100e+07\n",
      "1                   Dairy, Milk, Fluid           US  2008            Production             (MT)  8.617900e+07\n",
      "1                   Dairy, Milk, Fluid           US  2009            Production             (MT)  8.582000e+07\n",
      "1                   Dairy, Milk, Fluid           US  2010            Production             (MT)  8.523000e+07\n",
      "1              Dairy, Milk, Nonfat Dry           US  2004            Production             (MT)  6.480000e+05\n",
      "1              Dairy, Milk, Nonfat Dry           US  2005            Production             (MT)  6.840000e+05\n",
      "1              Dairy, Milk, Nonfat Dry           US  2006            Production             (MT)  6.760000e+05\n",
      "1              Dairy, Milk, Nonfat Dry           US  2007            Production             (MT)  6.690000e+05\n",
      "1              Dairy, Milk, Nonfat Dry           US  2008            Production             (MT)  8.450000e+05\n",
      "1              Dairy, Milk, Nonfat Dry           US  2009            Production             (MT)  8.030000e+05\n",
      "1              Dairy, Milk, Nonfat Dry           US  2010            Production             (MT)  7.320000e+05\n",
      "1                  Meat, Beef and Veal           US  2009            Production             (MT)  1.188900e+07\n",
      "1                  Meat, Beef and Veal           US  2010            Production             (MT)  1.178900e+07\n",
      "1                          Meat, Swine           US  2007            Production             (MT)  9.962000e+06\n",
      "1                          Meat, Swine           US  2008            Production             (MT)  1.059900e+07\n",
      "1                          Meat, Swine           US  2009            Production             (MT)  1.043900e+07\n",
      "1                          Meat, Swine           US  2010            Production             (MT)  1.013800e+07\n",
      "1               Poultry, Meat, Broiler           US  2007            Production             (MT)  1.622600e+07\n",
      "1               Poultry, Meat, Broiler           US  2008            Production             (MT)  1.656100e+07\n",
      "1               Poultry, Meat, Broiler           US  2009            Production             (MT)  1.593500e+07\n",
      "1               Poultry, Meat, Broiler           US  2010            Production             (MT)  1.630000e+07\n",
      "1                        Dairy, Butter           US  2009            Production             (MT)  7.140000e+05\n",
      "1                        Dairy, Butter           US  2010            Production             (MT)  7.250000e+05\n",
      "1                        Dairy, Cheese           US  2008            Production             (MT)  4.506000e+06\n",
      "1                        Dairy, Cheese           US  2009            Production             (MT)  4.585000e+06\n",
      "1                        Dairy, Cheese           US  2010            Production             (MT)  4.540000e+06\n",
      "1         Dairy, Dry Whole Milk Powder           US  2007            Production             (MT)  1.400000e+04\n",
      "1         Dairy, Dry Whole Milk Powder           US  2008            Production             (MT)  2.300000e+04\n",
      "1         Dairy, Dry Whole Milk Powder           US  2009            Production             (MT)  2.700000e+04\n",
      "1         Dairy, Dry Whole Milk Powder           US  2010            Production             (MT)  3.000000e+04\n",
      "1                   Dairy, Milk, Fluid           US  1998            Production             (MT)  7.133300e+07\n",
      "1                   Dairy, Milk, Fluid           US  1999            Production             (MT)  7.374900e+07\n",
      "1                   Dairy, Milk, Fluid           US  2000            Production             (MT)  7.592700e+07\n",
      "1                   Dairy, Milk, Fluid           US  2001            Production             (MT)  7.499300e+07\n",
      "1                   Dairy, Milk, Fluid           US  2002            Production             (MT)  7.713900e+07\n",
      "1                   Dairy, Milk, Fluid           US  2003            Production             (MT)  7.726900e+07\n",
      "1                   Dairy, Milk, Fluid           US  2004            Production             (MT)  7.748800e+07\n",
      "1                   Dairy, Milk, Fluid           US  2005            Production             (MT)  8.025500e+07\n",
      "1                   Dairy, Milk, Fluid           US  2006            Production             (MT)  8.245500e+07\n",
      "1                   Dairy, Milk, Fluid           US  2007            Production             (MT)  8.421100e+07\n",
      "1                   Dairy, Milk, Fluid           US  2008            Production             (MT)  8.617900e+07\n",
      "1                   Dairy, Milk, Fluid           US  2009            Production             (MT)  8.587400e+07\n",
      "1                   Dairy, Milk, Fluid           US  2010            Production             (MT)  8.670000e+07\n",
      "1              Dairy, Milk, Nonfat Dry           US  2005            Production             (MT)  6.950000e+05\n",
      "1              Dairy, Milk, Nonfat Dry           US  2006            Production             (MT)  6.860000e+05\n",
      "1              Dairy, Milk, Nonfat Dry           US  2007            Production             (MT)  6.790000e+05\n",
      "1              Dairy, Milk, Nonfat Dry           US  2008            Production             (MT)  8.590000e+05\n",
      "1              Dairy, Milk, Nonfat Dry           US  2009            Production             (MT)  7.850000e+05\n",
      "1              Dairy, Milk, Nonfat Dry           US  2010            Production             (MT)  7.900000e+05\n",
      "1                   Dairy, Milk, Fluid           US  2008            Production             (MT)  8.617400e+07\n",
      "1                   Dairy, Milk, Fluid           US  2010            Production             (MT)  8.671000e+07\n",
      "1                  Meat, Beef and Veal           US  2000            Production             (MT)  1.229800e+07\n",
      "1                  Meat, Beef and Veal           US  2001            Production             (MT)  1.198300e+07\n",
      "1                  Meat, Beef and Veal           US  2002            Production             (MT)  1.242700e+07\n",
      "1                  Meat, Beef and Veal           US  2003            Production             (MT)  1.203900e+07\n",
      "1                  Meat, Beef and Veal           US  2004            Production             (MT)  1.126100e+07\n",
      "1                  Meat, Beef and Veal           US  2005            Production             (MT)  1.131800e+07\n",
      "1                  Meat, Beef and Veal           US  2006            Production             (MT)  1.198000e+07\n",
      "1                  Meat, Beef and Veal           US  2007            Production             (MT)  1.209700e+07\n",
      "1                  Meat, Beef and Veal           US  2008            Production             (MT)  1.216300e+07\n",
      "1                  Meat, Beef and Veal           US  2009            Production             (MT)  1.189100e+07\n",
      "1                  Meat, Beef and Veal           US  2010            Production             (MT)  1.182800e+07\n",
      "1                  Meat, Beef and Veal           US  2011            Production             (MT)  1.155600e+07\n",
      "1                          Meat, Swine           US  2000            Production             (MT)  8.596000e+06\n",
      "1                          Meat, Swine           US  2001            Production             (MT)  8.691000e+06\n",
      "1                          Meat, Swine           US  2002            Production             (MT)  8.929000e+06\n",
      "1                          Meat, Swine           US  2003            Production             (MT)  9.056000e+06\n",
      "1                          Meat, Swine           US  2004            Production             (MT)  9.313000e+06\n",
      "1                          Meat, Swine           US  2005            Production             (MT)  9.392000e+06\n",
      "1                          Meat, Swine           US  2006            Production             (MT)  9.559000e+06\n",
      "1                          Meat, Swine           US  2007            Production             (MT)  9.962000e+06\n",
      "1                          Meat, Swine           US  2008            Production             (MT)  1.059900e+07\n",
      "1                          Meat, Swine           US  2009            Production             (MT)  1.044200e+07\n",
      "1                          Meat, Swine           US  2010            Production             (MT)  1.005200e+07\n",
      "1                          Meat, Swine           US  2011            Production             (MT)  1.020400e+07\n",
      "1               Poultry, Meat, Broiler           US  2000            Production             (MT)  1.370300e+07\n",
      "1               Poultry, Meat, Broiler           US  2001            Production             (MT)  1.403300e+07\n",
      "1               Poultry, Meat, Broiler           US  2002            Production             (MT)  1.446700e+07\n",
      "1               Poultry, Meat, Broiler           US  2003            Production             (MT)  1.469600e+07\n",
      "1               Poultry, Meat, Broiler           US  2004            Production             (MT)  1.528600e+07\n",
      "1               Poultry, Meat, Broiler           US  2005            Production             (MT)  1.587000e+07\n",
      "1               Poultry, Meat, Broiler           US  2006            Production             (MT)  1.593000e+07\n",
      "1               Poultry, Meat, Broiler           US  2007            Production             (MT)  1.622600e+07\n",
      "1               Poultry, Meat, Broiler           US  2008            Production             (MT)  1.656100e+07\n",
      "1               Poultry, Meat, Broiler           US  2009            Production             (MT)  1.593500e+07\n",
      "1               Poultry, Meat, Broiler           US  2010            Production             (MT)  1.634800e+07\n",
      "1               Poultry, Meat, Broiler           US  2011            Production             (MT)  1.663700e+07\n",
      "1                Poultry, Meat, Turkey           US  2000            Production             (MT)  2.419000e+06\n",
      "1                Poultry, Meat, Turkey           US  2001            Production             (MT)  2.490000e+06\n",
      "1                Poultry, Meat, Turkey           US  2002            Production             (MT)  2.557000e+06\n",
      "1                Poultry, Meat, Turkey           US  2003            Production             (MT)  2.529000e+06\n",
      "1                Poultry, Meat, Turkey           US  2004            Production             (MT)  2.441000e+06\n",
      "1                Poultry, Meat, Turkey           US  2005            Production             (MT)  2.464000e+06\n",
      "1                Poultry, Meat, Turkey           US  2006            Production             (MT)  2.543000e+06\n",
      "1                Poultry, Meat, Turkey           US  2007            Production             (MT)  2.664000e+06\n",
      "1                Poultry, Meat, Turkey           US  2008            Production             (MT)  2.796000e+06\n",
      "1                Poultry, Meat, Turkey           US  2009            Production             (MT)  2.535000e+06\n",
      "1                Poultry, Meat, Turkey           US  2010            Production             (MT)  2.484000e+06\n",
      "1                Poultry, Meat, Turkey           US  2011            Production             (MT)  2.489000e+06\n",
      "1                        Dairy, Butter           US  2008            Production             (MT)  7.460000e+05\n",
      "1                        Dairy, Butter           US  2010            Production             (MT)  6.940000e+05\n",
      "1                        Dairy, Butter           US  2011            Production             (MT)  7.180000e+05\n",
      "1                        Dairy, Cheese           US  2000            Production             (MT)  3.746000e+06\n",
      "1                        Dairy, Cheese           US  2001            Production             (MT)  3.747000e+06\n",
      "1                        Dairy, Cheese           US  2002            Production             (MT)  3.877000e+06\n",
      "1                        Dairy, Cheese           US  2003            Production             (MT)  3.882000e+06\n",
      "1                        Dairy, Cheese           US  2004            Production             (MT)  4.025000e+06\n",
      "1                        Dairy, Cheese           US  2005            Production             (MT)  4.150000e+06\n",
      "1                        Dairy, Cheese           US  2006            Production             (MT)  4.320000e+06\n",
      "1                        Dairy, Cheese           US  2007            Production             (MT)  4.435000e+06\n",
      "1                        Dairy, Cheese           US  2008            Production             (MT)  4.496000e+06\n",
      "1                        Dairy, Cheese           US  2009            Production             (MT)  4.586000e+06\n",
      "1                        Dairy, Cheese           US  2010            Production             (MT)  4.720000e+06\n",
      "1                        Dairy, Cheese           US  2011            Production             (MT)  4.765000e+06\n",
      "1         Dairy, Dry Whole Milk Powder           US  2010            Production             (MT)  2.800000e+04\n",
      "1         Dairy, Dry Whole Milk Powder           US  2011            Production             (MT)  3.000000e+04\n",
      "1                   Dairy, Milk, Fluid           US  2008            Production             (MT)  8.617400e+07\n",
      "1                   Dairy, Milk, Fluid           US  2009            Production             (MT)  8.587400e+07\n",
      "1                   Dairy, Milk, Fluid           US  2010            Production             (MT)  8.745000e+07\n",
      "1                   Dairy, Milk, Fluid           US  2011            Production             (MT)  8.869000e+07\n",
      "1              Dairy, Milk, Nonfat Dry           US  2009            Production             (MT)  7.850000e+05\n",
      "1              Dairy, Milk, Nonfat Dry           US  2010            Production             (MT)  8.250000e+05\n",
      "1              Dairy, Milk, Nonfat Dry           US  2011            Production             (MT)  8.450000e+05\n",
      "1                  Meat, Beef and Veal           US  2009            Production             (MT)  1.189100e+07\n",
      "1                  Meat, Beef and Veal           US  2010            Production             (MT)  1.204800e+07\n",
      "1                  Meat, Beef and Veal           US  2011            Production             (MT)  1.194600e+07\n",
      "1                          Meat, Swine           US  2010            Production             (MT)  1.018700e+07\n",
      "1                          Meat, Swine           US  2011            Production             (MT)  1.025900e+07\n",
      "1               Poultry, Meat, Broiler           US  2010            Production             (MT)  1.656300e+07\n",
      "1               Poultry, Meat, Broiler           US  2011            Production             (MT)  1.679200e+07\n",
      "1                        Dairy, Butter           US  2002            Production             (MT)  6.150000e+05\n",
      "1                        Dairy, Butter           US  2003            Production             (MT)  5.640000e+05\n",
      "1                        Dairy, Butter           US  2004            Production             (MT)  5.650000e+05\n",
      "1                        Dairy, Butter           US  2005            Production             (MT)  6.110000e+05\n",
      "1                        Dairy, Butter           US  2006            Production             (MT)  6.570000e+05\n",
      "1                        Dairy, Butter           US  2007            Production             (MT)  6.950000e+05\n",
      "1                        Dairy, Butter           US  2008            Production             (MT)  7.460000e+05\n",
      "1                        Dairy, Butter           US  2009            Production             (MT)  7.130000e+05\n",
      "1                        Dairy, Butter           US  2010            Production             (MT)  7.090000e+05\n",
      "1                        Dairy, Butter           US  2011            Production             (MT)  8.000000e+05\n",
      "1                        Dairy, Cheese           US  2008            Production             (MT)  4.496000e+06\n",
      "1                        Dairy, Cheese           US  2009            Production             (MT)  4.570000e+06\n",
      "1                        Dairy, Cheese           US  2010            Production             (MT)  4.734000e+06\n",
      "1                        Dairy, Cheese           US  2011            Production             (MT)  4.870000e+06\n",
      "1         Dairy, Dry Whole Milk Powder           US  2006            Production             (MT)  1.400000e+04\n",
      "1         Dairy, Dry Whole Milk Powder           US  2009            Production             (MT)  2.700000e+04\n",
      "1         Dairy, Dry Whole Milk Powder           US  2010            Production             (MT)  3.200000e+04\n",
      "1         Dairy, Dry Whole Milk Powder           US  2011            Production             (MT)  3.500000e+04\n",
      "1                   Dairy, Milk, Fluid           US  2008            Production             (MT)  8.617400e+07\n",
      "1                   Dairy, Milk, Fluid           US  2009            Production             (MT)  8.588100e+07\n",
      "1                   Dairy, Milk, Fluid           US  2010            Production             (MT)  8.746100e+07\n",
      "1                   Dairy, Milk, Fluid           US  2011            Production             (MT)  8.876800e+07\n",
      "1              Dairy, Milk, Nonfat Dry           US  2009            Production             (MT)  7.860000e+05\n",
      "1              Dairy, Milk, Nonfat Dry           US  2010            Production             (MT)  8.240000e+05\n",
      "1              Dairy, Milk, Nonfat Dry           US  2011            Production             (MT)  8.850000e+05\n",
      "1                  Meat, Beef and Veal           US  2000            Production             (MT)  1.229800e+07\n",
      "1                  Meat, Beef and Veal           US  2001            Production             (MT)  1.198300e+07\n",
      "1                  Meat, Beef and Veal           US  2002            Production             (MT)  1.242700e+07\n",
      "1                  Meat, Beef and Veal           US  2003            Production             (MT)  1.203900e+07\n",
      "1                  Meat, Beef and Veal           US  2004            Production             (MT)  1.126100e+07\n",
      "1                  Meat, Beef and Veal           US  2005            Production             (MT)  1.131800e+07\n",
      "1                  Meat, Beef and Veal           US  2006            Production             (MT)  1.198000e+07\n",
      "1                  Meat, Beef and Veal           US  2007            Production             (MT)  1.209700e+07\n",
      "1                  Meat, Beef and Veal           US  2008            Production             (MT)  1.216300e+07\n",
      "1                  Meat, Beef and Veal           US  2009            Production             (MT)  1.189100e+07\n",
      "1                  Meat, Beef and Veal           US  2010            Production             (MT)  1.204700e+07\n",
      "1                  Meat, Beef and Veal           US  2011            Production             (MT)  1.204800e+07\n",
      "1                  Meat, Beef and Veal           US  2012            Production             (MT)  1.146300e+07\n",
      "1                          Meat, Swine           US  2000            Production             (MT)  8.596000e+06\n",
      "1                          Meat, Swine           US  2001            Production             (MT)  8.691000e+06\n",
      "1                          Meat, Swine           US  2002            Production             (MT)  8.929000e+06\n",
      "1                          Meat, Swine           US  2003            Production             (MT)  9.056000e+06\n",
      "1                          Meat, Swine           US  2004            Production             (MT)  9.313000e+06\n",
      "1                          Meat, Swine           US  2005            Production             (MT)  9.392000e+06\n",
      "1                          Meat, Swine           US  2006            Production             (MT)  9.559000e+06\n",
      "1                          Meat, Swine           US  2007            Production             (MT)  9.962000e+06\n",
      "1                          Meat, Swine           US  2008            Production             (MT)  1.059900e+07\n",
      "1                          Meat, Swine           US  2009            Production             (MT)  1.044200e+07\n",
      "1                          Meat, Swine           US  2010            Production             (MT)  1.018600e+07\n",
      "1                          Meat, Swine           US  2011            Production             (MT)  1.027800e+07\n",
      "1                          Meat, Swine           US  2012            Production             (MT)  1.046600e+07\n",
      "1               Poultry, Meat, Broiler           US  2000            Production             (MT)  1.370300e+07\n",
      "1               Poultry, Meat, Broiler           US  2001            Production             (MT)  1.403300e+07\n",
      "1               Poultry, Meat, Broiler           US  2002            Production             (MT)  1.446700e+07\n",
      "1               Poultry, Meat, Broiler           US  2003            Production             (MT)  1.469600e+07\n",
      "1               Poultry, Meat, Broiler           US  2004            Production             (MT)  1.528600e+07\n",
      "1               Poultry, Meat, Broiler           US  2005            Production             (MT)  1.587000e+07\n",
      "1               Poultry, Meat, Broiler           US  2006            Production             (MT)  1.593000e+07\n",
      "1               Poultry, Meat, Broiler           US  2007            Production             (MT)  1.622600e+07\n",
      "1               Poultry, Meat, Broiler           US  2008            Production             (MT)  1.656100e+07\n",
      "1               Poultry, Meat, Broiler           US  2009            Production             (MT)  1.593500e+07\n",
      "1               Poultry, Meat, Broiler           US  2010            Production             (MT)  1.656300e+07\n",
      "1               Poultry, Meat, Broiler           US  2011            Production             (MT)  1.675700e+07\n",
      "1               Poultry, Meat, Broiler           US  2012            Production             (MT)  1.660300e+07\n",
      "1                Poultry, Meat, Turkey           US  2000            Production             (MT)  2.419000e+06\n",
      "1                Poultry, Meat, Turkey           US  2001            Production             (MT)  2.490000e+06\n",
      "1                Poultry, Meat, Turkey           US  2002            Production             (MT)  2.557000e+06\n",
      "1                Poultry, Meat, Turkey           US  2003            Production             (MT)  2.529000e+06\n",
      "1                Poultry, Meat, Turkey           US  2004            Production             (MT)  2.441000e+06\n",
      "1                Poultry, Meat, Turkey           US  2005            Production             (MT)  2.464000e+06\n",
      "1                Poultry, Meat, Turkey           US  2006            Production             (MT)  2.543000e+06\n",
      "1                Poultry, Meat, Turkey           US  2007            Production             (MT)  2.664000e+06\n",
      "1                Poultry, Meat, Turkey           US  2008            Production             (MT)  2.796000e+06\n",
      "1                Poultry, Meat, Turkey           US  2009            Production             (MT)  2.535000e+06\n",
      "1                Poultry, Meat, Turkey           US  2010            Production             (MT)  2.526000e+06\n",
      "1                Poultry, Meat, Turkey           US  2011            Production             (MT)  2.593000e+06\n",
      "1                Poultry, Meat, Turkey           US  2012            Production             (MT)  2.567000e+06\n",
      "1                        Dairy, Butter           US  2006            Production             (MT)  6.570000e+05\n",
      "1                        Dairy, Butter           US  2007            Production             (MT)  6.950000e+05\n",
      "1                        Dairy, Butter           US  2008            Production             (MT)  7.460000e+05\n",
      "1                        Dairy, Butter           US  2009            Production             (MT)  7.130000e+05\n",
      "1                        Dairy, Butter           US  2010            Production             (MT)  7.090000e+05\n",
      "1                        Dairy, Butter           US  2011            Production             (MT)  8.200000e+05\n",
      "1                        Dairy, Butter           US  2012            Production             (MT)  8.100000e+05\n",
      "1                        Dairy, Cheese           US  2010            Production             (MT)  4.734000e+06\n",
      "1                        Dairy, Cheese           US  2011            Production             (MT)  4.800000e+06\n",
      "1                        Dairy, Cheese           US  2012            Production             (MT)  4.925000e+06\n",
      "1         Dairy, Dry Whole Milk Powder           US  2008            Production             (MT)  2.300000e+04\n",
      "1         Dairy, Dry Whole Milk Powder           US  2011            Production             (MT)  3.200000e+04\n",
      "1         Dairy, Dry Whole Milk Powder           US  2012            Production             (MT)  3.000000e+04\n",
      "1                   Dairy, Milk, Fluid           US  2008            Production             (MT)  8.617400e+07\n",
      "1                   Dairy, Milk, Fluid           US  2009            Production             (MT)  8.588100e+07\n",
      "1                   Dairy, Milk, Fluid           US  2010            Production             (MT)  8.746100e+07\n",
      "1                   Dairy, Milk, Fluid           US  2011            Production             (MT)  8.895000e+07\n",
      "1                   Dairy, Milk, Fluid           US  2012            Production             (MT)  9.003800e+07\n",
      "1              Dairy, Milk, Nonfat Dry           US  2011            Production             (MT)  8.850000e+05\n",
      "1              Dairy, Milk, Nonfat Dry           US  2012            Production             (MT)  8.800000e+05\n",
      "1                  Meat, Beef and Veal           US  2008            Production             (MT)  1.216300e+07\n",
      "1                  Meat, Beef and Veal           US  2010            Production             (MT)  1.204700e+07\n",
      "1                  Meat, Beef and Veal           US  2011            Production             (MT)  1.199700e+07\n",
      "1                  Meat, Beef and Veal           US  2012            Production             (MT)  1.146900e+07\n",
      "1                          Meat, Swine           US  2008            Production             (MT)  1.059900e+07\n",
      "1                          Meat, Swine           US  2009            Production             (MT)  1.044200e+07\n",
      "1                          Meat, Swine           US  2010            Production             (MT)  1.018600e+07\n",
      "1                          Meat, Swine           US  2011            Production             (MT)  1.033200e+07\n",
      "1                          Meat, Swine           US  2012            Production             (MT)  1.056200e+07\n",
      "1               Poultry, Meat, Broiler           US  2000            Production             (MT)  1.370300e+07\n",
      "1               Poultry, Meat, Broiler           US  2001            Production             (MT)  1.403300e+07\n",
      "1               Poultry, Meat, Broiler           US  2002            Production             (MT)  1.446700e+07\n",
      "1               Poultry, Meat, Broiler           US  2003            Production             (MT)  1.469600e+07\n",
      "1               Poultry, Meat, Broiler           US  2004            Production             (MT)  1.528600e+07\n",
      "1               Poultry, Meat, Broiler           US  2005            Production             (MT)  1.587000e+07\n",
      "1               Poultry, Meat, Broiler           US  2006            Production             (MT)  1.593000e+07\n",
      "1               Poultry, Meat, Broiler           US  2007            Production             (MT)  1.622600e+07\n",
      "1               Poultry, Meat, Broiler           US  2008            Production             (MT)  1.656100e+07\n",
      "1               Poultry, Meat, Broiler           US  2009            Production             (MT)  1.593500e+07\n",
      "1               Poultry, Meat, Broiler           US  2010            Production             (MT)  1.656300e+07\n",
      "1               Poultry, Meat, Broiler           US  2011            Production             (MT)  1.669400e+07\n",
      "1               Poultry, Meat, Broiler           US  2012            Production             (MT)  1.640100e+07\n",
      "1                        Dairy, Butter           US  2011            Production             (MT)  8.210000e+05\n",
      "1                        Dairy, Butter           US  2012            Production             (MT)  8.600000e+05\n",
      "1                        Dairy, Cheese           US  2010            Production             (MT)  4.737000e+06\n",
      "1                        Dairy, Cheese           US  2011            Production             (MT)  4.807000e+06\n",
      "1                        Dairy, Cheese           US  2012            Production             (MT)  4.920000e+06\n",
      "1         Dairy, Dry Whole Milk Powder           US  2011            Production             (MT)  3.000000e+04\n",
      "1         Dairy, Dry Whole Milk Powder           US  2012            Production             (MT)  2.500000e+04\n",
      "1                   Dairy, Milk, Fluid           US  2005            Production             (MT)  8.025500e+07\n",
      "1                   Dairy, Milk, Fluid           US  2006            Production             (MT)  8.245500e+07\n",
      "1                   Dairy, Milk, Fluid           US  2007            Production             (MT)  8.421100e+07\n",
      "1                   Dairy, Milk, Fluid           US  2008            Production             (MT)  8.617400e+07\n",
      "1                   Dairy, Milk, Fluid           US  2009            Production             (MT)  8.588000e+07\n",
      "1                   Dairy, Milk, Fluid           US  2010            Production             (MT)  8.747400e+07\n",
      "1                   Dairy, Milk, Fluid           US  2011            Production             (MT)  8.856800e+07\n",
      "1                   Dairy, Milk, Fluid           US  2012            Production             (MT)  9.097500e+07\n",
      "1              Dairy, Milk, Nonfat Dry           US  2007            Production             (MT)  6.800000e+05\n",
      "1              Dairy, Milk, Nonfat Dry           US  2008            Production             (MT)  8.590000e+05\n",
      "1              Dairy, Milk, Nonfat Dry           US  2009            Production             (MT)  7.860000e+05\n",
      "1              Dairy, Milk, Nonfat Dry           US  2010            Production             (MT)  8.240000e+05\n",
      "1              Dairy, Milk, Nonfat Dry           US  2011            Production             (MT)  8.890000e+05\n",
      "1              Dairy, Milk, Nonfat Dry           US  2012            Production             (MT)  1.000000e+06\n",
      "1                  Meat, Beef and Veal           US  2000            Production             (MT)  1.229800e+07\n",
      "1                  Meat, Beef and Veal           US  2001            Production             (MT)  1.198300e+07\n",
      "1                  Meat, Beef and Veal           US  2002            Production             (MT)  1.242700e+07\n",
      "1                  Meat, Beef and Veal           US  2003            Production             (MT)  1.203900e+07\n",
      "1                  Meat, Beef and Veal           US  2004            Production             (MT)  1.126100e+07\n",
      "1                  Meat, Beef and Veal           US  2005            Production             (MT)  1.131800e+07\n",
      "1                  Meat, Beef and Veal           US  2010            Production             (MT)  1.204600e+07\n",
      "1                  Meat, Beef and Veal           US  2011            Production             (MT)  1.198800e+07\n",
      "1                  Meat, Beef and Veal           US  2012            Production             (MT)  1.170900e+07\n",
      "1                          Meat, Swine           US  2000            Production             (MT)  8.596000e+06\n",
      "1                          Meat, Swine           US  2001            Production             (MT)  8.691000e+06\n",
      "1                          Meat, Swine           US  2002            Production             (MT)  8.929000e+06\n",
      "1                          Meat, Swine           US  2003            Production             (MT)  9.056000e+06\n",
      "1                          Meat, Swine           US  2004            Production             (MT)  9.313000e+06\n",
      "1                          Meat, Swine           US  2005            Production             (MT)  9.392000e+06\n",
      "1                          Meat, Swine           US  2009            Production             (MT)  1.044200e+07\n",
      "1                          Meat, Swine           US  2011            Production             (MT)  1.033100e+07\n",
      "1                          Meat, Swine           US  2012            Production             (MT)  1.057500e+07\n",
      "1               Poultry, Meat, Broiler           US  2000            Production             (MT)  1.370300e+07\n",
      "1               Poultry, Meat, Broiler           US  2001            Production             (MT)  1.403300e+07\n",
      "1               Poultry, Meat, Broiler           US  2002            Production             (MT)  1.446700e+07\n",
      "1               Poultry, Meat, Broiler           US  2003            Production             (MT)  1.469600e+07\n",
      "1               Poultry, Meat, Broiler           US  2004            Production             (MT)  1.528600e+07\n",
      "1               Poultry, Meat, Broiler           US  2005            Production             (MT)  1.587000e+07\n",
      "1               Poultry, Meat, Broiler           US  2010            Production             (MT)  1.656300e+07\n",
      "1               Poultry, Meat, Broiler           US  2011            Production             (MT)  1.669400e+07\n",
      "1               Poultry, Meat, Broiler           US  2012            Production             (MT)  1.647600e+07\n",
      "1                Poultry, Meat, Turkey           US  2000            Production             (MT)  2.419000e+06\n",
      "1                Poultry, Meat, Turkey           US  2001            Production             (MT)  2.490000e+06\n",
      "1                Poultry, Meat, Turkey           US  2002            Production             (MT)  2.557000e+06\n",
      "1                Poultry, Meat, Turkey           US  2003            Production             (MT)  2.529000e+06\n",
      "1                Poultry, Meat, Turkey           US  2004            Production             (MT)  2.441000e+06\n",
      "1                Poultry, Meat, Turkey           US  2005            Production             (MT)  2.464000e+06\n",
      "1                Poultry, Meat, Turkey           US  2006            Production             (MT)  2.543000e+06\n",
      "1                Poultry, Meat, Turkey           US  2007            Production             (MT)  2.664000e+06\n",
      "1                Poultry, Meat, Turkey           US  2008            Production             (MT)  2.796000e+06\n",
      "1                Poultry, Meat, Turkey           US  2009            Production             (MT)  2.535000e+06\n",
      "1                Poultry, Meat, Turkey           US  2010            Production             (MT)  2.527000e+06\n",
      "1                Poultry, Meat, Turkey           US  2011            Production             (MT)  2.592000e+06\n",
      "1                Poultry, Meat, Turkey           US  2012            Production             (MT)  2.675000e+06\n",
      "1                        Dairy, Butter           US  2011            Production             (MT)  8.210000e+05\n",
      "1                        Dairy, Butter           US  2012            Production             (MT)  8.450000e+05\n",
      "1                        Dairy, Cheese           US  2010            Production             (MT)  4.737000e+06\n",
      "1                        Dairy, Cheese           US  2011            Production             (MT)  4.807000e+06\n",
      "1                        Dairy, Cheese           US  2012            Production             (MT)  4.900000e+06\n",
      "1         Dairy, Dry Whole Milk Powder           US  2007            Production             (MT)  1.400000e+04\n",
      "1         Dairy, Dry Whole Milk Powder           US  2008            Production             (MT)  2.300000e+04\n",
      "1         Dairy, Dry Whole Milk Powder           US  2009            Production             (MT)  2.700000e+04\n",
      "1         Dairy, Dry Whole Milk Powder           US  2010            Production             (MT)  3.200000e+04\n",
      "1         Dairy, Dry Whole Milk Powder           US  2011            Production             (MT)  3.000000e+04\n",
      "1         Dairy, Dry Whole Milk Powder           US  2012            Production             (MT)  2.600000e+04\n",
      "1                   Dairy, Milk, Fluid           US  2010            Production             (MT)  8.747400e+07\n",
      "1                   Dairy, Milk, Fluid           US  2011            Production             (MT)  8.901500e+07\n",
      "1                   Dairy, Milk, Fluid           US  2012            Production             (MT)  9.056000e+07\n",
      "1              Dairy, Milk, Nonfat Dry           US  2004            Production             (MT)  6.480000e+05\n",
      "1              Dairy, Milk, Nonfat Dry           US  2005            Production             (MT)  6.950000e+05\n",
      "1              Dairy, Milk, Nonfat Dry           US  2006            Production             (MT)  6.870000e+05\n",
      "1              Dairy, Milk, Nonfat Dry           US  2007            Production             (MT)  6.800000e+05\n",
      "1              Dairy, Milk, Nonfat Dry           US  2012            Production             (MT)  9.650000e+05\n",
      "1                  Meat, Beef and Veal           US  2010            Production             (MT)  1.204600e+07\n",
      "1                  Meat, Beef and Veal           US  2012            Production             (MT)  1.185500e+07\n",
      "1                          Meat, Swine           US  2011            Production             (MT)  1.033100e+07\n",
      "1                          Meat, Swine           US  2012            Production             (MT)  1.055400e+07\n",
      "1               Poultry, Meat, Broiler           US  2012            Production             (MT)  1.662100e+07\n",
      "1                        Dairy, Butter           US  2012            Production             (MT)  8.430000e+05\n",
      "1                        Dairy, Cheese           US  2012            Production             (MT)  4.940000e+06\n",
      "1         Dairy, Dry Whole Milk Powder           US  2011            Production             (MT)  3.000000e+04\n",
      "1         Dairy, Dry Whole Milk Powder           US  2012            Production             (MT)  2.600000e+04\n",
      "1                   Dairy, Milk, Fluid           US  2002            Production             (MT)  7.713900e+07\n",
      "1                   Dairy, Milk, Fluid           US  2003            Production             (MT)  7.726900e+07\n",
      "1                   Dairy, Milk, Fluid           US  2004            Production             (MT)  7.748800e+07\n",
      "1                   Dairy, Milk, Fluid           US  2008            Production             (MT)  8.617400e+07\n",
      "1                   Dairy, Milk, Fluid           US  2009            Production             (MT)  8.588000e+07\n",
      "1                   Dairy, Milk, Fluid           US  2010            Production             (MT)  8.747400e+07\n",
      "1                   Dairy, Milk, Fluid           US  2011            Production             (MT)  8.897800e+07\n",
      "1                   Dairy, Milk, Fluid           US  2012            Production             (MT)  9.086500e+07\n",
      "1              Dairy, Milk, Nonfat Dry           US  2011            Production             (MT)  8.820000e+05\n",
      "1              Dairy, Milk, Nonfat Dry           US  2012            Production             (MT)  9.730000e+05\n",
      "1                  Meat, Beef and Veal           US  2006            Production             (MT)  1.198000e+07\n",
      "1                  Meat, Beef and Veal           US  2007            Production             (MT)  1.209700e+07\n",
      "1                  Meat, Beef and Veal           US  2008            Production             (MT)  1.216300e+07\n",
      "1                  Meat, Beef and Veal           US  2009            Production             (MT)  1.189100e+07\n",
      "1                  Meat, Beef and Veal           US  2010            Production             (MT)  1.204600e+07\n",
      "1                  Meat, Beef and Veal           US  2011            Production             (MT)  1.198300e+07\n",
      "1                  Meat, Beef and Veal           US  2012            Production             (MT)  1.184900e+07\n",
      "1                          Meat, Swine           US  2006            Production             (MT)  9.559000e+06\n",
      "1                          Meat, Swine           US  2007            Production             (MT)  9.962000e+06\n",
      "1                          Meat, Swine           US  2008            Production             (MT)  1.059900e+07\n",
      "1                          Meat, Swine           US  2009            Production             (MT)  1.044200e+07\n",
      "1                          Meat, Swine           US  2010            Production             (MT)  1.018600e+07\n",
      "1                          Meat, Swine           US  2011            Production             (MT)  1.033100e+07\n",
      "1                          Meat, Swine           US  2012            Production             (MT)  1.055500e+07\n",
      "1               Poultry, Meat, Broiler           US  2006            Production             (MT)  1.593000e+07\n",
      "1               Poultry, Meat, Broiler           US  2007            Production             (MT)  1.622600e+07\n",
      "1               Poultry, Meat, Broiler           US  2008            Production             (MT)  1.656100e+07\n",
      "1               Poultry, Meat, Broiler           US  2009            Production             (MT)  1.593500e+07\n",
      "1               Poultry, Meat, Broiler           US  2010            Production             (MT)  1.656300e+07\n",
      "1               Poultry, Meat, Broiler           US  2011            Production             (MT)  1.669400e+07\n",
      "1               Poultry, Meat, Broiler           US  2012            Production             (MT)  1.662100e+07\n",
      "1                Poultry, Meat, Turkey           US  2006            Production             (MT)  2.543000e+06\n",
      "1                Poultry, Meat, Turkey           US  2007            Production             (MT)  2.664000e+06\n",
      "1                Poultry, Meat, Turkey           US  2008            Production             (MT)  2.796000e+06\n",
      "1                Poultry, Meat, Turkey           US  2009            Production             (MT)  2.535000e+06\n",
      "1                Poultry, Meat, Turkey           US  2010            Production             (MT)  2.527000e+06\n",
      "1                Poultry, Meat, Turkey           US  2011            Production             (MT)  2.592000e+06\n",
      "1                Poultry, Meat, Turkey           US  2012            Production             (MT)  2.671000e+06\n",
      "1                        Dairy, Butter           US  2005            Production             (MT)  6.070000e+05\n",
      "1                        Dairy, Cheese           US  2011            Production             (MT)  4.806000e+06\n",
      "1                   Dairy, Milk, Fluid           US  2011            Production             (MT)  8.897800e+07\n",
      "1                   Dairy, Milk, Fluid           US  2012            Production             (MT)  9.082400e+07\n",
      "1              Dairy, Milk, Nonfat Dry           US  2011            Production             (MT)  8.820000e+05\n",
      "1              Dairy, Milk, Nonfat Dry           US  2012            Production             (MT)  9.730000e+05\n",
      "1                        Dairy, Cheese           US  2012            Production             (MT)  4.938000e+06\n",
      "1                   Dairy, Milk, Fluid           US  2002            Production             (MT)  7.713900e+07\n",
      "1                   Dairy, Milk, Fluid           US  2003            Production             (MT)  7.726900e+07\n",
      "1                   Dairy, Milk, Fluid           US  2004            Production             (MT)  7.748800e+07\n",
      "1                   Dairy, Milk, Fluid           US  2005            Production             (MT)  8.025500e+07\n",
      "1                   Dairy, Milk, Fluid           US  2006            Production             (MT)  8.245500e+07\n",
      "1                   Dairy, Milk, Fluid           US  2007            Production             (MT)  8.421100e+07\n",
      "1                   Dairy, Milk, Fluid           US  2008            Production             (MT)  8.617400e+07\n",
      "1                   Dairy, Milk, Fluid           US  2009            Production             (MT)  8.588000e+07\n",
      "1                   Dairy, Milk, Fluid           US  2010            Production             (MT)  8.747400e+07\n",
      "1                   Dairy, Milk, Fluid           US  2011            Production             (MT)  8.897800e+07\n",
      "1                   Dairy, Milk, Fluid           US  2012            Production             (MT)  9.096200e+07\n",
      "1                  Meat, Beef and Veal           US  2000            Production             (MT)  1.229800e+07\n",
      "1                  Meat, Beef and Veal           US  2001            Production             (MT)  1.198300e+07\n",
      "1                  Meat, Beef and Veal           US  2002            Production             (MT)  1.242700e+07\n",
      "1                  Meat, Beef and Veal           US  2003            Production             (MT)  1.203900e+07\n",
      "1                  Meat, Beef and Veal           US  2004            Production             (MT)  1.126100e+07\n",
      "1                  Meat, Beef and Veal           US  2005            Production             (MT)  1.131800e+07\n",
      "1                  Meat, Beef and Veal           US  2010            Production             (MT)  1.204600e+07\n",
      "1                  Meat, Beef and Veal           US  2011            Production             (MT)  1.198300e+07\n",
      "1                  Meat, Beef and Veal           US  2012            Production             (MT)  1.184800e+07\n",
      "1                          Meat, Swine           US  2000            Production             (MT)  8.596000e+06\n",
      "1                          Meat, Swine           US  2001            Production             (MT)  8.691000e+06\n",
      "1                          Meat, Swine           US  2002            Production             (MT)  8.929000e+06\n",
      "1                          Meat, Swine           US  2003            Production             (MT)  9.056000e+06\n",
      "1                          Meat, Swine           US  2004            Production             (MT)  9.313000e+06\n",
      "1                          Meat, Swine           US  2005            Production             (MT)  9.392000e+06\n",
      "1                          Meat, Swine           US  2008            Production             (MT)  1.059900e+07\n",
      "1                          Meat, Swine           US  2009            Production             (MT)  1.044200e+07\n",
      "1                          Meat, Swine           US  2010            Production             (MT)  1.018600e+07\n",
      "1                          Meat, Swine           US  2011            Production             (MT)  1.033100e+07\n",
      "1                          Meat, Swine           US  2012            Production             (MT)  1.055400e+07\n",
      "1               Poultry, Meat, Broiler           US  2000            Production             (MT)  1.370300e+07\n",
      "1               Poultry, Meat, Broiler           US  2001            Production             (MT)  1.403300e+07\n",
      "1               Poultry, Meat, Broiler           US  2002            Production             (MT)  1.446700e+07\n",
      "1               Poultry, Meat, Broiler           US  2003            Production             (MT)  1.469600e+07\n",
      "1               Poultry, Meat, Broiler           US  2004            Production             (MT)  1.528600e+07\n",
      "1               Poultry, Meat, Broiler           US  2005            Production             (MT)  1.587000e+07\n",
      "1               Poultry, Meat, Broiler           US  2010            Production             (MT)  1.656300e+07\n",
      "1               Poultry, Meat, Broiler           US  2011            Production             (MT)  1.669400e+07\n",
      "1               Poultry, Meat, Broiler           US  2012            Production             (MT)  1.662100e+07\n",
      "1                Poultry, Meat, Turkey           US  2000            Production             (MT)  2.419000e+06\n",
      "1                Poultry, Meat, Turkey           US  2001            Production             (MT)  2.490000e+06\n",
      "1                Poultry, Meat, Turkey           US  2002            Production             (MT)  2.557000e+06\n",
      "1                Poultry, Meat, Turkey           US  2003            Production             (MT)  2.529000e+06\n",
      "1                Poultry, Meat, Turkey           US  2004            Production             (MT)  2.441000e+06\n",
      "1                Poultry, Meat, Turkey           US  2005            Production             (MT)  2.464000e+06\n",
      "1                Poultry, Meat, Turkey           US  2010            Production             (MT)  2.527000e+06\n",
      "1                Poultry, Meat, Turkey           US  2011            Production             (MT)  2.592000e+06\n",
      "1                Poultry, Meat, Turkey           US  2012            Production             (MT)  2.671000e+06\n",
      "1                   Dairy, Milk, Fluid           US  2008            Production             (MT)  8.617300e+07\n",
      "1                   Dairy, Milk, Fluid           US  2009            Production             (MT)  8.582100e+07\n",
      "1                   Dairy, Milk, Fluid           US  2010            Production             (MT)  8.748800e+07\n",
      "1                   Dairy, Milk, Fluid           US  2012            Production             (MT)  9.101000e+07\n",
      "1         Dairy, Dry Whole Milk Powder           US  2012            Production             (MT)  2.600000e+04\n",
      "1         Dairy, Dry Whole Milk Powder           US  2011            Production             (MT)  3.000000e+04\n",
      "1                   Dairy, Milk, Fluid           US  2011            Production             (MT)  8.902000e+07\n",
      "1                        Dairy, Butter           US  2012            Production             (MT)  8.430000e+05\n",
      "1         Dairy, Dry Whole Milk Powder           US  2010            Production             (MT)  3.200000e+04\n",
      "1                  Meat, Beef and Veal           US  2011            Production             (MT)  1.198300e+07\n",
      "1                  Meat, Beef and Veal           US  2012            Production             (MT)  1.184800e+07\n",
      "1         Dairy, Dry Whole Milk Powder           US  2010            Production             (MT)  3.200000e+04\n",
      "1         Dairy, Dry Whole Milk Powder           US  2011            Production             (MT)  3.000000e+04\n",
      "1         Dairy, Dry Whole Milk Powder           US  2012            Production             (MT)  2.600000e+04\n",
      "1                  Meat, Beef and Veal           US  2012            Production             (MT)  1.184800e+07\n",
      "1                          Meat, Swine           US  2008            Production             (MT)  1.059900e+07\n",
      "1                          Meat, Swine           US  2009            Production             (MT)  1.044200e+07\n",
      "1                          Meat, Swine           US  2010            Production             (MT)  1.018600e+07\n",
      "1                          Meat, Swine           US  2011            Production             (MT)  1.033100e+07\n",
      "1                          Meat, Swine           US  2012            Production             (MT)  1.055400e+07\n",
      "1               Poultry, Meat, Broiler           US  2012            Production             (MT)  1.662100e+07\n",
      "1                   Dairy, Milk, Fluid           US  1998            Production             (MT)  7.133300e+07\n",
      "1                   Dairy, Milk, Fluid           US  1999            Production             (MT)  7.374900e+07\n",
      "1                   Dairy, Milk, Fluid           US  2000            Production             (MT)  7.592700e+07\n",
      "1                   Dairy, Milk, Fluid           US  2001            Production             (MT)  7.499300e+07\n",
      "1                   Dairy, Milk, Fluid           US  2002            Production             (MT)  7.713900e+07\n",
      "1                   Dairy, Milk, Fluid           US  2003            Production             (MT)  7.726900e+07\n",
      "1                   Dairy, Milk, Fluid           US  2004            Production             (MT)  7.748800e+07\n",
      "1                   Dairy, Milk, Fluid           US  2005            Production             (MT)  8.025500e+07\n",
      "1                   Dairy, Milk, Fluid           US  2006            Production             (MT)  8.245500e+07\n",
      "1                   Dairy, Milk, Fluid           US  2007            Production             (MT)  8.421100e+07\n",
      "1                   Dairy, Milk, Fluid           US  2008            Production             (MT)  8.617300e+07\n",
      "1                   Dairy, Milk, Fluid           US  2009            Production             (MT)  8.582100e+07\n",
      "1                   Dairy, Milk, Fluid           US  2010            Production             (MT)  8.748800e+07\n",
      "1                   Dairy, Milk, Fluid           US  2011            Production             (MT)  8.902000e+07\n",
      "1                   Dairy, Milk, Fluid           US  2012            Production             (MT)  9.101000e+07\n",
      "1              Dairy, Milk, Nonfat Dry           US  2012            Production             (MT)  9.730000e+05\n",
      "1                          Meat, Swine           US  2008            Production             (MT)  1.059900e+07\n",
      "1                          Meat, Swine           US  2009            Production             (MT)  1.044200e+07\n",
      "1                          Meat, Swine           US  2010            Production             (MT)  1.018600e+07\n",
      "1                          Meat, Swine           US  2011            Production             (MT)  1.033100e+07\n",
      "1                          Meat, Swine           US  2012            Production             (MT)  1.055400e+07\n",
      "1                  Meat, Beef and Veal           US  2008            Production             (MT)  1.216300e+07\n",
      "1                  Meat, Beef and Veal           US  2010            Production             (MT)  1.204600e+07\n",
      "1                  Meat, Beef and Veal           US  2011            Production             (MT)  1.198300e+07\n",
      "1                  Meat, Beef and Veal           US  2012            Production             (MT)  1.184800e+07\n",
      "1                          Meat, Swine           US  2008            Production             (MT)  1.059900e+07\n",
      "1                          Meat, Swine           US  2009            Production             (MT)  1.044200e+07\n",
      "1                          Meat, Swine           US  2010            Production             (MT)  1.018600e+07\n",
      "1                          Meat, Swine           US  2011            Production             (MT)  1.033100e+07\n",
      "1                          Meat, Swine           US  2012            Production             (MT)  1.055400e+07\n",
      "1               Poultry, Meat, Broiler           US  2010            Production             (MT)  1.656300e+07\n",
      "1               Poultry, Meat, Broiler           US  2011            Production             (MT)  1.669400e+07\n",
      "1               Poultry, Meat, Broiler           US  2012            Production             (MT)  1.662100e+07\n",
      "1                  Meat, Beef and Veal           US  2008            Production             (MT)  1.216000e+07\n",
      "1                  Meat, Beef and Veal           US  2009            Production             (MT)  1.188500e+07\n",
      "1                  Meat, Beef and Veal           US  2010            Production             (MT)  1.203400e+07\n",
      "1                  Meat, Beef and Veal           US  2011            Production             (MT)  1.197800e+07\n",
      "1                  Meat, Beef and Veal           US  2012            Production             (MT)  1.184500e+07\n",
      "1                  Meat, Beef and Veal           US  2008            Production             (MT)  1.216000e+07\n",
      "1                  Meat, Beef and Veal           US  2010            Production             (MT)  1.203400e+07\n",
      "1                  Meat, Beef and Veal           US  2012            Production             (MT)  1.184500e+07\n",
      "1                          Meat, Swine           US  2008            Production             (MT)  1.059900e+07\n",
      "1                          Meat, Swine           US  2009            Production             (MT)  1.044200e+07\n",
      "1                          Meat, Swine           US  2010            Production             (MT)  1.018600e+07\n",
      "1                          Meat, Swine           US  2011            Production             (MT)  1.033100e+07\n",
      "1                          Meat, Swine           US  2012            Production             (MT)  1.055400e+07\n",
      "1               Poultry, Meat, Broiler           US  2010            Production             (MT)  1.656300e+07\n",
      "1               Poultry, Meat, Broiler           US  2011            Production             (MT)  1.669400e+07\n",
      "1               Poultry, Meat, Broiler           US  2012            Production             (MT)  1.662100e+07\n",
      "1                  Meat, Beef and Veal           US  2009            Production             (MT)  1.188500e+07\n",
      "1                  Meat, Beef and Veal           US  2010            Production             (MT)  1.203400e+07\n",
      "1                  Meat, Beef and Veal           US  2011            Production             (MT)  1.197800e+07\n",
      "1                  Meat, Beef and Veal           US  2012            Production             (MT)  1.184500e+07\n",
      "1                        Meat, Chicken           US  1999            Production             (MT)  1.361800e+07\n",
      "1                        Meat, Chicken           US  2000            Production             (MT)  1.394300e+07\n",
      "1                        Meat, Chicken           US  2001            Production             (MT)  1.426700e+07\n",
      "1                        Meat, Chicken           US  2002            Production             (MT)  1.471500e+07\n",
      "1                        Meat, Chicken           US  2003            Production             (MT)  1.492400e+07\n",
      "1                        Meat, Chicken           US  2004            Production             (MT)  1.551400e+07\n",
      "1                        Meat, Chicken           US  2005            Production             (MT)  1.610400e+07\n",
      "1                        Meat, Chicken           US  2006            Production             (MT)  1.615900e+07\n",
      "1                        Meat, Chicken           US  2007            Production             (MT)  1.645200e+07\n",
      "1                        Meat, Chicken           US  2008            Production             (MT)  1.681500e+07\n",
      "1                        Meat, Chicken           US  2009            Production             (MT)  1.616200e+07\n",
      "1                        Meat, Chicken           US  2010            Production             (MT)  1.679100e+07\n",
      "1                        Meat, Chicken           US  2011            Production             (MT)  1.693100e+07\n",
      "1                        Meat, Chicken           US  2012            Production             (MT)  1.685600e+07\n",
      "1                          Meat, Swine           US  2009            Production             (MT)  1.044200e+07\n",
      "1                          Meat, Swine           US  2010            Production             (MT)  1.018600e+07\n",
      "1                          Meat, Swine           US  2011            Production             (MT)  1.033100e+07\n",
      "1                          Meat, Swine           US  2012            Production             (MT)  1.055400e+07\n",
      "1                   Dairy, Milk, Fluid           US  1998            Production             (MT)  7.133300e+07\n",
      "1                   Dairy, Milk, Fluid           US  1999            Production             (MT)  7.374900e+07\n",
      "1                   Dairy, Milk, Fluid           US  2000            Production             (MT)  7.592700e+07\n",
      "1                   Dairy, Milk, Fluid           US  2001            Production             (MT)  7.499300e+07\n",
      "1                   Dairy, Milk, Fluid           US  2002            Production             (MT)  7.713900e+07\n",
      "1                   Dairy, Milk, Fluid           US  2003            Production             (MT)  7.726900e+07\n",
      "1                   Dairy, Milk, Fluid           US  2004            Production             (MT)  7.748800e+07\n",
      "1                   Dairy, Milk, Fluid           US  2005            Production             (MT)  8.025500e+07\n",
      "1                   Dairy, Milk, Fluid           US  2006            Production             (MT)  8.245500e+07\n",
      "1                   Dairy, Milk, Fluid           US  2007            Production             (MT)  8.421100e+07\n",
      "1                   Dairy, Milk, Fluid           US  2008            Production             (MT)  8.617300e+07\n",
      "1                   Dairy, Milk, Fluid           US  2009            Production             (MT)  8.582100e+07\n",
      "1                   Dairy, Milk, Fluid           US  2010            Production             (MT)  8.748800e+07\n",
      "1                   Dairy, Milk, Fluid           US  2011            Production             (MT)  8.902000e+07\n",
      "1                   Dairy, Milk, Fluid           US  2012            Production             (MT)  9.101000e+07\n",
      "1                  Meat, Beef and Veal           US  2009            Production             (MT)  1.188500e+07\n",
      "1                  Meat, Beef and Veal           US  2010            Production             (MT)  1.203400e+07\n",
      "1                  Meat, Beef and Veal           US  2011            Production             (MT)  1.197800e+07\n",
      "1                  Meat, Beef and Veal           US  2012            Production             (MT)  1.184500e+07\n",
      "1                        Meat, Chicken           US  2012            Production             (MT)  1.685600e+07\n",
      "1                          Meat, Swine           US  2008            Production             (MT)  1.059900e+07\n",
      "1                          Meat, Swine           US  2009            Production             (MT)  1.044200e+07\n",
      "1                          Meat, Swine           US  2010            Production             (MT)  1.018600e+07\n",
      "1                          Meat, Swine           US  2011            Production             (MT)  1.033100e+07\n",
      "1                          Meat, Swine           US  2012            Production             (MT)  1.055400e+07\n",
      "1                  Meat, Beef and Veal           US  2006            Production             (MT)  1.198000e+07\n",
      "1                  Meat, Beef and Veal           US  2007            Production             (MT)  1.209700e+07\n",
      "1                  Meat, Beef and Veal           US  2008            Production             (MT)  1.216000e+07\n",
      "1                  Meat, Beef and Veal           US  2009            Production             (MT)  1.188500e+07\n",
      "1                  Meat, Beef and Veal           US  2010            Production             (MT)  1.203400e+07\n",
      "1                  Meat, Beef and Veal           US  2011            Production             (MT)  1.197800e+07\n",
      "1                  Meat, Beef and Veal           US  2012            Production             (MT)  1.184500e+07\n",
      "1                        Meat, Chicken           US  2010            Production             (MT)  1.679100e+07\n",
      "1                        Meat, Chicken           US  2011            Production             (MT)  1.693100e+07\n",
      "1                        Meat, Chicken           US  2012            Production             (MT)  1.685600e+07\n",
      "1                          Meat, Swine           US  2012            Production             (MT)  1.055400e+07\n",
      "1                   Dairy, Milk, Fluid           US  2011            Production             (MT)  8.902000e+07\n",
      "1                   Dairy, Milk, Fluid           US  2012            Production             (MT)  9.101000e+07\n",
      "1                  Meat, Beef and Veal           US  2009            Production             (MT)  1.188500e+07\n",
      "1                  Meat, Beef and Veal           US  2010            Production             (MT)  1.203400e+07\n",
      "1                  Meat, Beef and Veal           US  2012            Production             (MT)  1.184500e+07\n",
      "1              Dairy, Milk, Nonfat Dry           US  1998            Production             (MT)  5.170000e+05\n",
      "1              Dairy, Milk, Nonfat Dry           US  1999            Production             (MT)  6.190000e+05\n",
      "1              Dairy, Milk, Nonfat Dry           US  2000            Production             (MT)  6.610000e+05\n",
      "1              Dairy, Milk, Nonfat Dry           US  2001            Production             (MT)  6.440000e+05\n",
      "1              Dairy, Milk, Nonfat Dry           US  2002            Production             (MT)  7.270000e+05\n",
      "1              Dairy, Milk, Nonfat Dry           US  2003            Production             (MT)  7.230000e+05\n",
      "1              Dairy, Milk, Nonfat Dry           US  2004            Production             (MT)  6.430000e+05\n",
      "1              Dairy, Milk, Nonfat Dry           US  2005            Production             (MT)  6.980000e+05\n",
      "1              Dairy, Milk, Nonfat Dry           US  2006            Production             (MT)  6.890000e+05\n",
      "1              Dairy, Milk, Nonfat Dry           US  2007            Production             (MT)  6.820000e+05\n",
      "1              Dairy, Milk, Nonfat Dry           US  2008            Production             (MT)  8.620000e+05\n",
      "1              Dairy, Milk, Nonfat Dry           US  2009            Production             (MT)  7.900000e+05\n",
      "1              Dairy, Milk, Nonfat Dry           US  2010            Production             (MT)  8.280000e+05\n",
      "1              Dairy, Milk, Nonfat Dry           US  2011            Production             (MT)  8.860000e+05\n",
      "1              Dairy, Milk, Nonfat Dry           US  2012            Production             (MT)  9.770000e+05\n",
      "1                   Dairy, Milk, Fluid           US  2012            Production             (MT)  9.101000e+07\n",
      "1                  Meat, Beef and Veal           US  2012            Production             (MT)  1.184500e+07\n",
      "1                        Meat, Chicken           US  2012            Production             (MT)  1.685600e+07\n",
      "1                          Meat, Swine           US  2012            Production             (MT)  1.055400e+07\n",
      "6                                Honey           US  1998            Production             (MT)  9.957162e+04\n",
      "6                                Honey           US  1999            Production             (MT)  9.180072e+04\n",
      "6                                Honey           US  2000            Production             (MT)  9.958931e+04\n",
      "6                                Honey           US  2001            Production             (MT)  8.425344e+04\n",
      "6                                Honey           US  2002            Production             (MT)  7.768409e+04\n",
      "6                                Honey           US  2003            Production             (MT)  8.226853e+04\n",
      "6                                Honey           US  2004            Production             (MT)  8.288405e+04\n",
      "6                                Honey           US  2005            Production             (MT)  7.891060e+04\n",
      "6                                Honey           US  2006            Production             (MT)  6.996081e+04\n",
      "6                                Honey           US  2007            Production             (MT)  6.695941e+04\n",
      "6                                Honey           US  2008            Production             (MT)  7.392247e+04\n",
      "6                                Honey           US  2009            Production             (MT)  6.580139e+04\n",
      "6                                Honey           US  2010            Production             (MT)  7.951161e+04\n",
      "6                                Honey           US  2011            Production             (MT)  6.676890e+04\n",
      "6                                Honey           US  2012            Production             (MT)  6.391401e+04\n"
     ]
    }
   ],
   "source": [
    "print(TrimmedUSDAHoney2.to_string(index=True))"
   ]
  },
  {
   "cell_type": "markdown",
   "id": "64d8b843-9a7b-4eda-b797-9dbc9ca7d6a1",
   "metadata": {},
   "source": [
    "."
   ]
  },
  {
   "cell_type": "markdown",
   "id": "96e9bc36-740f-4537-8e7a-d47c57b6e19e",
   "metadata": {},
   "source": [
    "It did!"
   ]
  },
  {
   "cell_type": "markdown",
   "id": "b7f0bd6d-ea43-48ac-a5dc-114c8b9b285e",
   "metadata": {},
   "source": [
    "."
   ]
  },
  {
   "cell_type": "markdown",
   "id": "7c562550-7757-4a45-958a-4bc04054c32e",
   "metadata": {},
   "source": [
    "Pick the maximum values for each commodity 1,6, and drop te repetitive entries."
   ]
  },
  {
   "cell_type": "code",
   "execution_count": 24,
   "id": "5af24ced-837f-4736-9003-92bd0ad4cdf4",
   "metadata": {},
   "outputs": [
    {
     "data": {
      "text/html": [
       "<div>\n",
       "<style scoped>\n",
       "    .dataframe tbody tr th:only-of-type {\n",
       "        vertical-align: middle;\n",
       "    }\n",
       "\n",
       "    .dataframe tbody tr th {\n",
       "        vertical-align: top;\n",
       "    }\n",
       "\n",
       "    .dataframe thead th {\n",
       "        text-align: right;\n",
       "    }\n",
       "</style>\n",
       "<table border=\"1\" class=\"dataframe\">\n",
       "  <thead>\n",
       "    <tr style=\"text-align: right;\">\n",
       "      <th></th>\n",
       "      <th>Commodity_Description</th>\n",
       "      <th>Year</th>\n",
       "      <th>Country_Code</th>\n",
       "      <th>Attribute_Description</th>\n",
       "      <th>Unit_Description</th>\n",
       "      <th>Value</th>\n",
       "    </tr>\n",
       "  </thead>\n",
       "  <tbody>\n",
       "    <tr>\n",
       "      <th>0</th>\n",
       "      <td>Dairy, Butter</td>\n",
       "      <td>1998</td>\n",
       "      <td>US</td>\n",
       "      <td>Production</td>\n",
       "      <td>(MT)</td>\n",
       "      <td>530000.0</td>\n",
       "    </tr>\n",
       "    <tr>\n",
       "      <th>1</th>\n",
       "      <td>Dairy, Butter</td>\n",
       "      <td>1999</td>\n",
       "      <td>US</td>\n",
       "      <td>Production</td>\n",
       "      <td>(MT)</td>\n",
       "      <td>579000.0</td>\n",
       "    </tr>\n",
       "    <tr>\n",
       "      <th>2</th>\n",
       "      <td>Dairy, Butter</td>\n",
       "      <td>2000</td>\n",
       "      <td>US</td>\n",
       "      <td>Production</td>\n",
       "      <td>(MT)</td>\n",
       "      <td>570000.0</td>\n",
       "    </tr>\n",
       "    <tr>\n",
       "      <th>3</th>\n",
       "      <td>Dairy, Butter</td>\n",
       "      <td>2001</td>\n",
       "      <td>US</td>\n",
       "      <td>Production</td>\n",
       "      <td>(MT)</td>\n",
       "      <td>559000.0</td>\n",
       "    </tr>\n",
       "    <tr>\n",
       "      <th>4</th>\n",
       "      <td>Dairy, Butter</td>\n",
       "      <td>2002</td>\n",
       "      <td>US</td>\n",
       "      <td>Production</td>\n",
       "      <td>(MT)</td>\n",
       "      <td>615000.0</td>\n",
       "    </tr>\n",
       "    <tr>\n",
       "      <th>...</th>\n",
       "      <td>...</td>\n",
       "      <td>...</td>\n",
       "      <td>...</td>\n",
       "      <td>...</td>\n",
       "      <td>...</td>\n",
       "      <td>...</td>\n",
       "    </tr>\n",
       "    <tr>\n",
       "      <th>159</th>\n",
       "      <td>Poultry, Meat, Turkey</td>\n",
       "      <td>2008</td>\n",
       "      <td>US</td>\n",
       "      <td>Production</td>\n",
       "      <td>(MT)</td>\n",
       "      <td>2801000.0</td>\n",
       "    </tr>\n",
       "    <tr>\n",
       "      <th>160</th>\n",
       "      <td>Poultry, Meat, Turkey</td>\n",
       "      <td>2009</td>\n",
       "      <td>US</td>\n",
       "      <td>Production</td>\n",
       "      <td>(MT)</td>\n",
       "      <td>2733000.0</td>\n",
       "    </tr>\n",
       "    <tr>\n",
       "      <th>161</th>\n",
       "      <td>Poultry, Meat, Turkey</td>\n",
       "      <td>2010</td>\n",
       "      <td>US</td>\n",
       "      <td>Production</td>\n",
       "      <td>(MT)</td>\n",
       "      <td>2607000.0</td>\n",
       "    </tr>\n",
       "    <tr>\n",
       "      <th>162</th>\n",
       "      <td>Poultry, Meat, Turkey</td>\n",
       "      <td>2011</td>\n",
       "      <td>US</td>\n",
       "      <td>Production</td>\n",
       "      <td>(MT)</td>\n",
       "      <td>2593000.0</td>\n",
       "    </tr>\n",
       "    <tr>\n",
       "      <th>163</th>\n",
       "      <td>Poultry, Meat, Turkey</td>\n",
       "      <td>2012</td>\n",
       "      <td>US</td>\n",
       "      <td>Production</td>\n",
       "      <td>(MT)</td>\n",
       "      <td>2675000.0</td>\n",
       "    </tr>\n",
       "  </tbody>\n",
       "</table>\n",
       "<p>164 rows × 6 columns</p>\n",
       "</div>"
      ],
      "text/plain": [
       "     Commodity_Description  Year Country_Code Attribute_Description  \\\n",
       "0            Dairy, Butter  1998           US            Production   \n",
       "1            Dairy, Butter  1999           US            Production   \n",
       "2            Dairy, Butter  2000           US            Production   \n",
       "3            Dairy, Butter  2001           US            Production   \n",
       "4            Dairy, Butter  2002           US            Production   \n",
       "..                     ...   ...          ...                   ...   \n",
       "159  Poultry, Meat, Turkey  2008           US            Production   \n",
       "160  Poultry, Meat, Turkey  2009           US            Production   \n",
       "161  Poultry, Meat, Turkey  2010           US            Production   \n",
       "162  Poultry, Meat, Turkey  2011           US            Production   \n",
       "163  Poultry, Meat, Turkey  2012           US            Production   \n",
       "\n",
       "    Unit_Description      Value  \n",
       "0               (MT)   530000.0  \n",
       "1               (MT)   579000.0  \n",
       "2               (MT)   570000.0  \n",
       "3               (MT)   559000.0  \n",
       "4               (MT)   615000.0  \n",
       "..               ...        ...  \n",
       "159             (MT)  2801000.0  \n",
       "160             (MT)  2733000.0  \n",
       "161             (MT)  2607000.0  \n",
       "162             (MT)  2593000.0  \n",
       "163             (MT)  2675000.0  \n",
       "\n",
       "[164 rows x 6 columns]"
      ]
     },
     "execution_count": 24,
     "metadata": {},
     "output_type": "execute_result"
    }
   ],
   "source": [
    "Cat1 = TrimmedUSDAHoney2.groupby(['Commodity_Description','Year'], as_index=False).agg(max)\n",
    "Cat1"
   ]
  },
  {
   "cell_type": "code",
   "execution_count": 25,
   "id": "834011ac-f40f-46ea-8be4-b690200c9a58",
   "metadata": {},
   "outputs": [
    {
     "name": "stdout",
     "output_type": "stream",
     "text": [
      "Dairy, Butter\n",
      "Dairy, Cheese\n",
      "Dairy, Dry Whole Milk Powder\n",
      "Dairy, Milk, Fluid\n",
      "Dairy, Milk, Nonfat Dry\n",
      "Honey\n",
      "Meat, Beef and Veal\n",
      "Meat, Chicken\n",
      "Meat, Swine\n",
      "Poultry, Meat, Broiler\n",
      "Poultry, Meat, Turkey\n"
     ]
    }
   ],
   "source": [
    "for col_name in Cat1.Commodity_Description.unique():\n",
    "    print(col_name)"
   ]
  },
  {
   "cell_type": "markdown",
   "id": "b4c4e79f-6628-4558-bd64-760470684e42",
   "metadata": {},
   "source": [
    "."
   ]
  },
  {
   "cell_type": "markdown",
   "id": "0442c10f-15d2-4007-86b2-6bf1e90ff965",
   "metadata": {},
   "source": [
    "Dropping values for multicolinearity. (dairy butter, dairy cheese, dry whole milk powder, milk nonfat dry) "
   ]
  },
  {
   "cell_type": "markdown",
   "id": "091c29cf-2792-4381-961d-61b06a6f16dd",
   "metadata": {},
   "source": [
    "."
   ]
  },
  {
   "cell_type": "code",
   "execution_count": 26,
   "id": "6a9852fd-0cfc-4726-b984-293e894fb6b7",
   "metadata": {},
   "outputs": [],
   "source": [
    "# Cat1 = Cat1[Cat1.Commodity_Description == 'Dairy, Butter','Dairy, Cheese','Dairy, Dry Whole Milk Powder','Dairy, Milk, Nonfat Dry' ]"
   ]
  },
  {
   "cell_type": "code",
   "execution_count": 27,
   "id": "1d4c1a84-01b4-4f61-ae81-1ba7216a1a52",
   "metadata": {},
   "outputs": [],
   "source": [
    "Cat1 = Cat1[Cat1.Commodity_Description != 'Dairy, Butter']"
   ]
  },
  {
   "cell_type": "code",
   "execution_count": 28,
   "id": "4db5ebfa-e126-4861-bc5f-cacb21608946",
   "metadata": {},
   "outputs": [],
   "source": [
    "Cat1 = Cat1[Cat1.Commodity_Description !='Dairy, Cheese']"
   ]
  },
  {
   "cell_type": "code",
   "execution_count": 29,
   "id": "b57964e9-2665-40a7-aa02-a0c5fdc4ef08",
   "metadata": {},
   "outputs": [],
   "source": [
    "Cat1 = Cat1[Cat1.Commodity_Description !='Dairy, Dry Whole Milk Powder']"
   ]
  },
  {
   "cell_type": "code",
   "execution_count": 30,
   "id": "46b76969-8b5f-43df-8eac-9d69021cf24d",
   "metadata": {},
   "outputs": [],
   "source": [
    "Cat1 = Cat1[Cat1.Commodity_Description !='Dairy, Milk, Nonfat Dry']"
   ]
  },
  {
   "cell_type": "code",
   "execution_count": 31,
   "id": "c67577e3-b45e-47f2-90fa-eeee276baa84",
   "metadata": {},
   "outputs": [
    {
     "name": "stdout",
     "output_type": "stream",
     "text": [
      "Dairy, Milk, Fluid\n",
      "Honey\n",
      "Meat, Beef and Veal\n",
      "Meat, Chicken\n",
      "Meat, Swine\n",
      "Poultry, Meat, Broiler\n",
      "Poultry, Meat, Turkey\n"
     ]
    }
   ],
   "source": [
    "for col_name in Cat1.Commodity_Description.unique():\n",
    "    print(col_name)"
   ]
  },
  {
   "cell_type": "markdown",
   "id": "c1fd7276-9fec-439f-9b78-ca031ab8bbd3",
   "metadata": {},
   "source": [
    "."
   ]
  },
  {
   "cell_type": "markdown",
   "id": "dcba1a02-0391-41c2-b062-f0855a96d1f7",
   "metadata": {},
   "source": [
    "Compare the numbers of poultry meat chicken vs broiler (maybe drop one)"
   ]
  },
  {
   "cell_type": "markdown",
   "id": "95d556b3-7511-484e-b8a5-69c8c0ccf2d5",
   "metadata": {},
   "source": [
    "."
   ]
  },
  {
   "cell_type": "code",
   "execution_count": 32,
   "id": "d5a05ed6-8d9e-4d8c-a3b7-990f52d84edf",
   "metadata": {},
   "outputs": [
    {
     "data": {
      "text/html": [
       "<div>\n",
       "<style scoped>\n",
       "    .dataframe tbody tr th:only-of-type {\n",
       "        vertical-align: middle;\n",
       "    }\n",
       "\n",
       "    .dataframe tbody tr th {\n",
       "        vertical-align: top;\n",
       "    }\n",
       "\n",
       "    .dataframe thead th {\n",
       "        text-align: right;\n",
       "    }\n",
       "</style>\n",
       "<table border=\"1\" class=\"dataframe\">\n",
       "  <thead>\n",
       "    <tr style=\"text-align: right;\">\n",
       "      <th></th>\n",
       "      <th>Commodity_Description</th>\n",
       "      <th>Year</th>\n",
       "      <th>Country_Code</th>\n",
       "      <th>Attribute_Description</th>\n",
       "      <th>Unit_Description</th>\n",
       "      <th>Value</th>\n",
       "    </tr>\n",
       "  </thead>\n",
       "  <tbody>\n",
       "    <tr>\n",
       "      <th>105</th>\n",
       "      <td>Meat, Chicken</td>\n",
       "      <td>1999</td>\n",
       "      <td>US</td>\n",
       "      <td>Production</td>\n",
       "      <td>(MT)</td>\n",
       "      <td>13618000.0</td>\n",
       "    </tr>\n",
       "    <tr>\n",
       "      <th>106</th>\n",
       "      <td>Meat, Chicken</td>\n",
       "      <td>2000</td>\n",
       "      <td>US</td>\n",
       "      <td>Production</td>\n",
       "      <td>(MT)</td>\n",
       "      <td>13943000.0</td>\n",
       "    </tr>\n",
       "    <tr>\n",
       "      <th>107</th>\n",
       "      <td>Meat, Chicken</td>\n",
       "      <td>2001</td>\n",
       "      <td>US</td>\n",
       "      <td>Production</td>\n",
       "      <td>(MT)</td>\n",
       "      <td>14267000.0</td>\n",
       "    </tr>\n",
       "    <tr>\n",
       "      <th>108</th>\n",
       "      <td>Meat, Chicken</td>\n",
       "      <td>2002</td>\n",
       "      <td>US</td>\n",
       "      <td>Production</td>\n",
       "      <td>(MT)</td>\n",
       "      <td>14715000.0</td>\n",
       "    </tr>\n",
       "    <tr>\n",
       "      <th>109</th>\n",
       "      <td>Meat, Chicken</td>\n",
       "      <td>2003</td>\n",
       "      <td>US</td>\n",
       "      <td>Production</td>\n",
       "      <td>(MT)</td>\n",
       "      <td>14924000.0</td>\n",
       "    </tr>\n",
       "    <tr>\n",
       "      <th>110</th>\n",
       "      <td>Meat, Chicken</td>\n",
       "      <td>2004</td>\n",
       "      <td>US</td>\n",
       "      <td>Production</td>\n",
       "      <td>(MT)</td>\n",
       "      <td>15514000.0</td>\n",
       "    </tr>\n",
       "    <tr>\n",
       "      <th>111</th>\n",
       "      <td>Meat, Chicken</td>\n",
       "      <td>2005</td>\n",
       "      <td>US</td>\n",
       "      <td>Production</td>\n",
       "      <td>(MT)</td>\n",
       "      <td>16104000.0</td>\n",
       "    </tr>\n",
       "    <tr>\n",
       "      <th>112</th>\n",
       "      <td>Meat, Chicken</td>\n",
       "      <td>2006</td>\n",
       "      <td>US</td>\n",
       "      <td>Production</td>\n",
       "      <td>(MT)</td>\n",
       "      <td>16159000.0</td>\n",
       "    </tr>\n",
       "    <tr>\n",
       "      <th>113</th>\n",
       "      <td>Meat, Chicken</td>\n",
       "      <td>2007</td>\n",
       "      <td>US</td>\n",
       "      <td>Production</td>\n",
       "      <td>(MT)</td>\n",
       "      <td>16452000.0</td>\n",
       "    </tr>\n",
       "    <tr>\n",
       "      <th>114</th>\n",
       "      <td>Meat, Chicken</td>\n",
       "      <td>2008</td>\n",
       "      <td>US</td>\n",
       "      <td>Production</td>\n",
       "      <td>(MT)</td>\n",
       "      <td>16815000.0</td>\n",
       "    </tr>\n",
       "    <tr>\n",
       "      <th>115</th>\n",
       "      <td>Meat, Chicken</td>\n",
       "      <td>2009</td>\n",
       "      <td>US</td>\n",
       "      <td>Production</td>\n",
       "      <td>(MT)</td>\n",
       "      <td>16162000.0</td>\n",
       "    </tr>\n",
       "    <tr>\n",
       "      <th>116</th>\n",
       "      <td>Meat, Chicken</td>\n",
       "      <td>2010</td>\n",
       "      <td>US</td>\n",
       "      <td>Production</td>\n",
       "      <td>(MT)</td>\n",
       "      <td>16791000.0</td>\n",
       "    </tr>\n",
       "    <tr>\n",
       "      <th>117</th>\n",
       "      <td>Meat, Chicken</td>\n",
       "      <td>2011</td>\n",
       "      <td>US</td>\n",
       "      <td>Production</td>\n",
       "      <td>(MT)</td>\n",
       "      <td>16931000.0</td>\n",
       "    </tr>\n",
       "    <tr>\n",
       "      <th>118</th>\n",
       "      <td>Meat, Chicken</td>\n",
       "      <td>2012</td>\n",
       "      <td>US</td>\n",
       "      <td>Production</td>\n",
       "      <td>(MT)</td>\n",
       "      <td>16856000.0</td>\n",
       "    </tr>\n",
       "    <tr>\n",
       "      <th>134</th>\n",
       "      <td>Poultry, Meat, Broiler</td>\n",
       "      <td>1998</td>\n",
       "      <td>US</td>\n",
       "      <td>Production</td>\n",
       "      <td>(MT)</td>\n",
       "      <td>12525000.0</td>\n",
       "    </tr>\n",
       "    <tr>\n",
       "      <th>135</th>\n",
       "      <td>Poultry, Meat, Broiler</td>\n",
       "      <td>1999</td>\n",
       "      <td>US</td>\n",
       "      <td>Production</td>\n",
       "      <td>(MT)</td>\n",
       "      <td>13367000.0</td>\n",
       "    </tr>\n",
       "    <tr>\n",
       "      <th>136</th>\n",
       "      <td>Poultry, Meat, Broiler</td>\n",
       "      <td>2000</td>\n",
       "      <td>US</td>\n",
       "      <td>Production</td>\n",
       "      <td>(MT)</td>\n",
       "      <td>13703000.0</td>\n",
       "    </tr>\n",
       "    <tr>\n",
       "      <th>137</th>\n",
       "      <td>Poultry, Meat, Broiler</td>\n",
       "      <td>2001</td>\n",
       "      <td>US</td>\n",
       "      <td>Production</td>\n",
       "      <td>(MT)</td>\n",
       "      <td>14033000.0</td>\n",
       "    </tr>\n",
       "    <tr>\n",
       "      <th>138</th>\n",
       "      <td>Poultry, Meat, Broiler</td>\n",
       "      <td>2002</td>\n",
       "      <td>US</td>\n",
       "      <td>Production</td>\n",
       "      <td>(MT)</td>\n",
       "      <td>14467000.0</td>\n",
       "    </tr>\n",
       "    <tr>\n",
       "      <th>139</th>\n",
       "      <td>Poultry, Meat, Broiler</td>\n",
       "      <td>2003</td>\n",
       "      <td>US</td>\n",
       "      <td>Production</td>\n",
       "      <td>(MT)</td>\n",
       "      <td>14696000.0</td>\n",
       "    </tr>\n",
       "    <tr>\n",
       "      <th>140</th>\n",
       "      <td>Poultry, Meat, Broiler</td>\n",
       "      <td>2004</td>\n",
       "      <td>US</td>\n",
       "      <td>Production</td>\n",
       "      <td>(MT)</td>\n",
       "      <td>15286000.0</td>\n",
       "    </tr>\n",
       "    <tr>\n",
       "      <th>141</th>\n",
       "      <td>Poultry, Meat, Broiler</td>\n",
       "      <td>2005</td>\n",
       "      <td>US</td>\n",
       "      <td>Production</td>\n",
       "      <td>(MT)</td>\n",
       "      <td>15870000.0</td>\n",
       "    </tr>\n",
       "    <tr>\n",
       "      <th>142</th>\n",
       "      <td>Poultry, Meat, Broiler</td>\n",
       "      <td>2006</td>\n",
       "      <td>US</td>\n",
       "      <td>Production</td>\n",
       "      <td>(MT)</td>\n",
       "      <td>16233000.0</td>\n",
       "    </tr>\n",
       "    <tr>\n",
       "      <th>143</th>\n",
       "      <td>Poultry, Meat, Broiler</td>\n",
       "      <td>2007</td>\n",
       "      <td>US</td>\n",
       "      <td>Production</td>\n",
       "      <td>(MT)</td>\n",
       "      <td>16413000.0</td>\n",
       "    </tr>\n",
       "    <tr>\n",
       "      <th>144</th>\n",
       "      <td>Poultry, Meat, Broiler</td>\n",
       "      <td>2008</td>\n",
       "      <td>US</td>\n",
       "      <td>Production</td>\n",
       "      <td>(MT)</td>\n",
       "      <td>16677000.0</td>\n",
       "    </tr>\n",
       "    <tr>\n",
       "      <th>145</th>\n",
       "      <td>Poultry, Meat, Broiler</td>\n",
       "      <td>2009</td>\n",
       "      <td>US</td>\n",
       "      <td>Production</td>\n",
       "      <td>(MT)</td>\n",
       "      <td>16487000.0</td>\n",
       "    </tr>\n",
       "    <tr>\n",
       "      <th>146</th>\n",
       "      <td>Poultry, Meat, Broiler</td>\n",
       "      <td>2010</td>\n",
       "      <td>US</td>\n",
       "      <td>Production</td>\n",
       "      <td>(MT)</td>\n",
       "      <td>16563000.0</td>\n",
       "    </tr>\n",
       "    <tr>\n",
       "      <th>147</th>\n",
       "      <td>Poultry, Meat, Broiler</td>\n",
       "      <td>2011</td>\n",
       "      <td>US</td>\n",
       "      <td>Production</td>\n",
       "      <td>(MT)</td>\n",
       "      <td>16792000.0</td>\n",
       "    </tr>\n",
       "    <tr>\n",
       "      <th>148</th>\n",
       "      <td>Poultry, Meat, Broiler</td>\n",
       "      <td>2012</td>\n",
       "      <td>US</td>\n",
       "      <td>Production</td>\n",
       "      <td>(MT)</td>\n",
       "      <td>16621000.0</td>\n",
       "    </tr>\n",
       "  </tbody>\n",
       "</table>\n",
       "</div>"
      ],
      "text/plain": [
       "      Commodity_Description  Year Country_Code Attribute_Description  \\\n",
       "105           Meat, Chicken  1999           US            Production   \n",
       "106           Meat, Chicken  2000           US            Production   \n",
       "107           Meat, Chicken  2001           US            Production   \n",
       "108           Meat, Chicken  2002           US            Production   \n",
       "109           Meat, Chicken  2003           US            Production   \n",
       "110           Meat, Chicken  2004           US            Production   \n",
       "111           Meat, Chicken  2005           US            Production   \n",
       "112           Meat, Chicken  2006           US            Production   \n",
       "113           Meat, Chicken  2007           US            Production   \n",
       "114           Meat, Chicken  2008           US            Production   \n",
       "115           Meat, Chicken  2009           US            Production   \n",
       "116           Meat, Chicken  2010           US            Production   \n",
       "117           Meat, Chicken  2011           US            Production   \n",
       "118           Meat, Chicken  2012           US            Production   \n",
       "134  Poultry, Meat, Broiler  1998           US            Production   \n",
       "135  Poultry, Meat, Broiler  1999           US            Production   \n",
       "136  Poultry, Meat, Broiler  2000           US            Production   \n",
       "137  Poultry, Meat, Broiler  2001           US            Production   \n",
       "138  Poultry, Meat, Broiler  2002           US            Production   \n",
       "139  Poultry, Meat, Broiler  2003           US            Production   \n",
       "140  Poultry, Meat, Broiler  2004           US            Production   \n",
       "141  Poultry, Meat, Broiler  2005           US            Production   \n",
       "142  Poultry, Meat, Broiler  2006           US            Production   \n",
       "143  Poultry, Meat, Broiler  2007           US            Production   \n",
       "144  Poultry, Meat, Broiler  2008           US            Production   \n",
       "145  Poultry, Meat, Broiler  2009           US            Production   \n",
       "146  Poultry, Meat, Broiler  2010           US            Production   \n",
       "147  Poultry, Meat, Broiler  2011           US            Production   \n",
       "148  Poultry, Meat, Broiler  2012           US            Production   \n",
       "\n",
       "    Unit_Description       Value  \n",
       "105             (MT)  13618000.0  \n",
       "106             (MT)  13943000.0  \n",
       "107             (MT)  14267000.0  \n",
       "108             (MT)  14715000.0  \n",
       "109             (MT)  14924000.0  \n",
       "110             (MT)  15514000.0  \n",
       "111             (MT)  16104000.0  \n",
       "112             (MT)  16159000.0  \n",
       "113             (MT)  16452000.0  \n",
       "114             (MT)  16815000.0  \n",
       "115             (MT)  16162000.0  \n",
       "116             (MT)  16791000.0  \n",
       "117             (MT)  16931000.0  \n",
       "118             (MT)  16856000.0  \n",
       "134             (MT)  12525000.0  \n",
       "135             (MT)  13367000.0  \n",
       "136             (MT)  13703000.0  \n",
       "137             (MT)  14033000.0  \n",
       "138             (MT)  14467000.0  \n",
       "139             (MT)  14696000.0  \n",
       "140             (MT)  15286000.0  \n",
       "141             (MT)  15870000.0  \n",
       "142             (MT)  16233000.0  \n",
       "143             (MT)  16413000.0  \n",
       "144             (MT)  16677000.0  \n",
       "145             (MT)  16487000.0  \n",
       "146             (MT)  16563000.0  \n",
       "147             (MT)  16792000.0  \n",
       "148             (MT)  16621000.0  "
      ]
     },
     "execution_count": 32,
     "metadata": {},
     "output_type": "execute_result"
    }
   ],
   "source": [
    "Compare = Cat1.loc[((Cat1['Commodity_Description']=='Meat, Chicken') | (Cat1['Commodity_Description']=='Poultry, Meat, Broiler'))]\n",
    "Compare"
   ]
  },
  {
   "cell_type": "code",
   "execution_count": 33,
   "id": "c9395280-e83e-4611-ba49-db6290315056",
   "metadata": {},
   "outputs": [],
   "source": [
    "abc = (Cat1[Cat1.Year == 2004])"
   ]
  },
  {
   "cell_type": "markdown",
   "id": "c25a93b6-081f-487b-8bde-8e95de36085d",
   "metadata": {},
   "source": [
    "."
   ]
  },
  {
   "cell_type": "markdown",
   "id": "13f35380-1dd2-411c-9dda-a338a8ee4fbf",
   "metadata": {},
   "source": [
    "Dropping Broiler"
   ]
  },
  {
   "cell_type": "markdown",
   "id": "ed7e4ada-6b95-4987-8abc-4332d8f69fec",
   "metadata": {},
   "source": [
    "."
   ]
  },
  {
   "cell_type": "code",
   "execution_count": 34,
   "id": "09a53aee-38f9-423e-8b1d-341be2b1a5a4",
   "metadata": {},
   "outputs": [
    {
     "data": {
      "text/html": [
       "<div>\n",
       "<style scoped>\n",
       "    .dataframe tbody tr th:only-of-type {\n",
       "        vertical-align: middle;\n",
       "    }\n",
       "\n",
       "    .dataframe tbody tr th {\n",
       "        vertical-align: top;\n",
       "    }\n",
       "\n",
       "    .dataframe thead th {\n",
       "        text-align: right;\n",
       "    }\n",
       "</style>\n",
       "<table border=\"1\" class=\"dataframe\">\n",
       "  <thead>\n",
       "    <tr style=\"text-align: right;\">\n",
       "      <th></th>\n",
       "      <th>Commodity_Description</th>\n",
       "      <th>Year</th>\n",
       "      <th>Country_Code</th>\n",
       "      <th>Attribute_Description</th>\n",
       "      <th>Unit_Description</th>\n",
       "      <th>Value</th>\n",
       "    </tr>\n",
       "  </thead>\n",
       "  <tbody>\n",
       "    <tr>\n",
       "      <th>45</th>\n",
       "      <td>Dairy, Milk, Fluid</td>\n",
       "      <td>1998</td>\n",
       "      <td>US</td>\n",
       "      <td>Production</td>\n",
       "      <td>(MT)</td>\n",
       "      <td>71334000.0</td>\n",
       "    </tr>\n",
       "    <tr>\n",
       "      <th>46</th>\n",
       "      <td>Dairy, Milk, Fluid</td>\n",
       "      <td>1999</td>\n",
       "      <td>US</td>\n",
       "      <td>Production</td>\n",
       "      <td>(MT)</td>\n",
       "      <td>73750000.0</td>\n",
       "    </tr>\n",
       "    <tr>\n",
       "      <th>47</th>\n",
       "      <td>Dairy, Milk, Fluid</td>\n",
       "      <td>2000</td>\n",
       "      <td>US</td>\n",
       "      <td>Production</td>\n",
       "      <td>(MT)</td>\n",
       "      <td>75929000.0</td>\n",
       "    </tr>\n",
       "    <tr>\n",
       "      <th>48</th>\n",
       "      <td>Dairy, Milk, Fluid</td>\n",
       "      <td>2001</td>\n",
       "      <td>US</td>\n",
       "      <td>Production</td>\n",
       "      <td>(MT)</td>\n",
       "      <td>74994000.0</td>\n",
       "    </tr>\n",
       "    <tr>\n",
       "      <th>49</th>\n",
       "      <td>Dairy, Milk, Fluid</td>\n",
       "      <td>2002</td>\n",
       "      <td>US</td>\n",
       "      <td>Production</td>\n",
       "      <td>(MT)</td>\n",
       "      <td>77140000.0</td>\n",
       "    </tr>\n",
       "    <tr>\n",
       "      <th>...</th>\n",
       "      <td>...</td>\n",
       "      <td>...</td>\n",
       "      <td>...</td>\n",
       "      <td>...</td>\n",
       "      <td>...</td>\n",
       "      <td>...</td>\n",
       "    </tr>\n",
       "    <tr>\n",
       "      <th>159</th>\n",
       "      <td>Poultry, Meat, Turkey</td>\n",
       "      <td>2008</td>\n",
       "      <td>US</td>\n",
       "      <td>Production</td>\n",
       "      <td>(MT)</td>\n",
       "      <td>2801000.0</td>\n",
       "    </tr>\n",
       "    <tr>\n",
       "      <th>160</th>\n",
       "      <td>Poultry, Meat, Turkey</td>\n",
       "      <td>2009</td>\n",
       "      <td>US</td>\n",
       "      <td>Production</td>\n",
       "      <td>(MT)</td>\n",
       "      <td>2733000.0</td>\n",
       "    </tr>\n",
       "    <tr>\n",
       "      <th>161</th>\n",
       "      <td>Poultry, Meat, Turkey</td>\n",
       "      <td>2010</td>\n",
       "      <td>US</td>\n",
       "      <td>Production</td>\n",
       "      <td>(MT)</td>\n",
       "      <td>2607000.0</td>\n",
       "    </tr>\n",
       "    <tr>\n",
       "      <th>162</th>\n",
       "      <td>Poultry, Meat, Turkey</td>\n",
       "      <td>2011</td>\n",
       "      <td>US</td>\n",
       "      <td>Production</td>\n",
       "      <td>(MT)</td>\n",
       "      <td>2593000.0</td>\n",
       "    </tr>\n",
       "    <tr>\n",
       "      <th>163</th>\n",
       "      <td>Poultry, Meat, Turkey</td>\n",
       "      <td>2012</td>\n",
       "      <td>US</td>\n",
       "      <td>Production</td>\n",
       "      <td>(MT)</td>\n",
       "      <td>2675000.0</td>\n",
       "    </tr>\n",
       "  </tbody>\n",
       "</table>\n",
       "<p>89 rows × 6 columns</p>\n",
       "</div>"
      ],
      "text/plain": [
       "     Commodity_Description  Year Country_Code Attribute_Description  \\\n",
       "45      Dairy, Milk, Fluid  1998           US            Production   \n",
       "46      Dairy, Milk, Fluid  1999           US            Production   \n",
       "47      Dairy, Milk, Fluid  2000           US            Production   \n",
       "48      Dairy, Milk, Fluid  2001           US            Production   \n",
       "49      Dairy, Milk, Fluid  2002           US            Production   \n",
       "..                     ...   ...          ...                   ...   \n",
       "159  Poultry, Meat, Turkey  2008           US            Production   \n",
       "160  Poultry, Meat, Turkey  2009           US            Production   \n",
       "161  Poultry, Meat, Turkey  2010           US            Production   \n",
       "162  Poultry, Meat, Turkey  2011           US            Production   \n",
       "163  Poultry, Meat, Turkey  2012           US            Production   \n",
       "\n",
       "    Unit_Description       Value  \n",
       "45              (MT)  71334000.0  \n",
       "46              (MT)  73750000.0  \n",
       "47              (MT)  75929000.0  \n",
       "48              (MT)  74994000.0  \n",
       "49              (MT)  77140000.0  \n",
       "..               ...         ...  \n",
       "159             (MT)   2801000.0  \n",
       "160             (MT)   2733000.0  \n",
       "161             (MT)   2607000.0  \n",
       "162             (MT)   2593000.0  \n",
       "163             (MT)   2675000.0  \n",
       "\n",
       "[89 rows x 6 columns]"
      ]
     },
     "execution_count": 34,
     "metadata": {},
     "output_type": "execute_result"
    }
   ],
   "source": [
    "Cat1 = Cat1[Cat1.Commodity_Description != 'Poultry, Meat, Broiler']\n",
    "Cat1"
   ]
  },
  {
   "cell_type": "code",
   "execution_count": 35,
   "id": "b75304c5-ac48-4c70-bcab-238bdccc303a",
   "metadata": {},
   "outputs": [
    {
     "name": "stdout",
     "output_type": "stream",
     "text": [
      "Dairy, Milk, Fluid\n",
      "Honey\n",
      "Meat, Beef and Veal\n",
      "Meat, Chicken\n",
      "Meat, Swine\n",
      "Poultry, Meat, Turkey\n"
     ]
    }
   ],
   "source": [
    "for col_name in Cat1.Commodity_Description.unique():\n",
    "    print(col_name)"
   ]
  },
  {
   "cell_type": "code",
   "execution_count": 36,
   "id": "a557211b-8f6e-43bb-98c5-4656346142ef",
   "metadata": {},
   "outputs": [],
   "source": [
    "# Cat1.to_csv('Cat1.csv')"
   ]
  },
  {
   "cell_type": "markdown",
   "id": "5b2d2447-59fa-4e11-929d-f8df420834ff",
   "metadata": {},
   "source": [
    "."
   ]
  },
  {
   "cell_type": "markdown",
   "id": "ec629fed-8f40-4655-a1df-d39503eb721b",
   "metadata": {},
   "source": [
    "Dropping columns to leave Honey,year and other commodities"
   ]
  },
  {
   "cell_type": "markdown",
   "id": "9e9bf89e-9d48-4188-a13e-9f3801bd08ad",
   "metadata": {},
   "source": [
    "."
   ]
  },
  {
   "cell_type": "code",
   "execution_count": 37,
   "id": "c54878fe-65ad-4e98-9d84-bd8cb07a1e95",
   "metadata": {},
   "outputs": [
    {
     "data": {
      "text/html": [
       "<div>\n",
       "<style scoped>\n",
       "    .dataframe tbody tr th:only-of-type {\n",
       "        vertical-align: middle;\n",
       "    }\n",
       "\n",
       "    .dataframe tbody tr th {\n",
       "        vertical-align: top;\n",
       "    }\n",
       "\n",
       "    .dataframe thead th {\n",
       "        text-align: right;\n",
       "    }\n",
       "</style>\n",
       "<table border=\"1\" class=\"dataframe\">\n",
       "  <thead>\n",
       "    <tr style=\"text-align: right;\">\n",
       "      <th></th>\n",
       "      <th>Commodity_Description</th>\n",
       "      <th>Year</th>\n",
       "      <th>Country_Code</th>\n",
       "      <th>Value</th>\n",
       "    </tr>\n",
       "  </thead>\n",
       "  <tbody>\n",
       "    <tr>\n",
       "      <th>45</th>\n",
       "      <td>Dairy, Milk, Fluid</td>\n",
       "      <td>1998</td>\n",
       "      <td>US</td>\n",
       "      <td>71334000.0</td>\n",
       "    </tr>\n",
       "    <tr>\n",
       "      <th>46</th>\n",
       "      <td>Dairy, Milk, Fluid</td>\n",
       "      <td>1999</td>\n",
       "      <td>US</td>\n",
       "      <td>73750000.0</td>\n",
       "    </tr>\n",
       "    <tr>\n",
       "      <th>47</th>\n",
       "      <td>Dairy, Milk, Fluid</td>\n",
       "      <td>2000</td>\n",
       "      <td>US</td>\n",
       "      <td>75929000.0</td>\n",
       "    </tr>\n",
       "    <tr>\n",
       "      <th>48</th>\n",
       "      <td>Dairy, Milk, Fluid</td>\n",
       "      <td>2001</td>\n",
       "      <td>US</td>\n",
       "      <td>74994000.0</td>\n",
       "    </tr>\n",
       "    <tr>\n",
       "      <th>49</th>\n",
       "      <td>Dairy, Milk, Fluid</td>\n",
       "      <td>2002</td>\n",
       "      <td>US</td>\n",
       "      <td>77140000.0</td>\n",
       "    </tr>\n",
       "    <tr>\n",
       "      <th>...</th>\n",
       "      <td>...</td>\n",
       "      <td>...</td>\n",
       "      <td>...</td>\n",
       "      <td>...</td>\n",
       "    </tr>\n",
       "    <tr>\n",
       "      <th>159</th>\n",
       "      <td>Poultry, Meat, Turkey</td>\n",
       "      <td>2008</td>\n",
       "      <td>US</td>\n",
       "      <td>2801000.0</td>\n",
       "    </tr>\n",
       "    <tr>\n",
       "      <th>160</th>\n",
       "      <td>Poultry, Meat, Turkey</td>\n",
       "      <td>2009</td>\n",
       "      <td>US</td>\n",
       "      <td>2733000.0</td>\n",
       "    </tr>\n",
       "    <tr>\n",
       "      <th>161</th>\n",
       "      <td>Poultry, Meat, Turkey</td>\n",
       "      <td>2010</td>\n",
       "      <td>US</td>\n",
       "      <td>2607000.0</td>\n",
       "    </tr>\n",
       "    <tr>\n",
       "      <th>162</th>\n",
       "      <td>Poultry, Meat, Turkey</td>\n",
       "      <td>2011</td>\n",
       "      <td>US</td>\n",
       "      <td>2593000.0</td>\n",
       "    </tr>\n",
       "    <tr>\n",
       "      <th>163</th>\n",
       "      <td>Poultry, Meat, Turkey</td>\n",
       "      <td>2012</td>\n",
       "      <td>US</td>\n",
       "      <td>2675000.0</td>\n",
       "    </tr>\n",
       "  </tbody>\n",
       "</table>\n",
       "<p>89 rows × 4 columns</p>\n",
       "</div>"
      ],
      "text/plain": [
       "     Commodity_Description  Year Country_Code       Value\n",
       "45      Dairy, Milk, Fluid  1998           US  71334000.0\n",
       "46      Dairy, Milk, Fluid  1999           US  73750000.0\n",
       "47      Dairy, Milk, Fluid  2000           US  75929000.0\n",
       "48      Dairy, Milk, Fluid  2001           US  74994000.0\n",
       "49      Dairy, Milk, Fluid  2002           US  77140000.0\n",
       "..                     ...   ...          ...         ...\n",
       "159  Poultry, Meat, Turkey  2008           US   2801000.0\n",
       "160  Poultry, Meat, Turkey  2009           US   2733000.0\n",
       "161  Poultry, Meat, Turkey  2010           US   2607000.0\n",
       "162  Poultry, Meat, Turkey  2011           US   2593000.0\n",
       "163  Poultry, Meat, Turkey  2012           US   2675000.0\n",
       "\n",
       "[89 rows x 4 columns]"
      ]
     },
     "execution_count": 37,
     "metadata": {},
     "output_type": "execute_result"
    }
   ],
   "source": [
    "Cat1.drop('Attribute_Description', inplace=True, axis=1)\n",
    "Cat1.drop('Unit_Description', inplace=True, axis=1)\n",
    "Cat1"
   ]
  },
  {
   "cell_type": "markdown",
   "id": "22fd7a33-505a-4723-9214-d00112005689",
   "metadata": {},
   "source": [
    "."
   ]
  },
  {
   "cell_type": "markdown",
   "id": "a218890a-da71-4d97-ae9b-7aeadbd52eea",
   "metadata": {},
   "source": [
    "Reshaping the df for the correlation matrix"
   ]
  },
  {
   "cell_type": "markdown",
   "id": "9b7ebdb6-73cf-4a36-80db-66ebe8d92761",
   "metadata": {},
   "source": [
    "."
   ]
  },
  {
   "cell_type": "code",
   "execution_count": 38,
   "id": "5fb1888c-2583-4bcb-80fa-d2d6da27277d",
   "metadata": {},
   "outputs": [
    {
     "name": "stdout",
     "output_type": "stream",
     "text": [
      "    Year  Dairy, Milk, Fluid        Honey  Meat, Beef and Veal  Meat, Chicken  \\\n",
      "0   1998          71334000.0  99571.62321           11804000.0            NaN   \n",
      "1   1999          73750000.0  91800.71933           12124000.0     13618000.0   \n",
      "2   2000          75929000.0  99589.31322           12298000.0     13943000.0   \n",
      "3   2001          74994000.0  84253.43532           11983000.0     14267000.0   \n",
      "4   2002          77140000.0  77684.09135           12427000.0     14715000.0   \n",
      "5   2003          77290000.0  82268.52548           12039000.0     14924000.0   \n",
      "6   2004          77535000.0  82884.04711           11261000.0     15514000.0   \n",
      "7   2005          80286000.0  78910.59871           11318000.0     16104000.0   \n",
      "8   2006          82582000.0  69960.81442           11981000.0     16159000.0   \n",
      "9   2007          84211000.0  66959.40939           12168000.0     16452000.0   \n",
      "10  2008          86410000.0  73922.46948           12226000.0     16815000.0   \n",
      "11  2009          86817000.0  65801.39412           12203000.0     16162000.0   \n",
      "12  2010          87488000.0  79511.60546           12048000.0     16791000.0   \n",
      "13  2011          89020000.0  66768.90159           12048000.0     16931000.0   \n",
      "14  2012          91010000.0  63914.00613           11855000.0     16856000.0   \n",
      "\n",
      "    Meat, Swine  Poultry, Meat, Turkey  \n",
      "0     8623000.0              2365000.0  \n",
      "1     8758000.0              2372000.0  \n",
      "2     8596000.0              2419000.0  \n",
      "3     8691000.0              2490000.0  \n",
      "4     8929000.0              2557000.0  \n",
      "5     9056000.0              2529000.0  \n",
      "6     9313000.0              2441000.0  \n",
      "7     9392000.0              2464000.0  \n",
      "8     9632000.0              2545000.0  \n",
      "9     9962000.0              2667000.0  \n",
      "10   10684000.0              2801000.0  \n",
      "11   10507000.0              2733000.0  \n",
      "12   10187000.0              2607000.0  \n",
      "13   10332000.0              2593000.0  \n",
      "14   10575000.0              2675000.0  \n"
     ]
    }
   ],
   "source": [
    "Cat1Pivot = Cat1.pivot(index='Year', columns='Commodity_Description', values='Value')\\\n",
    "            .reset_index()\n",
    "Cat1Pivot.columns.name=None\n",
    "print(Cat1Pivot)"
   ]
  },
  {
   "cell_type": "code",
   "execution_count": 39,
   "id": "80347352-f766-40c4-acb5-14df777ad772",
   "metadata": {},
   "outputs": [],
   "source": [
    "# Cat1Pivot.to_csv('Cat1Pivot.csv')"
   ]
  },
  {
   "cell_type": "markdown",
   "id": "a4057098-a095-48e8-bdf1-f38265ff2a30",
   "metadata": {},
   "source": [
    "."
   ]
  },
  {
   "cell_type": "markdown",
   "id": "66ba967f-8d24-4b42-8c4c-deaaa2b7d5f3",
   "metadata": {},
   "source": [
    "Correlation"
   ]
  },
  {
   "cell_type": "markdown",
   "id": "fbe04ddf-732f-450e-b5d2-b2bc3a381b59",
   "metadata": {},
   "source": [
    "."
   ]
  },
  {
   "cell_type": "code",
   "execution_count": 40,
   "id": "05d18acd-598b-451f-991d-e271c0d247b3",
   "metadata": {},
   "outputs": [
    {
     "name": "stdout",
     "output_type": "stream",
     "text": [
      "                           Year  Dairy, Milk, Fluid     Honey  \\\n",
      "Year                   1.000000            0.988032 -0.868987   \n",
      "Dairy, Milk, Fluid     0.988032            1.000000 -0.853603   \n",
      "Honey                 -0.868987           -0.853603  1.000000   \n",
      "Meat, Beef and Veal   -0.004616            0.107295 -0.070536   \n",
      "Meat, Chicken          0.951986            0.927079 -0.827380   \n",
      "Meat, Swine            0.948936            0.959340 -0.834067   \n",
      "Poultry, Meat, Turkey  0.799770            0.832400 -0.808096   \n",
      "\n",
      "                       Meat, Beef and Veal  Meat, Chicken  Meat, Swine  \\\n",
      "Year                             -0.004616       0.951986     0.948936   \n",
      "Dairy, Milk, Fluid                0.107295       0.927079     0.959340   \n",
      "Honey                            -0.070536      -0.827380    -0.834067   \n",
      "Meat, Beef and Veal               1.000000      -0.186852     0.071269   \n",
      "Meat, Chicken                    -0.186852       1.000000     0.921237   \n",
      "Meat, Swine                       0.071269       0.921237     1.000000   \n",
      "Poultry, Meat, Turkey             0.367574       0.746910     0.883935   \n",
      "\n",
      "                       Poultry, Meat, Turkey  \n",
      "Year                                0.799770  \n",
      "Dairy, Milk, Fluid                  0.832400  \n",
      "Honey                              -0.808096  \n",
      "Meat, Beef and Veal                 0.367574  \n",
      "Meat, Chicken                       0.746910  \n",
      "Meat, Swine                         0.883935  \n",
      "Poultry, Meat, Turkey               1.000000  \n"
     ]
    }
   ],
   "source": [
    "corrMatrix = Cat1Pivot.corr()\n",
    "print (corrMatrix)"
   ]
  },
  {
   "cell_type": "code",
   "execution_count": 41,
   "id": "b26cbade-2914-4909-8b5c-37ee13067231",
   "metadata": {},
   "outputs": [
    {
     "data": {
      "text/html": [
       "<div>\n",
       "<style scoped>\n",
       "    .dataframe tbody tr th:only-of-type {\n",
       "        vertical-align: middle;\n",
       "    }\n",
       "\n",
       "    .dataframe tbody tr th {\n",
       "        vertical-align: top;\n",
       "    }\n",
       "\n",
       "    .dataframe thead th {\n",
       "        text-align: right;\n",
       "    }\n",
       "</style>\n",
       "<table border=\"1\" class=\"dataframe\">\n",
       "  <thead>\n",
       "    <tr style=\"text-align: right;\">\n",
       "      <th></th>\n",
       "      <th>Year</th>\n",
       "      <th>Dairy, Milk, Fluid</th>\n",
       "      <th>Honey</th>\n",
       "      <th>Meat, Beef and Veal</th>\n",
       "      <th>Meat, Chicken</th>\n",
       "      <th>Meat, Swine</th>\n",
       "      <th>Poultry, Meat, Turkey</th>\n",
       "    </tr>\n",
       "  </thead>\n",
       "  <tbody>\n",
       "    <tr>\n",
       "      <th>Year</th>\n",
       "      <td>1.000000</td>\n",
       "      <td>0.988032</td>\n",
       "      <td>-0.868987</td>\n",
       "      <td>-0.004616</td>\n",
       "      <td>0.951986</td>\n",
       "      <td>0.948936</td>\n",
       "      <td>0.799770</td>\n",
       "    </tr>\n",
       "    <tr>\n",
       "      <th>Dairy, Milk, Fluid</th>\n",
       "      <td>0.988032</td>\n",
       "      <td>1.000000</td>\n",
       "      <td>-0.853603</td>\n",
       "      <td>0.107295</td>\n",
       "      <td>0.927079</td>\n",
       "      <td>0.959340</td>\n",
       "      <td>0.832400</td>\n",
       "    </tr>\n",
       "    <tr>\n",
       "      <th>Honey</th>\n",
       "      <td>-0.868987</td>\n",
       "      <td>-0.853603</td>\n",
       "      <td>1.000000</td>\n",
       "      <td>-0.070536</td>\n",
       "      <td>-0.827380</td>\n",
       "      <td>-0.834067</td>\n",
       "      <td>-0.808096</td>\n",
       "    </tr>\n",
       "    <tr>\n",
       "      <th>Meat, Beef and Veal</th>\n",
       "      <td>-0.004616</td>\n",
       "      <td>0.107295</td>\n",
       "      <td>-0.070536</td>\n",
       "      <td>1.000000</td>\n",
       "      <td>-0.186852</td>\n",
       "      <td>0.071269</td>\n",
       "      <td>0.367574</td>\n",
       "    </tr>\n",
       "    <tr>\n",
       "      <th>Meat, Chicken</th>\n",
       "      <td>0.951986</td>\n",
       "      <td>0.927079</td>\n",
       "      <td>-0.827380</td>\n",
       "      <td>-0.186852</td>\n",
       "      <td>1.000000</td>\n",
       "      <td>0.921237</td>\n",
       "      <td>0.746910</td>\n",
       "    </tr>\n",
       "    <tr>\n",
       "      <th>Meat, Swine</th>\n",
       "      <td>0.948936</td>\n",
       "      <td>0.959340</td>\n",
       "      <td>-0.834067</td>\n",
       "      <td>0.071269</td>\n",
       "      <td>0.921237</td>\n",
       "      <td>1.000000</td>\n",
       "      <td>0.883935</td>\n",
       "    </tr>\n",
       "    <tr>\n",
       "      <th>Poultry, Meat, Turkey</th>\n",
       "      <td>0.799770</td>\n",
       "      <td>0.832400</td>\n",
       "      <td>-0.808096</td>\n",
       "      <td>0.367574</td>\n",
       "      <td>0.746910</td>\n",
       "      <td>0.883935</td>\n",
       "      <td>1.000000</td>\n",
       "    </tr>\n",
       "  </tbody>\n",
       "</table>\n",
       "</div>"
      ],
      "text/plain": [
       "                           Year  Dairy, Milk, Fluid     Honey  \\\n",
       "Year                   1.000000            0.988032 -0.868987   \n",
       "Dairy, Milk, Fluid     0.988032            1.000000 -0.853603   \n",
       "Honey                 -0.868987           -0.853603  1.000000   \n",
       "Meat, Beef and Veal   -0.004616            0.107295 -0.070536   \n",
       "Meat, Chicken          0.951986            0.927079 -0.827380   \n",
       "Meat, Swine            0.948936            0.959340 -0.834067   \n",
       "Poultry, Meat, Turkey  0.799770            0.832400 -0.808096   \n",
       "\n",
       "                       Meat, Beef and Veal  Meat, Chicken  Meat, Swine  \\\n",
       "Year                             -0.004616       0.951986     0.948936   \n",
       "Dairy, Milk, Fluid                0.107295       0.927079     0.959340   \n",
       "Honey                            -0.070536      -0.827380    -0.834067   \n",
       "Meat, Beef and Veal               1.000000      -0.186852     0.071269   \n",
       "Meat, Chicken                    -0.186852       1.000000     0.921237   \n",
       "Meat, Swine                       0.071269       0.921237     1.000000   \n",
       "Poultry, Meat, Turkey             0.367574       0.746910     0.883935   \n",
       "\n",
       "                       Poultry, Meat, Turkey  \n",
       "Year                                0.799770  \n",
       "Dairy, Milk, Fluid                  0.832400  \n",
       "Honey                              -0.808096  \n",
       "Meat, Beef and Veal                 0.367574  \n",
       "Meat, Chicken                       0.746910  \n",
       "Meat, Swine                         0.883935  \n",
       "Poultry, Meat, Turkey               1.000000  "
      ]
     },
     "execution_count": 41,
     "metadata": {},
     "output_type": "execute_result"
    }
   ],
   "source": [
    "corrMatrix"
   ]
  },
  {
   "cell_type": "markdown",
   "id": "5f90f393-0695-4e7f-bae7-9043db4db11d",
   "metadata": {
    "tags": []
   },
   "source": [
    "# INTERPRETATION"
   ]
  },
  {
   "cell_type": "markdown",
   "id": "1662920a-82ff-4a4b-b6dd-b60b54f66cb1",
   "metadata": {
    "tags": []
   },
   "source": [
    "### 1. Does honey production correlate with the production of any other USDA commodities in your category/group? \n",
    "### 2. Which are more highly correlated? - Correlation"
   ]
  },
  {
   "cell_type": "markdown",
   "id": "e9f36ea7-b942-46f4-ab6c-ec4326acede7",
   "metadata": {},
   "source": [
    "."
   ]
  },
  {
   "attachments": {
    "cae48244-e257-4dcc-ac11-35b02e608252.png": {
     "image/png": "[encoded data removed]"
    }
   },
   "cell_type": "markdown",
   "id": "9eb6c651-9254-411d-9020-8b6ef709c697",
   "metadata": {},
   "source": [
    "As we can see from the correlation matrix, Honey does present a highly negative correlation with \n",
    "Year,\n",
    "Dairy,\n",
    "Chicken,\n",
    "Swine(pork),\n",
    "and Turkey.\n",
    "\n",
    "\n",
    "\n",
    "\n",
    "![image.png](attachment:cae48244-e257-4dcc-ac11-35b02e608252.png)"
   ]
  },
  {
   "cell_type": "markdown",
   "id": "3b8c4f2d-c169-412e-b4d8-f8042c52ce50",
   "metadata": {},
   "source": [
    "."
   ]
  },
  {
   "cell_type": "markdown",
   "id": "ac4e0096-d86d-4a1b-a0ac-7eb63035003a",
   "metadata": {},
   "source": [
    "### 3. Have the production levels of each commodity in your category changed over time? - Linear Modeling / MANCOVA\n",
    "### 4. Other relevant / interesting findings about your category?"
   ]
  },
  {
   "cell_type": "markdown",
   "id": "a0a78e0e-7f2b-4631-a878-b53041d7c842",
   "metadata": {},
   "source": [
    "When running a pair plot to analyze the existing relationships of the commodities with Honey we can see that most present a linear relationship to explore over time."
   ]
  },
  {
   "cell_type": "markdown",
   "id": "d0abbf77-efde-4ada-80c3-395f6d40c20b",
   "metadata": {},
   "source": [
    "."
   ]
  },
  {
   "cell_type": "code",
   "execution_count": 42,
   "id": "0cd0b203-c20f-4e6f-bac9-0febb644f7f9",
   "metadata": {},
   "outputs": [
    {
     "data": {
      "text/plain": [
       "<seaborn.axisgrid.PairGrid at 0x1ae1208ba60>"
      ]
     },
     "execution_count": 42,
     "metadata": {},
     "output_type": "execute_result"
    },
    {
     "data": {
      "image/png": "[encoded data removed]",
      "text/plain": [
       "<Figure size 1260x1260 with 56 Axes>"
      ]
     },
     "metadata": {
      "needs_background": "light"
     },
     "output_type": "display_data"
    }
   ],
   "source": [
    "sns.pairplot(Cat1Pivot)"
   ]
  },
  {
   "cell_type": "markdown",
   "id": "05b137d5-a8a7-4d26-83d8-b7bd929c5b72",
   "metadata": {},
   "source": [
    "."
   ]
  },
  {
   "cell_type": "markdown",
   "id": "bf58a045-2aff-40e1-ae0d-bac476a88cbd",
   "metadata": {},
   "source": [
    "When we plot out the distribution and density of the production of these commodities over time:"
   ]
  },
  {
   "cell_type": "markdown",
   "id": "2737b531-989e-4c5b-afdf-e7efd1686c9e",
   "metadata": {},
   "source": [
    "."
   ]
  },
  {
   "cell_type": "code",
   "execution_count": 43,
   "id": "a11022e0-7bbb-4672-81d2-f411b99a092c",
   "metadata": {},
   "outputs": [
    {
     "name": "stderr",
     "output_type": "stream",
     "text": [
      "C:\\Python3\\lib\\site-packages\\seaborn\\distributions.py:2619: FutureWarning: `distplot` is a deprecated function and will be removed in a future version. Please adapt your code to use either `displot` (a figure-level function with similar flexibility) or `histplot` (an axes-level function for histograms).\n",
      "  warnings.warn(msg, FutureWarning)\n"
     ]
    },
    {
     "data": {
      "text/plain": [
       "<AxesSubplot:xlabel='Year', ylabel='Density'>"
      ]
     },
     "execution_count": 43,
     "metadata": {},
     "output_type": "execute_result"
    },
    {
     "data": {
      "image/png": "[encoded data removed]",
      "text/plain": [
       "<Figure size 432x288 with 1 Axes>"
      ]
     },
     "metadata": {
      "needs_background": "light"
     },
     "output_type": "display_data"
    }
   ],
   "source": [
    "sns.distplot(Cat1['Year'])"
   ]
  },
  {
   "cell_type": "markdown",
   "id": "0cb99a9c-65bc-4911-b691-d664a3a71148",
   "metadata": {},
   "source": [
    "."
   ]
  },
  {
   "cell_type": "markdown",
   "id": "dcdaacee-68af-4390-8627-d58eaf4b256b",
   "metadata": {},
   "source": [
    "### Linear regression"
   ]
  },
  {
   "cell_type": "markdown",
   "id": "750b81de-09f7-4737-8a90-b95bba617a8d",
   "metadata": {},
   "source": [
    "### splitting dairy, and meat  to prep for LR"
   ]
  },
  {
   "cell_type": "code",
   "execution_count": 44,
   "id": "e92ba8a5-5692-42b4-883b-28433e61474c",
   "metadata": {},
   "outputs": [
    {
     "data": {
      "text/html": [
       "<div>\n",
       "<style scoped>\n",
       "    .dataframe tbody tr th:only-of-type {\n",
       "        vertical-align: middle;\n",
       "    }\n",
       "\n",
       "    .dataframe tbody tr th {\n",
       "        vertical-align: top;\n",
       "    }\n",
       "\n",
       "    .dataframe thead th {\n",
       "        text-align: right;\n",
       "    }\n",
       "</style>\n",
       "<table border=\"1\" class=\"dataframe\">\n",
       "  <thead>\n",
       "    <tr style=\"text-align: right;\">\n",
       "      <th></th>\n",
       "      <th>Dairy, Milk, Fluid</th>\n",
       "      <th>Year</th>\n",
       "      <th>Honey</th>\n",
       "    </tr>\n",
       "  </thead>\n",
       "  <tbody>\n",
       "    <tr>\n",
       "      <th>0</th>\n",
       "      <td>71334000.0</td>\n",
       "      <td>1998</td>\n",
       "      <td>99571.62321</td>\n",
       "    </tr>\n",
       "    <tr>\n",
       "      <th>1</th>\n",
       "      <td>73750000.0</td>\n",
       "      <td>1999</td>\n",
       "      <td>91800.71933</td>\n",
       "    </tr>\n",
       "    <tr>\n",
       "      <th>2</th>\n",
       "      <td>75929000.0</td>\n",
       "      <td>2000</td>\n",
       "      <td>99589.31322</td>\n",
       "    </tr>\n",
       "    <tr>\n",
       "      <th>3</th>\n",
       "      <td>74994000.0</td>\n",
       "      <td>2001</td>\n",
       "      <td>84253.43532</td>\n",
       "    </tr>\n",
       "    <tr>\n",
       "      <th>4</th>\n",
       "      <td>77140000.0</td>\n",
       "      <td>2002</td>\n",
       "      <td>77684.09135</td>\n",
       "    </tr>\n",
       "    <tr>\n",
       "      <th>5</th>\n",
       "      <td>77290000.0</td>\n",
       "      <td>2003</td>\n",
       "      <td>82268.52548</td>\n",
       "    </tr>\n",
       "    <tr>\n",
       "      <th>6</th>\n",
       "      <td>77535000.0</td>\n",
       "      <td>2004</td>\n",
       "      <td>82884.04711</td>\n",
       "    </tr>\n",
       "    <tr>\n",
       "      <th>7</th>\n",
       "      <td>80286000.0</td>\n",
       "      <td>2005</td>\n",
       "      <td>78910.59871</td>\n",
       "    </tr>\n",
       "    <tr>\n",
       "      <th>8</th>\n",
       "      <td>82582000.0</td>\n",
       "      <td>2006</td>\n",
       "      <td>69960.81442</td>\n",
       "    </tr>\n",
       "    <tr>\n",
       "      <th>9</th>\n",
       "      <td>84211000.0</td>\n",
       "      <td>2007</td>\n",
       "      <td>66959.40939</td>\n",
       "    </tr>\n",
       "    <tr>\n",
       "      <th>10</th>\n",
       "      <td>86410000.0</td>\n",
       "      <td>2008</td>\n",
       "      <td>73922.46948</td>\n",
       "    </tr>\n",
       "    <tr>\n",
       "      <th>11</th>\n",
       "      <td>86817000.0</td>\n",
       "      <td>2009</td>\n",
       "      <td>65801.39412</td>\n",
       "    </tr>\n",
       "    <tr>\n",
       "      <th>12</th>\n",
       "      <td>87488000.0</td>\n",
       "      <td>2010</td>\n",
       "      <td>79511.60546</td>\n",
       "    </tr>\n",
       "    <tr>\n",
       "      <th>13</th>\n",
       "      <td>89020000.0</td>\n",
       "      <td>2011</td>\n",
       "      <td>66768.90159</td>\n",
       "    </tr>\n",
       "    <tr>\n",
       "      <th>14</th>\n",
       "      <td>91010000.0</td>\n",
       "      <td>2012</td>\n",
       "      <td>63914.00613</td>\n",
       "    </tr>\n",
       "  </tbody>\n",
       "</table>\n",
       "</div>"
      ],
      "text/plain": [
       "    Dairy, Milk, Fluid  Year        Honey\n",
       "0           71334000.0  1998  99571.62321\n",
       "1           73750000.0  1999  91800.71933\n",
       "2           75929000.0  2000  99589.31322\n",
       "3           74994000.0  2001  84253.43532\n",
       "4           77140000.0  2002  77684.09135\n",
       "5           77290000.0  2003  82268.52548\n",
       "6           77535000.0  2004  82884.04711\n",
       "7           80286000.0  2005  78910.59871\n",
       "8           82582000.0  2006  69960.81442\n",
       "9           84211000.0  2007  66959.40939\n",
       "10          86410000.0  2008  73922.46948\n",
       "11          86817000.0  2009  65801.39412\n",
       "12          87488000.0  2010  79511.60546\n",
       "13          89020000.0  2011  66768.90159\n",
       "14          91010000.0  2012  63914.00613"
      ]
     },
     "execution_count": 44,
     "metadata": {},
     "output_type": "execute_result"
    }
   ],
   "source": [
    "Dairy = Cat1Pivot[[ 'Dairy, Milk, Fluid', 'Year','Honey']]\n",
    "Dairy"
   ]
  },
  {
   "cell_type": "code",
   "execution_count": 45,
   "id": "420bed87-1b25-4a4a-bc3c-5d6591d2cecd",
   "metadata": {},
   "outputs": [
    {
     "data": {
      "text/plain": [
       "<seaborn.axisgrid.PairGrid at 0x1ae1705ddc0>"
      ]
     },
     "execution_count": 45,
     "metadata": {},
     "output_type": "execute_result"
    },
    {
     "data": {
      "image/png": "[encoded data removed]",
      "text/plain": [
       "<Figure size 540x540 with 12 Axes>"
      ]
     },
     "metadata": {
      "needs_background": "light"
     },
     "output_type": "display_data"
    }
   ],
   "source": [
    "sns.pairplot(Dairy)"
   ]
  },
  {
   "cell_type": "code",
   "execution_count": 47,
   "id": "d6214440-e270-4f97-b3bf-5e61d53f6be2",
   "metadata": {},
   "outputs": [
    {
     "name": "stderr",
     "output_type": "stream",
     "text": [
      "C:\\Python3\\lib\\site-packages\\seaborn\\distributions.py:2619: FutureWarning: `distplot` is a deprecated function and will be removed in a future version. Please adapt your code to use either `displot` (a figure-level function with similar flexibility) or `histplot` (an axes-level function for histograms).\n",
      "  warnings.warn(msg, FutureWarning)\n"
     ]
    },
    {
     "data": {
      "text/plain": [
       "<AxesSubplot:xlabel='Dairy, Milk, Fluid', ylabel='Density'>"
      ]
     },
     "execution_count": 47,
     "metadata": {},
     "output_type": "execute_result"
    },
    {
     "data": {
      "image/png": "[encoded data removed]",
      "text/plain": [
       "<Figure size 432x288 with 1 Axes>"
      ]
     },
     "metadata": {
      "needs_background": "light"
     },
     "output_type": "display_data"
    }
   ],
   "source": [
    "sns.distplot(Dairy['Dairy, Milk, Fluid'])"
   ]
  },
  {
   "cell_type": "code",
   "execution_count": 48,
   "id": "a844771e-032a-4a35-a456-fb0d7fa305a5",
   "metadata": {},
   "outputs": [],
   "source": [
    "import statsmodels.api as sm\n",
    "import statsmodels.stats.api as sms\n",
    "from scipy.stats import boxcox\n",
    "import warnings\n",
    "warnings.filterwarnings('ignore')"
   ]
  },
  {
   "cell_type": "code",
   "execution_count": 50,
   "id": "1dc00e1b-e538-409e-803b-9afee92db88a",
   "metadata": {},
   "outputs": [],
   "source": [
    "x1 = Dairy['Honey']\n",
    "y = Dairy['Dairy, Milk, Fluid']"
   ]
  },
  {
   "cell_type": "code",
   "execution_count": 69,
   "id": "b04e3ed4-5188-483b-bbc8-6aa9fe9322c6",
   "metadata": {},
   "outputs": [
    {
     "data": {
      "text/html": [
       "<table class=\"simpletable\">\n",
       "<caption>OLS Regression Results</caption>\n",
       "<tr>\n",
       "  <th>Dep. Variable:</th>    <td>Dairy, Milk, Fluid</td> <th>  R-squared:         </th> <td>   0.729</td>\n",
       "</tr>\n",
       "<tr>\n",
       "  <th>Model:</th>                    <td>OLS</td>        <th>  Adj. R-squared:    </th> <td>   0.708</td>\n",
       "</tr>\n",
       "<tr>\n",
       "  <th>Method:</th>              <td>Least Squares</td>   <th>  F-statistic:       </th> <td>   34.91</td>\n",
       "</tr>\n",
       "<tr>\n",
       "  <th>Date:</th>              <td>Tue, 19 Jul 2022</td>  <th>  Prob (F-statistic):</th> <td>5.17e-05</td>\n",
       "</tr>\n",
       "<tr>\n",
       "  <th>Time:</th>                  <td>22:57:45</td>      <th>  Log-Likelihood:    </th> <td> -245.49</td>\n",
       "</tr>\n",
       "<tr>\n",
       "  <th>No. Observations:</th>       <td>    15</td>       <th>  AIC:               </th> <td>   495.0</td>\n",
       "</tr>\n",
       "<tr>\n",
       "  <th>Df Residuals:</th>           <td>    13</td>       <th>  BIC:               </th> <td>   496.4</td>\n",
       "</tr>\n",
       "<tr>\n",
       "  <th>Df Model:</th>               <td>     1</td>       <th>                     </th>     <td> </td>   \n",
       "</tr>\n",
       "<tr>\n",
       "  <th>Covariance Type:</th>       <td>nonrobust</td>     <th>                     </th>     <td> </td>   \n",
       "</tr>\n",
       "</table>\n",
       "<table class=\"simpletable\">\n",
       "<tr>\n",
       "    <td></td>       <th>coef</th>     <th>std err</th>      <th>t</th>      <th>P>|t|</th>  <th>[0.025</th>    <th>0.975]</th>  \n",
       "</tr>\n",
       "<tr>\n",
       "  <th>const</th> <td>  1.17e+08</td> <td> 6.14e+06</td> <td>   19.053</td> <td> 0.000</td> <td> 1.04e+08</td> <td>  1.3e+08</td>\n",
       "</tr>\n",
       "<tr>\n",
       "  <th>Honey</th> <td> -455.0467</td> <td>   77.020</td> <td>   -5.908</td> <td> 0.000</td> <td> -621.438</td> <td> -288.656</td>\n",
       "</tr>\n",
       "</table>\n",
       "<table class=\"simpletable\">\n",
       "<tr>\n",
       "  <th>Omnibus:</th>       <td> 1.449</td> <th>  Durbin-Watson:     </th> <td>   1.475</td>\n",
       "</tr>\n",
       "<tr>\n",
       "  <th>Prob(Omnibus):</th> <td> 0.485</td> <th>  Jarque-Bera (JB):  </th> <td>   1.163</td>\n",
       "</tr>\n",
       "<tr>\n",
       "  <th>Skew:</th>          <td> 0.600</td> <th>  Prob(JB):          </th> <td>   0.559</td>\n",
       "</tr>\n",
       "<tr>\n",
       "  <th>Kurtosis:</th>      <td> 2.352</td> <th>  Cond. No.          </th> <td>5.69e+05</td>\n",
       "</tr>\n",
       "</table><br/><br/>Notes:<br/>[1] Standard Errors assume that the covariance matrix of the errors is correctly specified.<br/>[2] The condition number is large, 5.69e+05. This might indicate that there are<br/>strong multicollinearity or other numerical problems."
      ],
      "text/plain": [
       "<class 'statsmodels.iolib.summary.Summary'>\n",
       "\"\"\"\n",
       "                            OLS Regression Results                            \n",
       "==============================================================================\n",
       "Dep. Variable:     Dairy, Milk, Fluid   R-squared:                       0.729\n",
       "Model:                            OLS   Adj. R-squared:                  0.708\n",
       "Method:                 Least Squares   F-statistic:                     34.91\n",
       "Date:                Tue, 19 Jul 2022   Prob (F-statistic):           5.17e-05\n",
       "Time:                        22:57:45   Log-Likelihood:                -245.49\n",
       "No. Observations:                  15   AIC:                             495.0\n",
       "Df Residuals:                      13   BIC:                             496.4\n",
       "Df Model:                           1                                         \n",
       "Covariance Type:            nonrobust                                         \n",
       "==============================================================================\n",
       "                 coef    std err          t      P>|t|      [0.025      0.975]\n",
       "------------------------------------------------------------------------------\n",
       "const        1.17e+08   6.14e+06     19.053      0.000    1.04e+08     1.3e+08\n",
       "Honey       -455.0467     77.020     -5.908      0.000    -621.438    -288.656\n",
       "==============================================================================\n",
       "Omnibus:                        1.449   Durbin-Watson:                   1.475\n",
       "Prob(Omnibus):                  0.485   Jarque-Bera (JB):                1.163\n",
       "Skew:                           0.600   Prob(JB):                        0.559\n",
       "Kurtosis:                       2.352   Cond. No.                     5.69e+05\n",
       "==============================================================================\n",
       "\n",
       "Notes:\n",
       "[1] Standard Errors assume that the covariance matrix of the errors is correctly specified.\n",
       "[2] The condition number is large, 5.69e+05. This might indicate that there are\n",
       "strong multicollinearity or other numerical problems.\n",
       "\"\"\""
      ]
     },
     "execution_count": 69,
     "metadata": {},
     "output_type": "execute_result"
    }
   ],
   "source": [
    "x = sm.add_constant(x1)\n",
    "model = sm.OLS(y,x).fit()\n",
    "model\n",
    "model.summary()"
   ]
  },
  {
   "cell_type": "markdown",
   "id": "4fddb8ba-ac95-45b6-9c77-20564887eaf5",
   "metadata": {},
   "source": [
    "# Dairy (Deq for dairy equation) = -455.0467(Honey)+117000000.0"
   ]
  },
  {
   "cell_type": "code",
   "execution_count": 53,
   "id": "3e682dc5-6def-412f-a93f-9b30abe38294",
   "metadata": {},
   "outputs": [
    {
     "data": {
      "image/png": "[encoded data removed]",
      "text/plain": [
       "<Figure size 432x288 with 1 Axes>"
      ]
     },
     "metadata": {
      "needs_background": "light"
     },
     "output_type": "display_data"
    }
   ],
   "source": [
    "plt.scatter(x1,y)\n",
    " \n",
    "Deq = -455.0467*x1+117000000.0\n",
    " \n",
    "fig = plt.plot(x1,Deq, lw=4, c='blue', label = 'regression line')\n",
    " \n",
    "plt.xlabel('Honey Production Values', fontsize = 20)\n",
    " \n",
    "plt.ylabel('Commodity Production Values', fontsize = 20)\n",
    " \n",
    "plt.show()"
   ]
  },
  {
   "cell_type": "markdown",
   "id": "3adc4d6e-2c6a-4f55-acfb-b5089996cd6f",
   "metadata": {},
   "source": [
    "### Test for Homoscedasticity"
   ]
  },
  {
   "cell_type": "code",
   "execution_count": 56,
   "id": "e03c726f-eadf-42e8-b03f-544664401fbe",
   "metadata": {},
   "outputs": [],
   "source": [
    "pred_val = model.fittedvalues.copy()\n",
    "true_val = Dairy['Dairy, Milk, Fluid'].values.copy()\n",
    "residual = true_val - pred_val"
   ]
  },
  {
   "cell_type": "code",
   "execution_count": 57,
   "id": "e4008576-67c2-4c63-ba25-1679beb69cd7",
   "metadata": {},
   "outputs": [
    {
     "data": {
      "image/png": "[encoded data removed]",
      "text/plain": [
       "<Figure size 432x180 with 1 Axes>"
      ]
     },
     "metadata": {
      "needs_background": "light"
     },
     "output_type": "display_data"
    }
   ],
   "source": [
    "fig, ax = plt.subplots(figsize=(6, 2.5))\n",
    "_ = ax.scatter(residual, pred_val)"
   ]
  },
  {
   "cell_type": "markdown",
   "id": "cbc7069a-9a5f-46be-8d20-b5aeeb1f98f9",
   "metadata": {},
   "source": [
    "## No homoscedasticity"
   ]
  },
  {
   "cell_type": "code",
   "execution_count": 58,
   "id": "591f6c3f-97c8-4149-92a0-7b7b31ef5d19",
   "metadata": {},
   "outputs": [
    {
     "data": {
      "text/plain": [
       "(6.578287693727038, nan, 10.93554663979441, 0.005190596949415566)"
      ]
     },
     "execution_count": 58,
     "metadata": {},
     "output_type": "execute_result"
    }
   ],
   "source": [
    "sms.diagnostic.het_breuschpagan(residual, Dairy[['Dairy, Milk, Fluid']])"
   ]
  },
  {
   "cell_type": "markdown",
   "id": "498b3003-8069-496b-8514-993e177f27d1",
   "metadata": {},
   "source": [
    "### 10.936: Is the F value to test for homoscedasticity.statistically significant.\n",
    "### 0.00052: This is the p value less < .05 (stastically significant), this means we have violated the assumption of homoscedasticity and the data is heteroscedastic. "
   ]
  },
  {
   "cell_type": "code",
   "execution_count": 60,
   "id": "ca416587-a850-4b5d-a42f-2419131642e0",
   "metadata": {},
   "outputs": [
    {
     "data": {
      "text/plain": [
       "Ttest_1sampResult(statistic=4.646957218799284, pvalue=0.0007085796778785043)"
      ]
     },
     "execution_count": 60,
     "metadata": {},
     "output_type": "execute_result"
    }
   ],
   "source": [
    "sms.linear_harvey_collier(model)"
   ]
  },
  {
   "cell_type": "markdown",
   "id": "dfc60f7b-2fe8-4721-90bb-935671ee2e7a",
   "metadata": {},
   "source": [
    "### The p value is less than 0.05, significant, high F value. This is heteroscedastic."
   ]
  },
  {
   "cell_type": "code",
   "execution_count": 70,
   "id": "73e3527a-9241-4266-8b81-53380a592fb5",
   "metadata": {},
   "outputs": [],
   "source": [
    "transformedDairy, _ = boxcox(Dairy['Dairy, Milk, Fluid'])"
   ]
  },
  {
   "cell_type": "code",
   "execution_count": 71,
   "id": "a6966091-1be6-4dd6-8373-d4537d4fed2e",
   "metadata": {},
   "outputs": [
    {
     "data": {
      "text/plain": [
       "(array([1., 1., 2., 3., 1., 0., 2., 1., 2., 2.]),\n",
       " array([4.6190924 , 4.61960793, 4.62012345, 4.62063898, 4.62115451,\n",
       "        4.62167004, 4.62218556, 4.62270109, 4.62321662, 4.62373214,\n",
       "        4.62424767]),\n",
       " <BarContainer object of 10 artists>)"
      ]
     },
     "execution_count": 71,
     "metadata": {},
     "output_type": "execute_result"
    },
    {
     "data": {
      "image/png": "[encoded data removed]",
      "text/plain": [
       "<Figure size 432x288 with 1 Axes>"
      ]
     },
     "metadata": {
      "needs_background": "light"
     },
     "output_type": "display_data"
    }
   ],
   "source": [
    "plt.hist(transformedDairy)"
   ]
  },
  {
   "cell_type": "markdown",
   "id": "3714b3df-6d89-412d-aa74-16f0aaf7bdbb",
   "metadata": {},
   "source": [
    "### Running a new model for the transformed data in Dairy"
   ]
  },
  {
   "cell_type": "code",
   "execution_count": 73,
   "id": "f0515f78-2be8-47e8-845b-6af66ad9ffe1",
   "metadata": {},
   "outputs": [],
   "source": [
    "y = transformedDairy\n",
    "TDM = sm.OLS(y,x).fit()"
   ]
  },
  {
   "cell_type": "code",
   "execution_count": 75,
   "id": "0c434da4-8c1f-4c89-98f1-6e09e9e835ac",
   "metadata": {},
   "outputs": [
    {
     "data": {
      "text/html": [
       "<table class=\"simpletable\">\n",
       "<caption>OLS Regression Results</caption>\n",
       "<tr>\n",
       "  <th>Dep. Variable:</th>            <td>y</td>        <th>  R-squared:         </th> <td>   0.741</td>\n",
       "</tr>\n",
       "<tr>\n",
       "  <th>Model:</th>                   <td>OLS</td>       <th>  Adj. R-squared:    </th> <td>   0.721</td>\n",
       "</tr>\n",
       "<tr>\n",
       "  <th>Method:</th>             <td>Least Squares</td>  <th>  F-statistic:       </th> <td>   37.16</td>\n",
       "</tr>\n",
       "<tr>\n",
       "  <th>Date:</th>             <td>Tue, 19 Jul 2022</td> <th>  Prob (F-statistic):</th> <td>3.80e-05</td>\n",
       "</tr>\n",
       "<tr>\n",
       "  <th>Time:</th>                 <td>23:07:12</td>     <th>  Log-Likelihood:    </th> <td>  85.862</td>\n",
       "</tr>\n",
       "<tr>\n",
       "  <th>No. Observations:</th>      <td>    15</td>      <th>  AIC:               </th> <td>  -167.7</td>\n",
       "</tr>\n",
       "<tr>\n",
       "  <th>Df Residuals:</th>          <td>    13</td>      <th>  BIC:               </th> <td>  -166.3</td>\n",
       "</tr>\n",
       "<tr>\n",
       "  <th>Df Model:</th>              <td>     1</td>      <th>                     </th>     <td> </td>   \n",
       "</tr>\n",
       "<tr>\n",
       "  <th>Covariance Type:</th>      <td>nonrobust</td>    <th>                     </th>     <td> </td>   \n",
       "</tr>\n",
       "</table>\n",
       "<table class=\"simpletable\">\n",
       "<tr>\n",
       "    <td></td>       <th>coef</th>     <th>std err</th>      <th>t</th>      <th>P>|t|</th>  <th>[0.025</th>    <th>0.975]</th>  \n",
       "</tr>\n",
       "<tr>\n",
       "  <th>const</th> <td>    4.6312</td> <td>    0.002</td> <td> 2959.671</td> <td> 0.000</td> <td>    4.628</td> <td>    4.635</td>\n",
       "</tr>\n",
       "<tr>\n",
       "  <th>Honey</th> <td>-1.197e-07</td> <td> 1.96e-08</td> <td>   -6.096</td> <td> 0.000</td> <td>-1.62e-07</td> <td>-7.73e-08</td>\n",
       "</tr>\n",
       "</table>\n",
       "<table class=\"simpletable\">\n",
       "<tr>\n",
       "  <th>Omnibus:</th>       <td> 1.690</td> <th>  Durbin-Watson:     </th> <td>   1.585</td>\n",
       "</tr>\n",
       "<tr>\n",
       "  <th>Prob(Omnibus):</th> <td> 0.429</td> <th>  Jarque-Bera (JB):  </th> <td>   1.252</td>\n",
       "</tr>\n",
       "<tr>\n",
       "  <th>Skew:</th>          <td> 0.660</td> <th>  Prob(JB):          </th> <td>   0.535</td>\n",
       "</tr>\n",
       "<tr>\n",
       "  <th>Kurtosis:</th>      <td> 2.487</td> <th>  Cond. No.          </th> <td>5.69e+05</td>\n",
       "</tr>\n",
       "</table><br/><br/>Notes:<br/>[1] Standard Errors assume that the covariance matrix of the errors is correctly specified.<br/>[2] The condition number is large, 5.69e+05. This might indicate that there are<br/>strong multicollinearity or other numerical problems."
      ],
      "text/plain": [
       "<class 'statsmodels.iolib.summary.Summary'>\n",
       "\"\"\"\n",
       "                            OLS Regression Results                            \n",
       "==============================================================================\n",
       "Dep. Variable:                      y   R-squared:                       0.741\n",
       "Model:                            OLS   Adj. R-squared:                  0.721\n",
       "Method:                 Least Squares   F-statistic:                     37.16\n",
       "Date:                Tue, 19 Jul 2022   Prob (F-statistic):           3.80e-05\n",
       "Time:                        23:07:12   Log-Likelihood:                 85.862\n",
       "No. Observations:                  15   AIC:                            -167.7\n",
       "Df Residuals:                      13   BIC:                            -166.3\n",
       "Df Model:                           1                                         \n",
       "Covariance Type:            nonrobust                                         \n",
       "==============================================================================\n",
       "                 coef    std err          t      P>|t|      [0.025      0.975]\n",
       "------------------------------------------------------------------------------\n",
       "const          4.6312      0.002   2959.671      0.000       4.628       4.635\n",
       "Honey      -1.197e-07   1.96e-08     -6.096      0.000   -1.62e-07   -7.73e-08\n",
       "==============================================================================\n",
       "Omnibus:                        1.690   Durbin-Watson:                   1.585\n",
       "Prob(Omnibus):                  0.429   Jarque-Bera (JB):                1.252\n",
       "Skew:                           0.660   Prob(JB):                        0.535\n",
       "Kurtosis:                       2.487   Cond. No.                     5.69e+05\n",
       "==============================================================================\n",
       "\n",
       "Notes:\n",
       "[1] Standard Errors assume that the covariance matrix of the errors is correctly specified.\n",
       "[2] The condition number is large, 5.69e+05. This might indicate that there are\n",
       "strong multicollinearity or other numerical problems.\n",
       "\"\"\""
      ]
     },
     "execution_count": 75,
     "metadata": {},
     "output_type": "execute_result"
    }
   ],
   "source": [
    "TDM.summary()"
   ]
  },
  {
   "cell_type": "code",
   "execution_count": 76,
   "id": "8a9a9920-6dd4-45bc-951a-770ccd109e53",
   "metadata": {},
   "outputs": [
    {
     "data": {
      "text/plain": [
       "Ttest_1sampResult(statistic=4.618542925804385, pvalue=0.000742133279884516)"
      ]
     },
     "execution_count": 76,
     "metadata": {},
     "output_type": "execute_result"
    }
   ],
   "source": [
    "sms.linear_harvey_collier(TDM)"
   ]
  },
  {
   "cell_type": "markdown",
   "id": "8511d215-5530-4855-bf74-e391703aabca",
   "metadata": {},
   "source": [
    "### Still significant....so transforming the Dairy data did not make the data homoscedastic"
   ]
  },
  {
   "cell_type": "markdown",
   "id": "60c6451a-a086-4e62-8cfe-1681a477da1e",
   "metadata": {},
   "source": [
    "# Testing for multicollinearity"
   ]
  },
  {
   "cell_type": "code",
   "execution_count": 61,
   "id": "8fe7934c-8c09-419c-8766-fd13a920028b",
   "metadata": {},
   "outputs": [
    {
     "data": {
      "text/html": [
       "<div>\n",
       "<style scoped>\n",
       "    .dataframe tbody tr th:only-of-type {\n",
       "        vertical-align: middle;\n",
       "    }\n",
       "\n",
       "    .dataframe tbody tr th {\n",
       "        vertical-align: top;\n",
       "    }\n",
       "\n",
       "    .dataframe thead th {\n",
       "        text-align: right;\n",
       "    }\n",
       "</style>\n",
       "<table border=\"1\" class=\"dataframe\">\n",
       "  <thead>\n",
       "    <tr style=\"text-align: right;\">\n",
       "      <th></th>\n",
       "      <th>Dairy, Milk, Fluid</th>\n",
       "      <th>Year</th>\n",
       "      <th>Honey</th>\n",
       "    </tr>\n",
       "  </thead>\n",
       "  <tbody>\n",
       "    <tr>\n",
       "      <th>Dairy, Milk, Fluid</th>\n",
       "      <td>1.000000</td>\n",
       "      <td>0.988032</td>\n",
       "      <td>-0.853603</td>\n",
       "    </tr>\n",
       "    <tr>\n",
       "      <th>Year</th>\n",
       "      <td>0.988032</td>\n",
       "      <td>1.000000</td>\n",
       "      <td>-0.868987</td>\n",
       "    </tr>\n",
       "    <tr>\n",
       "      <th>Honey</th>\n",
       "      <td>-0.853603</td>\n",
       "      <td>-0.868987</td>\n",
       "      <td>1.000000</td>\n",
       "    </tr>\n",
       "  </tbody>\n",
       "</table>\n",
       "</div>"
      ],
      "text/plain": [
       "                    Dairy, Milk, Fluid      Year     Honey\n",
       "Dairy, Milk, Fluid            1.000000  0.988032 -0.853603\n",
       "Year                          0.988032  1.000000 -0.868987\n",
       "Honey                        -0.853603 -0.868987  1.000000"
      ]
     },
     "execution_count": 61,
     "metadata": {},
     "output_type": "execute_result"
    }
   ],
   "source": [
    "Dairy.corr()"
   ]
  },
  {
   "cell_type": "code",
   "execution_count": 62,
   "id": "720c53e8-670e-4cde-a88f-f335098d467a",
   "metadata": {},
   "outputs": [
    {
     "data": {
      "text/plain": [
       "<AxesSubplot:>"
      ]
     },
     "execution_count": 62,
     "metadata": {},
     "output_type": "execute_result"
    },
    {
     "data": {
      "image/png": "[encoded data removed]",
      "text/plain": [
       "<Figure size 432x288 with 2 Axes>"
      ]
     },
     "metadata": {
      "needs_background": "light"
     },
     "output_type": "display_data"
    }
   ],
   "source": [
    "sns.heatmap(Dairy.corr(), annot=True)"
   ]
  },
  {
   "cell_type": "code",
   "execution_count": 63,
   "id": "4fa63d52-77fa-4e35-a0af-d671219726e3",
   "metadata": {},
   "outputs": [
    {
     "data": {
      "image/png": "[encoded data removed]",
      "text/plain": [
       "<Figure size 864x576 with 1 Axes>"
      ]
     },
     "metadata": {
      "needs_background": "light"
     },
     "output_type": "display_data"
    }
   ],
   "source": [
    "# For outliers\n",
    "fig, ax = plt.subplots(figsize=(12,8))\n",
    "fig = sm.graphics.influence_plot(model, alpha = .05, ax = ax, criterion=\"cooks\")"
   ]
  },
  {
   "cell_type": "code",
   "execution_count": 64,
   "id": "93f72e6b-bd45-42c8-857c-4f811a5cb55c",
   "metadata": {},
   "outputs": [
    {
     "name": "stdout",
     "output_type": "stream",
     "text": [
      "    dfb_const  dfb_Honey   cooks_d  standard_resid  hat_diag  dffits_internal  \\\n",
      "0    0.057474  -0.062855  0.002763       -0.114990  0.294723        -0.074334   \n",
      "1    0.128510  -0.147933  0.020407       -0.471011  0.155385        -0.202025   \n",
      "2   -0.845840   0.924958  0.490710        1.531061  0.295114         0.990666   \n",
      "3    0.103360  -0.148322  0.057754       -1.138090  0.081877        -0.339866   \n",
      "4   -0.096748   0.042891  0.070060       -1.391483  0.067484        -0.374325   \n",
      "5    0.028754  -0.054977  0.019098       -0.698185  0.072662        -0.195436   \n",
      "6    0.029513  -0.049555  0.011623       -0.535167  0.075069        -0.152463   \n",
      "7   -0.008694   0.000052  0.002052       -0.239724  0.066667        -0.064069   \n",
      "8   -0.204415   0.175505  0.040445       -0.810699  0.109589        -0.284411   \n",
      "9   -0.243662   0.217378  0.045878       -0.741054  0.143164        -0.302913   \n",
      "10   0.151079  -0.115936  0.040499        0.964987  0.080022         0.284602   \n",
      "11  -0.023737   0.021397  0.000427       -0.067324  0.158694        -0.029240   \n",
      "12   0.057457   0.034736  0.155528        2.083684  0.066854         0.557725   \n",
      "13   0.265210  -0.237035  0.053425        0.791772  0.145620         0.326878   \n",
      "14   0.440351  -0.402377  0.124880        1.041775  0.187078         0.499760   \n",
      "\n",
      "    student_resid    dffits  \n",
      "0       -0.110535 -0.071454  \n",
      "1       -0.456444 -0.195777  \n",
      "2        1.624759  1.051293  \n",
      "3       -1.152355 -0.344126  \n",
      "4       -1.449162 -0.389841  \n",
      "5       -0.683736 -0.191392  \n",
      "6       -0.519931 -0.148123  \n",
      "7       -0.230830 -0.061692  \n",
      "8       -0.799363 -0.280435  \n",
      "9       -0.727514 -0.297378  \n",
      "10       0.962232  0.283789  \n",
      "11      -0.064694 -0.028097  \n",
      "12       2.453054  0.656592  \n",
      "13       0.779743  0.321912  \n",
      "14       1.045497  0.501546  \n"
     ]
    }
   ],
   "source": [
    "infl = model.get_influence()\n",
    "print(infl.summary_frame())"
   ]
  },
  {
   "cell_type": "markdown",
   "id": "c23c1159-26de-4dd8-9e31-5900aabb20d0",
   "metadata": {},
   "source": [
    "# One outlier , 2 - (student_resid)1.624759  (dfitts)1.051293  "
   ]
  },
  {
   "cell_type": "code",
   "execution_count": 65,
   "id": "a5c87ea2-a1e7-47ee-b7ea-5d9a9164d5b5",
   "metadata": {},
   "outputs": [
    {
     "data": {
      "text/html": [
       "<table class=\"simpletable\">\n",
       "<caption>OLS Regression Results</caption>\n",
       "<tr>\n",
       "  <th>Dep. Variable:</th>    <td>Dairy, Milk, Fluid</td> <th>  R-squared:         </th> <td>   0.729</td>\n",
       "</tr>\n",
       "<tr>\n",
       "  <th>Model:</th>                    <td>OLS</td>        <th>  Adj. R-squared:    </th> <td>   0.708</td>\n",
       "</tr>\n",
       "<tr>\n",
       "  <th>Method:</th>              <td>Least Squares</td>   <th>  F-statistic:       </th> <td>   34.91</td>\n",
       "</tr>\n",
       "<tr>\n",
       "  <th>Date:</th>              <td>Tue, 19 Jul 2022</td>  <th>  Prob (F-statistic):</th> <td>5.17e-05</td>\n",
       "</tr>\n",
       "<tr>\n",
       "  <th>Time:</th>                  <td>22:48:31</td>      <th>  Log-Likelihood:    </th> <td> -245.49</td>\n",
       "</tr>\n",
       "<tr>\n",
       "  <th>No. Observations:</th>       <td>    15</td>       <th>  AIC:               </th> <td>   495.0</td>\n",
       "</tr>\n",
       "<tr>\n",
       "  <th>Df Residuals:</th>           <td>    13</td>       <th>  BIC:               </th> <td>   496.4</td>\n",
       "</tr>\n",
       "<tr>\n",
       "  <th>Df Model:</th>               <td>     1</td>       <th>                     </th>     <td> </td>   \n",
       "</tr>\n",
       "<tr>\n",
       "  <th>Covariance Type:</th>       <td>nonrobust</td>     <th>                     </th>     <td> </td>   \n",
       "</tr>\n",
       "</table>\n",
       "<table class=\"simpletable\">\n",
       "<tr>\n",
       "    <td></td>       <th>coef</th>     <th>std err</th>      <th>t</th>      <th>P>|t|</th>  <th>[0.025</th>    <th>0.975]</th>  \n",
       "</tr>\n",
       "<tr>\n",
       "  <th>const</th> <td>  1.17e+08</td> <td> 6.14e+06</td> <td>   19.053</td> <td> 0.000</td> <td> 1.04e+08</td> <td>  1.3e+08</td>\n",
       "</tr>\n",
       "<tr>\n",
       "  <th>Honey</th> <td> -455.0467</td> <td>   77.020</td> <td>   -5.908</td> <td> 0.000</td> <td> -621.438</td> <td> -288.656</td>\n",
       "</tr>\n",
       "</table>\n",
       "<table class=\"simpletable\">\n",
       "<tr>\n",
       "  <th>Omnibus:</th>       <td> 1.449</td> <th>  Durbin-Watson:     </th> <td>   1.475</td>\n",
       "</tr>\n",
       "<tr>\n",
       "  <th>Prob(Omnibus):</th> <td> 0.485</td> <th>  Jarque-Bera (JB):  </th> <td>   1.163</td>\n",
       "</tr>\n",
       "<tr>\n",
       "  <th>Skew:</th>          <td> 0.600</td> <th>  Prob(JB):          </th> <td>   0.559</td>\n",
       "</tr>\n",
       "<tr>\n",
       "  <th>Kurtosis:</th>      <td> 2.352</td> <th>  Cond. No.          </th> <td>5.69e+05</td>\n",
       "</tr>\n",
       "</table><br/><br/>Notes:<br/>[1] Standard Errors assume that the covariance matrix of the errors is correctly specified.<br/>[2] The condition number is large, 5.69e+05. This might indicate that there are<br/>strong multicollinearity or other numerical problems."
      ],
      "text/plain": [
       "<class 'statsmodels.iolib.summary.Summary'>\n",
       "\"\"\"\n",
       "                            OLS Regression Results                            \n",
       "==============================================================================\n",
       "Dep. Variable:     Dairy, Milk, Fluid   R-squared:                       0.729\n",
       "Model:                            OLS   Adj. R-squared:                  0.708\n",
       "Method:                 Least Squares   F-statistic:                     34.91\n",
       "Date:                Tue, 19 Jul 2022   Prob (F-statistic):           5.17e-05\n",
       "Time:                        22:48:31   Log-Likelihood:                -245.49\n",
       "No. Observations:                  15   AIC:                             495.0\n",
       "Df Residuals:                      13   BIC:                             496.4\n",
       "Df Model:                           1                                         \n",
       "Covariance Type:            nonrobust                                         \n",
       "==============================================================================\n",
       "                 coef    std err          t      P>|t|      [0.025      0.975]\n",
       "------------------------------------------------------------------------------\n",
       "const        1.17e+08   6.14e+06     19.053      0.000    1.04e+08     1.3e+08\n",
       "Honey       -455.0467     77.020     -5.908      0.000    -621.438    -288.656\n",
       "==============================================================================\n",
       "Omnibus:                        1.449   Durbin-Watson:                   1.475\n",
       "Prob(Omnibus):                  0.485   Jarque-Bera (JB):                1.163\n",
       "Skew:                           0.600   Prob(JB):                        0.559\n",
       "Kurtosis:                       2.352   Cond. No.                     5.69e+05\n",
       "==============================================================================\n",
       "\n",
       "Notes:\n",
       "[1] Standard Errors assume that the covariance matrix of the errors is correctly specified.\n",
       "[2] The condition number is large, 5.69e+05. This might indicate that there are\n",
       "strong multicollinearity or other numerical problems.\n",
       "\"\"\""
      ]
     },
     "execution_count": 65,
     "metadata": {},
     "output_type": "execute_result"
    }
   ],
   "source": [
    "model.summary()"
   ]
  },
  {
   "cell_type": "markdown",
   "id": "f7ffe80d-aa00-4566-9d75-5d3955a97e83",
   "metadata": {},
   "source": [
    "###  Adj.R-squared: 0.708 ~ 0.71% of the variance in Dairy production related to Honey.\n",
    "\n",
    "### P value is not significant with an F Statistic that is quite is large. Because the p value is < .05, you can determine that the Year (or perhaps some event(s) in the years) does have a  significant effect on the production value of Honey. By looking at the R-squared and Adj. R-squared in the upper right hand corner, you see that this model accounts for over 70% (more precisely 73.6%) of the variance in explaining decrease in Honey's production value over time.\n",
    "\n",
    "Omnibus: This is a test of skew and kurtosis of the residual. You want a value close to zero, which would indicate normality = *1.123\n",
    "\n",
    "Prob(Omnibus): This is a test indicating the probabilty that residulas are normally distributed. You would like to see a value close to zero here, to inidcate a normal distribution. = *0.570\n",
    "\n",
    "Skew: Again, you would like to see a value close to zero, and this result feeds into the Omnibus test discussed above. = *0.505\n",
    "\n",
    "Kurtosis: If you have a value close to zero, this means our data is relatively normal. = *2.699\n",
    "\n",
    "Durbin-Watson: This also tests for homoscedasticity! You would like a value between 1 and 2, otherwise you have the presence of heteroscedasticity within your data. = *1.985, so close to being heteroscedastic\n",
    "\n",
    "Jarque-Bera (JB): This also tests skew and kurtosis. It should also be close to zero. = *0.695\n",
    "\n",
    "Prob (JB): The probabilty that JB is normal. You would like this to be close to zero as well. = *0.706\n",
    "\n",
    "Condition Number: You would like to see a condition number below 30 or so, because that indicates low multicollinearity. If you have higher than 30, it's time to suspect related variables! =9.30+05"
   ]
  },
  {
   "cell_type": "markdown",
   "id": "0c9536da-a156-40be-aace-2fe25167fb0e",
   "metadata": {},
   "source": [
    "# Now Swine"
   ]
  },
  {
   "cell_type": "code",
   "execution_count": 101,
   "id": "70899157-d0e4-4857-ab67-d2df17c67182",
   "metadata": {},
   "outputs": [
    {
     "data": {
      "text/html": [
       "<div>\n",
       "<style scoped>\n",
       "    .dataframe tbody tr th:only-of-type {\n",
       "        vertical-align: middle;\n",
       "    }\n",
       "\n",
       "    .dataframe tbody tr th {\n",
       "        vertical-align: top;\n",
       "    }\n",
       "\n",
       "    .dataframe thead th {\n",
       "        text-align: right;\n",
       "    }\n",
       "</style>\n",
       "<table border=\"1\" class=\"dataframe\">\n",
       "  <thead>\n",
       "    <tr style=\"text-align: right;\">\n",
       "      <th></th>\n",
       "      <th>Meat, Swine</th>\n",
       "      <th>Year</th>\n",
       "      <th>Honey</th>\n",
       "    </tr>\n",
       "  </thead>\n",
       "  <tbody>\n",
       "    <tr>\n",
       "      <th>0</th>\n",
       "      <td>8623000.0</td>\n",
       "      <td>1998</td>\n",
       "      <td>99571.62321</td>\n",
       "    </tr>\n",
       "    <tr>\n",
       "      <th>1</th>\n",
       "      <td>8758000.0</td>\n",
       "      <td>1999</td>\n",
       "      <td>91800.71933</td>\n",
       "    </tr>\n",
       "    <tr>\n",
       "      <th>2</th>\n",
       "      <td>8596000.0</td>\n",
       "      <td>2000</td>\n",
       "      <td>99589.31322</td>\n",
       "    </tr>\n",
       "    <tr>\n",
       "      <th>3</th>\n",
       "      <td>8691000.0</td>\n",
       "      <td>2001</td>\n",
       "      <td>84253.43532</td>\n",
       "    </tr>\n",
       "    <tr>\n",
       "      <th>4</th>\n",
       "      <td>8929000.0</td>\n",
       "      <td>2002</td>\n",
       "      <td>77684.09135</td>\n",
       "    </tr>\n",
       "    <tr>\n",
       "      <th>5</th>\n",
       "      <td>9056000.0</td>\n",
       "      <td>2003</td>\n",
       "      <td>82268.52548</td>\n",
       "    </tr>\n",
       "    <tr>\n",
       "      <th>6</th>\n",
       "      <td>9313000.0</td>\n",
       "      <td>2004</td>\n",
       "      <td>82884.04711</td>\n",
       "    </tr>\n",
       "    <tr>\n",
       "      <th>7</th>\n",
       "      <td>9392000.0</td>\n",
       "      <td>2005</td>\n",
       "      <td>78910.59871</td>\n",
       "    </tr>\n",
       "    <tr>\n",
       "      <th>8</th>\n",
       "      <td>9632000.0</td>\n",
       "      <td>2006</td>\n",
       "      <td>69960.81442</td>\n",
       "    </tr>\n",
       "    <tr>\n",
       "      <th>9</th>\n",
       "      <td>9962000.0</td>\n",
       "      <td>2007</td>\n",
       "      <td>66959.40939</td>\n",
       "    </tr>\n",
       "    <tr>\n",
       "      <th>10</th>\n",
       "      <td>10684000.0</td>\n",
       "      <td>2008</td>\n",
       "      <td>73922.46948</td>\n",
       "    </tr>\n",
       "    <tr>\n",
       "      <th>11</th>\n",
       "      <td>10507000.0</td>\n",
       "      <td>2009</td>\n",
       "      <td>65801.39412</td>\n",
       "    </tr>\n",
       "    <tr>\n",
       "      <th>12</th>\n",
       "      <td>10187000.0</td>\n",
       "      <td>2010</td>\n",
       "      <td>79511.60546</td>\n",
       "    </tr>\n",
       "    <tr>\n",
       "      <th>13</th>\n",
       "      <td>10332000.0</td>\n",
       "      <td>2011</td>\n",
       "      <td>66768.90159</td>\n",
       "    </tr>\n",
       "    <tr>\n",
       "      <th>14</th>\n",
       "      <td>10575000.0</td>\n",
       "      <td>2012</td>\n",
       "      <td>63914.00613</td>\n",
       "    </tr>\n",
       "  </tbody>\n",
       "</table>\n",
       "</div>"
      ],
      "text/plain": [
       "    Meat, Swine  Year        Honey\n",
       "0     8623000.0  1998  99571.62321\n",
       "1     8758000.0  1999  91800.71933\n",
       "2     8596000.0  2000  99589.31322\n",
       "3     8691000.0  2001  84253.43532\n",
       "4     8929000.0  2002  77684.09135\n",
       "5     9056000.0  2003  82268.52548\n",
       "6     9313000.0  2004  82884.04711\n",
       "7     9392000.0  2005  78910.59871\n",
       "8     9632000.0  2006  69960.81442\n",
       "9     9962000.0  2007  66959.40939\n",
       "10   10684000.0  2008  73922.46948\n",
       "11   10507000.0  2009  65801.39412\n",
       "12   10187000.0  2010  79511.60546\n",
       "13   10332000.0  2011  66768.90159\n",
       "14   10575000.0  2012  63914.00613"
      ]
     },
     "execution_count": 101,
     "metadata": {},
     "output_type": "execute_result"
    }
   ],
   "source": [
    "Swine = Cat1Pivot[[ 'Meat, Swine', 'Year','Honey']]\n",
    "Swine"
   ]
  },
  {
   "cell_type": "code",
   "execution_count": 80,
   "id": "47e86f2d-a434-467c-9d05-4c4ad295b32e",
   "metadata": {},
   "outputs": [
    {
     "data": {
      "text/plain": [
       "<seaborn.axisgrid.PairGrid at 0x1ae1b9bdd90>"
      ]
     },
     "execution_count": 80,
     "metadata": {},
     "output_type": "execute_result"
    },
    {
     "data": {
      "image/png": "[encoded data removed]",
      "text/plain": [
       "<Figure size 540x540 with 12 Axes>"
      ]
     },
     "metadata": {
      "needs_background": "light"
     },
     "output_type": "display_data"
    }
   ],
   "source": [
    "sns.pairplot(Swine)"
   ]
  },
  {
   "cell_type": "code",
   "execution_count": 81,
   "id": "1c415c0e-97b0-4e00-9aa7-2d48fc64b90f",
   "metadata": {},
   "outputs": [
    {
     "data": {
      "text/plain": [
       "<AxesSubplot:xlabel='Meat, Swine', ylabel='Density'>"
      ]
     },
     "execution_count": 81,
     "metadata": {},
     "output_type": "execute_result"
    },
    {
     "data": {
      "image/png": "[encoded data removed]",
      "text/plain": [
       "<Figure size 432x288 with 1 Axes>"
      ]
     },
     "metadata": {
      "needs_background": "light"
     },
     "output_type": "display_data"
    }
   ],
   "source": [
    "sns.distplot(Swine['Meat, Swine'])"
   ]
  },
  {
   "cell_type": "code",
   "execution_count": 82,
   "id": "18c834bb-cf18-473c-acf0-17ef35edc335",
   "metadata": {},
   "outputs": [],
   "source": [
    "x2 = Swine['Honey']\n",
    "y2 = Swine['Meat, Swine']"
   ]
  },
  {
   "cell_type": "code",
   "execution_count": 84,
   "id": "f3fb39d5-bbbe-46bc-a9ba-1a2f4f04b69f",
   "metadata": {},
   "outputs": [
    {
     "data": {
      "text/html": [
       "<table class=\"simpletable\">\n",
       "<caption>OLS Regression Results</caption>\n",
       "<tr>\n",
       "  <th>Dep. Variable:</th>       <td>Meat, Swine</td>   <th>  R-squared:         </th> <td>   0.696</td>\n",
       "</tr>\n",
       "<tr>\n",
       "  <th>Model:</th>                   <td>OLS</td>       <th>  Adj. R-squared:    </th> <td>   0.672</td>\n",
       "</tr>\n",
       "<tr>\n",
       "  <th>Method:</th>             <td>Least Squares</td>  <th>  F-statistic:       </th> <td>   29.72</td>\n",
       "</tr>\n",
       "<tr>\n",
       "  <th>Date:</th>             <td>Tue, 19 Jul 2022</td> <th>  Prob (F-statistic):</th> <td>0.000111</td>\n",
       "</tr>\n",
       "<tr>\n",
       "  <th>Time:</th>                 <td>23:21:35</td>     <th>  Log-Likelihood:    </th> <td> -215.15</td>\n",
       "</tr>\n",
       "<tr>\n",
       "  <th>No. Observations:</th>      <td>    15</td>      <th>  AIC:               </th> <td>   434.3</td>\n",
       "</tr>\n",
       "<tr>\n",
       "  <th>Df Residuals:</th>          <td>    13</td>      <th>  BIC:               </th> <td>   435.7</td>\n",
       "</tr>\n",
       "<tr>\n",
       "  <th>Df Model:</th>              <td>     1</td>      <th>                     </th>     <td> </td>   \n",
       "</tr>\n",
       "<tr>\n",
       "  <th>Covariance Type:</th>      <td>nonrobust</td>    <th>                     </th>     <td> </td>   \n",
       "</tr>\n",
       "</table>\n",
       "<table class=\"simpletable\">\n",
       "<tr>\n",
       "    <td></td>       <th>coef</th>     <th>std err</th>      <th>t</th>      <th>P>|t|</th>  <th>[0.025</th>    <th>0.975]</th>  \n",
       "</tr>\n",
       "<tr>\n",
       "  <th>const</th> <td> 1.393e+07</td> <td> 8.12e+05</td> <td>   17.157</td> <td> 0.000</td> <td> 1.22e+07</td> <td> 1.57e+07</td>\n",
       "</tr>\n",
       "<tr>\n",
       "  <th>Honey</th> <td>  -55.5376</td> <td>   10.188</td> <td>   -5.451</td> <td> 0.000</td> <td>  -77.547</td> <td>  -33.528</td>\n",
       "</tr>\n",
       "</table>\n",
       "<table class=\"simpletable\">\n",
       "<tr>\n",
       "  <th>Omnibus:</th>       <td> 0.511</td> <th>  Durbin-Watson:     </th> <td>   1.282</td>\n",
       "</tr>\n",
       "<tr>\n",
       "  <th>Prob(Omnibus):</th> <td> 0.775</td> <th>  Jarque-Bera (JB):  </th> <td>   0.362</td>\n",
       "</tr>\n",
       "<tr>\n",
       "  <th>Skew:</th>          <td> 0.334</td> <th>  Prob(JB):          </th> <td>   0.834</td>\n",
       "</tr>\n",
       "<tr>\n",
       "  <th>Kurtosis:</th>      <td> 2.635</td> <th>  Cond. No.          </th> <td>5.69e+05</td>\n",
       "</tr>\n",
       "</table><br/><br/>Notes:<br/>[1] Standard Errors assume that the covariance matrix of the errors is correctly specified.<br/>[2] The condition number is large, 5.69e+05. This might indicate that there are<br/>strong multicollinearity or other numerical problems."
      ],
      "text/plain": [
       "<class 'statsmodels.iolib.summary.Summary'>\n",
       "\"\"\"\n",
       "                            OLS Regression Results                            \n",
       "==============================================================================\n",
       "Dep. Variable:            Meat, Swine   R-squared:                       0.696\n",
       "Model:                            OLS   Adj. R-squared:                  0.672\n",
       "Method:                 Least Squares   F-statistic:                     29.72\n",
       "Date:                Tue, 19 Jul 2022   Prob (F-statistic):           0.000111\n",
       "Time:                        23:21:35   Log-Likelihood:                -215.15\n",
       "No. Observations:                  15   AIC:                             434.3\n",
       "Df Residuals:                      13   BIC:                             435.7\n",
       "Df Model:                           1                                         \n",
       "Covariance Type:            nonrobust                                         \n",
       "==============================================================================\n",
       "                 coef    std err          t      P>|t|      [0.025      0.975]\n",
       "------------------------------------------------------------------------------\n",
       "const       1.393e+07   8.12e+05     17.157      0.000    1.22e+07    1.57e+07\n",
       "Honey        -55.5376     10.188     -5.451      0.000     -77.547     -33.528\n",
       "==============================================================================\n",
       "Omnibus:                        0.511   Durbin-Watson:                   1.282\n",
       "Prob(Omnibus):                  0.775   Jarque-Bera (JB):                0.362\n",
       "Skew:                           0.334   Prob(JB):                        0.834\n",
       "Kurtosis:                       2.635   Cond. No.                     5.69e+05\n",
       "==============================================================================\n",
       "\n",
       "Notes:\n",
       "[1] Standard Errors assume that the covariance matrix of the errors is correctly specified.\n",
       "[2] The condition number is large, 5.69e+05. This might indicate that there are\n",
       "strong multicollinearity or other numerical problems.\n",
       "\"\"\""
      ]
     },
     "execution_count": 84,
     "metadata": {},
     "output_type": "execute_result"
    }
   ],
   "source": [
    "x = sm.add_constant(x2)\n",
    "model = sm.OLS(y2,x).fit()\n",
    "model\n",
    "model.summary()"
   ]
  },
  {
   "cell_type": "markdown",
   "id": "27ba5166-aae7-47e9-a3a2-66a38cf3e584",
   "metadata": {},
   "source": [
    "# Swine (Seq for Swine equation) = -55.5376(Honey)+13930000.0"
   ]
  },
  {
   "cell_type": "code",
   "execution_count": 87,
   "id": "8a63e3ab-37e1-4bbf-81c2-d8826ec7f1cc",
   "metadata": {},
   "outputs": [
    {
     "data": {
      "image/png": "[encoded data removed]",
      "text/plain": [
       "<Figure size 432x288 with 1 Axes>"
      ]
     },
     "metadata": {
      "needs_background": "light"
     },
     "output_type": "display_data"
    }
   ],
   "source": [
    "plt.scatter(x2,y2)\n",
    " \n",
    "Seq = -55.5376*x2+13930000.0\n",
    " \n",
    "fig = plt.plot(x2,Seq, lw=4, c='blue', label = 'regression line')\n",
    " \n",
    "plt.xlabel('Honey Production Values', fontsize = 20)\n",
    " \n",
    "plt.ylabel('Swine Production Values', fontsize = 20)\n",
    " \n",
    "plt.show()"
   ]
  },
  {
   "cell_type": "markdown",
   "id": "85d5f98d-5e5f-4774-a8ef-7a18748069aa",
   "metadata": {},
   "source": [
    "### Test for Homoscedasticity"
   ]
  },
  {
   "cell_type": "code",
   "execution_count": 89,
   "id": "35f5c32e-3903-4199-a9c1-452f12d63cee",
   "metadata": {},
   "outputs": [],
   "source": [
    "pred_val = model.fittedvalues.copy()\n",
    "true_val = Swine['Meat, Swine'].values.copy()\n",
    "residual = true_val - pred_val"
   ]
  },
  {
   "cell_type": "code",
   "execution_count": 90,
   "id": "317b4e32-b4c8-4be0-8665-b87c4be1df71",
   "metadata": {},
   "outputs": [
    {
     "data": {
      "image/png": "[encoded data removed]",
      "text/plain": [
       "<Figure size 432x180 with 1 Axes>"
      ]
     },
     "metadata": {
      "needs_background": "light"
     },
     "output_type": "display_data"
    }
   ],
   "source": [
    "fig, ax = plt.subplots(figsize=(6, 2.5))\n",
    "_ = ax.scatter(residual, pred_val)"
   ]
  },
  {
   "cell_type": "markdown",
   "id": "df62f7d8-9283-4353-a3a0-0c16efff1d5e",
   "metadata": {},
   "source": [
    "## No homoscedasticity"
   ]
  },
  {
   "cell_type": "code",
   "execution_count": 93,
   "id": "c49937ba-617f-421e-929b-68d919adaab5",
   "metadata": {},
   "outputs": [
    {
     "data": {
      "text/plain": [
       "(5.923066685375449, nan, 9.1355671261408, 0.009134608584867174)"
      ]
     },
     "execution_count": 93,
     "metadata": {},
     "output_type": "execute_result"
    }
   ],
   "source": [
    "sms.diagnostic.het_breuschpagan(residual, Swine[['Meat, Swine']])"
   ]
  },
  {
   "cell_type": "markdown",
   "id": "3540eacb-4095-4d15-9f0a-2f1f880a69b0",
   "metadata": {},
   "source": [
    "### P value significant at 0.00913, F stat high at 9.1356."
   ]
  },
  {
   "cell_type": "code",
   "execution_count": 95,
   "id": "e24dbff2-7a10-4612-8ba5-e042d5856950",
   "metadata": {},
   "outputs": [
    {
     "data": {
      "text/plain": [
       "Ttest_1sampResult(statistic=3.667894021249008, pvalue=0.0037032111649158784)"
      ]
     },
     "execution_count": 95,
     "metadata": {},
     "output_type": "execute_result"
    }
   ],
   "source": [
    "sms.linear_harvey_collier(model)"
   ]
  },
  {
   "cell_type": "markdown",
   "id": "84762198-5f6d-44f8-ba79-2181e74872e8",
   "metadata": {},
   "source": [
    "# Testing for multicollinearity"
   ]
  },
  {
   "cell_type": "code",
   "execution_count": 96,
   "id": "f36114d8-796b-429a-9ad3-4b35baf8e0df",
   "metadata": {},
   "outputs": [
    {
     "data": {
      "text/html": [
       "<div>\n",
       "<style scoped>\n",
       "    .dataframe tbody tr th:only-of-type {\n",
       "        vertical-align: middle;\n",
       "    }\n",
       "\n",
       "    .dataframe tbody tr th {\n",
       "        vertical-align: top;\n",
       "    }\n",
       "\n",
       "    .dataframe thead th {\n",
       "        text-align: right;\n",
       "    }\n",
       "</style>\n",
       "<table border=\"1\" class=\"dataframe\">\n",
       "  <thead>\n",
       "    <tr style=\"text-align: right;\">\n",
       "      <th></th>\n",
       "      <th>Meat, Swine</th>\n",
       "      <th>Year</th>\n",
       "      <th>Honey</th>\n",
       "    </tr>\n",
       "  </thead>\n",
       "  <tbody>\n",
       "    <tr>\n",
       "      <th>Meat, Swine</th>\n",
       "      <td>1.000000</td>\n",
       "      <td>0.948936</td>\n",
       "      <td>-0.834067</td>\n",
       "    </tr>\n",
       "    <tr>\n",
       "      <th>Year</th>\n",
       "      <td>0.948936</td>\n",
       "      <td>1.000000</td>\n",
       "      <td>-0.868987</td>\n",
       "    </tr>\n",
       "    <tr>\n",
       "      <th>Honey</th>\n",
       "      <td>-0.834067</td>\n",
       "      <td>-0.868987</td>\n",
       "      <td>1.000000</td>\n",
       "    </tr>\n",
       "  </tbody>\n",
       "</table>\n",
       "</div>"
      ],
      "text/plain": [
       "             Meat, Swine      Year     Honey\n",
       "Meat, Swine     1.000000  0.948936 -0.834067\n",
       "Year            0.948936  1.000000 -0.868987\n",
       "Honey          -0.834067 -0.868987  1.000000"
      ]
     },
     "execution_count": 96,
     "metadata": {},
     "output_type": "execute_result"
    }
   ],
   "source": [
    "Swine.corr()"
   ]
  },
  {
   "cell_type": "code",
   "execution_count": 97,
   "id": "c6327131-8fa0-4618-8ac7-03e729fd84e3",
   "metadata": {},
   "outputs": [
    {
     "data": {
      "text/plain": [
       "<AxesSubplot:>"
      ]
     },
     "execution_count": 97,
     "metadata": {},
     "output_type": "execute_result"
    },
    {
     "data": {
      "image/png": "[encoded data removed]",
      "text/plain": [
       "<Figure size 432x288 with 2 Axes>"
      ]
     },
     "metadata": {
      "needs_background": "light"
     },
     "output_type": "display_data"
    }
   ],
   "source": [
    "sns.heatmap(Swine.corr(), annot=True)"
   ]
  },
  {
   "cell_type": "code",
   "execution_count": 98,
   "id": "c60ad8e4-c132-4c55-9c8b-a43d955f9cac",
   "metadata": {},
   "outputs": [
    {
     "data": {
      "image/png": "[encoded data removed]",
      "text/plain": [
       "<Figure size 864x576 with 1 Axes>"
      ]
     },
     "metadata": {
      "needs_background": "light"
     },
     "output_type": "display_data"
    }
   ],
   "source": [
    "# For outliers\n",
    "fig, ax = plt.subplots(figsize=(12,8))\n",
    "fig = sm.graphics.influence_plot(model, alpha = .05, ax = ax, criterion=\"cooks\")"
   ]
  },
  {
   "cell_type": "code",
   "execution_count": 99,
   "id": "1bad629b-9072-4463-a323-7e442165c635",
   "metadata": {},
   "outputs": [
    {
     "name": "stdout",
     "output_type": "stream",
     "text": [
      "    dfb_const  dfb_Honey   cooks_d  standard_resid  hat_diag  dffits_internal  \\\n",
      "0   -0.302298   0.330598  0.074412        0.596772  0.294723         0.385776   \n",
      "1    0.050689  -0.058350  0.003221       -0.187137  0.155385        -0.080266   \n",
      "2   -0.266245   0.291149  0.058050        0.526600  0.295114         0.340734   \n",
      "3    0.123428  -0.177119  0.079005       -1.331101  0.081877        -0.397504   \n",
      "4   -0.116216   0.051522  0.094835       -1.618932  0.067484        -0.435511   \n",
      "5    0.029860  -0.057093  0.020536       -0.723995  0.072662        -0.202661   \n",
      "6    0.002057  -0.003454  0.000058       -0.037721  0.075069        -0.010746   \n",
      "7   -0.013475   0.000081  0.004900       -0.370407  0.066667        -0.098995   \n",
      "8   -0.255038   0.218968  0.061235       -0.997531  0.109589        -0.349956   \n",
      "9   -0.201327   0.179610  0.031746       -0.616445  0.143164        -0.251978   \n",
      "10   0.370200  -0.284087  0.179003        2.028752  0.080022         0.598336   \n",
      "11   0.202536  -0.182568  0.030362        0.567389  0.158694         0.246424   \n",
      "12   0.039431   0.023839  0.088968        1.575959  0.066854         0.421826   \n",
      "13   0.086915  -0.077681  0.005996        0.265251  0.145620         0.109507   \n",
      "14   0.197861  -0.180798  0.027012        0.484516  0.187078         0.232432   \n",
      "\n",
      "    student_resid    dffits  \n",
      "0        0.581379  0.375825  \n",
      "1       -0.180038 -0.077222  \n",
      "2        0.511425  0.330915  \n",
      "3       -1.376091 -0.410939  \n",
      "4       -1.740766 -0.468286  \n",
      "5       -0.710054 -0.198759  \n",
      "6       -0.036243 -0.010325  \n",
      "7       -0.357768 -0.095618  \n",
      "8       -0.997327 -0.349884  \n",
      "9       -0.601112 -0.245710  \n",
      "10       2.357824  0.695389  \n",
      "11       0.552007  0.239744  \n",
      "12       1.683460  0.450600  \n",
      "13       0.255537  0.105497  \n",
      "14       0.469769  0.225357  \n"
     ]
    }
   ],
   "source": [
    "infl = model.get_influence()\n",
    "print(infl.summary_frame())"
   ]
  },
  {
   "cell_type": "markdown",
   "id": "f0581736-0434-4b42-9299-418237100945",
   "metadata": {},
   "source": [
    "### Not too shabby with outliers"
   ]
  },
  {
   "cell_type": "code",
   "execution_count": 100,
   "id": "63397f52-2c4a-4813-adf5-1e3cac31ddce",
   "metadata": {},
   "outputs": [
    {
     "data": {
      "text/html": [
       "<table class=\"simpletable\">\n",
       "<caption>OLS Regression Results</caption>\n",
       "<tr>\n",
       "  <th>Dep. Variable:</th>       <td>Meat, Swine</td>   <th>  R-squared:         </th> <td>   0.696</td>\n",
       "</tr>\n",
       "<tr>\n",
       "  <th>Model:</th>                   <td>OLS</td>       <th>  Adj. R-squared:    </th> <td>   0.672</td>\n",
       "</tr>\n",
       "<tr>\n",
       "  <th>Method:</th>             <td>Least Squares</td>  <th>  F-statistic:       </th> <td>   29.72</td>\n",
       "</tr>\n",
       "<tr>\n",
       "  <th>Date:</th>             <td>Tue, 19 Jul 2022</td> <th>  Prob (F-statistic):</th> <td>0.000111</td>\n",
       "</tr>\n",
       "<tr>\n",
       "  <th>Time:</th>                 <td>23:27:33</td>     <th>  Log-Likelihood:    </th> <td> -215.15</td>\n",
       "</tr>\n",
       "<tr>\n",
       "  <th>No. Observations:</th>      <td>    15</td>      <th>  AIC:               </th> <td>   434.3</td>\n",
       "</tr>\n",
       "<tr>\n",
       "  <th>Df Residuals:</th>          <td>    13</td>      <th>  BIC:               </th> <td>   435.7</td>\n",
       "</tr>\n",
       "<tr>\n",
       "  <th>Df Model:</th>              <td>     1</td>      <th>                     </th>     <td> </td>   \n",
       "</tr>\n",
       "<tr>\n",
       "  <th>Covariance Type:</th>      <td>nonrobust</td>    <th>                     </th>     <td> </td>   \n",
       "</tr>\n",
       "</table>\n",
       "<table class=\"simpletable\">\n",
       "<tr>\n",
       "    <td></td>       <th>coef</th>     <th>std err</th>      <th>t</th>      <th>P>|t|</th>  <th>[0.025</th>    <th>0.975]</th>  \n",
       "</tr>\n",
       "<tr>\n",
       "  <th>const</th> <td> 1.393e+07</td> <td> 8.12e+05</td> <td>   17.157</td> <td> 0.000</td> <td> 1.22e+07</td> <td> 1.57e+07</td>\n",
       "</tr>\n",
       "<tr>\n",
       "  <th>Honey</th> <td>  -55.5376</td> <td>   10.188</td> <td>   -5.451</td> <td> 0.000</td> <td>  -77.547</td> <td>  -33.528</td>\n",
       "</tr>\n",
       "</table>\n",
       "<table class=\"simpletable\">\n",
       "<tr>\n",
       "  <th>Omnibus:</th>       <td> 0.511</td> <th>  Durbin-Watson:     </th> <td>   1.282</td>\n",
       "</tr>\n",
       "<tr>\n",
       "  <th>Prob(Omnibus):</th> <td> 0.775</td> <th>  Jarque-Bera (JB):  </th> <td>   0.362</td>\n",
       "</tr>\n",
       "<tr>\n",
       "  <th>Skew:</th>          <td> 0.334</td> <th>  Prob(JB):          </th> <td>   0.834</td>\n",
       "</tr>\n",
       "<tr>\n",
       "  <th>Kurtosis:</th>      <td> 2.635</td> <th>  Cond. No.          </th> <td>5.69e+05</td>\n",
       "</tr>\n",
       "</table><br/><br/>Notes:<br/>[1] Standard Errors assume that the covariance matrix of the errors is correctly specified.<br/>[2] The condition number is large, 5.69e+05. This might indicate that there are<br/>strong multicollinearity or other numerical problems."
      ],
      "text/plain": [
       "<class 'statsmodels.iolib.summary.Summary'>\n",
       "\"\"\"\n",
       "                            OLS Regression Results                            \n",
       "==============================================================================\n",
       "Dep. Variable:            Meat, Swine   R-squared:                       0.696\n",
       "Model:                            OLS   Adj. R-squared:                  0.672\n",
       "Method:                 Least Squares   F-statistic:                     29.72\n",
       "Date:                Tue, 19 Jul 2022   Prob (F-statistic):           0.000111\n",
       "Time:                        23:27:33   Log-Likelihood:                -215.15\n",
       "No. Observations:                  15   AIC:                             434.3\n",
       "Df Residuals:                      13   BIC:                             435.7\n",
       "Df Model:                           1                                         \n",
       "Covariance Type:            nonrobust                                         \n",
       "==============================================================================\n",
       "                 coef    std err          t      P>|t|      [0.025      0.975]\n",
       "------------------------------------------------------------------------------\n",
       "const       1.393e+07   8.12e+05     17.157      0.000    1.22e+07    1.57e+07\n",
       "Honey        -55.5376     10.188     -5.451      0.000     -77.547     -33.528\n",
       "==============================================================================\n",
       "Omnibus:                        0.511   Durbin-Watson:                   1.282\n",
       "Prob(Omnibus):                  0.775   Jarque-Bera (JB):                0.362\n",
       "Skew:                           0.334   Prob(JB):                        0.834\n",
       "Kurtosis:                       2.635   Cond. No.                     5.69e+05\n",
       "==============================================================================\n",
       "\n",
       "Notes:\n",
       "[1] Standard Errors assume that the covariance matrix of the errors is correctly specified.\n",
       "[2] The condition number is large, 5.69e+05. This might indicate that there are\n",
       "strong multicollinearity or other numerical problems.\n",
       "\"\"\""
      ]
     },
     "execution_count": 100,
     "metadata": {},
     "output_type": "execute_result"
    }
   ],
   "source": [
    "model.summary()"
   ]
  },
  {
   "cell_type": "code",
   "execution_count": null,
   "id": "267988eb-d905-4548-ba9e-615f9741ce5d",
   "metadata": {},
   "outputs": [],
   "source": [
    "### P value is not significant with an F Statistic that is quite is large. Because the p value is < .05, you can determine that the Year (or perhaps some event(s) in the years) does have a  significant effect on the production value of Honey. By looking at the R-squared and Adj. R-squared in the upper right hand corner, you see that this model accounts for over 70% (more precisely 73.6%) of the variance in explaining decrease in Honey's production value over time.\n",
    "\n",
    "Omnibus: This is a test of skew and kurtosis of the residual. You want a value close to zero, which would indicate normality = *1.123\n",
    "\n",
    "Prob(Omnibus): This is a test indicating the probabilty that residulas are normally distributed. You would like to see a value close to zero here, to inidcate a normal distribution. = *0.570\n",
    "\n",
    "Skew: Again, you would like to see a value close to zero, and this result feeds into the Omnibus test discussed above. = *0.505\n",
    "\n",
    "Kurtosis: If you have a value close to zero, this means our data is relatively normal. = *2.699\n",
    "\n",
    "Durbin-Watson: This also tests for homoscedasticity! You would like a value between 1 and 2, otherwise you have the presence of heteroscedasticity within your data. = *1.985, so close to being heteroscedastic\n",
    "\n",
    "Jarque-Bera (JB): This also tests skew and kurtosis. It should also be close to zero. = *0.695\n",
    "\n",
    "Prob (JB): The probabilty that JB is normal. You would like this to be close to zero as well. = *0.706\n",
    "\n",
    "Condition Number: You would like to see a condition number below 30 or so, because that indicates low multicollinearity. If you have higher than 30, it's time to suspect related variables! =9.30+05"
   ]
  },
  {
   "cell_type": "markdown",
   "id": "0d2d2c82-88e5-4a3b-a667-a08941e704a7",
   "metadata": {},
   "source": [
    "# Further analysis inquiries"
   ]
  },
  {
   "cell_type": "markdown",
   "id": "c3817ed1-6414-46e5-93f6-224c1c5f41eb",
   "metadata": {},
   "source": [
    "### What influences bee survival - explain negative correlation 3rd variables possibly?\n",
    "### Does it have an impact how much? or not?"
   ]
  },
  {
   "cell_type": "markdown",
   "id": "f064765d-0534-4ced-bff0-e63e05eb50c2",
   "metadata": {},
   "source": [
    "The presence of grazing animals?"
   ]
  },
  {
   "cell_type": "markdown",
   "id": "eedcb02b-81b1-44b8-b1d5-fb1b75ee1c57",
   "metadata": {},
   "source": [
    "Pesticides?"
   ]
  },
  {
   "cell_type": "markdown",
   "id": "7a167597-d82b-4bd7-a93a-1e68197ac0ed",
   "metadata": {},
   "source": [
    "Habitat loss?"
   ]
  },
  {
   "cell_type": "markdown",
   "id": "c5edc876-f7bb-438a-a247-42cb4858f367",
   "metadata": {},
   "source": [
    "An increased number of predatory invaders?"
   ]
  },
  {
   "cell_type": "markdown",
   "id": "0cf2c8d4-ec3b-4ce4-8118-5cf165cd75ae",
   "metadata": {},
   "source": [
    "."
   ]
  },
  {
   "cell_type": "markdown",
   "id": "2424a3e8-ce72-416e-86f8-4973f6d7169b",
   "metadata": {},
   "source": [
    "# Visuals in Tableau\n",
    "### Distribution of honey vs Dairy&livestock stuff\n",
    "### histograms - value\n",
    "### line graph - value trend over time"
   ]
  },
  {
   "cell_type": "markdown",
   "id": "0a4c59e6-941c-4844-afa2-b57c81b3b06e",
   "metadata": {},
   "source": [
    "line graph done"
   ]
  },
  {
   "cell_type": "markdown",
   "id": "d0bf2f00-cb84-49f0-b57a-707daec904c0",
   "metadata": {},
   "source": [
    "Histogram done?, Dstribution is the only thing left"
   ]
  },
  {
   "cell_type": "markdown",
   "id": "e821e13b-dabe-4351-91e8-c1f06a5cc7cb",
   "metadata": {},
   "source": [
    "."
   ]
  },
  {
   "cell_type": "markdown",
   "id": "ef394649-a894-404c-9a98-95fb971be950",
   "metadata": {},
   "source": [
    "# Additional Notes for the project\n",
    "### tableau for visuals"
   ]
  },
  {
   "cell_type": "markdown",
   "id": "d600a928-d4df-43f7-95a4-6c7e044974d6",
   "metadata": {},
   "source": [
    "."
   ]
  }
 ],
 "metadata": {
  "kernelspec": {
   "display_name": "Python 3 (ipykernel)",
   "language": "python",
   "name": "python3"
  },
  "language_info": {
   "codemirror_mode": {
    "name": "ipython",
    "version": 3
   },
   "file_extension": ".py",
   "mimetype": "text/x-python",
   "name": "python",
   "nbconvert_exporter": "python",
   "pygments_lexer": "ipython3",
   "version": "3.9.7"
  }
 },
 "nbformat": 4,
 "nbformat_minor": 5
}
