{
 "cells": [
  {
   "cell_type": "code",
   "execution_count": 1,
   "id": "9c02c2dc",
   "metadata": {},
   "outputs": [],
   "source": [
    "#Load Libraries\n",
    "\n",
    "import pandas as pd\n",
    "from matplotlib import pyplot\n",
    "from datetime import datetime\n",
    "from statsmodels.tsa.stattools import adfuller\n",
    "from pandas.plotting import autocorrelation_plot\n",
    "\n",
    "from statsmodels.tsa.arima.model import ARIMA\n",
    "from pandas import DataFrame\n",
    "\n"
   ]
  },
  {
   "cell_type": "code",
   "execution_count": 2,
   "id": "86ca99ea",
   "metadata": {},
   "outputs": [
    {
     "data": {
      "text/html": [
       "<div>\n",
       "<style scoped>\n",
       "    .dataframe tbody tr th:only-of-type {\n",
       "        vertical-align: middle;\n",
       "    }\n",
       "\n",
       "    .dataframe tbody tr th {\n",
       "        vertical-align: top;\n",
       "    }\n",
       "\n",
       "    .dataframe thead th {\n",
       "        text-align: right;\n",
       "    }\n",
       "</style>\n",
       "<table border=\"1\" class=\"dataframe\">\n",
       "  <thead>\n",
       "    <tr style=\"text-align: right;\">\n",
       "      <th></th>\n",
       "      <th>Commodity_Description</th>\n",
       "      <th>Year</th>\n",
       "      <th>Value</th>\n",
       "      <th>Country_Code</th>\n",
       "      <th>Country_Name</th>\n",
       "      <th>Attribute_Description</th>\n",
       "      <th>Unit_Description</th>\n",
       "    </tr>\n",
       "  </thead>\n",
       "  <tbody>\n",
       "    <tr>\n",
       "      <th>0</th>\n",
       "      <td>Almonds, Shelled Basis</td>\n",
       "      <td>1998</td>\n",
       "      <td>235884</td>\n",
       "      <td>US</td>\n",
       "      <td>United States</td>\n",
       "      <td>Production</td>\n",
       "      <td>(MT)</td>\n",
       "    </tr>\n",
       "    <tr>\n",
       "      <th>1</th>\n",
       "      <td>Almonds, Shelled Basis</td>\n",
       "      <td>1999</td>\n",
       "      <td>377800</td>\n",
       "      <td>US</td>\n",
       "      <td>United States</td>\n",
       "      <td>Production</td>\n",
       "      <td>(MT)</td>\n",
       "    </tr>\n",
       "    <tr>\n",
       "      <th>2</th>\n",
       "      <td>Almonds, Shelled Basis</td>\n",
       "      <td>2000</td>\n",
       "      <td>318900</td>\n",
       "      <td>US</td>\n",
       "      <td>United States</td>\n",
       "      <td>Production</td>\n",
       "      <td>(MT)</td>\n",
       "    </tr>\n",
       "    <tr>\n",
       "      <th>3</th>\n",
       "      <td>Almonds, Shelled Basis</td>\n",
       "      <td>2001</td>\n",
       "      <td>376500</td>\n",
       "      <td>US</td>\n",
       "      <td>United States</td>\n",
       "      <td>Production</td>\n",
       "      <td>(MT)</td>\n",
       "    </tr>\n",
       "    <tr>\n",
       "      <th>4</th>\n",
       "      <td>Almonds, Shelled Basis</td>\n",
       "      <td>2002</td>\n",
       "      <td>494416</td>\n",
       "      <td>US</td>\n",
       "      <td>United States</td>\n",
       "      <td>Production</td>\n",
       "      <td>(MT)</td>\n",
       "    </tr>\n",
       "    <tr>\n",
       "      <th>5</th>\n",
       "      <td>Almonds, Shelled Basis</td>\n",
       "      <td>2003</td>\n",
       "      <td>471740</td>\n",
       "      <td>US</td>\n",
       "      <td>United States</td>\n",
       "      <td>Production</td>\n",
       "      <td>(MT)</td>\n",
       "    </tr>\n",
       "    <tr>\n",
       "      <th>6</th>\n",
       "      <td>Almonds, Shelled Basis</td>\n",
       "      <td>2004</td>\n",
       "      <td>462664</td>\n",
       "      <td>US</td>\n",
       "      <td>United States</td>\n",
       "      <td>Production</td>\n",
       "      <td>(MT)</td>\n",
       "    </tr>\n",
       "    <tr>\n",
       "      <th>7</th>\n",
       "      <td>Almonds, Shelled Basis</td>\n",
       "      <td>2005</td>\n",
       "      <td>415040</td>\n",
       "      <td>US</td>\n",
       "      <td>United States</td>\n",
       "      <td>Production</td>\n",
       "      <td>(MT)</td>\n",
       "    </tr>\n",
       "    <tr>\n",
       "      <th>8</th>\n",
       "      <td>Almonds, Shelled Basis</td>\n",
       "      <td>2006</td>\n",
       "      <td>508023</td>\n",
       "      <td>US</td>\n",
       "      <td>United States</td>\n",
       "      <td>Production</td>\n",
       "      <td>(MT)</td>\n",
       "    </tr>\n",
       "    <tr>\n",
       "      <th>9</th>\n",
       "      <td>Almonds, Shelled Basis</td>\n",
       "      <td>2007</td>\n",
       "      <td>630500</td>\n",
       "      <td>US</td>\n",
       "      <td>United States</td>\n",
       "      <td>Production</td>\n",
       "      <td>(MT)</td>\n",
       "    </tr>\n",
       "    <tr>\n",
       "      <th>10</th>\n",
       "      <td>Almonds, Shelled Basis</td>\n",
       "      <td>2008</td>\n",
       "      <td>739400</td>\n",
       "      <td>US</td>\n",
       "      <td>United States</td>\n",
       "      <td>Production</td>\n",
       "      <td>(MT)</td>\n",
       "    </tr>\n",
       "    <tr>\n",
       "      <th>11</th>\n",
       "      <td>Almonds, Shelled Basis</td>\n",
       "      <td>2009</td>\n",
       "      <td>639600</td>\n",
       "      <td>US</td>\n",
       "      <td>United States</td>\n",
       "      <td>Production</td>\n",
       "      <td>(MT)</td>\n",
       "    </tr>\n",
       "    <tr>\n",
       "      <th>12</th>\n",
       "      <td>Almonds, Shelled Basis</td>\n",
       "      <td>2010</td>\n",
       "      <td>748430</td>\n",
       "      <td>US</td>\n",
       "      <td>United States</td>\n",
       "      <td>Production</td>\n",
       "      <td>(MT)</td>\n",
       "    </tr>\n",
       "    <tr>\n",
       "      <th>13</th>\n",
       "      <td>Almonds, Shelled Basis</td>\n",
       "      <td>2011</td>\n",
       "      <td>920800</td>\n",
       "      <td>US</td>\n",
       "      <td>United States</td>\n",
       "      <td>Production</td>\n",
       "      <td>(MT)</td>\n",
       "    </tr>\n",
       "    <tr>\n",
       "      <th>14</th>\n",
       "      <td>Almonds, Shelled Basis</td>\n",
       "      <td>2012</td>\n",
       "      <td>952500</td>\n",
       "      <td>US</td>\n",
       "      <td>United States</td>\n",
       "      <td>Production</td>\n",
       "      <td>(MT)</td>\n",
       "    </tr>\n",
       "    <tr>\n",
       "      <th>15</th>\n",
       "      <td>Almonds, Shelled Basis</td>\n",
       "      <td>2013</td>\n",
       "      <td>911720</td>\n",
       "      <td>US</td>\n",
       "      <td>United States</td>\n",
       "      <td>Production</td>\n",
       "      <td>(MT)</td>\n",
       "    </tr>\n",
       "    <tr>\n",
       "      <th>16</th>\n",
       "      <td>Almonds, Shelled Basis</td>\n",
       "      <td>2014</td>\n",
       "      <td>952540</td>\n",
       "      <td>US</td>\n",
       "      <td>United States</td>\n",
       "      <td>Production</td>\n",
       "      <td>(MT)</td>\n",
       "    </tr>\n",
       "    <tr>\n",
       "      <th>17</th>\n",
       "      <td>Almonds, Shelled Basis</td>\n",
       "      <td>2015</td>\n",
       "      <td>861830</td>\n",
       "      <td>US</td>\n",
       "      <td>United States</td>\n",
       "      <td>Production</td>\n",
       "      <td>(MT)</td>\n",
       "    </tr>\n",
       "    <tr>\n",
       "      <th>18</th>\n",
       "      <td>Almonds, Shelled Basis</td>\n",
       "      <td>2016</td>\n",
       "      <td>970690</td>\n",
       "      <td>US</td>\n",
       "      <td>United States</td>\n",
       "      <td>Production</td>\n",
       "      <td>(MT)</td>\n",
       "    </tr>\n",
       "    <tr>\n",
       "      <th>19</th>\n",
       "      <td>Almonds, Shelled Basis</td>\n",
       "      <td>2017</td>\n",
       "      <td>1029650</td>\n",
       "      <td>US</td>\n",
       "      <td>United States</td>\n",
       "      <td>Production</td>\n",
       "      <td>(MT)</td>\n",
       "    </tr>\n",
       "    <tr>\n",
       "      <th>20</th>\n",
       "      <td>Almonds, Shelled Basis</td>\n",
       "      <td>2018</td>\n",
       "      <td>1111300</td>\n",
       "      <td>US</td>\n",
       "      <td>United States</td>\n",
       "      <td>Production</td>\n",
       "      <td>(MT)</td>\n",
       "    </tr>\n",
       "    <tr>\n",
       "      <th>21</th>\n",
       "      <td>Almonds, Shelled Basis</td>\n",
       "      <td>2019</td>\n",
       "      <td>1156660</td>\n",
       "      <td>US</td>\n",
       "      <td>United States</td>\n",
       "      <td>Production</td>\n",
       "      <td>(MT)</td>\n",
       "    </tr>\n",
       "    <tr>\n",
       "      <th>22</th>\n",
       "      <td>Almonds, Shelled Basis</td>\n",
       "      <td>2020</td>\n",
       "      <td>1412940</td>\n",
       "      <td>US</td>\n",
       "      <td>United States</td>\n",
       "      <td>Production</td>\n",
       "      <td>(MT)</td>\n",
       "    </tr>\n",
       "    <tr>\n",
       "      <th>23</th>\n",
       "      <td>Almonds, Shelled Basis</td>\n",
       "      <td>2021</td>\n",
       "      <td>1270060</td>\n",
       "      <td>US</td>\n",
       "      <td>United States</td>\n",
       "      <td>Production</td>\n",
       "      <td>(MT)</td>\n",
       "    </tr>\n",
       "    <tr>\n",
       "      <th>24</th>\n",
       "      <td>Apples, Fresh</td>\n",
       "      <td>1998</td>\n",
       "      <td>5282724</td>\n",
       "      <td>US</td>\n",
       "      <td>United States</td>\n",
       "      <td>Production</td>\n",
       "      <td>(MT)</td>\n",
       "    </tr>\n",
       "    <tr>\n",
       "      <th>25</th>\n",
       "      <td>Apples, Fresh</td>\n",
       "      <td>1999</td>\n",
       "      <td>5746060</td>\n",
       "      <td>US</td>\n",
       "      <td>United States</td>\n",
       "      <td>Production</td>\n",
       "      <td>(MT)</td>\n",
       "    </tr>\n",
       "    <tr>\n",
       "      <th>26</th>\n",
       "      <td>Apples, Fresh</td>\n",
       "      <td>2000</td>\n",
       "      <td>5675890</td>\n",
       "      <td>US</td>\n",
       "      <td>United States</td>\n",
       "      <td>Production</td>\n",
       "      <td>(MT)</td>\n",
       "    </tr>\n",
       "    <tr>\n",
       "      <th>27</th>\n",
       "      <td>Apples, Fresh</td>\n",
       "      <td>2001</td>\n",
       "      <td>5065060</td>\n",
       "      <td>US</td>\n",
       "      <td>United States</td>\n",
       "      <td>Production</td>\n",
       "      <td>(MT)</td>\n",
       "    </tr>\n",
       "    <tr>\n",
       "      <th>28</th>\n",
       "      <td>Apples, Fresh</td>\n",
       "      <td>2002</td>\n",
       "      <td>4605810</td>\n",
       "      <td>US</td>\n",
       "      <td>United States</td>\n",
       "      <td>Production</td>\n",
       "      <td>(MT)</td>\n",
       "    </tr>\n",
       "    <tr>\n",
       "      <th>29</th>\n",
       "      <td>Apples, Fresh</td>\n",
       "      <td>2003</td>\n",
       "      <td>4780600</td>\n",
       "      <td>US</td>\n",
       "      <td>United States</td>\n",
       "      <td>Production</td>\n",
       "      <td>(MT)</td>\n",
       "    </tr>\n",
       "    <tr>\n",
       "      <th>30</th>\n",
       "      <td>Apples, Fresh</td>\n",
       "      <td>2004</td>\n",
       "      <td>5683040</td>\n",
       "      <td>US</td>\n",
       "      <td>United States</td>\n",
       "      <td>Production</td>\n",
       "      <td>(MT)</td>\n",
       "    </tr>\n",
       "    <tr>\n",
       "      <th>31</th>\n",
       "      <td>Apples, Fresh</td>\n",
       "      <td>2005</td>\n",
       "      <td>5261960</td>\n",
       "      <td>US</td>\n",
       "      <td>United States</td>\n",
       "      <td>Production</td>\n",
       "      <td>(MT)</td>\n",
       "    </tr>\n",
       "    <tr>\n",
       "      <th>32</th>\n",
       "      <td>Apples, Fresh</td>\n",
       "      <td>2006</td>\n",
       "      <td>5351610</td>\n",
       "      <td>US</td>\n",
       "      <td>United States</td>\n",
       "      <td>Production</td>\n",
       "      <td>(MT)</td>\n",
       "    </tr>\n",
       "    <tr>\n",
       "      <th>33</th>\n",
       "      <td>Apples, Fresh</td>\n",
       "      <td>2007</td>\n",
       "      <td>4154195</td>\n",
       "      <td>US</td>\n",
       "      <td>United States</td>\n",
       "      <td>Production</td>\n",
       "      <td>(MT)</td>\n",
       "    </tr>\n",
       "    <tr>\n",
       "      <th>34</th>\n",
       "      <td>Apples, Fresh</td>\n",
       "      <td>2008</td>\n",
       "      <td>4508344</td>\n",
       "      <td>US</td>\n",
       "      <td>United States</td>\n",
       "      <td>Production</td>\n",
       "      <td>(MT)</td>\n",
       "    </tr>\n",
       "    <tr>\n",
       "      <th>35</th>\n",
       "      <td>Apples, Fresh</td>\n",
       "      <td>2009</td>\n",
       "      <td>4505000</td>\n",
       "      <td>US</td>\n",
       "      <td>United States</td>\n",
       "      <td>Production</td>\n",
       "      <td>(MT)</td>\n",
       "    </tr>\n",
       "    <tr>\n",
       "      <th>36</th>\n",
       "      <td>Apples, Fresh</td>\n",
       "      <td>2010</td>\n",
       "      <td>4219541</td>\n",
       "      <td>US</td>\n",
       "      <td>United States</td>\n",
       "      <td>Production</td>\n",
       "      <td>(MT)</td>\n",
       "    </tr>\n",
       "    <tr>\n",
       "      <th>37</th>\n",
       "      <td>Apples, Fresh</td>\n",
       "      <td>2011</td>\n",
       "      <td>4231474</td>\n",
       "      <td>US</td>\n",
       "      <td>United States</td>\n",
       "      <td>Production</td>\n",
       "      <td>(MT)</td>\n",
       "    </tr>\n",
       "    <tr>\n",
       "      <th>38</th>\n",
       "      <td>Apples, Fresh</td>\n",
       "      <td>2012</td>\n",
       "      <td>4200000</td>\n",
       "      <td>US</td>\n",
       "      <td>United States</td>\n",
       "      <td>Production</td>\n",
       "      <td>(MT)</td>\n",
       "    </tr>\n",
       "    <tr>\n",
       "      <th>39</th>\n",
       "      <td>Apples, Fresh</td>\n",
       "      <td>2013</td>\n",
       "      <td>4731741</td>\n",
       "      <td>US</td>\n",
       "      <td>United States</td>\n",
       "      <td>Production</td>\n",
       "      <td>(MT)</td>\n",
       "    </tr>\n",
       "    <tr>\n",
       "      <th>40</th>\n",
       "      <td>Apples, Fresh</td>\n",
       "      <td>2014</td>\n",
       "      <td>5111942</td>\n",
       "      <td>US</td>\n",
       "      <td>United States</td>\n",
       "      <td>Production</td>\n",
       "      <td>(MT)</td>\n",
       "    </tr>\n",
       "    <tr>\n",
       "      <th>41</th>\n",
       "      <td>Apples, Fresh</td>\n",
       "      <td>2015</td>\n",
       "      <td>4561000</td>\n",
       "      <td>US</td>\n",
       "      <td>United States</td>\n",
       "      <td>Production</td>\n",
       "      <td>(MT)</td>\n",
       "    </tr>\n",
       "    <tr>\n",
       "      <th>42</th>\n",
       "      <td>Apples, Fresh</td>\n",
       "      <td>2016</td>\n",
       "      <td>5010201</td>\n",
       "      <td>US</td>\n",
       "      <td>United States</td>\n",
       "      <td>Production</td>\n",
       "      <td>(MT)</td>\n",
       "    </tr>\n",
       "    <tr>\n",
       "      <th>43</th>\n",
       "      <td>Apples, Fresh</td>\n",
       "      <td>2017</td>\n",
       "      <td>5084727</td>\n",
       "      <td>US</td>\n",
       "      <td>United States</td>\n",
       "      <td>Production</td>\n",
       "      <td>(MT)</td>\n",
       "    </tr>\n",
       "    <tr>\n",
       "      <th>44</th>\n",
       "      <td>Apples, Fresh</td>\n",
       "      <td>2018</td>\n",
       "      <td>5048000</td>\n",
       "      <td>US</td>\n",
       "      <td>United States</td>\n",
       "      <td>Production</td>\n",
       "      <td>(MT)</td>\n",
       "    </tr>\n",
       "    <tr>\n",
       "      <th>45</th>\n",
       "      <td>Apples, Fresh</td>\n",
       "      <td>2019</td>\n",
       "      <td>4851625</td>\n",
       "      <td>US</td>\n",
       "      <td>United States</td>\n",
       "      <td>Production</td>\n",
       "      <td>(MT)</td>\n",
       "    </tr>\n",
       "    <tr>\n",
       "      <th>46</th>\n",
       "      <td>Apples, Fresh</td>\n",
       "      <td>2020</td>\n",
       "      <td>4671000</td>\n",
       "      <td>US</td>\n",
       "      <td>United States</td>\n",
       "      <td>Production</td>\n",
       "      <td>(MT)</td>\n",
       "    </tr>\n",
       "    <tr>\n",
       "      <th>47</th>\n",
       "      <td>Apples, Fresh</td>\n",
       "      <td>2021</td>\n",
       "      <td>4607646</td>\n",
       "      <td>US</td>\n",
       "      <td>United States</td>\n",
       "      <td>Production</td>\n",
       "      <td>(MT)</td>\n",
       "    </tr>\n",
       "    <tr>\n",
       "      <th>48</th>\n",
       "      <td>Barley</td>\n",
       "      <td>1998</td>\n",
       "      <td>235884000</td>\n",
       "      <td>US</td>\n",
       "      <td>United States</td>\n",
       "      <td>Production</td>\n",
       "      <td>(MT)</td>\n",
       "    </tr>\n",
       "    <tr>\n",
       "      <th>49</th>\n",
       "      <td>Barley</td>\n",
       "      <td>1999</td>\n",
       "      <td>361362000</td>\n",
       "      <td>US</td>\n",
       "      <td>United States</td>\n",
       "      <td>Production</td>\n",
       "      <td>(MT)</td>\n",
       "    </tr>\n",
       "  </tbody>\n",
       "</table>\n",
       "</div>"
      ],
      "text/plain": [
       "     Commodity_Description  Year      Value Country_Code   Country_Name  \\\n",
       "0   Almonds, Shelled Basis  1998     235884           US  United States   \n",
       "1   Almonds, Shelled Basis  1999     377800           US  United States   \n",
       "2   Almonds, Shelled Basis  2000     318900           US  United States   \n",
       "3   Almonds, Shelled Basis  2001     376500           US  United States   \n",
       "4   Almonds, Shelled Basis  2002     494416           US  United States   \n",
       "5   Almonds, Shelled Basis  2003     471740           US  United States   \n",
       "6   Almonds, Shelled Basis  2004     462664           US  United States   \n",
       "7   Almonds, Shelled Basis  2005     415040           US  United States   \n",
       "8   Almonds, Shelled Basis  2006     508023           US  United States   \n",
       "9   Almonds, Shelled Basis  2007     630500           US  United States   \n",
       "10  Almonds, Shelled Basis  2008     739400           US  United States   \n",
       "11  Almonds, Shelled Basis  2009     639600           US  United States   \n",
       "12  Almonds, Shelled Basis  2010     748430           US  United States   \n",
       "13  Almonds, Shelled Basis  2011     920800           US  United States   \n",
       "14  Almonds, Shelled Basis  2012     952500           US  United States   \n",
       "15  Almonds, Shelled Basis  2013     911720           US  United States   \n",
       "16  Almonds, Shelled Basis  2014     952540           US  United States   \n",
       "17  Almonds, Shelled Basis  2015     861830           US  United States   \n",
       "18  Almonds, Shelled Basis  2016     970690           US  United States   \n",
       "19  Almonds, Shelled Basis  2017    1029650           US  United States   \n",
       "20  Almonds, Shelled Basis  2018    1111300           US  United States   \n",
       "21  Almonds, Shelled Basis  2019    1156660           US  United States   \n",
       "22  Almonds, Shelled Basis  2020    1412940           US  United States   \n",
       "23  Almonds, Shelled Basis  2021    1270060           US  United States   \n",
       "24           Apples, Fresh  1998    5282724           US  United States   \n",
       "25           Apples, Fresh  1999    5746060           US  United States   \n",
       "26           Apples, Fresh  2000    5675890           US  United States   \n",
       "27           Apples, Fresh  2001    5065060           US  United States   \n",
       "28           Apples, Fresh  2002    4605810           US  United States   \n",
       "29           Apples, Fresh  2003    4780600           US  United States   \n",
       "30           Apples, Fresh  2004    5683040           US  United States   \n",
       "31           Apples, Fresh  2005    5261960           US  United States   \n",
       "32           Apples, Fresh  2006    5351610           US  United States   \n",
       "33           Apples, Fresh  2007    4154195           US  United States   \n",
       "34           Apples, Fresh  2008    4508344           US  United States   \n",
       "35           Apples, Fresh  2009    4505000           US  United States   \n",
       "36           Apples, Fresh  2010    4219541           US  United States   \n",
       "37           Apples, Fresh  2011    4231474           US  United States   \n",
       "38           Apples, Fresh  2012    4200000           US  United States   \n",
       "39           Apples, Fresh  2013    4731741           US  United States   \n",
       "40           Apples, Fresh  2014    5111942           US  United States   \n",
       "41           Apples, Fresh  2015    4561000           US  United States   \n",
       "42           Apples, Fresh  2016    5010201           US  United States   \n",
       "43           Apples, Fresh  2017    5084727           US  United States   \n",
       "44           Apples, Fresh  2018    5048000           US  United States   \n",
       "45           Apples, Fresh  2019    4851625           US  United States   \n",
       "46           Apples, Fresh  2020    4671000           US  United States   \n",
       "47           Apples, Fresh  2021    4607646           US  United States   \n",
       "48                  Barley  1998  235884000           US  United States   \n",
       "49                  Barley  1999  361362000           US  United States   \n",
       "\n",
       "   Attribute_Description Unit_Description  \n",
       "0             Production             (MT)  \n",
       "1             Production             (MT)  \n",
       "2             Production             (MT)  \n",
       "3             Production             (MT)  \n",
       "4             Production             (MT)  \n",
       "5             Production             (MT)  \n",
       "6             Production             (MT)  \n",
       "7             Production             (MT)  \n",
       "8             Production             (MT)  \n",
       "9             Production             (MT)  \n",
       "10            Production             (MT)  \n",
       "11            Production             (MT)  \n",
       "12            Production             (MT)  \n",
       "13            Production             (MT)  \n",
       "14            Production             (MT)  \n",
       "15            Production             (MT)  \n",
       "16            Production             (MT)  \n",
       "17            Production             (MT)  \n",
       "18            Production             (MT)  \n",
       "19            Production             (MT)  \n",
       "20            Production             (MT)  \n",
       "21            Production             (MT)  \n",
       "22            Production             (MT)  \n",
       "23            Production             (MT)  \n",
       "24            Production             (MT)  \n",
       "25            Production             (MT)  \n",
       "26            Production             (MT)  \n",
       "27            Production             (MT)  \n",
       "28            Production             (MT)  \n",
       "29            Production             (MT)  \n",
       "30            Production             (MT)  \n",
       "31            Production             (MT)  \n",
       "32            Production             (MT)  \n",
       "33            Production             (MT)  \n",
       "34            Production             (MT)  \n",
       "35            Production             (MT)  \n",
       "36            Production             (MT)  \n",
       "37            Production             (MT)  \n",
       "38            Production             (MT)  \n",
       "39            Production             (MT)  \n",
       "40            Production             (MT)  \n",
       "41            Production             (MT)  \n",
       "42            Production             (MT)  \n",
       "43            Production             (MT)  \n",
       "44            Production             (MT)  \n",
       "45            Production             (MT)  \n",
       "46            Production             (MT)  \n",
       "47            Production             (MT)  \n",
       "48            Production             (MT)  \n",
       "49            Production             (MT)  "
      ]
     },
     "execution_count": 2,
     "metadata": {},
     "output_type": "execute_result"
    }
   ],
   "source": [
    "# Load Data\n",
    "globalHoneyCorr = pd.read_csv(\"../Data/usdaGlobal_HighCorr_Honey.csv\")\n",
    "\n",
    "globalHoneyCorr.head(50)"
   ]
  },
  {
   "cell_type": "code",
   "execution_count": 3,
   "id": "e20985bc",
   "metadata": {},
   "outputs": [],
   "source": [
    "# Picking highly correlated commodity in grains  - Barley, Oats.\n",
    "\n",
    "Barley_DS = globalHoneyCorr[globalHoneyCorr.Commodity_Description == 'Barley']\n",
    "\n",
    "Oats_DS = globalHoneyCorr[globalHoneyCorr.Commodity_Description == 'Oats']\n"
   ]
  },
  {
   "cell_type": "code",
   "execution_count": 4,
   "id": "f2b460d3",
   "metadata": {},
   "outputs": [],
   "source": [
    "# Subsetting the Datasets to have year and production value\n",
    "\n",
    "Barley_DS1 = Barley_DS[[\"Year\", \"Value\"]]\n",
    "\n",
    "Oats_DS1 = Oats_DS[[\"Year\", \"Value\"]]\n",
    "\n",
    "Barley_DS1 = pd.DataFrame(data=Barley_DS1)\n",
    "Oats_DS1 = pd.DataFrame(data=Oats_DS1)\n",
    "\n"
   ]
  },
  {
   "cell_type": "code",
   "execution_count": 5,
   "id": "05d99b6b",
   "metadata": {},
   "outputs": [],
   "source": [
    "# Renaming the column Value\n",
    "\n",
    "Barley_DS1.rename(columns = {'Value':'BarleyProd'}, inplace = True)\n",
    "\n",
    "Oats_DS1.rename(columns = {'Value':'OatsProd'}, inplace = True)\n",
    "\n"
   ]
  },
  {
   "cell_type": "markdown",
   "id": "bc72b258",
   "metadata": {},
   "source": [
    "# Working on Barley "
   ]
  },
  {
   "cell_type": "code",
   "execution_count": 6,
   "id": "11f7155d",
   "metadata": {},
   "outputs": [],
   "source": [
    "# Saving the dataset as CSV file for future use\n",
    "\n",
    "\n",
    "Barley_DS1.to_csv(r'../Data/BarleyArima.csv', index = False)\n"
   ]
  },
  {
   "cell_type": "code",
   "execution_count": 7,
   "id": "4a011096",
   "metadata": {},
   "outputs": [],
   "source": [
    "# Reformat the Year as Date and extracting only the year out of it.\n",
    "\n",
    "Barley_DS2 = pd.DataFrame(data=Barley_DS1)\n",
    "\n",
    "\n",
    "Barley_DS2['Year'] = Barley_DS2['Year'].astype(str)\n",
    "Barley_DS2['Year'] = Barley_DS2['Year'].apply(lambda s: s+\"-01-01\")\n",
    "Barley_DS2['Year'] = pd.to_datetime(Barley_DS2.Year)\n",
    "Barley_DS2['Year'] = Barley_DS2['Year'].dt.year"
   ]
  },
  {
   "cell_type": "code",
   "execution_count": 8,
   "id": "ecd82ae8",
   "metadata": {},
   "outputs": [
    {
     "data": {
      "image/png": "[encoded data removed]",
      "text/plain": [
       "<Figure size 432x288 with 1 Axes>"
      ]
     },
     "metadata": {
      "needs_background": "light"
     },
     "output_type": "display_data"
    }
   ],
   "source": [
    "\n",
    "Barley_DS3 = pd.DataFrame(data=Barley_DS1)\n",
    "\n",
    "\n",
    "\n",
    "Barley_DS2.set_index('Year', inplace=True)\n",
    "\n",
    "\n",
    "\n",
    "Barley_DS2.plot()\n",
    "pyplot.show()\n",
    "\n",
    "\n"
   ]
  },
  {
   "cell_type": "code",
   "execution_count": 12,
   "id": "835b3510",
   "metadata": {},
   "outputs": [
    {
     "data": {
      "image/png": "[encoded data removed]",
      "text/plain": [
       "<Figure size 432x288 with 1 Axes>"
      ]
     },
     "metadata": {
      "needs_background": "light"
     },
     "output_type": "display_data"
    },
    {
     "data": {
      "text/plain": [
       "{'adf': -1.2406416518278522,\n",
       " 'pvalue': 0.6558730436045354,\n",
       " 'usedlag': 9,\n",
       " 'nobs': 14,\n",
       " 'criticalvalues': {'1%': -4.01203360058309,\n",
       "  '5%': -3.1041838775510207,\n",
       "  '10%': -2.6909873469387753},\n",
       " 'icbest': 634.0830837319835}"
      ]
     },
     "execution_count": 12,
     "metadata": {},
     "output_type": "execute_result"
    }
   ],
   "source": [
    "# As we can clearly see, there is no trend in time and that suggests that the data are stationary.\n",
    "# However just to be sure we will use an Augmented Dickey-Fuller test.\n",
    "\n",
    "autocorrelation_plot(Barley_DS2)\n",
    "pyplot.show()\n",
    "\n",
    "result = adfuller(Barley_DS2['BarleyProd'], autolag = 'AIC')\n",
    "\n",
    "#to help you, we added the names of every value\n",
    "\n",
    "dict(zip(['adf', 'pvalue', 'usedlag', 'nobs', 'critical' 'values', 'icbest'],result))\n"
   ]
  },
  {
   "cell_type": "code",
   "execution_count": null,
   "id": "ed79f54f",
   "metadata": {},
   "outputs": [],
   "source": [
    "# Analysing the results\n",
    "\n",
    "# Test statistic: -1.24\n",
    "# P-value: 0.65\n",
    "    \n",
    "# We failed to reject the Null Hypothesis and the series has a unit root thus is not stationary.\n",
    "# In other words, it has some time-dependent structure and does not have constant variance over time."
   ]
  },
  {
   "cell_type": "code",
   "execution_count": 14,
   "id": "9434c76e",
   "metadata": {},
   "outputs": [
    {
     "data": {
      "text/plain": [
       "<AxesSubplot:xlabel='Year'>"
      ]
     },
     "execution_count": 14,
     "metadata": {},
     "output_type": "execute_result"
    },
    {
     "data": {
      "image/png": "[encoded data removed]",
      "text/plain": [
       "<Figure size 432x288 with 1 Axes>"
      ]
     },
     "metadata": {
      "needs_background": "light"
     },
     "output_type": "display_data"
    }
   ],
   "source": [
    "Barley_DS2['1difference']=Barley_DS2['BarleyProd']-Barley_DS2['BarleyProd'].shift(1)\n",
    "Barley_DS2['1difference'].plot()"
   ]
  },
  {
   "cell_type": "code",
   "execution_count": 17,
   "id": "6d5e0857",
   "metadata": {},
   "outputs": [
    {
     "data": {
      "text/plain": [
       "(-0.9714583338721993,\n",
       " 0.763531382981293,\n",
       " 8,\n",
       " 14,\n",
       " {'1%': -4.01203360058309,\n",
       "  '5%': -3.1041838775510207,\n",
       "  '10%': -2.6909873469387753},\n",
       " 594.3682191666715)"
      ]
     },
     "execution_count": 17,
     "metadata": {},
     "output_type": "execute_result"
    }
   ],
   "source": [
    "# Barley_DS2.dropna()\n",
    "\n",
    "result = adfuller(Barley_DS2['1difference'].dropna(), autolag = 'AIC')\n",
    "\n",
    "#to help you, we added the names of every value\n",
    "\n",
    "#dict(zip(['adf', 'pvalue', 'usedlag', 'nobs', 'critical' 'values', 'icbest'],result))\n",
    "\n",
    "result"
   ]
  },
  {
   "cell_type": "code",
   "execution_count": 18,
   "id": "92540124",
   "metadata": {},
   "outputs": [
    {
     "data": {
      "text/plain": [
       "<AxesSubplot:xlabel='Year'>"
      ]
     },
     "execution_count": 18,
     "metadata": {},
     "output_type": "execute_result"
    },
    {
     "data": {
      "image/png": "[encoded data removed]",
      "text/plain": [
       "<Figure size 432x288 with 1 Axes>"
      ]
     },
     "metadata": {
      "needs_background": "light"
     },
     "output_type": "display_data"
    }
   ],
   "source": [
    "Barley_DS2['2difference']=Barley_DS2['1difference']-Barley_DS2['1difference'].shift(1)\n",
    "Barley_DS2['2difference'].plot()"
   ]
  },
  {
   "cell_type": "code",
   "execution_count": 20,
   "id": "5aac8344",
   "metadata": {},
   "outputs": [
    {
     "data": {
      "text/plain": [
       "(-1.8892995548622382,\n",
       " 0.3371115603404965,\n",
       " 8,\n",
       " 13,\n",
       " {'1%': -4.068853732362312,\n",
       "  '5%': -3.1271488757396453,\n",
       "  '10%': -2.7017297633136095},\n",
       " 547.0152818883897)"
      ]
     },
     "execution_count": 20,
     "metadata": {},
     "output_type": "execute_result"
    }
   ],
   "source": [
    "result = adfuller(Barley_DS2['2difference'].dropna(), autolag = 'AIC')\n",
    "result\n",
    "\n"
   ]
  },
  {
   "cell_type": "code",
   "execution_count": 21,
   "id": "3ba338a9",
   "metadata": {},
   "outputs": [
    {
     "data": {
      "text/plain": [
       "<AxesSubplot:xlabel='Year'>"
      ]
     },
     "execution_count": 21,
     "metadata": {},
     "output_type": "execute_result"
    },
    {
     "data": {
      "image/png": "[encoded data removed]",
      "text/plain": [
       "<Figure size 432x288 with 1 Axes>"
      ]
     },
     "metadata": {
      "needs_background": "light"
     },
     "output_type": "display_data"
    }
   ],
   "source": [
    "Barley_DS2['3difference']=Barley_DS2['2difference']-Barley_DS2['2difference'].shift(1)\n",
    "Barley_DS2['3difference'].plot()"
   ]
  },
  {
   "cell_type": "code",
   "execution_count": 22,
   "id": "764ef91d",
   "metadata": {},
   "outputs": [
    {
     "data": {
      "text/plain": [
       "(-1.9250639731319283,\n",
       " 0.32036363003439494,\n",
       " 8,\n",
       " 12,\n",
       " {'1%': -4.137829282407408,\n",
       "  '5%': -3.1549724074074077,\n",
       "  '10%': -2.7144769444444443},\n",
       " 551.7131422128583)"
      ]
     },
     "execution_count": 22,
     "metadata": {},
     "output_type": "execute_result"
    }
   ],
   "source": [
    "result = adfuller(Barley_DS2['3difference'].dropna(), autolag = 'AIC')\n",
    "result\n",
    "\n"
   ]
  },
  {
   "cell_type": "code",
   "execution_count": null,
   "id": "55f14375",
   "metadata": {},
   "outputs": [],
   "source": []
  },
  {
   "cell_type": "code",
   "execution_count": 104,
   "id": "4fc8d479",
   "metadata": {},
   "outputs": [
    {
     "name": "stdout",
     "output_type": "stream",
     "text": [
      "                               SARIMAX Results                                \n",
      "==============================================================================\n",
      "Dep. Variable:             BarleyProd   No. Observations:                   24\n",
      "Model:                ARIMA(10, 1, 0)   Log Likelihood                -514.923\n",
      "Date:                Thu, 14 Jul 2022   AIC                           1051.846\n",
      "Time:                        17:39:24   BIC                           1064.336\n",
      "Sample:                             0   HQIC                          1054.987\n",
      "                                 - 24                                         \n",
      "Covariance Type:                  opg                                         \n",
      "==============================================================================\n",
      "                 coef    std err          z      P>|z|      [0.025      0.975]\n",
      "------------------------------------------------------------------------------\n",
      "ar.L1          0.0791      0.343      0.231      0.818      -0.593       0.752\n",
      "ar.L2          0.0482      0.310      0.155      0.876      -0.560       0.656\n",
      "ar.L3         -0.0881      0.273     -0.323      0.746      -0.622       0.446\n",
      "ar.L4         -0.3641      0.113     -3.216      0.001      -0.586      -0.142\n",
      "ar.L5          0.1716      0.124      1.380      0.168      -0.072       0.415\n",
      "ar.L6          0.1043      0.399      0.262      0.794      -0.677       0.886\n",
      "ar.L7          0.0403      0.293      0.138      0.891      -0.533       0.614\n",
      "ar.L8         -0.5526      0.123     -4.500      0.000      -0.793      -0.312\n",
      "ar.L9          0.4949      0.278      1.781      0.075      -0.050       1.039\n",
      "ar.L10         0.1611      0.464      0.347      0.728      -0.748       1.070\n",
      "sigma2      1.006e+18   2.87e-19    3.5e+36      0.000    1.01e+18    1.01e+18\n",
      "===================================================================================\n",
      "Ljung-Box (L1) (Q):                   0.05   Jarque-Bera (JB):                 0.68\n",
      "Prob(Q):                              0.82   Prob(JB):                         0.71\n",
      "Heteroskedasticity (H):               1.24   Skew:                             0.41\n",
      "Prob(H) (two-sided):                  0.77   Kurtosis:                         3.22\n",
      "===================================================================================\n",
      "\n",
      "Warnings:\n",
      "[1] Covariance matrix calculated using the outer product of gradients (complex-step).\n",
      "[2] Covariance matrix is singular or near-singular, with condition number 8.59e+52. Standard errors may be unstable.\n"
     ]
    },
    {
     "name": "stderr",
     "output_type": "stream",
     "text": [
      "/opt/homebrew/lib/python3.9/site-packages/statsmodels/tsa/base/tsa_model.py:471: ValueWarning: An unsupported index was provided and will be ignored when e.g. forecasting.\n",
      "  self._init_dates(dates, freq)\n",
      "/opt/homebrew/lib/python3.9/site-packages/statsmodels/tsa/base/tsa_model.py:471: ValueWarning: An unsupported index was provided and will be ignored when e.g. forecasting.\n",
      "  self._init_dates(dates, freq)\n",
      "/opt/homebrew/lib/python3.9/site-packages/statsmodels/tsa/base/tsa_model.py:471: ValueWarning: An unsupported index was provided and will be ignored when e.g. forecasting.\n",
      "  self._init_dates(dates, freq)\n",
      "/opt/homebrew/lib/python3.9/site-packages/statsmodels/tsa/statespace/sarimax.py:966: UserWarning: Non-stationary starting autoregressive parameters found. Using zeros as starting parameters.\n",
      "  warn('Non-stationary starting autoregressive parameters'\n"
     ]
    },
    {
     "data": {
      "image/png": "[encoded data removed]",
      "text/plain": [
       "<Figure size 432x288 with 1 Axes>"
      ]
     },
     "metadata": {
      "needs_background": "light"
     },
     "output_type": "display_data"
    },
    {
     "data": {
      "image/png": "[encoded data removed]",
      "text/plain": [
       "<Figure size 432x288 with 1 Axes>"
      ]
     },
     "metadata": {
      "needs_background": "light"
     },
     "output_type": "display_data"
    },
    {
     "name": "stdout",
     "output_type": "stream",
     "text": [
      "                  0\n",
      "count  2.400000e+01\n",
      "mean   1.790127e+08\n",
      "std    1.281083e+09\n",
      "min   -2.165564e+09\n",
      "25%   -5.631681e+08\n",
      "50%    4.091046e+07\n",
      "75%    4.225787e+08\n",
      "max    4.258000e+09\n"
     ]
    }
   ],
   "source": [
    "# fit model\n",
    "model = ARIMA(Barley_DS2['BarleyProd'], order=(10,1,0))\n",
    "model_fit = model.fit()\n",
    "# summary of fit model\n",
    "print(model_fit.summary())\n",
    "# line plot of residuals\n",
    "residuals = DataFrame(model_fit.resid)\n",
    "residuals.plot()\n",
    "pyplot.show()\n",
    "# density plot of residuals\n",
    "residuals.plot(kind='kde')\n",
    "pyplot.show()\n",
    "# summary stats of residuals\n",
    "print(residuals.describe())"
   ]
  },
  {
   "cell_type": "code",
   "execution_count": null,
   "id": "80b07b70",
   "metadata": {},
   "outputs": [],
   "source": []
  },
  {
   "cell_type": "code",
   "execution_count": null,
   "id": "863008ce",
   "metadata": {},
   "outputs": [],
   "source": []
  },
  {
   "cell_type": "code",
   "execution_count": null,
   "id": "fc684372",
   "metadata": {},
   "outputs": [],
   "source": []
  },
  {
   "cell_type": "code",
   "execution_count": null,
   "id": "816213be",
   "metadata": {},
   "outputs": [],
   "source": []
  },
  {
   "cell_type": "code",
   "execution_count": null,
   "id": "79bfb823",
   "metadata": {},
   "outputs": [],
   "source": []
  },
  {
   "cell_type": "code",
   "execution_count": null,
   "id": "627df6fa",
   "metadata": {},
   "outputs": [],
   "source": []
  },
  {
   "cell_type": "code",
   "execution_count": null,
   "id": "e567b00c",
   "metadata": {},
   "outputs": [],
   "source": []
  },
  {
   "cell_type": "code",
   "execution_count": null,
   "id": "a9681be4",
   "metadata": {},
   "outputs": [],
   "source": []
  },
  {
   "cell_type": "code",
   "execution_count": null,
   "id": "3b60df95",
   "metadata": {},
   "outputs": [],
   "source": []
  },
  {
   "cell_type": "code",
   "execution_count": 62,
   "id": "2d3a0ed2",
   "metadata": {},
   "outputs": [
    {
     "name": "stdout",
     "output_type": "stream",
     "text": [
      "Year\n",
      "1998-01-01    235884000\n",
      "1999-01-01    361362000\n",
      "2000-01-01    303700000\n",
      "2001-01-01    376488000\n",
      "2002-01-01    494416000\n",
      "Name: BarleyProd, dtype: int64\n"
     ]
    },
    {
     "name": "stderr",
     "output_type": "stream",
     "text": [
      "/var/folders/w0/t7zkm9d12h11l_wy7wwcclsm0000gn/T/ipykernel_5768/2618002294.py:4: FutureWarning: The squeeze argument has been deprecated and will be removed in a future version. Append .squeeze(\"columns\") to the call to squeeze.\n",
      "\n",
      "\n",
      "  series = read_csv('/Users/nehag/Desktop/Final Project/Data/BarleyArima1.csv', header=0, parse_dates=[0], index_col=0, squeeze=True, date_parser=parser)\n"
     ]
    },
    {
     "data": {
      "image/png": "[encoded data removed]",
      "text/plain": [
       "<Figure size 432x288 with 1 Axes>"
      ]
     },
     "metadata": {
      "needs_background": "light"
     },
     "output_type": "display_data"
    }
   ],
   "source": [
    " \n",
    "def parser(x):\n",
    "\treturn datetime.strptime('01-01-'+x, '%d-%m-%Y')\n",
    " \n",
    "series = read_csv('/Users/nehag/Desktop/Final Project/Data/BarleyArima1.csv', header=0, parse_dates=[0], index_col=0, squeeze=True, date_parser=parser)\n",
    "print(series.head())\n",
    "series.plot()\n",
    "pyplot.show()\n",
    "\n"
   ]
  },
  {
   "cell_type": "code",
   "execution_count": 68,
   "id": "ca16a5bc",
   "metadata": {},
   "outputs": [
    {
     "name": "stdout",
     "output_type": "stream",
     "text": [
      "Year\n",
      "1998-01-01    235884000\n",
      "1999-01-01    361362000\n",
      "2000-01-01    303700000\n",
      "2001-01-01    376488000\n",
      "2002-01-01    494416000\n",
      "Name: BarleyProd, dtype: int64\n"
     ]
    }
   ],
   "source": [
    "print(series.head())\n",
    "\n",
    "Barley_DS2 = pd.DataFrame(data=series)\n",
    "\n",
    "\n"
   ]
  },
  {
   "cell_type": "code",
   "execution_count": 66,
   "id": "d3a8a0ea",
   "metadata": {},
   "outputs": [
    {
     "ename": "KeyError",
     "evalue": "'Year'",
     "output_type": "error",
     "traceback": [
      "\u001b[0;31m---------------------------------------------------------------------------\u001b[0m",
      "\u001b[0;31mKeyError\u001b[0m                                  Traceback (most recent call last)",
      "\u001b[0;32m/opt/homebrew/lib/python3.9/site-packages/pandas/core/indexes/base.py\u001b[0m in \u001b[0;36mget_loc\u001b[0;34m(self, key, method, tolerance)\u001b[0m\n\u001b[1;32m   3620\u001b[0m             \u001b[0;32mtry\u001b[0m\u001b[0;34m:\u001b[0m\u001b[0;34m\u001b[0m\u001b[0;34m\u001b[0m\u001b[0m\n\u001b[0;32m-> 3621\u001b[0;31m                 \u001b[0;32mreturn\u001b[0m \u001b[0mself\u001b[0m\u001b[0;34m.\u001b[0m\u001b[0m_engine\u001b[0m\u001b[0;34m.\u001b[0m\u001b[0mget_loc\u001b[0m\u001b[0;34m(\u001b[0m\u001b[0mcasted_key\u001b[0m\u001b[0;34m)\u001b[0m\u001b[0;34m\u001b[0m\u001b[0;34m\u001b[0m\u001b[0m\n\u001b[0m\u001b[1;32m   3622\u001b[0m             \u001b[0;32mexcept\u001b[0m \u001b[0mKeyError\u001b[0m \u001b[0;32mas\u001b[0m \u001b[0merr\u001b[0m\u001b[0;34m:\u001b[0m\u001b[0;34m\u001b[0m\u001b[0;34m\u001b[0m\u001b[0m\n",
      "\u001b[0;32m/opt/homebrew/lib/python3.9/site-packages/pandas/_libs/index.pyx\u001b[0m in \u001b[0;36mpandas._libs.index.IndexEngine.get_loc\u001b[0;34m()\u001b[0m\n",
      "\u001b[0;32m/opt/homebrew/lib/python3.9/site-packages/pandas/_libs/index.pyx\u001b[0m in \u001b[0;36mpandas._libs.index.IndexEngine.get_loc\u001b[0;34m()\u001b[0m\n",
      "\u001b[0;32mpandas/_libs/hashtable_class_helper.pxi\u001b[0m in \u001b[0;36mpandas._libs.hashtable.PyObjectHashTable.get_item\u001b[0;34m()\u001b[0m\n",
      "\u001b[0;32mpandas/_libs/hashtable_class_helper.pxi\u001b[0m in \u001b[0;36mpandas._libs.hashtable.PyObjectHashTable.get_item\u001b[0;34m()\u001b[0m\n",
      "\u001b[0;31mKeyError\u001b[0m: 'Year'",
      "\nThe above exception was the direct cause of the following exception:\n",
      "\u001b[0;31mKeyError\u001b[0m                                  Traceback (most recent call last)",
      "\u001b[0;32m/var/folders/w0/t7zkm9d12h11l_wy7wwcclsm0000gn/T/ipykernel_5768/2927166564.py\u001b[0m in \u001b[0;36m<module>\u001b[0;34m\u001b[0m\n\u001b[1;32m     33\u001b[0m \u001b[0;34m\u001b[0m\u001b[0m\n\u001b[1;32m     34\u001b[0m \u001b[0;34m\u001b[0m\u001b[0m\n\u001b[0;32m---> 35\u001b[0;31m \u001b[0mBarley_DS2\u001b[0m\u001b[0;34m[\u001b[0m\u001b[0;34m'Year'\u001b[0m\u001b[0;34m]\u001b[0m \u001b[0;34m=\u001b[0m \u001b[0mBarley_DS2\u001b[0m\u001b[0;34m[\u001b[0m\u001b[0;34m'Year'\u001b[0m\u001b[0;34m]\u001b[0m\u001b[0;34m.\u001b[0m\u001b[0mdt\u001b[0m\u001b[0;34m.\u001b[0m\u001b[0mYear\u001b[0m\u001b[0;34m\u001b[0m\u001b[0;34m\u001b[0m\u001b[0m\n\u001b[0m\u001b[1;32m     36\u001b[0m \u001b[0mprint\u001b[0m \u001b[0;34m(\u001b[0m\u001b[0mBarley_DS2\u001b[0m\u001b[0;34m)\u001b[0m\u001b[0;34m\u001b[0m\u001b[0;34m\u001b[0m\u001b[0m\n",
      "\u001b[0;32m/opt/homebrew/lib/python3.9/site-packages/pandas/core/frame.py\u001b[0m in \u001b[0;36m__getitem__\u001b[0;34m(self, key)\u001b[0m\n\u001b[1;32m   3503\u001b[0m             \u001b[0;32mif\u001b[0m \u001b[0mself\u001b[0m\u001b[0;34m.\u001b[0m\u001b[0mcolumns\u001b[0m\u001b[0;34m.\u001b[0m\u001b[0mnlevels\u001b[0m \u001b[0;34m>\u001b[0m \u001b[0;36m1\u001b[0m\u001b[0;34m:\u001b[0m\u001b[0;34m\u001b[0m\u001b[0;34m\u001b[0m\u001b[0m\n\u001b[1;32m   3504\u001b[0m                 \u001b[0;32mreturn\u001b[0m \u001b[0mself\u001b[0m\u001b[0;34m.\u001b[0m\u001b[0m_getitem_multilevel\u001b[0m\u001b[0;34m(\u001b[0m\u001b[0mkey\u001b[0m\u001b[0;34m)\u001b[0m\u001b[0;34m\u001b[0m\u001b[0;34m\u001b[0m\u001b[0m\n\u001b[0;32m-> 3505\u001b[0;31m             \u001b[0mindexer\u001b[0m \u001b[0;34m=\u001b[0m \u001b[0mself\u001b[0m\u001b[0;34m.\u001b[0m\u001b[0mcolumns\u001b[0m\u001b[0;34m.\u001b[0m\u001b[0mget_loc\u001b[0m\u001b[0;34m(\u001b[0m\u001b[0mkey\u001b[0m\u001b[0;34m)\u001b[0m\u001b[0;34m\u001b[0m\u001b[0;34m\u001b[0m\u001b[0m\n\u001b[0m\u001b[1;32m   3506\u001b[0m             \u001b[0;32mif\u001b[0m \u001b[0mis_integer\u001b[0m\u001b[0;34m(\u001b[0m\u001b[0mindexer\u001b[0m\u001b[0;34m)\u001b[0m\u001b[0;34m:\u001b[0m\u001b[0;34m\u001b[0m\u001b[0;34m\u001b[0m\u001b[0m\n\u001b[1;32m   3507\u001b[0m                 \u001b[0mindexer\u001b[0m \u001b[0;34m=\u001b[0m \u001b[0;34m[\u001b[0m\u001b[0mindexer\u001b[0m\u001b[0;34m]\u001b[0m\u001b[0;34m\u001b[0m\u001b[0;34m\u001b[0m\u001b[0m\n",
      "\u001b[0;32m/opt/homebrew/lib/python3.9/site-packages/pandas/core/indexes/base.py\u001b[0m in \u001b[0;36mget_loc\u001b[0;34m(self, key, method, tolerance)\u001b[0m\n\u001b[1;32m   3621\u001b[0m                 \u001b[0;32mreturn\u001b[0m \u001b[0mself\u001b[0m\u001b[0;34m.\u001b[0m\u001b[0m_engine\u001b[0m\u001b[0;34m.\u001b[0m\u001b[0mget_loc\u001b[0m\u001b[0;34m(\u001b[0m\u001b[0mcasted_key\u001b[0m\u001b[0;34m)\u001b[0m\u001b[0;34m\u001b[0m\u001b[0;34m\u001b[0m\u001b[0m\n\u001b[1;32m   3622\u001b[0m             \u001b[0;32mexcept\u001b[0m \u001b[0mKeyError\u001b[0m \u001b[0;32mas\u001b[0m \u001b[0merr\u001b[0m\u001b[0;34m:\u001b[0m\u001b[0;34m\u001b[0m\u001b[0;34m\u001b[0m\u001b[0m\n\u001b[0;32m-> 3623\u001b[0;31m                 \u001b[0;32mraise\u001b[0m \u001b[0mKeyError\u001b[0m\u001b[0;34m(\u001b[0m\u001b[0mkey\u001b[0m\u001b[0;34m)\u001b[0m \u001b[0;32mfrom\u001b[0m \u001b[0merr\u001b[0m\u001b[0;34m\u001b[0m\u001b[0;34m\u001b[0m\u001b[0m\n\u001b[0m\u001b[1;32m   3624\u001b[0m             \u001b[0;32mexcept\u001b[0m \u001b[0mTypeError\u001b[0m\u001b[0;34m:\u001b[0m\u001b[0;34m\u001b[0m\u001b[0;34m\u001b[0m\u001b[0m\n\u001b[1;32m   3625\u001b[0m                 \u001b[0;31m# If we have a listlike key, _check_indexing_error will raise\u001b[0m\u001b[0;34m\u001b[0m\u001b[0;34m\u001b[0m\u001b[0m\n",
      "\u001b[0;31mKeyError\u001b[0m: 'Year'"
     ]
    }
   ],
   "source": [
    "\n",
    "#Barley_DS2['Year'] = pd.to_datetime(Barley_DS2.Year)\n",
    "\n",
    "\n",
    "Barley_DS2['Year'] = Barley_DS2['Year'].dt.Year\n",
    "print (Barley_DS2)"
   ]
  },
  {
   "cell_type": "code",
   "execution_count": null,
   "id": "9b94fbd9",
   "metadata": {},
   "outputs": [],
   "source": [
    "\n",
    "Barley_DS1['Year'] = pd.to_datetime(Barley_DS1['Year'], format = '%Y')\n",
    "Barley_DS1['Year'] = (Barley_DS1['Year']).year\n",
    "Barley_DS1.info()\n",
    "\n",
    "\n",
    "\n",
    "\n",
    "date_string = \"201512\"\n",
    "date_object = datetime.datetime.strptime(date_string, \"%Y%m\")\n",
    "print(date_object)\n",
    "print(date_object.year)"
   ]
  },
  {
   "cell_type": "code",
   "execution_count": null,
   "id": "32b1909d",
   "metadata": {},
   "outputs": [],
   "source": []
  },
  {
   "cell_type": "code",
   "execution_count": 22,
   "id": "37e345eb",
   "metadata": {},
   "outputs": [
    {
     "name": "stdout",
     "output_type": "stream",
     "text": [
      "                             Year   Value Country_Code   Country_Name  \\\n",
      "Commodity_Description                                                   \n",
      "Almonds, Shelled Basis 1998-01-01  235884           US  United States   \n",
      "Almonds, Shelled Basis 1999-01-01  377800           US  United States   \n",
      "Almonds, Shelled Basis 2000-01-01  318900           US  United States   \n",
      "Almonds, Shelled Basis 2001-01-01  376500           US  United States   \n",
      "Almonds, Shelled Basis 2002-01-01  494416           US  United States   \n",
      "\n",
      "                       Attribute_Description Unit_Description  \n",
      "Commodity_Description                                          \n",
      "Almonds, Shelled Basis            Production             (MT)  \n",
      "Almonds, Shelled Basis            Production             (MT)  \n",
      "Almonds, Shelled Basis            Production             (MT)  \n",
      "Almonds, Shelled Basis            Production             (MT)  \n",
      "Almonds, Shelled Basis            Production             (MT)  \n"
     ]
    },
    {
     "ename": "OverflowError",
     "evalue": "int too big to convert",
     "output_type": "error",
     "traceback": [
      "\u001b[0;31m---------------------------------------------------------------------------\u001b[0m",
      "\u001b[0;31mOverflowError\u001b[0m                             Traceback (most recent call last)",
      "\u001b[0;32m/var/folders/w0/t7zkm9d12h11l_wy7wwcclsm0000gn/T/ipykernel_5768/3196056768.py\u001b[0m in \u001b[0;36m<module>\u001b[0;34m\u001b[0m\n\u001b[1;32m      8\u001b[0m \u001b[0mprint\u001b[0m\u001b[0;34m(\u001b[0m\u001b[0mseries\u001b[0m\u001b[0;34m.\u001b[0m\u001b[0mhead\u001b[0m\u001b[0;34m(\u001b[0m\u001b[0;34m)\u001b[0m\u001b[0;34m)\u001b[0m\u001b[0;34m\u001b[0m\u001b[0;34m\u001b[0m\u001b[0m\n\u001b[1;32m      9\u001b[0m \u001b[0mseries\u001b[0m\u001b[0;34m.\u001b[0m\u001b[0mplot\u001b[0m\u001b[0;34m(\u001b[0m\u001b[0;34m)\u001b[0m\u001b[0;34m\u001b[0m\u001b[0;34m\u001b[0m\u001b[0m\n\u001b[0;32m---> 10\u001b[0;31m \u001b[0mpyplot\u001b[0m\u001b[0;34m.\u001b[0m\u001b[0mshow\u001b[0m\u001b[0;34m(\u001b[0m\u001b[0;34m)\u001b[0m\u001b[0;34m\u001b[0m\u001b[0;34m\u001b[0m\u001b[0m\n\u001b[0m",
      "\u001b[0;32m/opt/homebrew/lib/python3.9/site-packages/matplotlib/pyplot.py\u001b[0m in \u001b[0;36mshow\u001b[0;34m(*args, **kwargs)\u001b[0m\n\u001b[1;32m    366\u001b[0m     \"\"\"\n\u001b[1;32m    367\u001b[0m     \u001b[0m_warn_if_gui_out_of_main_thread\u001b[0m\u001b[0;34m(\u001b[0m\u001b[0;34m)\u001b[0m\u001b[0;34m\u001b[0m\u001b[0;34m\u001b[0m\u001b[0m\n\u001b[0;32m--> 368\u001b[0;31m     \u001b[0;32mreturn\u001b[0m \u001b[0m_backend_mod\u001b[0m\u001b[0;34m.\u001b[0m\u001b[0mshow\u001b[0m\u001b[0;34m(\u001b[0m\u001b[0;34m*\u001b[0m\u001b[0margs\u001b[0m\u001b[0;34m,\u001b[0m \u001b[0;34m**\u001b[0m\u001b[0mkwargs\u001b[0m\u001b[0;34m)\u001b[0m\u001b[0;34m\u001b[0m\u001b[0;34m\u001b[0m\u001b[0m\n\u001b[0m\u001b[1;32m    369\u001b[0m \u001b[0;34m\u001b[0m\u001b[0m\n\u001b[1;32m    370\u001b[0m \u001b[0;34m\u001b[0m\u001b[0m\n",
      "\u001b[0;32m/opt/homebrew/Cellar/jupyterlab/3.2.5/libexec/lib/python3.9/site-packages/matplotlib_inline/backend_inline.py\u001b[0m in \u001b[0;36mshow\u001b[0;34m(close, block)\u001b[0m\n\u001b[1;32m     41\u001b[0m             display(\n\u001b[1;32m     42\u001b[0m                 \u001b[0mfigure_manager\u001b[0m\u001b[0;34m.\u001b[0m\u001b[0mcanvas\u001b[0m\u001b[0;34m.\u001b[0m\u001b[0mfigure\u001b[0m\u001b[0;34m,\u001b[0m\u001b[0;34m\u001b[0m\u001b[0;34m\u001b[0m\u001b[0m\n\u001b[0;32m---> 43\u001b[0;31m                 \u001b[0mmetadata\u001b[0m\u001b[0;34m=\u001b[0m\u001b[0m_fetch_figure_metadata\u001b[0m\u001b[0;34m(\u001b[0m\u001b[0mfigure_manager\u001b[0m\u001b[0;34m.\u001b[0m\u001b[0mcanvas\u001b[0m\u001b[0;34m.\u001b[0m\u001b[0mfigure\u001b[0m\u001b[0;34m)\u001b[0m\u001b[0;34m\u001b[0m\u001b[0;34m\u001b[0m\u001b[0m\n\u001b[0m\u001b[1;32m     44\u001b[0m             )\n\u001b[1;32m     45\u001b[0m     \u001b[0;32mfinally\u001b[0m\u001b[0;34m:\u001b[0m\u001b[0;34m\u001b[0m\u001b[0;34m\u001b[0m\u001b[0m\n",
      "\u001b[0;32m/opt/homebrew/Cellar/jupyterlab/3.2.5/libexec/lib/python3.9/site-packages/matplotlib_inline/backend_inline.py\u001b[0m in \u001b[0;36m_fetch_figure_metadata\u001b[0;34m(fig)\u001b[0m\n\u001b[1;32m    229\u001b[0m     \u001b[0;32mif\u001b[0m \u001b[0m_is_transparent\u001b[0m\u001b[0;34m(\u001b[0m\u001b[0mfig\u001b[0m\u001b[0;34m.\u001b[0m\u001b[0mget_facecolor\u001b[0m\u001b[0;34m(\u001b[0m\u001b[0;34m)\u001b[0m\u001b[0;34m)\u001b[0m\u001b[0;34m:\u001b[0m\u001b[0;34m\u001b[0m\u001b[0;34m\u001b[0m\u001b[0m\n\u001b[1;32m    230\u001b[0m         \u001b[0;31m# the background is transparent\u001b[0m\u001b[0;34m\u001b[0m\u001b[0;34m\u001b[0m\u001b[0m\n\u001b[0;32m--> 231\u001b[0;31m         ticksLight = _is_light([label.get_color()\n\u001b[0m\u001b[1;32m    232\u001b[0m                                 \u001b[0;32mfor\u001b[0m \u001b[0maxes\u001b[0m \u001b[0;32min\u001b[0m \u001b[0mfig\u001b[0m\u001b[0;34m.\u001b[0m\u001b[0maxes\u001b[0m\u001b[0;34m\u001b[0m\u001b[0;34m\u001b[0m\u001b[0m\n\u001b[1;32m    233\u001b[0m                                 \u001b[0;32mfor\u001b[0m \u001b[0maxis\u001b[0m \u001b[0;32min\u001b[0m \u001b[0;34m(\u001b[0m\u001b[0maxes\u001b[0m\u001b[0;34m.\u001b[0m\u001b[0mxaxis\u001b[0m\u001b[0;34m,\u001b[0m \u001b[0maxes\u001b[0m\u001b[0;34m.\u001b[0m\u001b[0myaxis\u001b[0m\u001b[0;34m)\u001b[0m\u001b[0;34m\u001b[0m\u001b[0;34m\u001b[0m\u001b[0m\n",
      "\u001b[0;32m/opt/homebrew/Cellar/jupyterlab/3.2.5/libexec/lib/python3.9/site-packages/matplotlib_inline/backend_inline.py\u001b[0m in \u001b[0;36m<listcomp>\u001b[0;34m(.0)\u001b[0m\n\u001b[1;32m    232\u001b[0m                                 \u001b[0;32mfor\u001b[0m \u001b[0maxes\u001b[0m \u001b[0;32min\u001b[0m \u001b[0mfig\u001b[0m\u001b[0;34m.\u001b[0m\u001b[0maxes\u001b[0m\u001b[0;34m\u001b[0m\u001b[0;34m\u001b[0m\u001b[0m\n\u001b[1;32m    233\u001b[0m                                 \u001b[0;32mfor\u001b[0m \u001b[0maxis\u001b[0m \u001b[0;32min\u001b[0m \u001b[0;34m(\u001b[0m\u001b[0maxes\u001b[0m\u001b[0;34m.\u001b[0m\u001b[0mxaxis\u001b[0m\u001b[0;34m,\u001b[0m \u001b[0maxes\u001b[0m\u001b[0;34m.\u001b[0m\u001b[0myaxis\u001b[0m\u001b[0;34m)\u001b[0m\u001b[0;34m\u001b[0m\u001b[0;34m\u001b[0m\u001b[0m\n\u001b[0;32m--> 234\u001b[0;31m                                 for label in axis.get_ticklabels()])\n\u001b[0m\u001b[1;32m    235\u001b[0m         \u001b[0;32mif\u001b[0m \u001b[0mticksLight\u001b[0m\u001b[0;34m.\u001b[0m\u001b[0msize\u001b[0m \u001b[0;32mand\u001b[0m \u001b[0;34m(\u001b[0m\u001b[0mticksLight\u001b[0m \u001b[0;34m==\u001b[0m \u001b[0mticksLight\u001b[0m\u001b[0;34m[\u001b[0m\u001b[0;36m0\u001b[0m\u001b[0;34m]\u001b[0m\u001b[0;34m)\u001b[0m\u001b[0;34m.\u001b[0m\u001b[0mall\u001b[0m\u001b[0;34m(\u001b[0m\u001b[0;34m)\u001b[0m\u001b[0;34m:\u001b[0m\u001b[0;34m\u001b[0m\u001b[0;34m\u001b[0m\u001b[0m\n\u001b[1;32m    236\u001b[0m             \u001b[0;31m# there are one or more tick labels, all with the same lightness\u001b[0m\u001b[0;34m\u001b[0m\u001b[0;34m\u001b[0m\u001b[0m\n",
      "\u001b[0;32m/opt/homebrew/lib/python3.9/site-packages/matplotlib/axis.py\u001b[0m in \u001b[0;36mget_ticklabels\u001b[0;34m(self, minor, which)\u001b[0m\n\u001b[1;32m   1247\u001b[0m         \u001b[0;32mif\u001b[0m \u001b[0mminor\u001b[0m\u001b[0;34m:\u001b[0m\u001b[0;34m\u001b[0m\u001b[0;34m\u001b[0m\u001b[0m\n\u001b[1;32m   1248\u001b[0m             \u001b[0;32mreturn\u001b[0m \u001b[0mself\u001b[0m\u001b[0;34m.\u001b[0m\u001b[0mget_minorticklabels\u001b[0m\u001b[0;34m(\u001b[0m\u001b[0;34m)\u001b[0m\u001b[0;34m\u001b[0m\u001b[0;34m\u001b[0m\u001b[0m\n\u001b[0;32m-> 1249\u001b[0;31m         \u001b[0;32mreturn\u001b[0m \u001b[0mself\u001b[0m\u001b[0;34m.\u001b[0m\u001b[0mget_majorticklabels\u001b[0m\u001b[0;34m(\u001b[0m\u001b[0;34m)\u001b[0m\u001b[0;34m\u001b[0m\u001b[0;34m\u001b[0m\u001b[0m\n\u001b[0m\u001b[1;32m   1250\u001b[0m \u001b[0;34m\u001b[0m\u001b[0m\n\u001b[1;32m   1251\u001b[0m     \u001b[0;32mdef\u001b[0m \u001b[0mget_majorticklines\u001b[0m\u001b[0;34m(\u001b[0m\u001b[0mself\u001b[0m\u001b[0;34m)\u001b[0m\u001b[0;34m:\u001b[0m\u001b[0;34m\u001b[0m\u001b[0;34m\u001b[0m\u001b[0m\n",
      "\u001b[0;32m/opt/homebrew/lib/python3.9/site-packages/matplotlib/axis.py\u001b[0m in \u001b[0;36mget_majorticklabels\u001b[0;34m(self)\u001b[0m\n\u001b[1;32m   1199\u001b[0m     \u001b[0;32mdef\u001b[0m \u001b[0mget_majorticklabels\u001b[0m\u001b[0;34m(\u001b[0m\u001b[0mself\u001b[0m\u001b[0;34m)\u001b[0m\u001b[0;34m:\u001b[0m\u001b[0;34m\u001b[0m\u001b[0;34m\u001b[0m\u001b[0m\n\u001b[1;32m   1200\u001b[0m         \u001b[0;34m\"\"\"Return this Axis' major tick labels, as a list of `~.text.Text`.\"\"\"\u001b[0m\u001b[0;34m\u001b[0m\u001b[0;34m\u001b[0m\u001b[0m\n\u001b[0;32m-> 1201\u001b[0;31m         \u001b[0mticks\u001b[0m \u001b[0;34m=\u001b[0m \u001b[0mself\u001b[0m\u001b[0;34m.\u001b[0m\u001b[0mget_major_ticks\u001b[0m\u001b[0;34m(\u001b[0m\u001b[0;34m)\u001b[0m\u001b[0;34m\u001b[0m\u001b[0;34m\u001b[0m\u001b[0m\n\u001b[0m\u001b[1;32m   1202\u001b[0m         \u001b[0mlabels1\u001b[0m \u001b[0;34m=\u001b[0m \u001b[0;34m[\u001b[0m\u001b[0mtick\u001b[0m\u001b[0;34m.\u001b[0m\u001b[0mlabel1\u001b[0m \u001b[0;32mfor\u001b[0m \u001b[0mtick\u001b[0m \u001b[0;32min\u001b[0m \u001b[0mticks\u001b[0m \u001b[0;32mif\u001b[0m \u001b[0mtick\u001b[0m\u001b[0;34m.\u001b[0m\u001b[0mlabel1\u001b[0m\u001b[0;34m.\u001b[0m\u001b[0mget_visible\u001b[0m\u001b[0;34m(\u001b[0m\u001b[0;34m)\u001b[0m\u001b[0;34m]\u001b[0m\u001b[0;34m\u001b[0m\u001b[0;34m\u001b[0m\u001b[0m\n\u001b[1;32m   1203\u001b[0m         \u001b[0mlabels2\u001b[0m \u001b[0;34m=\u001b[0m \u001b[0;34m[\u001b[0m\u001b[0mtick\u001b[0m\u001b[0;34m.\u001b[0m\u001b[0mlabel2\u001b[0m \u001b[0;32mfor\u001b[0m \u001b[0mtick\u001b[0m \u001b[0;32min\u001b[0m \u001b[0mticks\u001b[0m \u001b[0;32mif\u001b[0m \u001b[0mtick\u001b[0m\u001b[0;34m.\u001b[0m\u001b[0mlabel2\u001b[0m\u001b[0;34m.\u001b[0m\u001b[0mget_visible\u001b[0m\u001b[0;34m(\u001b[0m\u001b[0;34m)\u001b[0m\u001b[0;34m]\u001b[0m\u001b[0;34m\u001b[0m\u001b[0;34m\u001b[0m\u001b[0m\n",
      "\u001b[0;32m/opt/homebrew/lib/python3.9/site-packages/matplotlib/axis.py\u001b[0m in \u001b[0;36mget_major_ticks\u001b[0;34m(self, numticks)\u001b[0m\n\u001b[1;32m   1369\u001b[0m         \u001b[0;34mr\"\"\"Return the list of major `.Tick`\\s.\"\"\"\u001b[0m\u001b[0;34m\u001b[0m\u001b[0;34m\u001b[0m\u001b[0m\n\u001b[1;32m   1370\u001b[0m         \u001b[0;32mif\u001b[0m \u001b[0mnumticks\u001b[0m \u001b[0;32mis\u001b[0m \u001b[0;32mNone\u001b[0m\u001b[0;34m:\u001b[0m\u001b[0;34m\u001b[0m\u001b[0;34m\u001b[0m\u001b[0m\n\u001b[0;32m-> 1371\u001b[0;31m             \u001b[0mnumticks\u001b[0m \u001b[0;34m=\u001b[0m \u001b[0mlen\u001b[0m\u001b[0;34m(\u001b[0m\u001b[0mself\u001b[0m\u001b[0;34m.\u001b[0m\u001b[0mget_majorticklocs\u001b[0m\u001b[0;34m(\u001b[0m\u001b[0;34m)\u001b[0m\u001b[0;34m)\u001b[0m\u001b[0;34m\u001b[0m\u001b[0;34m\u001b[0m\u001b[0m\n\u001b[0m\u001b[1;32m   1372\u001b[0m \u001b[0;34m\u001b[0m\u001b[0m\n\u001b[1;32m   1373\u001b[0m         \u001b[0;32mwhile\u001b[0m \u001b[0mlen\u001b[0m\u001b[0;34m(\u001b[0m\u001b[0mself\u001b[0m\u001b[0;34m.\u001b[0m\u001b[0mmajorTicks\u001b[0m\u001b[0;34m)\u001b[0m \u001b[0;34m<\u001b[0m \u001b[0mnumticks\u001b[0m\u001b[0;34m:\u001b[0m\u001b[0;34m\u001b[0m\u001b[0;34m\u001b[0m\u001b[0m\n",
      "\u001b[0;32m/opt/homebrew/lib/python3.9/site-packages/matplotlib/axis.py\u001b[0m in \u001b[0;36mget_majorticklocs\u001b[0;34m(self)\u001b[0m\n\u001b[1;32m   1275\u001b[0m     \u001b[0;32mdef\u001b[0m \u001b[0mget_majorticklocs\u001b[0m\u001b[0;34m(\u001b[0m\u001b[0mself\u001b[0m\u001b[0;34m)\u001b[0m\u001b[0;34m:\u001b[0m\u001b[0;34m\u001b[0m\u001b[0;34m\u001b[0m\u001b[0m\n\u001b[1;32m   1276\u001b[0m         \u001b[0;34m\"\"\"Return this Axis' major tick locations in data coordinates.\"\"\"\u001b[0m\u001b[0;34m\u001b[0m\u001b[0;34m\u001b[0m\u001b[0m\n\u001b[0;32m-> 1277\u001b[0;31m         \u001b[0;32mreturn\u001b[0m \u001b[0mself\u001b[0m\u001b[0;34m.\u001b[0m\u001b[0mmajor\u001b[0m\u001b[0;34m.\u001b[0m\u001b[0mlocator\u001b[0m\u001b[0;34m(\u001b[0m\u001b[0;34m)\u001b[0m\u001b[0;34m\u001b[0m\u001b[0;34m\u001b[0m\u001b[0m\n\u001b[0m\u001b[1;32m   1278\u001b[0m \u001b[0;34m\u001b[0m\u001b[0m\n\u001b[1;32m   1279\u001b[0m     \u001b[0;32mdef\u001b[0m \u001b[0mget_minorticklocs\u001b[0m\u001b[0;34m(\u001b[0m\u001b[0mself\u001b[0m\u001b[0;34m)\u001b[0m\u001b[0;34m:\u001b[0m\u001b[0;34m\u001b[0m\u001b[0;34m\u001b[0m\u001b[0m\n",
      "\u001b[0;32m/opt/homebrew/lib/python3.9/site-packages/matplotlib/dates.py\u001b[0m in \u001b[0;36m__call__\u001b[0;34m(self)\u001b[0m\n\u001b[1;32m   1338\u001b[0m     \u001b[0;32mdef\u001b[0m \u001b[0m__call__\u001b[0m\u001b[0;34m(\u001b[0m\u001b[0mself\u001b[0m\u001b[0;34m)\u001b[0m\u001b[0;34m:\u001b[0m\u001b[0;34m\u001b[0m\u001b[0;34m\u001b[0m\u001b[0m\n\u001b[1;32m   1339\u001b[0m         \u001b[0;31m# docstring inherited\u001b[0m\u001b[0;34m\u001b[0m\u001b[0;34m\u001b[0m\u001b[0m\n\u001b[0;32m-> 1340\u001b[0;31m         \u001b[0mdmin\u001b[0m\u001b[0;34m,\u001b[0m \u001b[0mdmax\u001b[0m \u001b[0;34m=\u001b[0m \u001b[0mself\u001b[0m\u001b[0;34m.\u001b[0m\u001b[0mviewlim_to_dt\u001b[0m\u001b[0;34m(\u001b[0m\u001b[0;34m)\u001b[0m\u001b[0;34m\u001b[0m\u001b[0;34m\u001b[0m\u001b[0m\n\u001b[0m\u001b[1;32m   1341\u001b[0m         \u001b[0mlocator\u001b[0m \u001b[0;34m=\u001b[0m \u001b[0mself\u001b[0m\u001b[0;34m.\u001b[0m\u001b[0mget_locator\u001b[0m\u001b[0;34m(\u001b[0m\u001b[0mdmin\u001b[0m\u001b[0;34m,\u001b[0m \u001b[0mdmax\u001b[0m\u001b[0;34m)\u001b[0m\u001b[0;34m\u001b[0m\u001b[0;34m\u001b[0m\u001b[0m\n\u001b[1;32m   1342\u001b[0m         \u001b[0;32mreturn\u001b[0m \u001b[0mlocator\u001b[0m\u001b[0;34m(\u001b[0m\u001b[0;34m)\u001b[0m\u001b[0;34m\u001b[0m\u001b[0;34m\u001b[0m\u001b[0m\n",
      "\u001b[0;32m/opt/homebrew/lib/python3.9/site-packages/matplotlib/dates.py\u001b[0m in \u001b[0;36mviewlim_to_dt\u001b[0;34m(self)\u001b[0m\n\u001b[1;32m   1123\u001b[0m         \u001b[0;32mif\u001b[0m \u001b[0mvmin\u001b[0m \u001b[0;34m>\u001b[0m \u001b[0mvmax\u001b[0m\u001b[0;34m:\u001b[0m\u001b[0;34m\u001b[0m\u001b[0;34m\u001b[0m\u001b[0m\n\u001b[1;32m   1124\u001b[0m             \u001b[0mvmin\u001b[0m\u001b[0;34m,\u001b[0m \u001b[0mvmax\u001b[0m \u001b[0;34m=\u001b[0m \u001b[0mvmax\u001b[0m\u001b[0;34m,\u001b[0m \u001b[0mvmin\u001b[0m\u001b[0;34m\u001b[0m\u001b[0;34m\u001b[0m\u001b[0m\n\u001b[0;32m-> 1125\u001b[0;31m         \u001b[0;32mreturn\u001b[0m \u001b[0mnum2date\u001b[0m\u001b[0;34m(\u001b[0m\u001b[0mvmin\u001b[0m\u001b[0;34m,\u001b[0m \u001b[0mself\u001b[0m\u001b[0;34m.\u001b[0m\u001b[0mtz\u001b[0m\u001b[0;34m)\u001b[0m\u001b[0;34m,\u001b[0m \u001b[0mnum2date\u001b[0m\u001b[0;34m(\u001b[0m\u001b[0mvmax\u001b[0m\u001b[0;34m,\u001b[0m \u001b[0mself\u001b[0m\u001b[0;34m.\u001b[0m\u001b[0mtz\u001b[0m\u001b[0;34m)\u001b[0m\u001b[0;34m\u001b[0m\u001b[0;34m\u001b[0m\u001b[0m\n\u001b[0m\u001b[1;32m   1126\u001b[0m \u001b[0;34m\u001b[0m\u001b[0m\n\u001b[1;32m   1127\u001b[0m     \u001b[0;32mdef\u001b[0m \u001b[0m_get_unit\u001b[0m\u001b[0;34m(\u001b[0m\u001b[0mself\u001b[0m\u001b[0;34m)\u001b[0m\u001b[0;34m:\u001b[0m\u001b[0;34m\u001b[0m\u001b[0;34m\u001b[0m\u001b[0m\n",
      "\u001b[0;32m/opt/homebrew/lib/python3.9/site-packages/matplotlib/dates.py\u001b[0m in \u001b[0;36mnum2date\u001b[0;34m(x, tz)\u001b[0m\n\u001b[1;32m    526\u001b[0m     \u001b[0;32mif\u001b[0m \u001b[0mtz\u001b[0m \u001b[0;32mis\u001b[0m \u001b[0;32mNone\u001b[0m\u001b[0;34m:\u001b[0m\u001b[0;34m\u001b[0m\u001b[0;34m\u001b[0m\u001b[0m\n\u001b[1;32m    527\u001b[0m         \u001b[0mtz\u001b[0m \u001b[0;34m=\u001b[0m \u001b[0m_get_rc_timezone\u001b[0m\u001b[0;34m(\u001b[0m\u001b[0;34m)\u001b[0m\u001b[0;34m\u001b[0m\u001b[0;34m\u001b[0m\u001b[0m\n\u001b[0;32m--> 528\u001b[0;31m     \u001b[0;32mreturn\u001b[0m \u001b[0m_from_ordinalf_np_vectorized\u001b[0m\u001b[0;34m(\u001b[0m\u001b[0mx\u001b[0m\u001b[0;34m,\u001b[0m \u001b[0mtz\u001b[0m\u001b[0;34m)\u001b[0m\u001b[0;34m.\u001b[0m\u001b[0mtolist\u001b[0m\u001b[0;34m(\u001b[0m\u001b[0;34m)\u001b[0m\u001b[0;34m\u001b[0m\u001b[0;34m\u001b[0m\u001b[0m\n\u001b[0m\u001b[1;32m    529\u001b[0m \u001b[0;34m\u001b[0m\u001b[0m\n\u001b[1;32m    530\u001b[0m \u001b[0;34m\u001b[0m\u001b[0m\n",
      "\u001b[0;32m/opt/homebrew/lib/python3.9/site-packages/numpy/lib/function_base.py\u001b[0m in \u001b[0;36m__call__\u001b[0;34m(self, *args, **kwargs)\u001b[0m\n\u001b[1;32m   2302\u001b[0m             \u001b[0mvargs\u001b[0m\u001b[0;34m.\u001b[0m\u001b[0mextend\u001b[0m\u001b[0;34m(\u001b[0m\u001b[0;34m[\u001b[0m\u001b[0mkwargs\u001b[0m\u001b[0;34m[\u001b[0m\u001b[0m_n\u001b[0m\u001b[0;34m]\u001b[0m \u001b[0;32mfor\u001b[0m \u001b[0m_n\u001b[0m \u001b[0;32min\u001b[0m \u001b[0mnames\u001b[0m\u001b[0;34m]\u001b[0m\u001b[0;34m)\u001b[0m\u001b[0;34m\u001b[0m\u001b[0;34m\u001b[0m\u001b[0m\n\u001b[1;32m   2303\u001b[0m \u001b[0;34m\u001b[0m\u001b[0m\n\u001b[0;32m-> 2304\u001b[0;31m         \u001b[0;32mreturn\u001b[0m \u001b[0mself\u001b[0m\u001b[0;34m.\u001b[0m\u001b[0m_vectorize_call\u001b[0m\u001b[0;34m(\u001b[0m\u001b[0mfunc\u001b[0m\u001b[0;34m=\u001b[0m\u001b[0mfunc\u001b[0m\u001b[0;34m,\u001b[0m \u001b[0margs\u001b[0m\u001b[0;34m=\u001b[0m\u001b[0mvargs\u001b[0m\u001b[0;34m)\u001b[0m\u001b[0;34m\u001b[0m\u001b[0;34m\u001b[0m\u001b[0m\n\u001b[0m\u001b[1;32m   2305\u001b[0m \u001b[0;34m\u001b[0m\u001b[0m\n\u001b[1;32m   2306\u001b[0m     \u001b[0;32mdef\u001b[0m \u001b[0m_get_ufunc_and_otypes\u001b[0m\u001b[0;34m(\u001b[0m\u001b[0mself\u001b[0m\u001b[0;34m,\u001b[0m \u001b[0mfunc\u001b[0m\u001b[0;34m,\u001b[0m \u001b[0margs\u001b[0m\u001b[0;34m)\u001b[0m\u001b[0;34m:\u001b[0m\u001b[0;34m\u001b[0m\u001b[0;34m\u001b[0m\u001b[0m\n",
      "\u001b[0;32m/opt/homebrew/lib/python3.9/site-packages/numpy/lib/function_base.py\u001b[0m in \u001b[0;36m_vectorize_call\u001b[0;34m(self, func, args)\u001b[0m\n\u001b[1;32m   2385\u001b[0m             \u001b[0minputs\u001b[0m \u001b[0;34m=\u001b[0m \u001b[0;34m[\u001b[0m\u001b[0masanyarray\u001b[0m\u001b[0;34m(\u001b[0m\u001b[0ma\u001b[0m\u001b[0;34m,\u001b[0m \u001b[0mdtype\u001b[0m\u001b[0;34m=\u001b[0m\u001b[0mobject\u001b[0m\u001b[0;34m)\u001b[0m \u001b[0;32mfor\u001b[0m \u001b[0ma\u001b[0m \u001b[0;32min\u001b[0m \u001b[0margs\u001b[0m\u001b[0;34m]\u001b[0m\u001b[0;34m\u001b[0m\u001b[0;34m\u001b[0m\u001b[0m\n\u001b[1;32m   2386\u001b[0m \u001b[0;34m\u001b[0m\u001b[0m\n\u001b[0;32m-> 2387\u001b[0;31m             \u001b[0moutputs\u001b[0m \u001b[0;34m=\u001b[0m \u001b[0mufunc\u001b[0m\u001b[0;34m(\u001b[0m\u001b[0;34m*\u001b[0m\u001b[0minputs\u001b[0m\u001b[0;34m)\u001b[0m\u001b[0;34m\u001b[0m\u001b[0;34m\u001b[0m\u001b[0m\n\u001b[0m\u001b[1;32m   2388\u001b[0m \u001b[0;34m\u001b[0m\u001b[0m\n\u001b[1;32m   2389\u001b[0m             \u001b[0;32mif\u001b[0m \u001b[0mufunc\u001b[0m\u001b[0;34m.\u001b[0m\u001b[0mnout\u001b[0m \u001b[0;34m==\u001b[0m \u001b[0;36m1\u001b[0m\u001b[0;34m:\u001b[0m\u001b[0;34m\u001b[0m\u001b[0;34m\u001b[0m\u001b[0m\n",
      "\u001b[0;32m/opt/homebrew/lib/python3.9/site-packages/matplotlib/dates.py\u001b[0m in \u001b[0;36m_from_ordinalf\u001b[0;34m(x, tz)\u001b[0m\n\u001b[1;32m    346\u001b[0m \u001b[0;34m\u001b[0m\u001b[0m\n\u001b[1;32m    347\u001b[0m     dt = (np.datetime64(get_epoch()) +\n\u001b[0;32m--> 348\u001b[0;31m           np.timedelta64(int(np.round(x * MUSECONDS_PER_DAY)), 'us'))\n\u001b[0m\u001b[1;32m    349\u001b[0m     \u001b[0;32mif\u001b[0m \u001b[0mdt\u001b[0m \u001b[0;34m<\u001b[0m \u001b[0mnp\u001b[0m\u001b[0;34m.\u001b[0m\u001b[0mdatetime64\u001b[0m\u001b[0;34m(\u001b[0m\u001b[0;34m'0001-01-01'\u001b[0m\u001b[0;34m)\u001b[0m \u001b[0;32mor\u001b[0m \u001b[0mdt\u001b[0m \u001b[0;34m>=\u001b[0m \u001b[0mnp\u001b[0m\u001b[0;34m.\u001b[0m\u001b[0mdatetime64\u001b[0m\u001b[0;34m(\u001b[0m\u001b[0;34m'10000-01-01'\u001b[0m\u001b[0;34m)\u001b[0m\u001b[0;34m:\u001b[0m\u001b[0;34m\u001b[0m\u001b[0;34m\u001b[0m\u001b[0m\n\u001b[1;32m    350\u001b[0m         raise ValueError(f'Date ordinal {x} converts to {dt} (using '\n",
      "\u001b[0;31mOverflowError\u001b[0m: int too big to convert"
     ]
    }
   ],
   "source": [
    "\n",
    "\n",
    "df = pd.read_csv(\"/Users/nehag/Desktop/Final Project/Data/usdaGlobal_HighCorr_Honey.csv\")\n",
    "\n",
    " \n",
    "def parser(x):\n",
    "\treturn datetime.strptime(x, '%Y')\n",
    " \n",
    "series = read_csv('/Users/nehag/Desktop/Final Project/Data/usdaGlobal_HighCorr_Honey.csv', header=0, parse_dates=[1], index_col=0, date_parser=parser)\n",
    "print(series.head())\n",
    "series.plot()\n",
    "pyplot.show()"
   ]
  },
  {
   "cell_type": "code",
   "execution_count": 19,
   "id": "2d1cc25d",
   "metadata": {},
   "outputs": [
    {
     "ename": "KeyError",
     "evalue": "\"None of ['Year'] are in the columns\"",
     "output_type": "error",
     "traceback": [
      "\u001b[0;31m---------------------------------------------------------------------------\u001b[0m",
      "\u001b[0;31mKeyError\u001b[0m                                  Traceback (most recent call last)",
      "\u001b[0;32m/var/folders/w0/t7zkm9d12h11l_wy7wwcclsm0000gn/T/ipykernel_5768/307089012.py\u001b[0m in \u001b[0;36m<module>\u001b[0;34m\u001b[0m\n\u001b[1;32m      1\u001b[0m \u001b[0;31m#We need to set the Month column as index and convert it into datetime\u001b[0m\u001b[0;34m\u001b[0m\u001b[0;34m\u001b[0m\u001b[0m\n\u001b[0;32m----> 2\u001b[0;31m \u001b[0mdf\u001b[0m\u001b[0;34m.\u001b[0m\u001b[0mset_index\u001b[0m\u001b[0;34m(\u001b[0m\u001b[0;34m'Year'\u001b[0m\u001b[0;34m,\u001b[0m\u001b[0minplace\u001b[0m\u001b[0;34m=\u001b[0m\u001b[0;32mTrue\u001b[0m\u001b[0;34m)\u001b[0m\u001b[0;34m\u001b[0m\u001b[0;34m\u001b[0m\u001b[0m\n\u001b[0m\u001b[1;32m      3\u001b[0m \u001b[0;34m\u001b[0m\u001b[0m\n\u001b[1;32m      4\u001b[0m \u001b[0mdf\u001b[0m\u001b[0;34m.\u001b[0m\u001b[0mindex\u001b[0m \u001b[0;34m=\u001b[0m \u001b[0mdatetime\u001b[0m\u001b[0;34m.\u001b[0m\u001b[0mstrptime\u001b[0m\u001b[0;34m(\u001b[0m\u001b[0mdf\u001b[0m\u001b[0;34m[\u001b[0m\u001b[0mYear\u001b[0m\u001b[0;34m]\u001b[0m\u001b[0;34m,\u001b[0m \u001b[0;34m'%Y'\u001b[0m\u001b[0;34m)\u001b[0m\u001b[0;34m\u001b[0m\u001b[0;34m\u001b[0m\u001b[0m\n\u001b[1;32m      5\u001b[0m \u001b[0;34m\u001b[0m\u001b[0m\n",
      "\u001b[0;32m/opt/homebrew/lib/python3.9/site-packages/pandas/util/_decorators.py\u001b[0m in \u001b[0;36mwrapper\u001b[0;34m(*args, **kwargs)\u001b[0m\n\u001b[1;32m    309\u001b[0m                     \u001b[0mstacklevel\u001b[0m\u001b[0;34m=\u001b[0m\u001b[0mstacklevel\u001b[0m\u001b[0;34m,\u001b[0m\u001b[0;34m\u001b[0m\u001b[0;34m\u001b[0m\u001b[0m\n\u001b[1;32m    310\u001b[0m                 )\n\u001b[0;32m--> 311\u001b[0;31m             \u001b[0;32mreturn\u001b[0m \u001b[0mfunc\u001b[0m\u001b[0;34m(\u001b[0m\u001b[0;34m*\u001b[0m\u001b[0margs\u001b[0m\u001b[0;34m,\u001b[0m \u001b[0;34m**\u001b[0m\u001b[0mkwargs\u001b[0m\u001b[0;34m)\u001b[0m\u001b[0;34m\u001b[0m\u001b[0;34m\u001b[0m\u001b[0m\n\u001b[0m\u001b[1;32m    312\u001b[0m \u001b[0;34m\u001b[0m\u001b[0m\n\u001b[1;32m    313\u001b[0m         \u001b[0;32mreturn\u001b[0m \u001b[0mwrapper\u001b[0m\u001b[0;34m\u001b[0m\u001b[0;34m\u001b[0m\u001b[0m\n",
      "\u001b[0;32m/opt/homebrew/lib/python3.9/site-packages/pandas/core/frame.py\u001b[0m in \u001b[0;36mset_index\u001b[0;34m(self, keys, drop, append, inplace, verify_integrity)\u001b[0m\n\u001b[1;32m   5486\u001b[0m \u001b[0;34m\u001b[0m\u001b[0m\n\u001b[1;32m   5487\u001b[0m         \u001b[0;32mif\u001b[0m \u001b[0mmissing\u001b[0m\u001b[0;34m:\u001b[0m\u001b[0;34m\u001b[0m\u001b[0;34m\u001b[0m\u001b[0m\n\u001b[0;32m-> 5488\u001b[0;31m             \u001b[0;32mraise\u001b[0m \u001b[0mKeyError\u001b[0m\u001b[0;34m(\u001b[0m\u001b[0;34mf\"None of {missing} are in the columns\"\u001b[0m\u001b[0;34m)\u001b[0m\u001b[0;34m\u001b[0m\u001b[0;34m\u001b[0m\u001b[0m\n\u001b[0m\u001b[1;32m   5489\u001b[0m \u001b[0;34m\u001b[0m\u001b[0m\n\u001b[1;32m   5490\u001b[0m         \u001b[0;32mif\u001b[0m \u001b[0minplace\u001b[0m\u001b[0;34m:\u001b[0m\u001b[0;34m\u001b[0m\u001b[0;34m\u001b[0m\u001b[0m\n",
      "\u001b[0;31mKeyError\u001b[0m: \"None of ['Year'] are in the columns\""
     ]
    }
   ],
   "source": [
    "\n",
    "#We need to set the Month column as index and convert it into datetime\n",
    "df.set_index('Year',inplace=True)\n",
    "\n",
    "df.index = datetime.strptime(df[Year], '%Y')\n",
    "\n",
    "df.head()\n",
    "\n",
    "\n",
    " \n",
    "#We need to set the Month column as index and convert it into datetime\n",
    "df.set_index(‘Month’,inplace=True)\n",
    "df.index=pd.to_datetime(df.index)\n",
    "df.head()\n",
    "\n",
    "#dt = datetime.strptime(datestring, '%Y')"
   ]
  },
  {
   "cell_type": "code",
   "execution_count": null,
   "id": "bef52213",
   "metadata": {},
   "outputs": [],
   "source": []
  }
 ],
 "metadata": {
  "kernelspec": {
   "display_name": "Python 3 (ipykernel)",
   "language": "python",
   "name": "python3"
  },
  "language_info": {
   "codemirror_mode": {
    "name": "ipython",
    "version": 3
   },
   "file_extension": ".py",
   "mimetype": "text/x-python",
   "name": "python",
   "nbconvert_exporter": "python",
   "pygments_lexer": "ipython3",
   "version": "3.9.9"
  }
 },
 "nbformat": 4,
 "nbformat_minor": 5
}
