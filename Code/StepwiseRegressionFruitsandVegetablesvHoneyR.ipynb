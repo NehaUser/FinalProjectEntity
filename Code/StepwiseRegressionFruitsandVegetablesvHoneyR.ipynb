{
 "cells": [
  {
   "cell_type": "code",
   "execution_count": 1,
   "id": "c14e85ee-5a17-45ae-9faa-6bb0b817d5fc",
   "metadata": {},
   "outputs": [
    {
     "name": "stderr",
     "output_type": "stream",
     "text": [
      "Installing package into 'C:/Users/sdstc/Documents/R/win-library/4.1'\n",
      "(as 'lib' is unspecified)\n",
      "\n"
     ]
    },
    {
     "name": "stdout",
     "output_type": "stream",
     "text": [
      "package 'ggplot2' successfully unpacked and MD5 sums checked\n",
      "\n",
      "The downloaded binary packages are in\n",
      "\tC:\\Users\\sdstc\\AppData\\Local\\Temp\\Rtmp4KmqBV\\downloaded_packages\n"
     ]
    },
    {
     "name": "stderr",
     "output_type": "stream",
     "text": [
      "Warning message:\n",
      "\"package 'datasets' is in use and will not be installed\"\n",
      "Installing package into 'C:/Users/sdstc/Documents/R/win-library/4.1'\n",
      "(as 'lib' is unspecified)\n",
      "\n"
     ]
    },
    {
     "name": "stdout",
     "output_type": "stream",
     "text": [
      "package 'readxl' successfully unpacked and MD5 sums checked\n",
      "\n",
      "The downloaded binary packages are in\n",
      "\tC:\\Users\\sdstc\\AppData\\Local\\Temp\\Rtmp4KmqBV\\downloaded_packages\n"
     ]
    },
    {
     "name": "stderr",
     "output_type": "stream",
     "text": [
      "Installing package into 'C:/Users/sdstc/Documents/R/win-library/4.1'\n",
      "(as 'lib' is unspecified)\n",
      "\n",
      "also installing the dependency 'vctrs'\n",
      "\n",
      "\n"
     ]
    },
    {
     "name": "stdout",
     "output_type": "stream",
     "text": [
      "package 'vctrs' successfully unpacked and MD5 sums checked\n"
     ]
    },
    {
     "name": "stderr",
     "output_type": "stream",
     "text": [
      "Warning message:\n",
      "\"cannot remove prior installation of package 'vctrs'\"\n",
      "Warning message in file.copy(savedcopy, lib, recursive = TRUE):\n",
      "\"problem copying C:\\Users\\sdstc\\Documents\\R\\win-library\\4.1\\00LOCK\\vctrs\\libs\\x64\\vctrs.dll to C:\\Users\\sdstc\\Documents\\R\\win-library\\4.1\\vctrs\\libs\\x64\\vctrs.dll: Permission denied\"\n",
      "Warning message:\n",
      "\"restored 'vctrs'\"\n"
     ]
    },
    {
     "name": "stdout",
     "output_type": "stream",
     "text": [
      "package 'dplyr' successfully unpacked and MD5 sums checked\n"
     ]
    },
    {
     "name": "stderr",
     "output_type": "stream",
     "text": [
      "Warning message:\n",
      "\"cannot remove prior installation of package 'dplyr'\"\n",
      "Warning message in file.copy(savedcopy, lib, recursive = TRUE):\n",
      "\"problem copying C:\\Users\\sdstc\\Documents\\R\\win-library\\4.1\\00LOCK\\dplyr\\libs\\x64\\dplyr.dll to C:\\Users\\sdstc\\Documents\\R\\win-library\\4.1\\dplyr\\libs\\x64\\dplyr.dll: Permission denied\"\n",
      "Warning message:\n",
      "\"restored 'dplyr'\"\n"
     ]
    },
    {
     "name": "stdout",
     "output_type": "stream",
     "text": [
      "\n",
      "The downloaded binary packages are in\n",
      "\tC:\\Users\\sdstc\\AppData\\Local\\Temp\\Rtmp4KmqBV\\downloaded_packages\n"
     ]
    },
    {
     "name": "stderr",
     "output_type": "stream",
     "text": [
      "Installing package into 'C:/Users/sdstc/Documents/R/win-library/4.1'\n",
      "(as 'lib' is unspecified)\n",
      "\n"
     ]
    },
    {
     "name": "stdout",
     "output_type": "stream",
     "text": [
      "package 'PerformanceAnalytics' successfully unpacked and MD5 sums checked\n",
      "\n",
      "The downloaded binary packages are in\n",
      "\tC:\\Users\\sdstc\\AppData\\Local\\Temp\\Rtmp4KmqBV\\downloaded_packages\n"
     ]
    },
    {
     "name": "stderr",
     "output_type": "stream",
     "text": [
      "Installing package into 'C:/Users/sdstc/Documents/R/win-library/4.1'\n",
      "(as 'lib' is unspecified)\n",
      "\n"
     ]
    },
    {
     "name": "stdout",
     "output_type": "stream",
     "text": [
      "package 'corrplot' successfully unpacked and MD5 sums checked\n",
      "\n",
      "The downloaded binary packages are in\n",
      "\tC:\\Users\\sdstc\\AppData\\Local\\Temp\\Rtmp4KmqBV\\downloaded_packages\n"
     ]
    },
    {
     "name": "stderr",
     "output_type": "stream",
     "text": [
      "Installing package into 'C:/Users/sdstc/Documents/R/win-library/4.1'\n",
      "(as 'lib' is unspecified)\n",
      "\n"
     ]
    },
    {
     "name": "stdout",
     "output_type": "stream",
     "text": [
      "package 'gapminder' successfully unpacked and MD5 sums checked\n",
      "\n",
      "The downloaded binary packages are in\n",
      "\tC:\\Users\\sdstc\\AppData\\Local\\Temp\\Rtmp4KmqBV\\downloaded_packages\n"
     ]
    },
    {
     "name": "stderr",
     "output_type": "stream",
     "text": [
      "Installing package into 'C:/Users/sdstc/Documents/R/win-library/4.1'\n",
      "(as 'lib' is unspecified)\n",
      "\n",
      "Warning message:\n",
      "\"package 'gridextra' is not available for this version of R\n",
      "\n",
      "A version of this package for your version of R might be available elsewhere,\n",
      "see the ideas at\n",
      "https://cran.r-project.org/doc/manuals/r-patched/R-admin.html#Installing-packages\"\n",
      "Warning message:\n",
      "\"Perhaps you meant 'gridExtra' ?\"\n",
      "Installing package into 'C:/Users/sdstc/Documents/R/win-library/4.1'\n",
      "(as 'lib' is unspecified)\n",
      "\n"
     ]
    },
    {
     "name": "stdout",
     "output_type": "stream",
     "text": [
      "package 'Ecdat' successfully unpacked and MD5 sums checked\n",
      "\n",
      "The downloaded binary packages are in\n",
      "\tC:\\Users\\sdstc\\AppData\\Local\\Temp\\Rtmp4KmqBV\\downloaded_packages\n"
     ]
    },
    {
     "name": "stderr",
     "output_type": "stream",
     "text": [
      "Installing package into 'C:/Users/sdstc/Documents/R/win-library/4.1'\n",
      "(as 'lib' is unspecified)\n",
      "\n"
     ]
    },
    {
     "name": "stdout",
     "output_type": "stream",
     "text": [
      "package 'corpcor' successfully unpacked and MD5 sums checked\n",
      "\n",
      "The downloaded binary packages are in\n",
      "\tC:\\Users\\sdstc\\AppData\\Local\\Temp\\Rtmp4KmqBV\\downloaded_packages\n"
     ]
    },
    {
     "name": "stderr",
     "output_type": "stream",
     "text": [
      "Installing package into 'C:/Users/sdstc/Documents/R/win-library/4.1'\n",
      "(as 'lib' is unspecified)\n",
      "\n"
     ]
    },
    {
     "name": "stdout",
     "output_type": "stream",
     "text": [
      "package 'GPArotation' successfully unpacked and MD5 sums checked\n",
      "\n",
      "The downloaded binary packages are in\n",
      "\tC:\\Users\\sdstc\\AppData\\Local\\Temp\\Rtmp4KmqBV\\downloaded_packages\n"
     ]
    },
    {
     "name": "stderr",
     "output_type": "stream",
     "text": [
      "Installing package into 'C:/Users/sdstc/Documents/R/win-library/4.1'\n",
      "(as 'lib' is unspecified)\n",
      "\n"
     ]
    },
    {
     "name": "stdout",
     "output_type": "stream",
     "text": [
      "package 'psych' successfully unpacked and MD5 sums checked\n",
      "\n",
      "The downloaded binary packages are in\n",
      "\tC:\\Users\\sdstc\\AppData\\Local\\Temp\\Rtmp4KmqBV\\downloaded_packages\n"
     ]
    },
    {
     "name": "stderr",
     "output_type": "stream",
     "text": [
      "Installing package into 'C:/Users/sdstc/Documents/R/win-library/4.1'\n",
      "(as 'lib' is unspecified)\n",
      "\n"
     ]
    },
    {
     "name": "stdout",
     "output_type": "stream",
     "text": [
      "package 'IDPmisc' successfully unpacked and MD5 sums checked\n",
      "\n",
      "The downloaded binary packages are in\n",
      "\tC:\\Users\\sdstc\\AppData\\Local\\Temp\\Rtmp4KmqBV\\downloaded_packages\n"
     ]
    },
    {
     "name": "stderr",
     "output_type": "stream",
     "text": [
      "Installing package into 'C:/Users/sdstc/Documents/R/win-library/4.1'\n",
      "(as 'lib' is unspecified)\n",
      "\n"
     ]
    },
    {
     "name": "stdout",
     "output_type": "stream",
     "text": [
      "package 'lattice' successfully unpacked and MD5 sums checked\n",
      "\n",
      "The downloaded binary packages are in\n",
      "\tC:\\Users\\sdstc\\AppData\\Local\\Temp\\Rtmp4KmqBV\\downloaded_packages\n"
     ]
    },
    {
     "name": "stderr",
     "output_type": "stream",
     "text": [
      "Installing package into 'C:/Users/sdstc/Documents/R/win-library/4.1'\n",
      "(as 'lib' is unspecified)\n",
      "\n",
      "also installing the dependencies 'sass', 'jquerylib', 'wk', 'httpuv', 'xtable', 'fontawesome', 'sourcetools', 'later', 'promises', 'bslib', 'spatstat.data', 'spatstat.utils', 'deldir', 'spatstat.random', 'spatstat.sparse', 'tensor', 'goftest', 'hexbin', 'magic', 'lpSolve', 'linprog', 'RcppProgress', 'classInt', 'rlas', 'RcppArmadillo', 'lobstr', 's2', 'units', 'lwgeom', 'shiny', 'spatstat.geom', 'spatstat.core', 'rasterVis', 'geometry', 'rgdal', 'rgeos', 'rgl', 'lidR', 'pryr', 'sf', 'stars'\n",
      "\n",
      "\n"
     ]
    },
    {
     "name": "stdout",
     "output_type": "stream",
     "text": [
      "\n",
      "  There are binary versions available but the source versions are later:\n",
      "     binary source needs_compilation\n",
      "rlas  1.5.3  1.6.0              TRUE\n",
      "sf    1.0-7  1.0-8              TRUE\n",
      "\n",
      "  Binaries will be installed\n",
      "package 'sass' successfully unpacked and MD5 sums checked\n",
      "package 'jquerylib' successfully unpacked and MD5 sums checked\n",
      "package 'wk' successfully unpacked and MD5 sums checked\n",
      "package 'httpuv' successfully unpacked and MD5 sums checked\n",
      "package 'xtable' successfully unpacked and MD5 sums checked\n",
      "package 'fontawesome' successfully unpacked and MD5 sums checked\n",
      "package 'sourcetools' successfully unpacked and MD5 sums checked\n",
      "package 'later' successfully unpacked and MD5 sums checked\n",
      "package 'promises' successfully unpacked and MD5 sums checked\n",
      "package 'bslib' successfully unpacked and MD5 sums checked\n",
      "package 'spatstat.data' successfully unpacked and MD5 sums checked\n",
      "package 'spatstat.utils' successfully unpacked and MD5 sums checked\n",
      "package 'deldir' successfully unpacked and MD5 sums checked\n",
      "package 'spatstat.random' successfully unpacked and MD5 sums checked\n",
      "package 'spatstat.sparse' successfully unpacked and MD5 sums checked\n",
      "package 'tensor' successfully unpacked and MD5 sums checked\n",
      "package 'goftest' successfully unpacked and MD5 sums checked\n",
      "package 'hexbin' successfully unpacked and MD5 sums checked\n",
      "package 'magic' successfully unpacked and MD5 sums checked\n",
      "package 'lpSolve' successfully unpacked and MD5 sums checked\n",
      "package 'linprog' successfully unpacked and MD5 sums checked\n",
      "package 'RcppProgress' successfully unpacked and MD5 sums checked\n",
      "package 'classInt' successfully unpacked and MD5 sums checked\n",
      "package 'rlas' successfully unpacked and MD5 sums checked\n",
      "package 'RcppArmadillo' successfully unpacked and MD5 sums checked\n",
      "package 'lobstr' successfully unpacked and MD5 sums checked\n",
      "package 's2' successfully unpacked and MD5 sums checked\n",
      "package 'units' successfully unpacked and MD5 sums checked\n",
      "package 'lwgeom' successfully unpacked and MD5 sums checked\n",
      "package 'shiny' successfully unpacked and MD5 sums checked\n",
      "package 'spatstat.geom' successfully unpacked and MD5 sums checked\n",
      "package 'spatstat.core' successfully unpacked and MD5 sums checked\n",
      "package 'rasterVis' successfully unpacked and MD5 sums checked\n",
      "package 'geometry' successfully unpacked and MD5 sums checked\n",
      "package 'rgdal' successfully unpacked and MD5 sums checked\n",
      "package 'rgeos' successfully unpacked and MD5 sums checked\n",
      "package 'rgl' successfully unpacked and MD5 sums checked\n",
      "package 'lidR' successfully unpacked and MD5 sums checked\n",
      "package 'pryr' successfully unpacked and MD5 sums checked\n",
      "package 'sf' successfully unpacked and MD5 sums checked\n",
      "package 'stars' successfully unpacked and MD5 sums checked\n",
      "package 'treetop' successfully unpacked and MD5 sums checked\n",
      "\n",
      "The downloaded binary packages are in\n",
      "\tC:\\Users\\sdstc\\AppData\\Local\\Temp\\Rtmp4KmqBV\\downloaded_packages\n"
     ]
    },
    {
     "name": "stderr",
     "output_type": "stream",
     "text": [
      "Installing package into 'C:/Users/sdstc/Documents/R/win-library/4.1'\n",
      "(as 'lib' is unspecified)\n",
      "\n"
     ]
    },
    {
     "name": "stdout",
     "output_type": "stream",
     "text": [
      "package 'scales' successfully unpacked and MD5 sums checked\n",
      "\n",
      "The downloaded binary packages are in\n",
      "\tC:\\Users\\sdstc\\AppData\\Local\\Temp\\Rtmp4KmqBV\\downloaded_packages\n"
     ]
    },
    {
     "name": "stderr",
     "output_type": "stream",
     "text": [
      "Installing package into 'C:/Users/sdstc/Documents/R/win-library/4.1'\n",
      "(as 'lib' is unspecified)\n",
      "\n"
     ]
    },
    {
     "name": "stdout",
     "output_type": "stream",
     "text": [
      "package 'rcompanion' successfully unpacked and MD5 sums checked\n",
      "\n",
      "The downloaded binary packages are in\n",
      "\tC:\\Users\\sdstc\\AppData\\Local\\Temp\\Rtmp4KmqBV\\downloaded_packages\n"
     ]
    },
    {
     "name": "stderr",
     "output_type": "stream",
     "text": [
      "Installing package into 'C:/Users/sdstc/Documents/R/win-library/4.1'\n",
      "(as 'lib' is unspecified)\n",
      "\n"
     ]
    },
    {
     "name": "stdout",
     "output_type": "stream",
     "text": [
      "package 'gmodels' successfully unpacked and MD5 sums checked\n",
      "\n",
      "The downloaded binary packages are in\n",
      "\tC:\\Users\\sdstc\\AppData\\Local\\Temp\\Rtmp4KmqBV\\downloaded_packages\n"
     ]
    },
    {
     "name": "stderr",
     "output_type": "stream",
     "text": [
      "Installing package into 'C:/Users/sdstc/Documents/R/win-library/4.1'\n",
      "(as 'lib' is unspecified)\n",
      "\n"
     ]
    },
    {
     "name": "stdout",
     "output_type": "stream",
     "text": [
      "package 'car' successfully unpacked and MD5 sums checked\n",
      "\n",
      "The downloaded binary packages are in\n",
      "\tC:\\Users\\sdstc\\AppData\\Local\\Temp\\Rtmp4KmqBV\\downloaded_packages\n"
     ]
    },
    {
     "name": "stderr",
     "output_type": "stream",
     "text": [
      "Installing package into 'C:/Users/sdstc/Documents/R/win-library/4.1'\n",
      "(as 'lib' is unspecified)\n",
      "\n"
     ]
    },
    {
     "name": "stdout",
     "output_type": "stream",
     "text": [
      "package 'caret' successfully unpacked and MD5 sums checked\n"
     ]
    },
    {
     "name": "stderr",
     "output_type": "stream",
     "text": [
      "Warning message:\n",
      "\"cannot remove prior installation of package 'caret'\"\n",
      "Warning message in file.copy(savedcopy, lib, recursive = TRUE):\n",
      "\"problem copying C:\\Users\\sdstc\\Documents\\R\\win-library\\4.1\\00LOCK\\caret\\libs\\x64\\caret.dll to C:\\Users\\sdstc\\Documents\\R\\win-library\\4.1\\caret\\libs\\x64\\caret.dll: Permission denied\"\n",
      "Warning message:\n",
      "\"restored 'caret'\"\n"
     ]
    },
    {
     "name": "stdout",
     "output_type": "stream",
     "text": [
      "\n",
      "The downloaded binary packages are in\n",
      "\tC:\\Users\\sdstc\\AppData\\Local\\Temp\\Rtmp4KmqBV\\downloaded_packages\n"
     ]
    },
    {
     "name": "stderr",
     "output_type": "stream",
     "text": [
      "Installing package into 'C:/Users/sdstc/Documents/R/win-library/4.1'\n",
      "(as 'lib' is unspecified)\n",
      "\n"
     ]
    },
    {
     "name": "stdout",
     "output_type": "stream",
     "text": [
      "package 'gvlma' successfully unpacked and MD5 sums checked\n",
      "\n",
      "The downloaded binary packages are in\n",
      "\tC:\\Users\\sdstc\\AppData\\Local\\Temp\\Rtmp4KmqBV\\downloaded_packages\n"
     ]
    },
    {
     "name": "stderr",
     "output_type": "stream",
     "text": [
      "Installing package into 'C:/Users/sdstc/Documents/R/win-library/4.1'\n",
      "(as 'lib' is unspecified)\n",
      "\n"
     ]
    },
    {
     "name": "stdout",
     "output_type": "stream",
     "text": [
      "package 'predictmeans' successfully unpacked and MD5 sums checked\n",
      "\n",
      "The downloaded binary packages are in\n",
      "\tC:\\Users\\sdstc\\AppData\\Local\\Temp\\Rtmp4KmqBV\\downloaded_packages\n"
     ]
    },
    {
     "name": "stderr",
     "output_type": "stream",
     "text": [
      "Installing package into 'C:/Users/sdstc/Documents/R/win-library/4.1'\n",
      "(as 'lib' is unspecified)\n",
      "\n"
     ]
    },
    {
     "name": "stdout",
     "output_type": "stream",
     "text": [
      "package 'caret' successfully unpacked and MD5 sums checked\n"
     ]
    },
    {
     "name": "stderr",
     "output_type": "stream",
     "text": [
      "Warning message:\n",
      "\"cannot remove prior installation of package 'caret'\"\n",
      "Warning message in file.copy(savedcopy, lib, recursive = TRUE):\n",
      "\"problem copying C:\\Users\\sdstc\\Documents\\R\\win-library\\4.1\\00LOCK\\caret\\libs\\x64\\caret.dll to C:\\Users\\sdstc\\Documents\\R\\win-library\\4.1\\caret\\libs\\x64\\caret.dll: Permission denied\"\n",
      "Warning message:\n",
      "\"restored 'caret'\"\n"
     ]
    },
    {
     "name": "stdout",
     "output_type": "stream",
     "text": [
      "\n",
      "The downloaded binary packages are in\n",
      "\tC:\\Users\\sdstc\\AppData\\Local\\Temp\\Rtmp4KmqBV\\downloaded_packages\n"
     ]
    },
    {
     "name": "stderr",
     "output_type": "stream",
     "text": [
      "Installing package into 'C:/Users/sdstc/Documents/R/win-library/4.1'\n",
      "(as 'lib' is unspecified)\n",
      "\n"
     ]
    },
    {
     "name": "stdout",
     "output_type": "stream",
     "text": [
      "package 'magrittr' successfully unpacked and MD5 sums checked\n"
     ]
    },
    {
     "name": "stderr",
     "output_type": "stream",
     "text": [
      "Warning message:\n",
      "\"cannot remove prior installation of package 'magrittr'\"\n",
      "Warning message in file.copy(savedcopy, lib, recursive = TRUE):\n",
      "\"problem copying C:\\Users\\sdstc\\Documents\\R\\win-library\\4.1\\00LOCK\\magrittr\\libs\\x64\\magrittr.dll to C:\\Users\\sdstc\\Documents\\R\\win-library\\4.1\\magrittr\\libs\\x64\\magrittr.dll: Permission denied\"\n",
      "Warning message:\n",
      "\"restored 'magrittr'\"\n"
     ]
    },
    {
     "name": "stdout",
     "output_type": "stream",
     "text": [
      "\n",
      "The downloaded binary packages are in\n",
      "\tC:\\Users\\sdstc\\AppData\\Local\\Temp\\Rtmp4KmqBV\\downloaded_packages\n"
     ]
    },
    {
     "name": "stderr",
     "output_type": "stream",
     "text": [
      "Installing package into 'C:/Users/sdstc/Documents/R/win-library/4.1'\n",
      "(as 'lib' is unspecified)\n",
      "\n"
     ]
    },
    {
     "name": "stdout",
     "output_type": "stream",
     "text": [
      "package 'tidyr' successfully unpacked and MD5 sums checked\n",
      "\n",
      "The downloaded binary packages are in\n",
      "\tC:\\Users\\sdstc\\AppData\\Local\\Temp\\Rtmp4KmqBV\\downloaded_packages\n"
     ]
    },
    {
     "name": "stderr",
     "output_type": "stream",
     "text": [
      "Installing package into 'C:/Users/sdstc/Documents/R/win-library/4.1'\n",
      "(as 'lib' is unspecified)\n",
      "\n"
     ]
    },
    {
     "name": "stdout",
     "output_type": "stream",
     "text": [
      "package 'lmtest' successfully unpacked and MD5 sums checked\n"
     ]
    },
    {
     "name": "stderr",
     "output_type": "stream",
     "text": [
      "Warning message:\n",
      "\"cannot remove prior installation of package 'lmtest'\"\n",
      "Warning message in file.copy(savedcopy, lib, recursive = TRUE):\n",
      "\"problem copying C:\\Users\\sdstc\\Documents\\R\\win-library\\4.1\\00LOCK\\lmtest\\libs\\x64\\lmtest.dll to C:\\Users\\sdstc\\Documents\\R\\win-library\\4.1\\lmtest\\libs\\x64\\lmtest.dll: Permission denied\"\n",
      "Warning message:\n",
      "\"restored 'lmtest'\"\n"
     ]
    },
    {
     "name": "stdout",
     "output_type": "stream",
     "text": [
      "\n",
      "The downloaded binary packages are in\n",
      "\tC:\\Users\\sdstc\\AppData\\Local\\Temp\\Rtmp4KmqBV\\downloaded_packages\n"
     ]
    },
    {
     "name": "stderr",
     "output_type": "stream",
     "text": [
      "Installing package into 'C:/Users/sdstc/Documents/R/win-library/4.1'\n",
      "(as 'lib' is unspecified)\n",
      "\n"
     ]
    },
    {
     "name": "stdout",
     "output_type": "stream",
     "text": [
      "package 'popbio' successfully unpacked and MD5 sums checked\n",
      "\n",
      "The downloaded binary packages are in\n",
      "\tC:\\Users\\sdstc\\AppData\\Local\\Temp\\Rtmp4KmqBV\\downloaded_packages\n"
     ]
    },
    {
     "name": "stderr",
     "output_type": "stream",
     "text": [
      "Installing package into 'C:/Users/sdstc/Documents/R/win-library/4.1'\n",
      "(as 'lib' is unspecified)\n",
      "\n"
     ]
    },
    {
     "name": "stdout",
     "output_type": "stream",
     "text": [
      "package 'e1071' successfully unpacked and MD5 sums checked\n",
      "\n",
      "The downloaded binary packages are in\n",
      "\tC:\\Users\\sdstc\\AppData\\Local\\Temp\\Rtmp4KmqBV\\downloaded_packages\n"
     ]
    },
    {
     "name": "stderr",
     "output_type": "stream",
     "text": [
      "Installing package into 'C:/Users/sdstc/Documents/R/win-library/4.1'\n",
      "(as 'lib' is unspecified)\n",
      "\n"
     ]
    },
    {
     "name": "stdout",
     "output_type": "stream",
     "text": [
      "package 'data.table' successfully unpacked and MD5 sums checked\n"
     ]
    },
    {
     "name": "stderr",
     "output_type": "stream",
     "text": [
      "Warning message:\n",
      "\"cannot remove prior installation of package 'data.table'\"\n",
      "Warning message in file.copy(savedcopy, lib, recursive = TRUE):\n",
      "\"problem copying C:\\Users\\sdstc\\Documents\\R\\win-library\\4.1\\00LOCK\\data.table\\libs\\x64\\datatable.dll to C:\\Users\\sdstc\\Documents\\R\\win-library\\4.1\\data.table\\libs\\x64\\datatable.dll: Permission denied\"\n",
      "Warning message:\n",
      "\"restored 'data.table'\"\n"
     ]
    },
    {
     "name": "stdout",
     "output_type": "stream",
     "text": [
      "\n",
      "The downloaded binary packages are in\n",
      "\tC:\\Users\\sdstc\\AppData\\Local\\Temp\\Rtmp4KmqBV\\downloaded_packages\n"
     ]
    },
    {
     "name": "stderr",
     "output_type": "stream",
     "text": [
      "Installing package into 'C:/Users/sdstc/Documents/R/win-library/4.1'\n",
      "(as 'lib' is unspecified)\n",
      "\n"
     ]
    },
    {
     "name": "stdout",
     "output_type": "stream",
     "text": [
      "package 'effects' successfully unpacked and MD5 sums checked\n",
      "\n",
      "The downloaded binary packages are in\n",
      "\tC:\\Users\\sdstc\\AppData\\Local\\Temp\\Rtmp4KmqBV\\downloaded_packages\n"
     ]
    },
    {
     "name": "stderr",
     "output_type": "stream",
     "text": [
      "Installing package into 'C:/Users/sdstc/Documents/R/win-library/4.1'\n",
      "(as 'lib' is unspecified)\n",
      "\n"
     ]
    },
    {
     "name": "stdout",
     "output_type": "stream",
     "text": [
      "package 'multcomp' successfully unpacked and MD5 sums checked\n",
      "\n",
      "The downloaded binary packages are in\n",
      "\tC:\\Users\\sdstc\\AppData\\Local\\Temp\\Rtmp4KmqBV\\downloaded_packages\n"
     ]
    },
    {
     "name": "stderr",
     "output_type": "stream",
     "text": [
      "Installing package into 'C:/Users/sdstc/Documents/R/win-library/4.1'\n",
      "(as 'lib' is unspecified)\n",
      "\n"
     ]
    },
    {
     "name": "stdout",
     "output_type": "stream",
     "text": [
      "package 'mvnormtest' successfully unpacked and MD5 sums checked\n",
      "\n",
      "The downloaded binary packages are in\n",
      "\tC:\\Users\\sdstc\\AppData\\Local\\Temp\\Rtmp4KmqBV\\downloaded_packages\n"
     ]
    },
    {
     "name": "stderr",
     "output_type": "stream",
     "text": [
      "Installing package into 'C:/Users/sdstc/Documents/R/win-library/4.1'\n",
      "(as 'lib' is unspecified)\n",
      "\n"
     ]
    },
    {
     "name": "stdout",
     "output_type": "stream",
     "text": [
      "package 'gapminder' successfully unpacked and MD5 sums checked\n",
      "\n",
      "The downloaded binary packages are in\n",
      "\tC:\\Users\\sdstc\\AppData\\Local\\Temp\\Rtmp4KmqBV\\downloaded_packages\n"
     ]
    },
    {
     "name": "stderr",
     "output_type": "stream",
     "text": [
      "Installing package into 'C:/Users/sdstc/Documents/R/win-library/4.1'\n",
      "(as 'lib' is unspecified)\n",
      "\n"
     ]
    },
    {
     "name": "stdout",
     "output_type": "stream",
     "text": [
      "package 'Ecdat' successfully unpacked and MD5 sums checked\n",
      "\n",
      "The downloaded binary packages are in\n",
      "\tC:\\Users\\sdstc\\AppData\\Local\\Temp\\Rtmp4KmqBV\\downloaded_packages\n"
     ]
    }
   ],
   "source": [
    "install.packages(\"ggplot2\")\n",
    "install.packages(\"datasets\")\n",
    "install.packages(\"readxl\") \n",
    "install.packages(\"dplyr\") \n",
    "install.packages(\"PerformanceAnalytics\")\n",
    "install.packages(\"corrplot\") \n",
    "install.packages(\"gapminder\")\n",
    "install.packages(\"gridextra\")\n",
    "install.packages(\"Ecdat\")\n",
    "install.packages(\"corpcor\")\n",
    "install.packages(\"GPArotation\")\n",
    "install.packages(\"psych\")\n",
    "install.packages(\"IDPmisc\")\n",
    "install.packages(\"lattice\") \n",
    "install.packages(\"treetop\")\n",
    "install.packages(\"scales\")\n",
    "install.packages(\"rcompanion\")\n",
    "install.packages(\"gmodels\")\n",
    "install.packages(\"car\")\n",
    "install.packages(\"caret\")\n",
    "install.packages(\"gvlma\")\n",
    "install.packages(\"predictmeans\")\n",
    "install.packages(\"caret\")\n",
    "install.packages(\"magrittr\")\n",
    "install.packages(\"tidyr\")\n",
    "install.packages(\"lmtest\")\n",
    "install.packages(\"popbio\")\n",
    "install.packages(\"e1071\")\n",
    "install.packages(\"data.table\")\n",
    "install.packages(\"effects\")\n",
    "install.packages(\"multcomp\")\n",
    "install.packages(\"mvnormtest\")\n",
    "install.packages(\"gapminder\")\n",
    "install.packages(\"Ecdat\")"
   ]
  },
  {
   "cell_type": "code",
   "execution_count": 7,
   "id": "ab318724-e77c-4c69-8d42-7ac7296cf23f",
   "metadata": {},
   "outputs": [
    {
     "name": "stderr",
     "output_type": "stream",
     "text": [
      "\u001b[1mRows: \u001b[22m\u001b[34m15\u001b[39m \u001b[1mColumns: \u001b[22m\u001b[34m13\u001b[39m\n",
      "\u001b[36m--\u001b[39m \u001b[1mColumn specification\u001b[22m \u001b[36m------------------------------------------------------------------------------------------------\u001b[39m\n",
      "\u001b[1mDelimiter:\u001b[22m \",\"\n",
      "\u001b[32mdbl\u001b[39m (13): Year, Apples, Fresh, Corn, Fresh Cherries,(Sweet&Sour), Fresh Peac...\n",
      "\n",
      "\u001b[36mi\u001b[39m Use `spec()` to retrieve the full column specification for this data.\n",
      "\u001b[36mi\u001b[39m Specify the column types or set `show_col_types = FALSE` to quiet this message.\n"
     ]
    },
    {
     "data": {
      "text/html": [
       "<table class=\"dataframe\">\n",
       "<caption>A spec_tbl_df: 15 × 13</caption>\n",
       "<thead>\n",
       "\t<tr><th scope=col>Year</th><th scope=col>Apples, Fresh</th><th scope=col>Corn</th><th scope=col>Fresh Cherries,(Sweet&amp;Sour)</th><th scope=col>Fresh Peaches &amp; Nectarines</th><th scope=col>Grapefruit, Fresh</th><th scope=col>Grapes, Fresh</th><th scope=col>Honey</th><th scope=col>Lemons/Limes, Fresh</th><th scope=col>Oranges, Fresh</th><th scope=col>Pears, Fresh</th><th scope=col>Raisins</th><th scope=col>Tangerines/Mandarins, Fresh</th></tr>\n",
       "\t<tr><th scope=col>&lt;dbl&gt;</th><th scope=col>&lt;dbl&gt;</th><th scope=col>&lt;dbl&gt;</th><th scope=col>&lt;dbl&gt;</th><th scope=col>&lt;dbl&gt;</th><th scope=col>&lt;dbl&gt;</th><th scope=col>&lt;dbl&gt;</th><th scope=col>&lt;dbl&gt;</th><th scope=col>&lt;dbl&gt;</th><th scope=col>&lt;dbl&gt;</th><th scope=col>&lt;dbl&gt;</th><th scope=col>&lt;dbl&gt;</th><th scope=col>&lt;dbl&gt;</th></tr>\n",
       "</thead>\n",
       "<tbody>\n",
       "\t<tr><td>1998</td><td>5282.724</td><td>247882</td><td>336.521</td><td>1248.377</td><td>2280</td><td>708.325</td><td>99.57162</td><td>678</td><td> 8989</td><td>880.061</td><td>255.100</td><td>401</td></tr>\n",
       "\t<tr><td>1999</td><td>5746.060</td><td>239549</td><td>312.226</td><td>1342.316</td><td>2507</td><td>804.873</td><td>91.80072</td><td>762</td><td>11875</td><td>921.247</td><td>315.973</td><td>505</td></tr>\n",
       "\t<tr><td>2000</td><td>5675.890</td><td>251854</td><td>318.195</td><td>1358.464</td><td>2233</td><td>822.658</td><td>99.58931</td><td>904</td><td>11139</td><td>884.750</td><td>447.877</td><td>425</td></tr>\n",
       "\t<tr><td>2001</td><td>5065.060</td><td>241377</td><td>339.359</td><td>1297.229</td><td>2199</td><td>784.107</td><td>84.25344</td><td>727</td><td>11290</td><td>931.631</td><td>378.387</td><td>469</td></tr>\n",
       "\t<tr><td>2002</td><td>4605.810</td><td>227767</td><td>192.320</td><td>1519.080</td><td>1872</td><td>891.164</td><td>77.68409</td><td>931</td><td>10527</td><td>807.413</td><td>402.246</td><td>443</td></tr>\n",
       "\t<tr><td>2003</td><td>4780.600</td><td>256278</td><td>325.670</td><td>1480.070</td><td>1964</td><td>730.701</td><td>82.26853</td><td>724</td><td>11734</td><td>847.356</td><td>319.238</td><td>419</td></tr>\n",
       "\t<tr><td>2004</td><td>5683.040</td><td>299914</td><td>353.800</td><td>1429.814</td><td> 924</td><td>800.663</td><td>82.88405</td><td>789</td><td> 8420</td><td>795.837</td><td>251.562</td><td>367</td></tr>\n",
       "\t<tr><td>2005</td><td>5261.960</td><td>282311</td><td>350.170</td><td>1365.400</td><td>1118</td><td>903.202</td><td>78.91060</td><td>889</td><td> 8394</td><td>745.446</td><td>324.319</td><td>435</td></tr>\n",
       "\t<tr><td>2006</td><td>5351.610</td><td>282303</td><td>386.510</td><td>1171.000</td><td>1476</td><td>723.561</td><td>69.96081</td><td>724</td><td> 7369</td><td>754.000</td><td>280.774</td><td>378</td></tr>\n",
       "\t<tr><td>2007</td><td>4154.195</td><td>338295</td><td>407.880</td><td>1269.061</td><td>1423</td><td>834.909</td><td>66.95941</td><td>638</td><td> 9237</td><td>798.200</td><td>326.600</td><td>540</td></tr>\n",
       "\t<tr><td>2008</td><td>4508.344</td><td>312126</td><td>321.315</td><td>1302.563</td><td>1240</td><td>893.758</td><td>73.92247</td><td>862</td><td> 8487</td><td>789.200</td><td>354.100</td><td>520</td></tr>\n",
       "\t<tr><td>2009</td><td>4505.000</td><td>334052</td><td>495.346</td><td>1194.354</td><td>1123</td><td>851.856</td><td>65.80139</td><td>800</td><td> 7491</td><td>867.120</td><td>304.400</td><td>583</td></tr>\n",
       "\t<tr><td>2010</td><td>4219.541</td><td>339614</td><td>367.000</td><td>1237.219</td><td>1139</td><td>900.934</td><td>79.51161</td><td>853</td><td> 8078</td><td>774.477</td><td>358.200</td><td>643</td></tr>\n",
       "\t<tr><td>2011</td><td>4231.474</td><td>343043</td><td>404.660</td><td>1210.412</td><td>1061</td><td>896.916</td><td>66.76890</td><td>771</td><td> 8180</td><td>875.533</td><td>348.631</td><td>635</td></tr>\n",
       "\t<tr><td>2012</td><td>4200.000</td><td>375683</td><td>418.135</td><td>1099.300</td><td>1092</td><td>908.000</td><td>63.91401</td><td>827</td><td> 8014</td><td>796.338</td><td>313.795</td><td>664</td></tr>\n",
       "</tbody>\n",
       "</table>\n"
      ],
      "text/latex": [
       "A spec\\_tbl\\_df: 15 × 13\n",
       "\\begin{tabular}{lllllllllllll}\n",
       " Year & Apples, Fresh & Corn & Fresh Cherries,(Sweet\\&Sour) & Fresh Peaches \\& Nectarines & Grapefruit, Fresh & Grapes, Fresh & Honey & Lemons/Limes, Fresh & Oranges, Fresh & Pears, Fresh & Raisins & Tangerines/Mandarins, Fresh\\\\\n",
       " <dbl> & <dbl> & <dbl> & <dbl> & <dbl> & <dbl> & <dbl> & <dbl> & <dbl> & <dbl> & <dbl> & <dbl> & <dbl>\\\\\n",
       "\\hline\n",
       "\t 1998 & 5282.724 & 247882 & 336.521 & 1248.377 & 2280 & 708.325 & 99.57162 & 678 &  8989 & 880.061 & 255.100 & 401\\\\\n",
       "\t 1999 & 5746.060 & 239549 & 312.226 & 1342.316 & 2507 & 804.873 & 91.80072 & 762 & 11875 & 921.247 & 315.973 & 505\\\\\n",
       "\t 2000 & 5675.890 & 251854 & 318.195 & 1358.464 & 2233 & 822.658 & 99.58931 & 904 & 11139 & 884.750 & 447.877 & 425\\\\\n",
       "\t 2001 & 5065.060 & 241377 & 339.359 & 1297.229 & 2199 & 784.107 & 84.25344 & 727 & 11290 & 931.631 & 378.387 & 469\\\\\n",
       "\t 2002 & 4605.810 & 227767 & 192.320 & 1519.080 & 1872 & 891.164 & 77.68409 & 931 & 10527 & 807.413 & 402.246 & 443\\\\\n",
       "\t 2003 & 4780.600 & 256278 & 325.670 & 1480.070 & 1964 & 730.701 & 82.26853 & 724 & 11734 & 847.356 & 319.238 & 419\\\\\n",
       "\t 2004 & 5683.040 & 299914 & 353.800 & 1429.814 &  924 & 800.663 & 82.88405 & 789 &  8420 & 795.837 & 251.562 & 367\\\\\n",
       "\t 2005 & 5261.960 & 282311 & 350.170 & 1365.400 & 1118 & 903.202 & 78.91060 & 889 &  8394 & 745.446 & 324.319 & 435\\\\\n",
       "\t 2006 & 5351.610 & 282303 & 386.510 & 1171.000 & 1476 & 723.561 & 69.96081 & 724 &  7369 & 754.000 & 280.774 & 378\\\\\n",
       "\t 2007 & 4154.195 & 338295 & 407.880 & 1269.061 & 1423 & 834.909 & 66.95941 & 638 &  9237 & 798.200 & 326.600 & 540\\\\\n",
       "\t 2008 & 4508.344 & 312126 & 321.315 & 1302.563 & 1240 & 893.758 & 73.92247 & 862 &  8487 & 789.200 & 354.100 & 520\\\\\n",
       "\t 2009 & 4505.000 & 334052 & 495.346 & 1194.354 & 1123 & 851.856 & 65.80139 & 800 &  7491 & 867.120 & 304.400 & 583\\\\\n",
       "\t 2010 & 4219.541 & 339614 & 367.000 & 1237.219 & 1139 & 900.934 & 79.51161 & 853 &  8078 & 774.477 & 358.200 & 643\\\\\n",
       "\t 2011 & 4231.474 & 343043 & 404.660 & 1210.412 & 1061 & 896.916 & 66.76890 & 771 &  8180 & 875.533 & 348.631 & 635\\\\\n",
       "\t 2012 & 4200.000 & 375683 & 418.135 & 1099.300 & 1092 & 908.000 & 63.91401 & 827 &  8014 & 796.338 & 313.795 & 664\\\\\n",
       "\\end{tabular}\n"
      ],
      "text/markdown": [
       "\n",
       "A spec_tbl_df: 15 × 13\n",
       "\n",
       "| Year &lt;dbl&gt; | Apples, Fresh &lt;dbl&gt; | Corn &lt;dbl&gt; | Fresh Cherries,(Sweet&amp;Sour) &lt;dbl&gt; | Fresh Peaches &amp; Nectarines &lt;dbl&gt; | Grapefruit, Fresh &lt;dbl&gt; | Grapes, Fresh &lt;dbl&gt; | Honey &lt;dbl&gt; | Lemons/Limes, Fresh &lt;dbl&gt; | Oranges, Fresh &lt;dbl&gt; | Pears, Fresh &lt;dbl&gt; | Raisins &lt;dbl&gt; | Tangerines/Mandarins, Fresh &lt;dbl&gt; |\n",
       "|---|---|---|---|---|---|---|---|---|---|---|---|---|\n",
       "| 1998 | 5282.724 | 247882 | 336.521 | 1248.377 | 2280 | 708.325 | 99.57162 | 678 |  8989 | 880.061 | 255.100 | 401 |\n",
       "| 1999 | 5746.060 | 239549 | 312.226 | 1342.316 | 2507 | 804.873 | 91.80072 | 762 | 11875 | 921.247 | 315.973 | 505 |\n",
       "| 2000 | 5675.890 | 251854 | 318.195 | 1358.464 | 2233 | 822.658 | 99.58931 | 904 | 11139 | 884.750 | 447.877 | 425 |\n",
       "| 2001 | 5065.060 | 241377 | 339.359 | 1297.229 | 2199 | 784.107 | 84.25344 | 727 | 11290 | 931.631 | 378.387 | 469 |\n",
       "| 2002 | 4605.810 | 227767 | 192.320 | 1519.080 | 1872 | 891.164 | 77.68409 | 931 | 10527 | 807.413 | 402.246 | 443 |\n",
       "| 2003 | 4780.600 | 256278 | 325.670 | 1480.070 | 1964 | 730.701 | 82.26853 | 724 | 11734 | 847.356 | 319.238 | 419 |\n",
       "| 2004 | 5683.040 | 299914 | 353.800 | 1429.814 |  924 | 800.663 | 82.88405 | 789 |  8420 | 795.837 | 251.562 | 367 |\n",
       "| 2005 | 5261.960 | 282311 | 350.170 | 1365.400 | 1118 | 903.202 | 78.91060 | 889 |  8394 | 745.446 | 324.319 | 435 |\n",
       "| 2006 | 5351.610 | 282303 | 386.510 | 1171.000 | 1476 | 723.561 | 69.96081 | 724 |  7369 | 754.000 | 280.774 | 378 |\n",
       "| 2007 | 4154.195 | 338295 | 407.880 | 1269.061 | 1423 | 834.909 | 66.95941 | 638 |  9237 | 798.200 | 326.600 | 540 |\n",
       "| 2008 | 4508.344 | 312126 | 321.315 | 1302.563 | 1240 | 893.758 | 73.92247 | 862 |  8487 | 789.200 | 354.100 | 520 |\n",
       "| 2009 | 4505.000 | 334052 | 495.346 | 1194.354 | 1123 | 851.856 | 65.80139 | 800 |  7491 | 867.120 | 304.400 | 583 |\n",
       "| 2010 | 4219.541 | 339614 | 367.000 | 1237.219 | 1139 | 900.934 | 79.51161 | 853 |  8078 | 774.477 | 358.200 | 643 |\n",
       "| 2011 | 4231.474 | 343043 | 404.660 | 1210.412 | 1061 | 896.916 | 66.76890 | 771 |  8180 | 875.533 | 348.631 | 635 |\n",
       "| 2012 | 4200.000 | 375683 | 418.135 | 1099.300 | 1092 | 908.000 | 63.91401 | 827 |  8014 | 796.338 | 313.795 | 664 |\n",
       "\n"
      ],
      "text/plain": [
       "   Year Apples, Fresh Corn   Fresh Cherries,(Sweet&Sour)\n",
       "1  1998 5282.724      247882 336.521                    \n",
       "2  1999 5746.060      239549 312.226                    \n",
       "3  2000 5675.890      251854 318.195                    \n",
       "4  2001 5065.060      241377 339.359                    \n",
       "5  2002 4605.810      227767 192.320                    \n",
       "6  2003 4780.600      256278 325.670                    \n",
       "7  2004 5683.040      299914 353.800                    \n",
       "8  2005 5261.960      282311 350.170                    \n",
       "9  2006 5351.610      282303 386.510                    \n",
       "10 2007 4154.195      338295 407.880                    \n",
       "11 2008 4508.344      312126 321.315                    \n",
       "12 2009 4505.000      334052 495.346                    \n",
       "13 2010 4219.541      339614 367.000                    \n",
       "14 2011 4231.474      343043 404.660                    \n",
       "15 2012 4200.000      375683 418.135                    \n",
       "   Fresh Peaches & Nectarines Grapefruit, Fresh Grapes, Fresh Honey   \n",
       "1  1248.377                   2280              708.325       99.57162\n",
       "2  1342.316                   2507              804.873       91.80072\n",
       "3  1358.464                   2233              822.658       99.58931\n",
       "4  1297.229                   2199              784.107       84.25344\n",
       "5  1519.080                   1872              891.164       77.68409\n",
       "6  1480.070                   1964              730.701       82.26853\n",
       "7  1429.814                    924              800.663       82.88405\n",
       "8  1365.400                   1118              903.202       78.91060\n",
       "9  1171.000                   1476              723.561       69.96081\n",
       "10 1269.061                   1423              834.909       66.95941\n",
       "11 1302.563                   1240              893.758       73.92247\n",
       "12 1194.354                   1123              851.856       65.80139\n",
       "13 1237.219                   1139              900.934       79.51161\n",
       "14 1210.412                   1061              896.916       66.76890\n",
       "15 1099.300                   1092              908.000       63.91401\n",
       "   Lemons/Limes, Fresh Oranges, Fresh Pears, Fresh Raisins\n",
       "1  678                  8989          880.061      255.100\n",
       "2  762                 11875          921.247      315.973\n",
       "3  904                 11139          884.750      447.877\n",
       "4  727                 11290          931.631      378.387\n",
       "5  931                 10527          807.413      402.246\n",
       "6  724                 11734          847.356      319.238\n",
       "7  789                  8420          795.837      251.562\n",
       "8  889                  8394          745.446      324.319\n",
       "9  724                  7369          754.000      280.774\n",
       "10 638                  9237          798.200      326.600\n",
       "11 862                  8487          789.200      354.100\n",
       "12 800                  7491          867.120      304.400\n",
       "13 853                  8078          774.477      358.200\n",
       "14 771                  8180          875.533      348.631\n",
       "15 827                  8014          796.338      313.795\n",
       "   Tangerines/Mandarins, Fresh\n",
       "1  401                        \n",
       "2  505                        \n",
       "3  425                        \n",
       "4  469                        \n",
       "5  443                        \n",
       "6  419                        \n",
       "7  367                        \n",
       "8  435                        \n",
       "9  378                        \n",
       "10 540                        \n",
       "11 520                        \n",
       "12 583                        \n",
       "13 643                        \n",
       "14 635                        \n",
       "15 664                        "
      ]
     },
     "metadata": {},
     "output_type": "display_data"
    }
   ],
   "source": [
    "library(readr)\n",
    "FVH <- read_csv(\"C:/Users/sdstc/Documents/Education/Other/Entity Academy/Final Project/Final Project/Datasets for Final Project/First Choice Dataset/pivoted_usdaHoney2.csv\")\n",
    "View(FVH)"
   ]
  },
  {
   "cell_type": "code",
   "execution_count": 8,
   "id": "6168066f-cca5-44cd-a871-69f42aa4a844",
   "metadata": {},
   "outputs": [
    {
     "data": {
      "text/plain": [
       "\n",
       "Call:\n",
       "lm(formula = Honey ~ ., data = FVH)\n",
       "\n",
       "Coefficients:\n",
       "                  (Intercept)                           Year  \n",
       "                    1.267e+04                     -6.259e+00  \n",
       "              `Apples, Fresh`                           Corn  \n",
       "                    5.291e-03                      1.364e-04  \n",
       "`Fresh Cherries,(Sweet&Sour)`   `Fresh Peaches & Nectarines`  \n",
       "                   -5.479e-02                     -3.090e-03  \n",
       "          `Grapefruit, Fresh`                `Grapes, Fresh`  \n",
       "                   -2.498e-02                     -1.971e-01  \n",
       "        `Lemons/Limes, Fresh`               `Oranges, Fresh`  \n",
       "                    5.201e-02                     -1.691e-04  \n",
       "               `Pears, Fresh`                        Raisins  \n",
       "                   -3.576e-02                      9.258e-02  \n",
       "`Tangerines/Mandarins, Fresh`  \n",
       "                    1.611e-01  \n"
      ]
     },
     "metadata": {},
     "output_type": "display_data"
    }
   ],
   "source": [
    "#BACKWARD SELECTION\n",
    "FitAll1 <- lm(Honey ~ ., data = FVH)\n",
    "FitAll1"
   ]
  },
  {
   "cell_type": "code",
   "execution_count": 10,
   "id": "ad9258fa-69c2-4394-9646-7c6c77d193ad",
   "metadata": {},
   "outputs": [
    {
     "data": {
      "text/plain": [
       "\n",
       "Call:\n",
       "lm(formula = Honey ~ ., data = FVH)\n",
       "\n",
       "Residuals:\n",
       "      1       2       3       4       5       6       7       8       9      10 \n",
       " 2.9093 -1.0572  0.5880 -1.0572 -4.7136  3.1154 -2.6728  4.2037 -2.1135 -2.0352 \n",
       "     11      12      13      14      15 \n",
       " 3.8525 -2.6733  0.6032  2.8990 -1.8485 \n",
       "\n",
       "Coefficients:\n",
       "                                Estimate Std. Error t value Pr(>|t|)\n",
       "(Intercept)                    1.267e+04  7.064e+03   1.793    0.215\n",
       "Year                          -6.259e+00  3.444e+00  -1.818    0.211\n",
       "`Apples, Fresh`                5.291e-03  1.097e-02   0.482    0.677\n",
       "Corn                           1.364e-04  2.095e-04   0.651    0.582\n",
       "`Fresh Cherries,(Sweet&Sour)` -5.479e-02  7.788e-02  -0.704    0.555\n",
       "`Fresh Peaches & Nectarines`  -3.090e-03  8.276e-02  -0.037    0.974\n",
       "`Grapefruit, Fresh`           -2.498e-02  3.491e-02  -0.716    0.549\n",
       "`Grapes, Fresh`               -1.971e-01  1.245e-01  -1.584    0.254\n",
       "`Lemons/Limes, Fresh`          5.201e-02  6.484e-02   0.802    0.507\n",
       "`Oranges, Fresh`              -1.691e-04  6.758e-03  -0.025    0.982\n",
       "`Pears, Fresh`                -3.576e-02  8.004e-02  -0.447    0.699\n",
       "Raisins                        9.258e-02  8.895e-02   1.041    0.407\n",
       "`Tangerines/Mandarins, Fresh`  1.611e-01  1.169e-01   1.378    0.302\n",
       "\n",
       "Residual standard error: 7.435 on 2 degrees of freedom\n",
       "Multiple R-squared:  0.9409,\tAdjusted R-squared:  0.5861 \n",
       "F-statistic: 2.652 on 12 and 2 DF,  p-value: 0.3063\n"
      ]
     },
     "metadata": {},
     "output_type": "display_data"
    }
   ],
   "source": [
    "summary(FitAll1)"
   ]
  },
  {
   "cell_type": "code",
   "execution_count": 11,
   "id": "2995d83a-c9f7-4edc-acc7-2f00fbed3f6d",
   "metadata": {},
   "outputs": [],
   "source": [
    "#The overall p value at the bottom is not significant and  none of the individual\n",
    "#predictors are, meaning that the model is  not a good fit; what the independent\n",
    "#variables are does not really matter.\n",
    "\n",
    "#Once you have created a new model after backward elimination, you can compare the\n",
    "#above model summary with all 10 predictors against what R has helped determine is the best fit."
   ]
  },
  {
   "cell_type": "code",
   "execution_count": 12,
   "id": "694d744c-56ab-44c0-9d30-bde5b0094a77",
   "metadata": {},
   "outputs": [
    {
     "name": "stdout",
     "output_type": "stream",
     "text": [
      "Start:  AIC=55.96\n",
      "Honey ~ Year + `Apples, Fresh` + Corn + `Fresh Cherries,(Sweet&Sour)` + \n",
      "    `Fresh Peaches & Nectarines` + `Grapefruit, Fresh` + `Grapes, Fresh` + \n",
      "    `Lemons/Limes, Fresh` + `Oranges, Fresh` + `Pears, Fresh` + \n",
      "    Raisins + `Tangerines/Mandarins, Fresh`\n",
      "\n",
      "                                Df Sum of Sq    RSS    AIC\n",
      "- `Oranges, Fresh`               1     0.035 110.60 53.968\n",
      "- `Fresh Peaches & Nectarines`   1     0.077 110.64 53.974\n",
      "- `Pears, Fresh`                 1    11.032 121.60 55.390\n",
      "- `Apples, Fresh`                1    12.864 123.43 55.614\n",
      "<none>                                       110.57 55.963\n",
      "- Corn                           1    23.437 134.00 56.847\n",
      "- `Fresh Cherries,(Sweet&Sour)`  1    27.363 137.93 57.280\n",
      "- `Grapefruit, Fresh`            1    28.306 138.87 57.383\n",
      "- `Lemons/Limes, Fresh`          1    35.569 146.13 58.147\n",
      "- Raisins                        1    59.888 170.46 60.456\n",
      "- `Tangerines/Mandarins, Fresh`  1   105.024 215.59 63.980\n",
      "- `Grapes, Fresh`                1   138.633 249.20 66.153\n",
      "- Year                           1   182.629 293.19 68.592\n",
      "\n",
      "Step:  AIC=53.97\n",
      "Honey ~ Year + `Apples, Fresh` + Corn + `Fresh Cherries,(Sweet&Sour)` + \n",
      "    `Fresh Peaches & Nectarines` + `Grapefruit, Fresh` + `Grapes, Fresh` + \n",
      "    `Lemons/Limes, Fresh` + `Pears, Fresh` + Raisins + `Tangerines/Mandarins, Fresh`\n",
      "\n",
      "                                Df Sum of Sq    RSS    AIC\n",
      "- `Fresh Peaches & Nectarines`   1     1.086 111.69 52.115\n",
      "- `Pears, Fresh`                 1    12.029 122.63 53.517\n",
      "<none>                                       110.60 53.968\n",
      "- `Apples, Fresh`                1    19.734 130.34 54.431\n",
      "- Corn                           1    25.774 136.37 55.110\n",
      "- `Fresh Cherries,(Sweet&Sour)`  1    27.600 138.20 55.310\n",
      "- `Lemons/Limes, Fresh`          1    52.034 162.64 57.752\n",
      "- Raisins                        1    62.980 173.58 58.729\n",
      "- `Grapefruit, Fresh`            1    69.954 180.56 59.320\n",
      "- `Tangerines/Mandarins, Fresh`  1   105.320 215.92 62.003\n",
      "- `Grapes, Fresh`                1   154.875 265.48 65.102\n",
      "- Year                           1   283.550 394.15 71.030\n",
      "\n",
      "Step:  AIC=52.11\n",
      "Honey ~ Year + `Apples, Fresh` + Corn + `Fresh Cherries,(Sweet&Sour)` + \n",
      "    `Grapefruit, Fresh` + `Grapes, Fresh` + `Lemons/Limes, Fresh` + \n",
      "    `Pears, Fresh` + Raisins + `Tangerines/Mandarins, Fresh`\n",
      "\n",
      "                                Df Sum of Sq    RSS    AIC\n",
      "- `Pears, Fresh`                 1    14.347 126.03 51.928\n",
      "<none>                                       111.69 52.115\n",
      "- `Apples, Fresh`                1    23.695 135.38 53.001\n",
      "- Corn                           1    27.760 139.45 53.445\n",
      "- `Fresh Cherries,(Sweet&Sour)`  1    28.056 139.74 53.476\n",
      "- `Lemons/Limes, Fresh`          1    52.479 164.17 55.892\n",
      "- Raisins                        1    61.900 173.59 56.729\n",
      "- `Grapefruit, Fresh`            1    72.560 184.25 57.623\n",
      "- `Tangerines/Mandarins, Fresh`  1   107.599 219.29 60.235\n",
      "- `Grapes, Fresh`                1   154.907 266.59 63.165\n",
      "- Year                           1   294.386 406.07 69.477\n",
      "\n",
      "Step:  AIC=51.93\n",
      "Honey ~ Year + `Apples, Fresh` + Corn + `Fresh Cherries,(Sweet&Sour)` + \n",
      "    `Grapefruit, Fresh` + `Grapes, Fresh` + `Lemons/Limes, Fresh` + \n",
      "    Raisins + `Tangerines/Mandarins, Fresh`\n",
      "\n",
      "                                Df Sum of Sq    RSS    AIC\n",
      "- `Apples, Fresh`                1    17.131 143.17 51.839\n",
      "<none>                                       126.03 51.928\n",
      "- `Fresh Cherries,(Sweet&Sour)`  1    45.893 171.93 54.585\n",
      "- Raisins                        1    47.623 173.66 54.736\n",
      "- Corn                           1    57.651 183.68 55.578\n",
      "- `Grapefruit, Fresh`            1    58.967 185.00 55.685\n",
      "- `Lemons/Limes, Fresh`          1    66.384 192.42 56.274\n",
      "- `Tangerines/Mandarins, Fresh`  1   107.018 233.05 59.148\n",
      "- `Grapes, Fresh`                1   140.864 266.90 61.182\n",
      "- Year                           1   304.170 430.20 68.343\n",
      "\n",
      "Step:  AIC=51.84\n",
      "Honey ~ Year + Corn + `Fresh Cherries,(Sweet&Sour)` + `Grapefruit, Fresh` + \n",
      "    `Grapes, Fresh` + `Lemons/Limes, Fresh` + Raisins + `Tangerines/Mandarins, Fresh`\n",
      "\n",
      "                                Df Sum of Sq    RSS    AIC\n",
      "<none>                                       143.17 51.839\n",
      "- `Fresh Cherries,(Sweet&Sour)`  1     30.06 173.22 52.698\n",
      "- Raisins                        1     35.58 178.74 53.168\n",
      "- `Grapefruit, Fresh`            1     52.93 196.09 54.558\n",
      "- Corn                           1     67.06 210.22 55.602\n",
      "- `Tangerines/Mandarins, Fresh`  1     91.43 234.59 57.247\n",
      "- `Grapes, Fresh`                1    138.91 282.07 60.012\n",
      "- `Lemons/Limes, Fresh`          1    145.07 288.23 60.336\n",
      "- Year                           1    395.87 539.03 69.726\n"
     ]
    },
    {
     "data": {
      "text/plain": [
       "\n",
       "Call:\n",
       "lm(formula = Honey ~ Year + Corn + `Fresh Cherries,(Sweet&Sour)` + \n",
       "    `Grapefruit, Fresh` + `Grapes, Fresh` + `Lemons/Limes, Fresh` + \n",
       "    Raisins + `Tangerines/Mandarins, Fresh`, data = FVH)\n",
       "\n",
       "Coefficients:\n",
       "                  (Intercept)                           Year  \n",
       "                    1.210e+04                     -5.992e+00  \n",
       "                         Corn  `Fresh Cherries,(Sweet&Sour)`  \n",
       "                    1.932e-04                     -4.407e-02  \n",
       "          `Grapefruit, Fresh`                `Grapes, Fresh`  \n",
       "                   -1.953e-02                     -1.760e-01  \n",
       "        `Lemons/Limes, Fresh`                        Raisins  \n",
       "                    7.398e-02                      5.853e-02  \n",
       "`Tangerines/Mandarins, Fresh`  \n",
       "                    1.103e-01  \n"
      ]
     },
     "metadata": {},
     "output_type": "display_data"
    }
   ],
   "source": [
    "step(FitAll1, direction = 'backward')"
   ]
  },
  {
   "cell_type": "code",
   "execution_count": 13,
   "id": "c5b6ed8b-bfa6-4cff-b219-8a04321e8ad5",
   "metadata": {},
   "outputs": [],
   "source": [
    "#According to the the backwards stepwise regression, if none of the predictors\n",
    "#were removed, it would yield the lowest AIC score of 51.84."
   ]
  },
  {
   "cell_type": "code",
   "execution_count": 14,
   "id": "e02be64e-60a1-4acc-95ff-76bcebc6ee90",
   "metadata": {},
   "outputs": [
    {
     "data": {
      "text/plain": [
       "\n",
       "Call:\n",
       "lm(formula = Honey ~ Year + Corn + `Fresh Cherries,(Sweet&Sour)` + \n",
       "    `Grapefruit, Fresh` + `Grapes, Fresh` + `Lemons/Limes, Fresh` + \n",
       "    Raisins + `Tangerines/Mandarins, Fresh`, data = FVH)\n",
       "\n",
       "Coefficients:\n",
       "                  (Intercept)                           Year  \n",
       "                    1.210e+04                     -5.992e+00  \n",
       "                         Corn  `Fresh Cherries,(Sweet&Sour)`  \n",
       "                    1.932e-04                     -4.407e-02  \n",
       "          `Grapefruit, Fresh`                `Grapes, Fresh`  \n",
       "                   -1.953e-02                     -1.760e-01  \n",
       "        `Lemons/Limes, Fresh`                        Raisins  \n",
       "                    7.398e-02                      5.853e-02  \n",
       "`Tangerines/Mandarins, Fresh`  \n",
       "                    1.103e-01  \n"
      ]
     },
     "metadata": {},
     "output_type": "display_data"
    }
   ],
   "source": [
    "#Create another model for only selected variables and compare their results\n",
    "fitsome <- lm(formula = Honey ~ Year + Corn + `Fresh Cherries,(Sweet&Sour)` + \n",
    "                `Grapefruit, Fresh` + `Grapes, Fresh` + `Lemons/Limes, Fresh` + \n",
    "                Raisins + `Tangerines/Mandarins, Fresh`, data = FVH)\n",
    "fitsome"
   ]
  },
  {
   "cell_type": "code",
   "execution_count": 15,
   "id": "cf2a8f24-7134-474d-ad9a-751eb46ce1f0",
   "metadata": {},
   "outputs": [
    {
     "data": {
      "text/plain": [
       "\n",
       "Call:\n",
       "lm(formula = Honey ~ Year + Corn + `Fresh Cherries,(Sweet&Sour)` + \n",
       "    `Grapefruit, Fresh` + `Grapes, Fresh` + `Lemons/Limes, Fresh` + \n",
       "    Raisins + `Tangerines/Mandarins, Fresh`, data = FVH)\n",
       "\n",
       "Residuals:\n",
       "    Min      1Q  Median      3Q     Max \n",
       "-6.2633 -2.3364  0.8131  2.3388  5.3002 \n",
       "\n",
       "Coefficients:\n",
       "                                Estimate Std. Error t value Pr(>|t|)   \n",
       "(Intercept)                    1.210e+04  2.969e+03   4.074  0.00654 **\n",
       "Year                          -5.992e+00  1.471e+00  -4.073  0.00655 **\n",
       "Corn                           1.932e-04  1.152e-04   1.676  0.14468   \n",
       "`Fresh Cherries,(Sweet&Sour)` -4.407e-02  3.927e-02  -1.122  0.30460   \n",
       "`Grapefruit, Fresh`           -1.953e-02  1.312e-02  -1.489  0.18697   \n",
       "`Grapes, Fresh`               -1.760e-01  7.295e-02  -2.413  0.05238 . \n",
       "`Lemons/Limes, Fresh`          7.398e-02  3.000e-02   2.466  0.04874 * \n",
       "Raisins                        5.853e-02  4.794e-02   1.221  0.26787   \n",
       "`Tangerines/Mandarins, Fresh`  1.103e-01  5.636e-02   1.957  0.09804 . \n",
       "---\n",
       "Signif. codes:  0 '***' 0.001 '**' 0.01 '*' 0.05 '.' 0.1 ' ' 1\n",
       "\n",
       "Residual standard error: 4.885 on 6 degrees of freedom\n",
       "Multiple R-squared:  0.9234,\tAdjusted R-squared:  0.8214 \n",
       "F-statistic: 9.047 on 8 and 6 DF,  p-value: 0.00752\n"
      ]
     },
     "metadata": {},
     "output_type": "display_data"
    }
   ],
   "source": [
    "summary(fitsome)"
   ]
  },
  {
   "cell_type": "code",
   "execution_count": 16,
   "id": "351b6e47-79bd-418b-bf67-78a15921f92c",
   "metadata": {},
   "outputs": [
    {
     "data": {
      "text/plain": [
       "\n",
       "Call:\n",
       "lm(formula = Honey ~ 1, data = FVH)\n",
       "\n",
       "Residuals:\n",
       "     Min       1Q   Median       3Q      Max \n",
       "-15.0061 -10.4600  -0.0095   4.6487  20.6692 \n",
       "\n",
       "Coefficients:\n",
       "            Estimate Std. Error t value Pr(>|t|)    \n",
       "(Intercept)   78.920      2.984   26.45 2.37e-13 ***\n",
       "---\n",
       "Signif. codes:  0 '***' 0.001 '**' 0.01 '*' 0.05 '.' 0.1 ' ' 1\n",
       "\n",
       "Residual standard error: 11.56 on 14 degrees of freedom\n"
      ]
     },
     "metadata": {},
     "output_type": "display_data"
    }
   ],
   "source": [
    "#Forward Selection\n",
    "FitAll2 <- lm(Honey ~ 1, data = FVH)\n",
    "summary(FitAll2)"
   ]
  },
  {
   "cell_type": "code",
   "execution_count": 17,
   "id": "88ab34d2-2459-43c4-b695-b6b3bdcb205b",
   "metadata": {},
   "outputs": [
    {
     "name": "stdout",
     "output_type": "stream",
     "text": [
      "Start:  AIC=74.39\n",
      "Honey ~ 1\n",
      "\n",
      "                                Df Sum of Sq     RSS    AIC\n",
      "+ Year                           1   1412.18  457.91 55.279\n",
      "+ Corn                           1   1043.89  826.21 64.132\n",
      "+ `Grapefruit, Fresh`            1   1043.82  826.28 64.133\n",
      "+ `Apples, Fresh`                1    991.97  878.12 65.046\n",
      "+ `Oranges, Fresh`               1    697.15 1172.95 69.388\n",
      "+ `Tangerines/Mandarins, Fresh`  1    592.55 1277.55 70.670\n",
      "+ `Fresh Cherries,(Sweet&Sour)`  1    541.50 1328.60 71.257\n",
      "+ `Grapes, Fresh`                1    424.78 1445.32 72.520\n",
      "+ `Pears, Fresh`                 1    415.82 1454.28 72.613\n",
      "+ `Fresh Peaches & Nectarines`   1    377.75 1492.35 73.001\n",
      "<none>                                       1870.10 74.385\n",
      "+ Raisins                        1     41.25 1828.85 76.051\n",
      "+ `Lemons/Limes, Fresh`          1      3.25 1866.85 76.359\n",
      "\n",
      "Step:  AIC=55.28\n",
      "Honey ~ Year\n",
      "\n",
      "                                Df Sum of Sq    RSS    AIC\n",
      "<none>                                       457.91 55.279\n",
      "+ Corn                           1    49.639 408.28 55.558\n",
      "+ `Lemons/Limes, Fresh`          1    44.798 413.12 55.735\n",
      "+ `Tangerines/Mandarins, Fresh`  1    34.210 423.71 56.115\n",
      "+ `Apples, Fresh`                1    18.057 439.86 56.676\n",
      "+ `Grapes, Fresh`                1    14.126 443.79 56.809\n",
      "+ Raisins                        1    13.767 444.15 56.822\n",
      "+ `Fresh Peaches & Nectarines`   1     6.523 451.39 57.064\n",
      "+ `Pears, Fresh`                 1     3.203 454.71 57.174\n",
      "+ `Oranges, Fresh`               1     1.140 456.77 57.242\n",
      "+ `Grapefruit, Fresh`            1     0.025 457.89 57.279\n",
      "+ `Fresh Cherries,(Sweet&Sour)`  1     0.011 457.90 57.279\n"
     ]
    },
    {
     "data": {
      "text/plain": [
       "\n",
       "Call:\n",
       "lm(formula = Honey ~ Year, data = FVH)\n",
       "\n",
       "Coefficients:\n",
       "(Intercept)         Year  \n",
       "   4581.701       -2.246  \n"
      ]
     },
     "metadata": {},
     "output_type": "display_data"
    }
   ],
   "source": [
    "step(FitAll2, direction = 'forward', scope = (formula(FitAll1)))"
   ]
  },
  {
   "cell_type": "code",
   "execution_count": 18,
   "id": "11516b8b-5612-48e1-85fc-0066f072e80d",
   "metadata": {},
   "outputs": [
    {
     "name": "stdout",
     "output_type": "stream",
     "text": [
      "Start:  AIC=74.39\n",
      "Honey ~ 1\n",
      "\n",
      "                                Df Sum of Sq     RSS    AIC\n",
      "+ Year                           1   1412.18  457.91 55.279\n",
      "+ Corn                           1   1043.89  826.21 64.132\n",
      "+ `Grapefruit, Fresh`            1   1043.82  826.28 64.133\n",
      "+ `Apples, Fresh`                1    991.97  878.12 65.046\n",
      "+ `Oranges, Fresh`               1    697.15 1172.95 69.388\n",
      "+ `Tangerines/Mandarins, Fresh`  1    592.55 1277.55 70.670\n",
      "+ `Fresh Cherries,(Sweet&Sour)`  1    541.50 1328.60 71.257\n",
      "+ `Grapes, Fresh`                1    424.78 1445.32 72.520\n",
      "+ `Pears, Fresh`                 1    415.82 1454.28 72.613\n",
      "+ `Fresh Peaches & Nectarines`   1    377.75 1492.35 73.001\n",
      "<none>                                       1870.10 74.385\n",
      "+ Raisins                        1     41.25 1828.85 76.051\n",
      "+ `Lemons/Limes, Fresh`          1      3.25 1866.85 76.359\n",
      "\n",
      "Step:  AIC=55.28\n",
      "Honey ~ Year\n",
      "\n",
      "                                Df Sum of Sq     RSS    AIC\n",
      "<none>                                        457.91 55.279\n",
      "+ Corn                           1     49.64  408.28 55.558\n",
      "+ `Lemons/Limes, Fresh`          1     44.80  413.12 55.735\n",
      "+ `Tangerines/Mandarins, Fresh`  1     34.21  423.71 56.115\n",
      "+ `Apples, Fresh`                1     18.06  439.86 56.676\n",
      "+ `Grapes, Fresh`                1     14.13  443.79 56.809\n",
      "+ Raisins                        1     13.77  444.15 56.822\n",
      "+ `Fresh Peaches & Nectarines`   1      6.52  451.39 57.064\n",
      "+ `Pears, Fresh`                 1      3.20  454.71 57.174\n",
      "+ `Oranges, Fresh`               1      1.14  456.77 57.242\n",
      "+ `Grapefruit, Fresh`            1      0.03  457.89 57.279\n",
      "+ `Fresh Cherries,(Sweet&Sour)`  1      0.01  457.90 57.279\n",
      "- Year                           1   1412.18 1870.10 74.385\n"
     ]
    },
    {
     "data": {
      "text/plain": [
       "\n",
       "Call:\n",
       "lm(formula = Honey ~ Year, data = FVH)\n",
       "\n",
       "Coefficients:\n",
       "(Intercept)         Year  \n",
       "   4581.701       -2.246  \n"
      ]
     },
     "metadata": {},
     "output_type": "display_data"
    }
   ],
   "source": [
    "#StepWise\n",
    "step(FitAll2, direction = 'both', scope = formula(FitAll1))"
   ]
  },
  {
   "cell_type": "code",
   "execution_count": 19,
   "id": "fe643fb2-d0cf-4660-83c1-3b43ea0c0a16",
   "metadata": {},
   "outputs": [
    {
     "data": {
      "text/plain": [
       "\n",
       "Call:\n",
       "lm(formula = Honey ~ Year, data = FVH)\n",
       "\n",
       "Residuals:\n",
       "    Min      1Q  Median      3Q     Max \n",
       "-7.9733 -3.8926 -0.0095  1.7290 11.8204 \n",
       "\n",
       "Coefficients:\n",
       "             Estimate Std. Error t value Pr(>|t|)    \n",
       "(Intercept) 4581.7008   711.1430   6.443 2.19e-05 ***\n",
       "Year          -2.2458     0.3547  -6.332 2.61e-05 ***\n",
       "---\n",
       "Signif. codes:  0 '***' 0.001 '**' 0.01 '*' 0.05 '.' 0.1 ' ' 1\n",
       "\n",
       "Residual standard error: 5.935 on 13 degrees of freedom\n",
       "Multiple R-squared:  0.7551,\tAdjusted R-squared:  0.7363 \n",
       "F-statistic: 40.09 on 1 and 13 DF,  p-value: 2.61e-05\n"
      ]
     },
     "metadata": {},
     "output_type": "display_data"
    }
   ],
   "source": [
    "fitsome1 <- lm(formula = Honey ~ Year, data = FVH)\n",
    "summary(fitsome1)"
   ]
  },
  {
   "cell_type": "code",
   "execution_count": 20,
   "id": "0ea9305f-4eed-4902-86c1-71f17852bba2",
   "metadata": {},
   "outputs": [
    {
     "data": {
      "text/plain": [
       "\n",
       "Call:\n",
       "lm(formula = Honey ~ Year + Corn + `Fresh Cherries,(Sweet&Sour)` + \n",
       "    `Grapefruit, Fresh` + `Grapes, Fresh` + `Lemons/Limes, Fresh` + \n",
       "    Raisins + `Tangerines/Mandarins, Fresh`, data = FVH)\n",
       "\n",
       "Coefficients:\n",
       "                  (Intercept)                           Year  \n",
       "                    1.210e+04                     -5.992e+00  \n",
       "                         Corn  `Fresh Cherries,(Sweet&Sour)`  \n",
       "                    1.932e-04                     -4.407e-02  \n",
       "          `Grapefruit, Fresh`                `Grapes, Fresh`  \n",
       "                   -1.953e-02                     -1.760e-01  \n",
       "        `Lemons/Limes, Fresh`                        Raisins  \n",
       "                    7.398e-02                      5.853e-02  \n",
       "`Tangerines/Mandarins, Fresh`  \n",
       "                    1.103e-01  \n"
      ]
     },
     "metadata": {},
     "output_type": "display_data"
    }
   ],
   "source": [
    "#Which model is the best? Why?\n",
    "bestmodel <- lm(formula = Honey ~ Year + Corn + `Fresh Cherries,(Sweet&Sour)` + \n",
    "                  `Grapefruit, Fresh` + `Grapes, Fresh` + `Lemons/Limes, Fresh` + \n",
    "                  Raisins + `Tangerines/Mandarins, Fresh`, data = FVH)\n",
    "bestmodel"
   ]
  },
  {
   "cell_type": "code",
   "execution_count": 21,
   "id": "9bbc4b4b-ad32-4fee-bc9e-e40a4e235b11",
   "metadata": {},
   "outputs": [
    {
     "data": {
      "text/plain": [
       "\n",
       "Call:\n",
       "lm(formula = Honey ~ Year + Corn + `Fresh Cherries,(Sweet&Sour)` + \n",
       "    `Grapefruit, Fresh` + `Grapes, Fresh` + `Lemons/Limes, Fresh` + \n",
       "    Raisins + `Tangerines/Mandarins, Fresh`, data = FVH)\n",
       "\n",
       "Residuals:\n",
       "    Min      1Q  Median      3Q     Max \n",
       "-6.2633 -2.3364  0.8131  2.3388  5.3002 \n",
       "\n",
       "Coefficients:\n",
       "                                Estimate Std. Error t value Pr(>|t|)   \n",
       "(Intercept)                    1.210e+04  2.969e+03   4.074  0.00654 **\n",
       "Year                          -5.992e+00  1.471e+00  -4.073  0.00655 **\n",
       "Corn                           1.932e-04  1.152e-04   1.676  0.14468   \n",
       "`Fresh Cherries,(Sweet&Sour)` -4.407e-02  3.927e-02  -1.122  0.30460   \n",
       "`Grapefruit, Fresh`           -1.953e-02  1.312e-02  -1.489  0.18697   \n",
       "`Grapes, Fresh`               -1.760e-01  7.295e-02  -2.413  0.05238 . \n",
       "`Lemons/Limes, Fresh`          7.398e-02  3.000e-02   2.466  0.04874 * \n",
       "Raisins                        5.853e-02  4.794e-02   1.221  0.26787   \n",
       "`Tangerines/Mandarins, Fresh`  1.103e-01  5.636e-02   1.957  0.09804 . \n",
       "---\n",
       "Signif. codes:  0 '***' 0.001 '**' 0.01 '*' 0.05 '.' 0.1 ' ' 1\n",
       "\n",
       "Residual standard error: 4.885 on 6 degrees of freedom\n",
       "Multiple R-squared:  0.9234,\tAdjusted R-squared:  0.8214 \n",
       "F-statistic: 9.047 on 8 and 6 DF,  p-value: 0.00752\n"
      ]
     },
     "metadata": {},
     "output_type": "display_data"
    }
   ],
   "source": [
    "summary(bestmodel)"
   ]
  },
  {
   "cell_type": "markdown",
   "id": "a97a5af8-3302-4b5d-b726-734685cbe00f",
   "metadata": {},
   "source": [
    "### From the best model, what is the adjusted R2 value and what does it mean?\n",
    "### The adjusted R^2 is equal to 0.8214, which ultimately judges whether the data in the regression equation is a good fit. The higher the adjusted R^2, the better the regression equation as it implies that the independent variable is chosen to determine the dependent variable.\n",
    "\n",
    "### From the best model, how does each variable influence Honey?\n",
    "### In this case, 82.14% implies that the independent variables explains only that amount of the variation in the dependent variable.\n",
    "\n",
    "\n",
    "### Which model was the best for each type of method?\n",
    "### fitsome was the best for this type of method, or lm(formula = Honey ~ Year + Corn + `Fresh Cherries,(Sweet&Sour)` + `Grapefruit, Fresh` + `Grapes, Fresh` + `Lemons/Limes, Fresh` + Raisins + `Tangerines/Mandarins, Fresh`, data = FVH)\n",
    "\n",
    "### How do the final models from each method compare to each other?\n",
    "### The AIC of fitsome was 51.84, the smallest out of all of the other models in the stepwise regression, which explains why it was chosen. The summary of the fitsome linear model exhibited characteristics of a \"good fit.\" In other words, the adjusted R^2 value was 82.14%, which means that the independent variable explained nearly 82% or all of the variation of the dependent variable.\n",
    "\n",
    "### From your chosen \"best model,\" explain what variable(s) contribute to predicting Y and for how much variance they account.\n",
    "###   Year, Corn, Fresh Cherries, Fresh Grapefruit, Fresh Grapes, Fresh Lemons/Limes, Raisins, and Fresh Tangerines/Mandarins."
   ]
  },
  {
   "cell_type": "code",
   "execution_count": null,
   "id": "e26edfb5-8048-4560-bec9-5ccdb228aa32",
   "metadata": {},
   "outputs": [],
   "source": []
  }
 ],
 "metadata": {
  "kernelspec": {
   "display_name": "R",
   "language": "R",
   "name": "ir"
  },
  "language_info": {
   "codemirror_mode": "r",
   "file_extension": ".r",
   "mimetype": "text/x-r-source",
   "name": "R",
   "pygments_lexer": "r",
   "version": "4.1.3"
  }
 },
 "nbformat": 4,
 "nbformat_minor": 5
}
