{
 "cells": [
  {
   "cell_type": "code",
   "execution_count": 3,
   "id": "3c1fa230-35ef-47bf-be81-50aca21f16f3",
   "metadata": {},
   "outputs": [
    {
     "name": "stdout",
     "output_type": "stream",
     "text": [
      "Note: you may need to restart the kernel to use updated packages.\n"
     ]
    },
    {
     "name": "stderr",
     "output_type": "stream",
     "text": [
      "ERROR: Could not find a version that satisfies the requirement pmdarim (from versions: none)\n",
      "ERROR: No matching distribution found for pmdarim\n",
      "WARNING: You are using pip version 22.0.4; however, version 22.1.2 is available.\n",
      "You should consider upgrading via the 'C:\\Python3\\python.exe -m pip install --upgrade pip' command.\n"
     ]
    }
   ],
   "source": [
    "pip install pmdarim"
   ]
  },
  {
   "cell_type": "code",
   "execution_count": 4,
   "id": "d7bd2711-6f46-42d3-929f-b074525258d9",
   "metadata": {},
   "outputs": [
    {
     "name": "stdout",
     "output_type": "stream",
     "text": [
      "Collecting sympy\n",
      "  Downloading sympy-1.10.1-py3-none-any.whl (6.4 MB)\n",
      "     ---------------------------------------- 6.4/6.4 MB 4.7 MB/s eta 0:00:00\n",
      "Collecting mpmath>=0.19\n",
      "  Downloading mpmath-1.2.1-py3-none-any.whl (532 kB)\n",
      "     -------------------------------------- 532.6/532.6 KB 3.0 MB/s eta 0:00:00\n",
      "Installing collected packages: mpmath, sympy\n",
      "Successfully installed mpmath-1.2.1 sympy-1.10.1\n",
      "Note: you may need to restart the kernel to use updated packages.\n"
     ]
    },
    {
     "name": "stderr",
     "output_type": "stream",
     "text": [
      "WARNING: You are using pip version 22.0.4; however, version 22.1.2 is available.\n",
      "You should consider upgrading via the 'C:\\Python3\\python.exe -m pip install --upgrade pip' command.\n"
     ]
    }
   ],
   "source": [
    "pip install sympy"
   ]
  },
  {
   "cell_type": "code",
   "execution_count": 5,
   "id": "8eb086fa-dffc-4f4b-be3c-f325d416a34a",
   "metadata": {},
   "outputs": [],
   "source": [
    "import pandas as pd\n",
    "import numpy as np\n",
    "import pmdarima as pm\n",
    "from pmdarima.arima import auto_arima\n",
    "from pmdarima.arima import ADFTest\n",
    "import matplotlib.pyplot as plt\n",
    "from matplotlib import pyplot\n",
    "from math import sqrt\n",
    "from numpy import split\n",
    "from numpy import array\n",
    "import statsmodels\n",
    "from statsmodels.tsa.arima.model import ARIMA\n",
    "from statsmodels.tsa.seasonal import seasonal_decompose\n",
    "from statsmodels.tsa.stattools import adfuller\n",
    "from statsmodels.graphics.tsaplots import plot_acf, plot_pacf\n",
    "from sklearn.metrics import mean_squared_error\n",
    "from sklearn.metrics import r2_score\n",
    "from sympy.solvers import solve\n",
    "from sympy import Symbol"
   ]
  },
  {
   "cell_type": "code",
   "execution_count": null,
   "id": "bba51058-6386-410e-ab51-cad60daf768e",
   "metadata": {},
   "outputs": [],
   "source": [
    "#import data"
   ]
  },
  {
   "cell_type": "code",
   "execution_count": 16,
   "id": "9f30c239-ae5d-4f89-abef-d632e7b5b1b1",
   "metadata": {},
   "outputs": [
    {
     "data": {
      "text/html": [
       "<div>\n",
       "<style scoped>\n",
       "    .dataframe tbody tr th:only-of-type {\n",
       "        vertical-align: middle;\n",
       "    }\n",
       "\n",
       "    .dataframe tbody tr th {\n",
       "        vertical-align: top;\n",
       "    }\n",
       "\n",
       "    .dataframe thead th {\n",
       "        text-align: right;\n",
       "    }\n",
       "</style>\n",
       "<table border=\"1\" class=\"dataframe\">\n",
       "  <thead>\n",
       "    <tr style=\"text-align: right;\">\n",
       "      <th></th>\n",
       "      <th>Unnamed: 0</th>\n",
       "      <th>Year</th>\n",
       "      <th>Almonds, Shelled Basis</th>\n",
       "      <th>Apples, Fresh</th>\n",
       "      <th>Barley</th>\n",
       "      <th>Coffee, Green</th>\n",
       "      <th>Corn</th>\n",
       "      <th>Dairy, Milk, Fluid</th>\n",
       "      <th>Grapefruit, Fresh</th>\n",
       "      <th>Meat, Swine</th>\n",
       "      <th>Oats</th>\n",
       "      <th>Oil, Soybean</th>\n",
       "      <th>Oilseed, Rapeseed</th>\n",
       "      <th>Rye</th>\n",
       "      <th>Walnuts, Inshell Basis</th>\n",
       "    </tr>\n",
       "  </thead>\n",
       "  <tbody>\n",
       "    <tr>\n",
       "      <th>0</th>\n",
       "      <td>0</td>\n",
       "      <td>1998</td>\n",
       "      <td>235884.0</td>\n",
       "      <td>5282724.0</td>\n",
       "      <td>235884000.0</td>\n",
       "      <td>1.415304e+07</td>\n",
       "      <td>4.822010e+09</td>\n",
       "      <td>326151000.0</td>\n",
       "      <td>185000.0</td>\n",
       "      <td>4.740312e+12</td>\n",
       "      <td>247882000.0</td>\n",
       "      <td>4.176508e+09</td>\n",
       "      <td>5214000.0</td>\n",
       "      <td>2114000.0</td>\n",
       "      <td>205931.0</td>\n",
       "    </tr>\n",
       "    <tr>\n",
       "      <th>1</th>\n",
       "      <td>1</td>\n",
       "      <td>1999</td>\n",
       "      <td>377800.0</td>\n",
       "      <td>5746060.0</td>\n",
       "      <td>361362000.0</td>\n",
       "      <td>2.168172e+07</td>\n",
       "      <td>4.800686e+09</td>\n",
       "      <td>77534000.0</td>\n",
       "      <td>183000.0</td>\n",
       "      <td>4.476775e+12</td>\n",
       "      <td>239549000.0</td>\n",
       "      <td>3.797778e+09</td>\n",
       "      <td>662250000.0</td>\n",
       "      <td>2165000.0</td>\n",
       "      <td>256734.0</td>\n",
       "    </tr>\n",
       "    <tr>\n",
       "      <th>2</th>\n",
       "      <td>2</td>\n",
       "      <td>2000</td>\n",
       "      <td>318900.0</td>\n",
       "      <td>5675890.0</td>\n",
       "      <td>303700000.0</td>\n",
       "      <td>1.822200e+07</td>\n",
       "      <td>4.274204e+09</td>\n",
       "      <td>332092000.0</td>\n",
       "      <td>163000.0</td>\n",
       "      <td>2.395490e+11</td>\n",
       "      <td>251854000.0</td>\n",
       "      <td>3.946939e+09</td>\n",
       "      <td>307386000.0</td>\n",
       "      <td>1707000.0</td>\n",
       "      <td>216816.0</td>\n",
       "    </tr>\n",
       "    <tr>\n",
       "      <th>3</th>\n",
       "      <td>3</td>\n",
       "      <td>2001</td>\n",
       "      <td>376500.0</td>\n",
       "      <td>5065060.0</td>\n",
       "      <td>376488000.0</td>\n",
       "      <td>2.258928e+07</td>\n",
       "      <td>3.866379e+09</td>\n",
       "      <td>305319000.0</td>\n",
       "      <td>163000.0</td>\n",
       "      <td>2.518540e+11</td>\n",
       "      <td>241377000.0</td>\n",
       "      <td>4.354875e+09</td>\n",
       "      <td>312180000.0</td>\n",
       "      <td>1684000.0</td>\n",
       "      <td>276700.0</td>\n",
       "    </tr>\n",
       "    <tr>\n",
       "      <th>4</th>\n",
       "      <td>4</td>\n",
       "      <td>2002</td>\n",
       "      <td>494416.0</td>\n",
       "      <td>4605810.0</td>\n",
       "      <td>494416000.0</td>\n",
       "      <td>2.686065e+11</td>\n",
       "      <td>3.988483e+09</td>\n",
       "      <td>83581000.0</td>\n",
       "      <td>186000.0</td>\n",
       "      <td>3.871860e+11</td>\n",
       "      <td>227767000.0</td>\n",
       "      <td>4.433333e+09</td>\n",
       "      <td>332092000.0</td>\n",
       "      <td>2096000.0</td>\n",
       "      <td>255825.0</td>\n",
       "    </tr>\n",
       "  </tbody>\n",
       "</table>\n",
       "</div>"
      ],
      "text/plain": [
       "   Unnamed: 0  Year  Almonds, Shelled Basis  Apples, Fresh       Barley  \\\n",
       "0           0  1998                235884.0      5282724.0  235884000.0   \n",
       "1           1  1999                377800.0      5746060.0  361362000.0   \n",
       "2           2  2000                318900.0      5675890.0  303700000.0   \n",
       "3           3  2001                376500.0      5065060.0  376488000.0   \n",
       "4           4  2002                494416.0      4605810.0  494416000.0   \n",
       "\n",
       "   Coffee, Green          Corn  Dairy, Milk, Fluid  Grapefruit, Fresh  \\\n",
       "0   1.415304e+07  4.822010e+09         326151000.0           185000.0   \n",
       "1   2.168172e+07  4.800686e+09          77534000.0           183000.0   \n",
       "2   1.822200e+07  4.274204e+09         332092000.0           163000.0   \n",
       "3   2.258928e+07  3.866379e+09         305319000.0           163000.0   \n",
       "4   2.686065e+11  3.988483e+09          83581000.0           186000.0   \n",
       "\n",
       "    Meat, Swine         Oats  Oil, Soybean  Oilseed, Rapeseed        Rye  \\\n",
       "0  4.740312e+12  247882000.0  4.176508e+09          5214000.0  2114000.0   \n",
       "1  4.476775e+12  239549000.0  3.797778e+09        662250000.0  2165000.0   \n",
       "2  2.395490e+11  251854000.0  3.946939e+09        307386000.0  1707000.0   \n",
       "3  2.518540e+11  241377000.0  4.354875e+09        312180000.0  1684000.0   \n",
       "4  3.871860e+11  227767000.0  4.433333e+09        332092000.0  2096000.0   \n",
       "\n",
       "   Walnuts, Inshell Basis  \n",
       "0                205931.0  \n",
       "1                256734.0  \n",
       "2                216816.0  \n",
       "3                276700.0  \n",
       "4                255825.0  "
      ]
     },
     "execution_count": 16,
     "metadata": {},
     "output_type": "execute_result"
    }
   ],
   "source": [
    "usdaGlobal= pd.read_csv(\"C:/Users/srjoh/OneDrive/Documents/WOZ-U/Final Project/datasets/pivotedGlobal.csv\")\n",
    "\n",
    "usdaGlobal.head()"
   ]
  },
  {
   "cell_type": "code",
   "execution_count": 8,
   "id": "0324a36c-c421-455d-9f3a-d80a8582ed10",
   "metadata": {},
   "outputs": [],
   "source": [
    "#isolate coffee"
   ]
  },
  {
   "cell_type": "code",
   "execution_count": 17,
   "id": "66c76b3b-c8ed-4298-a951-f147aec18297",
   "metadata": {},
   "outputs": [
    {
     "data": {
      "text/html": [
       "<div>\n",
       "<style scoped>\n",
       "    .dataframe tbody tr th:only-of-type {\n",
       "        vertical-align: middle;\n",
       "    }\n",
       "\n",
       "    .dataframe tbody tr th {\n",
       "        vertical-align: top;\n",
       "    }\n",
       "\n",
       "    .dataframe thead th {\n",
       "        text-align: right;\n",
       "    }\n",
       "</style>\n",
       "<table border=\"1\" class=\"dataframe\">\n",
       "  <thead>\n",
       "    <tr style=\"text-align: right;\">\n",
       "      <th></th>\n",
       "      <th>Year</th>\n",
       "      <th>Coffee, Green</th>\n",
       "    </tr>\n",
       "  </thead>\n",
       "  <tbody>\n",
       "    <tr>\n",
       "      <th>0</th>\n",
       "      <td>1998</td>\n",
       "      <td>1.415304e+07</td>\n",
       "    </tr>\n",
       "    <tr>\n",
       "      <th>1</th>\n",
       "      <td>1999</td>\n",
       "      <td>2.168172e+07</td>\n",
       "    </tr>\n",
       "    <tr>\n",
       "      <th>2</th>\n",
       "      <td>2000</td>\n",
       "      <td>1.822200e+07</td>\n",
       "    </tr>\n",
       "    <tr>\n",
       "      <th>3</th>\n",
       "      <td>2001</td>\n",
       "      <td>2.258928e+07</td>\n",
       "    </tr>\n",
       "    <tr>\n",
       "      <th>4</th>\n",
       "      <td>2002</td>\n",
       "      <td>2.686065e+11</td>\n",
       "    </tr>\n",
       "    <tr>\n",
       "      <th>5</th>\n",
       "      <td>2003</td>\n",
       "      <td>2.775984e+10</td>\n",
       "    </tr>\n",
       "    <tr>\n",
       "      <th>6</th>\n",
       "      <td>2004</td>\n",
       "      <td>2.323116e+10</td>\n",
       "    </tr>\n",
       "    <tr>\n",
       "      <th>7</th>\n",
       "      <td>2005</td>\n",
       "      <td>2.168172e+10</td>\n",
       "    </tr>\n",
       "    <tr>\n",
       "      <th>8</th>\n",
       "      <td>2006</td>\n",
       "      <td>3.169634e+11</td>\n",
       "    </tr>\n",
       "    <tr>\n",
       "      <th>9</th>\n",
       "      <td>2007</td>\n",
       "      <td>2.880412e+11</td>\n",
       "    </tr>\n",
       "    <tr>\n",
       "      <th>10</th>\n",
       "      <td>2008</td>\n",
       "      <td>2.564522e+11</td>\n",
       "    </tr>\n",
       "    <tr>\n",
       "      <th>11</th>\n",
       "      <td>2009</td>\n",
       "      <td>2.319827e+11</td>\n",
       "    </tr>\n",
       "    <tr>\n",
       "      <th>12</th>\n",
       "      <td>2010</td>\n",
       "      <td>2.393090e+11</td>\n",
       "    </tr>\n",
       "    <tr>\n",
       "      <th>13</th>\n",
       "      <td>2011</td>\n",
       "      <td>2.844187e+11</td>\n",
       "    </tr>\n",
       "    <tr>\n",
       "      <th>14</th>\n",
       "      <td>2012</td>\n",
       "      <td>1.672782e+10</td>\n",
       "    </tr>\n",
       "    <tr>\n",
       "      <th>15</th>\n",
       "      <td>2013</td>\n",
       "      <td>4.280040e+09</td>\n",
       "    </tr>\n",
       "    <tr>\n",
       "      <th>16</th>\n",
       "      <td>2014</td>\n",
       "      <td>1.487292e+10</td>\n",
       "    </tr>\n",
       "    <tr>\n",
       "      <th>17</th>\n",
       "      <td>2015</td>\n",
       "      <td>4.628400e+09</td>\n",
       "    </tr>\n",
       "    <tr>\n",
       "      <th>18</th>\n",
       "      <td>2016</td>\n",
       "      <td>5.779200e+08</td>\n",
       "    </tr>\n",
       "    <tr>\n",
       "      <th>19</th>\n",
       "      <td>2017</td>\n",
       "      <td>5.587200e+08</td>\n",
       "    </tr>\n",
       "    <tr>\n",
       "      <th>20</th>\n",
       "      <td>2018</td>\n",
       "      <td>5.013000e+08</td>\n",
       "    </tr>\n",
       "    <tr>\n",
       "      <th>21</th>\n",
       "      <td>2019</td>\n",
       "      <td>5.143200e+08</td>\n",
       "    </tr>\n",
       "    <tr>\n",
       "      <th>22</th>\n",
       "      <td>2020</td>\n",
       "      <td>5.268600e+08</td>\n",
       "    </tr>\n",
       "    <tr>\n",
       "      <th>23</th>\n",
       "      <td>2021</td>\n",
       "      <td>5.493000e+08</td>\n",
       "    </tr>\n",
       "  </tbody>\n",
       "</table>\n",
       "</div>"
      ],
      "text/plain": [
       "    Year  Coffee, Green\n",
       "0   1998   1.415304e+07\n",
       "1   1999   2.168172e+07\n",
       "2   2000   1.822200e+07\n",
       "3   2001   2.258928e+07\n",
       "4   2002   2.686065e+11\n",
       "5   2003   2.775984e+10\n",
       "6   2004   2.323116e+10\n",
       "7   2005   2.168172e+10\n",
       "8   2006   3.169634e+11\n",
       "9   2007   2.880412e+11\n",
       "10  2008   2.564522e+11\n",
       "11  2009   2.319827e+11\n",
       "12  2010   2.393090e+11\n",
       "13  2011   2.844187e+11\n",
       "14  2012   1.672782e+10\n",
       "15  2013   4.280040e+09\n",
       "16  2014   1.487292e+10\n",
       "17  2015   4.628400e+09\n",
       "18  2016   5.779200e+08\n",
       "19  2017   5.587200e+08\n",
       "20  2018   5.013000e+08\n",
       "21  2019   5.143200e+08\n",
       "22  2020   5.268600e+08\n",
       "23  2021   5.493000e+08"
      ]
     },
     "execution_count": 17,
     "metadata": {},
     "output_type": "execute_result"
    }
   ],
   "source": [
    "justcoffee = usdaGlobal[['Year', 'Coffee, Green']]\n",
    "justcoffee"
   ]
  },
  {
   "cell_type": "code",
   "execution_count": 18,
   "id": "97161c46-1fc3-4ee0-9a6d-bbcd7ece2cf2",
   "metadata": {},
   "outputs": [
    {
     "name": "stderr",
     "output_type": "stream",
     "text": [
      "C:\\Users\\srjoh\\AppData\\Local\\Temp\\ipykernel_14952\\3996155917.py:2: SettingWithCopyWarning: \n",
      "A value is trying to be set on a copy of a slice from a DataFrame.\n",
      "Try using .loc[row_indexer,col_indexer] = value instead\n",
      "\n",
      "See the caveats in the documentation: https://pandas.pydata.org/pandas-docs/stable/user_guide/indexing.html#returning-a-view-versus-a-copy\n",
      "  justcoffee['Year'] = pd.to_datetime(justcoffee['Year'], format='%Y')\n"
     ]
    }
   ],
   "source": [
    "# Formatting Year to date datatype \n",
    "justcoffee['Year'] = pd.to_datetime(justcoffee['Year'], format='%Y')"
   ]
  },
  {
   "cell_type": "code",
   "execution_count": 19,
   "id": "f60949c0-c490-4bcd-a506-0abf0f21b17b",
   "metadata": {},
   "outputs": [
    {
     "data": {
      "text/plain": [
       "pandas.core.frame.DataFrame"
      ]
     },
     "execution_count": 19,
     "metadata": {},
     "output_type": "execute_result"
    }
   ],
   "source": [
    "## Setting Year as index\n",
    "justcoffee.set_index('Year', inplace=True)\n",
    "type(justcoffee)"
   ]
  },
  {
   "cell_type": "code",
   "execution_count": 20,
   "id": "87315b78-e6ef-4d68-aa3e-26407099da10",
   "metadata": {},
   "outputs": [
    {
     "data": {
      "text/plain": [
       "<AxesSubplot:xlabel='Year'>"
      ]
     },
     "execution_count": 20,
     "metadata": {},
     "output_type": "execute_result"
    },
    {
     "data": {
      "image/png": "[encoded data removed]",
      "text/plain": [
       "<Figure size 432x288 with 1 Axes>"
      ]
     },
     "metadata": {
      "needs_background": "light"
     },
     "output_type": "display_data"
    }
   ],
   "source": [
    "## Looking at linear plot of coffee production\n",
    "justcoffee.plot()"
   ]
  },
  {
   "cell_type": "code",
   "execution_count": 21,
   "id": "16c6b68d-c1b5-4622-84d9-b7048c689a0b",
   "metadata": {},
   "outputs": [],
   "source": [
    "#coffee is fluctuating significantly"
   ]
  },
  {
   "cell_type": "code",
   "execution_count": 22,
   "id": "fb77e4c1-fcc5-477c-b227-25cc81762755",
   "metadata": {},
   "outputs": [
    {
     "name": "stdout",
     "output_type": "stream",
     "text": [
      "ADF Statistic: -1.385182943405054\n",
      "n_lags: 0.5893586280140275\n",
      "p-value: 0.5893586280140275\n",
      "Critial Values:\n",
      "   1%, -4.01203360058309\n",
      "Critial Values:\n",
      "   5%, -3.1041838775510207\n",
      "Critial Values:\n",
      "   10%, -2.6909873469387753\n"
     ]
    }
   ],
   "source": [
    "## Testing our finding against Augmented Dickey Fuller test\n",
    "result=adfuller(justcoffee['Coffee, Green'], autolag='AIC')\n",
    "print(f'ADF Statistic: {result[0]}')\n",
    "print(f'n_lags: {result[1]}')\n",
    "print(f'p-value: {result[1]}')\n",
    "for key, value in result[4].items():\n",
    "    print('Critial Values:')\n",
    "    print(f'   {key}, {value}')"
   ]
  },
  {
   "cell_type": "code",
   "execution_count": 23,
   "id": "ad01cd27-c9fa-4a80-a5dc-cf78748ceb6a",
   "metadata": {},
   "outputs": [],
   "source": [
    "#ADF Statistic is higher than all critical values - non-stationary "
   ]
  },
  {
   "cell_type": "code",
   "execution_count": 24,
   "id": "a611b08a-d9e0-49ba-87b1-2122b3531333",
   "metadata": {},
   "outputs": [],
   "source": [
    "#divide data for testing"
   ]
  },
  {
   "cell_type": "code",
   "execution_count": 25,
   "id": "5126bb9e-63aa-4140-aa64-1389405268ad",
   "metadata": {},
   "outputs": [
    {
     "data": {
      "text/html": [
       "<div>\n",
       "<style scoped>\n",
       "    .dataframe tbody tr th:only-of-type {\n",
       "        vertical-align: middle;\n",
       "    }\n",
       "\n",
       "    .dataframe tbody tr th {\n",
       "        vertical-align: top;\n",
       "    }\n",
       "\n",
       "    .dataframe thead th {\n",
       "        text-align: right;\n",
       "    }\n",
       "</style>\n",
       "<table border=\"1\" class=\"dataframe\">\n",
       "  <thead>\n",
       "    <tr style=\"text-align: right;\">\n",
       "      <th></th>\n",
       "      <th>Coffee, Green</th>\n",
       "    </tr>\n",
       "    <tr>\n",
       "      <th>Year</th>\n",
       "      <th></th>\n",
       "    </tr>\n",
       "  </thead>\n",
       "  <tbody>\n",
       "    <tr>\n",
       "      <th>2018-01-01</th>\n",
       "      <td>501300000.0</td>\n",
       "    </tr>\n",
       "    <tr>\n",
       "      <th>2019-01-01</th>\n",
       "      <td>514320000.0</td>\n",
       "    </tr>\n",
       "    <tr>\n",
       "      <th>2020-01-01</th>\n",
       "      <td>526860000.0</td>\n",
       "    </tr>\n",
       "    <tr>\n",
       "      <th>2021-01-01</th>\n",
       "      <td>549300000.0</td>\n",
       "    </tr>\n",
       "  </tbody>\n",
       "</table>\n",
       "</div>"
      ],
      "text/plain": [
       "            Coffee, Green\n",
       "Year                     \n",
       "2018-01-01    501300000.0\n",
       "2019-01-01    514320000.0\n",
       "2020-01-01    526860000.0\n",
       "2021-01-01    549300000.0"
      ]
     },
     "execution_count": 25,
     "metadata": {},
     "output_type": "execute_result"
    }
   ],
   "source": [
    "train = justcoffee[:20]\n",
    "test = justcoffee[-4:]\n",
    "train\n",
    "test"
   ]
  },
  {
   "cell_type": "code",
   "execution_count": 26,
   "id": "ac49cc1e-80db-4efb-826c-3d75ca2dece7",
   "metadata": {},
   "outputs": [
    {
     "data": {
      "text/plain": [
       "[<matplotlib.lines.Line2D at 0x1bfaa6f4df0>]"
      ]
     },
     "execution_count": 26,
     "metadata": {},
     "output_type": "execute_result"
    },
    {
     "data": {
      "image/png": "[encoded data removed]",
      "text/plain": [
       "<Figure size 432x288 with 1 Axes>"
      ]
     },
     "metadata": {
      "needs_background": "light"
     },
     "output_type": "display_data"
    }
   ],
   "source": [
    "plt.plot(train)\n",
    "plt.plot(test)"
   ]
  },
  {
   "cell_type": "code",
   "execution_count": null,
   "id": "8ff9e01f-15e3-4d06-b5bf-1c7d6f666a55",
   "metadata": {},
   "outputs": [],
   "source": [
    "## Run auto_arima for p, d, q variables"
   ]
  },
  {
   "cell_type": "code",
   "execution_count": 28,
   "id": "f65a43ca-9bff-4aba-999e-e34e4d96eec4",
   "metadata": {},
   "outputs": [
    {
     "data": {
      "text/html": [
       "<style>#sk-container-id-1 {color: black;background-color: white;}#sk-container-id-1 pre{padding: 0;}#sk-container-id-1 div.sk-toggleable {background-color: white;}#sk-container-id-1 label.sk-toggleable__label {cursor: pointer;display: block;width: 100%;margin-bottom: 0;padding: 0.3em;box-sizing: border-box;text-align: center;}#sk-container-id-1 label.sk-toggleable__label-arrow:before {content: \"▸\";float: left;margin-right: 0.25em;color: #696969;}#sk-container-id-1 label.sk-toggleable__label-arrow:hover:before {color: black;}#sk-container-id-1 div.sk-estimator:hover label.sk-toggleable__label-arrow:before {color: black;}#sk-container-id-1 div.sk-toggleable__content {max-height: 0;max-width: 0;overflow: hidden;text-align: left;background-color: #f0f8ff;}#sk-container-id-1 div.sk-toggleable__content pre {margin: 0.2em;color: black;border-radius: 0.25em;background-color: #f0f8ff;}#sk-container-id-1 input.sk-toggleable__control:checked~div.sk-toggleable__content {max-height: 200px;max-width: 100%;overflow: auto;}#sk-container-id-1 input.sk-toggleable__control:checked~label.sk-toggleable__label-arrow:before {content: \"▾\";}#sk-container-id-1 div.sk-estimator input.sk-toggleable__control:checked~label.sk-toggleable__label {background-color: #d4ebff;}#sk-container-id-1 div.sk-label input.sk-toggleable__control:checked~label.sk-toggleable__label {background-color: #d4ebff;}#sk-container-id-1 input.sk-hidden--visually {border: 0;clip: rect(1px 1px 1px 1px);clip: rect(1px, 1px, 1px, 1px);height: 1px;margin: -1px;overflow: hidden;padding: 0;position: absolute;width: 1px;}#sk-container-id-1 div.sk-estimator {font-family: monospace;background-color: #f0f8ff;border: 1px dotted black;border-radius: 0.25em;box-sizing: border-box;margin-bottom: 0.5em;}#sk-container-id-1 div.sk-estimator:hover {background-color: #d4ebff;}#sk-container-id-1 div.sk-parallel-item::after {content: \"\";width: 100%;border-bottom: 1px solid gray;flex-grow: 1;}#sk-container-id-1 div.sk-label:hover label.sk-toggleable__label {background-color: #d4ebff;}#sk-container-id-1 div.sk-serial::before {content: \"\";position: absolute;border-left: 1px solid gray;box-sizing: border-box;top: 0;bottom: 0;left: 50%;z-index: 0;}#sk-container-id-1 div.sk-serial {display: flex;flex-direction: column;align-items: center;background-color: white;padding-right: 0.2em;padding-left: 0.2em;position: relative;}#sk-container-id-1 div.sk-item {position: relative;z-index: 1;}#sk-container-id-1 div.sk-parallel {display: flex;align-items: stretch;justify-content: center;background-color: white;position: relative;}#sk-container-id-1 div.sk-item::before, #sk-container-id-1 div.sk-parallel-item::before {content: \"\";position: absolute;border-left: 1px solid gray;box-sizing: border-box;top: 0;bottom: 0;left: 50%;z-index: -1;}#sk-container-id-1 div.sk-parallel-item {display: flex;flex-direction: column;z-index: 1;position: relative;background-color: white;}#sk-container-id-1 div.sk-parallel-item:first-child::after {align-self: flex-end;width: 50%;}#sk-container-id-1 div.sk-parallel-item:last-child::after {align-self: flex-start;width: 50%;}#sk-container-id-1 div.sk-parallel-item:only-child::after {width: 0;}#sk-container-id-1 div.sk-dashed-wrapped {border: 1px dashed gray;margin: 0 0.4em 0.5em 0.4em;box-sizing: border-box;padding-bottom: 0.4em;background-color: white;}#sk-container-id-1 div.sk-label label {font-family: monospace;font-weight: bold;display: inline-block;line-height: 1.2em;}#sk-container-id-1 div.sk-label-container {text-align: center;}#sk-container-id-1 div.sk-container {/* jupyter's `normalize.less` sets `[hidden] { display: none; }` but bootstrap.min.css set `[hidden] { display: none !important; }` so we also need the `!important` here to be able to override the default hidden behavior on the sphinx rendered scikit-learn.org. See: https://github.com/scikit-learn/scikit-learn/issues/21755 */display: inline-block !important;position: relative;}#sk-container-id-1 div.sk-text-repr-fallback {display: none;}</style><div id=\"sk-container-id-1\" class=\"sk-top-container\"><div class=\"sk-text-repr-fallback\"><pre> ARIMA(1,0,0)(0,0,0)[0]          </pre><b>In a Jupyter environment, please rerun this cell to show the HTML representation or trust the notebook. <br />On GitHub, the HTML representation is unable to render, please try loading this page with nbviewer.org.</b></div><div class=\"sk-container\" hidden><div class=\"sk-item\"><div class=\"sk-estimator sk-toggleable\"><input class=\"sk-toggleable__control sk-hidden--visually\" id=\"sk-estimator-id-1\" type=\"checkbox\" checked><label for=\"sk-estimator-id-1\" class=\"sk-toggleable__label sk-toggleable__label-arrow\">ARIMA</label><div class=\"sk-toggleable__content\"><pre> ARIMA(1,0,0)(0,0,0)[0]          </pre></div></div></div></div></div>"
      ],
      "text/plain": [
       "ARIMA(order=(1, 0, 0), scoring_args={}, suppress_warnings=True,\n",
       "      with_intercept=False)"
      ]
     },
     "execution_count": 28,
     "metadata": {},
     "output_type": "execute_result"
    }
   ],
   "source": [
    "model = pm.auto_arima(justcoffee['Coffee, Green'], seasonal=False)\n",
    "model"
   ]
  },
  {
   "cell_type": "code",
   "execution_count": 29,
   "id": "86884bb3-a719-4067-9e1d-8c0dbc677469",
   "metadata": {},
   "outputs": [],
   "source": [
    "# p=1, d=0, q=0 "
   ]
  },
  {
   "cell_type": "code",
   "execution_count": 44,
   "id": "30b92df6-5654-4ad3-a758-bf1d4d252c9b",
   "metadata": {},
   "outputs": [
    {
     "name": "stdout",
     "output_type": "stream",
     "text": [
      "Performing stepwise search to minimize aic\n",
      " ARIMA(1,0,0)(1,0,0)[12] intercept   : AIC=1081.030, Time=0.04 sec\n",
      " ARIMA(0,0,0)(0,0,0)[12] intercept   : AIC=1083.019, Time=0.03 sec\n",
      " ARIMA(0,0,1)(0,0,1)[12] intercept   : AIC=1082.962, Time=0.12 sec\n",
      " ARIMA(0,0,0)(0,0,0)[12]             : AIC=1090.837, Time=0.00 sec\n",
      " ARIMA(1,0,0)(0,0,0)[12] intercept   : AIC=1079.056, Time=0.01 sec\n",
      " ARIMA(1,0,0)(0,0,1)[12] intercept   : AIC=1081.055, Time=0.05 sec\n",
      " ARIMA(1,0,0)(1,0,1)[12] intercept   : AIC=1083.006, Time=0.07 sec\n",
      " ARIMA(2,0,0)(0,0,0)[12] intercept   : AIC=1081.140, Time=0.01 sec\n",
      " ARIMA(1,0,1)(0,0,0)[12] intercept   : AIC=1081.390, Time=0.02 sec\n",
      " ARIMA(0,0,1)(0,0,0)[12] intercept   : AIC=1080.965, Time=0.02 sec\n",
      " ARIMA(2,0,1)(0,0,0)[12] intercept   : AIC=1083.015, Time=0.04 sec\n",
      " ARIMA(1,0,0)(0,0,0)[12]             : AIC=1079.214, Time=0.02 sec\n",
      "\n",
      "Best model:  ARIMA(1,0,0)(0,0,0)[12] intercept\n",
      "Total fit time: 0.435 seconds\n"
     ]
    }
   ],
   "source": [
    "# Build Auto ARIMA model\n",
    "arima_model =  auto_arima(train,start_p=1, d=0, start_q=0, \n",
    "                          max_p=5, max_d=5, max_q=5, start_P=1, \n",
    "                          D=0, start_Q=0, max_P=5, max_D=5,\n",
    "                          max_Q=5, m=12, seasonal=True, \n",
    "                          error_action='warn',trace = True,\n",
    "                          supress_warnings=True,stepwise = True,\n",
    "                          random_state=20,n_fits = 50 )"
   ]
  },
  {
   "cell_type": "code",
   "execution_count": null,
   "id": "7db96ae6-3710-48bc-85ee-1b77319e9d57",
   "metadata": {},
   "outputs": [],
   "source": [
    "# Best model confirmed p=1 d=0 q=0, our ARIMA class is I(1)"
   ]
  },
  {
   "cell_type": "code",
   "execution_count": 31,
   "id": "1657a71e-a6da-4b1d-b18f-8726d34fc764",
   "metadata": {},
   "outputs": [],
   "source": [
    "# ARIMA model summary"
   ]
  },
  {
   "cell_type": "code",
   "execution_count": 45,
   "id": "a2e6b8c8-f4e6-471b-8b49-7adaa96e6833",
   "metadata": {},
   "outputs": [
    {
     "data": {
      "text/html": [
       "<table class=\"simpletable\">\n",
       "<caption>SARIMAX Results</caption>\n",
       "<tr>\n",
       "  <th>Dep. Variable:</th>           <td>y</td>        <th>  No. Observations:  </th>    <td>20</td>   \n",
       "</tr>\n",
       "<tr>\n",
       "  <th>Model:</th>           <td>SARIMAX(1, 0, 0)</td> <th>  Log Likelihood     </th> <td>-536.528</td>\n",
       "</tr>\n",
       "<tr>\n",
       "  <th>Date:</th>            <td>Wed, 20 Jul 2022</td> <th>  AIC                </th> <td>1079.056</td>\n",
       "</tr>\n",
       "<tr>\n",
       "  <th>Time:</th>                <td>11:22:27</td>     <th>  BIC                </th> <td>1082.043</td>\n",
       "</tr>\n",
       "<tr>\n",
       "  <th>Sample:</th>                  <td>0</td>        <th>  HQIC               </th> <td>1079.639</td>\n",
       "</tr>\n",
       "<tr>\n",
       "  <th></th>                       <td> - 20</td>      <th>                     </th>     <td> </td>   \n",
       "</tr>\n",
       "<tr>\n",
       "  <th>Covariance Type:</th>        <td>opg</td>       <th>                     </th>     <td> </td>   \n",
       "</tr>\n",
       "</table>\n",
       "<table class=\"simpletable\">\n",
       "<tr>\n",
       "      <td></td>         <th>coef</th>     <th>std err</th>      <th>z</th>      <th>P>|z|</th>  <th>[0.025</th>    <th>0.975]</th>  \n",
       "</tr>\n",
       "<tr>\n",
       "  <th>intercept</th> <td> 5.072e+10</td> <td> 5.83e-13</td> <td>  8.7e+22</td> <td> 0.000</td> <td> 5.07e+10</td> <td> 5.07e+10</td>\n",
       "</tr>\n",
       "<tr>\n",
       "  <th>ar.L1</th>     <td>    0.4850</td> <td>    0.142</td> <td>    3.405</td> <td> 0.001</td> <td>    0.206</td> <td>    0.764</td>\n",
       "</tr>\n",
       "<tr>\n",
       "  <th>sigma2</th>    <td> 1.174e+22</td> <td> 1.23e-24</td> <td> 9.53e+45</td> <td> 0.000</td> <td> 1.17e+22</td> <td> 1.17e+22</td>\n",
       "</tr>\n",
       "</table>\n",
       "<table class=\"simpletable\">\n",
       "<tr>\n",
       "  <th>Ljung-Box (L1) (Q):</th>     <td>0.01</td> <th>  Jarque-Bera (JB):  </th> <td>2.27</td>\n",
       "</tr>\n",
       "<tr>\n",
       "  <th>Prob(Q):</th>                <td>0.91</td> <th>  Prob(JB):          </th> <td>0.32</td>\n",
       "</tr>\n",
       "<tr>\n",
       "  <th>Heteroskedasticity (H):</th> <td>0.64</td> <th>  Skew:              </th> <td>0.82</td>\n",
       "</tr>\n",
       "<tr>\n",
       "  <th>Prob(H) (two-sided):</th>    <td>0.57</td> <th>  Kurtosis:          </th> <td>3.17</td>\n",
       "</tr>\n",
       "</table><br/><br/>Warnings:<br/>[1] Covariance matrix calculated using the outer product of gradients (complex-step).<br/>[2] Covariance matrix is singular or near-singular, with condition number 1.33e+62. Standard errors may be unstable."
      ],
      "text/plain": [
       "<class 'statsmodels.iolib.summary.Summary'>\n",
       "\"\"\"\n",
       "                               SARIMAX Results                                \n",
       "==============================================================================\n",
       "Dep. Variable:                      y   No. Observations:                   20\n",
       "Model:               SARIMAX(1, 0, 0)   Log Likelihood                -536.528\n",
       "Date:                Wed, 20 Jul 2022   AIC                           1079.056\n",
       "Time:                        11:22:27   BIC                           1082.043\n",
       "Sample:                             0   HQIC                          1079.639\n",
       "                                 - 20                                         \n",
       "Covariance Type:                  opg                                         \n",
       "==============================================================================\n",
       "                 coef    std err          z      P>|z|      [0.025      0.975]\n",
       "------------------------------------------------------------------------------\n",
       "intercept   5.072e+10   5.83e-13    8.7e+22      0.000    5.07e+10    5.07e+10\n",
       "ar.L1          0.4850      0.142      3.405      0.001       0.206       0.764\n",
       "sigma2      1.174e+22   1.23e-24   9.53e+45      0.000    1.17e+22    1.17e+22\n",
       "===================================================================================\n",
       "Ljung-Box (L1) (Q):                   0.01   Jarque-Bera (JB):                 2.27\n",
       "Prob(Q):                              0.91   Prob(JB):                         0.32\n",
       "Heteroskedasticity (H):               0.64   Skew:                             0.82\n",
       "Prob(H) (two-sided):                  0.57   Kurtosis:                         3.17\n",
       "===================================================================================\n",
       "\n",
       "Warnings:\n",
       "[1] Covariance matrix calculated using the outer product of gradients (complex-step).\n",
       "[2] Covariance matrix is singular or near-singular, with condition number 1.33e+62. Standard errors may be unstable.\n",
       "\"\"\""
      ]
     },
     "execution_count": 45,
     "metadata": {},
     "output_type": "execute_result"
    }
   ],
   "source": [
    "arima_model.summary()"
   ]
  },
  {
   "cell_type": "code",
   "execution_count": 33,
   "id": "68ab432f-99ee-4280-94a9-2746498184aa",
   "metadata": {},
   "outputs": [],
   "source": [
    "# forecast on test data"
   ]
  },
  {
   "cell_type": "code",
   "execution_count": 46,
   "id": "39f87af5-e2b7-4157-b2d9-2f68e0f2f5c5",
   "metadata": {},
   "outputs": [
    {
     "data": {
      "text/html": [
       "<div>\n",
       "<style scoped>\n",
       "    .dataframe tbody tr th:only-of-type {\n",
       "        vertical-align: middle;\n",
       "    }\n",
       "\n",
       "    .dataframe tbody tr th {\n",
       "        vertical-align: top;\n",
       "    }\n",
       "\n",
       "    .dataframe thead th {\n",
       "        text-align: right;\n",
       "    }\n",
       "</style>\n",
       "<table border=\"1\" class=\"dataframe\">\n",
       "  <thead>\n",
       "    <tr style=\"text-align: right;\">\n",
       "      <th></th>\n",
       "      <th>predicted_values</th>\n",
       "    </tr>\n",
       "    <tr>\n",
       "      <th>Year</th>\n",
       "      <th></th>\n",
       "    </tr>\n",
       "  </thead>\n",
       "  <tbody>\n",
       "    <tr>\n",
       "      <th>2018-01-01</th>\n",
       "      <td>5.099597e+10</td>\n",
       "    </tr>\n",
       "    <tr>\n",
       "      <th>2019-01-01</th>\n",
       "      <td>7.545991e+10</td>\n",
       "    </tr>\n",
       "    <tr>\n",
       "      <th>2020-01-01</th>\n",
       "      <td>8.732583e+10</td>\n",
       "    </tr>\n",
       "    <tr>\n",
       "      <th>2021-01-01</th>\n",
       "      <td>9.308124e+10</td>\n",
       "    </tr>\n",
       "  </tbody>\n",
       "</table>\n",
       "</div>"
      ],
      "text/plain": [
       "            predicted_values\n",
       "Year                        \n",
       "2018-01-01      5.099597e+10\n",
       "2019-01-01      7.545991e+10\n",
       "2020-01-01      8.732583e+10\n",
       "2021-01-01      9.308124e+10"
      ]
     },
     "execution_count": 46,
     "metadata": {},
     "output_type": "execute_result"
    }
   ],
   "source": [
    "prediction = pd.DataFrame(arima_model.predict(n_periods = 4),index=test.index)\n",
    "prediction.columns = ['predicted_values']\n",
    "prediction"
   ]
  },
  {
   "cell_type": "code",
   "execution_count": 35,
   "id": "3d28939c-86dc-47fd-b67c-38f602b696a7",
   "metadata": {},
   "outputs": [],
   "source": [
    "# Plot against actual values"
   ]
  },
  {
   "cell_type": "code",
   "execution_count": 47,
   "id": "fcc326b2-3c97-4a89-9d7e-07b247d0879e",
   "metadata": {},
   "outputs": [
    {
     "data": {
      "image/png": "[encoded data removed]",
      "text/plain": [
       "<Figure size 576x360 with 1 Axes>"
      ]
     },
     "metadata": {
      "needs_background": "light"
     },
     "output_type": "display_data"
    }
   ],
   "source": [
    "plt.figure(figsize=(8,5))\n",
    "plt.plot(train,label=\"Training\")\n",
    "plt.plot(test,label=\"Test\")\n",
    "plt.plot(prediction,label=\"Predicted\")\n",
    "plt.legend(loc = 'best')\n",
    "plt.show()"
   ]
  },
  {
   "cell_type": "code",
   "execution_count": 37,
   "id": "35acc501-6b29-4bd7-add5-b3a68cb22c09",
   "metadata": {},
   "outputs": [],
   "source": [
    "# R2 Score"
   ]
  },
  {
   "cell_type": "code",
   "execution_count": 48,
   "id": "d8f7c181-b463-4976-aebd-bf43365d0cca",
   "metadata": {},
   "outputs": [
    {
     "name": "stderr",
     "output_type": "stream",
     "text": [
      "C:\\Users\\srjoh\\AppData\\Local\\Temp\\ipykernel_14952\\640439434.py:1: SettingWithCopyWarning: \n",
      "A value is trying to be set on a copy of a slice from a DataFrame.\n",
      "Try using .loc[row_indexer,col_indexer] = value instead\n",
      "\n",
      "See the caveats in the documentation: https://pandas.pydata.org/pandas-docs/stable/user_guide/indexing.html#returning-a-view-versus-a-copy\n",
      "  test['predicted_values'] = prediction\n"
     ]
    },
    {
     "data": {
      "text/plain": [
       "-19366684.757207304"
      ]
     },
     "execution_count": 48,
     "metadata": {},
     "output_type": "execute_result"
    }
   ],
   "source": [
    "test['predicted_values'] = prediction\n",
    "r2_score(test['Coffee, Green'], test['predicted_values'])"
   ]
  },
  {
   "cell_type": "code",
   "execution_count": 49,
   "id": "81d7352b-d9fd-498b-a21f-0279fbb8d271",
   "metadata": {},
   "outputs": [],
   "source": [
    "# R2 is extremely high, but for the sake of the analysis, moving forward anyway"
   ]
  },
  {
   "cell_type": "code",
   "execution_count": 50,
   "id": "9d5006fe-2ea6-478a-83d7-c83013ac7e68",
   "metadata": {},
   "outputs": [],
   "source": [
    "# residual plots"
   ]
  },
  {
   "cell_type": "code",
   "execution_count": 51,
   "id": "10999622-518b-4db8-921c-040f7be44744",
   "metadata": {},
   "outputs": [
    {
     "data": {
      "image/png": "[encoded data removed]",
      "text/plain": [
       "<Figure size 648x504 with 4 Axes>"
      ]
     },
     "metadata": {
      "needs_background": "light"
     },
     "output_type": "display_data"
    }
   ],
   "source": [
    "arima_model.plot_diagnostics(figsize=(9,7))\n",
    "plt.show()"
   ]
  },
  {
   "cell_type": "code",
   "execution_count": 52,
   "id": "bae63568-5279-4ad3-b794-0660267e303d",
   "metadata": {},
   "outputs": [],
   "source": [
    "# upper left mean is centered at 0, and the variance looks consistent\n",
    "# upper right shows very similar distributions, but KDE line is slightly skewed to the left\n",
    "# bottom left follows the line generally but there is a chunk of data points that are much flatter than the q-q line\n",
    "# bottom right has what appears to be a single outlier, but otherwise mostly consistent \n",
    "# Fit has a few question marks, but will go with it"
   ]
  },
  {
   "cell_type": "code",
   "execution_count": null,
   "id": "34445a70-9c5b-4749-91d1-a1dd70b262da",
   "metadata": {},
   "outputs": [],
   "source": [
    "# create new dataset for future predictions"
   ]
  },
  {
   "cell_type": "code",
   "execution_count": 53,
   "id": "92c965ef-68c9-4cf6-beea-9c3fcbca2639",
   "metadata": {},
   "outputs": [
    {
     "name": "stdout",
     "output_type": "stream",
     "text": [
      "   Year predicted_values\n",
      "0  2022              NaN\n",
      "1  2023              NaN\n",
      "2  2024              NaN\n",
      "3  2025              NaN\n"
     ]
    }
   ],
   "source": [
    "future = {'Year':  [2022, 2023, 2024, 2025],\n",
    "        'predicted_values': ['NaN', 'NaN', 'NaN', 'NaN']}\n",
    "\n",
    "future = pd.DataFrame(future)\n",
    "print (future)"
   ]
  },
  {
   "cell_type": "code",
   "execution_count": 54,
   "id": "0411f2d3-4e6d-4de5-b0cc-cb60f719a288",
   "metadata": {},
   "outputs": [],
   "source": [
    "#reformat year to date"
   ]
  },
  {
   "cell_type": "code",
   "execution_count": 55,
   "id": "6977f69a-3c1c-4fd8-9367-5e50254d88fc",
   "metadata": {},
   "outputs": [],
   "source": [
    "future['Year'] = pd.to_datetime(future['Year'], format='%Y')"
   ]
  },
  {
   "cell_type": "code",
   "execution_count": 56,
   "id": "b1c6c539-b575-4ecc-9110-18d1289055d0",
   "metadata": {},
   "outputs": [],
   "source": [
    "#index by year"
   ]
  },
  {
   "cell_type": "code",
   "execution_count": 57,
   "id": "6115c200-603d-4c4c-8302-29a833c70aaa",
   "metadata": {},
   "outputs": [
    {
     "data": {
      "text/html": [
       "<div>\n",
       "<style scoped>\n",
       "    .dataframe tbody tr th:only-of-type {\n",
       "        vertical-align: middle;\n",
       "    }\n",
       "\n",
       "    .dataframe tbody tr th {\n",
       "        vertical-align: top;\n",
       "    }\n",
       "\n",
       "    .dataframe thead th {\n",
       "        text-align: right;\n",
       "    }\n",
       "</style>\n",
       "<table border=\"1\" class=\"dataframe\">\n",
       "  <thead>\n",
       "    <tr style=\"text-align: right;\">\n",
       "      <th></th>\n",
       "      <th>predicted_values</th>\n",
       "    </tr>\n",
       "    <tr>\n",
       "      <th>Year</th>\n",
       "      <th></th>\n",
       "    </tr>\n",
       "  </thead>\n",
       "  <tbody>\n",
       "    <tr>\n",
       "      <th>2022-01-01</th>\n",
       "      <td>NaN</td>\n",
       "    </tr>\n",
       "    <tr>\n",
       "      <th>2023-01-01</th>\n",
       "      <td>NaN</td>\n",
       "    </tr>\n",
       "    <tr>\n",
       "      <th>2024-01-01</th>\n",
       "      <td>NaN</td>\n",
       "    </tr>\n",
       "    <tr>\n",
       "      <th>2025-01-01</th>\n",
       "      <td>NaN</td>\n",
       "    </tr>\n",
       "  </tbody>\n",
       "</table>\n",
       "</div>"
      ],
      "text/plain": [
       "           predicted_values\n",
       "Year                       \n",
       "2022-01-01              NaN\n",
       "2023-01-01              NaN\n",
       "2024-01-01              NaN\n",
       "2025-01-01              NaN"
      ]
     },
     "execution_count": 57,
     "metadata": {},
     "output_type": "execute_result"
    }
   ],
   "source": [
    "future.set_index('Year', inplace=True)\n",
    "type(future)\n",
    "future"
   ]
  },
  {
   "cell_type": "code",
   "execution_count": 58,
   "id": "ace664b4-bfa2-4cfd-b97e-3c8ff126c27f",
   "metadata": {},
   "outputs": [],
   "source": [
    "# append"
   ]
  },
  {
   "cell_type": "code",
   "execution_count": 59,
   "id": "16989832-0933-4b24-b83a-750ff8fb13c0",
   "metadata": {},
   "outputs": [
    {
     "name": "stderr",
     "output_type": "stream",
     "text": [
      "C:\\Users\\srjoh\\AppData\\Local\\Temp\\ipykernel_14952\\1720967587.py:1: FutureWarning: The frame.append method is deprecated and will be removed from pandas in a future version. Use pandas.concat instead.\n",
      "  futureprediction = justcoffee.append(future)\n"
     ]
    },
    {
     "data": {
      "text/html": [
       "<div>\n",
       "<style scoped>\n",
       "    .dataframe tbody tr th:only-of-type {\n",
       "        vertical-align: middle;\n",
       "    }\n",
       "\n",
       "    .dataframe tbody tr th {\n",
       "        vertical-align: top;\n",
       "    }\n",
       "\n",
       "    .dataframe thead th {\n",
       "        text-align: right;\n",
       "    }\n",
       "</style>\n",
       "<table border=\"1\" class=\"dataframe\">\n",
       "  <thead>\n",
       "    <tr style=\"text-align: right;\">\n",
       "      <th></th>\n",
       "      <th>Coffee, Green</th>\n",
       "      <th>predicted_values</th>\n",
       "    </tr>\n",
       "    <tr>\n",
       "      <th>Year</th>\n",
       "      <th></th>\n",
       "      <th></th>\n",
       "    </tr>\n",
       "  </thead>\n",
       "  <tbody>\n",
       "    <tr>\n",
       "      <th>1998-01-01</th>\n",
       "      <td>1.415304e+07</td>\n",
       "      <td>NaN</td>\n",
       "    </tr>\n",
       "    <tr>\n",
       "      <th>1999-01-01</th>\n",
       "      <td>2.168172e+07</td>\n",
       "      <td>NaN</td>\n",
       "    </tr>\n",
       "    <tr>\n",
       "      <th>2000-01-01</th>\n",
       "      <td>1.822200e+07</td>\n",
       "      <td>NaN</td>\n",
       "    </tr>\n",
       "    <tr>\n",
       "      <th>2001-01-01</th>\n",
       "      <td>2.258928e+07</td>\n",
       "      <td>NaN</td>\n",
       "    </tr>\n",
       "    <tr>\n",
       "      <th>2002-01-01</th>\n",
       "      <td>2.686065e+11</td>\n",
       "      <td>NaN</td>\n",
       "    </tr>\n",
       "    <tr>\n",
       "      <th>2003-01-01</th>\n",
       "      <td>2.775984e+10</td>\n",
       "      <td>NaN</td>\n",
       "    </tr>\n",
       "    <tr>\n",
       "      <th>2004-01-01</th>\n",
       "      <td>2.323116e+10</td>\n",
       "      <td>NaN</td>\n",
       "    </tr>\n",
       "    <tr>\n",
       "      <th>2005-01-01</th>\n",
       "      <td>2.168172e+10</td>\n",
       "      <td>NaN</td>\n",
       "    </tr>\n",
       "    <tr>\n",
       "      <th>2006-01-01</th>\n",
       "      <td>3.169634e+11</td>\n",
       "      <td>NaN</td>\n",
       "    </tr>\n",
       "    <tr>\n",
       "      <th>2007-01-01</th>\n",
       "      <td>2.880412e+11</td>\n",
       "      <td>NaN</td>\n",
       "    </tr>\n",
       "    <tr>\n",
       "      <th>2008-01-01</th>\n",
       "      <td>2.564522e+11</td>\n",
       "      <td>NaN</td>\n",
       "    </tr>\n",
       "    <tr>\n",
       "      <th>2009-01-01</th>\n",
       "      <td>2.319827e+11</td>\n",
       "      <td>NaN</td>\n",
       "    </tr>\n",
       "    <tr>\n",
       "      <th>2010-01-01</th>\n",
       "      <td>2.393090e+11</td>\n",
       "      <td>NaN</td>\n",
       "    </tr>\n",
       "    <tr>\n",
       "      <th>2011-01-01</th>\n",
       "      <td>2.844187e+11</td>\n",
       "      <td>NaN</td>\n",
       "    </tr>\n",
       "    <tr>\n",
       "      <th>2012-01-01</th>\n",
       "      <td>1.672782e+10</td>\n",
       "      <td>NaN</td>\n",
       "    </tr>\n",
       "    <tr>\n",
       "      <th>2013-01-01</th>\n",
       "      <td>4.280040e+09</td>\n",
       "      <td>NaN</td>\n",
       "    </tr>\n",
       "    <tr>\n",
       "      <th>2014-01-01</th>\n",
       "      <td>1.487292e+10</td>\n",
       "      <td>NaN</td>\n",
       "    </tr>\n",
       "    <tr>\n",
       "      <th>2015-01-01</th>\n",
       "      <td>4.628400e+09</td>\n",
       "      <td>NaN</td>\n",
       "    </tr>\n",
       "    <tr>\n",
       "      <th>2016-01-01</th>\n",
       "      <td>5.779200e+08</td>\n",
       "      <td>NaN</td>\n",
       "    </tr>\n",
       "    <tr>\n",
       "      <th>2017-01-01</th>\n",
       "      <td>5.587200e+08</td>\n",
       "      <td>NaN</td>\n",
       "    </tr>\n",
       "    <tr>\n",
       "      <th>2018-01-01</th>\n",
       "      <td>5.013000e+08</td>\n",
       "      <td>NaN</td>\n",
       "    </tr>\n",
       "    <tr>\n",
       "      <th>2019-01-01</th>\n",
       "      <td>5.143200e+08</td>\n",
       "      <td>NaN</td>\n",
       "    </tr>\n",
       "    <tr>\n",
       "      <th>2020-01-01</th>\n",
       "      <td>5.268600e+08</td>\n",
       "      <td>NaN</td>\n",
       "    </tr>\n",
       "    <tr>\n",
       "      <th>2021-01-01</th>\n",
       "      <td>5.493000e+08</td>\n",
       "      <td>NaN</td>\n",
       "    </tr>\n",
       "    <tr>\n",
       "      <th>2022-01-01</th>\n",
       "      <td>NaN</td>\n",
       "      <td>NaN</td>\n",
       "    </tr>\n",
       "    <tr>\n",
       "      <th>2023-01-01</th>\n",
       "      <td>NaN</td>\n",
       "      <td>NaN</td>\n",
       "    </tr>\n",
       "    <tr>\n",
       "      <th>2024-01-01</th>\n",
       "      <td>NaN</td>\n",
       "      <td>NaN</td>\n",
       "    </tr>\n",
       "    <tr>\n",
       "      <th>2025-01-01</th>\n",
       "      <td>NaN</td>\n",
       "      <td>NaN</td>\n",
       "    </tr>\n",
       "  </tbody>\n",
       "</table>\n",
       "</div>"
      ],
      "text/plain": [
       "            Coffee, Green predicted_values\n",
       "Year                                      \n",
       "1998-01-01   1.415304e+07              NaN\n",
       "1999-01-01   2.168172e+07              NaN\n",
       "2000-01-01   1.822200e+07              NaN\n",
       "2001-01-01   2.258928e+07              NaN\n",
       "2002-01-01   2.686065e+11              NaN\n",
       "2003-01-01   2.775984e+10              NaN\n",
       "2004-01-01   2.323116e+10              NaN\n",
       "2005-01-01   2.168172e+10              NaN\n",
       "2006-01-01   3.169634e+11              NaN\n",
       "2007-01-01   2.880412e+11              NaN\n",
       "2008-01-01   2.564522e+11              NaN\n",
       "2009-01-01   2.319827e+11              NaN\n",
       "2010-01-01   2.393090e+11              NaN\n",
       "2011-01-01   2.844187e+11              NaN\n",
       "2012-01-01   1.672782e+10              NaN\n",
       "2013-01-01   4.280040e+09              NaN\n",
       "2014-01-01   1.487292e+10              NaN\n",
       "2015-01-01   4.628400e+09              NaN\n",
       "2016-01-01   5.779200e+08              NaN\n",
       "2017-01-01   5.587200e+08              NaN\n",
       "2018-01-01   5.013000e+08              NaN\n",
       "2019-01-01   5.143200e+08              NaN\n",
       "2020-01-01   5.268600e+08              NaN\n",
       "2021-01-01   5.493000e+08              NaN\n",
       "2022-01-01            NaN              NaN\n",
       "2023-01-01            NaN              NaN\n",
       "2024-01-01            NaN              NaN\n",
       "2025-01-01            NaN              NaN"
      ]
     },
     "execution_count": 59,
     "metadata": {},
     "output_type": "execute_result"
    }
   ],
   "source": [
    "futureprediction = justcoffee.append(future)\n",
    "futureprediction"
   ]
  },
  {
   "cell_type": "code",
   "execution_count": null,
   "id": "c96945b6-bec1-44e3-836e-2476f92f9c96",
   "metadata": {},
   "outputs": [],
   "source": [
    "# establish number of points for forecast"
   ]
  },
  {
   "cell_type": "code",
   "execution_count": 60,
   "id": "fccc9880-cfd4-4581-a416-c0064032cf5c",
   "metadata": {},
   "outputs": [],
   "source": [
    "h=28"
   ]
  },
  {
   "cell_type": "code",
   "execution_count": 61,
   "id": "1c75e346-1455-4646-b0d7-60d55da3aa2c",
   "metadata": {},
   "outputs": [],
   "source": [
    "# Generate forecast"
   ]
  },
  {
   "cell_type": "code",
   "execution_count": 62,
   "id": "dbe0c4a8-6a4d-459d-9f30-eefc1f01febb",
   "metadata": {},
   "outputs": [
    {
     "data": {
      "text/html": [
       "<div>\n",
       "<style scoped>\n",
       "    .dataframe tbody tr th:only-of-type {\n",
       "        vertical-align: middle;\n",
       "    }\n",
       "\n",
       "    .dataframe tbody tr th {\n",
       "        vertical-align: top;\n",
       "    }\n",
       "\n",
       "    .dataframe thead th {\n",
       "        text-align: right;\n",
       "    }\n",
       "</style>\n",
       "<table border=\"1\" class=\"dataframe\">\n",
       "  <thead>\n",
       "    <tr style=\"text-align: right;\">\n",
       "      <th></th>\n",
       "      <th>predicted_values</th>\n",
       "    </tr>\n",
       "    <tr>\n",
       "      <th>Year</th>\n",
       "      <th></th>\n",
       "    </tr>\n",
       "  </thead>\n",
       "  <tbody>\n",
       "    <tr>\n",
       "      <th>1998-01-01</th>\n",
       "      <td>5.099597e+10</td>\n",
       "    </tr>\n",
       "    <tr>\n",
       "      <th>1999-01-01</th>\n",
       "      <td>7.545991e+10</td>\n",
       "    </tr>\n",
       "    <tr>\n",
       "      <th>2000-01-01</th>\n",
       "      <td>8.732583e+10</td>\n",
       "    </tr>\n",
       "    <tr>\n",
       "      <th>2001-01-01</th>\n",
       "      <td>9.308124e+10</td>\n",
       "    </tr>\n",
       "    <tr>\n",
       "      <th>2002-01-01</th>\n",
       "      <td>9.587283e+10</td>\n",
       "    </tr>\n",
       "    <tr>\n",
       "      <th>2003-01-01</th>\n",
       "      <td>9.722686e+10</td>\n",
       "    </tr>\n",
       "    <tr>\n",
       "      <th>2004-01-01</th>\n",
       "      <td>9.788361e+10</td>\n",
       "    </tr>\n",
       "    <tr>\n",
       "      <th>2005-01-01</th>\n",
       "      <td>9.820216e+10</td>\n",
       "    </tr>\n",
       "    <tr>\n",
       "      <th>2006-01-01</th>\n",
       "      <td>9.835667e+10</td>\n",
       "    </tr>\n",
       "    <tr>\n",
       "      <th>2007-01-01</th>\n",
       "      <td>9.843161e+10</td>\n",
       "    </tr>\n",
       "    <tr>\n",
       "      <th>2008-01-01</th>\n",
       "      <td>9.846796e+10</td>\n",
       "    </tr>\n",
       "    <tr>\n",
       "      <th>2009-01-01</th>\n",
       "      <td>9.848559e+10</td>\n",
       "    </tr>\n",
       "    <tr>\n",
       "      <th>2010-01-01</th>\n",
       "      <td>9.849414e+10</td>\n",
       "    </tr>\n",
       "    <tr>\n",
       "      <th>2011-01-01</th>\n",
       "      <td>9.849829e+10</td>\n",
       "    </tr>\n",
       "    <tr>\n",
       "      <th>2012-01-01</th>\n",
       "      <td>9.850030e+10</td>\n",
       "    </tr>\n",
       "    <tr>\n",
       "      <th>2013-01-01</th>\n",
       "      <td>9.850128e+10</td>\n",
       "    </tr>\n",
       "    <tr>\n",
       "      <th>2014-01-01</th>\n",
       "      <td>9.850175e+10</td>\n",
       "    </tr>\n",
       "    <tr>\n",
       "      <th>2015-01-01</th>\n",
       "      <td>9.850198e+10</td>\n",
       "    </tr>\n",
       "    <tr>\n",
       "      <th>2016-01-01</th>\n",
       "      <td>9.850209e+10</td>\n",
       "    </tr>\n",
       "    <tr>\n",
       "      <th>2017-01-01</th>\n",
       "      <td>9.850215e+10</td>\n",
       "    </tr>\n",
       "    <tr>\n",
       "      <th>2018-01-01</th>\n",
       "      <td>9.850217e+10</td>\n",
       "    </tr>\n",
       "    <tr>\n",
       "      <th>2019-01-01</th>\n",
       "      <td>9.850219e+10</td>\n",
       "    </tr>\n",
       "    <tr>\n",
       "      <th>2020-01-01</th>\n",
       "      <td>9.850219e+10</td>\n",
       "    </tr>\n",
       "    <tr>\n",
       "      <th>2021-01-01</th>\n",
       "      <td>9.850219e+10</td>\n",
       "    </tr>\n",
       "    <tr>\n",
       "      <th>2022-01-01</th>\n",
       "      <td>9.850220e+10</td>\n",
       "    </tr>\n",
       "    <tr>\n",
       "      <th>2023-01-01</th>\n",
       "      <td>9.850220e+10</td>\n",
       "    </tr>\n",
       "    <tr>\n",
       "      <th>2024-01-01</th>\n",
       "      <td>9.850220e+10</td>\n",
       "    </tr>\n",
       "    <tr>\n",
       "      <th>2025-01-01</th>\n",
       "      <td>9.850220e+10</td>\n",
       "    </tr>\n",
       "  </tbody>\n",
       "</table>\n",
       "</div>"
      ],
      "text/plain": [
       "            predicted_values\n",
       "Year                        \n",
       "1998-01-01      5.099597e+10\n",
       "1999-01-01      7.545991e+10\n",
       "2000-01-01      8.732583e+10\n",
       "2001-01-01      9.308124e+10\n",
       "2002-01-01      9.587283e+10\n",
       "2003-01-01      9.722686e+10\n",
       "2004-01-01      9.788361e+10\n",
       "2005-01-01      9.820216e+10\n",
       "2006-01-01      9.835667e+10\n",
       "2007-01-01      9.843161e+10\n",
       "2008-01-01      9.846796e+10\n",
       "2009-01-01      9.848559e+10\n",
       "2010-01-01      9.849414e+10\n",
       "2011-01-01      9.849829e+10\n",
       "2012-01-01      9.850030e+10\n",
       "2013-01-01      9.850128e+10\n",
       "2014-01-01      9.850175e+10\n",
       "2015-01-01      9.850198e+10\n",
       "2016-01-01      9.850209e+10\n",
       "2017-01-01      9.850215e+10\n",
       "2018-01-01      9.850217e+10\n",
       "2019-01-01      9.850219e+10\n",
       "2020-01-01      9.850219e+10\n",
       "2021-01-01      9.850219e+10\n",
       "2022-01-01      9.850220e+10\n",
       "2023-01-01      9.850220e+10\n",
       "2024-01-01      9.850220e+10\n",
       "2025-01-01      9.850220e+10"
      ]
     },
     "execution_count": 62,
     "metadata": {},
     "output_type": "execute_result"
    }
   ],
   "source": [
    "forecast2 = pd.DataFrame(arima_model.predict(h), index=futureprediction.index)\n",
    "forecast2.columns = ['predicted_values']\n",
    "forecast2"
   ]
  },
  {
   "cell_type": "code",
   "execution_count": 63,
   "id": "7bb67b7f-c191-4b3b-9574-28962b27de00",
   "metadata": {},
   "outputs": [],
   "source": [
    "#visualize forecast with training data"
   ]
  },
  {
   "cell_type": "code",
   "execution_count": 64,
   "id": "57d8d754-a64e-4cf1-a3b9-da3efb3496f1",
   "metadata": {},
   "outputs": [],
   "source": [
    "time = np.arange(train.shape[0] + h)"
   ]
  },
  {
   "cell_type": "code",
   "execution_count": 65,
   "id": "731eb462-62d2-4b70-bfa2-0757d9fce046",
   "metadata": {},
   "outputs": [],
   "source": [
    "#show division of data - training data = black, prediction data = red"
   ]
  },
  {
   "cell_type": "code",
   "execution_count": 67,
   "id": "acd0d4e9-4180-4cc6-8199-9377eae91ea2",
   "metadata": {},
   "outputs": [
    {
     "data": {
      "image/png": "[encoded data removed]",
      "text/plain": [
       "<Figure size 432x288 with 1 Axes>"
      ]
     },
     "metadata": {
      "needs_background": "light"
     },
     "output_type": "display_data"
    }
   ],
   "source": [
    "plt.plot(time[:train.shape[0]], train, c = 'black')\n",
    "plt.plot(time[train.shape[0]:], forecast2, c = 'red')\n",
    "plt.xlabel('Time')\n",
    "plt.ylabel('Value')\n",
    "plt.show()"
   ]
  },
  {
   "cell_type": "code",
   "execution_count": null,
   "id": "a605cb3d-fb44-4fa2-b614-69ae850aabfc",
   "metadata": {},
   "outputs": [],
   "source": [
    "# 2023 predicted Honey values based on Coffee Commodity Forecasting, \n",
    "# Using Coffee/ Honey linear regression equation performed in usdaHoneyMisc1: y = 1051(Honey) + 166000.9553\n",
    "# Coffee production for 2023 is forecasted at 9.850220e+10, or 9,850,220,000 Metric Tons\n",
    "# 9850220000 = 1051(Honey) + 166000.9553"
   ]
  },
  {
   "cell_type": "code",
   "execution_count": 69,
   "id": "4989140c-0b21-4f89-89b4-722d8af7472e",
   "metadata": {},
   "outputs": [
    {
     "data": {
      "text/plain": [
       "9850053999.0447"
      ]
     },
     "execution_count": 69,
     "metadata": {},
     "output_type": "execute_result"
    }
   ],
   "source": [
    "9850220000 -166000.9553"
   ]
  },
  {
   "cell_type": "code",
   "execution_count": 70,
   "id": "8c123b27-9065-481f-ae38-4bba2cc0e333",
   "metadata": {},
   "outputs": [
    {
     "data": {
      "text/plain": [
       "9372078.020023502"
      ]
     },
     "execution_count": 70,
     "metadata": {},
     "output_type": "execute_result"
    }
   ],
   "source": [
    "9850053999.0447/1051"
   ]
  },
  {
   "cell_type": "code",
   "execution_count": null,
   "id": "4c9c493b-73a6-4101-9c5a-6567a5af8d27",
   "metadata": {},
   "outputs": [],
   "source": [
    "# ARIMA coffee forecasting and equation showing linear relationship between US coffee and honey production\n",
    "# Results indicate that honey production is forecasted to be 9372078 Metric Tons in 2023"
   ]
  }
 ],
 "metadata": {
  "kernelspec": {
   "display_name": "Python 3 (ipykernel)",
   "language": "python",
   "name": "python3"
  },
  "language_info": {
   "codemirror_mode": {
    "name": "ipython",
    "version": 3
   },
   "file_extension": ".py",
   "mimetype": "text/x-python",
   "name": "python",
   "nbconvert_exporter": "python",
   "pygments_lexer": "ipython3",
   "version": "3.10.4"
  }
 },
 "nbformat": 4,
 "nbformat_minor": 5
}
