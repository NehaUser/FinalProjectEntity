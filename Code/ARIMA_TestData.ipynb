{
 "cells": [
  {
   "cell_type": "markdown",
   "id": "b7f2c104",
   "metadata": {},
   "source": [
    "# This file is to subset data and rearrange the highly correlated grains Oats, Barley, Rye for the ARIMA forecasting job.\n"
   ]
  },
  {
   "cell_type": "code",
   "execution_count": 1,
   "id": "9c02c2dc",
   "metadata": {},
   "outputs": [],
   "source": [
    "#Load Libraries\n",
    "\n",
    "import pandas as pd\n",
    "from matplotlib import pyplot\n",
    "from datetime import datetime\n",
    "from statsmodels.tsa.stattools import adfuller\n",
    "from pandas.plotting import autocorrelation_plot\n",
    "\n",
    "from statsmodels.tsa.arima.model import ARIMA\n",
    "from pandas import DataFrame\n",
    "\n"
   ]
  },
  {
   "cell_type": "code",
   "execution_count": 2,
   "id": "86ca99ea",
   "metadata": {},
   "outputs": [
    {
     "data": {
      "text/html": [
       "<div>\n",
       "<style scoped>\n",
       "    .dataframe tbody tr th:only-of-type {\n",
       "        vertical-align: middle;\n",
       "    }\n",
       "\n",
       "    .dataframe tbody tr th {\n",
       "        vertical-align: top;\n",
       "    }\n",
       "\n",
       "    .dataframe thead th {\n",
       "        text-align: right;\n",
       "    }\n",
       "</style>\n",
       "<table border=\"1\" class=\"dataframe\">\n",
       "  <thead>\n",
       "    <tr style=\"text-align: right;\">\n",
       "      <th></th>\n",
       "      <th>Commodity_Description</th>\n",
       "      <th>Year</th>\n",
       "      <th>Value</th>\n",
       "      <th>Country_Code</th>\n",
       "      <th>Country_Name</th>\n",
       "      <th>Attribute_Description</th>\n",
       "      <th>Unit_Description</th>\n",
       "    </tr>\n",
       "  </thead>\n",
       "  <tbody>\n",
       "    <tr>\n",
       "      <th>0</th>\n",
       "      <td>Almonds, Shelled Basis</td>\n",
       "      <td>1998</td>\n",
       "      <td>235884</td>\n",
       "      <td>US</td>\n",
       "      <td>United States</td>\n",
       "      <td>Production</td>\n",
       "      <td>(MT)</td>\n",
       "    </tr>\n",
       "    <tr>\n",
       "      <th>1</th>\n",
       "      <td>Almonds, Shelled Basis</td>\n",
       "      <td>1999</td>\n",
       "      <td>377800</td>\n",
       "      <td>US</td>\n",
       "      <td>United States</td>\n",
       "      <td>Production</td>\n",
       "      <td>(MT)</td>\n",
       "    </tr>\n",
       "    <tr>\n",
       "      <th>2</th>\n",
       "      <td>Almonds, Shelled Basis</td>\n",
       "      <td>2000</td>\n",
       "      <td>318900</td>\n",
       "      <td>US</td>\n",
       "      <td>United States</td>\n",
       "      <td>Production</td>\n",
       "      <td>(MT)</td>\n",
       "    </tr>\n",
       "    <tr>\n",
       "      <th>3</th>\n",
       "      <td>Almonds, Shelled Basis</td>\n",
       "      <td>2001</td>\n",
       "      <td>376500</td>\n",
       "      <td>US</td>\n",
       "      <td>United States</td>\n",
       "      <td>Production</td>\n",
       "      <td>(MT)</td>\n",
       "    </tr>\n",
       "    <tr>\n",
       "      <th>4</th>\n",
       "      <td>Almonds, Shelled Basis</td>\n",
       "      <td>2002</td>\n",
       "      <td>494416</td>\n",
       "      <td>US</td>\n",
       "      <td>United States</td>\n",
       "      <td>Production</td>\n",
       "      <td>(MT)</td>\n",
       "    </tr>\n",
       "    <tr>\n",
       "      <th>5</th>\n",
       "      <td>Almonds, Shelled Basis</td>\n",
       "      <td>2003</td>\n",
       "      <td>471740</td>\n",
       "      <td>US</td>\n",
       "      <td>United States</td>\n",
       "      <td>Production</td>\n",
       "      <td>(MT)</td>\n",
       "    </tr>\n",
       "    <tr>\n",
       "      <th>6</th>\n",
       "      <td>Almonds, Shelled Basis</td>\n",
       "      <td>2004</td>\n",
       "      <td>462664</td>\n",
       "      <td>US</td>\n",
       "      <td>United States</td>\n",
       "      <td>Production</td>\n",
       "      <td>(MT)</td>\n",
       "    </tr>\n",
       "    <tr>\n",
       "      <th>7</th>\n",
       "      <td>Almonds, Shelled Basis</td>\n",
       "      <td>2005</td>\n",
       "      <td>415040</td>\n",
       "      <td>US</td>\n",
       "      <td>United States</td>\n",
       "      <td>Production</td>\n",
       "      <td>(MT)</td>\n",
       "    </tr>\n",
       "    <tr>\n",
       "      <th>8</th>\n",
       "      <td>Almonds, Shelled Basis</td>\n",
       "      <td>2006</td>\n",
       "      <td>508023</td>\n",
       "      <td>US</td>\n",
       "      <td>United States</td>\n",
       "      <td>Production</td>\n",
       "      <td>(MT)</td>\n",
       "    </tr>\n",
       "    <tr>\n",
       "      <th>9</th>\n",
       "      <td>Almonds, Shelled Basis</td>\n",
       "      <td>2007</td>\n",
       "      <td>630500</td>\n",
       "      <td>US</td>\n",
       "      <td>United States</td>\n",
       "      <td>Production</td>\n",
       "      <td>(MT)</td>\n",
       "    </tr>\n",
       "    <tr>\n",
       "      <th>10</th>\n",
       "      <td>Almonds, Shelled Basis</td>\n",
       "      <td>2008</td>\n",
       "      <td>739400</td>\n",
       "      <td>US</td>\n",
       "      <td>United States</td>\n",
       "      <td>Production</td>\n",
       "      <td>(MT)</td>\n",
       "    </tr>\n",
       "    <tr>\n",
       "      <th>11</th>\n",
       "      <td>Almonds, Shelled Basis</td>\n",
       "      <td>2009</td>\n",
       "      <td>639600</td>\n",
       "      <td>US</td>\n",
       "      <td>United States</td>\n",
       "      <td>Production</td>\n",
       "      <td>(MT)</td>\n",
       "    </tr>\n",
       "    <tr>\n",
       "      <th>12</th>\n",
       "      <td>Almonds, Shelled Basis</td>\n",
       "      <td>2010</td>\n",
       "      <td>748430</td>\n",
       "      <td>US</td>\n",
       "      <td>United States</td>\n",
       "      <td>Production</td>\n",
       "      <td>(MT)</td>\n",
       "    </tr>\n",
       "    <tr>\n",
       "      <th>13</th>\n",
       "      <td>Almonds, Shelled Basis</td>\n",
       "      <td>2011</td>\n",
       "      <td>920800</td>\n",
       "      <td>US</td>\n",
       "      <td>United States</td>\n",
       "      <td>Production</td>\n",
       "      <td>(MT)</td>\n",
       "    </tr>\n",
       "    <tr>\n",
       "      <th>14</th>\n",
       "      <td>Almonds, Shelled Basis</td>\n",
       "      <td>2012</td>\n",
       "      <td>952500</td>\n",
       "      <td>US</td>\n",
       "      <td>United States</td>\n",
       "      <td>Production</td>\n",
       "      <td>(MT)</td>\n",
       "    </tr>\n",
       "    <tr>\n",
       "      <th>15</th>\n",
       "      <td>Almonds, Shelled Basis</td>\n",
       "      <td>2013</td>\n",
       "      <td>911720</td>\n",
       "      <td>US</td>\n",
       "      <td>United States</td>\n",
       "      <td>Production</td>\n",
       "      <td>(MT)</td>\n",
       "    </tr>\n",
       "    <tr>\n",
       "      <th>16</th>\n",
       "      <td>Almonds, Shelled Basis</td>\n",
       "      <td>2014</td>\n",
       "      <td>952540</td>\n",
       "      <td>US</td>\n",
       "      <td>United States</td>\n",
       "      <td>Production</td>\n",
       "      <td>(MT)</td>\n",
       "    </tr>\n",
       "    <tr>\n",
       "      <th>17</th>\n",
       "      <td>Almonds, Shelled Basis</td>\n",
       "      <td>2015</td>\n",
       "      <td>861830</td>\n",
       "      <td>US</td>\n",
       "      <td>United States</td>\n",
       "      <td>Production</td>\n",
       "      <td>(MT)</td>\n",
       "    </tr>\n",
       "    <tr>\n",
       "      <th>18</th>\n",
       "      <td>Almonds, Shelled Basis</td>\n",
       "      <td>2016</td>\n",
       "      <td>970690</td>\n",
       "      <td>US</td>\n",
       "      <td>United States</td>\n",
       "      <td>Production</td>\n",
       "      <td>(MT)</td>\n",
       "    </tr>\n",
       "    <tr>\n",
       "      <th>19</th>\n",
       "      <td>Almonds, Shelled Basis</td>\n",
       "      <td>2017</td>\n",
       "      <td>1029650</td>\n",
       "      <td>US</td>\n",
       "      <td>United States</td>\n",
       "      <td>Production</td>\n",
       "      <td>(MT)</td>\n",
       "    </tr>\n",
       "    <tr>\n",
       "      <th>20</th>\n",
       "      <td>Almonds, Shelled Basis</td>\n",
       "      <td>2018</td>\n",
       "      <td>1111300</td>\n",
       "      <td>US</td>\n",
       "      <td>United States</td>\n",
       "      <td>Production</td>\n",
       "      <td>(MT)</td>\n",
       "    </tr>\n",
       "    <tr>\n",
       "      <th>21</th>\n",
       "      <td>Almonds, Shelled Basis</td>\n",
       "      <td>2019</td>\n",
       "      <td>1156660</td>\n",
       "      <td>US</td>\n",
       "      <td>United States</td>\n",
       "      <td>Production</td>\n",
       "      <td>(MT)</td>\n",
       "    </tr>\n",
       "    <tr>\n",
       "      <th>22</th>\n",
       "      <td>Almonds, Shelled Basis</td>\n",
       "      <td>2020</td>\n",
       "      <td>1412940</td>\n",
       "      <td>US</td>\n",
       "      <td>United States</td>\n",
       "      <td>Production</td>\n",
       "      <td>(MT)</td>\n",
       "    </tr>\n",
       "    <tr>\n",
       "      <th>23</th>\n",
       "      <td>Almonds, Shelled Basis</td>\n",
       "      <td>2021</td>\n",
       "      <td>1270060</td>\n",
       "      <td>US</td>\n",
       "      <td>United States</td>\n",
       "      <td>Production</td>\n",
       "      <td>(MT)</td>\n",
       "    </tr>\n",
       "    <tr>\n",
       "      <th>24</th>\n",
       "      <td>Apples, Fresh</td>\n",
       "      <td>1998</td>\n",
       "      <td>5282724</td>\n",
       "      <td>US</td>\n",
       "      <td>United States</td>\n",
       "      <td>Production</td>\n",
       "      <td>(MT)</td>\n",
       "    </tr>\n",
       "    <tr>\n",
       "      <th>25</th>\n",
       "      <td>Apples, Fresh</td>\n",
       "      <td>1999</td>\n",
       "      <td>5746060</td>\n",
       "      <td>US</td>\n",
       "      <td>United States</td>\n",
       "      <td>Production</td>\n",
       "      <td>(MT)</td>\n",
       "    </tr>\n",
       "    <tr>\n",
       "      <th>26</th>\n",
       "      <td>Apples, Fresh</td>\n",
       "      <td>2000</td>\n",
       "      <td>5675890</td>\n",
       "      <td>US</td>\n",
       "      <td>United States</td>\n",
       "      <td>Production</td>\n",
       "      <td>(MT)</td>\n",
       "    </tr>\n",
       "    <tr>\n",
       "      <th>27</th>\n",
       "      <td>Apples, Fresh</td>\n",
       "      <td>2001</td>\n",
       "      <td>5065060</td>\n",
       "      <td>US</td>\n",
       "      <td>United States</td>\n",
       "      <td>Production</td>\n",
       "      <td>(MT)</td>\n",
       "    </tr>\n",
       "    <tr>\n",
       "      <th>28</th>\n",
       "      <td>Apples, Fresh</td>\n",
       "      <td>2002</td>\n",
       "      <td>4605810</td>\n",
       "      <td>US</td>\n",
       "      <td>United States</td>\n",
       "      <td>Production</td>\n",
       "      <td>(MT)</td>\n",
       "    </tr>\n",
       "    <tr>\n",
       "      <th>29</th>\n",
       "      <td>Apples, Fresh</td>\n",
       "      <td>2003</td>\n",
       "      <td>4780600</td>\n",
       "      <td>US</td>\n",
       "      <td>United States</td>\n",
       "      <td>Production</td>\n",
       "      <td>(MT)</td>\n",
       "    </tr>\n",
       "    <tr>\n",
       "      <th>30</th>\n",
       "      <td>Apples, Fresh</td>\n",
       "      <td>2004</td>\n",
       "      <td>5683040</td>\n",
       "      <td>US</td>\n",
       "      <td>United States</td>\n",
       "      <td>Production</td>\n",
       "      <td>(MT)</td>\n",
       "    </tr>\n",
       "    <tr>\n",
       "      <th>31</th>\n",
       "      <td>Apples, Fresh</td>\n",
       "      <td>2005</td>\n",
       "      <td>5261960</td>\n",
       "      <td>US</td>\n",
       "      <td>United States</td>\n",
       "      <td>Production</td>\n",
       "      <td>(MT)</td>\n",
       "    </tr>\n",
       "    <tr>\n",
       "      <th>32</th>\n",
       "      <td>Apples, Fresh</td>\n",
       "      <td>2006</td>\n",
       "      <td>5351610</td>\n",
       "      <td>US</td>\n",
       "      <td>United States</td>\n",
       "      <td>Production</td>\n",
       "      <td>(MT)</td>\n",
       "    </tr>\n",
       "    <tr>\n",
       "      <th>33</th>\n",
       "      <td>Apples, Fresh</td>\n",
       "      <td>2007</td>\n",
       "      <td>4154195</td>\n",
       "      <td>US</td>\n",
       "      <td>United States</td>\n",
       "      <td>Production</td>\n",
       "      <td>(MT)</td>\n",
       "    </tr>\n",
       "    <tr>\n",
       "      <th>34</th>\n",
       "      <td>Apples, Fresh</td>\n",
       "      <td>2008</td>\n",
       "      <td>4508344</td>\n",
       "      <td>US</td>\n",
       "      <td>United States</td>\n",
       "      <td>Production</td>\n",
       "      <td>(MT)</td>\n",
       "    </tr>\n",
       "    <tr>\n",
       "      <th>35</th>\n",
       "      <td>Apples, Fresh</td>\n",
       "      <td>2009</td>\n",
       "      <td>4505000</td>\n",
       "      <td>US</td>\n",
       "      <td>United States</td>\n",
       "      <td>Production</td>\n",
       "      <td>(MT)</td>\n",
       "    </tr>\n",
       "    <tr>\n",
       "      <th>36</th>\n",
       "      <td>Apples, Fresh</td>\n",
       "      <td>2010</td>\n",
       "      <td>4219541</td>\n",
       "      <td>US</td>\n",
       "      <td>United States</td>\n",
       "      <td>Production</td>\n",
       "      <td>(MT)</td>\n",
       "    </tr>\n",
       "    <tr>\n",
       "      <th>37</th>\n",
       "      <td>Apples, Fresh</td>\n",
       "      <td>2011</td>\n",
       "      <td>4231474</td>\n",
       "      <td>US</td>\n",
       "      <td>United States</td>\n",
       "      <td>Production</td>\n",
       "      <td>(MT)</td>\n",
       "    </tr>\n",
       "    <tr>\n",
       "      <th>38</th>\n",
       "      <td>Apples, Fresh</td>\n",
       "      <td>2012</td>\n",
       "      <td>4200000</td>\n",
       "      <td>US</td>\n",
       "      <td>United States</td>\n",
       "      <td>Production</td>\n",
       "      <td>(MT)</td>\n",
       "    </tr>\n",
       "    <tr>\n",
       "      <th>39</th>\n",
       "      <td>Apples, Fresh</td>\n",
       "      <td>2013</td>\n",
       "      <td>4731741</td>\n",
       "      <td>US</td>\n",
       "      <td>United States</td>\n",
       "      <td>Production</td>\n",
       "      <td>(MT)</td>\n",
       "    </tr>\n",
       "    <tr>\n",
       "      <th>40</th>\n",
       "      <td>Apples, Fresh</td>\n",
       "      <td>2014</td>\n",
       "      <td>5111942</td>\n",
       "      <td>US</td>\n",
       "      <td>United States</td>\n",
       "      <td>Production</td>\n",
       "      <td>(MT)</td>\n",
       "    </tr>\n",
       "    <tr>\n",
       "      <th>41</th>\n",
       "      <td>Apples, Fresh</td>\n",
       "      <td>2015</td>\n",
       "      <td>4561000</td>\n",
       "      <td>US</td>\n",
       "      <td>United States</td>\n",
       "      <td>Production</td>\n",
       "      <td>(MT)</td>\n",
       "    </tr>\n",
       "    <tr>\n",
       "      <th>42</th>\n",
       "      <td>Apples, Fresh</td>\n",
       "      <td>2016</td>\n",
       "      <td>5010201</td>\n",
       "      <td>US</td>\n",
       "      <td>United States</td>\n",
       "      <td>Production</td>\n",
       "      <td>(MT)</td>\n",
       "    </tr>\n",
       "    <tr>\n",
       "      <th>43</th>\n",
       "      <td>Apples, Fresh</td>\n",
       "      <td>2017</td>\n",
       "      <td>5084727</td>\n",
       "      <td>US</td>\n",
       "      <td>United States</td>\n",
       "      <td>Production</td>\n",
       "      <td>(MT)</td>\n",
       "    </tr>\n",
       "    <tr>\n",
       "      <th>44</th>\n",
       "      <td>Apples, Fresh</td>\n",
       "      <td>2018</td>\n",
       "      <td>5048000</td>\n",
       "      <td>US</td>\n",
       "      <td>United States</td>\n",
       "      <td>Production</td>\n",
       "      <td>(MT)</td>\n",
       "    </tr>\n",
       "    <tr>\n",
       "      <th>45</th>\n",
       "      <td>Apples, Fresh</td>\n",
       "      <td>2019</td>\n",
       "      <td>4851625</td>\n",
       "      <td>US</td>\n",
       "      <td>United States</td>\n",
       "      <td>Production</td>\n",
       "      <td>(MT)</td>\n",
       "    </tr>\n",
       "    <tr>\n",
       "      <th>46</th>\n",
       "      <td>Apples, Fresh</td>\n",
       "      <td>2020</td>\n",
       "      <td>4671000</td>\n",
       "      <td>US</td>\n",
       "      <td>United States</td>\n",
       "      <td>Production</td>\n",
       "      <td>(MT)</td>\n",
       "    </tr>\n",
       "    <tr>\n",
       "      <th>47</th>\n",
       "      <td>Apples, Fresh</td>\n",
       "      <td>2021</td>\n",
       "      <td>4607646</td>\n",
       "      <td>US</td>\n",
       "      <td>United States</td>\n",
       "      <td>Production</td>\n",
       "      <td>(MT)</td>\n",
       "    </tr>\n",
       "    <tr>\n",
       "      <th>48</th>\n",
       "      <td>Barley</td>\n",
       "      <td>1998</td>\n",
       "      <td>235884000</td>\n",
       "      <td>US</td>\n",
       "      <td>United States</td>\n",
       "      <td>Production</td>\n",
       "      <td>(MT)</td>\n",
       "    </tr>\n",
       "    <tr>\n",
       "      <th>49</th>\n",
       "      <td>Barley</td>\n",
       "      <td>1999</td>\n",
       "      <td>361362000</td>\n",
       "      <td>US</td>\n",
       "      <td>United States</td>\n",
       "      <td>Production</td>\n",
       "      <td>(MT)</td>\n",
       "    </tr>\n",
       "  </tbody>\n",
       "</table>\n",
       "</div>"
      ],
      "text/plain": [
       "     Commodity_Description  Year      Value Country_Code   Country_Name  \\\n",
       "0   Almonds, Shelled Basis  1998     235884           US  United States   \n",
       "1   Almonds, Shelled Basis  1999     377800           US  United States   \n",
       "2   Almonds, Shelled Basis  2000     318900           US  United States   \n",
       "3   Almonds, Shelled Basis  2001     376500           US  United States   \n",
       "4   Almonds, Shelled Basis  2002     494416           US  United States   \n",
       "5   Almonds, Shelled Basis  2003     471740           US  United States   \n",
       "6   Almonds, Shelled Basis  2004     462664           US  United States   \n",
       "7   Almonds, Shelled Basis  2005     415040           US  United States   \n",
       "8   Almonds, Shelled Basis  2006     508023           US  United States   \n",
       "9   Almonds, Shelled Basis  2007     630500           US  United States   \n",
       "10  Almonds, Shelled Basis  2008     739400           US  United States   \n",
       "11  Almonds, Shelled Basis  2009     639600           US  United States   \n",
       "12  Almonds, Shelled Basis  2010     748430           US  United States   \n",
       "13  Almonds, Shelled Basis  2011     920800           US  United States   \n",
       "14  Almonds, Shelled Basis  2012     952500           US  United States   \n",
       "15  Almonds, Shelled Basis  2013     911720           US  United States   \n",
       "16  Almonds, Shelled Basis  2014     952540           US  United States   \n",
       "17  Almonds, Shelled Basis  2015     861830           US  United States   \n",
       "18  Almonds, Shelled Basis  2016     970690           US  United States   \n",
       "19  Almonds, Shelled Basis  2017    1029650           US  United States   \n",
       "20  Almonds, Shelled Basis  2018    1111300           US  United States   \n",
       "21  Almonds, Shelled Basis  2019    1156660           US  United States   \n",
       "22  Almonds, Shelled Basis  2020    1412940           US  United States   \n",
       "23  Almonds, Shelled Basis  2021    1270060           US  United States   \n",
       "24           Apples, Fresh  1998    5282724           US  United States   \n",
       "25           Apples, Fresh  1999    5746060           US  United States   \n",
       "26           Apples, Fresh  2000    5675890           US  United States   \n",
       "27           Apples, Fresh  2001    5065060           US  United States   \n",
       "28           Apples, Fresh  2002    4605810           US  United States   \n",
       "29           Apples, Fresh  2003    4780600           US  United States   \n",
       "30           Apples, Fresh  2004    5683040           US  United States   \n",
       "31           Apples, Fresh  2005    5261960           US  United States   \n",
       "32           Apples, Fresh  2006    5351610           US  United States   \n",
       "33           Apples, Fresh  2007    4154195           US  United States   \n",
       "34           Apples, Fresh  2008    4508344           US  United States   \n",
       "35           Apples, Fresh  2009    4505000           US  United States   \n",
       "36           Apples, Fresh  2010    4219541           US  United States   \n",
       "37           Apples, Fresh  2011    4231474           US  United States   \n",
       "38           Apples, Fresh  2012    4200000           US  United States   \n",
       "39           Apples, Fresh  2013    4731741           US  United States   \n",
       "40           Apples, Fresh  2014    5111942           US  United States   \n",
       "41           Apples, Fresh  2015    4561000           US  United States   \n",
       "42           Apples, Fresh  2016    5010201           US  United States   \n",
       "43           Apples, Fresh  2017    5084727           US  United States   \n",
       "44           Apples, Fresh  2018    5048000           US  United States   \n",
       "45           Apples, Fresh  2019    4851625           US  United States   \n",
       "46           Apples, Fresh  2020    4671000           US  United States   \n",
       "47           Apples, Fresh  2021    4607646           US  United States   \n",
       "48                  Barley  1998  235884000           US  United States   \n",
       "49                  Barley  1999  361362000           US  United States   \n",
       "\n",
       "   Attribute_Description Unit_Description  \n",
       "0             Production             (MT)  \n",
       "1             Production             (MT)  \n",
       "2             Production             (MT)  \n",
       "3             Production             (MT)  \n",
       "4             Production             (MT)  \n",
       "5             Production             (MT)  \n",
       "6             Production             (MT)  \n",
       "7             Production             (MT)  \n",
       "8             Production             (MT)  \n",
       "9             Production             (MT)  \n",
       "10            Production             (MT)  \n",
       "11            Production             (MT)  \n",
       "12            Production             (MT)  \n",
       "13            Production             (MT)  \n",
       "14            Production             (MT)  \n",
       "15            Production             (MT)  \n",
       "16            Production             (MT)  \n",
       "17            Production             (MT)  \n",
       "18            Production             (MT)  \n",
       "19            Production             (MT)  \n",
       "20            Production             (MT)  \n",
       "21            Production             (MT)  \n",
       "22            Production             (MT)  \n",
       "23            Production             (MT)  \n",
       "24            Production             (MT)  \n",
       "25            Production             (MT)  \n",
       "26            Production             (MT)  \n",
       "27            Production             (MT)  \n",
       "28            Production             (MT)  \n",
       "29            Production             (MT)  \n",
       "30            Production             (MT)  \n",
       "31            Production             (MT)  \n",
       "32            Production             (MT)  \n",
       "33            Production             (MT)  \n",
       "34            Production             (MT)  \n",
       "35            Production             (MT)  \n",
       "36            Production             (MT)  \n",
       "37            Production             (MT)  \n",
       "38            Production             (MT)  \n",
       "39            Production             (MT)  \n",
       "40            Production             (MT)  \n",
       "41            Production             (MT)  \n",
       "42            Production             (MT)  \n",
       "43            Production             (MT)  \n",
       "44            Production             (MT)  \n",
       "45            Production             (MT)  \n",
       "46            Production             (MT)  \n",
       "47            Production             (MT)  \n",
       "48            Production             (MT)  \n",
       "49            Production             (MT)  "
      ]
     },
     "execution_count": 2,
     "metadata": {},
     "output_type": "execute_result"
    }
   ],
   "source": [
    "# Load Data\n",
    "globalHoneyCorr = pd.read_csv(\"../Data/usdaGlobal_HighCorr_Honey.csv\")\n",
    "\n",
    "globalHoneyCorr.head(50)"
   ]
  },
  {
   "cell_type": "code",
   "execution_count": 3,
   "id": "e20985bc",
   "metadata": {},
   "outputs": [],
   "source": [
    "# Picking highly correlated commodity in grains  - Barley, Oats, Rye.\n",
    "\n",
    "Barley_DS = globalHoneyCorr[globalHoneyCorr.Commodity_Description == 'Barley']\n",
    "\n",
    "Oats_DS = globalHoneyCorr[globalHoneyCorr.Commodity_Description == 'Oats']\n",
    "\n",
    "Rye_DS = globalHoneyCorr[globalHoneyCorr.Commodity_Description == 'Rye']"
   ]
  },
  {
   "cell_type": "code",
   "execution_count": 4,
   "id": "f2b460d3",
   "metadata": {},
   "outputs": [],
   "source": [
    "# Subsetting the Datasets to have year and production value\n",
    "\n",
    "Barley_DS1 = Barley_DS[[\"Year\", \"Value\"]]\n",
    "\n",
    "Oats_DS1 = Oats_DS[[\"Year\", \"Value\"]]\n",
    "\n",
    "Rye_DS1 = Rye_DS[[\"Year\", \"Value\"]]\n",
    "\n",
    "\n",
    "\n",
    "Barley_DS1 = pd.DataFrame(data=Barley_DS1)\n",
    "Oats_DS1 = pd.DataFrame(data=Oats_DS1)\n",
    "Rye_DS1 = pd.DataFrame(data=Rye_DS1)\n",
    "\n",
    "\n",
    "\n"
   ]
  },
  {
   "cell_type": "code",
   "execution_count": 5,
   "id": "05d99b6b",
   "metadata": {},
   "outputs": [],
   "source": [
    "# Renaming the column Value\n",
    "\n",
    "Barley_DS1.rename(columns = {'Value':'BarleyProd'}, inplace = True)\n",
    "\n",
    "Oats_DS1.rename(columns = {'Value':'OatsProd'}, inplace = True)\n",
    "\n",
    "Rye_DS1.rename(columns = {'Value':'RyeProd'}, inplace = True)"
   ]
  },
  {
   "cell_type": "code",
   "execution_count": 17,
   "id": "11f7155d",
   "metadata": {},
   "outputs": [],
   "source": [
    "# Saving the dataset as CSV file for future use\n",
    "\n",
    "\n",
    "Barley_DS1.to_csv(r'../Data/BarleyArima.csv', index = False)\n",
    "\n",
    "Oats_DS1.to_csv(r'../Data/OatsArima.csv', index = False)\n",
    "\n",
    "Rye_DS1.to_csv(r'../Data/RyeArima.csv', index = False)\n",
    "\n"
   ]
  },
  {
   "cell_type": "markdown",
   "id": "bc72b258",
   "metadata": {},
   "source": [
    "# Working on Barley "
   ]
  },
  {
   "cell_type": "code",
   "execution_count": 7,
   "id": "4a011096",
   "metadata": {},
   "outputs": [],
   "source": [
    "# Reformat the Year as Date and extracting only the year out of it.\n",
    "\n",
    "Barley_DS2 = pd.DataFrame(data=Barley_DS1)\n",
    "\n",
    "Barley_DS2['Year'] = Barley_DS2['Year'].astype(str)\n",
    "Barley_DS2['Year'] = Barley_DS2['Year'].apply(lambda s: s+\"-01-01\")\n",
    "Barley_DS2['Year'] = pd.to_datetime(Barley_DS2.Year)\n",
    "Barley_DS2['Year'] = Barley_DS2['Year'].dt.year"
   ]
  },
  {
   "cell_type": "code",
   "execution_count": 8,
   "id": "78752989",
   "metadata": {},
   "outputs": [],
   "source": [
    "Barley_DS2.set_index('Year', inplace=True)"
   ]
  },
  {
   "cell_type": "code",
   "execution_count": 9,
   "id": "ecd82ae8",
   "metadata": {},
   "outputs": [
    {
     "data": {
      "image/png": "[encoded data removed]",
      "text/plain": [
       "<Figure size 432x288 with 1 Axes>"
      ]
     },
     "metadata": {
      "needs_background": "light"
     },
     "output_type": "display_data"
    }
   ],
   "source": [
    "Barley_DS2.plot()\n",
    "pyplot.show()\n"
   ]
  },
  {
   "cell_type": "code",
   "execution_count": 10,
   "id": "274a1d54",
   "metadata": {},
   "outputs": [
    {
     "name": "stdout",
     "output_type": "stream",
     "text": [
      "         BarleyProd\n",
      "count  2.400000e+01\n",
      "mean   2.801824e+09\n",
      "std    2.135554e+09\n",
      "min    2.358840e+08\n",
      "25%    4.864780e+08\n",
      "50%    4.202762e+09\n",
      "75%    4.475199e+09\n",
      "max    5.683040e+09\n"
     ]
    }
   ],
   "source": [
    "print(Barley_DS2.describe())"
   ]
  },
  {
   "cell_type": "code",
   "execution_count": 11,
   "id": "835b3510",
   "metadata": {},
   "outputs": [
    {
     "data": {
      "image/png": "[encoded data removed]",
      "text/plain": [
       "<Figure size 432x288 with 1 Axes>"
      ]
     },
     "metadata": {
      "needs_background": "light"
     },
     "output_type": "display_data"
    },
    {
     "data": {
      "text/plain": [
       "{'adf': -1.2406416518278522,\n",
       " 'pvalue': 0.6558730436045354,\n",
       " 'usedlag': 9,\n",
       " 'nobs': 14,\n",
       " 'criticalvalues': {'1%': -4.01203360058309,\n",
       "  '5%': -3.1041838775510207,\n",
       "  '10%': -2.6909873469387753},\n",
       " 'icbest': 634.0830837319835}"
      ]
     },
     "execution_count": 11,
     "metadata": {},
     "output_type": "execute_result"
    }
   ],
   "source": [
    "# As we can clearly see, there is no trend in time and that suggests that the data are stationary.\n",
    "# However just to be sure we will use an Augmented Dickey-Fuller test.\n",
    "\n",
    "autocorrelation_plot(Barley_DS2)\n",
    "pyplot.show()\n",
    "\n",
    "result = adfuller(Barley_DS2['BarleyProd'], autolag = 'AIC')\n",
    "\n",
    "#to help you, we added the names of every value\n",
    "\n",
    "dict(zip(['adf', 'pvalue', 'usedlag', 'nobs', 'critical' 'values', 'icbest'],result))\n"
   ]
  },
  {
   "cell_type": "code",
   "execution_count": 12,
   "id": "ed79f54f",
   "metadata": {},
   "outputs": [],
   "source": [
    "# Analysing the results\n",
    "\n",
    "# Test statistic: -1.24\n",
    "# P-value: 0.65\n",
    "    \n",
    "# We failed to reject the Null Hypothesis and the series has a unit root thus is not stationary.\n",
    "# In other words, it has some time-dependent structure and does not have constant variance over time."
   ]
  },
  {
   "cell_type": "code",
   "execution_count": 13,
   "id": "9434c76e",
   "metadata": {},
   "outputs": [
    {
     "data": {
      "text/plain": [
       "<AxesSubplot:xlabel='Year'>"
      ]
     },
     "execution_count": 13,
     "metadata": {},
     "output_type": "execute_result"
    },
    {
     "data": {
      "image/png": "[encoded data removed]",
      "text/plain": [
       "<Figure size 432x288 with 1 Axes>"
      ]
     },
     "metadata": {
      "needs_background": "light"
     },
     "output_type": "display_data"
    }
   ],
   "source": [
    "Barley_DS2['1difference']=Barley_DS2['BarleyProd']-Barley_DS2['BarleyProd'].shift(1)\n",
    "Barley_DS2['1difference'].plot()"
   ]
  },
  {
   "cell_type": "code",
   "execution_count": 14,
   "id": "6d5e0857",
   "metadata": {},
   "outputs": [
    {
     "data": {
      "text/plain": [
       "(-0.9714583338721993,\n",
       " 0.763531382981293,\n",
       " 8,\n",
       " 14,\n",
       " {'1%': -4.01203360058309,\n",
       "  '5%': -3.1041838775510207,\n",
       "  '10%': -2.6909873469387753},\n",
       " 594.3682191666715)"
      ]
     },
     "execution_count": 14,
     "metadata": {},
     "output_type": "execute_result"
    }
   ],
   "source": [
    "# Barley_DS2.dropna()\n",
    "\n",
    "result = adfuller(Barley_DS2['1difference'].dropna(), autolag = 'AIC')\n",
    "\n",
    "#to help you, we added the names of every value\n",
    "\n",
    "#dict(zip(['adf', 'pvalue', 'usedlag', 'nobs', 'critical' 'values', 'icbest'],result))\n",
    "\n",
    "result"
   ]
  },
  {
   "cell_type": "code",
   "execution_count": 15,
   "id": "92540124",
   "metadata": {},
   "outputs": [
    {
     "data": {
      "text/plain": [
       "<AxesSubplot:xlabel='Year'>"
      ]
     },
     "execution_count": 15,
     "metadata": {},
     "output_type": "execute_result"
    },
    {
     "data": {
      "image/png": "[encoded data removed]",
      "text/plain": [
       "<Figure size 432x288 with 1 Axes>"
      ]
     },
     "metadata": {
      "needs_background": "light"
     },
     "output_type": "display_data"
    }
   ],
   "source": [
    "Barley_DS2['2difference']=Barley_DS2['1difference']-Barley_DS2['1difference'].shift(1)\n",
    "Barley_DS2['2difference'].plot()"
   ]
  },
  {
   "cell_type": "code",
   "execution_count": 16,
   "id": "5aac8344",
   "metadata": {},
   "outputs": [
    {
     "data": {
      "text/plain": [
       "(-1.8892995548622382,\n",
       " 0.3371115603404965,\n",
       " 8,\n",
       " 13,\n",
       " {'1%': -4.068853732362312,\n",
       "  '5%': -3.1271488757396453,\n",
       "  '10%': -2.7017297633136095},\n",
       " 547.0152818883897)"
      ]
     },
     "execution_count": 16,
     "metadata": {},
     "output_type": "execute_result"
    }
   ],
   "source": [
    "result = adfuller(Barley_DS2['2difference'].dropna(), autolag = 'AIC')\n",
    "result\n",
    "\n"
   ]
  },
  {
   "cell_type": "code",
   "execution_count": 17,
   "id": "3ba338a9",
   "metadata": {},
   "outputs": [
    {
     "data": {
      "text/plain": [
       "<AxesSubplot:xlabel='Year'>"
      ]
     },
     "execution_count": 17,
     "metadata": {},
     "output_type": "execute_result"
    },
    {
     "data": {
      "image/png": "[encoded data removed]",
      "text/plain": [
       "<Figure size 432x288 with 1 Axes>"
      ]
     },
     "metadata": {
      "needs_background": "light"
     },
     "output_type": "display_data"
    }
   ],
   "source": [
    "Barley_DS2['3difference']=Barley_DS2['2difference']-Barley_DS2['2difference'].shift(1)\n",
    "Barley_DS2['3difference'].plot()"
   ]
  },
  {
   "cell_type": "code",
   "execution_count": 18,
   "id": "764ef91d",
   "metadata": {},
   "outputs": [
    {
     "data": {
      "text/plain": [
       "(-1.9250639731319283,\n",
       " 0.32036363003439494,\n",
       " 8,\n",
       " 12,\n",
       " {'1%': -4.137829282407408,\n",
       "  '5%': -3.1549724074074077,\n",
       "  '10%': -2.7144769444444443},\n",
       " 551.7131422128583)"
      ]
     },
     "execution_count": 18,
     "metadata": {},
     "output_type": "execute_result"
    }
   ],
   "source": [
    "result = adfuller(Barley_DS2['3difference'].dropna(), autolag = 'AIC')\n",
    "result"
   ]
  },
  {
   "cell_type": "code",
   "execution_count": 19,
   "id": "55f14375",
   "metadata": {},
   "outputs": [
    {
     "data": {
      "text/plain": [
       "(-1.8808155407183162,\n",
       " 0.34113920172995005,\n",
       " 8,\n",
       " 11,\n",
       " {'1%': -4.223238279489106,\n",
       "  '5%': -3.189368925619835,\n",
       "  '10%': -2.729839421487603},\n",
       " 499.6415906238096)"
      ]
     },
     "execution_count": 19,
     "metadata": {},
     "output_type": "execute_result"
    },
    {
     "data": {
      "image/png": "[encoded data removed]",
      "text/plain": [
       "<Figure size 432x288 with 1 Axes>"
      ]
     },
     "metadata": {
      "needs_background": "light"
     },
     "output_type": "display_data"
    }
   ],
   "source": [
    "Barley_DS2['4difference']=Barley_DS2['3difference']-Barley_DS2['3difference'].shift(1)\n",
    "Barley_DS2['4difference'].plot()\n",
    "\n",
    "result = adfuller(Barley_DS2['4difference'].dropna(), autolag = 'AIC')\n",
    "result"
   ]
  },
  {
   "cell_type": "code",
   "execution_count": 20,
   "id": "7412cb27",
   "metadata": {},
   "outputs": [
    {
     "data": {
      "text/plain": [
       "Year\n",
       "2001    3.135900e+08\n",
       "2002   -8.531000e+07\n",
       "2003   -1.989020e+08\n",
       "2004    1.936780e+08\n",
       "2005    4.228304e+09\n",
       "2006   -7.992764e+09\n",
       "2007    3.577102e+09\n",
       "2008   -6.739540e+08\n",
       "2009    1.332126e+09\n",
       "2010   -1.612337e+09\n",
       "2011    2.177476e+09\n",
       "2012   -1.316000e+09\n",
       "2013   -2.890196e+09\n",
       "2014    9.743073e+09\n",
       "2015   -9.966998e+09\n",
       "2016    3.449931e+09\n",
       "2017   -4.637300e+07\n",
       "2018   -3.548954e+09\n",
       "2019    6.838860e+09\n",
       "2020   -3.212206e+09\n",
       "2021    3.578799e+09\n",
       "Name: 3difference, dtype: float64"
      ]
     },
     "execution_count": 20,
     "metadata": {},
     "output_type": "execute_result"
    }
   ],
   "source": [
    "# Looks like p-val is going up.. let's keep it 3rd difference.\n",
    "\n",
    "Barley_DS2['3difference'].dropna()\n"
   ]
  },
  {
   "cell_type": "code",
   "execution_count": 21,
   "id": "4fc8d479",
   "metadata": {},
   "outputs": [
    {
     "name": "stdout",
     "output_type": "stream",
     "text": [
      "                               SARIMAX Results                                \n",
      "==============================================================================\n",
      "Dep. Variable:             BarleyProd   No. Observations:                   24\n",
      "Model:                 ARIMA(0, 2, 0)   Log Likelihood                -661.806\n",
      "Date:                Tue, 19 Jul 2022   AIC                           1325.611\n",
      "Time:                        21:48:09   BIC                           1326.703\n",
      "Sample:                             0   HQIC                          1325.869\n",
      "                                 - 24                                         \n",
      "Covariance Type:                  opg                                         \n",
      "==============================================================================\n",
      "                 coef    std err          z      P>|z|      [0.025      0.975]\n",
      "------------------------------------------------------------------------------\n",
      "sigma2      3.485e+17   4.41e+15     79.009      0.000     3.4e+17    3.57e+17\n",
      "===================================================================================\n",
      "Ljung-Box (L1) (Q):                   6.76   Jarque-Bera (JB):                 1.77\n",
      "Prob(Q):                              0.01   Prob(JB):                         0.41\n",
      "Heteroskedasticity (H):               1.50   Skew:                             0.65\n",
      "Prob(H) (two-sided):                  0.60   Kurtosis:                         3.47\n",
      "===================================================================================\n",
      "\n",
      "Warnings:\n",
      "[1] Covariance matrix calculated using the outer product of gradients (complex-step).\n"
     ]
    },
    {
     "name": "stderr",
     "output_type": "stream",
     "text": [
      "/opt/homebrew/lib/python3.9/site-packages/statsmodels/tsa/base/tsa_model.py:471: ValueWarning: An unsupported index was provided and will be ignored when e.g. forecasting.\n",
      "  self._init_dates(dates, freq)\n",
      "/opt/homebrew/lib/python3.9/site-packages/statsmodels/tsa/base/tsa_model.py:471: ValueWarning: An unsupported index was provided and will be ignored when e.g. forecasting.\n",
      "  self._init_dates(dates, freq)\n",
      "/opt/homebrew/lib/python3.9/site-packages/statsmodels/tsa/base/tsa_model.py:471: ValueWarning: An unsupported index was provided and will be ignored when e.g. forecasting.\n",
      "  self._init_dates(dates, freq)\n"
     ]
    },
    {
     "data": {
      "image/png": "[encoded data removed]",
      "text/plain": [
       "<Figure size 432x288 with 1 Axes>"
      ]
     },
     "metadata": {
      "needs_background": "light"
     },
     "output_type": "display_data"
    },
    {
     "data": {
      "image/png": "[encoded data removed]",
      "text/plain": [
       "<Figure size 432x288 with 1 Axes>"
      ]
     },
     "metadata": {
      "needs_background": "light"
     },
     "output_type": "display_data"
    },
    {
     "name": "stdout",
     "output_type": "stream",
     "text": [
      "                  0\n",
      "count  2.400000e+01\n",
      "mean   1.570545e+08\n",
      "std    2.440300e+09\n",
      "min   -3.724544e+09\n",
      "25%   -3.854472e+08\n",
      "50%    4.252800e+07\n",
      "75%    3.045955e+08\n",
      "max    6.612746e+09\n"
     ]
    }
   ],
   "source": [
    "# fit model\n",
    "model = ARIMA(Barley_DS2['BarleyProd'], order=(0,2,0))\n",
    "model_fit = model.fit()\n",
    "# summary of fit model\n",
    "print(model_fit.summary())\n",
    "# line plot of residuals\n",
    "residuals = DataFrame(model_fit.resid)\n",
    "residuals.plot()\n",
    "pyplot.show()\n",
    "# density plot of residuals\n",
    "residuals.plot(kind='kde')\n",
    "pyplot.show()\n",
    "# summary stats of residuals\n",
    "print(residuals.describe())"
   ]
  },
  {
   "cell_type": "code",
   "execution_count": 22,
   "id": "bef52213",
   "metadata": {},
   "outputs": [],
   "source": [
    "# Still learning and will do more tests in new files."
   ]
  },
  {
   "cell_type": "code",
   "execution_count": null,
   "id": "b068e9a3",
   "metadata": {},
   "outputs": [],
   "source": []
  }
 ],
 "metadata": {
  "kernelspec": {
   "display_name": "Python 3 (ipykernel)",
   "language": "python",
   "name": "python3"
  },
  "language_info": {
   "codemirror_mode": {
    "name": "ipython",
    "version": 3
   },
   "file_extension": ".py",
   "mimetype": "text/x-python",
   "name": "python",
   "nbconvert_exporter": "python",
   "pygments_lexer": "ipython3",
   "version": "3.9.9"
  }
 },
 "nbformat": 4,
 "nbformat_minor": 5
}
