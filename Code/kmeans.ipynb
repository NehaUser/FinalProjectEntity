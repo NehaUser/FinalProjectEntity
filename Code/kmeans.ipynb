{
 "cells": [
  {
   "cell_type": "code",
   "execution_count": 83,
   "id": "8b252317-5f43-4a00-b0c3-13091593da24",
   "metadata": {},
   "outputs": [],
   "source": [
    "import numpy as np\n",
    "import pandas as pd\n",
    "import statsmodels.api as sm\n",
    "import matplotlib.pyplot as plt\n",
    "import seaborn as sns\n",
    "sns.set()\n",
    "from sklearn.cluster import KMeans"
   ]
  },
  {
   "cell_type": "code",
   "execution_count": 109,
   "id": "7ad78a50-9702-4685-ac13-a09a36d3bb79",
   "metadata": {},
   "outputs": [],
   "source": [
    "data = [['Apples', 798860091], ['Corn', -974434040.254], ['Grapefruit', 2246868971.99], ['Dairy', 256487.620], ['Swine', -3922429251.3526], ['Rye', 1042322.79], ['Barley', 41464275.3], ['Oats', 360554.8], ['Almonds', -20472.79], ['Walnuts', -67762.61], ['Soybean Oil', -107208047.41], ['Rapeseed Oil', -393762225.9], ['Coffee', 93720789]]"
   ]
  },
  {
   "cell_type": "code",
   "execution_count": 110,
   "id": "9eb20f5f-8ffb-44c0-ad9c-29cc045eecd5",
   "metadata": {},
   "outputs": [],
   "source": [
    "HP = pd.DataFrame(data, columns=['Commodity', 'Honey Prediction in Metric Tons'])"
   ]
  },
  {
   "cell_type": "code",
   "execution_count": 111,
   "id": "e5290ba8-2de1-4291-99af-5c40d98bd000",
   "metadata": {},
   "outputs": [
    {
     "name": "stdout",
     "output_type": "stream",
     "text": [
      "       Commodity  Honey Prediction in Metric Tons\n",
      "0         Apples                     7.988601e+08\n",
      "1           Corn                    -9.744340e+08\n",
      "2     Grapefruit                     2.246869e+09\n",
      "3          Dairy                     2.564876e+05\n",
      "4          Swine                    -3.922429e+09\n",
      "5            Rye                     1.042323e+06\n",
      "6         Barley                     4.146428e+07\n",
      "7           Oats                     3.605548e+05\n",
      "8        Almonds                    -2.047279e+04\n",
      "9        Walnuts                    -6.776261e+04\n",
      "10   Soybean Oil                    -1.072080e+08\n",
      "11  Rapeseed Oil                    -3.937622e+08\n",
      "12        Coffee                     9.372079e+07\n"
     ]
    }
   ],
   "source": [
    "print(HP)"
   ]
  },
  {
   "cell_type": "code",
   "execution_count": 112,
   "id": "c9c27f69-37ec-47b5-888a-f7dc3ea05925",
   "metadata": {},
   "outputs": [
    {
     "data": {
      "image/png": "[encoded data removed]",
      "text/plain": [
       "<Figure size 432x288 with 1 Axes>"
      ]
     },
     "metadata": {},
     "output_type": "display_data"
    }
   ],
   "source": [
    "x1 = HP['Commodity']\n",
    "y = HP['Honey Prediction in Metric Tons']\n",
    "\n",
    "plt.scatter(x1,y)\n",
    " \n",
    "plt.xlabel('Commodity', fontsize = 12)\n",
    " \n",
    "plt.ylabel('Honey Prediction In Metric Tons', fontsize = 12)\n",
    "\n",
    "plt.ylim(-4000000000,100000000)\n",
    "\n",
    "plt.show()\n"
   ]
  },
  {
   "cell_type": "code",
   "execution_count": 146,
   "id": "7a73c021-39d0-4056-a8cb-12cf6aa2fc8c",
   "metadata": {},
   "outputs": [
    {
     "name": "stdout",
     "output_type": "stream",
     "text": [
      "    index  Honey Prediction in Metric Tons  Group\n",
      "0       1                     7.988601e+08      1\n",
      "1       2                    -9.744340e+08      1\n",
      "2       3                     2.246869e+09      2\n",
      "3       4                     2.564876e+05      1\n",
      "4       5                    -3.922429e+09      0\n",
      "5       6                     1.042323e+06      1\n",
      "6       7                     4.146428e+07      1\n",
      "7       8                     3.605548e+05      1\n",
      "8       9                    -2.047279e+04      1\n",
      "9      10                    -6.776261e+04      1\n",
      "10     11                    -1.072080e+08      1\n",
      "11     12                    -3.937622e+08      1\n",
      "12     13                     9.372079e+07      1\n"
     ]
    }
   ],
   "source": [
    "#export DataFrame for visualizations in Tableau\n",
    "\n",
    "HP = pd.DataFrame(HP)\n",
    "HP.to_csv (r'C:\\Users\\srjoh\\OneDrive\\Documents\\WOZ-U\\Final Project\\datasets\\HP.csv', index = False, header=True)\n",
    "print (HP)"
   ]
  },
  {
   "cell_type": "code",
   "execution_count": 93,
   "id": "6d55d4ea-55ca-47d8-9c9b-8cabac54f30c",
   "metadata": {},
   "outputs": [],
   "source": [
    "#Kmeans Cluster"
   ]
  },
  {
   "cell_type": "code",
   "execution_count": null,
   "id": "ce347442-c5e2-47b2-8c70-0a92f8eab7e2",
   "metadata": {},
   "outputs": [],
   "source": [
    "#wrangle data"
   ]
  },
  {
   "cell_type": "code",
   "execution_count": 114,
   "id": "e6eb845b-4bea-4d71-af23-248f25364fc3",
   "metadata": {},
   "outputs": [],
   "source": [
    "index=[1,2,3,4,5,6,7,8,9,10,11,12,13]"
   ]
  },
  {
   "cell_type": "code",
   "execution_count": 115,
   "id": "9e6dfe7e-d9ae-4599-a2fb-591f68dc7fd7",
   "metadata": {},
   "outputs": [],
   "source": [
    "HP.insert(0,'index', index)"
   ]
  },
  {
   "cell_type": "code",
   "execution_count": 116,
   "id": "81d04629-22fe-451d-9948-01f3206d7e57",
   "metadata": {},
   "outputs": [
    {
     "name": "stdout",
     "output_type": "stream",
     "text": [
      "    index     Commodity  Honey Prediction in Metric Tons\n",
      "0       1        Apples                     7.988601e+08\n",
      "1       2          Corn                    -9.744340e+08\n",
      "2       3    Grapefruit                     2.246869e+09\n",
      "3       4         Dairy                     2.564876e+05\n",
      "4       5         Swine                    -3.922429e+09\n",
      "5       6           Rye                     1.042323e+06\n",
      "6       7        Barley                     4.146428e+07\n",
      "7       8          Oats                     3.605548e+05\n",
      "8       9       Almonds                    -2.047279e+04\n",
      "9      10       Walnuts                    -6.776261e+04\n",
      "10     11   Soybean Oil                    -1.072080e+08\n",
      "11     12  Rapeseed Oil                    -3.937622e+08\n",
      "12     13        Coffee                     9.372079e+07\n"
     ]
    }
   ],
   "source": [
    "print(HP)"
   ]
  },
  {
   "cell_type": "code",
   "execution_count": 117,
   "id": "1cd5fe3f-0bdd-4bca-abe6-47a86f093ddd",
   "metadata": {},
   "outputs": [],
   "source": [
    "HP1=HP[['index', 'Honey Prediction in Metric Tons']]"
   ]
  },
  {
   "cell_type": "code",
   "execution_count": 118,
   "id": "a7436a38-2784-4bdf-89ab-308bd71e87c0",
   "metadata": {},
   "outputs": [
    {
     "name": "stdout",
     "output_type": "stream",
     "text": [
      "    index  Honey Prediction in Metric Tons\n",
      "0       1                     7.988601e+08\n",
      "1       2                    -9.744340e+08\n",
      "2       3                     2.246869e+09\n",
      "3       4                     2.564876e+05\n",
      "4       5                    -3.922429e+09\n",
      "5       6                     1.042323e+06\n",
      "6       7                     4.146428e+07\n",
      "7       8                     3.605548e+05\n",
      "8       9                    -2.047279e+04\n",
      "9      10                    -6.776261e+04\n",
      "10     11                    -1.072080e+08\n",
      "11     12                    -3.937622e+08\n",
      "12     13                     9.372079e+07\n"
     ]
    }
   ],
   "source": [
    "print(HP1)"
   ]
  },
  {
   "cell_type": "code",
   "execution_count": 121,
   "id": "bc223ed1-679c-4318-82ba-d490806b78bb",
   "metadata": {},
   "outputs": [
    {
     "name": "stdout",
     "output_type": "stream",
     "text": [
      "    index  Honey Prediction in Metric Tons\n",
      "0       1                     7.988601e+08\n",
      "1       2                    -9.744340e+08\n",
      "2       3                     2.246869e+09\n",
      "3       4                     2.564876e+05\n",
      "4       5                    -3.922429e+09\n",
      "5       6                     1.042323e+06\n",
      "6       7                     4.146428e+07\n",
      "7       8                     3.605548e+05\n",
      "8       9                    -2.047279e+04\n",
      "9      10                    -6.776261e+04\n",
      "10     11                    -1.072080e+08\n",
      "11     12                    -3.937622e+08\n",
      "12     13                     9.372079e+07\n"
     ]
    }
   ],
   "source": [
    "#export DataFrame\n",
    "\n",
    "HP1 = pd.DataFrame(HP1)\n",
    "HP1.to_csv (r'C:\\Users\\srjoh\\OneDrive\\Documents\\WOZ-U\\Final Project\\datasets\\HP1.csv', index = False, header=True)\n",
    "print (HP1)"
   ]
  },
  {
   "cell_type": "code",
   "execution_count": 122,
   "id": "0c91ad4c-ee5b-477d-bff6-67e8c4cf0d96",
   "metadata": {},
   "outputs": [
    {
     "name": "stdout",
     "output_type": "stream",
     "text": [
      "    index  Honey Prediction in Metric Tons\n",
      "0       1                     7.988601e+08\n",
      "1       2                    -9.744340e+08\n",
      "2       3                     2.246869e+09\n",
      "3       4                     2.564876e+05\n",
      "4       5                    -3.922429e+09\n",
      "5       6                     1.042323e+06\n",
      "6       7                     4.146428e+07\n",
      "7       8                     3.605548e+05\n",
      "8       9                    -2.047279e+04\n",
      "9      10                    -6.776261e+04\n",
      "10     11                    -1.072080e+08\n",
      "11     12                    -3.937622e+08\n",
      "12     13                     9.372079e+07\n"
     ]
    }
   ],
   "source": [
    "#export DataFrame \n",
    "\n",
    "HP = pd.DataFrame(HP)\n",
    "HP.to_csv (r'C:\\Users\\srjoh\\OneDrive\\Documents\\WOZ-U\\Final Project\\datasets\\HP.csv', index = False, header=True)\n",
    "print (HP)"
   ]
  },
  {
   "cell_type": "code",
   "execution_count": null,
   "id": "e302b7bc-cbe2-45b0-ae01-59602d315e99",
   "metadata": {},
   "outputs": [],
   "source": [
    "#4 clusters"
   ]
  },
  {
   "cell_type": "code",
   "execution_count": 123,
   "id": "816189f5-a47b-4724-8de7-5cc51e358ab0",
   "metadata": {},
   "outputs": [
    {
     "data": {
      "text/html": [
       "<style>#sk-container-id-2 {color: black;background-color: white;}#sk-container-id-2 pre{padding: 0;}#sk-container-id-2 div.sk-toggleable {background-color: white;}#sk-container-id-2 label.sk-toggleable__label {cursor: pointer;display: block;width: 100%;margin-bottom: 0;padding: 0.3em;box-sizing: border-box;text-align: center;}#sk-container-id-2 label.sk-toggleable__label-arrow:before {content: \"▸\";float: left;margin-right: 0.25em;color: #696969;}#sk-container-id-2 label.sk-toggleable__label-arrow:hover:before {color: black;}#sk-container-id-2 div.sk-estimator:hover label.sk-toggleable__label-arrow:before {color: black;}#sk-container-id-2 div.sk-toggleable__content {max-height: 0;max-width: 0;overflow: hidden;text-align: left;background-color: #f0f8ff;}#sk-container-id-2 div.sk-toggleable__content pre {margin: 0.2em;color: black;border-radius: 0.25em;background-color: #f0f8ff;}#sk-container-id-2 input.sk-toggleable__control:checked~div.sk-toggleable__content {max-height: 200px;max-width: 100%;overflow: auto;}#sk-container-id-2 input.sk-toggleable__control:checked~label.sk-toggleable__label-arrow:before {content: \"▾\";}#sk-container-id-2 div.sk-estimator input.sk-toggleable__control:checked~label.sk-toggleable__label {background-color: #d4ebff;}#sk-container-id-2 div.sk-label input.sk-toggleable__control:checked~label.sk-toggleable__label {background-color: #d4ebff;}#sk-container-id-2 input.sk-hidden--visually {border: 0;clip: rect(1px 1px 1px 1px);clip: rect(1px, 1px, 1px, 1px);height: 1px;margin: -1px;overflow: hidden;padding: 0;position: absolute;width: 1px;}#sk-container-id-2 div.sk-estimator {font-family: monospace;background-color: #f0f8ff;border: 1px dotted black;border-radius: 0.25em;box-sizing: border-box;margin-bottom: 0.5em;}#sk-container-id-2 div.sk-estimator:hover {background-color: #d4ebff;}#sk-container-id-2 div.sk-parallel-item::after {content: \"\";width: 100%;border-bottom: 1px solid gray;flex-grow: 1;}#sk-container-id-2 div.sk-label:hover label.sk-toggleable__label {background-color: #d4ebff;}#sk-container-id-2 div.sk-serial::before {content: \"\";position: absolute;border-left: 1px solid gray;box-sizing: border-box;top: 0;bottom: 0;left: 50%;z-index: 0;}#sk-container-id-2 div.sk-serial {display: flex;flex-direction: column;align-items: center;background-color: white;padding-right: 0.2em;padding-left: 0.2em;position: relative;}#sk-container-id-2 div.sk-item {position: relative;z-index: 1;}#sk-container-id-2 div.sk-parallel {display: flex;align-items: stretch;justify-content: center;background-color: white;position: relative;}#sk-container-id-2 div.sk-item::before, #sk-container-id-2 div.sk-parallel-item::before {content: \"\";position: absolute;border-left: 1px solid gray;box-sizing: border-box;top: 0;bottom: 0;left: 50%;z-index: -1;}#sk-container-id-2 div.sk-parallel-item {display: flex;flex-direction: column;z-index: 1;position: relative;background-color: white;}#sk-container-id-2 div.sk-parallel-item:first-child::after {align-self: flex-end;width: 50%;}#sk-container-id-2 div.sk-parallel-item:last-child::after {align-self: flex-start;width: 50%;}#sk-container-id-2 div.sk-parallel-item:only-child::after {width: 0;}#sk-container-id-2 div.sk-dashed-wrapped {border: 1px dashed gray;margin: 0 0.4em 0.5em 0.4em;box-sizing: border-box;padding-bottom: 0.4em;background-color: white;}#sk-container-id-2 div.sk-label label {font-family: monospace;font-weight: bold;display: inline-block;line-height: 1.2em;}#sk-container-id-2 div.sk-label-container {text-align: center;}#sk-container-id-2 div.sk-container {/* jupyter's `normalize.less` sets `[hidden] { display: none; }` but bootstrap.min.css set `[hidden] { display: none !important; }` so we also need the `!important` here to be able to override the default hidden behavior on the sphinx rendered scikit-learn.org. See: https://github.com/scikit-learn/scikit-learn/issues/21755 */display: inline-block !important;position: relative;}#sk-container-id-2 div.sk-text-repr-fallback {display: none;}</style><div id=\"sk-container-id-2\" class=\"sk-top-container\"><div class=\"sk-text-repr-fallback\"><pre>KMeans(n_clusters=4)</pre><b>In a Jupyter environment, please rerun this cell to show the HTML representation or trust the notebook. <br />On GitHub, the HTML representation is unable to render, please try loading this page with nbviewer.org.</b></div><div class=\"sk-container\" hidden><div class=\"sk-item\"><div class=\"sk-estimator sk-toggleable\"><input class=\"sk-toggleable__control sk-hidden--visually\" id=\"sk-estimator-id-2\" type=\"checkbox\" checked><label for=\"sk-estimator-id-2\" class=\"sk-toggleable__label sk-toggleable__label-arrow\">KMeans</label><div class=\"sk-toggleable__content\"><pre>KMeans(n_clusters=4)</pre></div></div></div></div></div>"
      ],
      "text/plain": [
       "KMeans(n_clusters=4)"
      ]
     },
     "execution_count": 123,
     "metadata": {},
     "output_type": "execute_result"
    }
   ],
   "source": [
    "kmeans = KMeans(n_clusters=4)\n",
    "kmeans.fit(HP1)"
   ]
  },
  {
   "cell_type": "code",
   "execution_count": 124,
   "id": "ad018555-eed9-40f8-bd72-0430bdf6d364",
   "metadata": {},
   "outputs": [
    {
     "data": {
      "text/plain": [
       "<matplotlib.collections.PathCollection at 0x1bfad9a6500>"
      ]
     },
     "execution_count": 124,
     "metadata": {},
     "output_type": "execute_result"
    },
    {
     "data": {
      "image/png": "[encoded data removed]",
      "text/plain": [
       "<Figure size 720x936 with 1 Axes>"
      ]
     },
     "metadata": {},
     "output_type": "display_data"
    }
   ],
   "source": [
    "plt.figure(figsize=(10,13))\n",
    "plt.title('K Means')\n",
    "plt.scatter(HP1['index'], HP1['Honey Prediction in Metric Tons'], c=kmeans.labels_, cmap='viridis')"
   ]
  },
  {
   "cell_type": "code",
   "execution_count": 125,
   "id": "073fa2de-9a74-4369-9a12-56bda30fd6a4",
   "metadata": {},
   "outputs": [],
   "source": [
    "HP1['Group'] = kmeans.labels_"
   ]
  },
  {
   "cell_type": "code",
   "execution_count": 126,
   "id": "9184da00-ea22-407b-b433-a6de9151ef16",
   "metadata": {},
   "outputs": [
    {
     "name": "stdout",
     "output_type": "stream",
     "text": [
      "    index  Honey Prediction in Metric Tons  Group\n",
      "0       1                     7.988601e+08      0\n",
      "1       2                    -9.744340e+08      3\n",
      "2       3                     2.246869e+09      2\n",
      "3       4                     2.564876e+05      0\n",
      "4       5                    -3.922429e+09      1\n",
      "5       6                     1.042323e+06      0\n",
      "6       7                     4.146428e+07      0\n",
      "7       8                     3.605548e+05      0\n",
      "8       9                    -2.047279e+04      0\n",
      "9      10                    -6.776261e+04      0\n",
      "10     11                    -1.072080e+08      0\n",
      "11     12                    -3.937622e+08      0\n",
      "12     13                     9.372079e+07      0\n"
     ]
    }
   ],
   "source": [
    "print(HP1)"
   ]
  },
  {
   "cell_type": "code",
   "execution_count": 127,
   "id": "dafad13a-9fb1-4b14-982e-55a1d25c380f",
   "metadata": {},
   "outputs": [
    {
     "data": {
      "text/plain": [
       "array([[ 8.10000000e+00,  4.34646012e+07],\n",
       "       [ 5.00000000e+00, -3.92242925e+09],\n",
       "       [ 3.00000000e+00,  2.24686897e+09],\n",
       "       [ 2.00000000e+00, -9.74434040e+08]])"
      ]
     },
     "execution_count": 127,
     "metadata": {},
     "output_type": "execute_result"
    }
   ],
   "source": [
    "kmeans.cluster_centers_"
   ]
  },
  {
   "cell_type": "code",
   "execution_count": 134,
   "id": "907e23d8-2b7b-4106-9f28-2a0c6abd71b9",
   "metadata": {},
   "outputs": [],
   "source": [
    "# majority of datapoints fall in group 0, so taking the average of those points to find the most likely center"
   ]
  },
  {
   "cell_type": "code",
   "execution_count": 135,
   "id": "34681c1c-6560-40e6-a346-af3da547c081",
   "metadata": {},
   "outputs": [],
   "source": [
    "#average of honey prediction in metric tons for group 0"
   ]
  },
  {
   "cell_type": "code",
   "execution_count": 138,
   "id": "121af9ad-4645-4bf8-9704-f66b5f934e20",
   "metadata": {},
   "outputs": [
    {
     "name": "stdout",
     "output_type": "stream",
     "text": [
      "Group\n",
      "0   -4.046823e+07\n",
      "1   -3.922429e+09\n",
      "2    2.246869e+09\n",
      "3   -9.744340e+08\n",
      "4    7.988601e+08\n",
      "Name: Honey Prediction in Metric Tons, dtype: float64\n"
     ]
    }
   ],
   "source": [
    "means = HP1.groupby('Group')['Honey Prediction in Metric Tons'].mean()\n",
    "print(means)"
   ]
  },
  {
   "cell_type": "code",
   "execution_count": 128,
   "id": "da8e24aa-22fe-45a7-ac9b-811daca2fc45",
   "metadata": {},
   "outputs": [],
   "source": [
    "#5 clusters"
   ]
  },
  {
   "cell_type": "code",
   "execution_count": 129,
   "id": "089f8281-56ae-4e16-9ba2-859a639013be",
   "metadata": {},
   "outputs": [
    {
     "data": {
      "text/html": [
       "<style>#sk-container-id-3 {color: black;background-color: white;}#sk-container-id-3 pre{padding: 0;}#sk-container-id-3 div.sk-toggleable {background-color: white;}#sk-container-id-3 label.sk-toggleable__label {cursor: pointer;display: block;width: 100%;margin-bottom: 0;padding: 0.3em;box-sizing: border-box;text-align: center;}#sk-container-id-3 label.sk-toggleable__label-arrow:before {content: \"▸\";float: left;margin-right: 0.25em;color: #696969;}#sk-container-id-3 label.sk-toggleable__label-arrow:hover:before {color: black;}#sk-container-id-3 div.sk-estimator:hover label.sk-toggleable__label-arrow:before {color: black;}#sk-container-id-3 div.sk-toggleable__content {max-height: 0;max-width: 0;overflow: hidden;text-align: left;background-color: #f0f8ff;}#sk-container-id-3 div.sk-toggleable__content pre {margin: 0.2em;color: black;border-radius: 0.25em;background-color: #f0f8ff;}#sk-container-id-3 input.sk-toggleable__control:checked~div.sk-toggleable__content {max-height: 200px;max-width: 100%;overflow: auto;}#sk-container-id-3 input.sk-toggleable__control:checked~label.sk-toggleable__label-arrow:before {content: \"▾\";}#sk-container-id-3 div.sk-estimator input.sk-toggleable__control:checked~label.sk-toggleable__label {background-color: #d4ebff;}#sk-container-id-3 div.sk-label input.sk-toggleable__control:checked~label.sk-toggleable__label {background-color: #d4ebff;}#sk-container-id-3 input.sk-hidden--visually {border: 0;clip: rect(1px 1px 1px 1px);clip: rect(1px, 1px, 1px, 1px);height: 1px;margin: -1px;overflow: hidden;padding: 0;position: absolute;width: 1px;}#sk-container-id-3 div.sk-estimator {font-family: monospace;background-color: #f0f8ff;border: 1px dotted black;border-radius: 0.25em;box-sizing: border-box;margin-bottom: 0.5em;}#sk-container-id-3 div.sk-estimator:hover {background-color: #d4ebff;}#sk-container-id-3 div.sk-parallel-item::after {content: \"\";width: 100%;border-bottom: 1px solid gray;flex-grow: 1;}#sk-container-id-3 div.sk-label:hover label.sk-toggleable__label {background-color: #d4ebff;}#sk-container-id-3 div.sk-serial::before {content: \"\";position: absolute;border-left: 1px solid gray;box-sizing: border-box;top: 0;bottom: 0;left: 50%;z-index: 0;}#sk-container-id-3 div.sk-serial {display: flex;flex-direction: column;align-items: center;background-color: white;padding-right: 0.2em;padding-left: 0.2em;position: relative;}#sk-container-id-3 div.sk-item {position: relative;z-index: 1;}#sk-container-id-3 div.sk-parallel {display: flex;align-items: stretch;justify-content: center;background-color: white;position: relative;}#sk-container-id-3 div.sk-item::before, #sk-container-id-3 div.sk-parallel-item::before {content: \"\";position: absolute;border-left: 1px solid gray;box-sizing: border-box;top: 0;bottom: 0;left: 50%;z-index: -1;}#sk-container-id-3 div.sk-parallel-item {display: flex;flex-direction: column;z-index: 1;position: relative;background-color: white;}#sk-container-id-3 div.sk-parallel-item:first-child::after {align-self: flex-end;width: 50%;}#sk-container-id-3 div.sk-parallel-item:last-child::after {align-self: flex-start;width: 50%;}#sk-container-id-3 div.sk-parallel-item:only-child::after {width: 0;}#sk-container-id-3 div.sk-dashed-wrapped {border: 1px dashed gray;margin: 0 0.4em 0.5em 0.4em;box-sizing: border-box;padding-bottom: 0.4em;background-color: white;}#sk-container-id-3 div.sk-label label {font-family: monospace;font-weight: bold;display: inline-block;line-height: 1.2em;}#sk-container-id-3 div.sk-label-container {text-align: center;}#sk-container-id-3 div.sk-container {/* jupyter's `normalize.less` sets `[hidden] { display: none; }` but bootstrap.min.css set `[hidden] { display: none !important; }` so we also need the `!important` here to be able to override the default hidden behavior on the sphinx rendered scikit-learn.org. See: https://github.com/scikit-learn/scikit-learn/issues/21755 */display: inline-block !important;position: relative;}#sk-container-id-3 div.sk-text-repr-fallback {display: none;}</style><div id=\"sk-container-id-3\" class=\"sk-top-container\"><div class=\"sk-text-repr-fallback\"><pre>KMeans(n_clusters=5)</pre><b>In a Jupyter environment, please rerun this cell to show the HTML representation or trust the notebook. <br />On GitHub, the HTML representation is unable to render, please try loading this page with nbviewer.org.</b></div><div class=\"sk-container\" hidden><div class=\"sk-item\"><div class=\"sk-estimator sk-toggleable\"><input class=\"sk-toggleable__control sk-hidden--visually\" id=\"sk-estimator-id-3\" type=\"checkbox\" checked><label for=\"sk-estimator-id-3\" class=\"sk-toggleable__label sk-toggleable__label-arrow\">KMeans</label><div class=\"sk-toggleable__content\"><pre>KMeans(n_clusters=5)</pre></div></div></div></div></div>"
      ],
      "text/plain": [
       "KMeans(n_clusters=5)"
      ]
     },
     "execution_count": 129,
     "metadata": {},
     "output_type": "execute_result"
    }
   ],
   "source": [
    "kmeans = KMeans(n_clusters=5)\n",
    "kmeans.fit(HP1)"
   ]
  },
  {
   "cell_type": "code",
   "execution_count": 130,
   "id": "dcf40f2e-9984-46bd-88ec-8b2812f18738",
   "metadata": {},
   "outputs": [
    {
     "data": {
      "text/plain": [
       "<matplotlib.collections.PathCollection at 0x1bfaf9ec6d0>"
      ]
     },
     "execution_count": 130,
     "metadata": {},
     "output_type": "execute_result"
    },
    {
     "data": {
      "image/png": "[encoded data removed]",
      "text/plain": [
       "<Figure size 720x936 with 1 Axes>"
      ]
     },
     "metadata": {},
     "output_type": "display_data"
    }
   ],
   "source": [
    "plt.figure(figsize=(10,13))\n",
    "plt.title('K Means')\n",
    "plt.scatter(HP1['index'], HP1['Honey Prediction in Metric Tons'], c=kmeans.labels_, cmap='viridis')"
   ]
  },
  {
   "cell_type": "code",
   "execution_count": 131,
   "id": "50731a7b-1186-4d07-b5d8-5f9cc03a38fa",
   "metadata": {},
   "outputs": [],
   "source": [
    "HP1['Group'] = kmeans.labels_"
   ]
  },
  {
   "cell_type": "code",
   "execution_count": 132,
   "id": "90582edb-1fd1-4d3a-bfce-609199b660f1",
   "metadata": {},
   "outputs": [
    {
     "name": "stdout",
     "output_type": "stream",
     "text": [
      "    index  Honey Prediction in Metric Tons  Group\n",
      "0       1                     7.988601e+08      4\n",
      "1       2                    -9.744340e+08      3\n",
      "2       3                     2.246869e+09      2\n",
      "3       4                     2.564876e+05      0\n",
      "4       5                    -3.922429e+09      1\n",
      "5       6                     1.042323e+06      0\n",
      "6       7                     4.146428e+07      0\n",
      "7       8                     3.605548e+05      0\n",
      "8       9                    -2.047279e+04      0\n",
      "9      10                    -6.776261e+04      0\n",
      "10     11                    -1.072080e+08      0\n",
      "11     12                    -3.937622e+08      0\n",
      "12     13                     9.372079e+07      0\n"
     ]
    }
   ],
   "source": [
    "print(HP1)"
   ]
  },
  {
   "cell_type": "code",
   "execution_count": 133,
   "id": "4167be5d-89ab-418c-a7a5-858c6ff423b6",
   "metadata": {},
   "outputs": [
    {
     "data": {
      "text/plain": [
       "array([[ 8.88888889e+00, -4.04682310e+07,  0.00000000e+00],\n",
       "       [ 5.00000000e+00, -3.92242925e+09,  1.00000000e+00],\n",
       "       [ 3.00000000e+00,  2.24686897e+09,  2.00000000e+00],\n",
       "       [ 2.00000000e+00, -9.74434040e+08,  3.00000000e+00],\n",
       "       [ 1.00000000e+00,  7.98860091e+08,  0.00000000e+00]])"
      ]
     },
     "execution_count": 133,
     "metadata": {},
     "output_type": "execute_result"
    }
   ],
   "source": [
    "kmeans.cluster_centers_"
   ]
  },
  {
   "cell_type": "code",
   "execution_count": 139,
   "id": "9e2d3f99-b96e-4e17-bc97-560c3cc656f6",
   "metadata": {},
   "outputs": [],
   "source": [
    "# 3 clusters"
   ]
  },
  {
   "cell_type": "code",
   "execution_count": 140,
   "id": "4c1f27f8-9f2c-4bde-a5a5-49af105bc3dd",
   "metadata": {},
   "outputs": [
    {
     "data": {
      "text/html": [
       "<style>#sk-container-id-4 {color: black;background-color: white;}#sk-container-id-4 pre{padding: 0;}#sk-container-id-4 div.sk-toggleable {background-color: white;}#sk-container-id-4 label.sk-toggleable__label {cursor: pointer;display: block;width: 100%;margin-bottom: 0;padding: 0.3em;box-sizing: border-box;text-align: center;}#sk-container-id-4 label.sk-toggleable__label-arrow:before {content: \"▸\";float: left;margin-right: 0.25em;color: #696969;}#sk-container-id-4 label.sk-toggleable__label-arrow:hover:before {color: black;}#sk-container-id-4 div.sk-estimator:hover label.sk-toggleable__label-arrow:before {color: black;}#sk-container-id-4 div.sk-toggleable__content {max-height: 0;max-width: 0;overflow: hidden;text-align: left;background-color: #f0f8ff;}#sk-container-id-4 div.sk-toggleable__content pre {margin: 0.2em;color: black;border-radius: 0.25em;background-color: #f0f8ff;}#sk-container-id-4 input.sk-toggleable__control:checked~div.sk-toggleable__content {max-height: 200px;max-width: 100%;overflow: auto;}#sk-container-id-4 input.sk-toggleable__control:checked~label.sk-toggleable__label-arrow:before {content: \"▾\";}#sk-container-id-4 div.sk-estimator input.sk-toggleable__control:checked~label.sk-toggleable__label {background-color: #d4ebff;}#sk-container-id-4 div.sk-label input.sk-toggleable__control:checked~label.sk-toggleable__label {background-color: #d4ebff;}#sk-container-id-4 input.sk-hidden--visually {border: 0;clip: rect(1px 1px 1px 1px);clip: rect(1px, 1px, 1px, 1px);height: 1px;margin: -1px;overflow: hidden;padding: 0;position: absolute;width: 1px;}#sk-container-id-4 div.sk-estimator {font-family: monospace;background-color: #f0f8ff;border: 1px dotted black;border-radius: 0.25em;box-sizing: border-box;margin-bottom: 0.5em;}#sk-container-id-4 div.sk-estimator:hover {background-color: #d4ebff;}#sk-container-id-4 div.sk-parallel-item::after {content: \"\";width: 100%;border-bottom: 1px solid gray;flex-grow: 1;}#sk-container-id-4 div.sk-label:hover label.sk-toggleable__label {background-color: #d4ebff;}#sk-container-id-4 div.sk-serial::before {content: \"\";position: absolute;border-left: 1px solid gray;box-sizing: border-box;top: 0;bottom: 0;left: 50%;z-index: 0;}#sk-container-id-4 div.sk-serial {display: flex;flex-direction: column;align-items: center;background-color: white;padding-right: 0.2em;padding-left: 0.2em;position: relative;}#sk-container-id-4 div.sk-item {position: relative;z-index: 1;}#sk-container-id-4 div.sk-parallel {display: flex;align-items: stretch;justify-content: center;background-color: white;position: relative;}#sk-container-id-4 div.sk-item::before, #sk-container-id-4 div.sk-parallel-item::before {content: \"\";position: absolute;border-left: 1px solid gray;box-sizing: border-box;top: 0;bottom: 0;left: 50%;z-index: -1;}#sk-container-id-4 div.sk-parallel-item {display: flex;flex-direction: column;z-index: 1;position: relative;background-color: white;}#sk-container-id-4 div.sk-parallel-item:first-child::after {align-self: flex-end;width: 50%;}#sk-container-id-4 div.sk-parallel-item:last-child::after {align-self: flex-start;width: 50%;}#sk-container-id-4 div.sk-parallel-item:only-child::after {width: 0;}#sk-container-id-4 div.sk-dashed-wrapped {border: 1px dashed gray;margin: 0 0.4em 0.5em 0.4em;box-sizing: border-box;padding-bottom: 0.4em;background-color: white;}#sk-container-id-4 div.sk-label label {font-family: monospace;font-weight: bold;display: inline-block;line-height: 1.2em;}#sk-container-id-4 div.sk-label-container {text-align: center;}#sk-container-id-4 div.sk-container {/* jupyter's `normalize.less` sets `[hidden] { display: none; }` but bootstrap.min.css set `[hidden] { display: none !important; }` so we also need the `!important` here to be able to override the default hidden behavior on the sphinx rendered scikit-learn.org. See: https://github.com/scikit-learn/scikit-learn/issues/21755 */display: inline-block !important;position: relative;}#sk-container-id-4 div.sk-text-repr-fallback {display: none;}</style><div id=\"sk-container-id-4\" class=\"sk-top-container\"><div class=\"sk-text-repr-fallback\"><pre>KMeans(n_clusters=3)</pre><b>In a Jupyter environment, please rerun this cell to show the HTML representation or trust the notebook. <br />On GitHub, the HTML representation is unable to render, please try loading this page with nbviewer.org.</b></div><div class=\"sk-container\" hidden><div class=\"sk-item\"><div class=\"sk-estimator sk-toggleable\"><input class=\"sk-toggleable__control sk-hidden--visually\" id=\"sk-estimator-id-4\" type=\"checkbox\" checked><label for=\"sk-estimator-id-4\" class=\"sk-toggleable__label sk-toggleable__label-arrow\">KMeans</label><div class=\"sk-toggleable__content\"><pre>KMeans(n_clusters=3)</pre></div></div></div></div></div>"
      ],
      "text/plain": [
       "KMeans(n_clusters=3)"
      ]
     },
     "execution_count": 140,
     "metadata": {},
     "output_type": "execute_result"
    }
   ],
   "source": [
    "kmeans = KMeans(n_clusters=3)\n",
    "kmeans.fit(HP1)"
   ]
  },
  {
   "cell_type": "code",
   "execution_count": 141,
   "id": "c0124dab-e533-41f8-8dfb-eb304098d9f0",
   "metadata": {},
   "outputs": [
    {
     "data": {
      "text/plain": [
       "<matplotlib.collections.PathCollection at 0x1bfb0c34a30>"
      ]
     },
     "execution_count": 141,
     "metadata": {},
     "output_type": "execute_result"
    },
    {
     "data": {
      "image/png": "[encoded data removed]",
      "text/plain": [
       "<Figure size 720x936 with 1 Axes>"
      ]
     },
     "metadata": {},
     "output_type": "display_data"
    }
   ],
   "source": [
    "plt.figure(figsize=(10,13))\n",
    "plt.title('K Means')\n",
    "plt.scatter(HP1['index'], HP1['Honey Prediction in Metric Tons'], c=kmeans.labels_, cmap='viridis')"
   ]
  },
  {
   "cell_type": "code",
   "execution_count": 142,
   "id": "b1c32a42-7947-4182-95e5-d501678ad31f",
   "metadata": {},
   "outputs": [],
   "source": [
    "HP1['Group'] = kmeans.labels_"
   ]
  },
  {
   "cell_type": "code",
   "execution_count": 143,
   "id": "4666c551-e0d6-4898-9d34-7099c608942f",
   "metadata": {},
   "outputs": [
    {
     "name": "stdout",
     "output_type": "stream",
     "text": [
      "    index  Honey Prediction in Metric Tons  Group\n",
      "0       1                     7.988601e+08      1\n",
      "1       2                    -9.744340e+08      1\n",
      "2       3                     2.246869e+09      2\n",
      "3       4                     2.564876e+05      1\n",
      "4       5                    -3.922429e+09      0\n",
      "5       6                     1.042323e+06      1\n",
      "6       7                     4.146428e+07      1\n",
      "7       8                     3.605548e+05      1\n",
      "8       9                    -2.047279e+04      1\n",
      "9      10                    -6.776261e+04      1\n",
      "10     11                    -1.072080e+08      1\n",
      "11     12                    -3.937622e+08      1\n",
      "12     13                     9.372079e+07      1\n"
     ]
    }
   ],
   "source": [
    "print(HP1)"
   ]
  },
  {
   "cell_type": "code",
   "execution_count": 144,
   "id": "5cd9525e-df5a-4c7c-8510-e6cc84f19247",
   "metadata": {},
   "outputs": [
    {
     "data": {
      "text/plain": [
       "array([[ 5.00000000e+00, -3.92242925e+09,  1.00000000e+00],\n",
       "       [ 7.54545455e+00, -4.90716390e+07,  6.36363636e-01],\n",
       "       [ 3.00000000e+00,  2.24686897e+09,  2.00000000e+00]])"
      ]
     },
     "execution_count": 144,
     "metadata": {},
     "output_type": "execute_result"
    }
   ],
   "source": [
    "kmeans.cluster_centers_"
   ]
  },
  {
   "cell_type": "code",
   "execution_count": 145,
   "id": "fdbe1791-e7c5-4573-83ac-0412bf8c2834",
   "metadata": {},
   "outputs": [],
   "source": [
    "#it appears the data is too disparate for kmeans to be a valuable analysis. This indicates that the range of data used is not a good predictor of Honey production"
   ]
  },
  {
   "cell_type": "code",
   "execution_count": null,
   "id": "eb1677c6-e507-4f3e-8b9d-6b04709b5f4c",
   "metadata": {},
   "outputs": [],
   "source": [
    "#based on research, honeybees are critical pollinators for apples and grapefruit and want to take a closer look at the potential predictive value for these specific commodities"
   ]
  }
 ],
 "metadata": {
  "kernelspec": {
   "display_name": "Python 3 (ipykernel)",
   "language": "python",
   "name": "python3"
  },
  "language_info": {
   "codemirror_mode": {
    "name": "ipython",
    "version": 3
   },
   "file_extension": ".py",
   "mimetype": "text/x-python",
   "name": "python",
   "nbconvert_exporter": "python",
   "pygments_lexer": "ipython3",
   "version": "3.10.4"
  }
 },
 "nbformat": 4,
 "nbformat_minor": 5
}
