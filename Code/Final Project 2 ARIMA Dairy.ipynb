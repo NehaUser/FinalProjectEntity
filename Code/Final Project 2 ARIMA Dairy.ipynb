{
 "cells": [
  {
   "cell_type": "markdown",
   "id": "052c9275-1c9b-42c7-8df4-39d4428e87e4",
   "metadata": {},
   "source": [
    "# ARIMA"
   ]
  },
  {
   "cell_type": "code",
   "execution_count": 1,
   "id": "29c4fbeb-2836-4c59-b6af-255a75ff71b8",
   "metadata": {},
   "outputs": [
    {
     "name": "stdout",
     "output_type": "stream",
     "text": [
      "Requirement already satisfied: SymPy in c:\\python3\\lib\\site-packages (1.10.1)\n",
      "Requirement already satisfied: mpmath>=0.19 in c:\\python3\\lib\\site-packages (from SymPy) (1.2.1)\n",
      "Note: you may need to restart the kernel to use updated packages.\n"
     ]
    },
    {
     "name": "stderr",
     "output_type": "stream",
     "text": [
      "WARNING: You are using pip version 21.3.1; however, version 22.1.2 is available.\n",
      "You should consider upgrading via the 'C:\\Python3\\python.exe -m pip install --upgrade pip' command.\n"
     ]
    }
   ],
   "source": [
    "pip install SymPy"
   ]
  },
  {
   "cell_type": "code",
   "execution_count": 2,
   "id": "dee8a341-70a2-4d63-bb9b-d04128c209a1",
   "metadata": {},
   "outputs": [
    {
     "name": "stdout",
     "output_type": "stream",
     "text": [
      "Requirement already satisfied: pmdarima in c:\\python3\\lib\\site-packages (1.8.5)\n",
      "Requirement already satisfied: setuptools!=50.0.0,>=38.6.0 in c:\\python3\\lib\\site-packages (from pmdarima) (57.4.0)\n",
      "Requirement already satisfied: pandas>=0.19 in c:\\python3\\lib\\site-packages (from pmdarima) (1.4.1)\n",
      "Requirement already satisfied: urllib3 in c:\\python3\\lib\\site-packages (from pmdarima) (1.26.7)Note: you may need to restart the kernel to use updated packages.\n"
     ]
    },
    {
     "name": "stderr",
     "output_type": "stream",
     "text": [
      "WARNING: You are using pip version 21.3.1; however, version 22.1.2 is available.\n",
      "You should consider upgrading via the 'C:\\Python3\\python.exe -m pip install --upgrade pip' command.\n"
     ]
    },
    {
     "name": "stdout",
     "output_type": "stream",
     "text": [
      "\n",
      "Requirement already satisfied: scikit-learn>=0.22 in c:\\python3\\lib\\site-packages (from pmdarima) (1.0.2)\n",
      "Requirement already satisfied: scipy>=1.3.2 in c:\\python3\\lib\\site-packages (from pmdarima) (1.8.0)\n",
      "Requirement already satisfied: joblib>=0.11 in c:\\python3\\lib\\site-packages (from pmdarima) (1.1.0)\n",
      "Requirement already satisfied: numpy>=1.19.3 in c:\\python3\\lib\\site-packages (from pmdarima) (1.22.2)\n",
      "Requirement already satisfied: Cython!=0.29.18,>=0.29 in c:\\python3\\lib\\site-packages (from pmdarima) (0.29.30)\n",
      "Requirement already satisfied: statsmodels!=0.12.0,>=0.11 in c:\\python3\\lib\\site-packages (from pmdarima) (0.13.2)\n",
      "Requirement already satisfied: python-dateutil>=2.8.1 in c:\\python3\\lib\\site-packages (from pandas>=0.19->pmdarima) (2.8.2)\n",
      "Requirement already satisfied: pytz>=2020.1 in c:\\python3\\lib\\site-packages (from pandas>=0.19->pmdarima) (2021.3)\n",
      "Requirement already satisfied: threadpoolctl>=2.0.0 in c:\\python3\\lib\\site-packages (from scikit-learn>=0.22->pmdarima) (3.1.0)\n",
      "Requirement already satisfied: packaging>=21.3 in c:\\python3\\lib\\site-packages (from statsmodels!=0.12.0,>=0.11->pmdarima) (21.3)\n",
      "Requirement already satisfied: patsy>=0.5.2 in c:\\python3\\lib\\site-packages (from statsmodels!=0.12.0,>=0.11->pmdarima) (0.5.2)\n",
      "Requirement already satisfied: pyparsing!=3.0.5,>=2.0.2 in c:\\python3\\lib\\site-packages (from packaging>=21.3->statsmodels!=0.12.0,>=0.11->pmdarima) (3.0.6)\n",
      "Requirement already satisfied: six in c:\\python3\\lib\\site-packages (from patsy>=0.5.2->statsmodels!=0.12.0,>=0.11->pmdarima) (1.16.0)\n"
     ]
    }
   ],
   "source": [
    "pip install pmdarima"
   ]
  },
  {
   "cell_type": "code",
   "execution_count": 3,
   "id": "3a6f949f-6eff-42d8-a889-9f93c6dcc111",
   "metadata": {},
   "outputs": [],
   "source": [
    "import pandas as pd\n",
    "import numpy as np\n",
    "import pmdarima as pm\n",
    "from pmdarima.arima import auto_arima\n",
    "from pmdarima.arima import ADFTest\n",
    "import matplotlib.pyplot as plt\n",
    "from matplotlib import pyplot\n",
    "from math import sqrt\n",
    "from numpy import split\n",
    "from numpy import array\n",
    "import statsmodels\n",
    "from statsmodels.tsa.arima.model import ARIMA\n",
    "from statsmodels.tsa.seasonal import seasonal_decompose\n",
    "from statsmodels.tsa.stattools import adfuller\n",
    "from statsmodels.graphics.tsaplots import plot_acf, plot_pacf\n",
    "from sklearn.metrics import mean_squared_error\n",
    "from sklearn.metrics import r2_score\n",
    "from sympy.solvers import solve\n",
    "from sympy import Symbol"
   ]
  },
  {
   "cell_type": "code",
   "execution_count": 4,
   "id": "fbf7e0e0-1a07-4a4f-a481-32ac70e08a75",
   "metadata": {},
   "outputs": [],
   "source": [
    "# USE PIVOTED GLOBAL\n",
    "# SEPERATE DF INTO TWO DFS WITH JUST UR COMMODITIES ,YEAR,1 COMMODITY AT A TIME (Honey and then livestock&Dairy)\n",
    "# DATE NEEDS to be in Date type, year row use the pandas function to datetime format = %year\n",
    "# seasonal = True\n",
    "# look for r2 close to zero as possible\n",
    "# Split dairy and meat"
   ]
  },
  {
   "cell_type": "code",
   "execution_count": 5,
   "id": "41cf4ac2-27c1-44a3-811c-684fd80ccac9",
   "metadata": {},
   "outputs": [
    {
     "data": {
      "text/html": [
       "<div>\n",
       "<style scoped>\n",
       "    .dataframe tbody tr th:only-of-type {\n",
       "        vertical-align: middle;\n",
       "    }\n",
       "\n",
       "    .dataframe tbody tr th {\n",
       "        vertical-align: top;\n",
       "    }\n",
       "\n",
       "    .dataframe thead th {\n",
       "        text-align: right;\n",
       "    }\n",
       "</style>\n",
       "<table border=\"1\" class=\"dataframe\">\n",
       "  <thead>\n",
       "    <tr style=\"text-align: right;\">\n",
       "      <th></th>\n",
       "      <th>Unnamed: 0</th>\n",
       "      <th>Year</th>\n",
       "      <th>Almonds, Shelled Basis</th>\n",
       "      <th>Apples, Fresh</th>\n",
       "      <th>Barley</th>\n",
       "      <th>Coffee, Green</th>\n",
       "      <th>Corn</th>\n",
       "      <th>Dairy, Milk, Fluid</th>\n",
       "      <th>Grapefruit, Fresh</th>\n",
       "      <th>Meat, Swine</th>\n",
       "      <th>Oats</th>\n",
       "      <th>Oil, Soybean</th>\n",
       "      <th>Oilseed, Rapeseed</th>\n",
       "      <th>Rye</th>\n",
       "      <th>Walnuts, Inshell Basis</th>\n",
       "    </tr>\n",
       "  </thead>\n",
       "  <tbody>\n",
       "    <tr>\n",
       "      <th>0</th>\n",
       "      <td>0</td>\n",
       "      <td>1998</td>\n",
       "      <td>235884.0</td>\n",
       "      <td>5282724.0</td>\n",
       "      <td>235884000.0</td>\n",
       "      <td>1.415304e+07</td>\n",
       "      <td>4.822010e+09</td>\n",
       "      <td>326151000.0</td>\n",
       "      <td>185000.0</td>\n",
       "      <td>4.740312e+12</td>\n",
       "      <td>247882000.0</td>\n",
       "      <td>4.176508e+09</td>\n",
       "      <td>5214000.0</td>\n",
       "      <td>2114000.0</td>\n",
       "      <td>205931.0</td>\n",
       "    </tr>\n",
       "    <tr>\n",
       "      <th>1</th>\n",
       "      <td>1</td>\n",
       "      <td>1999</td>\n",
       "      <td>377800.0</td>\n",
       "      <td>5746060.0</td>\n",
       "      <td>361362000.0</td>\n",
       "      <td>2.168172e+07</td>\n",
       "      <td>4.800686e+09</td>\n",
       "      <td>77534000.0</td>\n",
       "      <td>183000.0</td>\n",
       "      <td>4.476775e+12</td>\n",
       "      <td>239549000.0</td>\n",
       "      <td>3.797778e+09</td>\n",
       "      <td>662250000.0</td>\n",
       "      <td>2165000.0</td>\n",
       "      <td>256734.0</td>\n",
       "    </tr>\n",
       "    <tr>\n",
       "      <th>2</th>\n",
       "      <td>2</td>\n",
       "      <td>2000</td>\n",
       "      <td>318900.0</td>\n",
       "      <td>5675890.0</td>\n",
       "      <td>303700000.0</td>\n",
       "      <td>1.822200e+07</td>\n",
       "      <td>4.274204e+09</td>\n",
       "      <td>332092000.0</td>\n",
       "      <td>163000.0</td>\n",
       "      <td>2.395490e+11</td>\n",
       "      <td>251854000.0</td>\n",
       "      <td>3.946939e+09</td>\n",
       "      <td>307386000.0</td>\n",
       "      <td>1707000.0</td>\n",
       "      <td>216816.0</td>\n",
       "    </tr>\n",
       "    <tr>\n",
       "      <th>3</th>\n",
       "      <td>3</td>\n",
       "      <td>2001</td>\n",
       "      <td>376500.0</td>\n",
       "      <td>5065060.0</td>\n",
       "      <td>376488000.0</td>\n",
       "      <td>2.258928e+07</td>\n",
       "      <td>3.866379e+09</td>\n",
       "      <td>305319000.0</td>\n",
       "      <td>163000.0</td>\n",
       "      <td>2.518540e+11</td>\n",
       "      <td>241377000.0</td>\n",
       "      <td>4.354875e+09</td>\n",
       "      <td>312180000.0</td>\n",
       "      <td>1684000.0</td>\n",
       "      <td>276700.0</td>\n",
       "    </tr>\n",
       "    <tr>\n",
       "      <th>4</th>\n",
       "      <td>4</td>\n",
       "      <td>2002</td>\n",
       "      <td>494416.0</td>\n",
       "      <td>4605810.0</td>\n",
       "      <td>494416000.0</td>\n",
       "      <td>2.686065e+11</td>\n",
       "      <td>3.988483e+09</td>\n",
       "      <td>83581000.0</td>\n",
       "      <td>186000.0</td>\n",
       "      <td>3.871860e+11</td>\n",
       "      <td>227767000.0</td>\n",
       "      <td>4.433333e+09</td>\n",
       "      <td>332092000.0</td>\n",
       "      <td>2096000.0</td>\n",
       "      <td>255825.0</td>\n",
       "    </tr>\n",
       "  </tbody>\n",
       "</table>\n",
       "</div>"
      ],
      "text/plain": [
       "   Unnamed: 0  Year  Almonds, Shelled Basis  Apples, Fresh       Barley  \\\n",
       "0           0  1998                235884.0      5282724.0  235884000.0   \n",
       "1           1  1999                377800.0      5746060.0  361362000.0   \n",
       "2           2  2000                318900.0      5675890.0  303700000.0   \n",
       "3           3  2001                376500.0      5065060.0  376488000.0   \n",
       "4           4  2002                494416.0      4605810.0  494416000.0   \n",
       "\n",
       "   Coffee, Green          Corn  Dairy, Milk, Fluid  Grapefruit, Fresh  \\\n",
       "0   1.415304e+07  4.822010e+09         326151000.0           185000.0   \n",
       "1   2.168172e+07  4.800686e+09          77534000.0           183000.0   \n",
       "2   1.822200e+07  4.274204e+09         332092000.0           163000.0   \n",
       "3   2.258928e+07  3.866379e+09         305319000.0           163000.0   \n",
       "4   2.686065e+11  3.988483e+09          83581000.0           186000.0   \n",
       "\n",
       "    Meat, Swine         Oats  Oil, Soybean  Oilseed, Rapeseed        Rye  \\\n",
       "0  4.740312e+12  247882000.0  4.176508e+09          5214000.0  2114000.0   \n",
       "1  4.476775e+12  239549000.0  3.797778e+09        662250000.0  2165000.0   \n",
       "2  2.395490e+11  251854000.0  3.946939e+09        307386000.0  1707000.0   \n",
       "3  2.518540e+11  241377000.0  4.354875e+09        312180000.0  1684000.0   \n",
       "4  3.871860e+11  227767000.0  4.433333e+09        332092000.0  2096000.0   \n",
       "\n",
       "   Walnuts, Inshell Basis  \n",
       "0                205931.0  \n",
       "1                256734.0  \n",
       "2                216816.0  \n",
       "3                276700.0  \n",
       "4                255825.0  "
      ]
     },
     "execution_count": 5,
     "metadata": {},
     "output_type": "execute_result"
    }
   ],
   "source": [
    "# Importing dataframe\n",
    "Global = pd.read_csv(\"C:/Users/airos/Documents/GitHub/FinalProjectEntity/Data/pivotedGlobal.csv\")\n",
    "\n",
    "Global.head()"
   ]
  },
  {
   "cell_type": "code",
   "execution_count": 6,
   "id": "a0b5cd75-ccb6-460d-b61c-f90789a2cd53",
   "metadata": {},
   "outputs": [
    {
     "name": "stdout",
     "output_type": "stream",
     "text": [
      "Unnamed: 0\n",
      "Year\n",
      "Almonds, Shelled Basis\n",
      "Apples, Fresh\n",
      "Barley\n",
      "Coffee, Green\n",
      "Corn\n",
      "Dairy, Milk, Fluid\n",
      "Grapefruit, Fresh\n",
      "Meat, Swine\n",
      "Oats\n",
      "Oil, Soybean\n",
      "Oilseed, Rapeseed\n",
      "Rye\n",
      "Walnuts, Inshell Basis\n"
     ]
    }
   ],
   "source": [
    "for col_name in Global.columns:\n",
    "    print(col_name)"
   ]
  },
  {
   "cell_type": "code",
   "execution_count": 10,
   "id": "4c72d28d-c17d-4ba1-8043-e7dabe3fb465",
   "metadata": {},
   "outputs": [
    {
     "data": {
      "text/html": [
       "<div>\n",
       "<style scoped>\n",
       "    .dataframe tbody tr th:only-of-type {\n",
       "        vertical-align: middle;\n",
       "    }\n",
       "\n",
       "    .dataframe tbody tr th {\n",
       "        vertical-align: top;\n",
       "    }\n",
       "\n",
       "    .dataframe thead th {\n",
       "        text-align: right;\n",
       "    }\n",
       "</style>\n",
       "<table border=\"1\" class=\"dataframe\">\n",
       "  <thead>\n",
       "    <tr style=\"text-align: right;\">\n",
       "      <th></th>\n",
       "      <th>Dairy, Milk, Fluid</th>\n",
       "      <th>Year</th>\n",
       "    </tr>\n",
       "  </thead>\n",
       "  <tbody>\n",
       "    <tr>\n",
       "      <th>0</th>\n",
       "      <td>326151000.0</td>\n",
       "      <td>1998</td>\n",
       "    </tr>\n",
       "    <tr>\n",
       "      <th>1</th>\n",
       "      <td>77534000.0</td>\n",
       "      <td>1999</td>\n",
       "    </tr>\n",
       "    <tr>\n",
       "      <th>2</th>\n",
       "      <td>332092000.0</td>\n",
       "      <td>2000</td>\n",
       "    </tr>\n",
       "    <tr>\n",
       "      <th>3</th>\n",
       "      <td>305319000.0</td>\n",
       "      <td>2001</td>\n",
       "    </tr>\n",
       "    <tr>\n",
       "      <th>4</th>\n",
       "      <td>83581000.0</td>\n",
       "      <td>2002</td>\n",
       "    </tr>\n",
       "  </tbody>\n",
       "</table>\n",
       "</div>"
      ],
      "text/plain": [
       "   Dairy, Milk, Fluid  Year\n",
       "0         326151000.0  1998\n",
       "1          77534000.0  1999\n",
       "2         332092000.0  2000\n",
       "3         305319000.0  2001\n",
       "4          83581000.0  2002"
      ]
     },
     "execution_count": 10,
     "metadata": {},
     "output_type": "execute_result"
    }
   ],
   "source": [
    "# Isolating 'Dairy, Milk, Fluid' first for ARIMA THEN 'Meat, Swine'\n",
    "DMF = Global[['Dairy, Milk, Fluid', 'Year']]\n",
    "DMF.head()"
   ]
  },
  {
   "cell_type": "code",
   "execution_count": 11,
   "id": "aa378280-b2b9-4a9f-a57c-17bdce7241ed",
   "metadata": {},
   "outputs": [
    {
     "name": "stderr",
     "output_type": "stream",
     "text": [
      "C:\\Users\\airos\\AppData\\Local\\Temp/ipykernel_4840/749516095.py:2: SettingWithCopyWarning: \n",
      "A value is trying to be set on a copy of a slice from a DataFrame.\n",
      "Try using .loc[row_indexer,col_indexer] = value instead\n",
      "\n",
      "See the caveats in the documentation: https://pandas.pydata.org/pandas-docs/stable/user_guide/indexing.html#returning-a-view-versus-a-copy\n",
      "  DMF['Year'] = pd.to_datetime(DMF['Year'], format='%Y')\n"
     ]
    }
   ],
   "source": [
    "# Formatting Year to date datatype \n",
    "DMF['Year'] = pd.to_datetime(DMF['Year'], format='%Y')"
   ]
  },
  {
   "cell_type": "code",
   "execution_count": 12,
   "id": "4219e70a-a076-41e0-a7f3-eb588eb49a96",
   "metadata": {},
   "outputs": [
    {
     "data": {
      "text/plain": [
       "pandas.core.frame.DataFrame"
      ]
     },
     "execution_count": 12,
     "metadata": {},
     "output_type": "execute_result"
    }
   ],
   "source": [
    "## Setting Year as index\n",
    "DMF.set_index('Year', inplace=True)\n",
    "type(DMF)"
   ]
  },
  {
   "cell_type": "code",
   "execution_count": 13,
   "id": "8442d349-ba55-4ee4-941a-eab0e1c411ee",
   "metadata": {},
   "outputs": [
    {
     "data": {
      "text/plain": [
       "<AxesSubplot:xlabel='Year'>"
      ]
     },
     "execution_count": 13,
     "metadata": {},
     "output_type": "execute_result"
    },
    {
     "data": {
      "image/png": "[encoded data removed]",
      "text/plain": [
       "<Figure size 432x288 with 1 Axes>"
      ]
     },
     "metadata": {
      "needs_background": "light"
     },
     "output_type": "display_data"
    }
   ],
   "source": [
    "## Looking at linear plot of d,m,f, production\n",
    "DMF.plot()"
   ]
  },
  {
   "cell_type": "code",
   "execution_count": 14,
   "id": "65ebe004-8155-4ab9-80ec-253c59966e92",
   "metadata": {},
   "outputs": [],
   "source": [
    "## Linear plot does not look stationary, there is an obvious stationary portion to the plot with a large spike from 2007 through 2012 in Dairy production"
   ]
  },
  {
   "cell_type": "code",
   "execution_count": 15,
   "id": "e9cdf8b0-925c-42d2-bcca-0d341001183a",
   "metadata": {},
   "outputs": [
    {
     "name": "stdout",
     "output_type": "stream",
     "text": [
      "ADF Statistic: -3.6890240729345014\n",
      "n_lags: 0.0042702160964055574\n",
      "p-value: 0.0042702160964055574\n",
      "Critial Values:\n",
      "   1%, -4.01203360058309\n",
      "Critial Values:\n",
      "   5%, -3.1041838775510207\n",
      "Critial Values:\n",
      "   10%, -2.6909873469387753\n"
     ]
    }
   ],
   "source": [
    "## Testing our finding against Augmented Dickey Fuller test\n",
    "result=adfuller(DMF['Dairy, Milk, Fluid'], autolag='AIC')\n",
    "print(f'ADF Statistic: {result[0]}')\n",
    "print(f'n_lags: {result[1]}')\n",
    "print(f'p-value: {result[1]}')\n",
    "for key, value in result[4].items():\n",
    "    print('Critial Values:')\n",
    "    print(f'   {key}, {value}')"
   ]
  },
  {
   "cell_type": "markdown",
   "id": "bebfa8f3-fb1e-44b9-a317-f4f54c7900b6",
   "metadata": {},
   "source": [
    "## P value is providing a significant finding. We are going to accept the null hypothesis.\n",
    "## The ADF Statistic is lower than our 1% critical value cuttoff, just above our 5% and higher than our 10% cuttoff indicating that Dairy production\n",
    "## may not have a time depednent structure since it does not have a constant variance over time."
   ]
  },
  {
   "cell_type": "code",
   "execution_count": 16,
   "id": "c0c8bf3b-467e-4211-a309-76fd1e0f848a",
   "metadata": {},
   "outputs": [
    {
     "data": {
      "text/html": [
       "<div>\n",
       "<style scoped>\n",
       "    .dataframe tbody tr th:only-of-type {\n",
       "        vertical-align: middle;\n",
       "    }\n",
       "\n",
       "    .dataframe tbody tr th {\n",
       "        vertical-align: top;\n",
       "    }\n",
       "\n",
       "    .dataframe thead th {\n",
       "        text-align: right;\n",
       "    }\n",
       "</style>\n",
       "<table border=\"1\" class=\"dataframe\">\n",
       "  <thead>\n",
       "    <tr style=\"text-align: right;\">\n",
       "      <th></th>\n",
       "      <th>Dairy, Milk, Fluid</th>\n",
       "    </tr>\n",
       "    <tr>\n",
       "      <th>Year</th>\n",
       "      <th></th>\n",
       "    </tr>\n",
       "  </thead>\n",
       "  <tbody>\n",
       "    <tr>\n",
       "      <th>1998-01-01</th>\n",
       "      <td>3.261510e+08</td>\n",
       "    </tr>\n",
       "    <tr>\n",
       "      <th>1999-01-01</th>\n",
       "      <td>7.753400e+07</td>\n",
       "    </tr>\n",
       "    <tr>\n",
       "      <th>2000-01-01</th>\n",
       "      <td>3.320920e+08</td>\n",
       "    </tr>\n",
       "    <tr>\n",
       "      <th>2001-01-01</th>\n",
       "      <td>3.053190e+08</td>\n",
       "    </tr>\n",
       "    <tr>\n",
       "      <th>2002-01-01</th>\n",
       "      <td>8.358100e+07</td>\n",
       "    </tr>\n",
       "    <tr>\n",
       "      <th>2003-01-01</th>\n",
       "      <td>8.782000e+06</td>\n",
       "    </tr>\n",
       "    <tr>\n",
       "      <th>2004-01-01</th>\n",
       "      <td>9.331000e+06</td>\n",
       "    </tr>\n",
       "    <tr>\n",
       "      <th>2005-01-01</th>\n",
       "      <td>9.247000e+06</td>\n",
       "    </tr>\n",
       "    <tr>\n",
       "      <th>2006-01-01</th>\n",
       "      <td>3.610910e+08</td>\n",
       "    </tr>\n",
       "    <tr>\n",
       "      <th>2007-01-01</th>\n",
       "      <td>3.454860e+08</td>\n",
       "    </tr>\n",
       "    <tr>\n",
       "      <th>2008-01-01</th>\n",
       "      <td>4.710106e+09</td>\n",
       "    </tr>\n",
       "    <tr>\n",
       "      <th>2009-01-01</th>\n",
       "      <td>4.177266e+09</td>\n",
       "    </tr>\n",
       "    <tr>\n",
       "      <th>2010-01-01</th>\n",
       "      <td>3.798467e+09</td>\n",
       "    </tr>\n",
       "    <tr>\n",
       "      <th>2011-01-01</th>\n",
       "      <td>3.942665e+09</td>\n",
       "    </tr>\n",
       "    <tr>\n",
       "      <th>2012-01-01</th>\n",
       "      <td>2.767000e+08</td>\n",
       "    </tr>\n",
       "    <tr>\n",
       "      <th>2013-01-01</th>\n",
       "      <td>4.572210e+08</td>\n",
       "    </tr>\n",
       "    <tr>\n",
       "      <th>2014-01-01</th>\n",
       "      <td>4.182120e+08</td>\n",
       "    </tr>\n",
       "    <tr>\n",
       "      <th>2015-01-01</th>\n",
       "      <td>4.508710e+08</td>\n",
       "    </tr>\n",
       "    <tr>\n",
       "      <th>2016-01-01</th>\n",
       "      <td>4.463350e+08</td>\n",
       "    </tr>\n",
       "    <tr>\n",
       "      <th>2017-01-01</th>\n",
       "      <td>8.572900e+08</td>\n",
       "    </tr>\n",
       "    <tr>\n",
       "      <th>2018-01-01</th>\n",
       "      <td>9.117200e+08</td>\n",
       "    </tr>\n",
       "    <tr>\n",
       "      <th>2019-01-01</th>\n",
       "      <td>8.482200e+08</td>\n",
       "    </tr>\n",
       "    <tr>\n",
       "      <th>2020-01-01</th>\n",
       "      <td>8.618300e+08</td>\n",
       "    </tr>\n",
       "    <tr>\n",
       "      <th>2021-01-01</th>\n",
       "      <td>3.455060e+08</td>\n",
       "    </tr>\n",
       "  </tbody>\n",
       "</table>\n",
       "</div>"
      ],
      "text/plain": [
       "            Dairy, Milk, Fluid\n",
       "Year                          \n",
       "1998-01-01        3.261510e+08\n",
       "1999-01-01        7.753400e+07\n",
       "2000-01-01        3.320920e+08\n",
       "2001-01-01        3.053190e+08\n",
       "2002-01-01        8.358100e+07\n",
       "2003-01-01        8.782000e+06\n",
       "2004-01-01        9.331000e+06\n",
       "2005-01-01        9.247000e+06\n",
       "2006-01-01        3.610910e+08\n",
       "2007-01-01        3.454860e+08\n",
       "2008-01-01        4.710106e+09\n",
       "2009-01-01        4.177266e+09\n",
       "2010-01-01        3.798467e+09\n",
       "2011-01-01        3.942665e+09\n",
       "2012-01-01        2.767000e+08\n",
       "2013-01-01        4.572210e+08\n",
       "2014-01-01        4.182120e+08\n",
       "2015-01-01        4.508710e+08\n",
       "2016-01-01        4.463350e+08\n",
       "2017-01-01        8.572900e+08\n",
       "2018-01-01        9.117200e+08\n",
       "2019-01-01        8.482200e+08\n",
       "2020-01-01        8.618300e+08\n",
       "2021-01-01        3.455060e+08"
      ]
     },
     "execution_count": 16,
     "metadata": {},
     "output_type": "execute_result"
    }
   ],
   "source": [
    "DMF"
   ]
  },
  {
   "cell_type": "code",
   "execution_count": 17,
   "id": "66c6b2a2-531b-45f8-be67-10f715be48db",
   "metadata": {},
   "outputs": [
    {
     "data": {
      "text/html": [
       "<div>\n",
       "<style scoped>\n",
       "    .dataframe tbody tr th:only-of-type {\n",
       "        vertical-align: middle;\n",
       "    }\n",
       "\n",
       "    .dataframe tbody tr th {\n",
       "        vertical-align: top;\n",
       "    }\n",
       "\n",
       "    .dataframe thead th {\n",
       "        text-align: right;\n",
       "    }\n",
       "</style>\n",
       "<table border=\"1\" class=\"dataframe\">\n",
       "  <thead>\n",
       "    <tr style=\"text-align: right;\">\n",
       "      <th></th>\n",
       "      <th>Dairy, Milk, Fluid</th>\n",
       "    </tr>\n",
       "    <tr>\n",
       "      <th>Year</th>\n",
       "      <th></th>\n",
       "    </tr>\n",
       "  </thead>\n",
       "  <tbody>\n",
       "    <tr>\n",
       "      <th>2018-01-01</th>\n",
       "      <td>911720000.0</td>\n",
       "    </tr>\n",
       "    <tr>\n",
       "      <th>2019-01-01</th>\n",
       "      <td>848220000.0</td>\n",
       "    </tr>\n",
       "    <tr>\n",
       "      <th>2020-01-01</th>\n",
       "      <td>861830000.0</td>\n",
       "    </tr>\n",
       "    <tr>\n",
       "      <th>2021-01-01</th>\n",
       "      <td>345506000.0</td>\n",
       "    </tr>\n",
       "  </tbody>\n",
       "</table>\n",
       "</div>"
      ],
      "text/plain": [
       "            Dairy, Milk, Fluid\n",
       "Year                          \n",
       "2018-01-01         911720000.0\n",
       "2019-01-01         848220000.0\n",
       "2020-01-01         861830000.0\n",
       "2021-01-01         345506000.0"
      ]
     },
     "execution_count": 17,
     "metadata": {},
     "output_type": "execute_result"
    }
   ],
   "source": [
    "# Splitting the data for training and testing\n",
    "train = DMF[:20]\n",
    "test =  DMF[-4:]\n",
    "train\n",
    "test"
   ]
  },
  {
   "cell_type": "code",
   "execution_count": 18,
   "id": "b09d483d-34ae-4d47-909a-23aa98185569",
   "metadata": {},
   "outputs": [
    {
     "data": {
      "text/plain": [
       "[<matplotlib.lines.Line2D at 0x27de4987af0>]"
      ]
     },
     "execution_count": 18,
     "metadata": {},
     "output_type": "execute_result"
    },
    {
     "data": {
      "image/png": "[encoded data removed]",
      "text/plain": [
       "<Figure size 432x288 with 1 Axes>"
      ]
     },
     "metadata": {
      "needs_background": "light"
     },
     "output_type": "display_data"
    }
   ],
   "source": [
    "plt.plot(train)\n",
    "plt.plot(test)"
   ]
  },
  {
   "cell_type": "code",
   "execution_count": 19,
   "id": "cafd6044-861b-4a6d-816a-b5181caa81e9",
   "metadata": {},
   "outputs": [
    {
     "data": {
      "text/plain": [
       "ARIMA(order=(1, 0, 0), scoring_args={}, suppress_warnings=True,\n",
       "      with_intercept=False)"
      ]
     },
     "execution_count": 19,
     "metadata": {},
     "output_type": "execute_result"
    }
   ],
   "source": [
    "## Running auto_arima to obtain p, d, q variables\n",
    "model = pm.auto_arima(DMF['Dairy, Milk, Fluid'], seasonal=False)\n",
    "model"
   ]
  },
  {
   "cell_type": "code",
   "execution_count": 20,
   "id": "0da8aa1c-6142-464f-937b-b1fc805f4b1e",
   "metadata": {},
   "outputs": [],
   "source": [
    "# ARIMA(order=(p=1, d=0, q=0)"
   ]
  },
  {
   "cell_type": "code",
   "execution_count": 22,
   "id": "646b0d37-c645-4fb6-900d-17be7cdfeac5",
   "metadata": {},
   "outputs": [
    {
     "name": "stdout",
     "output_type": "stream",
     "text": [
      "Performing stepwise search to minimize aic\n",
      " ARIMA(0,0,0)(0,0,0)[12] intercept   : AIC=907.567, Time=0.02 sec\n",
      " ARIMA(1,0,0)(1,0,0)[12] intercept   : AIC=900.615, Time=0.08 sec\n",
      " ARIMA(0,0,1)(0,0,1)[12] intercept   : AIC=904.143, Time=0.09 sec\n",
      " ARIMA(0,0,0)(0,0,0)[12]             : AIC=913.245, Time=0.01 sec\n",
      " ARIMA(1,0,0)(0,0,0)[12] intercept   : AIC=898.870, Time=0.03 sec\n",
      " ARIMA(1,0,0)(0,0,1)[12] intercept   : AIC=900.624, Time=0.07 sec\n",
      " ARIMA(1,0,0)(1,0,1)[12] intercept   : AIC=902.597, Time=0.09 sec\n",
      " ARIMA(2,0,0)(0,0,0)[12] intercept   : AIC=900.822, Time=0.04 sec\n",
      " ARIMA(1,0,1)(0,0,0)[12] intercept   : AIC=901.123, Time=0.04 sec\n",
      " ARIMA(0,0,1)(0,0,0)[12] intercept   : AIC=902.203, Time=0.02 sec\n",
      " ARIMA(2,0,1)(0,0,0)[12] intercept   : AIC=902.040, Time=0.10 sec\n",
      " ARIMA(1,0,0)(0,0,0)[12]             : AIC=898.455, Time=0.01 sec\n",
      " ARIMA(1,0,0)(1,0,0)[12]             : AIC=900.433, Time=0.05 sec\n",
      " ARIMA(1,0,0)(0,0,1)[12]             : AIC=900.434, Time=0.04 sec\n",
      " ARIMA(1,0,0)(1,0,1)[12]             : AIC=902.432, Time=0.10 sec\n",
      " ARIMA(2,0,0)(0,0,0)[12]             : AIC=900.528, Time=0.02 sec\n",
      " ARIMA(1,0,1)(0,0,0)[12]             : AIC=900.862, Time=0.03 sec\n",
      " ARIMA(0,0,1)(0,0,0)[12]             : AIC=906.327, Time=0.03 sec\n",
      " ARIMA(2,0,1)(0,0,0)[12]             : AIC=902.041, Time=0.09 sec\n",
      "\n",
      "Best model:  ARIMA(1,0,0)(0,0,0)[12]          \n",
      "Total fit time: 0.991 seconds\n"
     ]
    }
   ],
   "source": [
    "# Manually Building Auto ARIMA model\n",
    "arima_model =  auto_arima(train,start_p=0, d=0, start_q=0, \n",
    "                          max_p=5, max_d=5, max_q=5, start_P=0, \n",
    "                          D=0, start_Q=0, max_P=5, max_D=5,\n",
    "                          max_Q=5, m=12, seasonal=True, \n",
    "                          error_action='warn',trace = True,\n",
    "                          supress_warnings=True,stepwise = True,\n",
    "                          random_state=20,n_fits = 50 )"
   ]
  },
  {
   "cell_type": "markdown",
   "id": "ef54d051-7bb3-4e27-b750-b619dd1aea18",
   "metadata": {},
   "source": [
    "# Best model confirmed p=1 d=0 q=0.\n",
    "# model result  - ARIMA(1,0,0)(0,0,0)[12]: AIC=898.455"
   ]
  },
  {
   "cell_type": "code",
   "execution_count": 23,
   "id": "c3729f48-b33e-4c1c-b111-1f52c36afa20",
   "metadata": {},
   "outputs": [
    {
     "data": {
      "text/html": [
       "<table class=\"simpletable\">\n",
       "<caption>SARIMAX Results</caption>\n",
       "<tr>\n",
       "  <th>Dep. Variable:</th>           <td>y</td>        <th>  No. Observations:  </th>    <td>20</td>   \n",
       "</tr>\n",
       "<tr>\n",
       "  <th>Model:</th>           <td>SARIMAX(1, 0, 0)</td> <th>  Log Likelihood     </th> <td>-447.227</td>\n",
       "</tr>\n",
       "<tr>\n",
       "  <th>Date:</th>            <td>Tue, 19 Jul 2022</td> <th>  AIC                </th>  <td>898.455</td>\n",
       "</tr>\n",
       "<tr>\n",
       "  <th>Time:</th>                <td>23:31:57</td>     <th>  BIC                </th>  <td>900.446</td>\n",
       "</tr>\n",
       "<tr>\n",
       "  <th>Sample:</th>                  <td>0</td>        <th>  HQIC               </th>  <td>898.843</td>\n",
       "</tr>\n",
       "<tr>\n",
       "  <th></th>                       <td> - 20</td>      <th>                     </th>     <td> </td>   \n",
       "</tr>\n",
       "<tr>\n",
       "  <th>Covariance Type:</th>        <td>opg</td>       <th>                     </th>     <td> </td>   \n",
       "</tr>\n",
       "</table>\n",
       "<table class=\"simpletable\">\n",
       "<tr>\n",
       "     <td></td>       <th>coef</th>     <th>std err</th>      <th>z</th>      <th>P>|z|</th>  <th>[0.025</th>    <th>0.975]</th>  \n",
       "</tr>\n",
       "<tr>\n",
       "  <th>ar.L1</th>  <td>    0.7350</td> <td>    0.125</td> <td>    5.859</td> <td> 0.000</td> <td>    0.489</td> <td>    0.981</td>\n",
       "</tr>\n",
       "<tr>\n",
       "  <th>sigma2</th> <td> 1.561e+18</td> <td> 8.14e-21</td> <td> 1.92e+38</td> <td> 0.000</td> <td> 1.56e+18</td> <td> 1.56e+18</td>\n",
       "</tr>\n",
       "</table>\n",
       "<table class=\"simpletable\">\n",
       "<tr>\n",
       "  <th>Ljung-Box (L1) (Q):</th>     <td>0.01</td>  <th>  Jarque-Bera (JB):  </th> <td>42.19</td>\n",
       "</tr>\n",
       "<tr>\n",
       "  <th>Prob(Q):</th>                <td>0.93</td>  <th>  Prob(JB):          </th> <td>0.00</td> \n",
       "</tr>\n",
       "<tr>\n",
       "  <th>Heteroskedasticity (H):</th> <td>48.40</td> <th>  Skew:              </th> <td>1.41</td> \n",
       "</tr>\n",
       "<tr>\n",
       "  <th>Prob(H) (two-sided):</th>    <td>0.00</td>  <th>  Kurtosis:          </th> <td>9.53</td> \n",
       "</tr>\n",
       "</table><br/><br/>Warnings:<br/>[1] Covariance matrix calculated using the outer product of gradients (complex-step).<br/>[2] Covariance matrix is singular or near-singular, with condition number    inf. Standard errors may be unstable."
      ],
      "text/plain": [
       "<class 'statsmodels.iolib.summary.Summary'>\n",
       "\"\"\"\n",
       "                               SARIMAX Results                                \n",
       "==============================================================================\n",
       "Dep. Variable:                      y   No. Observations:                   20\n",
       "Model:               SARIMAX(1, 0, 0)   Log Likelihood                -447.227\n",
       "Date:                Tue, 19 Jul 2022   AIC                            898.455\n",
       "Time:                        23:31:57   BIC                            900.446\n",
       "Sample:                             0   HQIC                           898.843\n",
       "                                 - 20                                         \n",
       "Covariance Type:                  opg                                         \n",
       "==============================================================================\n",
       "                 coef    std err          z      P>|z|      [0.025      0.975]\n",
       "------------------------------------------------------------------------------\n",
       "ar.L1          0.7350      0.125      5.859      0.000       0.489       0.981\n",
       "sigma2      1.561e+18   8.14e-21   1.92e+38      0.000    1.56e+18    1.56e+18\n",
       "===================================================================================\n",
       "Ljung-Box (L1) (Q):                   0.01   Jarque-Bera (JB):                42.19\n",
       "Prob(Q):                              0.93   Prob(JB):                         0.00\n",
       "Heteroskedasticity (H):              48.40   Skew:                             1.41\n",
       "Prob(H) (two-sided):                  0.00   Kurtosis:                         9.53\n",
       "===================================================================================\n",
       "\n",
       "Warnings:\n",
       "[1] Covariance matrix calculated using the outer product of gradients (complex-step).\n",
       "[2] Covariance matrix is singular or near-singular, with condition number    inf. Standard errors may be unstable.\n",
       "\"\"\""
      ]
     },
     "execution_count": 23,
     "metadata": {},
     "output_type": "execute_result"
    }
   ],
   "source": [
    "#Summary of the model\n",
    "arima_model.summary()"
   ]
  },
  {
   "cell_type": "code",
   "execution_count": 24,
   "id": "2d9dd818-c7e0-4fc1-86f5-22addce3aa32",
   "metadata": {},
   "outputs": [
    {
     "data": {
      "text/html": [
       "<div>\n",
       "<style scoped>\n",
       "    .dataframe tbody tr th:only-of-type {\n",
       "        vertical-align: middle;\n",
       "    }\n",
       "\n",
       "    .dataframe tbody tr th {\n",
       "        vertical-align: top;\n",
       "    }\n",
       "\n",
       "    .dataframe thead th {\n",
       "        text-align: right;\n",
       "    }\n",
       "</style>\n",
       "<table border=\"1\" class=\"dataframe\">\n",
       "  <thead>\n",
       "    <tr style=\"text-align: right;\">\n",
       "      <th></th>\n",
       "      <th>predicted_values</th>\n",
       "    </tr>\n",
       "    <tr>\n",
       "      <th>Year</th>\n",
       "      <th></th>\n",
       "    </tr>\n",
       "  </thead>\n",
       "  <tbody>\n",
       "    <tr>\n",
       "      <th>2018-01-01</th>\n",
       "      <td>6.301083e+08</td>\n",
       "    </tr>\n",
       "    <tr>\n",
       "      <th>2019-01-01</th>\n",
       "      <td>4.631297e+08</td>\n",
       "    </tr>\n",
       "    <tr>\n",
       "      <th>2020-01-01</th>\n",
       "      <td>3.404004e+08</td>\n",
       "    </tr>\n",
       "    <tr>\n",
       "      <th>2021-01-01</th>\n",
       "      <td>2.501944e+08</td>\n",
       "    </tr>\n",
       "  </tbody>\n",
       "</table>\n",
       "</div>"
      ],
      "text/plain": [
       "            predicted_values\n",
       "Year                        \n",
       "2018-01-01      6.301083e+08\n",
       "2019-01-01      4.631297e+08\n",
       "2020-01-01      3.404004e+08\n",
       "2021-01-01      2.501944e+08"
      ]
     },
     "execution_count": 24,
     "metadata": {},
     "output_type": "execute_result"
    }
   ],
   "source": [
    "# Forecasting on the test data\n",
    "prediction = pd.DataFrame(arima_model.predict(n_periods = 4),index=test.index)\n",
    "prediction.columns = ['predicted_values']\n",
    "prediction"
   ]
  },
  {
   "cell_type": "code",
   "execution_count": 25,
   "id": "ec2f4194-9c95-446d-aa53-3362c7f3069f",
   "metadata": {},
   "outputs": [
    {
     "data": {
      "image/png": "[encoded data removed]",
      "text/plain": [
       "<Figure size 576x360 with 1 Axes>"
      ]
     },
     "metadata": {
      "needs_background": "light"
     },
     "output_type": "display_data"
    }
   ],
   "source": [
    "# Plotting against actual values\n",
    "plt.figure(figsize=(8,5))\n",
    "plt.plot(train,label=\"Training\")\n",
    "plt.plot(test,label=\"Test\")\n",
    "plt.plot(prediction,label=\"Predicted\")\n",
    "plt.legend(loc = 'best')\n",
    "plt.show()"
   ]
  },
  {
   "cell_type": "code",
   "execution_count": 26,
   "id": "3fc4a11f-8139-4ec8-884a-2b42b49ff5eb",
   "metadata": {},
   "outputs": [
    {
     "name": "stderr",
     "output_type": "stream",
     "text": [
      "C:\\Users\\airos\\AppData\\Local\\Temp/ipykernel_4840/983895852.py:2: SettingWithCopyWarning: \n",
      "A value is trying to be set on a copy of a slice from a DataFrame.\n",
      "Try using .loc[row_indexer,col_indexer] = value instead\n",
      "\n",
      "See the caveats in the documentation: https://pandas.pydata.org/pandas-docs/stable/user_guide/indexing.html#returning-a-view-versus-a-copy\n",
      "  test['predicted_values'] = prediction\n"
     ]
    },
    {
     "data": {
      "text/plain": [
       "-1.4028479068608295"
      ]
     },
     "execution_count": 26,
     "metadata": {},
     "output_type": "execute_result"
    }
   ],
   "source": [
    "# Looking at R2 score\n",
    "test['predicted_values'] = prediction\n",
    "r2_score(test['Dairy, Milk, Fluid'], test['predicted_values'])"
   ]
  },
  {
   "cell_type": "markdown",
   "id": "dc66226d-a191-41e4-a09f-8641c233e6d1",
   "metadata": {},
   "source": [
    "### INDICATES less accuracy?  would want to correct for this given more opportunity."
   ]
  },
  {
   "cell_type": "code",
   "execution_count": 27,
   "id": "4a1aecd2-fb58-4626-902d-fde30806d71c",
   "metadata": {},
   "outputs": [
    {
     "data": {
      "image/png": "[encoded data removed]",
      "text/plain": [
       "<Figure size 648x504 with 4 Axes>"
      ]
     },
     "metadata": {
      "needs_background": "light"
     },
     "output_type": "display_data"
    }
   ],
   "source": [
    "# Interpreting residual plots\n",
    "arima_model.plot_diagnostics(figsize=(9,7))\n",
    "plt.show()"
   ]
  },
  {
   "cell_type": "markdown",
   "id": "0523df46-7038-40a0-b2fb-9c1fa7e3cc26",
   "metadata": {},
   "source": [
    "### Upper left plot reveals pretty close variance on both sides of 0, Upper right plot reveals almost normality (I'd like to correct for this), Lower left reveals a slight deviation of the points from the trend line that also reveal some outliers, and the lower right reveals only one deviation thats not too far from the projected range we are looking at. "
   ]
  },
  {
   "cell_type": "code",
   "execution_count": 28,
   "id": "acef604a-a07d-48e4-8bf3-eda3d0190ea3",
   "metadata": {},
   "outputs": [
    {
     "name": "stdout",
     "output_type": "stream",
     "text": [
      "   Year predicted_values\n",
      "0  2022              NaN\n",
      "1  2023              NaN\n",
      "2  2024              NaN\n",
      "3  2025              NaN\n"
     ]
    }
   ],
   "source": [
    "# Creating new dataframe for future forecasting\n",
    "future = {'Year':  [2022, 2023, 2024, 2025],\n",
    "        'predicted_values': ['NaN', 'NaN', 'NaN', 'NaN']}\n",
    "\n",
    "future = pd.DataFrame(future)\n",
    "print (future)"
   ]
  },
  {
   "cell_type": "code",
   "execution_count": 29,
   "id": "de9ab75b-a092-4a47-8e7d-8d33531bf24d",
   "metadata": {},
   "outputs": [],
   "source": [
    "# Formatting Year to date datatype \n",
    "future['Year'] = pd.to_datetime(future['Year'], format='%Y')"
   ]
  },
  {
   "cell_type": "code",
   "execution_count": 30,
   "id": "d410c8c8-db06-4702-8237-c8ab24ce2841",
   "metadata": {},
   "outputs": [
    {
     "data": {
      "text/html": [
       "<div>\n",
       "<style scoped>\n",
       "    .dataframe tbody tr th:only-of-type {\n",
       "        vertical-align: middle;\n",
       "    }\n",
       "\n",
       "    .dataframe tbody tr th {\n",
       "        vertical-align: top;\n",
       "    }\n",
       "\n",
       "    .dataframe thead th {\n",
       "        text-align: right;\n",
       "    }\n",
       "</style>\n",
       "<table border=\"1\" class=\"dataframe\">\n",
       "  <thead>\n",
       "    <tr style=\"text-align: right;\">\n",
       "      <th></th>\n",
       "      <th>predicted_values</th>\n",
       "    </tr>\n",
       "    <tr>\n",
       "      <th>Year</th>\n",
       "      <th></th>\n",
       "    </tr>\n",
       "  </thead>\n",
       "  <tbody>\n",
       "    <tr>\n",
       "      <th>2022-01-01</th>\n",
       "      <td>NaN</td>\n",
       "    </tr>\n",
       "    <tr>\n",
       "      <th>2023-01-01</th>\n",
       "      <td>NaN</td>\n",
       "    </tr>\n",
       "    <tr>\n",
       "      <th>2024-01-01</th>\n",
       "      <td>NaN</td>\n",
       "    </tr>\n",
       "    <tr>\n",
       "      <th>2025-01-01</th>\n",
       "      <td>NaN</td>\n",
       "    </tr>\n",
       "  </tbody>\n",
       "</table>\n",
       "</div>"
      ],
      "text/plain": [
       "           predicted_values\n",
       "Year                       \n",
       "2022-01-01              NaN\n",
       "2023-01-01              NaN\n",
       "2024-01-01              NaN\n",
       "2025-01-01              NaN"
      ]
     },
     "execution_count": 30,
     "metadata": {},
     "output_type": "execute_result"
    }
   ],
   "source": [
    "## Setting Year as index\n",
    "future.set_index('Year', inplace=True)\n",
    "type(future)\n",
    "future"
   ]
  },
  {
   "cell_type": "code",
   "execution_count": 31,
   "id": "eff49229-d311-4836-a9f1-96e3988cd692",
   "metadata": {},
   "outputs": [
    {
     "name": "stderr",
     "output_type": "stream",
     "text": [
      "C:\\Users\\airos\\AppData\\Local\\Temp/ipykernel_4840/1597258169.py:2: FutureWarning: The frame.append method is deprecated and will be removed from pandas in a future version. Use pandas.concat instead.\n",
      "  futureprediction = DMF.append(future)\n"
     ]
    },
    {
     "data": {
      "text/html": [
       "<div>\n",
       "<style scoped>\n",
       "    .dataframe tbody tr th:only-of-type {\n",
       "        vertical-align: middle;\n",
       "    }\n",
       "\n",
       "    .dataframe tbody tr th {\n",
       "        vertical-align: top;\n",
       "    }\n",
       "\n",
       "    .dataframe thead th {\n",
       "        text-align: right;\n",
       "    }\n",
       "</style>\n",
       "<table border=\"1\" class=\"dataframe\">\n",
       "  <thead>\n",
       "    <tr style=\"text-align: right;\">\n",
       "      <th></th>\n",
       "      <th>Dairy, Milk, Fluid</th>\n",
       "      <th>predicted_values</th>\n",
       "    </tr>\n",
       "    <tr>\n",
       "      <th>Year</th>\n",
       "      <th></th>\n",
       "      <th></th>\n",
       "    </tr>\n",
       "  </thead>\n",
       "  <tbody>\n",
       "    <tr>\n",
       "      <th>1998-01-01</th>\n",
       "      <td>3.261510e+08</td>\n",
       "      <td>NaN</td>\n",
       "    </tr>\n",
       "    <tr>\n",
       "      <th>1999-01-01</th>\n",
       "      <td>7.753400e+07</td>\n",
       "      <td>NaN</td>\n",
       "    </tr>\n",
       "    <tr>\n",
       "      <th>2000-01-01</th>\n",
       "      <td>3.320920e+08</td>\n",
       "      <td>NaN</td>\n",
       "    </tr>\n",
       "    <tr>\n",
       "      <th>2001-01-01</th>\n",
       "      <td>3.053190e+08</td>\n",
       "      <td>NaN</td>\n",
       "    </tr>\n",
       "    <tr>\n",
       "      <th>2002-01-01</th>\n",
       "      <td>8.358100e+07</td>\n",
       "      <td>NaN</td>\n",
       "    </tr>\n",
       "    <tr>\n",
       "      <th>2003-01-01</th>\n",
       "      <td>8.782000e+06</td>\n",
       "      <td>NaN</td>\n",
       "    </tr>\n",
       "    <tr>\n",
       "      <th>2004-01-01</th>\n",
       "      <td>9.331000e+06</td>\n",
       "      <td>NaN</td>\n",
       "    </tr>\n",
       "    <tr>\n",
       "      <th>2005-01-01</th>\n",
       "      <td>9.247000e+06</td>\n",
       "      <td>NaN</td>\n",
       "    </tr>\n",
       "    <tr>\n",
       "      <th>2006-01-01</th>\n",
       "      <td>3.610910e+08</td>\n",
       "      <td>NaN</td>\n",
       "    </tr>\n",
       "    <tr>\n",
       "      <th>2007-01-01</th>\n",
       "      <td>3.454860e+08</td>\n",
       "      <td>NaN</td>\n",
       "    </tr>\n",
       "    <tr>\n",
       "      <th>2008-01-01</th>\n",
       "      <td>4.710106e+09</td>\n",
       "      <td>NaN</td>\n",
       "    </tr>\n",
       "    <tr>\n",
       "      <th>2009-01-01</th>\n",
       "      <td>4.177266e+09</td>\n",
       "      <td>NaN</td>\n",
       "    </tr>\n",
       "    <tr>\n",
       "      <th>2010-01-01</th>\n",
       "      <td>3.798467e+09</td>\n",
       "      <td>NaN</td>\n",
       "    </tr>\n",
       "    <tr>\n",
       "      <th>2011-01-01</th>\n",
       "      <td>3.942665e+09</td>\n",
       "      <td>NaN</td>\n",
       "    </tr>\n",
       "    <tr>\n",
       "      <th>2012-01-01</th>\n",
       "      <td>2.767000e+08</td>\n",
       "      <td>NaN</td>\n",
       "    </tr>\n",
       "    <tr>\n",
       "      <th>2013-01-01</th>\n",
       "      <td>4.572210e+08</td>\n",
       "      <td>NaN</td>\n",
       "    </tr>\n",
       "    <tr>\n",
       "      <th>2014-01-01</th>\n",
       "      <td>4.182120e+08</td>\n",
       "      <td>NaN</td>\n",
       "    </tr>\n",
       "    <tr>\n",
       "      <th>2015-01-01</th>\n",
       "      <td>4.508710e+08</td>\n",
       "      <td>NaN</td>\n",
       "    </tr>\n",
       "    <tr>\n",
       "      <th>2016-01-01</th>\n",
       "      <td>4.463350e+08</td>\n",
       "      <td>NaN</td>\n",
       "    </tr>\n",
       "    <tr>\n",
       "      <th>2017-01-01</th>\n",
       "      <td>8.572900e+08</td>\n",
       "      <td>NaN</td>\n",
       "    </tr>\n",
       "    <tr>\n",
       "      <th>2018-01-01</th>\n",
       "      <td>9.117200e+08</td>\n",
       "      <td>NaN</td>\n",
       "    </tr>\n",
       "    <tr>\n",
       "      <th>2019-01-01</th>\n",
       "      <td>8.482200e+08</td>\n",
       "      <td>NaN</td>\n",
       "    </tr>\n",
       "    <tr>\n",
       "      <th>2020-01-01</th>\n",
       "      <td>8.618300e+08</td>\n",
       "      <td>NaN</td>\n",
       "    </tr>\n",
       "    <tr>\n",
       "      <th>2021-01-01</th>\n",
       "      <td>3.455060e+08</td>\n",
       "      <td>NaN</td>\n",
       "    </tr>\n",
       "    <tr>\n",
       "      <th>2022-01-01</th>\n",
       "      <td>NaN</td>\n",
       "      <td>NaN</td>\n",
       "    </tr>\n",
       "    <tr>\n",
       "      <th>2023-01-01</th>\n",
       "      <td>NaN</td>\n",
       "      <td>NaN</td>\n",
       "    </tr>\n",
       "    <tr>\n",
       "      <th>2024-01-01</th>\n",
       "      <td>NaN</td>\n",
       "      <td>NaN</td>\n",
       "    </tr>\n",
       "    <tr>\n",
       "      <th>2025-01-01</th>\n",
       "      <td>NaN</td>\n",
       "      <td>NaN</td>\n",
       "    </tr>\n",
       "  </tbody>\n",
       "</table>\n",
       "</div>"
      ],
      "text/plain": [
       "            Dairy, Milk, Fluid predicted_values\n",
       "Year                                           \n",
       "1998-01-01        3.261510e+08              NaN\n",
       "1999-01-01        7.753400e+07              NaN\n",
       "2000-01-01        3.320920e+08              NaN\n",
       "2001-01-01        3.053190e+08              NaN\n",
       "2002-01-01        8.358100e+07              NaN\n",
       "2003-01-01        8.782000e+06              NaN\n",
       "2004-01-01        9.331000e+06              NaN\n",
       "2005-01-01        9.247000e+06              NaN\n",
       "2006-01-01        3.610910e+08              NaN\n",
       "2007-01-01        3.454860e+08              NaN\n",
       "2008-01-01        4.710106e+09              NaN\n",
       "2009-01-01        4.177266e+09              NaN\n",
       "2010-01-01        3.798467e+09              NaN\n",
       "2011-01-01        3.942665e+09              NaN\n",
       "2012-01-01        2.767000e+08              NaN\n",
       "2013-01-01        4.572210e+08              NaN\n",
       "2014-01-01        4.182120e+08              NaN\n",
       "2015-01-01        4.508710e+08              NaN\n",
       "2016-01-01        4.463350e+08              NaN\n",
       "2017-01-01        8.572900e+08              NaN\n",
       "2018-01-01        9.117200e+08              NaN\n",
       "2019-01-01        8.482200e+08              NaN\n",
       "2020-01-01        8.618300e+08              NaN\n",
       "2021-01-01        3.455060e+08              NaN\n",
       "2022-01-01                 NaN              NaN\n",
       "2023-01-01                 NaN              NaN\n",
       "2024-01-01                 NaN              NaN\n",
       "2025-01-01                 NaN              NaN"
      ]
     },
     "execution_count": 31,
     "metadata": {},
     "output_type": "execute_result"
    }
   ],
   "source": [
    "# Appending Future DF to justDairy DF\n",
    "futureprediction = DMF.append(future)\n",
    "futureprediction"
   ]
  },
  {
   "cell_type": "code",
   "execution_count": 32,
   "id": "c72a34d4-f3cf-4720-836a-3337921f4306",
   "metadata": {},
   "outputs": [
    {
     "data": {
      "text/html": [
       "<div>\n",
       "<style scoped>\n",
       "    .dataframe tbody tr th:only-of-type {\n",
       "        vertical-align: middle;\n",
       "    }\n",
       "\n",
       "    .dataframe tbody tr th {\n",
       "        vertical-align: top;\n",
       "    }\n",
       "\n",
       "    .dataframe thead th {\n",
       "        text-align: right;\n",
       "    }\n",
       "</style>\n",
       "<table border=\"1\" class=\"dataframe\">\n",
       "  <thead>\n",
       "    <tr style=\"text-align: right;\">\n",
       "      <th></th>\n",
       "      <th>predicted_values</th>\n",
       "    </tr>\n",
       "    <tr>\n",
       "      <th>Year</th>\n",
       "      <th></th>\n",
       "    </tr>\n",
       "  </thead>\n",
       "  <tbody>\n",
       "    <tr>\n",
       "      <th>1998-01-01</th>\n",
       "      <td>6.301083e+08</td>\n",
       "    </tr>\n",
       "    <tr>\n",
       "      <th>1999-01-01</th>\n",
       "      <td>4.631297e+08</td>\n",
       "    </tr>\n",
       "    <tr>\n",
       "      <th>2000-01-01</th>\n",
       "      <td>3.404004e+08</td>\n",
       "    </tr>\n",
       "    <tr>\n",
       "      <th>2001-01-01</th>\n",
       "      <td>2.501944e+08</td>\n",
       "    </tr>\n",
       "    <tr>\n",
       "      <th>2002-01-01</th>\n",
       "      <td>1.838929e+08</td>\n",
       "    </tr>\n",
       "    <tr>\n",
       "      <th>2003-01-01</th>\n",
       "      <td>1.351613e+08</td>\n",
       "    </tr>\n",
       "    <tr>\n",
       "      <th>2004-01-01</th>\n",
       "      <td>9.934361e+07</td>\n",
       "    </tr>\n",
       "    <tr>\n",
       "      <th>2005-01-01</th>\n",
       "      <td>7.301757e+07</td>\n",
       "    </tr>\n",
       "    <tr>\n",
       "      <th>2006-01-01</th>\n",
       "      <td>5.366793e+07</td>\n",
       "    </tr>\n",
       "    <tr>\n",
       "      <th>2007-01-01</th>\n",
       "      <td>3.944594e+07</td>\n",
       "    </tr>\n",
       "    <tr>\n",
       "      <th>2008-01-01</th>\n",
       "      <td>2.899277e+07</td>\n",
       "    </tr>\n",
       "    <tr>\n",
       "      <th>2009-01-01</th>\n",
       "      <td>2.130969e+07</td>\n",
       "    </tr>\n",
       "    <tr>\n",
       "      <th>2010-01-01</th>\n",
       "      <td>1.566263e+07</td>\n",
       "    </tr>\n",
       "    <tr>\n",
       "      <th>2011-01-01</th>\n",
       "      <td>1.151203e+07</td>\n",
       "    </tr>\n",
       "    <tr>\n",
       "      <th>2012-01-01</th>\n",
       "      <td>8.461348e+06</td>\n",
       "    </tr>\n",
       "    <tr>\n",
       "      <th>2013-01-01</th>\n",
       "      <td>6.219092e+06</td>\n",
       "    </tr>\n",
       "    <tr>\n",
       "      <th>2014-01-01</th>\n",
       "      <td>4.571034e+06</td>\n",
       "    </tr>\n",
       "    <tr>\n",
       "      <th>2015-01-01</th>\n",
       "      <td>3.359711e+06</td>\n",
       "    </tr>\n",
       "    <tr>\n",
       "      <th>2016-01-01</th>\n",
       "      <td>2.469388e+06</td>\n",
       "    </tr>\n",
       "    <tr>\n",
       "      <th>2017-01-01</th>\n",
       "      <td>1.815001e+06</td>\n",
       "    </tr>\n",
       "    <tr>\n",
       "      <th>2018-01-01</th>\n",
       "      <td>1.334026e+06</td>\n",
       "    </tr>\n",
       "    <tr>\n",
       "      <th>2019-01-01</th>\n",
       "      <td>9.805092e+05</td>\n",
       "    </tr>\n",
       "    <tr>\n",
       "      <th>2020-01-01</th>\n",
       "      <td>7.206745e+05</td>\n",
       "    </tr>\n",
       "    <tr>\n",
       "      <th>2021-01-01</th>\n",
       "      <td>5.296959e+05</td>\n",
       "    </tr>\n",
       "    <tr>\n",
       "      <th>2022-01-01</th>\n",
       "      <td>3.893266e+05</td>\n",
       "    </tr>\n",
       "    <tr>\n",
       "      <th>2023-01-01</th>\n",
       "      <td>2.861551e+05</td>\n",
       "    </tr>\n",
       "    <tr>\n",
       "      <th>2024-01-01</th>\n",
       "      <td>2.103241e+05</td>\n",
       "    </tr>\n",
       "    <tr>\n",
       "      <th>2025-01-01</th>\n",
       "      <td>1.545882e+05</td>\n",
       "    </tr>\n",
       "  </tbody>\n",
       "</table>\n",
       "</div>"
      ],
      "text/plain": [
       "            predicted_values\n",
       "Year                        \n",
       "1998-01-01      6.301083e+08\n",
       "1999-01-01      4.631297e+08\n",
       "2000-01-01      3.404004e+08\n",
       "2001-01-01      2.501944e+08\n",
       "2002-01-01      1.838929e+08\n",
       "2003-01-01      1.351613e+08\n",
       "2004-01-01      9.934361e+07\n",
       "2005-01-01      7.301757e+07\n",
       "2006-01-01      5.366793e+07\n",
       "2007-01-01      3.944594e+07\n",
       "2008-01-01      2.899277e+07\n",
       "2009-01-01      2.130969e+07\n",
       "2010-01-01      1.566263e+07\n",
       "2011-01-01      1.151203e+07\n",
       "2012-01-01      8.461348e+06\n",
       "2013-01-01      6.219092e+06\n",
       "2014-01-01      4.571034e+06\n",
       "2015-01-01      3.359711e+06\n",
       "2016-01-01      2.469388e+06\n",
       "2017-01-01      1.815001e+06\n",
       "2018-01-01      1.334026e+06\n",
       "2019-01-01      9.805092e+05\n",
       "2020-01-01      7.206745e+05\n",
       "2021-01-01      5.296959e+05\n",
       "2022-01-01      3.893266e+05\n",
       "2023-01-01      2.861551e+05\n",
       "2024-01-01      2.103241e+05\n",
       "2025-01-01      1.545882e+05"
      ]
     },
     "execution_count": 32,
     "metadata": {},
     "output_type": "execute_result"
    }
   ],
   "source": [
    "# Setting number of points to forecast\n",
    "h=28\n",
    "# Generating forecast\n",
    "forecast2 = pd.DataFrame(arima_model.predict(h), index=futureprediction.index)\n",
    "forecast2.columns = ['predicted_values']\n",
    "forecast2"
   ]
  },
  {
   "cell_type": "markdown",
   "id": "b0c51c4e-4910-4fd3-8f7d-2beab7d1ba88",
   "metadata": {},
   "source": [
    "#### DOES NOT REVEAL THE GRAPH WE WANT\n",
    "\n",
    "#### Visualize forecast with training data\n",
    "time = np.arange(train.shape[0] + h)\n",
    "\n",
    "#### Slice the x-axis to only plot the training data as the color black\n",
    "plt.plot(time[:train.shape[0]], train, c = 'blue')\n",
    "\n",
    "#### Slice the x-axis to plot our forecast after the training data as the color red\n",
    "plt.plot(time[train.shape[0]:], forecast2, c = 'black')\n",
    "\n",
    "#### Set axis labels\n",
    "plt.xlabel('Time')\n",
    "plt.ylabel('Value')\n",
    "plt.show()\n",
    "\n",
    "\n"
   ]
  },
  {
   "cell_type": "markdown",
   "id": "e43dde92-7e83-428f-ae6d-4d8ff6662152",
   "metadata": {},
   "source": [
    "# 2023 Honey Prediction Values based off of Dairy Commodity Forecasting\n",
    "\n",
    "\n",
    "# ******Using Dairy+Honey linear regression equation performed in Cat1Pivot; (Deq) y  = -455.0467(Honey)+117000000.0) we can solve for Honey.\n",
    "\n",
    "### US Dairy production for 2023 is forecasted at 2.861551e+05, or 286155.1 Metric Tons.\n",
    "\n",
    "\n",
    "### if we plug our values into the Linear regression formula Honey Production = \n",
    "### 286155.1 = -455.0467(Honey)+117000000.0 (solving below)\n",
    "### So Honey production is predicted to produce 256487.62 metric tons in 2023."
   ]
  },
  {
   "cell_type": "code",
   "execution_count": 34,
   "id": "63a9f476-d917-4bda-9344-c76765f2ae0f",
   "metadata": {},
   "outputs": [
    {
     "data": {
      "text/plain": [
       "-116713844.9"
      ]
     },
     "execution_count": 34,
     "metadata": {},
     "output_type": "execute_result"
    }
   ],
   "source": [
    " 286155.1 - 117000000.0 "
   ]
  },
  {
   "cell_type": "code",
   "execution_count": 35,
   "id": "c0ffb0cc-f2fe-4e79-bb13-cc3c4d37aaa8",
   "metadata": {},
   "outputs": [],
   "source": [
    "### -116713844.9 = -455.0467(Honey)"
   ]
  },
  {
   "cell_type": "code",
   "execution_count": 36,
   "id": "cc90972a-af82-467d-8798-a8a36ab8b4c8",
   "metadata": {},
   "outputs": [
    {
     "data": {
      "text/plain": [
       "256487.6196223377"
      ]
     },
     "execution_count": 36,
     "metadata": {},
     "output_type": "execute_result"
    }
   ],
   "source": [
    "-116713844.9/-455.0467"
   ]
  },
  {
   "cell_type": "code",
   "execution_count": 37,
   "id": "0beb2772-ad65-4f2e-b379-49399434ac39",
   "metadata": {},
   "outputs": [],
   "source": [
    "### honey = 256487.62"
   ]
  },
  {
   "cell_type": "code",
   "execution_count": null,
   "id": "6b47e7d1-b0cc-475f-8930-35db12a5a3c8",
   "metadata": {},
   "outputs": [],
   "source": [
    "Meat.head()"
   ]
  },
  {
   "cell_type": "code",
   "execution_count": null,
   "id": "3d319cea-b916-4d78-86a3-e5c04ae0ae90",
   "metadata": {},
   "outputs": [],
   "source": [
    "# Formatting Year to date datatype \n",
    "Meat['Year'] = pd.to_datetime(Meat['Year'], format='%Y')"
   ]
  },
  {
   "cell_type": "code",
   "execution_count": null,
   "id": "34e6eca4-c482-40a2-8053-5c185ab04000",
   "metadata": {},
   "outputs": [],
   "source": [
    "## Setting Year as index\n",
    "Meat.set_index('Year', inplace=True)\n",
    "type(Meat)"
   ]
  },
  {
   "cell_type": "code",
   "execution_count": null,
   "id": "fb85e25b-cabb-4e39-a5df-90a8f0953ff0",
   "metadata": {},
   "outputs": [],
   "source": [
    "## Looking at linear plot of d,m,f, production\n",
    "Meat.plot()"
   ]
  },
  {
   "cell_type": "markdown",
   "id": "9691ad59-edb5-4dee-910a-3ee71ccac8ed",
   "metadata": {},
   "source": [
    "## Linear plot does not look stationary, there is obvious inconsistency across the plot every three years or so. May be due tertiary other variables.\n",
    "# dIFFERENCING!!! LOOK IT UP!"
   ]
  },
  {
   "cell_type": "code",
   "execution_count": null,
   "id": "139d5803-6f8d-4301-a56a-a034c069a02e",
   "metadata": {},
   "outputs": [],
   "source": [
    "## Testing our finding against Augmented Dickey Fuller test\n",
    "result=adfuller(Meat['Meat, Swine'], autolag='AIC')\n",
    "print(f'ADF Statistic: {result[0]}')\n",
    "print(f'n_lags: {result[1]}')\n",
    "print(f'p-value: {result[1]}')\n",
    "for key, value in result[4].items():\n",
    "    print('Critial Values:')\n",
    "    print(f'   {key}, {value}')"
   ]
  },
  {
   "cell_type": "markdown",
   "id": "ae57c5fd-2d4c-4ae4-a1e6-884d2d7c6457",
   "metadata": {},
   "source": [
    "## P value is providing an insignificant finding (>0.05). We are going to reject the null hypothesis.\n",
    "## The ADF Statistic is lower than our all critical value cuttoffs revealing a possible time depednent structure since it MAY have a constant variance over time."
   ]
  },
  {
   "cell_type": "code",
   "execution_count": null,
   "id": "9f372809-960e-4da0-99b1-2958bb14b360",
   "metadata": {},
   "outputs": [],
   "source": [
    "Meat"
   ]
  },
  {
   "cell_type": "code",
   "execution_count": null,
   "id": "1c1919e9-fd63-4098-bd63-5ae3060388ca",
   "metadata": {},
   "outputs": [],
   "source": [
    "# Splitting the data for training and testing\n",
    "train = Meat[:20]\n",
    "test =  Meat[-4:]\n",
    "train\n",
    "test"
   ]
  },
  {
   "cell_type": "code",
   "execution_count": null,
   "id": "199366c8-c580-4278-856c-3b98ff30e4c1",
   "metadata": {},
   "outputs": [],
   "source": [
    "plt.plot(train)\n",
    "plt.plot(test)"
   ]
  },
  {
   "cell_type": "code",
   "execution_count": null,
   "id": "187d2cff-8f9f-4864-a727-8feaeb379f2c",
   "metadata": {},
   "outputs": [],
   "source": [
    "## Running auto_arima to obtain p, d, q variables\n",
    "model = pm.auto_arima(Meat['Meat, Swine'], seasonal=False)\n",
    "model"
   ]
  },
  {
   "cell_type": "code",
   "execution_count": null,
   "id": "bc7caa33-8ffd-4b39-8ae6-12ac53f649f5",
   "metadata": {},
   "outputs": [],
   "source": [
    "# p=0 d=1 q=0"
   ]
  },
  {
   "cell_type": "code",
   "execution_count": null,
   "id": "3665c8c6-4a2b-4392-a5db-83b21431816e",
   "metadata": {},
   "outputs": [],
   "source": [
    "# Manually Building Auto ARIMA model\n",
    "arima_model =  auto_arima(train,start_p=0, d=1, start_q=0, \n",
    "                          max_p=5, max_d=5, max_q=5, start_P=0, \n",
    "                          D=1, start_Q=0, max_P=5, max_D=5,\n",
    "                          max_Q=5, m=12, seasonal=False, \n",
    "                          error_action='warn',trace = True,\n",
    "                          supress_warnings=True,stepwise = True,\n",
    "                          random_state=20,n_fits = 50 )"
   ]
  },
  {
   "cell_type": "code",
   "execution_count": null,
   "id": "e803832d-17f6-4f93-9bde-11f9267ae41c",
   "metadata": {},
   "outputs": [],
   "source": [
    "# Best model confirmed p=0 d=1 q=1, our ARIMA class is I(1)....??\n",
    "# model result  - ARIMA(0,1,1)(0,0,0)[0]: AIC=1138.136, Time=0.02 sec"
   ]
  },
  {
   "cell_type": "code",
   "execution_count": null,
   "id": "61c62a00-d4e7-4f9e-8f23-2c9b135f50a6",
   "metadata": {},
   "outputs": [],
   "source": [
    "#Summary of the model\n",
    "arima_model.summary()"
   ]
  },
  {
   "cell_type": "code",
   "execution_count": null,
   "id": "94b9883a-8d78-4f96-a717-0b970b444171",
   "metadata": {},
   "outputs": [],
   "source": [
    "# Forecasting on the test data\n",
    "prediction = pd.DataFrame(arima_model.predict(n_periods = 4),index=test.index)\n",
    "prediction.columns = ['predicted_values']\n",
    "prediction"
   ]
  },
  {
   "cell_type": "code",
   "execution_count": null,
   "id": "f5c0b7f5-dee0-487d-b9bf-89a2410c3292",
   "metadata": {},
   "outputs": [],
   "source": [
    "# Plotting against actual values\n",
    "plt.figure(figsize=(8,5))\n",
    "plt.plot(train,label=\"Training\")\n",
    "plt.plot(test,label=\"Test\")\n",
    "plt.plot(prediction,label=\"Predicted\")\n",
    "plt.legend(loc = 'best')\n",
    "plt.show()"
   ]
  },
  {
   "cell_type": "code",
   "execution_count": null,
   "id": "4cbb44c8-91ed-4d9c-b51c-c58e494e8c38",
   "metadata": {},
   "outputs": [],
   "source": [
    "# Looking at R2 score\n",
    "test['predicted_values'] = prediction\n",
    "r2_score(test['Meat, Swine'], test['predicted_values'])"
   ]
  },
  {
   "cell_type": "markdown",
   "id": "f3bac766-90ba-4cbd-95df-13a4054ca9ba",
   "metadata": {},
   "source": [
    "# Questioning distance from zero. It is negative........."
   ]
  },
  {
   "cell_type": "code",
   "execution_count": 38,
   "id": "c0248dc0-dd7d-4804-a23a-8188f29b8232",
   "metadata": {},
   "outputs": [
    {
     "data": {
      "image/png": "[encoded data removed]",
      "text/plain": [
       "<Figure size 648x504 with 4 Axes>"
      ]
     },
     "metadata": {
      "needs_background": "light"
     },
     "output_type": "display_data"
    }
   ],
   "source": [
    "# Interpreting residual plots\n",
    "arima_model.plot_diagnostics(figsize=(9,7))\n",
    "plt.show()"
   ]
  },
  {
   "cell_type": "code",
   "execution_count": null,
   "id": "c396b3a4-c458-4ffd-bb0e-10723b7501af",
   "metadata": {},
   "outputs": [],
   "source": []
  }
 ],
 "metadata": {
  "kernelspec": {
   "display_name": "Python 3 (ipykernel)",
   "language": "python",
   "name": "python3"
  },
  "language_info": {
   "codemirror_mode": {
    "name": "ipython",
    "version": 3
   },
   "file_extension": ".py",
   "mimetype": "text/x-python",
   "name": "python",
   "nbconvert_exporter": "python",
   "pygments_lexer": "ipython3",
   "version": "3.9.7"
  }
 },
 "nbformat": 4,
 "nbformat_minor": 5
}
