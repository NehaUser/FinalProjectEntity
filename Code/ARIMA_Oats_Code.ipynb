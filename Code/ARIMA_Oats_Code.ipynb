{
 "cells": [
  {
   "cell_type": "markdown",
   "id": "ee22acf7",
   "metadata": {},
   "source": [
    "### ARIMA Forecasting on Oats Production till 2025, and Honey Production Prediction for 2023\n"
   ]
  },
  {
   "cell_type": "code",
   "execution_count": 1,
   "id": "717d1bbe-5d16-4c70-9ffa-9c399c3c032c",
   "metadata": {
    "tags": []
   },
   "outputs": [],
   "source": [
    "# Load Libraries\n",
    "\n",
    "import pandas as pd\n",
    "import numpy as np\n",
    "import pmdarima as pm\n",
    "from pmdarima.arima import auto_arima\n",
    "from pmdarima.arima import ADFTest\n",
    "import matplotlib.pyplot as plt\n",
    "from matplotlib import pyplot\n",
    "from math import sqrt\n",
    "from numpy import split\n",
    "from numpy import array\n",
    "import statsmodels\n",
    "from statsmodels.tsa.arima.model import ARIMA\n",
    "from statsmodels.tsa.seasonal import seasonal_decompose\n",
    "from statsmodels.tsa.stattools import adfuller\n",
    "from statsmodels.graphics.tsaplots import plot_acf, plot_pacf\n",
    "from sklearn.metrics import mean_squared_error\n",
    "from sklearn.metrics import r2_score\n",
    "from sympy.solvers import solve\n",
    "from sympy import Symbol\n",
    "from pandas import DataFrame\n",
    "from scipy.stats import boxcox\n",
    "from pandas.plotting import autocorrelation_plot"
   ]
  },
  {
   "cell_type": "code",
   "execution_count": 2,
   "id": "b72e2176-d2d4-4c41-894b-9a3cdc5335f5",
   "metadata": {
    "tags": []
   },
   "outputs": [
    {
     "data": {
      "text/html": [
       "<div>\n",
       "<style scoped>\n",
       "    .dataframe tbody tr th:only-of-type {\n",
       "        vertical-align: middle;\n",
       "    }\n",
       "\n",
       "    .dataframe tbody tr th {\n",
       "        vertical-align: top;\n",
       "    }\n",
       "\n",
       "    .dataframe thead th {\n",
       "        text-align: right;\n",
       "    }\n",
       "</style>\n",
       "<table border=\"1\" class=\"dataframe\">\n",
       "  <thead>\n",
       "    <tr style=\"text-align: right;\">\n",
       "      <th></th>\n",
       "      <th>Year</th>\n",
       "      <th>OatsProd</th>\n",
       "    </tr>\n",
       "  </thead>\n",
       "  <tbody>\n",
       "    <tr>\n",
       "      <th>0</th>\n",
       "      <td>1998</td>\n",
       "      <td>247882000</td>\n",
       "    </tr>\n",
       "    <tr>\n",
       "      <th>1</th>\n",
       "      <td>1999</td>\n",
       "      <td>239549000</td>\n",
       "    </tr>\n",
       "    <tr>\n",
       "      <th>2</th>\n",
       "      <td>2000</td>\n",
       "      <td>251854000</td>\n",
       "    </tr>\n",
       "    <tr>\n",
       "      <th>3</th>\n",
       "      <td>2001</td>\n",
       "      <td>241377000</td>\n",
       "    </tr>\n",
       "    <tr>\n",
       "      <th>4</th>\n",
       "      <td>2002</td>\n",
       "      <td>227767000</td>\n",
       "    </tr>\n",
       "    <tr>\n",
       "      <th>5</th>\n",
       "      <td>2003</td>\n",
       "      <td>256278000</td>\n",
       "    </tr>\n",
       "    <tr>\n",
       "      <th>6</th>\n",
       "      <td>2004</td>\n",
       "      <td>299914000</td>\n",
       "    </tr>\n",
       "    <tr>\n",
       "      <th>7</th>\n",
       "      <td>2005</td>\n",
       "      <td>282260000</td>\n",
       "    </tr>\n",
       "    <tr>\n",
       "      <th>8</th>\n",
       "      <td>2006</td>\n",
       "      <td>278797000</td>\n",
       "    </tr>\n",
       "    <tr>\n",
       "      <th>9</th>\n",
       "      <td>2007</td>\n",
       "      <td>340200000</td>\n",
       "    </tr>\n",
       "    <tr>\n",
       "      <th>10</th>\n",
       "      <td>2008</td>\n",
       "      <td>4880952000</td>\n",
       "    </tr>\n",
       "    <tr>\n",
       "      <th>11</th>\n",
       "      <td>2009</td>\n",
       "      <td>5746060000</td>\n",
       "    </tr>\n",
       "    <tr>\n",
       "      <th>12</th>\n",
       "      <td>2010</td>\n",
       "      <td>4738501000</td>\n",
       "    </tr>\n",
       "    <tr>\n",
       "      <th>13</th>\n",
       "      <td>2011</td>\n",
       "      <td>333011000</td>\n",
       "    </tr>\n",
       "    <tr>\n",
       "      <th>14</th>\n",
       "      <td>2012</td>\n",
       "      <td>333011000</td>\n",
       "    </tr>\n",
       "    <tr>\n",
       "      <th>15</th>\n",
       "      <td>2013</td>\n",
       "      <td>456300000</td>\n",
       "    </tr>\n",
       "    <tr>\n",
       "      <th>16</th>\n",
       "      <td>2014</td>\n",
       "      <td>639565000</td>\n",
       "    </tr>\n",
       "    <tr>\n",
       "      <th>17</th>\n",
       "      <td>2015</td>\n",
       "      <td>743891000</td>\n",
       "    </tr>\n",
       "    <tr>\n",
       "      <th>18</th>\n",
       "      <td>2016</td>\n",
       "      <td>4175319000</td>\n",
       "    </tr>\n",
       "    <tr>\n",
       "      <th>19</th>\n",
       "      <td>2017</td>\n",
       "      <td>4231474000</td>\n",
       "    </tr>\n",
       "    <tr>\n",
       "      <th>20</th>\n",
       "      <td>2018</td>\n",
       "      <td>4231474000</td>\n",
       "    </tr>\n",
       "    <tr>\n",
       "      <th>21</th>\n",
       "      <td>2019</td>\n",
       "      <td>920793000</td>\n",
       "    </tr>\n",
       "    <tr>\n",
       "      <th>22</th>\n",
       "      <td>2020</td>\n",
       "      <td>848220000</td>\n",
       "    </tr>\n",
       "    <tr>\n",
       "      <th>23</th>\n",
       "      <td>2021</td>\n",
       "      <td>4653000000</td>\n",
       "    </tr>\n",
       "  </tbody>\n",
       "</table>\n",
       "</div>"
      ],
      "text/plain": [
       "    Year    OatsProd\n",
       "0   1998   247882000\n",
       "1   1999   239549000\n",
       "2   2000   251854000\n",
       "3   2001   241377000\n",
       "4   2002   227767000\n",
       "5   2003   256278000\n",
       "6   2004   299914000\n",
       "7   2005   282260000\n",
       "8   2006   278797000\n",
       "9   2007   340200000\n",
       "10  2008  4880952000\n",
       "11  2009  5746060000\n",
       "12  2010  4738501000\n",
       "13  2011   333011000\n",
       "14  2012   333011000\n",
       "15  2013   456300000\n",
       "16  2014   639565000\n",
       "17  2015   743891000\n",
       "18  2016  4175319000\n",
       "19  2017  4231474000\n",
       "20  2018  4231474000\n",
       "21  2019   920793000\n",
       "22  2020   848220000\n",
       "23  2021  4653000000"
      ]
     },
     "execution_count": 2,
     "metadata": {},
     "output_type": "execute_result"
    }
   ],
   "source": [
    "# Importing dataframe\n",
    "\n",
    "Oats_Prod = pd.read_csv('../Data/OatsArima.csv')\n",
    "\n",
    "Oats_Prod"
   ]
  },
  {
   "cell_type": "code",
   "execution_count": 3,
   "id": "6738a84f-f895-479e-a897-2df2342b8712",
   "metadata": {
    "jupyter": {
     "outputs_hidden": true
    },
    "tags": []
   },
   "outputs": [
    {
     "data": {
      "text/html": [
       "<div>\n",
       "<style scoped>\n",
       "    .dataframe tbody tr th:only-of-type {\n",
       "        vertical-align: middle;\n",
       "    }\n",
       "\n",
       "    .dataframe tbody tr th {\n",
       "        vertical-align: top;\n",
       "    }\n",
       "\n",
       "    .dataframe thead th {\n",
       "        text-align: right;\n",
       "    }\n",
       "</style>\n",
       "<table border=\"1\" class=\"dataframe\">\n",
       "  <thead>\n",
       "    <tr style=\"text-align: right;\">\n",
       "      <th></th>\n",
       "      <th>Year</th>\n",
       "      <th>OatsProd</th>\n",
       "    </tr>\n",
       "  </thead>\n",
       "  <tbody>\n",
       "    <tr>\n",
       "      <th>0</th>\n",
       "      <td>1998-01-01</td>\n",
       "      <td>247882000</td>\n",
       "    </tr>\n",
       "    <tr>\n",
       "      <th>1</th>\n",
       "      <td>1999-01-01</td>\n",
       "      <td>239549000</td>\n",
       "    </tr>\n",
       "    <tr>\n",
       "      <th>2</th>\n",
       "      <td>2000-01-01</td>\n",
       "      <td>251854000</td>\n",
       "    </tr>\n",
       "    <tr>\n",
       "      <th>3</th>\n",
       "      <td>2001-01-01</td>\n",
       "      <td>241377000</td>\n",
       "    </tr>\n",
       "    <tr>\n",
       "      <th>4</th>\n",
       "      <td>2002-01-01</td>\n",
       "      <td>227767000</td>\n",
       "    </tr>\n",
       "    <tr>\n",
       "      <th>5</th>\n",
       "      <td>2003-01-01</td>\n",
       "      <td>256278000</td>\n",
       "    </tr>\n",
       "    <tr>\n",
       "      <th>6</th>\n",
       "      <td>2004-01-01</td>\n",
       "      <td>299914000</td>\n",
       "    </tr>\n",
       "    <tr>\n",
       "      <th>7</th>\n",
       "      <td>2005-01-01</td>\n",
       "      <td>282260000</td>\n",
       "    </tr>\n",
       "    <tr>\n",
       "      <th>8</th>\n",
       "      <td>2006-01-01</td>\n",
       "      <td>278797000</td>\n",
       "    </tr>\n",
       "    <tr>\n",
       "      <th>9</th>\n",
       "      <td>2007-01-01</td>\n",
       "      <td>340200000</td>\n",
       "    </tr>\n",
       "    <tr>\n",
       "      <th>10</th>\n",
       "      <td>2008-01-01</td>\n",
       "      <td>4880952000</td>\n",
       "    </tr>\n",
       "    <tr>\n",
       "      <th>11</th>\n",
       "      <td>2009-01-01</td>\n",
       "      <td>5746060000</td>\n",
       "    </tr>\n",
       "    <tr>\n",
       "      <th>12</th>\n",
       "      <td>2010-01-01</td>\n",
       "      <td>4738501000</td>\n",
       "    </tr>\n",
       "    <tr>\n",
       "      <th>13</th>\n",
       "      <td>2011-01-01</td>\n",
       "      <td>333011000</td>\n",
       "    </tr>\n",
       "    <tr>\n",
       "      <th>14</th>\n",
       "      <td>2012-01-01</td>\n",
       "      <td>333011000</td>\n",
       "    </tr>\n",
       "    <tr>\n",
       "      <th>15</th>\n",
       "      <td>2013-01-01</td>\n",
       "      <td>456300000</td>\n",
       "    </tr>\n",
       "    <tr>\n",
       "      <th>16</th>\n",
       "      <td>2014-01-01</td>\n",
       "      <td>639565000</td>\n",
       "    </tr>\n",
       "    <tr>\n",
       "      <th>17</th>\n",
       "      <td>2015-01-01</td>\n",
       "      <td>743891000</td>\n",
       "    </tr>\n",
       "    <tr>\n",
       "      <th>18</th>\n",
       "      <td>2016-01-01</td>\n",
       "      <td>4175319000</td>\n",
       "    </tr>\n",
       "    <tr>\n",
       "      <th>19</th>\n",
       "      <td>2017-01-01</td>\n",
       "      <td>4231474000</td>\n",
       "    </tr>\n",
       "    <tr>\n",
       "      <th>20</th>\n",
       "      <td>2018-01-01</td>\n",
       "      <td>4231474000</td>\n",
       "    </tr>\n",
       "    <tr>\n",
       "      <th>21</th>\n",
       "      <td>2019-01-01</td>\n",
       "      <td>920793000</td>\n",
       "    </tr>\n",
       "    <tr>\n",
       "      <th>22</th>\n",
       "      <td>2020-01-01</td>\n",
       "      <td>848220000</td>\n",
       "    </tr>\n",
       "    <tr>\n",
       "      <th>23</th>\n",
       "      <td>2021-01-01</td>\n",
       "      <td>4653000000</td>\n",
       "    </tr>\n",
       "  </tbody>\n",
       "</table>\n",
       "</div>"
      ],
      "text/plain": [
       "         Year    OatsProd\n",
       "0  1998-01-01   247882000\n",
       "1  1999-01-01   239549000\n",
       "2  2000-01-01   251854000\n",
       "3  2001-01-01   241377000\n",
       "4  2002-01-01   227767000\n",
       "5  2003-01-01   256278000\n",
       "6  2004-01-01   299914000\n",
       "7  2005-01-01   282260000\n",
       "8  2006-01-01   278797000\n",
       "9  2007-01-01   340200000\n",
       "10 2008-01-01  4880952000\n",
       "11 2009-01-01  5746060000\n",
       "12 2010-01-01  4738501000\n",
       "13 2011-01-01   333011000\n",
       "14 2012-01-01   333011000\n",
       "15 2013-01-01   456300000\n",
       "16 2014-01-01   639565000\n",
       "17 2015-01-01   743891000\n",
       "18 2016-01-01  4175319000\n",
       "19 2017-01-01  4231474000\n",
       "20 2018-01-01  4231474000\n",
       "21 2019-01-01   920793000\n",
       "22 2020-01-01   848220000\n",
       "23 2021-01-01  4653000000"
      ]
     },
     "execution_count": 3,
     "metadata": {},
     "output_type": "execute_result"
    }
   ],
   "source": [
    "# Formatting Year to date datatype \n",
    "\n",
    "Oats_Prod['Year'] = pd.to_datetime(Oats_Prod['Year'], format='%Y')\n",
    "Oats_Prod"
   ]
  },
  {
   "cell_type": "code",
   "execution_count": 4,
   "id": "308f1ee1-9454-4758-8375-6e1d41aa1a32",
   "metadata": {
    "jupyter": {
     "outputs_hidden": true
    },
    "tags": []
   },
   "outputs": [],
   "source": [
    "## Setting Year as index\n",
    "\n",
    "Oats_Prod.set_index('Year', inplace=True)\n"
   ]
  },
  {
   "cell_type": "code",
   "execution_count": 6,
   "id": "fc2df5d3",
   "metadata": {},
   "outputs": [],
   "source": [
    "# Power Transforms\n",
    "\n",
    "# Box-Cox Transform\n",
    "\n",
    "# It can be thought of as a power tool to iron out power-based change in your time series. \n",
    "# The resulting series may be more linear and the resulting distribution more Gaussian or Uniform, \n",
    "# depending on the underlying process that generated it. The scipy.stats library provides an implementation \n",
    "# of the Box-Cox transform. The boxcox() function3 takes an argument, called lambda, \n",
    "# that controls the type of transform to perform.\n",
    "# Below are some common values for lambda:\n",
    "# 􏰀 lambda = -1. is a reciprocal transform.\n",
    "# 􏰀 lambda = -0.5 is a reciprocal square root transform.\n",
    "# 􏰀 lambda = 0.0 is a log transform.\n",
    "# 􏰀 lambda = 0.5 is a square root transform.\n",
    "# 􏰀 lambda = 1.0 is no transform.\n",
    "\n",
    "#  We can set the lambda parameter to None (the default) and let the function find a statistically tuned value.\n",
    "# The following example demonstrates this usage, returning both the transformed dataset and the \n",
    "# chosen lambda value."
   ]
  },
  {
   "cell_type": "code",
   "execution_count": 5,
   "id": "31456ecc",
   "metadata": {},
   "outputs": [
    {
     "name": "stdout",
     "output_type": "stream",
     "text": [
      "Lambda: -0.507938\n"
     ]
    }
   ],
   "source": [
    "# Box Cox for Oats\n",
    "\n",
    "X = Oats_Prod.values\n",
    "\n",
    "dataframeB = DataFrame(X)\n",
    "dataframeB.columns = ['OatsProd']\n",
    "dataframeB['OatsProd'], lam = boxcox(dataframeB['OatsProd'])\n",
    "print('Lambda: %f' % lam)"
   ]
  },
  {
   "cell_type": "code",
   "execution_count": 6,
   "id": "28fa2b62",
   "metadata": {},
   "outputs": [],
   "source": [
    "# Running the example discovers the lambda value of -.51. \n",
    "# We can see that this is very close to a lambda value of -0.5; So we need reciprocal square root transform ideally."
   ]
  },
  {
   "cell_type": "code",
   "execution_count": 7,
   "id": "bec22d63-aec8-42b7-ae53-b36877b3072b",
   "metadata": {
    "tags": []
   },
   "outputs": [
    {
     "data": {
      "image/png": "[encoded data removed]",
      "text/plain": [
       "<Figure size 432x288 with 1 Axes>"
      ]
     },
     "metadata": {
      "needs_background": "light"
     },
     "output_type": "display_data"
    }
   ],
   "source": [
    "# Line Plot\n",
    "\n",
    "Oats_Prod.plot()\n",
    "pyplot.show()"
   ]
  },
  {
   "cell_type": "code",
   "execution_count": 8,
   "id": "9c165c79",
   "metadata": {},
   "outputs": [
    {
     "data": {
      "text/plain": [
       "{'adf': -1.029223488392125,\n",
       " 'pvalue': 0.7424570685124525,\n",
       " 'usedlag': 5,\n",
       " 'nobs': 18,\n",
       " 'criticalvalues': {'1%': -3.859073285322359,\n",
       "  '5%': -3.0420456927297668,\n",
       "  '10%': -2.6609064197530863},\n",
       " 'icbest': 636.2171410465583}"
      ]
     },
     "execution_count": 8,
     "metadata": {},
     "output_type": "execute_result"
    }
   ],
   "source": [
    "# Stationary Time Series and Forecasting\n",
    "\n",
    "# If we fit a stationary model to data, we assume our data are a realization of a stationary process. \n",
    "# So our first step in an analysis should be to check whether there is any evidence of a trend or seasonal \n",
    "# effects and, if there is, remove them.\n",
    "\n",
    "# The null hypothesis of the ADF test is that the time series is non-stationary. \n",
    "# So, if the p-value of the test is less than the significance level (0.05) then you reject \n",
    "# the null hypothesis and infer that the time series is indeed stationary.\n",
    "\n",
    "# Augmented Dickey-Fuller test Oats\n",
    "\n",
    "X = Oats_Prod.values\n",
    "\n",
    "### ---- \n",
    "result = adfuller(X)\n",
    "\n",
    "dict(zip(['adf', 'pvalue', 'usedlag', 'nobs', 'critical' 'values', 'icbest'],result))"
   ]
  },
  {
   "cell_type": "code",
   "execution_count": 9,
   "id": "2847330f",
   "metadata": {},
   "outputs": [],
   "source": [
    "# As part of the output, we get a look-up table to help determine the ADF statistic. \n",
    "# We can see that our statistic value of -1.03 is larger than the critical values.\n",
    "# Meaning that we fail to reject the null hypothesis and in turn that the time series is non-stationary."
   ]
  },
  {
   "cell_type": "code",
   "execution_count": 10,
   "id": "fe97cf24",
   "metadata": {},
   "outputs": [
    {
     "data": {
      "image/png": "[encoded data removed]",
      "text/plain": [
       "<Figure size 432x288 with 1 Axes>"
      ]
     },
     "metadata": {
      "needs_background": "light"
     },
     "output_type": "display_data"
    }
   ],
   "source": [
    "# create an autocorrelation plot Oats\n",
    "\n",
    "autocorrelation_plot(X)\n",
    "pyplot.show()"
   ]
  },
  {
   "cell_type": "code",
   "execution_count": 11,
   "id": "59a734c6",
   "metadata": {},
   "outputs": [],
   "source": [
    "# Model Evaluation\n",
    "# Train-Test Split\n",
    "\n",
    "# Depending on the amount of data we have available and the amount of data required, \n",
    "# we can use splits of 50-50, 70-30 and 90-10. It is straightforward to split data in Python."
   ]
  },
  {
   "cell_type": "code",
   "execution_count": 12,
   "id": "4476270d",
   "metadata": {},
   "outputs": [],
   "source": [
    "# Train-Test Split for Oats, 85-15(24 - 4 years)\n",
    "\n",
    "train = Oats_Prod[:20]\n",
    "test = Oats_Prod[-4:]\n"
   ]
  },
  {
   "cell_type": "code",
   "execution_count": 13,
   "id": "938632cd",
   "metadata": {},
   "outputs": [
    {
     "data": {
      "text/plain": [
       "[<matplotlib.lines.Line2D at 0x28142aa90>,\n",
       " <matplotlib.lines.Line2D at 0x28145b580>]"
      ]
     },
     "execution_count": 13,
     "metadata": {},
     "output_type": "execute_result"
    },
    {
     "data": {
      "image/png": "[encoded data removed]",
      "text/plain": [
       "<Figure size 432x288 with 1 Axes>"
      ]
     },
     "metadata": {
      "needs_background": "light"
     },
     "output_type": "display_data"
    }
   ],
   "source": [
    "# Plot the Training and Testing data\n",
    "\n",
    "pyplot.plot(train) + pyplot.plot(test)"
   ]
  },
  {
   "cell_type": "code",
   "execution_count": 14,
   "id": "457d4e18-7801-4446-b434-68206685dd72",
   "metadata": {},
   "outputs": [
    {
     "data": {
      "text/plain": [
       "ARIMA(order=(2, 0, 0), scoring_args={}, suppress_warnings=True)"
      ]
     },
     "execution_count": 14,
     "metadata": {},
     "output_type": "execute_result"
    }
   ],
   "source": [
    "# Get p,d,q values \n",
    "\n",
    "modelOats = pm.auto_arima(Oats_Prod['OatsProd'], seasonal = False)\n",
    "\n",
    "modelOats"
   ]
  },
  {
   "cell_type": "code",
   "execution_count": 15,
   "id": "2695bcc1",
   "metadata": {},
   "outputs": [
    {
     "name": "stdout",
     "output_type": "stream",
     "text": [
      "                               SARIMAX Results                                \n",
      "==============================================================================\n",
      "Dep. Variable:               OatsProd   No. Observations:                   24\n",
      "Model:                 ARIMA(2, 0, 0)   Log Likelihood                -541.783\n",
      "Date:                Tue, 19 Jul 2022   AIC                           1091.565\n",
      "Time:                        20:33:58   BIC                           1096.278\n",
      "Sample:                    01-01-1998   HQIC                          1092.816\n",
      "                         - 01-01-2021                                         \n",
      "Covariance Type:                  opg                                         \n",
      "==============================================================================\n",
      "                 coef    std err          z      P>|z|      [0.025      0.975]\n",
      "------------------------------------------------------------------------------\n",
      "const        1.65e+09   2.32e-11   7.11e+19      0.000    1.65e+09    1.65e+09\n",
      "ar.L1          0.7967      0.367      2.173      0.030       0.078       1.515\n",
      "ar.L2         -0.3952      0.336     -1.175      0.240      -1.054       0.264\n",
      "sigma2      2.439e+18   1.88e-20    1.3e+38      0.000    2.44e+18    2.44e+18\n",
      "===================================================================================\n",
      "Ljung-Box (L1) (Q):                   0.02   Jarque-Bera (JB):                 4.42\n",
      "Prob(Q):                              0.89   Prob(JB):                         0.11\n",
      "Heteroskedasticity (H):               4.67   Skew:                             1.04\n",
      "Prob(H) (two-sided):                  0.04   Kurtosis:                         3.23\n",
      "===================================================================================\n",
      "\n",
      "Warnings:\n",
      "[1] Covariance matrix calculated using the outer product of gradients (complex-step).\n",
      "[2] Covariance matrix is singular or near-singular, with condition number 2.76e+53. Standard errors may be unstable.\n"
     ]
    },
    {
     "name": "stderr",
     "output_type": "stream",
     "text": [
      "/opt/homebrew/lib/python3.9/site-packages/statsmodels/tsa/base/tsa_model.py:471: ValueWarning: No frequency information was provided, so inferred frequency AS-JAN will be used.\n",
      "  self._init_dates(dates, freq)\n",
      "/opt/homebrew/lib/python3.9/site-packages/statsmodels/tsa/base/tsa_model.py:471: ValueWarning: No frequency information was provided, so inferred frequency AS-JAN will be used.\n",
      "  self._init_dates(dates, freq)\n",
      "/opt/homebrew/lib/python3.9/site-packages/statsmodels/tsa/base/tsa_model.py:471: ValueWarning: No frequency information was provided, so inferred frequency AS-JAN will be used.\n",
      "  self._init_dates(dates, freq)\n"
     ]
    }
   ],
   "source": [
    "# 2,0,0 ARIMA Model\n",
    "\n",
    "model1 = ARIMA(Oats_Prod['OatsProd'], order=(2,0,0))\n",
    "\n",
    "model_fit = model1.fit()\n",
    "\n",
    "print(model_fit.summary())"
   ]
  },
  {
   "cell_type": "code",
   "execution_count": 19,
   "id": "290f5957",
   "metadata": {},
   "outputs": [],
   "source": [
    "# Since the pvalue < .05 for ar.L1; and pvalue > .05 for ar.L2 we can try 1,0,0 fit model."
   ]
  },
  {
   "cell_type": "code",
   "execution_count": 16,
   "id": "e52e26fb",
   "metadata": {},
   "outputs": [
    {
     "name": "stdout",
     "output_type": "stream",
     "text": [
      "                               SARIMAX Results                                \n",
      "==============================================================================\n",
      "Dep. Variable:               OatsProd   No. Observations:                   24\n",
      "Model:                 ARIMA(1, 0, 0)   Log Likelihood                -543.542\n",
      "Date:                Tue, 19 Jul 2022   AIC                           1093.084\n",
      "Time:                        20:34:50   BIC                           1096.618\n",
      "Sample:                    01-01-1998   HQIC                          1094.021\n",
      "                         - 01-01-2021                                         \n",
      "Covariance Type:                  opg                                         \n",
      "==============================================================================\n",
      "                 coef    std err          z      P>|z|      [0.025      0.975]\n",
      "------------------------------------------------------------------------------\n",
      "const        1.65e+09   7.75e-12   2.13e+20      0.000    1.65e+09    1.65e+09\n",
      "ar.L1          0.5553      0.173      3.204      0.001       0.216       0.895\n",
      "sigma2      2.763e+18   2.47e-20   1.12e+38      0.000    2.76e+18    2.76e+18\n",
      "===================================================================================\n",
      "Ljung-Box (L1) (Q):                   1.14   Jarque-Bera (JB):                 2.92\n",
      "Prob(Q):                              0.28   Prob(JB):                         0.23\n",
      "Heteroskedasticity (H):               7.17   Skew:                             0.84\n",
      "Prob(H) (two-sided):                  0.01   Kurtosis:                         3.33\n",
      "===================================================================================\n",
      "\n",
      "Warnings:\n",
      "[1] Covariance matrix calculated using the outer product of gradients (complex-step).\n",
      "[2] Covariance matrix is singular or near-singular, with condition number 4.59e+53. Standard errors may be unstable.\n"
     ]
    },
    {
     "name": "stderr",
     "output_type": "stream",
     "text": [
      "/opt/homebrew/lib/python3.9/site-packages/statsmodels/tsa/base/tsa_model.py:471: ValueWarning: No frequency information was provided, so inferred frequency AS-JAN will be used.\n",
      "  self._init_dates(dates, freq)\n",
      "/opt/homebrew/lib/python3.9/site-packages/statsmodels/tsa/base/tsa_model.py:471: ValueWarning: No frequency information was provided, so inferred frequency AS-JAN will be used.\n",
      "  self._init_dates(dates, freq)\n",
      "/opt/homebrew/lib/python3.9/site-packages/statsmodels/tsa/base/tsa_model.py:471: ValueWarning: No frequency information was provided, so inferred frequency AS-JAN will be used.\n",
      "  self._init_dates(dates, freq)\n"
     ]
    }
   ],
   "source": [
    "# 1,0,0 ARIMA Model\n",
    "\n",
    "model1 = ARIMA(Oats_Prod['OatsProd'], order=(1,0,0))\n",
    "\n",
    "model_fit = model1.fit()\n",
    "\n",
    "print(model_fit.summary())"
   ]
  },
  {
   "cell_type": "code",
   "execution_count": 17,
   "id": "304506dc",
   "metadata": {},
   "outputs": [],
   "source": [
    "# Since the pvalue < .05 for ar.L1 now ; we can say 1,0,0 is a good fit model."
   ]
  },
  {
   "cell_type": "code",
   "execution_count": 18,
   "id": "b104cebc",
   "metadata": {},
   "outputs": [
    {
     "name": "stdout",
     "output_type": "stream",
     "text": [
      "Performing stepwise search to minimize aic\n",
      " ARIMA(1,0,0)(0,0,0)[0]             : AIC=909.195, Time=0.01 sec\n",
      " ARIMA(0,0,0)(0,0,0)[0]             : AIC=922.974, Time=0.00 sec\n",
      " ARIMA(0,0,1)(0,0,0)[0]             : AIC=913.971, Time=0.01 sec\n",
      " ARIMA(2,0,0)(0,0,0)[0]             : AIC=909.157, Time=0.01 sec\n",
      " ARIMA(3,0,0)(0,0,0)[0]             : AIC=911.240, Time=0.01 sec\n",
      " ARIMA(2,0,1)(0,0,0)[0]             : AIC=911.475, Time=0.01 sec\n",
      " ARIMA(1,0,1)(0,0,0)[0]             : AIC=909.893, Time=0.01 sec\n",
      " ARIMA(3,0,1)(0,0,0)[0]             : AIC=912.457, Time=0.02 sec\n",
      " ARIMA(2,0,0)(0,0,0)[0] intercept   : AIC=906.953, Time=0.01 sec\n",
      " ARIMA(1,0,0)(0,0,0)[0] intercept   : AIC=908.951, Time=0.00 sec\n",
      " ARIMA(3,0,0)(0,0,0)[0] intercept   : AIC=908.689, Time=0.01 sec\n",
      " ARIMA(2,0,1)(0,0,0)[0] intercept   : AIC=909.375, Time=0.01 sec\n",
      " ARIMA(1,0,1)(0,0,0)[0] intercept   : AIC=908.972, Time=0.01 sec\n",
      " ARIMA(3,0,1)(0,0,0)[0] intercept   : AIC=909.666, Time=0.02 sec\n",
      "\n",
      "Best model:  ARIMA(2,0,0)(0,0,0)[0] intercept\n",
      "Total fit time: 0.126 seconds\n"
     ]
    },
    {
     "name": "stderr",
     "output_type": "stream",
     "text": [
      "/opt/homebrew/lib/python3.9/site-packages/pmdarima/arima/_validation.py:62: UserWarning: m (12) set for non-seasonal fit. Setting to 0\n",
      "  warnings.warn(\"m (%i) set for non-seasonal fit. Setting to 0\" % m)\n"
     ]
    }
   ],
   "source": [
    "# Manually Build Auto ARIMA model \n",
    "\n",
    "# 1,0,0 ARIMA Model\n",
    "\n",
    "\n",
    "Arima_Model =  auto_arima(train,start_p=1, d=0, start_q=0, \n",
    "                          max_p=5, max_d=5, max_q=5, start_P=1, \n",
    "                          D=0, start_Q = 0, max_P=5, max_D=5,\n",
    "                          max_Q=5, m = 12, seasonal = False, \n",
    "                          error_action='warn',trace = True,\n",
    "                          supress_warnings=True,stepwise = True,\n",
    "                          random_state=20,n_fits = 50 )\n"
   ]
  },
  {
   "cell_type": "code",
   "execution_count": 19,
   "id": "4e295ea9",
   "metadata": {},
   "outputs": [
    {
     "name": "stdout",
     "output_type": "stream",
     "text": [
      "Performing stepwise search to minimize aic\n",
      " ARIMA(2,0,0)(0,0,0)[0]             : AIC=909.157, Time=0.02 sec\n",
      " ARIMA(0,0,0)(0,0,0)[0]             : AIC=922.974, Time=0.00 sec\n",
      " ARIMA(1,0,0)(0,0,0)[0]             : AIC=909.195, Time=0.00 sec\n",
      " ARIMA(0,0,1)(0,0,0)[0]             : AIC=913.971, Time=0.00 sec\n",
      " ARIMA(3,0,0)(0,0,0)[0]             : AIC=911.240, Time=0.01 sec\n",
      " ARIMA(2,0,1)(0,0,0)[0]             : AIC=911.475, Time=0.01 sec\n",
      " ARIMA(1,0,1)(0,0,0)[0]             : AIC=909.893, Time=0.00 sec\n",
      " ARIMA(3,0,1)(0,0,0)[0]             : AIC=912.457, Time=0.02 sec\n",
      " ARIMA(2,0,0)(0,0,0)[0] intercept   : AIC=906.953, Time=0.01 sec\n",
      " ARIMA(1,0,0)(0,0,0)[0] intercept   : AIC=908.951, Time=0.00 sec\n",
      " ARIMA(3,0,0)(0,0,0)[0] intercept   : AIC=908.689, Time=0.01 sec\n",
      " ARIMA(2,0,1)(0,0,0)[0] intercept   : AIC=909.375, Time=0.01 sec\n",
      " ARIMA(1,0,1)(0,0,0)[0] intercept   : AIC=908.972, Time=0.01 sec\n",
      " ARIMA(3,0,1)(0,0,0)[0] intercept   : AIC=909.666, Time=0.02 sec\n",
      "\n",
      "Best model:  ARIMA(2,0,0)(0,0,0)[0] intercept\n",
      "Total fit time: 0.125 seconds\n"
     ]
    },
    {
     "name": "stderr",
     "output_type": "stream",
     "text": [
      "/opt/homebrew/lib/python3.9/site-packages/pmdarima/arima/_validation.py:62: UserWarning: m (12) set for non-seasonal fit. Setting to 0\n",
      "  warnings.warn(\"m (%i) set for non-seasonal fit. Setting to 0\" % m)\n"
     ]
    }
   ],
   "source": [
    "# Since it gave Best model as ARIMA(2,0,0), let's keep it and try to run ARIMA model again\n",
    "\n",
    "\n",
    "# 2,0,0 ARIMA Model\n",
    "\n",
    "\n",
    "Arima_Model =  auto_arima(train,start_p=2, d=0, start_q=0, \n",
    "                          max_p=5, max_d=5, max_q=5, start_P=2, \n",
    "                          D=0, start_Q = 0, max_P=5, max_D=5,\n",
    "                          max_Q=5, m = 12, seasonal = False, \n",
    "                          error_action='warn',trace = True,\n",
    "                          supress_warnings=True,stepwise = True,\n",
    "                          random_state=20,n_fits = 50 )\n",
    "\n"
   ]
  },
  {
   "cell_type": "code",
   "execution_count": 20,
   "id": "7e725cd8",
   "metadata": {},
   "outputs": [
    {
     "data": {
      "text/html": [
       "<table class=\"simpletable\">\n",
       "<caption>SARIMAX Results</caption>\n",
       "<tr>\n",
       "  <th>Dep. Variable:</th>           <td>y</td>        <th>  No. Observations:  </th>    <td>20</td>   \n",
       "</tr>\n",
       "<tr>\n",
       "  <th>Model:</th>           <td>SARIMAX(2, 0, 0)</td> <th>  Log Likelihood     </th> <td>-449.476</td>\n",
       "</tr>\n",
       "<tr>\n",
       "  <th>Date:</th>            <td>Tue, 19 Jul 2022</td> <th>  AIC                </th>  <td>906.953</td>\n",
       "</tr>\n",
       "<tr>\n",
       "  <th>Time:</th>                <td>20:39:23</td>     <th>  BIC                </th>  <td>910.936</td>\n",
       "</tr>\n",
       "<tr>\n",
       "  <th>Sample:</th>                  <td>0</td>        <th>  HQIC               </th>  <td>907.730</td>\n",
       "</tr>\n",
       "<tr>\n",
       "  <th></th>                       <td> - 20</td>      <th>                     </th>     <td> </td>   \n",
       "</tr>\n",
       "<tr>\n",
       "  <th>Covariance Type:</th>        <td>opg</td>       <th>                     </th>     <td> </td>   \n",
       "</tr>\n",
       "</table>\n",
       "<table class=\"simpletable\">\n",
       "<tr>\n",
       "      <td></td>         <th>coef</th>     <th>std err</th>      <th>z</th>      <th>P>|z|</th>  <th>[0.025</th>    <th>0.975]</th>  \n",
       "</tr>\n",
       "<tr>\n",
       "  <th>intercept</th> <td> 8.964e+08</td> <td> 4.26e-11</td> <td>  2.1e+19</td> <td> 0.000</td> <td> 8.96e+08</td> <td> 8.96e+08</td>\n",
       "</tr>\n",
       "<tr>\n",
       "  <th>ar.L1</th>     <td>    0.8579</td> <td>    0.315</td> <td>    2.721</td> <td> 0.007</td> <td>    0.240</td> <td>    1.476</td>\n",
       "</tr>\n",
       "<tr>\n",
       "  <th>ar.L2</th>     <td>   -0.4472</td> <td>    0.277</td> <td>   -1.617</td> <td> 0.106</td> <td>   -0.989</td> <td>    0.095</td>\n",
       "</tr>\n",
       "<tr>\n",
       "  <th>sigma2</th>    <td> 1.995e+18</td> <td> 2.47e-20</td> <td> 8.07e+37</td> <td> 0.000</td> <td> 1.99e+18</td> <td> 1.99e+18</td>\n",
       "</tr>\n",
       "</table>\n",
       "<table class=\"simpletable\">\n",
       "<tr>\n",
       "  <th>Ljung-Box (L1) (Q):</th>     <td>0.00</td> <th>  Jarque-Bera (JB):  </th> <td>10.15</td>\n",
       "</tr>\n",
       "<tr>\n",
       "  <th>Prob(Q):</th>                <td>0.97</td> <th>  Prob(JB):          </th> <td>0.01</td> \n",
       "</tr>\n",
       "<tr>\n",
       "  <th>Heteroskedasticity (H):</th> <td>4.00</td> <th>  Skew:              </th> <td>1.51</td> \n",
       "</tr>\n",
       "<tr>\n",
       "  <th>Prob(H) (two-sided):</th>    <td>0.09</td> <th>  Kurtosis:          </th> <td>4.74</td> \n",
       "</tr>\n",
       "</table><br/><br/>Warnings:<br/>[1] Covariance matrix calculated using the outer product of gradients (complex-step).<br/>[2] Covariance matrix is singular or near-singular, with condition number 7.31e+54. Standard errors may be unstable."
      ],
      "text/plain": [
       "<class 'statsmodels.iolib.summary.Summary'>\n",
       "\"\"\"\n",
       "                               SARIMAX Results                                \n",
       "==============================================================================\n",
       "Dep. Variable:                      y   No. Observations:                   20\n",
       "Model:               SARIMAX(2, 0, 0)   Log Likelihood                -449.476\n",
       "Date:                Tue, 19 Jul 2022   AIC                            906.953\n",
       "Time:                        20:39:23   BIC                            910.936\n",
       "Sample:                             0   HQIC                           907.730\n",
       "                                 - 20                                         \n",
       "Covariance Type:                  opg                                         \n",
       "==============================================================================\n",
       "                 coef    std err          z      P>|z|      [0.025      0.975]\n",
       "------------------------------------------------------------------------------\n",
       "intercept   8.964e+08   4.26e-11    2.1e+19      0.000    8.96e+08    8.96e+08\n",
       "ar.L1          0.8579      0.315      2.721      0.007       0.240       1.476\n",
       "ar.L2         -0.4472      0.277     -1.617      0.106      -0.989       0.095\n",
       "sigma2      1.995e+18   2.47e-20   8.07e+37      0.000    1.99e+18    1.99e+18\n",
       "===================================================================================\n",
       "Ljung-Box (L1) (Q):                   0.00   Jarque-Bera (JB):                10.15\n",
       "Prob(Q):                              0.97   Prob(JB):                         0.01\n",
       "Heteroskedasticity (H):               4.00   Skew:                             1.51\n",
       "Prob(H) (two-sided):                  0.09   Kurtosis:                         4.74\n",
       "===================================================================================\n",
       "\n",
       "Warnings:\n",
       "[1] Covariance matrix calculated using the outer product of gradients (complex-step).\n",
       "[2] Covariance matrix is singular or near-singular, with condition number 7.31e+54. Standard errors may be unstable.\n",
       "\"\"\""
      ]
     },
     "execution_count": 20,
     "metadata": {},
     "output_type": "execute_result"
    }
   ],
   "source": [
    "Arima_Model.summary()"
   ]
  },
  {
   "cell_type": "code",
   "execution_count": 21,
   "id": "55d53b06",
   "metadata": {},
   "outputs": [
    {
     "data": {
      "text/html": [
       "<div>\n",
       "<style scoped>\n",
       "    .dataframe tbody tr th:only-of-type {\n",
       "        vertical-align: middle;\n",
       "    }\n",
       "\n",
       "    .dataframe tbody tr th {\n",
       "        vertical-align: top;\n",
       "    }\n",
       "\n",
       "    .dataframe thead th {\n",
       "        text-align: right;\n",
       "    }\n",
       "</style>\n",
       "<table border=\"1\" class=\"dataframe\">\n",
       "  <thead>\n",
       "    <tr style=\"text-align: right;\">\n",
       "      <th></th>\n",
       "      <th>predicted_values</th>\n",
       "    </tr>\n",
       "    <tr>\n",
       "      <th>Year</th>\n",
       "      <th></th>\n",
       "    </tr>\n",
       "  </thead>\n",
       "  <tbody>\n",
       "    <tr>\n",
       "      <th>2018-01-01</th>\n",
       "      <td>2.659579e+09</td>\n",
       "    </tr>\n",
       "    <tr>\n",
       "      <th>2019-01-01</th>\n",
       "      <td>1.285874e+09</td>\n",
       "    </tr>\n",
       "    <tr>\n",
       "      <th>2020-01-01</th>\n",
       "      <td>8.102696e+08</td>\n",
       "    </tr>\n",
       "    <tr>\n",
       "      <th>2021-01-01</th>\n",
       "      <td>1.016550e+09</td>\n",
       "    </tr>\n",
       "  </tbody>\n",
       "</table>\n",
       "</div>"
      ],
      "text/plain": [
       "            predicted_values\n",
       "Year                        \n",
       "2018-01-01      2.659579e+09\n",
       "2019-01-01      1.285874e+09\n",
       "2020-01-01      8.102696e+08\n",
       "2021-01-01      1.016550e+09"
      ]
     },
     "execution_count": 21,
     "metadata": {},
     "output_type": "execute_result"
    }
   ],
   "source": [
    "# Forecasting on the test data\n",
    "\n",
    "Test_Prediction = pd.DataFrame(Arima_Model.predict(n_periods = 4), index = test.index)\n",
    "Test_Prediction.columns = ['predicted_values']\n",
    "Test_Prediction\n"
   ]
  },
  {
   "cell_type": "code",
   "execution_count": 22,
   "id": "623c6fc0",
   "metadata": {},
   "outputs": [
    {
     "data": {
      "image/png": "[encoded data removed]",
      "text/plain": [
       "<Figure size 576x360 with 1 Axes>"
      ]
     },
     "metadata": {
      "needs_background": "light"
     },
     "output_type": "display_data"
    }
   ],
   "source": [
    "# Plotting against actual values\n",
    "\n",
    "plt.figure(figsize=(8,5))\n",
    "plt.plot(train,label=\"Training\")\n",
    "plt.plot(test,label=\"Test\")\n",
    "plt.plot(Test_Prediction,label=\"Predicted\")\n",
    "plt.legend(loc = 'best')\n",
    "plt.show()\n"
   ]
  },
  {
   "cell_type": "code",
   "execution_count": 23,
   "id": "c1e2b0cf",
   "metadata": {},
   "outputs": [
    {
     "name": "stderr",
     "output_type": "stream",
     "text": [
      "/var/folders/w0/t7zkm9d12h11l_wy7wwcclsm0000gn/T/ipykernel_9877/2162138455.py:3: SettingWithCopyWarning: \n",
      "A value is trying to be set on a copy of a slice from a DataFrame.\n",
      "Try using .loc[row_indexer,col_indexer] = value instead\n",
      "\n",
      "See the caveats in the documentation: https://pandas.pydata.org/pandas-docs/stable/user_guide/indexing.html#returning-a-view-versus-a-copy\n",
      "  test['predicted_values'] = Test_Prediction\n"
     ]
    },
    {
     "data": {
      "text/plain": [
       "-0.2416223535683908"
      ]
     },
     "execution_count": 23,
     "metadata": {},
     "output_type": "execute_result"
    }
   ],
   "source": [
    "# Looking at R2 score\n",
    "\n",
    "test['predicted_values'] = Test_Prediction\n",
    "r2_score(test['OatsProd'], test['predicted_values'])\n"
   ]
  },
  {
   "cell_type": "code",
   "execution_count": 24,
   "id": "97a80423",
   "metadata": {},
   "outputs": [],
   "source": [
    "# The R2 score of the model trained here is -0.24 which is bad.\n",
    "# If the value of the r squared score is 1, it means that the model is perfect and if its value is 0,\n",
    "# it means that the model will perform badly on an unseen dataset."
   ]
  },
  {
   "cell_type": "code",
   "execution_count": 25,
   "id": "17b5fd56",
   "metadata": {},
   "outputs": [
    {
     "data": {
      "image/png": "[encoded data removed]",
      "text/plain": [
       "<Figure size 648x504 with 4 Axes>"
      ]
     },
     "metadata": {
      "needs_background": "light"
     },
     "output_type": "display_data"
    }
   ],
   "source": [
    "# Interpreting residual plots\n",
    "\n",
    "Arima_Model.plot_diagnostics(figsize=(9,7))\n",
    "plt.show()"
   ]
  },
  {
   "cell_type": "code",
   "execution_count": 26,
   "id": "a7317e49",
   "metadata": {},
   "outputs": [],
   "source": [
    "# We can see in\n",
    "# 1. Standardized residual Plot on top left corner, the mean is centered at 0, and the variance looks pretty equal.\n",
    "# 2. Histogram and Density Plot on top right, the assumption is normally distributed and so is our actual density line\n",
    "# 3. Sample quartiles on bottom left, the points are lying pretty much on the line except for a few.\n",
    "# 4. In Coreelogram, at bottom right, all the point sfall in 95% confidence limit except for one; which a good sign.\n",
    "# So we can say ARIMA model with p=2,d=0,q=0 is a good model for prediction."
   ]
  },
  {
   "cell_type": "code",
   "execution_count": 27,
   "id": "dbe29c5b",
   "metadata": {},
   "outputs": [
    {
     "name": "stdout",
     "output_type": "stream",
     "text": [
      "   Year predicted_values\n",
      "0  2022              NaN\n",
      "1  2023              NaN\n",
      "2  2024              NaN\n",
      "3  2025              NaN\n"
     ]
    }
   ],
   "source": [
    "# Creating new dataframe for future forecasting\n",
    "\n",
    "Future_Forecast_Data = {'Year':  [2022, 2023, 2024, 2025],\n",
    "        'predicted_values': ['NaN', 'NaN', 'NaN', 'NaN']}\n",
    "\n",
    "Future_Forecast_Data = pd.DataFrame(Future_Forecast_Data)\n",
    "\n",
    "print (Future_Forecast_Data)"
   ]
  },
  {
   "cell_type": "code",
   "execution_count": 28,
   "id": "6987bf98",
   "metadata": {},
   "outputs": [],
   "source": [
    "# Setting Year to date datatype \n",
    "\n",
    "Future_Forecast_Data['Year'] = pd.to_datetime(Future_Forecast_Data['Year'], format='%Y')\n",
    "\n"
   ]
  },
  {
   "cell_type": "code",
   "execution_count": 29,
   "id": "914b1f35",
   "metadata": {},
   "outputs": [],
   "source": [
    "## Setting Year as index\n",
    "Future_Forecast_Data.set_index('Year', inplace=True)"
   ]
  },
  {
   "cell_type": "code",
   "execution_count": 30,
   "id": "b636afcf",
   "metadata": {},
   "outputs": [
    {
     "name": "stderr",
     "output_type": "stream",
     "text": [
      "/var/folders/w0/t7zkm9d12h11l_wy7wwcclsm0000gn/T/ipykernel_9877/4141744911.py:3: FutureWarning: The frame.append method is deprecated and will be removed from pandas in a future version. Use pandas.concat instead.\n",
      "  FuturePredictionDS = Oats_Prod.append(Future_Forecast_Data)\n"
     ]
    },
    {
     "data": {
      "text/html": [
       "<div>\n",
       "<style scoped>\n",
       "    .dataframe tbody tr th:only-of-type {\n",
       "        vertical-align: middle;\n",
       "    }\n",
       "\n",
       "    .dataframe tbody tr th {\n",
       "        vertical-align: top;\n",
       "    }\n",
       "\n",
       "    .dataframe thead th {\n",
       "        text-align: right;\n",
       "    }\n",
       "</style>\n",
       "<table border=\"1\" class=\"dataframe\">\n",
       "  <thead>\n",
       "    <tr style=\"text-align: right;\">\n",
       "      <th></th>\n",
       "      <th>OatsProd</th>\n",
       "      <th>predicted_values</th>\n",
       "    </tr>\n",
       "    <tr>\n",
       "      <th>Year</th>\n",
       "      <th></th>\n",
       "      <th></th>\n",
       "    </tr>\n",
       "  </thead>\n",
       "  <tbody>\n",
       "    <tr>\n",
       "      <th>1998-01-01</th>\n",
       "      <td>2.478820e+08</td>\n",
       "      <td>NaN</td>\n",
       "    </tr>\n",
       "    <tr>\n",
       "      <th>1999-01-01</th>\n",
       "      <td>2.395490e+08</td>\n",
       "      <td>NaN</td>\n",
       "    </tr>\n",
       "    <tr>\n",
       "      <th>2000-01-01</th>\n",
       "      <td>2.518540e+08</td>\n",
       "      <td>NaN</td>\n",
       "    </tr>\n",
       "    <tr>\n",
       "      <th>2001-01-01</th>\n",
       "      <td>2.413770e+08</td>\n",
       "      <td>NaN</td>\n",
       "    </tr>\n",
       "    <tr>\n",
       "      <th>2002-01-01</th>\n",
       "      <td>2.277670e+08</td>\n",
       "      <td>NaN</td>\n",
       "    </tr>\n",
       "    <tr>\n",
       "      <th>2003-01-01</th>\n",
       "      <td>2.562780e+08</td>\n",
       "      <td>NaN</td>\n",
       "    </tr>\n",
       "    <tr>\n",
       "      <th>2004-01-01</th>\n",
       "      <td>2.999140e+08</td>\n",
       "      <td>NaN</td>\n",
       "    </tr>\n",
       "    <tr>\n",
       "      <th>2005-01-01</th>\n",
       "      <td>2.822600e+08</td>\n",
       "      <td>NaN</td>\n",
       "    </tr>\n",
       "    <tr>\n",
       "      <th>2006-01-01</th>\n",
       "      <td>2.787970e+08</td>\n",
       "      <td>NaN</td>\n",
       "    </tr>\n",
       "    <tr>\n",
       "      <th>2007-01-01</th>\n",
       "      <td>3.402000e+08</td>\n",
       "      <td>NaN</td>\n",
       "    </tr>\n",
       "    <tr>\n",
       "      <th>2008-01-01</th>\n",
       "      <td>4.880952e+09</td>\n",
       "      <td>NaN</td>\n",
       "    </tr>\n",
       "    <tr>\n",
       "      <th>2009-01-01</th>\n",
       "      <td>5.746060e+09</td>\n",
       "      <td>NaN</td>\n",
       "    </tr>\n",
       "    <tr>\n",
       "      <th>2010-01-01</th>\n",
       "      <td>4.738501e+09</td>\n",
       "      <td>NaN</td>\n",
       "    </tr>\n",
       "    <tr>\n",
       "      <th>2011-01-01</th>\n",
       "      <td>3.330110e+08</td>\n",
       "      <td>NaN</td>\n",
       "    </tr>\n",
       "    <tr>\n",
       "      <th>2012-01-01</th>\n",
       "      <td>3.330110e+08</td>\n",
       "      <td>NaN</td>\n",
       "    </tr>\n",
       "    <tr>\n",
       "      <th>2013-01-01</th>\n",
       "      <td>4.563000e+08</td>\n",
       "      <td>NaN</td>\n",
       "    </tr>\n",
       "    <tr>\n",
       "      <th>2014-01-01</th>\n",
       "      <td>6.395650e+08</td>\n",
       "      <td>NaN</td>\n",
       "    </tr>\n",
       "    <tr>\n",
       "      <th>2015-01-01</th>\n",
       "      <td>7.438910e+08</td>\n",
       "      <td>NaN</td>\n",
       "    </tr>\n",
       "    <tr>\n",
       "      <th>2016-01-01</th>\n",
       "      <td>4.175319e+09</td>\n",
       "      <td>NaN</td>\n",
       "    </tr>\n",
       "    <tr>\n",
       "      <th>2017-01-01</th>\n",
       "      <td>4.231474e+09</td>\n",
       "      <td>NaN</td>\n",
       "    </tr>\n",
       "    <tr>\n",
       "      <th>2018-01-01</th>\n",
       "      <td>4.231474e+09</td>\n",
       "      <td>NaN</td>\n",
       "    </tr>\n",
       "    <tr>\n",
       "      <th>2019-01-01</th>\n",
       "      <td>9.207930e+08</td>\n",
       "      <td>NaN</td>\n",
       "    </tr>\n",
       "    <tr>\n",
       "      <th>2020-01-01</th>\n",
       "      <td>8.482200e+08</td>\n",
       "      <td>NaN</td>\n",
       "    </tr>\n",
       "    <tr>\n",
       "      <th>2021-01-01</th>\n",
       "      <td>4.653000e+09</td>\n",
       "      <td>NaN</td>\n",
       "    </tr>\n",
       "    <tr>\n",
       "      <th>2022-01-01</th>\n",
       "      <td>NaN</td>\n",
       "      <td>NaN</td>\n",
       "    </tr>\n",
       "    <tr>\n",
       "      <th>2023-01-01</th>\n",
       "      <td>NaN</td>\n",
       "      <td>NaN</td>\n",
       "    </tr>\n",
       "    <tr>\n",
       "      <th>2024-01-01</th>\n",
       "      <td>NaN</td>\n",
       "      <td>NaN</td>\n",
       "    </tr>\n",
       "    <tr>\n",
       "      <th>2025-01-01</th>\n",
       "      <td>NaN</td>\n",
       "      <td>NaN</td>\n",
       "    </tr>\n",
       "  </tbody>\n",
       "</table>\n",
       "</div>"
      ],
      "text/plain": [
       "                OatsProd predicted_values\n",
       "Year                                     \n",
       "1998-01-01  2.478820e+08              NaN\n",
       "1999-01-01  2.395490e+08              NaN\n",
       "2000-01-01  2.518540e+08              NaN\n",
       "2001-01-01  2.413770e+08              NaN\n",
       "2002-01-01  2.277670e+08              NaN\n",
       "2003-01-01  2.562780e+08              NaN\n",
       "2004-01-01  2.999140e+08              NaN\n",
       "2005-01-01  2.822600e+08              NaN\n",
       "2006-01-01  2.787970e+08              NaN\n",
       "2007-01-01  3.402000e+08              NaN\n",
       "2008-01-01  4.880952e+09              NaN\n",
       "2009-01-01  5.746060e+09              NaN\n",
       "2010-01-01  4.738501e+09              NaN\n",
       "2011-01-01  3.330110e+08              NaN\n",
       "2012-01-01  3.330110e+08              NaN\n",
       "2013-01-01  4.563000e+08              NaN\n",
       "2014-01-01  6.395650e+08              NaN\n",
       "2015-01-01  7.438910e+08              NaN\n",
       "2016-01-01  4.175319e+09              NaN\n",
       "2017-01-01  4.231474e+09              NaN\n",
       "2018-01-01  4.231474e+09              NaN\n",
       "2019-01-01  9.207930e+08              NaN\n",
       "2020-01-01  8.482200e+08              NaN\n",
       "2021-01-01  4.653000e+09              NaN\n",
       "2022-01-01           NaN              NaN\n",
       "2023-01-01           NaN              NaN\n",
       "2024-01-01           NaN              NaN\n",
       "2025-01-01           NaN              NaN"
      ]
     },
     "execution_count": 30,
     "metadata": {},
     "output_type": "execute_result"
    }
   ],
   "source": [
    "# Appending Future DF to Oats DF\n",
    "\n",
    "FuturePredictionDS = Oats_Prod.append(Future_Forecast_Data)\n",
    "FuturePredictionDS"
   ]
  },
  {
   "cell_type": "code",
   "execution_count": 31,
   "id": "deba2c4a",
   "metadata": {},
   "outputs": [
    {
     "data": {
      "text/html": [
       "<div>\n",
       "<style scoped>\n",
       "    .dataframe tbody tr th:only-of-type {\n",
       "        vertical-align: middle;\n",
       "    }\n",
       "\n",
       "    .dataframe tbody tr th {\n",
       "        vertical-align: top;\n",
       "    }\n",
       "\n",
       "    .dataframe thead th {\n",
       "        text-align: right;\n",
       "    }\n",
       "</style>\n",
       "<table border=\"1\" class=\"dataframe\">\n",
       "  <thead>\n",
       "    <tr style=\"text-align: right;\">\n",
       "      <th></th>\n",
       "      <th>predicted_values</th>\n",
       "    </tr>\n",
       "    <tr>\n",
       "      <th>Year</th>\n",
       "      <th></th>\n",
       "    </tr>\n",
       "  </thead>\n",
       "  <tbody>\n",
       "    <tr>\n",
       "      <th>1998-01-01</th>\n",
       "      <td>2.659579e+09</td>\n",
       "    </tr>\n",
       "    <tr>\n",
       "      <th>1999-01-01</th>\n",
       "      <td>1.285874e+09</td>\n",
       "    </tr>\n",
       "    <tr>\n",
       "      <th>2000-01-01</th>\n",
       "      <td>8.102696e+08</td>\n",
       "    </tr>\n",
       "    <tr>\n",
       "      <th>2001-01-01</th>\n",
       "      <td>1.016550e+09</td>\n",
       "    </tr>\n",
       "    <tr>\n",
       "      <th>2002-01-01</th>\n",
       "      <td>1.406217e+09</td>\n",
       "    </tr>\n",
       "    <tr>\n",
       "      <th>2003-01-01</th>\n",
       "      <td>1.648279e+09</td>\n",
       "    </tr>\n",
       "    <tr>\n",
       "      <th>2004-01-01</th>\n",
       "      <td>1.681695e+09</td>\n",
       "    </tr>\n",
       "    <tr>\n",
       "      <th>2005-01-01</th>\n",
       "      <td>1.602114e+09</td>\n",
       "    </tr>\n",
       "    <tr>\n",
       "      <th>2006-01-01</th>\n",
       "      <td>1.518894e+09</td>\n",
       "    </tr>\n",
       "    <tr>\n",
       "      <th>2007-01-01</th>\n",
       "      <td>1.483085e+09</td>\n",
       "    </tr>\n",
       "    <tr>\n",
       "      <th>2008-01-01</th>\n",
       "      <td>1.489579e+09</td>\n",
       "    </tr>\n",
       "    <tr>\n",
       "      <th>2009-01-01</th>\n",
       "      <td>1.511165e+09</td>\n",
       "    </tr>\n",
       "    <tr>\n",
       "      <th>2010-01-01</th>\n",
       "      <td>1.526779e+09</td>\n",
       "    </tr>\n",
       "    <tr>\n",
       "      <th>2011-01-01</th>\n",
       "      <td>1.530523e+09</td>\n",
       "    </tr>\n",
       "    <tr>\n",
       "      <th>2012-01-01</th>\n",
       "      <td>1.526752e+09</td>\n",
       "    </tr>\n",
       "    <tr>\n",
       "      <th>2013-01-01</th>\n",
       "      <td>1.521842e+09</td>\n",
       "    </tr>\n",
       "    <tr>\n",
       "      <th>2014-01-01</th>\n",
       "      <td>1.519316e+09</td>\n",
       "    </tr>\n",
       "    <tr>\n",
       "      <th>2015-01-01</th>\n",
       "      <td>1.519345e+09</td>\n",
       "    </tr>\n",
       "    <tr>\n",
       "      <th>2016-01-01</th>\n",
       "      <td>1.520499e+09</td>\n",
       "    </tr>\n",
       "    <tr>\n",
       "      <th>2017-01-01</th>\n",
       "      <td>1.521477e+09</td>\n",
       "    </tr>\n",
       "    <tr>\n",
       "      <th>2018-01-01</th>\n",
       "      <td>1.521799e+09</td>\n",
       "    </tr>\n",
       "    <tr>\n",
       "      <th>2019-01-01</th>\n",
       "      <td>1.521638e+09</td>\n",
       "    </tr>\n",
       "    <tr>\n",
       "      <th>2020-01-01</th>\n",
       "      <td>1.521357e+09</td>\n",
       "    </tr>\n",
       "    <tr>\n",
       "      <th>2021-01-01</th>\n",
       "      <td>1.521187e+09</td>\n",
       "    </tr>\n",
       "    <tr>\n",
       "      <th>2022-01-01</th>\n",
       "      <td>1.521167e+09</td>\n",
       "    </tr>\n",
       "    <tr>\n",
       "      <th>2023-01-01</th>\n",
       "      <td>1.521226e+09</td>\n",
       "    </tr>\n",
       "    <tr>\n",
       "      <th>2024-01-01</th>\n",
       "      <td>1.521285e+09</td>\n",
       "    </tr>\n",
       "    <tr>\n",
       "      <th>2025-01-01</th>\n",
       "      <td>1.521310e+09</td>\n",
       "    </tr>\n",
       "  </tbody>\n",
       "</table>\n",
       "</div>"
      ],
      "text/plain": [
       "            predicted_values\n",
       "Year                        \n",
       "1998-01-01      2.659579e+09\n",
       "1999-01-01      1.285874e+09\n",
       "2000-01-01      8.102696e+08\n",
       "2001-01-01      1.016550e+09\n",
       "2002-01-01      1.406217e+09\n",
       "2003-01-01      1.648279e+09\n",
       "2004-01-01      1.681695e+09\n",
       "2005-01-01      1.602114e+09\n",
       "2006-01-01      1.518894e+09\n",
       "2007-01-01      1.483085e+09\n",
       "2008-01-01      1.489579e+09\n",
       "2009-01-01      1.511165e+09\n",
       "2010-01-01      1.526779e+09\n",
       "2011-01-01      1.530523e+09\n",
       "2012-01-01      1.526752e+09\n",
       "2013-01-01      1.521842e+09\n",
       "2014-01-01      1.519316e+09\n",
       "2015-01-01      1.519345e+09\n",
       "2016-01-01      1.520499e+09\n",
       "2017-01-01      1.521477e+09\n",
       "2018-01-01      1.521799e+09\n",
       "2019-01-01      1.521638e+09\n",
       "2020-01-01      1.521357e+09\n",
       "2021-01-01      1.521187e+09\n",
       "2022-01-01      1.521167e+09\n",
       "2023-01-01      1.521226e+09\n",
       "2024-01-01      1.521285e+09\n",
       "2025-01-01      1.521310e+09"
      ]
     },
     "execution_count": 31,
     "metadata": {},
     "output_type": "execute_result"
    }
   ],
   "source": [
    "# Setting number of points to forecast\n",
    "\n",
    "no_of_years = 28\n",
    "\n",
    "# Generating forecast\n",
    "\n",
    "Forecast2 = pd.DataFrame(Arima_Model.predict(no_of_years), index = FuturePredictionDS.index)\n",
    "Forecast2.columns = ['predicted_values']\n",
    "Forecast2"
   ]
  },
  {
   "cell_type": "code",
   "execution_count": 35,
   "id": "dfd9dadf",
   "metadata": {},
   "outputs": [
    {
     "data": {
      "text/html": [
       "<div>\n",
       "<style scoped>\n",
       "    .dataframe tbody tr th:only-of-type {\n",
       "        vertical-align: middle;\n",
       "    }\n",
       "\n",
       "    .dataframe tbody tr th {\n",
       "        vertical-align: top;\n",
       "    }\n",
       "\n",
       "    .dataframe thead th {\n",
       "        text-align: right;\n",
       "    }\n",
       "</style>\n",
       "<table border=\"1\" class=\"dataframe\">\n",
       "  <thead>\n",
       "    <tr style=\"text-align: right;\">\n",
       "      <th></th>\n",
       "      <th>predicted_values</th>\n",
       "    </tr>\n",
       "    <tr>\n",
       "      <th>Year</th>\n",
       "      <th></th>\n",
       "    </tr>\n",
       "  </thead>\n",
       "  <tbody>\n",
       "    <tr>\n",
       "      <th>2020-01-01</th>\n",
       "      <td>2.659579e+09</td>\n",
       "    </tr>\n",
       "    <tr>\n",
       "      <th>2021-01-01</th>\n",
       "      <td>1.285874e+09</td>\n",
       "    </tr>\n",
       "    <tr>\n",
       "      <th>2022-01-01</th>\n",
       "      <td>8.102696e+08</td>\n",
       "    </tr>\n",
       "    <tr>\n",
       "      <th>2023-01-01</th>\n",
       "      <td>1.016550e+09</td>\n",
       "    </tr>\n",
       "    <tr>\n",
       "      <th>2024-01-01</th>\n",
       "      <td>1.406217e+09</td>\n",
       "    </tr>\n",
       "    <tr>\n",
       "      <th>2025-01-01</th>\n",
       "      <td>1.648279e+09</td>\n",
       "    </tr>\n",
       "  </tbody>\n",
       "</table>\n",
       "</div>"
      ],
      "text/plain": [
       "            predicted_values\n",
       "Year                        \n",
       "2020-01-01      2.659579e+09\n",
       "2021-01-01      1.285874e+09\n",
       "2022-01-01      8.102696e+08\n",
       "2023-01-01      1.016550e+09\n",
       "2024-01-01      1.406217e+09\n",
       "2025-01-01      1.648279e+09"
      ]
     },
     "execution_count": 35,
     "metadata": {},
     "output_type": "execute_result"
    }
   ],
   "source": [
    "Test_Prediction1"
   ]
  },
  {
   "cell_type": "code",
   "execution_count": 32,
   "id": "6a322dc1",
   "metadata": {},
   "outputs": [
    {
     "data": {
      "image/png": "[encoded data removed]",
      "text/plain": [
       "<Figure size 432x288 with 1 Axes>"
      ]
     },
     "metadata": {
      "needs_background": "light"
     },
     "output_type": "display_data"
    }
   ],
   "source": [
    "# Plot the Forcasted Data on graph\n",
    "\n",
    "\n",
    "F_P_agn = Forecast2[-6:] # Picking the last 6 years of data from Predicted Values Dataframe(Forecast 2).\n",
    "\n",
    "Test_Prediction1 = pd.DataFrame(Arima_Model.predict(n_periods = 6), index = F_P_agn.index)\n",
    "Test_Prediction1.columns = ['predicted_values']\n",
    "\n",
    "\n",
    "F2_train = Oats_Prod[:24] # Picking data for first 24 years from our original train model.\n",
    "\n",
    "\n",
    "plt.plot(F2_train)\n",
    "plt.plot(Test_Prediction1)  # Picking the last 6 years of data from Predicted Values Dataframe(Test_Prediction1).\n",
    "\n",
    "\n",
    "# Set axis labels\n",
    "\n",
    "plt.xlabel('Time in years')\n",
    "plt.ylabel('Oats Production')\n",
    "\n",
    "plt.show()"
   ]
  },
  {
   "cell_type": "code",
   "execution_count": 33,
   "id": "d7b44970",
   "metadata": {},
   "outputs": [],
   "source": [
    "# So here we can see, in original data the production of Oats is a little higher than the predicted values for the same year."
   ]
  },
  {
   "cell_type": "code",
   "execution_count": 36,
   "id": "23c34270",
   "metadata": {},
   "outputs": [],
   "source": [
    "# 2023 Honey Prediction Values based on Oats Commodity Forecasting, \n",
    "\n",
    "## Using Oats ~ Honey linear regression equation performed in DataExploration_GrainsvsHoneyTime :\n",
    "# y = 30.22(Honey) - 730466.5\n",
    "\n",
    "# US Oats production for 2023 is forecasted at 1.016550e+09, or 101,655,00 Metric Tons\n",
    "\n",
    "# 10165500 = 30.22(Honey) - 730466.5\n",
    "\n",
    "# 360,554.8 = 2023 MT Honey Prediction based on Oats Forecasting \n",
    "\n",
    "# Based on ARIMA forecasting of highly correlated commodity Oats(with honey) and their linear relationship;\n",
    "# The production of Honey looks promising."
   ]
  }
 ],
 "metadata": {
  "kernelspec": {
   "display_name": "Python 3 (ipykernel)",
   "language": "python",
   "name": "python3"
  },
  "language_info": {
   "codemirror_mode": {
    "name": "ipython",
    "version": 3
   },
   "file_extension": ".py",
   "mimetype": "text/x-python",
   "name": "python",
   "nbconvert_exporter": "python",
   "pygments_lexer": "ipython3",
   "version": "3.9.9"
  }
 },
 "nbformat": 4,
 "nbformat_minor": 5
}
